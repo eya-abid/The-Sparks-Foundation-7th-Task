{
  "nbformat": 4,
  "nbformat_minor": 0,
  "metadata": {
    "colab": {
      "name": "Task_07_TSF_GRIP.ipynb",
      "provenance": []
    },
    "kernelspec": {
      "name": "python3",
      "display_name": "Python 3"
    },
    "language_info": {
      "name": "python"
    }
  },
  "cells": [
    {
      "cell_type": "markdown",
      "metadata": {
        "id": "h3SGu2_jswO7"
      },
      "source": [
        "\n",
        "# ***`Hello, my name is EYA ABID. I'm an intern @ The Sparks Foundation, and this is my attempt completing the 7th task (advanced level) from the task list.`***\n",
        "\n",
        "---\n",
        "\n"
      ]
    },
    {
      "cell_type": "markdown",
      "metadata": {
        "id": "nZ4uptJBs-nE"
      },
      "source": [
        "# ***`The main mission is to create a hybrid model for stock price/performance prediction using numerical analysis of historical stock prices, and sentimental analysis of news headlines.`***\n",
        "\n",
        "---\n",
        "\n"
      ]
    },
    {
      "cell_type": "markdown",
      "metadata": {
        "id": "AQg2jd46uC2p"
      },
      "source": [
        "***1st, to install the necessary Dataset, we need to install \"yfinance\", which is a python library that offers a reliable, threaded, and Pythonic way to download historical market data from Yahoo! finance. (for more details: https://pypi.org/project/yfinance/)***\n",
        "\n",
        "---"
      ]
    },
    {
      "cell_type": "code",
      "metadata": {
        "colab": {
          "base_uri": "https://localhost:8080/"
        },
        "id": "6P7y6JpAsvUV",
        "outputId": "0ec79d13-7c0a-4abb-b8eb-a690a5fcaada"
      },
      "source": [
        "pip install yfinance --upgrade --no-cache-dir"
      ],
      "execution_count": 2,
      "outputs": [
        {
          "output_type": "stream",
          "text": [
            "Collecting yfinance\n",
            "  Downloading https://files.pythonhosted.org/packages/a7/ee/315752b9ef281ba83c62aa7ec2e2074f85223da6e7e74efb4d3e11c0f510/yfinance-0.1.59.tar.gz\n",
            "Requirement already satisfied, skipping upgrade: pandas>=0.24 in /usr/local/lib/python3.7/dist-packages (from yfinance) (1.1.5)\n",
            "Requirement already satisfied, skipping upgrade: numpy>=1.15 in /usr/local/lib/python3.7/dist-packages (from yfinance) (1.19.5)\n",
            "Requirement already satisfied, skipping upgrade: requests>=2.20 in /usr/local/lib/python3.7/dist-packages (from yfinance) (2.23.0)\n",
            "Requirement already satisfied, skipping upgrade: multitasking>=0.0.7 in /usr/local/lib/python3.7/dist-packages (from yfinance) (0.0.9)\n",
            "Collecting lxml>=4.5.1\n",
            "\u001b[?25l  Downloading https://files.pythonhosted.org/packages/30/c0/d0526314971fc661b083ab135747dc68446a3022686da8c16d25fcf6ef07/lxml-4.6.3-cp37-cp37m-manylinux2014_x86_64.whl (6.3MB)\n",
            "\u001b[K     |████████████████████████████████| 6.3MB 5.3MB/s \n",
            "\u001b[?25hRequirement already satisfied, skipping upgrade: pytz>=2017.2 in /usr/local/lib/python3.7/dist-packages (from pandas>=0.24->yfinance) (2018.9)\n",
            "Requirement already satisfied, skipping upgrade: python-dateutil>=2.7.3 in /usr/local/lib/python3.7/dist-packages (from pandas>=0.24->yfinance) (2.8.1)\n",
            "Requirement already satisfied, skipping upgrade: chardet<4,>=3.0.2 in /usr/local/lib/python3.7/dist-packages (from requests>=2.20->yfinance) (3.0.4)\n",
            "Requirement already satisfied, skipping upgrade: urllib3!=1.25.0,!=1.25.1,<1.26,>=1.21.1 in /usr/local/lib/python3.7/dist-packages (from requests>=2.20->yfinance) (1.24.3)\n",
            "Requirement already satisfied, skipping upgrade: certifi>=2017.4.17 in /usr/local/lib/python3.7/dist-packages (from requests>=2.20->yfinance) (2021.5.30)\n",
            "Requirement already satisfied, skipping upgrade: idna<3,>=2.5 in /usr/local/lib/python3.7/dist-packages (from requests>=2.20->yfinance) (2.10)\n",
            "Requirement already satisfied, skipping upgrade: six>=1.5 in /usr/local/lib/python3.7/dist-packages (from python-dateutil>=2.7.3->pandas>=0.24->yfinance) (1.15.0)\n",
            "Building wheels for collected packages: yfinance\n",
            "  Building wheel for yfinance (setup.py) ... \u001b[?25l\u001b[?25hdone\n",
            "  Created wheel for yfinance: filename=yfinance-0.1.59-py2.py3-none-any.whl size=23455 sha256=5860d002ddb64b5c2b9da1a4dbc44098cb3b5ebc80b283c2a195321995d08c82\n",
            "  Stored in directory: /tmp/pip-ephem-wheel-cache-w5xbr5fa/wheels/f8/2a/0f/4b5a86e1d52e451757eb6bc17fd899629f0925c777741b6d04\n",
            "Successfully built yfinance\n",
            "Installing collected packages: lxml, yfinance\n",
            "  Found existing installation: lxml 4.2.6\n",
            "    Uninstalling lxml-4.2.6:\n",
            "      Successfully uninstalled lxml-4.2.6\n",
            "Successfully installed lxml-4.6.3 yfinance-0.1.59\n"
          ],
          "name": "stdout"
        }
      ]
    },
    {
      "cell_type": "markdown",
      "metadata": {
        "id": "qjcAPFddvtDp"
      },
      "source": [
        "***Now, we ensure that we have our needed libraries such as pandas, numpy, warnings, matplotlib, \"altair\" (which is a declarative statistical visualization library for Python, more @ https://altair-viz.github.io), sikit-learn, and the \"statsmodels\" api (which is a Python module that provides classes and functions for the estimation of many different statistical models, as well as for conducting statistical tests, and statistical data exploration, more @ https://www.statsmodels.org/stable/index.html)***"
      ]
    },
    {
      "cell_type": "code",
      "metadata": {
        "colab": {
          "base_uri": "https://localhost:8080/"
        },
        "id": "NzI3r5aHxELY",
        "outputId": "53a61255-725a-4042-cc8e-22c65c4ee3ea"
      },
      "source": [
        "import pandas as pd\n",
        "import numpy as np\n",
        "\n",
        "import matplotlib.pyplot as plt\n",
        "%matplotlib inline\n",
        "\n",
        "import statsmodels.api as sm\n",
        "\n",
        "import altair as alt\n",
        " \n",
        "\n",
        "from sklearn.metrics import mean_squared_error\n",
        "from sklearn.multioutput import RegressorChain\n",
        "from sklearn.model_selection import ShuffleSplit\n",
        "from sklearn.metrics import mean_absolute_error\n",
        "from sklearn.metrics import r2_score\n",
        "from sklearn.ensemble import RandomForestRegressor"
      ],
      "execution_count": 3,
      "outputs": [
        {
          "output_type": "stream",
          "text": [
            "/usr/local/lib/python3.7/dist-packages/statsmodels/tools/_testing.py:19: FutureWarning: pandas.util.testing is deprecated. Use the functions in the public API at pandas.testing instead.\n",
            "  import pandas.util.testing as tm\n"
          ],
          "name": "stderr"
        }
      ]
    },
    {
      "cell_type": "code",
      "metadata": {
        "id": "D7S1IYsqybPA"
      },
      "source": [
        "#here we are ignoring the warnings\n",
        "import warnings\n",
        "warnings.filterwarnings('ignore')"
      ],
      "execution_count": 4,
      "outputs": []
    },
    {
      "cell_type": "markdown",
      "metadata": {
        "id": "wmhXMa8FzA41"
      },
      "source": [
        "***Now, we import our Dataset. We will pick a start and an end date, because the textual data itself is limited to a specific timeframe. We will keep the last day for the prediction output. Then, we will rename the columns into lower case format***"
      ]
    },
    {
      "cell_type": "code",
      "metadata": {
        "colab": {
          "base_uri": "https://localhost:8080/"
        },
        "id": "1KYet60BzlQv",
        "outputId": "d2aad685-f611-483c-9c7a-78c69d97173c"
      },
      "source": [
        "import yfinance as yf\n",
        "bse_data = yf.download('^BSESN', start='2015-01-01', end='2020-06-30')\n",
        "unseenbse_data = yf.download('^BSESN', start='2020-06-30', end='2020-07-01')"
      ],
      "execution_count": 5,
      "outputs": [
        {
          "output_type": "stream",
          "text": [
            "[*********************100%***********************]  1 of 1 completed\n",
            "[*********************100%***********************]  1 of 1 completed\n"
          ],
          "name": "stdout"
        }
      ]
    },
    {
      "cell_type": "code",
      "metadata": {
        "colab": {
          "base_uri": "https://localhost:8080/"
        },
        "id": "5leBhCUECd5p",
        "outputId": "1e2b3347-6531-4376-b430-61b4caabce9c"
      },
      "source": [
        "bse_data.columns\n",
        "unseenbse_data.columns\n",
        "bse_data.rename(columns={'Open': 'open', 'High': 'high', 'Low': 'low', 'Close': 'close', 'Adj Close': 'adjclose', 'Volume': 'volume'}, inplace = True)\n",
        "unseenbse_data.rename(columns={'Open': 'open', 'High': 'high', 'Low': 'low', 'Close': 'close', 'Adj Close': 'adjclose', 'Volume': 'volume'}, inplace = True)\n",
        "bse_data.info()\n",
        "unseenbse_data.info()"
      ],
      "execution_count": 6,
      "outputs": [
        {
          "output_type": "stream",
          "text": [
            "<class 'pandas.core.frame.DataFrame'>\n",
            "DatetimeIndex: 1345 entries, 2015-01-02 to 2020-06-29\n",
            "Data columns (total 6 columns):\n",
            " #   Column    Non-Null Count  Dtype  \n",
            "---  ------    --------------  -----  \n",
            " 0   open      1345 non-null   float64\n",
            " 1   high      1345 non-null   float64\n",
            " 2   low       1345 non-null   float64\n",
            " 3   close     1345 non-null   float64\n",
            " 4   adjclose  1345 non-null   float64\n",
            " 5   volume    1345 non-null   int64  \n",
            "dtypes: float64(5), int64(1)\n",
            "memory usage: 73.6 KB\n",
            "<class 'pandas.core.frame.DataFrame'>\n",
            "DatetimeIndex: 1 entries, 2020-06-30 to 2020-06-30\n",
            "Data columns (total 6 columns):\n",
            " #   Column    Non-Null Count  Dtype  \n",
            "---  ------    --------------  -----  \n",
            " 0   open      1 non-null      float64\n",
            " 1   high      1 non-null      float64\n",
            " 2   low       1 non-null      float64\n",
            " 3   close     1 non-null      float64\n",
            " 4   adjclose  1 non-null      float64\n",
            " 5   volume    1 non-null      int64  \n",
            "dtypes: float64(5), int64(1)\n",
            "memory usage: 56.0 bytes\n"
          ],
          "name": "stdout"
        }
      ]
    },
    {
      "cell_type": "markdown",
      "metadata": {
        "id": "_NhxZm0gDbwm"
      },
      "source": [
        "***We inspect the first and the last rows from the training and testing dataset, and from the prediction dataset (last days)***"
      ]
    },
    {
      "cell_type": "code",
      "metadata": {
        "colab": {
          "base_uri": "https://localhost:8080/",
          "height": 225
        },
        "id": "eHgJikJ3DsVA",
        "outputId": "a3607b95-0090-48a6-bc9f-efa3c03c4b62"
      },
      "source": [
        "bse_data.head()"
      ],
      "execution_count": 7,
      "outputs": [
        {
          "output_type": "execute_result",
          "data": {
            "text/html": [
              "<div>\n",
              "<style scoped>\n",
              "    .dataframe tbody tr th:only-of-type {\n",
              "        vertical-align: middle;\n",
              "    }\n",
              "\n",
              "    .dataframe tbody tr th {\n",
              "        vertical-align: top;\n",
              "    }\n",
              "\n",
              "    .dataframe thead th {\n",
              "        text-align: right;\n",
              "    }\n",
              "</style>\n",
              "<table border=\"1\" class=\"dataframe\">\n",
              "  <thead>\n",
              "    <tr style=\"text-align: right;\">\n",
              "      <th></th>\n",
              "      <th>open</th>\n",
              "      <th>high</th>\n",
              "      <th>low</th>\n",
              "      <th>close</th>\n",
              "      <th>adjclose</th>\n",
              "      <th>volume</th>\n",
              "    </tr>\n",
              "    <tr>\n",
              "      <th>Date</th>\n",
              "      <th></th>\n",
              "      <th></th>\n",
              "      <th></th>\n",
              "      <th></th>\n",
              "      <th></th>\n",
              "      <th></th>\n",
              "    </tr>\n",
              "  </thead>\n",
              "  <tbody>\n",
              "    <tr>\n",
              "      <th>2015-01-02</th>\n",
              "      <td>27521.279297</td>\n",
              "      <td>27937.470703</td>\n",
              "      <td>27519.259766</td>\n",
              "      <td>27887.900391</td>\n",
              "      <td>27887.900391</td>\n",
              "      <td>7400</td>\n",
              "    </tr>\n",
              "    <tr>\n",
              "      <th>2015-01-05</th>\n",
              "      <td>27978.429688</td>\n",
              "      <td>28064.490234</td>\n",
              "      <td>27786.849609</td>\n",
              "      <td>27842.320312</td>\n",
              "      <td>27842.320312</td>\n",
              "      <td>9200</td>\n",
              "    </tr>\n",
              "    <tr>\n",
              "      <th>2015-01-06</th>\n",
              "      <td>27694.230469</td>\n",
              "      <td>27698.929688</td>\n",
              "      <td>26937.060547</td>\n",
              "      <td>26987.460938</td>\n",
              "      <td>26987.460938</td>\n",
              "      <td>14100</td>\n",
              "    </tr>\n",
              "    <tr>\n",
              "      <th>2015-01-07</th>\n",
              "      <td>26983.429688</td>\n",
              "      <td>27051.599609</td>\n",
              "      <td>26776.119141</td>\n",
              "      <td>26908.820312</td>\n",
              "      <td>26908.820312</td>\n",
              "      <td>12200</td>\n",
              "    </tr>\n",
              "    <tr>\n",
              "      <th>2015-01-08</th>\n",
              "      <td>27178.769531</td>\n",
              "      <td>27316.410156</td>\n",
              "      <td>27101.939453</td>\n",
              "      <td>27274.710938</td>\n",
              "      <td>27274.710938</td>\n",
              "      <td>8200</td>\n",
              "    </tr>\n",
              "  </tbody>\n",
              "</table>\n",
              "</div>"
            ],
            "text/plain": [
              "                    open          high  ...      adjclose  volume\n",
              "Date                                    ...                      \n",
              "2015-01-02  27521.279297  27937.470703  ...  27887.900391    7400\n",
              "2015-01-05  27978.429688  28064.490234  ...  27842.320312    9200\n",
              "2015-01-06  27694.230469  27698.929688  ...  26987.460938   14100\n",
              "2015-01-07  26983.429688  27051.599609  ...  26908.820312   12200\n",
              "2015-01-08  27178.769531  27316.410156  ...  27274.710938    8200\n",
              "\n",
              "[5 rows x 6 columns]"
            ]
          },
          "metadata": {
            "tags": []
          },
          "execution_count": 7
        }
      ]
    },
    {
      "cell_type": "code",
      "metadata": {
        "colab": {
          "base_uri": "https://localhost:8080/",
          "height": 225
        },
        "id": "YIMOu68cDyXl",
        "outputId": "7164bb29-ff98-49fa-c7a0-dc5bb3541b4f"
      },
      "source": [
        "bse_data.tail()"
      ],
      "execution_count": 8,
      "outputs": [
        {
          "output_type": "execute_result",
          "data": {
            "text/html": [
              "<div>\n",
              "<style scoped>\n",
              "    .dataframe tbody tr th:only-of-type {\n",
              "        vertical-align: middle;\n",
              "    }\n",
              "\n",
              "    .dataframe tbody tr th {\n",
              "        vertical-align: top;\n",
              "    }\n",
              "\n",
              "    .dataframe thead th {\n",
              "        text-align: right;\n",
              "    }\n",
              "</style>\n",
              "<table border=\"1\" class=\"dataframe\">\n",
              "  <thead>\n",
              "    <tr style=\"text-align: right;\">\n",
              "      <th></th>\n",
              "      <th>open</th>\n",
              "      <th>high</th>\n",
              "      <th>low</th>\n",
              "      <th>close</th>\n",
              "      <th>adjclose</th>\n",
              "      <th>volume</th>\n",
              "    </tr>\n",
              "    <tr>\n",
              "      <th>Date</th>\n",
              "      <th></th>\n",
              "      <th></th>\n",
              "      <th></th>\n",
              "      <th></th>\n",
              "      <th></th>\n",
              "      <th></th>\n",
              "    </tr>\n",
              "  </thead>\n",
              "  <tbody>\n",
              "    <tr>\n",
              "      <th>2020-06-23</th>\n",
              "      <td>35015.730469</td>\n",
              "      <td>35482.160156</td>\n",
              "      <td>34843.691406</td>\n",
              "      <td>35430.429688</td>\n",
              "      <td>35430.429688</td>\n",
              "      <td>25200</td>\n",
              "    </tr>\n",
              "    <tr>\n",
              "      <th>2020-06-24</th>\n",
              "      <td>35679.738281</td>\n",
              "      <td>35706.550781</td>\n",
              "      <td>34794.929688</td>\n",
              "      <td>34868.980469</td>\n",
              "      <td>34868.980469</td>\n",
              "      <td>26600</td>\n",
              "    </tr>\n",
              "    <tr>\n",
              "      <th>2020-06-25</th>\n",
              "      <td>34525.390625</td>\n",
              "      <td>35081.609375</td>\n",
              "      <td>34499.781250</td>\n",
              "      <td>34842.101562</td>\n",
              "      <td>34842.101562</td>\n",
              "      <td>24600</td>\n",
              "    </tr>\n",
              "    <tr>\n",
              "      <th>2020-06-26</th>\n",
              "      <td>35144.781250</td>\n",
              "      <td>35254.878906</td>\n",
              "      <td>34910.339844</td>\n",
              "      <td>35171.269531</td>\n",
              "      <td>35171.269531</td>\n",
              "      <td>24800</td>\n",
              "    </tr>\n",
              "    <tr>\n",
              "      <th>2020-06-29</th>\n",
              "      <td>34926.949219</td>\n",
              "      <td>35032.359375</td>\n",
              "      <td>34662.058594</td>\n",
              "      <td>34961.519531</td>\n",
              "      <td>34961.519531</td>\n",
              "      <td>18300</td>\n",
              "    </tr>\n",
              "  </tbody>\n",
              "</table>\n",
              "</div>"
            ],
            "text/plain": [
              "                    open          high  ...      adjclose  volume\n",
              "Date                                    ...                      \n",
              "2020-06-23  35015.730469  35482.160156  ...  35430.429688   25200\n",
              "2020-06-24  35679.738281  35706.550781  ...  34868.980469   26600\n",
              "2020-06-25  34525.390625  35081.609375  ...  34842.101562   24600\n",
              "2020-06-26  35144.781250  35254.878906  ...  35171.269531   24800\n",
              "2020-06-29  34926.949219  35032.359375  ...  34961.519531   18300\n",
              "\n",
              "[5 rows x 6 columns]"
            ]
          },
          "metadata": {
            "tags": []
          },
          "execution_count": 8
        }
      ]
    },
    {
      "cell_type": "code",
      "metadata": {
        "colab": {
          "base_uri": "https://localhost:8080/",
          "height": 106
        },
        "id": "zke9UE_nD4zT",
        "outputId": "8dbf9da7-b833-4dd3-cfee-603a413ac319"
      },
      "source": [
        "unseenbse_data.head()"
      ],
      "execution_count": 12,
      "outputs": [
        {
          "output_type": "execute_result",
          "data": {
            "text/html": [
              "<div>\n",
              "<style scoped>\n",
              "    .dataframe tbody tr th:only-of-type {\n",
              "        vertical-align: middle;\n",
              "    }\n",
              "\n",
              "    .dataframe tbody tr th {\n",
              "        vertical-align: top;\n",
              "    }\n",
              "\n",
              "    .dataframe thead th {\n",
              "        text-align: right;\n",
              "    }\n",
              "</style>\n",
              "<table border=\"1\" class=\"dataframe\">\n",
              "  <thead>\n",
              "    <tr style=\"text-align: right;\">\n",
              "      <th></th>\n",
              "      <th>open</th>\n",
              "      <th>high</th>\n",
              "      <th>low</th>\n",
              "      <th>close</th>\n",
              "      <th>adjclose</th>\n",
              "      <th>volume</th>\n",
              "    </tr>\n",
              "    <tr>\n",
              "      <th>Date</th>\n",
              "      <th></th>\n",
              "      <th></th>\n",
              "      <th></th>\n",
              "      <th></th>\n",
              "      <th></th>\n",
              "      <th></th>\n",
              "    </tr>\n",
              "  </thead>\n",
              "  <tbody>\n",
              "    <tr>\n",
              "      <th>2020-06-30</th>\n",
              "      <td>35168.300781</td>\n",
              "      <td>35233.910156</td>\n",
              "      <td>34812.800781</td>\n",
              "      <td>34915.800781</td>\n",
              "      <td>34915.800781</td>\n",
              "      <td>18500</td>\n",
              "    </tr>\n",
              "  </tbody>\n",
              "</table>\n",
              "</div>"
            ],
            "text/plain": [
              "                    open          high  ...      adjclose  volume\n",
              "Date                                    ...                      \n",
              "2020-06-30  35168.300781  35233.910156  ...  34915.800781   18500\n",
              "\n",
              "[1 rows x 6 columns]"
            ]
          },
          "metadata": {
            "tags": []
          },
          "execution_count": 12
        }
      ]
    },
    {
      "cell_type": "markdown",
      "metadata": {
        "id": "6U6j-PLdFCb9"
      },
      "source": [
        "***We notice that the Date column is not considered a column name in this Dataset, so we fix this by resetting the indexes and renaming the column***"
      ]
    },
    {
      "cell_type": "code",
      "metadata": {
        "colab": {
          "base_uri": "https://localhost:8080/",
          "height": 195
        },
        "id": "SLe_q1NTFvCW",
        "outputId": "620cbb60-7d11-4267-fd62-999420801b37"
      },
      "source": [
        "bse_data.reset_index(inplace=True)\n",
        "bse_data.rename(columns={'Date': 'date'}, inplace = True)\n",
        "bse_data.head()"
      ],
      "execution_count": 9,
      "outputs": [
        {
          "output_type": "execute_result",
          "data": {
            "text/html": [
              "<div>\n",
              "<style scoped>\n",
              "    .dataframe tbody tr th:only-of-type {\n",
              "        vertical-align: middle;\n",
              "    }\n",
              "\n",
              "    .dataframe tbody tr th {\n",
              "        vertical-align: top;\n",
              "    }\n",
              "\n",
              "    .dataframe thead th {\n",
              "        text-align: right;\n",
              "    }\n",
              "</style>\n",
              "<table border=\"1\" class=\"dataframe\">\n",
              "  <thead>\n",
              "    <tr style=\"text-align: right;\">\n",
              "      <th></th>\n",
              "      <th>date</th>\n",
              "      <th>open</th>\n",
              "      <th>high</th>\n",
              "      <th>low</th>\n",
              "      <th>close</th>\n",
              "      <th>adjclose</th>\n",
              "      <th>volume</th>\n",
              "    </tr>\n",
              "  </thead>\n",
              "  <tbody>\n",
              "    <tr>\n",
              "      <th>0</th>\n",
              "      <td>2015-01-02</td>\n",
              "      <td>27521.279297</td>\n",
              "      <td>27937.470703</td>\n",
              "      <td>27519.259766</td>\n",
              "      <td>27887.900391</td>\n",
              "      <td>27887.900391</td>\n",
              "      <td>7400</td>\n",
              "    </tr>\n",
              "    <tr>\n",
              "      <th>1</th>\n",
              "      <td>2015-01-05</td>\n",
              "      <td>27978.429688</td>\n",
              "      <td>28064.490234</td>\n",
              "      <td>27786.849609</td>\n",
              "      <td>27842.320312</td>\n",
              "      <td>27842.320312</td>\n",
              "      <td>9200</td>\n",
              "    </tr>\n",
              "    <tr>\n",
              "      <th>2</th>\n",
              "      <td>2015-01-06</td>\n",
              "      <td>27694.230469</td>\n",
              "      <td>27698.929688</td>\n",
              "      <td>26937.060547</td>\n",
              "      <td>26987.460938</td>\n",
              "      <td>26987.460938</td>\n",
              "      <td>14100</td>\n",
              "    </tr>\n",
              "    <tr>\n",
              "      <th>3</th>\n",
              "      <td>2015-01-07</td>\n",
              "      <td>26983.429688</td>\n",
              "      <td>27051.599609</td>\n",
              "      <td>26776.119141</td>\n",
              "      <td>26908.820312</td>\n",
              "      <td>26908.820312</td>\n",
              "      <td>12200</td>\n",
              "    </tr>\n",
              "    <tr>\n",
              "      <th>4</th>\n",
              "      <td>2015-01-08</td>\n",
              "      <td>27178.769531</td>\n",
              "      <td>27316.410156</td>\n",
              "      <td>27101.939453</td>\n",
              "      <td>27274.710938</td>\n",
              "      <td>27274.710938</td>\n",
              "      <td>8200</td>\n",
              "    </tr>\n",
              "  </tbody>\n",
              "</table>\n",
              "</div>"
            ],
            "text/plain": [
              "        date          open          high  ...         close      adjclose  volume\n",
              "0 2015-01-02  27521.279297  27937.470703  ...  27887.900391  27887.900391    7400\n",
              "1 2015-01-05  27978.429688  28064.490234  ...  27842.320312  27842.320312    9200\n",
              "2 2015-01-06  27694.230469  27698.929688  ...  26987.460938  26987.460938   14100\n",
              "3 2015-01-07  26983.429688  27051.599609  ...  26908.820312  26908.820312   12200\n",
              "4 2015-01-08  27178.769531  27316.410156  ...  27274.710938  27274.710938    8200\n",
              "\n",
              "[5 rows x 7 columns]"
            ]
          },
          "metadata": {
            "tags": []
          },
          "execution_count": 9
        }
      ]
    },
    {
      "cell_type": "code",
      "metadata": {
        "colab": {
          "base_uri": "https://localhost:8080/",
          "height": 77
        },
        "id": "R2e0cBI-GBQ_",
        "outputId": "092b0226-3da8-4791-b41e-314734fea77d"
      },
      "source": [
        "unseenbse_data.reset_index(inplace=True)\n",
        "unseenbse_data.rename(columns={'Date': 'date'}, inplace = True)\n",
        "unseenbse_data.head()"
      ],
      "execution_count": 10,
      "outputs": [
        {
          "output_type": "execute_result",
          "data": {
            "text/html": [
              "<div>\n",
              "<style scoped>\n",
              "    .dataframe tbody tr th:only-of-type {\n",
              "        vertical-align: middle;\n",
              "    }\n",
              "\n",
              "    .dataframe tbody tr th {\n",
              "        vertical-align: top;\n",
              "    }\n",
              "\n",
              "    .dataframe thead th {\n",
              "        text-align: right;\n",
              "    }\n",
              "</style>\n",
              "<table border=\"1\" class=\"dataframe\">\n",
              "  <thead>\n",
              "    <tr style=\"text-align: right;\">\n",
              "      <th></th>\n",
              "      <th>date</th>\n",
              "      <th>open</th>\n",
              "      <th>high</th>\n",
              "      <th>low</th>\n",
              "      <th>close</th>\n",
              "      <th>adjclose</th>\n",
              "      <th>volume</th>\n",
              "    </tr>\n",
              "  </thead>\n",
              "  <tbody>\n",
              "    <tr>\n",
              "      <th>0</th>\n",
              "      <td>2020-06-30</td>\n",
              "      <td>35168.300781</td>\n",
              "      <td>35233.910156</td>\n",
              "      <td>34812.800781</td>\n",
              "      <td>34915.800781</td>\n",
              "      <td>34915.800781</td>\n",
              "      <td>18500</td>\n",
              "    </tr>\n",
              "  </tbody>\n",
              "</table>\n",
              "</div>"
            ],
            "text/plain": [
              "        date          open          high  ...         close      adjclose  volume\n",
              "0 2020-06-30  35168.300781  35233.910156  ...  34915.800781  34915.800781   18500\n",
              "\n",
              "[1 rows x 7 columns]"
            ]
          },
          "metadata": {
            "tags": []
          },
          "execution_count": 10
        }
      ]
    },
    {
      "cell_type": "markdown",
      "metadata": {
        "id": "LHWTEhC1HDkt"
      },
      "source": [
        "***Now that every column is well indexed and formatted, we are going to reform the date***"
      ]
    },
    {
      "cell_type": "code",
      "metadata": {
        "id": "76FUMa-qHVxt"
      },
      "source": [
        "bse_data['date'] = pd.to_datetime(bse_data['date'], format = '%Y%m%d')\n",
        "unseenbse_data['date'] = pd.to_datetime(unseenbse_data['date'], format = '%Y%m%d')"
      ],
      "execution_count": 11,
      "outputs": []
    },
    {
      "cell_type": "markdown",
      "metadata": {
        "id": "yrkllr1YHyrF"
      },
      "source": [
        "***Now, let's calculate the actual price in the prediction dataset***"
      ]
    },
    {
      "cell_type": "code",
      "metadata": {
        "colab": {
          "base_uri": "https://localhost:8080/"
        },
        "id": "c609YZpgH71g",
        "outputId": "1ba6dd85-c4d8-4448-f122-956453afd65b"
      },
      "source": [
        "unseenbsedata_price = (unseenbse_data['high'] + unseenbse_data['low'] + unseenbse_data['close'])/ 3\n",
        "unseenbsedata_price"
      ],
      "execution_count": 12,
      "outputs": [
        {
          "output_type": "execute_result",
          "data": {
            "text/plain": [
              "0    34987.503906\n",
              "dtype: float64"
            ]
          },
          "metadata": {
            "tags": []
          },
          "execution_count": 12
        }
      ]
    },
    {
      "cell_type": "markdown",
      "metadata": {
        "id": "9gNNVX15IT8E"
      },
      "source": [
        "***We are using Rolling window analysis of time series by creating week moving average of closing price of BSE index.*** "
      ]
    },
    {
      "cell_type": "code",
      "metadata": {
        "id": "l2UXMwKfI5ip"
      },
      "source": [
        "def stock_weekmovingavg(wks, df):\n",
        "  dateclose_data = pd.DataFrame({'date': df['date'], 'close':df['close']})\n",
        "  dateclose_data.set_index('date', inplace=True)\n",
        "  num = wks * 5 \n",
        "  #calculating the number of days in the week. 5 days because BSE is open for 5 days / week\n",
        "  dateclose_data['movingavg'] = dateclose_data['close'].rolling(window=num).mean().shift()\n",
        "  return dateclose_data.dropna()"
      ],
      "execution_count": 13,
      "outputs": []
    },
    {
      "cell_type": "markdown",
      "metadata": {
        "id": "JZwHRCVPJKhn"
      },
      "source": [
        "***We choose the number of weeks as 4 and we do the visualisation job***"
      ]
    },
    {
      "cell_type": "code",
      "metadata": {
        "colab": {
          "base_uri": "https://localhost:8080/",
          "height": 225
        },
        "id": "_mXxQUURJQg-",
        "outputId": "7e1b1d76-1a5f-4512-ac5a-73cf124923ed"
      },
      "source": [
        "stock_weekmovingavg(4, bse_data).head()"
      ],
      "execution_count": 14,
      "outputs": [
        {
          "output_type": "execute_result",
          "data": {
            "text/html": [
              "<div>\n",
              "<style scoped>\n",
              "    .dataframe tbody tr th:only-of-type {\n",
              "        vertical-align: middle;\n",
              "    }\n",
              "\n",
              "    .dataframe tbody tr th {\n",
              "        vertical-align: top;\n",
              "    }\n",
              "\n",
              "    .dataframe thead th {\n",
              "        text-align: right;\n",
              "    }\n",
              "</style>\n",
              "<table border=\"1\" class=\"dataframe\">\n",
              "  <thead>\n",
              "    <tr style=\"text-align: right;\">\n",
              "      <th></th>\n",
              "      <th>close</th>\n",
              "      <th>movingavg</th>\n",
              "    </tr>\n",
              "    <tr>\n",
              "      <th>date</th>\n",
              "      <th></th>\n",
              "      <th></th>\n",
              "    </tr>\n",
              "  </thead>\n",
              "  <tbody>\n",
              "    <tr>\n",
              "      <th>2015-02-02</th>\n",
              "      <td>29122.269531</td>\n",
              "      <td>28256.509570</td>\n",
              "    </tr>\n",
              "    <tr>\n",
              "      <th>2015-02-03</th>\n",
              "      <td>29000.140625</td>\n",
              "      <td>28318.228027</td>\n",
              "    </tr>\n",
              "    <tr>\n",
              "      <th>2015-02-04</th>\n",
              "      <td>28883.109375</td>\n",
              "      <td>28376.119043</td>\n",
              "    </tr>\n",
              "    <tr>\n",
              "      <th>2015-02-05</th>\n",
              "      <td>28850.970703</td>\n",
              "      <td>28470.901465</td>\n",
              "    </tr>\n",
              "    <tr>\n",
              "      <th>2015-02-06</th>\n",
              "      <td>28717.910156</td>\n",
              "      <td>28568.008984</td>\n",
              "    </tr>\n",
              "  </tbody>\n",
              "</table>\n",
              "</div>"
            ],
            "text/plain": [
              "                   close     movingavg\n",
              "date                                  \n",
              "2015-02-02  29122.269531  28256.509570\n",
              "2015-02-03  29000.140625  28318.228027\n",
              "2015-02-04  28883.109375  28376.119043\n",
              "2015-02-05  28850.970703  28470.901465\n",
              "2015-02-06  28717.910156  28568.008984"
            ]
          },
          "metadata": {
            "tags": []
          },
          "execution_count": 14
        }
      ]
    },
    {
      "cell_type": "code",
      "metadata": {
        "colab": {
          "base_uri": "https://localhost:8080/",
          "height": 286
        },
        "id": "xR11iPH5JjtL",
        "outputId": "17328ba1-ee8d-4e5f-8a56-b2baa5a6c47d"
      },
      "source": [
        "stock_weekmovingavg(4, bse_data).plot()"
      ],
      "execution_count": 15,
      "outputs": [
        {
          "output_type": "execute_result",
          "data": {
            "text/plain": [
              "<matplotlib.axes._subplots.AxesSubplot at 0x7fb80dc016d0>"
            ]
          },
          "metadata": {
            "tags": []
          },
          "execution_count": 15
        },
        {
          "output_type": "display_data",
          "data": {
            "image/png": "[encoded data removed]",
            "text/plain": [
              "<Figure size 432x288 with 1 Axes>"
            ]
          },
          "metadata": {
            "tags": [],
            "needs_background": "light"
          }
        }
      ]
    },
    {
      "cell_type": "code",
      "metadata": {
        "colab": {
          "base_uri": "https://localhost:8080/",
          "height": 368
        },
        "id": "7L9f9H9zJ1rX",
        "outputId": "aff30f41-b4bd-47c5-e7e5-f28ca07e2e84"
      },
      "source": [
        "altdata_fourweek = stock_weekmovingavg(4, bse_data)\n",
        "altdata_fourweek.reset_index(inplace=True)\n",
        "altdata_fourweek.rename(columns={list(altdata_fourweek)[0]:'date'}, inplace=True)\n",
        "alt.Chart(altdata_fourweek).mark_point().encode(\n",
        "    x='date',\n",
        "    y='movingavg'\n",
        ")"
      ],
      "execution_count": 16,
      "outputs": [
        {
          "output_type": "execute_result",
          "data": {
            "text/plain": [
              "alt.Chart(...)"
            ],
            "text/html": [
              "\n",
              "<div id=\"altair-viz-2e18a9cc46434a24b733e9739e7c9bba\"></div>\n",
              "<script type=\"text/javascript\">\n",
              "  (function(spec, embedOpt){\n",
              "    let outputDiv = document.currentScript.previousElementSibling;\n",
              "    if (outputDiv.id !== \"altair-viz-2e18a9cc46434a24b733e9739e7c9bba\") {\n",
              "      outputDiv = document.getElementById(\"altair-viz-2e18a9cc46434a24b733e9739e7c9bba\");\n",
              "    }\n",
              "    const paths = {\n",
              "      \"vega\": \"https://cdn.jsdelivr.net/npm//vega@5?noext\",\n",
              "      \"vega-lib\": \"https://cdn.jsdelivr.net/npm//vega-lib?noext\",\n",
              "      \"vega-lite\": \"https://cdn.jsdelivr.net/npm//vega-lite@4.8.1?noext\",\n",
              "      \"vega-embed\": \"https://cdn.jsdelivr.net/npm//vega-embed@6?noext\",\n",
              "    };\n",
              "\n",
              "    function loadScript(lib) {\n",
              "      return new Promise(function(resolve, reject) {\n",
              "        var s = document.createElement('script');\n",
              "        s.src = paths[lib];\n",
              "        s.async = true;\n",
              "        s.onload = () => resolve(paths[lib]);\n",
              "        s.onerror = () => reject(`Error loading script: ${paths[lib]}`);\n",
              "        document.getElementsByTagName(\"head\")[0].appendChild(s);\n",
              "      });\n",
              "    }\n",
              "\n",
              "    function showError(err) {\n",
              "      outputDiv.innerHTML = `<div class=\"error\" style=\"color:red;\">${err}</div>`;\n",
              "      throw err;\n",
              "    }\n",
              "\n",
              "    function displayChart(vegaEmbed) {\n",
              "      vegaEmbed(outputDiv, spec, embedOpt)\n",
              "        .catch(err => showError(`Javascript Error: ${err.message}<br>This usually means there's a typo in your chart specification. See the javascript console for the full traceback.`));\n",
              "    }\n",
              "\n",
              "    if(typeof define === \"function\" && define.amd) {\n",
              "      requirejs.config({paths});\n",
              "      require([\"vega-embed\"], displayChart, err => showError(`Error loading script: ${err.message}`));\n",
              "    } else if (typeof vegaEmbed === \"function\") {\n",
              "      displayChart(vegaEmbed);\n",
              "    } else {\n",
              "      loadScript(\"vega\")\n",
              "        .then(() => loadScript(\"vega-lite\"))\n",
              "        .then(() => loadScript(\"vega-embed\"))\n",
              "        .catch(showError)\n",
              "        .then(() => displayChart(vegaEmbed));\n",
              "    }\n",
              "  })({\"config\": {\"view\": {\"continuousWidth\": 400, \"continuousHeight\": 300}}, \"data\": {\"name\": \"data-d57e2befda861b6257ad93951bd00639\"}, \"mark\": \"point\", \"encoding\": {\"x\": {\"type\": \"temporal\", \"field\": \"date\"}, \"y\": {\"type\": \"quantitative\", \"field\": \"movingavg\"}}, \"$schema\": \"https://vega.github.io/schema/vega-lite/v4.8.1.json\", \"datasets\": {\"data-d57e2befda861b6257ad93951bd00639\": [{\"date\": \"2015-02-02T00:00:00\", \"close\": 29122.26953125, \"movingavg\": 28256.5095703125}, {\"date\": \"2015-02-03T00:00:00\", \"close\": 29000.140625, \"movingavg\": 28318.22802734375}, {\"date\": \"2015-02-04T00:00:00\", \"close\": 28883.109375, \"movingavg\": 28376.11904296875}, {\"date\": \"2015-02-05T00:00:00\", \"close\": 28850.970703125, \"movingavg\": 28470.90146484375}, {\"date\": \"2015-02-06T00:00:00\", \"close\": 28717.91015625, \"movingavg\": 28568.008984375}, {\"date\": \"2015-02-09T00:00:00\", \"close\": 28227.390625, \"movingavg\": 28640.1689453125}, {\"date\": \"2015-02-10T00:00:00\", \"close\": 28355.619140625, \"movingavg\": 28678.61943359375}, {\"date\": \"2015-02-11T00:00:00\", \"close\": 28533.970703125, \"movingavg\": 28717.1369140625}, {\"date\": \"2015-02-12T00:00:00\", \"close\": 28805.099609375, \"movingavg\": 28772.54892578125}, {\"date\": \"2015-02-13T00:00:00\", \"close\": 29094.9296875, \"movingavg\": 28845.462890625}, {\"date\": \"2015-02-16T00:00:00\", \"close\": 29135.880859375, \"movingavg\": 28896.4318359375}, {\"date\": \"2015-02-18T00:00:00\", \"close\": 29320.259765625, \"movingavg\": 28947.13134765625}, {\"date\": \"2015-02-19T00:00:00\", \"close\": 29462.26953125, \"movingavg\": 29000.04384765625}, {\"date\": \"2015-02-20T00:00:00\", \"close\": 29231.41015625, \"movingavg\": 29033.923828125}, {\"date\": \"2015-02-23T00:00:00\", \"close\": 28975.109375, \"movingavg\": 29051.0513671875}, {\"date\": \"2015-02-24T00:00:00\", \"close\": 29004.66015625, \"movingavg\": 29049.505859375}, {\"date\": \"2015-02-25T00:00:00\", \"close\": 29007.990234375, \"movingavg\": 29035.796875}, {\"date\": \"2015-02-26T00:00:00\", \"close\": 28746.650390625, \"movingavg\": 29007.64443359375}, {\"date\": \"2015-02-27T00:00:00\", \"close\": 29220.119140625, \"movingavg\": 28967.01796875}, {\"date\": \"2015-03-02T00:00:00\", \"close\": 29459.140625, \"movingavg\": 28943.93544921875}, {\"date\": \"2015-03-03T00:00:00\", \"close\": 29593.73046875, \"movingavg\": 28957.74501953125}, {\"date\": \"2015-03-04T00:00:00\", \"close\": 29380.73046875, \"movingavg\": 28981.31806640625}, {\"date\": \"2015-03-05T00:00:00\", \"close\": 29448.94921875, \"movingavg\": 29000.34755859375}, {\"date\": \"2015-03-09T00:00:00\", \"close\": 28844.779296875, \"movingavg\": 29028.63955078125}, {\"date\": \"2015-03-10T00:00:00\", \"close\": 28709.869140625, \"movingavg\": 29028.32998046875}, {\"date\": \"2015-03-11T00:00:00\", \"close\": 28659.169921875, \"movingavg\": 29027.9279296875}, {\"date\": \"2015-03-12T00:00:00\", \"close\": 28930.41015625, \"movingavg\": 29049.51689453125}, {\"date\": \"2015-03-13T00:00:00\", \"close\": 28503.30078125, \"movingavg\": 29078.2564453125}, {\"date\": \"2015-03-16T00:00:00\", \"close\": 28437.7109375, \"movingavg\": 29076.72294921875}, {\"date\": \"2015-03-17T00:00:00\", \"close\": 28736.380859375, \"movingavg\": 29058.353515625}, {\"date\": \"2015-03-18T00:00:00\", \"close\": 28622.119140625, \"movingavg\": 29040.42607421875}, {\"date\": \"2015-03-19T00:00:00\", \"close\": 28469.669921875, \"movingavg\": 29014.73798828125}, {\"date\": \"2015-03-20T00:00:00\", \"close\": 28261.080078125, \"movingavg\": 28972.20849609375}, {\"date\": \"2015-03-23T00:00:00\", \"close\": 28192.01953125, \"movingavg\": 28912.1490234375}, {\"date\": \"2015-03-24T00:00:00\", \"close\": 28161.720703125, \"movingavg\": 28860.1794921875}, {\"date\": \"2015-03-25T00:00:00\", \"close\": 28111.830078125, \"movingavg\": 28819.51005859375}, {\"date\": \"2015-03-26T00:00:00\", \"close\": 27457.580078125, \"movingavg\": 28774.8685546875}, {\"date\": \"2015-03-27T00:00:00\", \"close\": 27458.640625, \"movingavg\": 28697.348046875}, {\"date\": \"2015-03-30T00:00:00\", \"close\": 27975.859375, \"movingavg\": 28632.94755859375}, {\"date\": \"2015-03-31T00:00:00\", \"close\": 27957.490234375, \"movingavg\": 28570.7345703125}, {\"date\": \"2015-04-01T00:00:00\", \"close\": 28260.140625, \"movingavg\": 28495.65205078125}, {\"date\": \"2015-04-06T00:00:00\", \"close\": 28504.4609375, \"movingavg\": 28428.97255859375}, {\"date\": \"2015-04-07T00:00:00\", \"close\": 28516.58984375, \"movingavg\": 28385.15908203125}, {\"date\": \"2015-04-08T00:00:00\", \"close\": 28707.75, \"movingavg\": 28338.54111328125}, {\"date\": \"2015-04-09T00:00:00\", \"close\": 28885.2109375, \"movingavg\": 28331.6896484375}, {\"date\": \"2015-04-10T00:00:00\", \"close\": 28879.380859375, \"movingavg\": 28340.45673828125}, {\"date\": \"2015-04-13T00:00:00\", \"close\": 29044.439453125, \"movingavg\": 28351.46728515625}, {\"date\": \"2015-04-15T00:00:00\", \"close\": 28799.689453125, \"movingavg\": 28357.16875}, {\"date\": \"2015-04-16T00:00:00\", \"close\": 28666.0390625, \"movingavg\": 28371.98818359375}, {\"date\": \"2015-04-17T00:00:00\", \"close\": 28442.099609375, \"movingavg\": 28383.40458984375}, {\"date\": \"2015-04-20T00:00:00\", \"close\": 27886.2109375, \"movingavg\": 28368.69052734375}, {\"date\": \"2015-04-21T00:00:00\", \"close\": 27676.0390625, \"movingavg\": 28331.8951171875}, {\"date\": \"2015-04-22T00:00:00\", \"close\": 27890.130859375, \"movingavg\": 28292.21357421875}, {\"date\": \"2015-04-23T00:00:00\", \"close\": 27735.01953125, \"movingavg\": 28273.66611328125}, {\"date\": \"2015-04-24T00:00:00\", \"close\": 27437.939453125, \"movingavg\": 28250.81611328125}, {\"date\": \"2015-04-27T00:00:00\", \"close\": 27176.990234375, \"movingavg\": 28214.62705078125}, {\"date\": \"2015-04-28T00:00:00\", \"close\": 27396.380859375, \"movingavg\": 28167.88505859375}, {\"date\": \"2015-04-29T00:00:00\", \"close\": 27225.9296875, \"movingavg\": 28164.82509765625}, {\"date\": \"2015-04-30T00:00:00\", \"close\": 27011.310546875, \"movingavg\": 28153.18955078125}, {\"date\": \"2015-05-04T00:00:00\", \"close\": 27490.58984375, \"movingavg\": 28104.962109375}, {\"date\": \"2015-05-05T00:00:00\", \"close\": 27440.140625, \"movingavg\": 28081.61708984375}, {\"date\": \"2015-05-06T00:00:00\", \"close\": 26717.369140625, \"movingavg\": 28040.61708984375}, {\"date\": \"2015-05-07T00:00:00\", \"close\": 26599.109375, \"movingavg\": 27951.2625}, {\"date\": \"2015-05-08T00:00:00\", \"close\": 27105.390625, \"movingavg\": 27855.3884765625}, {\"date\": \"2015-05-11T00:00:00\", \"close\": 27507.30078125, \"movingavg\": 27775.2705078125}, {\"date\": \"2015-05-12T00:00:00\", \"close\": 26877.48046875, \"movingavg\": 27706.375}, {\"date\": \"2015-05-13T00:00:00\", \"close\": 27251.099609375, \"movingavg\": 27606.27998046875}, {\"date\": \"2015-05-14T00:00:00\", \"close\": 27206.060546875, \"movingavg\": 27516.61298828125}, {\"date\": \"2015-05-15T00:00:00\", \"close\": 27324.0, \"movingavg\": 27436.93154296875}, {\"date\": \"2015-05-18T00:00:00\", \"close\": 27687.30078125, \"movingavg\": 27369.82958984375}, {\"date\": \"2015-05-19T00:00:00\", \"close\": 27645.529296875, \"movingavg\": 27332.0896484375}, {\"date\": \"2015-05-20T00:00:00\", \"close\": 27837.2109375, \"movingavg\": 27320.05556640625}, {\"date\": \"2015-05-21T00:00:00\", \"close\": 27809.349609375, \"movingavg\": 27328.11416015625}, {\"date\": \"2015-05-22T00:00:00\", \"close\": 27957.5, \"movingavg\": 27324.07509765625}, {\"date\": \"2015-05-25T00:00:00\", \"close\": 27643.880859375, \"movingavg\": 27335.19912109375}, {\"date\": \"2015-05-26T00:00:00\", \"close\": 27531.41015625, \"movingavg\": 27345.49619140625}, {\"date\": \"2015-05-27T00:00:00\", \"close\": 27564.66015625, \"movingavg\": 27363.2171875}, {\"date\": \"2015-05-28T00:00:00\", \"close\": 27506.7109375, \"movingavg\": 27371.63115234375}, {\"date\": \"2015-05-29T00:00:00\", \"close\": 27828.439453125, \"movingavg\": 27385.67021484375}, {\"date\": \"2015-06-01T00:00:00\", \"close\": 27848.990234375, \"movingavg\": 27426.52666015625}, {\"date\": \"2015-06-02T00:00:00\", \"close\": 27188.380859375, \"movingavg\": 27444.4466796875}, {\"date\": \"2015-06-03T00:00:00\", \"close\": 26837.19921875, \"movingavg\": 27431.85869140625}, {\"date\": \"2015-06-04T00:00:00\", \"close\": 26813.419921875, \"movingavg\": 27437.8501953125}, {\"date\": \"2015-06-05T00:00:00\", \"close\": 26768.490234375, \"movingavg\": 27448.56572265625}, {\"date\": \"2015-06-08T00:00:00\", \"close\": 26523.08984375, \"movingavg\": 27431.720703125}, {\"date\": \"2015-06-09T00:00:00\", \"close\": 26481.25, \"movingavg\": 27382.51015625}, {\"date\": \"2015-06-10T00:00:00\", \"close\": 26840.5, \"movingavg\": 27362.6986328125}, {\"date\": \"2015-06-11T00:00:00\", \"close\": 26370.98046875, \"movingavg\": 27342.16865234375}, {\"date\": \"2015-06-12T00:00:00\", \"close\": 26425.30078125, \"movingavg\": 27300.4146484375}, {\"date\": \"2015-06-15T00:00:00\", \"close\": 26586.55078125, \"movingavg\": 27255.4796875}, {\"date\": \"2015-06-16T00:00:00\", \"close\": 26686.509765625, \"movingavg\": 27200.4421875}, {\"date\": \"2015-06-17T00:00:00\", \"close\": 26832.66015625, \"movingavg\": 27152.4912109375}, {\"date\": \"2015-06-18T00:00:00\", \"close\": 27115.830078125, \"movingavg\": 27102.263671875}, {\"date\": \"2015-06-19T00:00:00\", \"close\": 27316.169921875, \"movingavg\": 27067.5876953125}, {\"date\": \"2015-06-22T00:00:00\", \"close\": 27730.2109375, \"movingavg\": 27035.52119140625}, {\"date\": \"2015-06-23T00:00:00\", \"close\": 27804.369140625, \"movingavg\": 27039.8376953125}, {\"date\": \"2015-06-24T00:00:00\", \"close\": 27729.669921875, \"movingavg\": 27053.48564453125}, {\"date\": \"2015-06-25T00:00:00\", \"close\": 27895.970703125, \"movingavg\": 27061.7361328125}, {\"date\": \"2015-06-26T00:00:00\", \"close\": 27811.83984375, \"movingavg\": 27081.19912109375}, {\"date\": \"2015-06-29T00:00:00\", \"close\": 27645.150390625, \"movingavg\": 27080.369140625}, {\"date\": \"2015-06-30T00:00:00\", \"close\": 27780.830078125, \"movingavg\": 27070.1771484375}, {\"date\": \"2015-07-01T00:00:00\", \"close\": 28020.869140625, \"movingavg\": 27099.799609375}, {\"date\": \"2015-07-02T00:00:00\", \"close\": 27945.80078125, \"movingavg\": 27158.98310546875}, {\"date\": \"2015-07-03T00:00:00\", \"close\": 28092.7890625, \"movingavg\": 27215.6021484375}, {\"date\": \"2015-07-06T00:00:00\", \"close\": 28208.759765625, \"movingavg\": 27281.81708984375}, {\"date\": \"2015-07-07T00:00:00\", \"close\": 28171.689453125, \"movingavg\": 27366.1005859375}, {\"date\": \"2015-07-08T00:00:00\", \"close\": 27687.720703125, \"movingavg\": 27450.62255859375}, {\"date\": \"2015-07-09T00:00:00\", \"close\": 27573.66015625, \"movingavg\": 27492.98359375}, {\"date\": \"2015-07-10T00:00:00\", \"close\": 27661.400390625, \"movingavg\": 27553.117578125}, {\"date\": \"2015-07-13T00:00:00\", \"close\": 27961.189453125, \"movingavg\": 27614.92255859375}, {\"date\": \"2015-07-14T00:00:00\", \"close\": 27932.900390625, \"movingavg\": 27683.6544921875}, {\"date\": \"2015-07-15T00:00:00\", \"close\": 28198.2890625, \"movingavg\": 27745.9740234375}, {\"date\": \"2015-07-16T00:00:00\", \"close\": 28446.119140625, \"movingavg\": 27814.25546875}, {\"date\": \"2015-07-17T00:00:00\", \"close\": 28463.310546875, \"movingavg\": 27880.769921875}, {\"date\": \"2015-07-20T00:00:00\", \"close\": 28420.119140625, \"movingavg\": 27938.126953125}, {\"date\": \"2015-07-21T00:00:00\", \"close\": 28182.140625, \"movingavg\": 27972.62236328125}, {\"date\": \"2015-07-22T00:00:00\", \"close\": 28504.9296875, \"movingavg\": 27991.5109375}, {\"date\": \"2015-07-23T00:00:00\", \"close\": 28370.83984375, \"movingavg\": 28030.27392578125}, {\"date\": \"2015-07-24T00:00:00\", \"close\": 28112.310546875, \"movingavg\": 28054.0173828125}, {\"date\": \"2015-07-27T00:00:00\", \"close\": 27561.380859375, \"movingavg\": 28069.04091796875}, {\"date\": \"2015-07-28T00:00:00\", \"close\": 27459.23046875, \"movingavg\": 28064.85244140625}, {\"date\": \"2015-07-29T00:00:00\", \"close\": 27563.4296875, \"movingavg\": 28048.7724609375}, {\"date\": \"2015-07-30T00:00:00\", \"close\": 27705.349609375, \"movingavg\": 28025.90048828125}, {\"date\": \"2015-07-31T00:00:00\", \"close\": 28114.560546875, \"movingavg\": 28013.8779296875}, {\"date\": \"2015-08-03T00:00:00\", \"close\": 28187.060546875, \"movingavg\": 28014.96650390625}, {\"date\": \"2015-08-04T00:00:00\", \"close\": 28071.9296875, \"movingavg\": 28013.88154296875}, {\"date\": \"2015-08-05T00:00:00\", \"close\": 28223.080078125, \"movingavg\": 28008.8935546875}, {\"date\": \"2015-08-06T00:00:00\", \"close\": 28298.130859375, \"movingavg\": 28035.6615234375}, {\"date\": \"2015-08-07T00:00:00\", \"close\": 28236.390625, \"movingavg\": 28071.88505859375}, {\"date\": \"2015-08-10T00:00:00\", \"close\": 28101.720703125, \"movingavg\": 28100.6345703125}, {\"date\": \"2015-08-11T00:00:00\", \"close\": 27866.08984375, \"movingavg\": 28107.6611328125}, {\"date\": \"2015-08-12T00:00:00\", \"close\": 27512.259765625, \"movingavg\": 28104.32060546875}, {\"date\": \"2015-08-13T00:00:00\", \"close\": 27549.529296875, \"movingavg\": 28070.019140625}, {\"date\": \"2015-08-14T00:00:00\", \"close\": 28067.310546875, \"movingavg\": 28025.1896484375}, {\"date\": \"2015-08-17T00:00:00\", \"close\": 27878.26953125, \"movingavg\": 28005.3896484375}, {\"date\": \"2015-08-18T00:00:00\", \"close\": 27831.5390625, \"movingavg\": 27978.29716796875}, {\"date\": \"2015-08-19T00:00:00\", \"close\": 27931.640625, \"movingavg\": 27960.76708984375}, {\"date\": \"2015-08-20T00:00:00\", \"close\": 27607.8203125, \"movingavg\": 27932.10263671875}, {\"date\": \"2015-08-21T00:00:00\", \"close\": 27366.0703125, \"movingavg\": 27893.95166015625}, {\"date\": \"2015-08-24T00:00:00\", \"close\": 25741.560546875, \"movingavg\": 27856.6396484375}, {\"date\": \"2015-08-25T00:00:00\", \"close\": 26032.380859375, \"movingavg\": 27765.6486328125}, {\"date\": \"2015-08-26T00:00:00\", \"close\": 25714.66015625, \"movingavg\": 27694.30615234375}, {\"date\": \"2015-08-27T00:00:00\", \"close\": 26231.189453125, \"movingavg\": 27601.86767578125}, {\"date\": \"2015-08-28T00:00:00\", \"close\": 26392.380859375, \"movingavg\": 27528.15966796875}, {\"date\": \"2015-08-31T00:00:00\", \"close\": 26283.08984375, \"movingavg\": 27442.05068359375}, {\"date\": \"2015-09-01T00:00:00\", \"close\": 25696.439453125, \"movingavg\": 27346.8521484375}, {\"date\": \"2015-09-02T00:00:00\", \"close\": 25453.560546875, \"movingavg\": 27228.07763671875}, {\"date\": \"2015-09-03T00:00:00\", \"close\": 25764.779296875, \"movingavg\": 27089.60166015625}, {\"date\": \"2015-09-04T00:00:00\", \"close\": 25201.900390625, \"movingavg\": 26962.93408203125}, {\"date\": \"2015-09-07T00:00:00\", \"close\": 24893.810546875, \"movingavg\": 26811.2095703125}, {\"date\": \"2015-09-08T00:00:00\", \"close\": 25317.869140625, \"movingavg\": 26650.8140625}, {\"date\": \"2015-09-09T00:00:00\", \"close\": 25719.580078125, \"movingavg\": 26523.40302734375}, {\"date\": \"2015-09-10T00:00:00\", \"close\": 25622.169921875, \"movingavg\": 26433.76904296875}, {\"date\": \"2015-09-11T00:00:00\", \"close\": 25610.2109375, \"movingavg\": 26337.40107421875}, {\"date\": \"2015-09-14T00:00:00\", \"close\": 25856.69921875, \"movingavg\": 26214.54609375}, {\"date\": \"2015-09-15T00:00:00\", \"close\": 25705.9296875, \"movingavg\": 26113.467578125}, {\"date\": \"2015-09-16T00:00:00\", \"close\": 25963.970703125, \"movingavg\": 26007.187109375}, {\"date\": \"2015-09-18T00:00:00\", \"close\": 26218.91015625, \"movingavg\": 25908.80361328125}, {\"date\": \"2015-09-21T00:00:00\", \"close\": 26192.98046875, \"movingavg\": 25839.35810546875}, {\"date\": \"2015-09-22T00:00:00\", \"close\": 25651.83984375, \"movingavg\": 25780.70361328125}, {\"date\": \"2015-09-23T00:00:00\", \"close\": 25822.990234375, \"movingavg\": 25776.217578125}, {\"date\": \"2015-09-24T00:00:00\", \"close\": 25863.5, \"movingavg\": 25765.748046875}, {\"date\": \"2015-09-28T00:00:00\", \"close\": 25616.83984375, \"movingavg\": 25773.1900390625}, {\"date\": \"2015-09-29T00:00:00\", \"close\": 25778.66015625, \"movingavg\": 25742.47255859375}, {\"date\": \"2015-09-30T00:00:00\", \"close\": 26154.830078125, \"movingavg\": 25711.7865234375}, {\"date\": \"2015-10-01T00:00:00\", \"close\": 26220.94921875, \"movingavg\": 25705.37353515625}, {\"date\": \"2015-10-05T00:00:00\", \"close\": 26785.55078125, \"movingavg\": 25731.5990234375}, {\"date\": \"2015-10-06T00:00:00\", \"close\": 26932.880859375, \"movingavg\": 25798.19853515625}, {\"date\": \"2015-10-07T00:00:00\", \"close\": 27035.849609375, \"movingavg\": 25856.60361328125}, {\"date\": \"2015-10-08T00:00:00\", \"close\": 26845.810546875, \"movingavg\": 25948.30107421875}, {\"date\": \"2015-10-09T00:00:00\", \"close\": 27079.509765625, \"movingavg\": 26045.90107421875}, {\"date\": \"2015-10-12T00:00:00\", \"close\": 26904.109375, \"movingavg\": 26133.98310546875}, {\"date\": \"2015-10-13T00:00:00\", \"close\": 26846.529296875, \"movingavg\": 26193.2095703125}, {\"date\": \"2015-10-14T00:00:00\", \"close\": 26779.66015625, \"movingavg\": 26254.4275390625}, {\"date\": \"2015-10-15T00:00:00\", \"close\": 27010.140625, \"movingavg\": 26312.9}, {\"date\": \"2015-10-16T00:00:00\", \"close\": 27214.599609375, \"movingavg\": 26370.5720703125}, {\"date\": \"2015-10-19T00:00:00\", \"close\": 27364.919921875, \"movingavg\": 26446.00556640625}, {\"date\": \"2015-10-20T00:00:00\", \"close\": 27306.830078125, \"movingavg\": 26516.05302734375}, {\"date\": \"2015-10-21T00:00:00\", \"close\": 27287.66015625, \"movingavg\": 26570.4490234375}, {\"date\": \"2015-10-23T00:00:00\", \"close\": 27470.810546875, \"movingavg\": 26625.1830078125}, {\"date\": \"2015-10-26T00:00:00\", \"close\": 27361.9609375, \"movingavg\": 26716.13154296875}, {\"date\": \"2015-10-27T00:00:00\", \"close\": 27253.439453125, \"movingavg\": 26793.080078125}, {\"date\": \"2015-10-28T00:00:00\", \"close\": 27039.759765625, \"movingavg\": 26862.57705078125}, {\"date\": \"2015-10-29T00:00:00\", \"close\": 26838.140625, \"movingavg\": 26933.723046875}, {\"date\": \"2015-10-30T00:00:00\", \"close\": 26656.830078125, \"movingavg\": 26986.6970703125}, {\"date\": \"2015-11-02T00:00:00\", \"close\": 26559.150390625, \"movingavg\": 27011.7970703125}, {\"date\": \"2015-11-03T00:00:00\", \"close\": 26590.58984375, \"movingavg\": 27028.70712890625}, {\"date\": \"2015-11-04T00:00:00\", \"close\": 26552.919921875, \"movingavg\": 27018.95908203125}, {\"date\": \"2015-11-05T00:00:00\", \"close\": 26304.19921875, \"movingavg\": 26999.96103515625}, {\"date\": \"2015-11-06T00:00:00\", \"close\": 26265.240234375, \"movingavg\": 26963.378515625}, {\"date\": \"2015-11-09T00:00:00\", \"close\": 26121.400390625, \"movingavg\": 26934.35}, {\"date\": \"2015-11-10T00:00:00\", \"close\": 25743.259765625, \"movingavg\": 26886.44453125}, {\"date\": \"2015-11-13T00:00:00\", \"close\": 25610.529296875, \"movingavg\": 26828.40205078125}, {\"date\": \"2015-11-16T00:00:00\", \"close\": 25760.099609375, \"movingavg\": 26766.60205078125}, {\"date\": \"2015-11-17T00:00:00\", \"close\": 25864.470703125, \"movingavg\": 26715.6240234375}, {\"date\": \"2015-11-18T00:00:00\", \"close\": 25482.51953125, \"movingavg\": 26658.34052734375}, {\"date\": \"2015-11-19T00:00:00\", \"close\": 25841.919921875, \"movingavg\": 26571.7365234375}, {\"date\": \"2015-11-20T00:00:00\", \"close\": 25868.490234375, \"movingavg\": 26495.5865234375}, {\"date\": \"2015-11-23T00:00:00\", \"close\": 25819.33984375, \"movingavg\": 26423.66953125}, {\"date\": \"2015-11-24T00:00:00\", \"close\": 25775.740234375, \"movingavg\": 26350.253515625}, {\"date\": \"2015-11-26T00:00:00\", \"close\": 25958.630859375, \"movingavg\": 26265.5}, {\"date\": \"2015-11-27T00:00:00\", \"close\": 26128.19921875, \"movingavg\": 26195.33349609375}, {\"date\": \"2015-11-30T00:00:00\", \"close\": 26145.669921875, \"movingavg\": 26139.071484375}, {\"date\": \"2015-12-01T00:00:00\", \"close\": 26169.41015625, \"movingavg\": 26094.3669921875}, {\"date\": \"2015-12-02T00:00:00\", \"close\": 26117.849609375, \"movingavg\": 26060.93046875}, {\"date\": \"2015-12-03T00:00:00\", \"close\": 25886.619140625, \"movingavg\": 26033.9814453125}, {\"date\": \"2015-12-04T00:00:00\", \"close\": 25638.109375, \"movingavg\": 26000.3548828125}, {\"date\": \"2015-12-07T00:00:00\", \"close\": 25530.109375, \"movingavg\": 25952.730859375}, {\"date\": \"2015-12-08T00:00:00\", \"close\": 25310.330078125, \"movingavg\": 25901.59033203125}, {\"date\": \"2015-12-09T00:00:00\", \"close\": 25036.05078125, \"movingavg\": 25851.896875}, {\"date\": \"2015-12-10T00:00:00\", \"close\": 25252.3203125, \"movingavg\": 25790.43740234375}, {\"date\": \"2015-12-11T00:00:00\", \"close\": 25044.4296875, \"movingavg\": 25746.9833984375}, {\"date\": \"2015-12-14T00:00:00\", \"close\": 25150.349609375, \"movingavg\": 25712.04189453125}, {\"date\": \"2015-12-15T00:00:00\", \"close\": 25320.439453125, \"movingavg\": 25689.03291015625}, {\"date\": \"2015-12-16T00:00:00\", \"close\": 25494.369140625, \"movingavg\": 25667.04990234375}, {\"date\": \"2015-12-17T00:00:00\", \"close\": 25803.779296875, \"movingavg\": 25648.54482421875}, {\"date\": \"2015-12-18T00:00:00\", \"close\": 25519.220703125, \"movingavg\": 25664.6078125}, {\"date\": \"2015-12-21T00:00:00\", \"close\": 25735.900390625, \"movingavg\": 25648.4728515625}, {\"date\": \"2015-12-22T00:00:00\", \"close\": 25590.650390625, \"movingavg\": 25641.843359375}, {\"date\": \"2015-12-23T00:00:00\", \"close\": 25850.30078125, \"movingavg\": 25630.40888671875}, {\"date\": \"2015-12-24T00:00:00\", \"close\": 25838.7109375, \"movingavg\": 25634.1369140625}, {\"date\": \"2015-12-28T00:00:00\", \"close\": 26034.130859375, \"movingavg\": 25628.14091796875}, {\"date\": \"2015-12-29T00:00:00\", \"close\": 26079.48046875, \"movingavg\": 25623.4375}, {\"date\": \"2015-12-30T00:00:00\", \"close\": 25960.029296875, \"movingavg\": 25620.12802734375}, {\"date\": \"2015-12-31T00:00:00\", \"close\": 26117.5390625, \"movingavg\": 25609.658984375}, {\"date\": \"2016-01-04T00:00:00\", \"close\": 25623.349609375, \"movingavg\": 25609.64345703125}, {\"date\": \"2016-01-05T00:00:00\", \"close\": 25580.33984375, \"movingavg\": 25596.47998046875}, {\"date\": \"2016-01-06T00:00:00\", \"close\": 25406.330078125, \"movingavg\": 25593.59150390625}, {\"date\": \"2016-01-07T00:00:00\", \"close\": 24851.830078125, \"movingavg\": 25587.4025390625}, {\"date\": \"2016-01-08T00:00:00\", \"close\": 24934.330078125, \"movingavg\": 25564.4775390625}, {\"date\": \"2016-01-11T00:00:00\", \"close\": 24825.0390625, \"movingavg\": 25559.39150390625}, {\"date\": \"2016-01-12T00:00:00\", \"close\": 24682.029296875, \"movingavg\": 25538.02744140625}, {\"date\": \"2016-01-13T00:00:00\", \"close\": 24854.109375, \"movingavg\": 25519.907421875}, {\"date\": \"2016-01-14T00:00:00\", \"close\": 24772.970703125, \"movingavg\": 25505.09541015625}, {\"date\": \"2016-01-15T00:00:00\", \"close\": 24455.0390625, \"movingavg\": 25477.72197265625}, {\"date\": \"2016-01-18T00:00:00\", \"close\": 24188.369140625, \"movingavg\": 25425.75546875}, {\"date\": \"2016-01-19T00:00:00\", \"close\": 24479.83984375, \"movingavg\": 25344.9849609375}, {\"date\": \"2016-01-20T00:00:00\", \"close\": 24062.0390625, \"movingavg\": 25293.01591796875}, {\"date\": \"2016-01-21T00:00:00\", \"close\": 23962.2109375, \"movingavg\": 25209.3228515625}, {\"date\": \"2016-01-22T00:00:00\", \"close\": 24435.66015625, \"movingavg\": 25127.90087890625}, {\"date\": \"2016-01-25T00:00:00\", \"close\": 24485.94921875, \"movingavg\": 25057.16884765625}, {\"date\": \"2016-01-27T00:00:00\", \"close\": 24492.390625, \"movingavg\": 24989.53076171875}, {\"date\": \"2016-01-28T00:00:00\", \"close\": 24469.5703125, \"movingavg\": 24912.44375}, {\"date\": \"2016-01-29T00:00:00\", \"close\": 24870.689453125, \"movingavg\": 24831.9482421875}, {\"date\": \"2016-02-01T00:00:00\", \"close\": 24824.830078125, \"movingavg\": 24777.48125}, {\"date\": \"2016-02-02T00:00:00\", \"close\": 24539.0, \"movingavg\": 24712.84580078125}, {\"date\": \"2016-02-03T00:00:00\", \"close\": 24223.3203125, \"movingavg\": 24658.6283203125}, {\"date\": \"2016-02-04T00:00:00\", \"close\": 24338.4296875, \"movingavg\": 24590.77734375}, {\"date\": \"2016-02-05T00:00:00\", \"close\": 24616.970703125, \"movingavg\": 24537.38232421875}, {\"date\": \"2016-02-08T00:00:00\", \"close\": 24287.419921875, \"movingavg\": 24525.63935546875}, {\"date\": \"2016-02-09T00:00:00\", \"close\": 24020.98046875, \"movingavg\": 24493.29384765625}, {\"date\": \"2016-02-10T00:00:00\", \"close\": 23758.900390625, \"movingavg\": 24453.09091796875}, {\"date\": \"2016-02-11T00:00:00\", \"close\": 22951.830078125, \"movingavg\": 24406.93447265625}, {\"date\": \"2016-02-12T00:00:00\", \"close\": 22986.119140625, \"movingavg\": 24311.8205078125}, {\"date\": \"2016-02-15T00:00:00\", \"close\": 23554.119140625, \"movingavg\": 24222.4779296875}, {\"date\": \"2016-02-16T00:00:00\", \"close\": 23191.970703125, \"movingavg\": 24177.43193359375}, {\"date\": \"2016-02-17T00:00:00\", \"close\": 23381.869140625, \"movingavg\": 24127.61201171875}, {\"date\": \"2016-02-18T00:00:00\", \"close\": 23649.220703125, \"movingavg\": 24072.7134765625}, {\"date\": \"2016-02-19T00:00:00\", \"close\": 23709.150390625, \"movingavg\": 24052.07255859375}, {\"date\": \"2016-02-22T00:00:00\", \"close\": 23788.7890625, \"movingavg\": 24039.41953125}, {\"date\": \"2016-02-23T00:00:00\", \"close\": 23410.1796875, \"movingavg\": 24007.0759765625}, {\"date\": \"2016-02-24T00:00:00\", \"close\": 23088.9296875, \"movingavg\": 23953.2875}, {\"date\": \"2016-02-25T00:00:00\", \"close\": 22976.0, \"movingavg\": 23883.114453125}, {\"date\": \"2016-02-26T00:00:00\", \"close\": 23154.30078125, \"movingavg\": 23808.4359375}, {\"date\": \"2016-02-29T00:00:00\", \"close\": 23002.0, \"movingavg\": 23722.61650390625}, {\"date\": \"2016-03-01T00:00:00\", \"close\": 23779.349609375, \"movingavg\": 23631.475}, {\"date\": \"2016-03-02T00:00:00\", \"close\": 24242.98046875, \"movingavg\": 23593.49248046875}, {\"date\": \"2016-03-03T00:00:00\", \"close\": 24606.990234375, \"movingavg\": 23594.47548828125}, {\"date\": \"2016-03-04T00:00:00\", \"close\": 24646.48046875, \"movingavg\": 23607.903515625}, {\"date\": \"2016-03-08T00:00:00\", \"close\": 24659.23046875, \"movingavg\": 23609.37900390625}, {\"date\": \"2016-03-09T00:00:00\", \"close\": 24793.9609375, \"movingavg\": 23627.96953125}, {\"date\": \"2016-03-10T00:00:00\", \"close\": 24623.33984375, \"movingavg\": 23666.6185546875}, {\"date\": \"2016-03-11T00:00:00\", \"close\": 24717.990234375, \"movingavg\": 23709.84052734375}, {\"date\": \"2016-03-14T00:00:00\", \"close\": 24804.279296875, \"movingavg\": 23798.14853515625}, {\"date\": \"2016-03-15T00:00:00\", \"close\": 24551.169921875, \"movingavg\": 23889.05654296875}, {\"date\": \"2016-03-16T00:00:00\", \"close\": 24682.48046875, \"movingavg\": 23938.90908203125}, {\"date\": \"2016-03-17T00:00:00\", \"close\": 24677.369140625, \"movingavg\": 24013.4345703125}, {\"date\": \"2016-03-18T00:00:00\", \"close\": 24952.740234375, \"movingavg\": 24078.2095703125}, {\"date\": \"2016-03-21T00:00:00\", \"close\": 25285.369140625, \"movingavg\": 24143.385546875}, {\"date\": \"2016-03-22T00:00:00\", \"close\": 25330.490234375, \"movingavg\": 24222.196484375}, {\"date\": \"2016-03-23T00:00:00\", \"close\": 25337.560546875, \"movingavg\": 24299.28154296875}, {\"date\": \"2016-03-28T00:00:00\", \"close\": 24966.400390625, \"movingavg\": 24395.6505859375}, {\"date\": \"2016-03-29T00:00:00\", \"close\": 24900.4609375, \"movingavg\": 24489.52412109375}, {\"date\": \"2016-03-30T00:00:00\", \"close\": 25338.580078125, \"movingavg\": 24585.74716796875}, {\"date\": \"2016-03-31T00:00:00\", \"close\": 25341.859375, \"movingavg\": 24694.9611328125}, {\"date\": \"2016-04-01T00:00:00\", \"close\": 25269.640625, \"movingavg\": 24811.9541015625}, {\"date\": \"2016-04-04T00:00:00\", \"close\": 25399.650390625, \"movingavg\": 24886.46865234375}, {\"date\": \"2016-04-05T00:00:00\", \"close\": 24883.58984375, \"movingavg\": 24944.3021484375}, {\"date\": \"2016-04-06T00:00:00\", \"close\": 24900.630859375, \"movingavg\": 24958.13212890625}, {\"date\": \"2016-04-07T00:00:00\", \"close\": 24685.419921875, \"movingavg\": 24970.8396484375}, {\"date\": \"2016-04-08T00:00:00\", \"close\": 24673.83984375, \"movingavg\": 24972.14912109375}, {\"date\": \"2016-04-11T00:00:00\", \"close\": 25022.16015625, \"movingavg\": 24966.14306640625}, {\"date\": \"2016-04-12T00:00:00\", \"close\": 25145.58984375, \"movingavg\": 24986.08408203125}, {\"date\": \"2016-04-13T00:00:00\", \"close\": 25626.75, \"movingavg\": 25007.4640625}, {\"date\": \"2016-04-18T00:00:00\", \"close\": 25816.359375, \"movingavg\": 25048.58759765625}, {\"date\": \"2016-04-20T00:00:00\", \"close\": 25844.1796875, \"movingavg\": 25111.8470703125}, {\"date\": \"2016-04-21T00:00:00\", \"close\": 25880.380859375, \"movingavg\": 25169.93203125}, {\"date\": \"2016-04-22T00:00:00\", \"close\": 25838.140625, \"movingavg\": 25230.0826171875}, {\"date\": \"2016-04-25T00:00:00\", \"close\": 25678.9296875, \"movingavg\": 25274.35263671875}, {\"date\": \"2016-04-26T00:00:00\", \"close\": 26007.30078125, \"movingavg\": 25294.0306640625}, {\"date\": \"2016-04-27T00:00:00\", \"close\": 26064.119140625, \"movingavg\": 25327.87119140625}, {\"date\": \"2016-04-28T00:00:00\", \"close\": 25603.099609375, \"movingavg\": 25364.19912109375}, {\"date\": \"2016-04-29T00:00:00\", \"close\": 25606.619140625, \"movingavg\": 25396.03408203125}, {\"date\": \"2016-05-02T00:00:00\", \"close\": 25436.970703125, \"movingavg\": 25431.3419921875}, {\"date\": \"2016-05-03T00:00:00\", \"close\": 25229.69921875, \"movingavg\": 25436.2615234375}, {\"date\": \"2016-05-04T00:00:00\", \"close\": 25101.73046875, \"movingavg\": 25430.653515625}, {\"date\": \"2016-05-05T00:00:00\", \"close\": 25262.2109375, \"movingavg\": 25422.2580078125}, {\"date\": \"2016-05-06T00:00:00\", \"close\": 25228.5, \"movingavg\": 25415.38603515625}, {\"date\": \"2016-05-09T00:00:00\", \"close\": 25688.859375, \"movingavg\": 25432.63154296875}, {\"date\": \"2016-05-10T00:00:00\", \"close\": 25772.529296875, \"movingavg\": 25472.04296875}, {\"date\": \"2016-05-11T00:00:00\", \"close\": 25597.01953125, \"movingavg\": 25526.3984375}, {\"date\": \"2016-05-12T00:00:00\", \"close\": 25790.220703125, \"movingavg\": 25572.557421875}, {\"date\": \"2016-05-13T00:00:00\", \"close\": 25489.5703125, \"movingavg\": 25610.96044921875}, {\"date\": \"2016-05-16T00:00:00\", \"close\": 25653.23046875, \"movingavg\": 25628.15947265625}, {\"date\": \"2016-05-17T00:00:00\", \"close\": 25773.609375, \"movingavg\": 25629.48349609375}, {\"date\": \"2016-05-18T00:00:00\", \"close\": 25704.609375, \"movingavg\": 25627.34599609375}, {\"date\": \"2016-05-19T00:00:00\", \"close\": 25399.720703125, \"movingavg\": 25620.36748046875}, {\"date\": \"2016-05-20T00:00:00\", \"close\": 25301.900390625, \"movingavg\": 25596.33447265625}, {\"date\": \"2016-05-23T00:00:00\", \"close\": 25230.359375, \"movingavg\": 25569.5224609375}, {\"date\": \"2016-05-24T00:00:00\", \"close\": 25305.470703125, \"movingavg\": 25547.0939453125}, {\"date\": \"2016-05-25T00:00:00\", \"close\": 25881.169921875, \"movingavg\": 25512.00244140625}, {\"date\": \"2016-05-26T00:00:00\", \"close\": 26366.6796875, \"movingavg\": 25502.85498046875}, {\"date\": \"2016-05-27T00:00:00\", \"close\": 26653.599609375, \"movingavg\": 25541.033984375}, {\"date\": \"2016-05-30T00:00:00\", \"close\": 26725.599609375, \"movingavg\": 25593.3830078125}, {\"date\": \"2016-05-31T00:00:00\", \"close\": 26667.9609375, \"movingavg\": 25657.814453125}, {\"date\": \"2016-06-01T00:00:00\", \"close\": 26713.9296875, \"movingavg\": 25729.7275390625}, {\"date\": \"2016-06-02T00:00:00\", \"close\": 26843.140625, \"movingavg\": 25810.3375}, {\"date\": \"2016-06-03T00:00:00\", \"close\": 26843.029296875, \"movingavg\": 25889.383984375}, {\"date\": \"2016-06-06T00:00:00\", \"close\": 26777.44921875, \"movingavg\": 25970.11044921875}, {\"date\": \"2016-06-07T00:00:00\", \"close\": 27009.669921875, \"movingavg\": 26024.53994140625}, {\"date\": \"2016-06-08T00:00:00\", \"close\": 27020.66015625, \"movingavg\": 26086.39697265625}, {\"date\": \"2016-06-09T00:00:00\", \"close\": 26763.4609375, \"movingavg\": 26157.57900390625}, {\"date\": \"2016-06-10T00:00:00\", \"close\": 26635.75, \"movingavg\": 26206.241015625}, {\"date\": \"2016-06-13T00:00:00\", \"close\": 26396.76953125, \"movingavg\": 26263.55}, {\"date\": \"2016-06-14T00:00:00\", \"close\": 26395.7109375, \"movingavg\": 26300.726953125}, {\"date\": \"2016-06-15T00:00:00\", \"close\": 26726.33984375, \"movingavg\": 26331.83203125}, {\"date\": \"2016-06-16T00:00:00\", \"close\": 26525.4609375, \"movingavg\": 26382.9185546875}, {\"date\": \"2016-06-17T00:00:00\", \"close\": 26625.91015625, \"movingavg\": 26439.20556640625}, {\"date\": \"2016-06-20T00:00:00\", \"close\": 26866.919921875, \"movingavg\": 26505.4060546875}, {\"date\": \"2016-06-21T00:00:00\", \"close\": 26812.779296875, \"movingavg\": 26587.23408203125}, {\"date\": \"2016-06-22T00:00:00\", \"close\": 26765.650390625, \"movingavg\": 26662.59951171875}, {\"date\": \"2016-06-23T00:00:00\", \"close\": 27002.220703125, \"movingavg\": 26706.82353515625}, {\"date\": \"2016-06-24T00:00:00\", \"close\": 26397.7109375, \"movingavg\": 26738.6005859375}, {\"date\": \"2016-06-27T00:00:00\", \"close\": 26402.9609375, \"movingavg\": 26725.80615234375}, {\"date\": \"2016-06-28T00:00:00\", \"close\": 26524.55078125, \"movingavg\": 26709.67421875}, {\"date\": \"2016-06-29T00:00:00\", \"close\": 26740.390625, \"movingavg\": 26702.5037109375}, {\"date\": \"2016-06-30T00:00:00\", \"close\": 26999.720703125, \"movingavg\": 26703.8267578125}, {\"date\": \"2016-07-01T00:00:00\", \"close\": 27144.91015625, \"movingavg\": 26711.65576171875}, {\"date\": \"2016-07-04T00:00:00\", \"close\": 27278.759765625, \"movingavg\": 26726.7498046875}, {\"date\": \"2016-07-05T00:00:00\", \"close\": 27166.869140625, \"movingavg\": 26751.81533203125}, {\"date\": \"2016-07-07T00:00:00\", \"close\": 27201.490234375, \"movingavg\": 26759.67529296875}, {\"date\": \"2016-07-08T00:00:00\", \"close\": 27126.900390625, \"movingavg\": 26768.716796875}, {\"date\": \"2016-07-11T00:00:00\", \"close\": 27626.689453125, \"movingavg\": 26786.88876953125}, {\"date\": \"2016-07-12T00:00:00\", \"close\": 27808.140625, \"movingavg\": 26836.4357421875}, {\"date\": \"2016-07-13T00:00:00\", \"close\": 27815.1796875, \"movingavg\": 26907.004296875}, {\"date\": \"2016-07-14T00:00:00\", \"close\": 27942.109375, \"movingavg\": 26977.977734375}, {\"date\": \"2016-07-15T00:00:00\", \"close\": 27836.5, \"movingavg\": 27038.7662109375}, {\"date\": \"2016-07-18T00:00:00\", \"close\": 27746.66015625, \"movingavg\": 27104.3181640625}, {\"date\": \"2016-07-19T00:00:00\", \"close\": 27787.619140625, \"movingavg\": 27160.3556640625}, {\"date\": \"2016-07-20T00:00:00\", \"close\": 27915.890625, \"movingavg\": 27206.390625}, {\"date\": \"2016-07-21T00:00:00\", \"close\": 27710.51953125, \"movingavg\": 27261.54619140625}, {\"date\": \"2016-07-22T00:00:00\", \"close\": 27803.240234375, \"movingavg\": 27308.7896484375}, {\"date\": \"2016-07-25T00:00:00\", \"close\": 28095.33984375, \"movingavg\": 27348.840625}, {\"date\": \"2016-07-26T00:00:00\", \"close\": 27976.51953125, \"movingavg\": 27433.7220703125}, {\"date\": \"2016-07-27T00:00:00\", \"close\": 28024.330078125, \"movingavg\": 27512.4}, {\"date\": \"2016-07-28T00:00:00\", \"close\": 28208.619140625, \"movingavg\": 27587.38896484375}, {\"date\": \"2016-07-29T00:00:00\", \"close\": 28051.859375, \"movingavg\": 27660.800390625}, {\"date\": \"2016-08-01T00:00:00\", \"close\": 28003.119140625, \"movingavg\": 27713.40732421875}, {\"date\": \"2016-08-02T00:00:00\", \"close\": 27981.7109375, \"movingavg\": 27756.3177734375}, {\"date\": \"2016-08-03T00:00:00\", \"close\": 27697.509765625, \"movingavg\": 27791.46533203125}, {\"date\": \"2016-08-04T00:00:00\", \"close\": 27714.369140625, \"movingavg\": 27817.99736328125}, {\"date\": \"2016-08-05T00:00:00\", \"close\": 28078.349609375, \"movingavg\": 27843.64130859375}, {\"date\": \"2016-08-08T00:00:00\", \"close\": 28182.5703125, \"movingavg\": 27891.21376953125}, {\"date\": \"2016-08-09T00:00:00\", \"close\": 28085.16015625, \"movingavg\": 27919.0078125}, {\"date\": \"2016-08-10T00:00:00\", \"close\": 27774.880859375, \"movingavg\": 27932.8587890625}, {\"date\": \"2016-08-11T00:00:00\", \"close\": 27859.599609375, \"movingavg\": 27930.84384765625}, {\"date\": \"2016-08-12T00:00:00\", \"close\": 28152.400390625, \"movingavg\": 27926.718359375}, {\"date\": \"2016-08-16T00:00:00\", \"close\": 28064.609375, \"movingavg\": 27942.51337890625}, {\"date\": \"2016-08-17T00:00:00\", \"close\": 28005.369140625, \"movingavg\": 27958.41083984375}, {\"date\": \"2016-08-18T00:00:00\", \"close\": 28123.439453125, \"movingavg\": 27969.29833984375}, {\"date\": \"2016-08-19T00:00:00\", \"close\": 28077.0, \"movingavg\": 27979.67578125}, {\"date\": \"2016-08-22T00:00:00\", \"close\": 27985.5390625, \"movingavg\": 27997.9998046875}, {\"date\": \"2016-08-23T00:00:00\", \"close\": 27990.2109375, \"movingavg\": 28007.11474609375}, {\"date\": \"2016-08-24T00:00:00\", \"close\": 28059.939453125, \"movingavg\": 28001.85830078125}, {\"date\": \"2016-08-25T00:00:00\", \"close\": 27835.91015625, \"movingavg\": 28006.029296875}, {\"date\": \"2016-08-26T00:00:00\", \"close\": 27782.25, \"movingavg\": 27996.60830078125}, {\"date\": \"2016-08-29T00:00:00\", \"close\": 27902.66015625, \"movingavg\": 27975.28984375}, {\"date\": \"2016-08-30T00:00:00\", \"close\": 28343.009765625, \"movingavg\": 27967.8298828125}, {\"date\": \"2016-08-31T00:00:00\", \"close\": 28452.169921875, \"movingavg\": 27984.8244140625}, {\"date\": \"2016-09-01T00:00:00\", \"close\": 28423.48046875, \"movingavg\": 28008.34736328125}, {\"date\": \"2016-09-02T00:00:00\", \"close\": 28532.109375, \"movingavg\": 28044.6458984375}, {\"date\": \"2016-09-06T00:00:00\", \"close\": 28978.01953125, \"movingavg\": 28085.53291015625}, {\"date\": \"2016-09-07T00:00:00\", \"close\": 28926.359375, \"movingavg\": 28130.51640625}, {\"date\": \"2016-09-08T00:00:00\", \"close\": 29045.279296875, \"movingavg\": 28167.705859375}, {\"date\": \"2016-09-09T00:00:00\", \"close\": 28797.25, \"movingavg\": 28215.71181640625}, {\"date\": \"2016-09-12T00:00:00\", \"close\": 28353.5390625, \"movingavg\": 28266.8302734375}, {\"date\": \"2016-09-14T00:00:00\", \"close\": 28372.23046875, \"movingavg\": 28291.52724609375}, {\"date\": \"2016-09-15T00:00:00\", \"close\": 28412.890625, \"movingavg\": 28302.51875}, {\"date\": \"2016-09-16T00:00:00\", \"close\": 28599.029296875, \"movingavg\": 28319.9328125}, {\"date\": \"2016-09-19T00:00:00\", \"close\": 28634.5, \"movingavg\": 28349.6158203125}, {\"date\": \"2016-09-20T00:00:00\", \"close\": 28523.19921875, \"movingavg\": 28375.16884765625}, {\"date\": \"2016-09-21T00:00:00\", \"close\": 28507.419921875, \"movingavg\": 28397.47880859375}, {\"date\": \"2016-09-22T00:00:00\", \"close\": 28773.130859375, \"movingavg\": 28423.5728515625}, {\"date\": \"2016-09-23T00:00:00\", \"close\": 28668.220703125, \"movingavg\": 28462.71884765625}, {\"date\": \"2016-09-26T00:00:00\", \"close\": 28294.279296875, \"movingavg\": 28493.13291015625}, {\"date\": \"2016-09-27T00:00:00\", \"close\": 28223.69921875, \"movingavg\": 28516.0513671875}, {\"date\": \"2016-09-28T00:00:00\", \"close\": 28292.810546875, \"movingavg\": 28538.123828125}, {\"date\": \"2016-09-29T00:00:00\", \"close\": 27827.529296875, \"movingavg\": 28557.63134765625}, {\"date\": \"2016-09-30T00:00:00\", \"close\": 27865.9609375, \"movingavg\": 28531.85732421875}, {\"date\": \"2016-10-03T00:00:00\", \"close\": 28243.2890625, \"movingavg\": 28502.546875}, {\"date\": \"2016-10-04T00:00:00\", \"close\": 28334.55078125, \"movingavg\": 28493.5373046875}, {\"date\": \"2016-10-05T00:00:00\", \"close\": 28220.98046875, \"movingavg\": 28483.659375}, {\"date\": \"2016-10-06T00:00:00\", \"close\": 28106.2109375, \"movingavg\": 28445.807421875}, {\"date\": \"2016-10-07T00:00:00\", \"close\": 28061.140625, \"movingavg\": 28404.8}, {\"date\": \"2016-10-10T00:00:00\", \"close\": 28082.33984375, \"movingavg\": 28355.59306640625}, {\"date\": \"2016-10-13T00:00:00\", \"close\": 27643.109375, \"movingavg\": 28319.84755859375}, {\"date\": \"2016-10-14T00:00:00\", \"close\": 27673.599609375, \"movingavg\": 28284.32607421875}, {\"date\": \"2016-10-17T00:00:00\", \"close\": 27529.970703125, \"movingavg\": 28249.39453125}, {\"date\": \"2016-10-18T00:00:00\", \"close\": 28050.880859375, \"movingavg\": 28205.24853515625}, {\"date\": \"2016-10-19T00:00:00\", \"close\": 27984.369140625, \"movingavg\": 28177.84111328125}, {\"date\": \"2016-10-20T00:00:00\", \"close\": 28129.83984375, \"movingavg\": 28145.3345703125}, {\"date\": \"2016-10-21T00:00:00\", \"close\": 28077.1796875, \"movingavg\": 28125.6666015625}, {\"date\": \"2016-10-24T00:00:00\", \"close\": 28179.080078125, \"movingavg\": 28104.15458984375}, {\"date\": \"2016-10-25T00:00:00\", \"close\": 28091.419921875, \"movingavg\": 28074.45205078125}, {\"date\": \"2016-10-26T00:00:00\", \"close\": 27836.509765625, \"movingavg\": 28045.61201171875}, {\"date\": \"2016-10-27T00:00:00\", \"close\": 27915.900390625, \"movingavg\": 28022.72353515625}, {\"date\": \"2016-10-28T00:00:00\", \"close\": 27941.509765625, \"movingavg\": 28007.33359375}, {\"date\": \"2016-11-01T00:00:00\", \"close\": 27876.609375, \"movingavg\": 27989.7685546875}, {\"date\": \"2016-11-02T00:00:00\", \"close\": 27527.220703125, \"movingavg\": 27992.22255859375}, {\"date\": \"2016-11-03T00:00:00\", \"close\": 27430.279296875, \"movingavg\": 27975.285546875}, {\"date\": \"2016-11-04T00:00:00\", \"close\": 27274.150390625, \"movingavg\": 27934.63505859375}, {\"date\": \"2016-11-07T00:00:00\", \"close\": 27458.990234375, \"movingavg\": 27881.6150390625}, {\"date\": \"2016-11-08T00:00:00\", \"close\": 27591.140625, \"movingavg\": 27843.51552734375}, {\"date\": \"2016-11-09T00:00:00\", \"close\": 27252.529296875, \"movingavg\": 27817.76201171875}, {\"date\": \"2016-11-10T00:00:00\", \"close\": 27517.6796875, \"movingavg\": 27777.3314453125}, {\"date\": \"2016-11-11T00:00:00\", \"close\": 26818.8203125, \"movingavg\": 27749.0984375}, {\"date\": \"2016-11-15T00:00:00\", \"close\": 26304.630859375, \"movingavg\": 27707.883984375}, {\"date\": \"2016-11-16T00:00:00\", \"close\": 26298.689453125, \"movingavg\": 27639.435546875}, {\"date\": \"2016-11-17T00:00:00\", \"close\": 26227.619140625, \"movingavg\": 27577.871484375}, {\"date\": \"2016-11-18T00:00:00\", \"close\": 26150.240234375, \"movingavg\": 27486.7083984375}, {\"date\": \"2016-11-21T00:00:00\", \"close\": 25765.140625, \"movingavg\": 27395.001953125}, {\"date\": \"2016-11-22T00:00:00\", \"close\": 25960.779296875, \"movingavg\": 27276.7669921875}, {\"date\": \"2016-11-23T00:00:00\", \"close\": 26051.810546875, \"movingavg\": 27170.94697265625}, {\"date\": \"2016-11-24T00:00:00\", \"close\": 25860.169921875, \"movingavg\": 27064.58349609375}, {\"date\": \"2016-11-25T00:00:00\", \"close\": 26316.33984375, \"movingavg\": 26953.02099609375}, {\"date\": \"2016-11-28T00:00:00\", \"close\": 26350.169921875, \"movingavg\": 26877.0125}, {\"date\": \"2016-11-29T00:00:00\", \"close\": 26394.009765625, \"movingavg\": 26798.7259765625}, {\"date\": \"2016-11-30T00:00:00\", \"close\": 26652.810546875, \"movingavg\": 26721.3509765625}, {\"date\": \"2016-12-01T00:00:00\", \"close\": 26559.919921875, \"movingavg\": 26660.16103515625}, {\"date\": \"2016-12-02T00:00:00\", \"close\": 26230.66015625, \"movingavg\": 26611.79599609375}, {\"date\": \"2016-12-05T00:00:00\", \"close\": 26349.099609375, \"movingavg\": 26551.8150390625}, {\"date\": \"2016-12-06T00:00:00\", \"close\": 26392.759765625, \"movingavg\": 26505.5625}, {\"date\": \"2016-12-07T00:00:00\", \"close\": 26236.869140625, \"movingavg\": 26452.2509765625}, {\"date\": \"2016-12-08T00:00:00\", \"close\": 26694.279296875, \"movingavg\": 26384.53740234375}, {\"date\": \"2016-12-09T00:00:00\", \"close\": 26747.1796875, \"movingavg\": 26356.62490234375}, {\"date\": \"2016-12-12T00:00:00\", \"close\": 26515.240234375, \"movingavg\": 26318.09990234375}, {\"date\": \"2016-12-13T00:00:00\", \"close\": 26697.8203125, \"movingavg\": 26302.9208984375}, {\"date\": \"2016-12-14T00:00:00\", \"close\": 26602.83984375, \"movingavg\": 26322.58037109375}, {\"date\": \"2016-12-15T00:00:00\", \"close\": 26519.0703125, \"movingavg\": 26337.787890625}, {\"date\": \"2016-12-16T00:00:00\", \"close\": 26489.560546875, \"movingavg\": 26352.36044921875}, {\"date\": \"2016-12-19T00:00:00\", \"close\": 26374.69921875, \"movingavg\": 26369.32646484375}, {\"date\": \"2016-12-20T00:00:00\", \"close\": 26307.98046875, \"movingavg\": 26399.80439453125}, {\"date\": \"2016-12-21T00:00:00\", \"close\": 26242.380859375, \"movingavg\": 26417.164453125}, {\"date\": \"2016-12-22T00:00:00\", \"close\": 25979.599609375, \"movingavg\": 26426.69296875}, {\"date\": \"2016-12-23T00:00:00\", \"close\": 26040.69921875, \"movingavg\": 26432.664453125}, {\"date\": \"2016-12-26T00:00:00\", \"close\": 25807.099609375, \"movingavg\": 26418.882421875}, {\"date\": \"2016-12-27T00:00:00\", \"close\": 26213.439453125, \"movingavg\": 26391.72890625}, {\"date\": \"2016-12-28T00:00:00\", \"close\": 26210.6796875, \"movingavg\": 26382.700390625}, {\"date\": \"2016-12-29T00:00:00\", \"close\": 26366.150390625, \"movingavg\": 26360.59384765625}, {\"date\": \"2016-12-30T00:00:00\", \"close\": 26626.4609375, \"movingavg\": 26350.90537109375}, {\"date\": \"2017-01-02T00:00:00\", \"close\": 26595.44921875, \"movingavg\": 26370.69541015625}, {\"date\": \"2017-01-03T00:00:00\", \"close\": 26643.240234375, \"movingavg\": 26383.012890625}, {\"date\": \"2017-01-04T00:00:00\", \"close\": 26633.130859375, \"movingavg\": 26395.5369140625}, {\"date\": \"2017-01-05T00:00:00\", \"close\": 26878.240234375, \"movingavg\": 26415.35}, {\"date\": \"2017-01-06T00:00:00\", \"close\": 26759.23046875, \"movingavg\": 26424.548046875}, {\"date\": \"2017-01-09T00:00:00\", \"close\": 26726.55078125, \"movingavg\": 26425.1505859375}, {\"date\": \"2017-01-10T00:00:00\", \"close\": 26899.560546875, \"movingavg\": 26435.71611328125}, {\"date\": \"2017-01-11T00:00:00\", \"close\": 27140.41015625, \"movingavg\": 26445.803125}, {\"date\": \"2017-01-12T00:00:00\", \"close\": 27247.16015625, \"movingavg\": 26472.681640625}, {\"date\": \"2017-01-13T00:00:00\", \"close\": 27238.060546875, \"movingavg\": 26509.0861328125}, {\"date\": \"2017-01-16T00:00:00\", \"close\": 27288.169921875, \"movingavg\": 26546.5111328125}, {\"date\": \"2017-01-17T00:00:00\", \"close\": 27235.66015625, \"movingavg\": 26592.18466796875}, {\"date\": \"2017-01-18T00:00:00\", \"close\": 27257.640625, \"movingavg\": 26638.56865234375}, {\"date\": \"2017-01-19T00:00:00\", \"close\": 27308.599609375, \"movingavg\": 26689.331640625}, {\"date\": \"2017-01-20T00:00:00\", \"close\": 27034.5, \"movingavg\": 26755.781640625}, {\"date\": \"2017-01-23T00:00:00\", \"close\": 27117.33984375, \"movingavg\": 26805.4716796875}, {\"date\": \"2017-01-24T00:00:00\", \"close\": 27375.580078125, \"movingavg\": 26870.98369140625}, {\"date\": \"2017-01-25T00:00:00\", \"close\": 27708.140625, \"movingavg\": 26929.09072265625}, {\"date\": \"2017-01-27T00:00:00\", \"close\": 27882.4609375, \"movingavg\": 27003.96376953125}, {\"date\": \"2017-01-30T00:00:00\", \"close\": 27849.560546875, \"movingavg\": 27079.779296875}, {\"date\": \"2017-01-31T00:00:00\", \"close\": 27655.9609375, \"movingavg\": 27140.93427734375}, {\"date\": \"2017-02-01T00:00:00\", \"close\": 28141.640625, \"movingavg\": 27193.95986328125}, {\"date\": \"2017-02-02T00:00:00\", \"close\": 28226.609375, \"movingavg\": 27268.8798828125}, {\"date\": \"2017-02-03T00:00:00\", \"close\": 28240.51953125, \"movingavg\": 27348.55380859375}, {\"date\": \"2017-02-06T00:00:00\", \"close\": 28439.279296875, \"movingavg\": 27416.6677734375}, {\"date\": \"2017-02-07T00:00:00\", \"close\": 28335.16015625, \"movingavg\": 27500.67021484375}, {\"date\": \"2017-02-08T00:00:00\", \"close\": 28289.919921875, \"movingavg\": 27581.10068359375}, {\"date\": \"2017-02-09T00:00:00\", \"close\": 28329.69921875, \"movingavg\": 27650.61865234375}, {\"date\": \"2017-02-10T00:00:00\", \"close\": 28334.25, \"movingavg\": 27710.08310546875}, {\"date\": \"2017-02-13T00:00:00\", \"close\": 28351.619140625, \"movingavg\": 27764.43759765625}, {\"date\": \"2017-02-14T00:00:00\", \"close\": 28339.310546875, \"movingavg\": 27820.11552734375}, {\"date\": \"2017-02-15T00:00:00\", \"close\": 28155.560546875, \"movingavg\": 27872.67255859375}, {\"date\": \"2017-02-16T00:00:00\", \"close\": 28301.26953125, \"movingavg\": 27918.667578125}, {\"date\": \"2017-02-17T00:00:00\", \"close\": 28468.75, \"movingavg\": 27970.8490234375}, {\"date\": \"2017-02-20T00:00:00\", \"close\": 28661.580078125, \"movingavg\": 28028.85654296875}, {\"date\": \"2017-02-21T00:00:00\", \"close\": 28761.58984375, \"movingavg\": 28110.210546875}, {\"date\": \"2017-02-22T00:00:00\", \"close\": 28864.7109375, \"movingavg\": 28192.423046875}, {\"date\": \"2017-02-23T00:00:00\", \"close\": 28892.970703125, \"movingavg\": 28266.87958984375}, {\"date\": \"2017-02-27T00:00:00\", \"close\": 28812.880859375, \"movingavg\": 28326.12109375}, {\"date\": \"2017-02-28T00:00:00\", \"close\": 28743.3203125, \"movingavg\": 28372.64208984375}, {\"date\": \"2017-03-01T00:00:00\", \"close\": 28984.490234375, \"movingavg\": 28417.330078125}, {\"date\": \"2017-03-02T00:00:00\", \"close\": 28839.7890625, \"movingavg\": 28483.75654296875}, {\"date\": \"2017-03-03T00:00:00\", \"close\": 28832.44921875, \"movingavg\": 28518.66396484375}, {\"date\": \"2017-03-06T00:00:00\", \"close\": 29048.189453125, \"movingavg\": 28548.95595703125}, {\"date\": \"2017-03-07T00:00:00\", \"close\": 28999.560546875, \"movingavg\": 28589.339453125}, {\"date\": \"2017-03-08T00:00:00\", \"close\": 28901.939453125, \"movingavg\": 28617.353515625}, {\"date\": \"2017-03-09T00:00:00\", \"close\": 28929.130859375, \"movingavg\": 28645.69248046875}, {\"date\": \"2017-03-10T00:00:00\", \"close\": 28946.23046875, \"movingavg\": 28677.65302734375}, {\"date\": \"2017-03-14T00:00:00\", \"close\": 29442.630859375, \"movingavg\": 28708.47958984375}, {\"date\": \"2017-03-15T00:00:00\", \"close\": 29398.109375, \"movingavg\": 28763.8986328125}, {\"date\": \"2017-03-16T00:00:00\", \"close\": 29585.849609375, \"movingavg\": 28816.22314453125}, {\"date\": \"2017-03-17T00:00:00\", \"close\": 29648.990234375, \"movingavg\": 28878.55009765625}, {\"date\": \"2017-03-20T00:00:00\", \"close\": 29518.740234375, \"movingavg\": 28953.22158203125}, {\"date\": \"2017-03-21T00:00:00\", \"close\": 29485.44921875, \"movingavg\": 29014.0951171875}, {\"date\": \"2017-03-22T00:00:00\", \"close\": 29167.6796875, \"movingavg\": 29064.930078125}, {\"date\": \"2017-03-23T00:00:00\", \"close\": 29332.16015625, \"movingavg\": 29090.23505859375}, {\"date\": \"2017-03-24T00:00:00\", \"close\": 29421.400390625, \"movingavg\": 29118.76357421875}, {\"date\": \"2017-03-27T00:00:00\", \"close\": 29237.150390625, \"movingavg\": 29146.598046875}, {\"date\": \"2017-03-28T00:00:00\", \"close\": 29409.51953125, \"movingavg\": 29163.80703125}, {\"date\": \"2017-03-29T00:00:00\", \"close\": 29531.4296875, \"movingavg\": 29193.63896484375}, {\"date\": \"2017-03-30T00:00:00\", \"close\": 29647.419921875, \"movingavg\": 29233.04443359375}, {\"date\": \"2017-03-31T00:00:00\", \"close\": 29620.5, \"movingavg\": 29266.19091796875}, {\"date\": \"2017-04-03T00:00:00\", \"close\": 29910.220703125, \"movingavg\": 29305.22646484375}, {\"date\": \"2017-04-05T00:00:00\", \"close\": 29974.240234375, \"movingavg\": 29359.1150390625}, {\"date\": \"2017-04-06T00:00:00\", \"close\": 29927.33984375, \"movingavg\": 29405.417578125}, {\"date\": \"2017-04-07T00:00:00\", \"close\": 29706.609375, \"movingavg\": 29451.80654296875}, {\"date\": \"2017-04-10T00:00:00\", \"close\": 29575.740234375, \"movingavg\": 29492.0400390625}, {\"date\": \"2017-04-11T00:00:00\", \"close\": 29788.349609375, \"movingavg\": 29524.3705078125}, {\"date\": \"2017-04-12T00:00:00\", \"close\": 29643.48046875, \"movingavg\": 29566.47646484375}, {\"date\": \"2017-04-13T00:00:00\", \"close\": 29461.44921875, \"movingavg\": 29576.5189453125}, {\"date\": \"2017-04-17T00:00:00\", \"close\": 29413.66015625, \"movingavg\": 29579.6859375}, {\"date\": \"2017-04-18T00:00:00\", \"close\": 29319.099609375, \"movingavg\": 29571.07646484375}, {\"date\": \"2017-04-19T00:00:00\", \"close\": 29336.5703125, \"movingavg\": 29554.58193359375}, {\"date\": \"2017-04-20T00:00:00\", \"close\": 29422.390625, \"movingavg\": 29545.4734375}, {\"date\": \"2017-04-21T00:00:00\", \"close\": 29365.30078125, \"movingavg\": 29542.3205078125}, {\"date\": \"2017-04-24T00:00:00\", \"close\": 29655.83984375, \"movingavg\": 29552.2015625}, {\"date\": \"2017-04-25T00:00:00\", \"close\": 29943.240234375, \"movingavg\": 29568.385546875}, {\"date\": \"2017-04-26T00:00:00\", \"close\": 30133.349609375, \"movingavg\": 29594.4775390625}, {\"date\": \"2017-04-27T00:00:00\", \"close\": 30029.740234375, \"movingavg\": 29639.2875}, {\"date\": \"2017-04-28T00:00:00\", \"close\": 29918.400390625, \"movingavg\": 29670.29853515625}, {\"date\": \"2017-05-02T00:00:00\", \"close\": 29921.1796875, \"movingavg\": 29689.6470703125}, {\"date\": \"2017-05-03T00:00:00\", \"close\": 29894.80078125, \"movingavg\": 29703.33505859375}, {\"date\": \"2017-05-04T00:00:00\", \"close\": 30126.2109375, \"movingavg\": 29717.05009765625}, {\"date\": \"2017-05-05T00:00:00\", \"close\": 29858.80078125, \"movingavg\": 29727.849609375}, {\"date\": \"2017-05-08T00:00:00\", \"close\": 29926.150390625, \"movingavg\": 29722.07763671875}, {\"date\": \"2017-05-09T00:00:00\", \"close\": 29933.25, \"movingavg\": 29722.0181640625}, {\"date\": \"2017-05-10T00:00:00\", \"close\": 30248.169921875, \"movingavg\": 29733.3501953125}, {\"date\": \"2017-05-11T00:00:00\", \"close\": 30250.98046875, \"movingavg\": 29766.9716796875}, {\"date\": \"2017-05-12T00:00:00\", \"close\": 30188.150390625, \"movingavg\": 29790.10322265625}, {\"date\": \"2017-05-15T00:00:00\", \"close\": 30322.119140625, \"movingavg\": 29817.33671875}, {\"date\": \"2017-05-16T00:00:00\", \"close\": 30582.599609375, \"movingavg\": 29860.37021484375}, {\"date\": \"2017-05-17T00:00:00\", \"close\": 30658.76953125, \"movingavg\": 29918.8171875}, {\"date\": \"2017-05-18T00:00:00\", \"close\": 30434.7890625, \"movingavg\": 29985.80068359375}, {\"date\": \"2017-05-19T00:00:00\", \"close\": 30464.919921875, \"movingavg\": 30040.71162109375}, {\"date\": \"2017-05-22T00:00:00\", \"close\": 30570.970703125, \"movingavg\": 30092.8380859375}, {\"date\": \"2017-05-23T00:00:00\", \"close\": 30365.25, \"movingavg\": 30153.12158203125}, {\"date\": \"2017-05-24T00:00:00\", \"close\": 30301.640625, \"movingavg\": 30188.59208984375}, {\"date\": \"2017-05-25T00:00:00\", \"close\": 30750.029296875, \"movingavg\": 30206.512109375}, {\"date\": \"2017-05-26T00:00:00\", \"close\": 31028.2109375, \"movingavg\": 30237.34609375}, {\"date\": \"2017-05-29T00:00:00\", \"close\": 31109.279296875, \"movingavg\": 30287.26962890625}, {\"date\": \"2017-05-30T00:00:00\", \"close\": 31159.400390625, \"movingavg\": 30346.81357421875}, {\"date\": \"2017-05-31T00:00:00\", \"close\": 31145.80078125, \"movingavg\": 30408.724609375}, {\"date\": \"2017-06-01T00:00:00\", \"close\": 31137.58984375, \"movingavg\": 30471.274609375}, {\"date\": \"2017-06-02T00:00:00\", \"close\": 31273.2890625, \"movingavg\": 30521.8435546875}, {\"date\": \"2017-06-05T00:00:00\", \"close\": 31309.490234375, \"movingavg\": 30592.56796875}, {\"date\": \"2017-06-06T00:00:00\", \"close\": 31190.560546875, \"movingavg\": 30661.7349609375}, {\"date\": \"2017-06-07T00:00:00\", \"close\": 31271.279296875, \"movingavg\": 30724.60048828125}, {\"date\": \"2017-06-08T00:00:00\", \"close\": 31213.359375, \"movingavg\": 30775.75595703125}, {\"date\": \"2017-06-09T00:00:00\", \"close\": 31262.060546875, \"movingavg\": 30823.87490234375}, {\"date\": \"2017-06-12T00:00:00\", \"close\": 31095.69921875, \"movingavg\": 30877.57041015625}, {\"date\": \"2017-06-13T00:00:00\", \"close\": 31103.490234375, \"movingavg\": 30916.2494140625}, {\"date\": \"2017-06-14T00:00:00\", \"close\": 31155.91015625, \"movingavg\": 30942.2939453125}, {\"date\": \"2017-06-15T00:00:00\", \"close\": 31075.73046875, \"movingavg\": 30967.1509765625}, {\"date\": \"2017-06-16T00:00:00\", \"close\": 31056.400390625, \"movingavg\": 30999.198046875}, {\"date\": \"2017-06-19T00:00:00\", \"close\": 31311.5703125, \"movingavg\": 31028.7720703125}, {\"date\": \"2017-06-20T00:00:00\", \"close\": 31297.529296875, \"movingavg\": 31065.80205078125}, {\"date\": \"2017-06-21T00:00:00\", \"close\": 31283.640625, \"movingavg\": 31112.416015625}, {\"date\": \"2017-06-22T00:00:00\", \"close\": 31290.740234375, \"movingavg\": 31161.516015625}, {\"date\": \"2017-06-23T00:00:00\", \"close\": 31138.2109375, \"movingavg\": 31188.5515625}, {\"date\": \"2017-06-27T00:00:00\", \"close\": 30958.25, \"movingavg\": 31194.0515625}, {\"date\": \"2017-06-28T00:00:00\", \"close\": 30834.3203125, \"movingavg\": 31186.50009765625}, {\"date\": \"2017-06-29T00:00:00\", \"close\": 30857.51953125, \"movingavg\": 31170.24609375}, {\"date\": \"2017-06-30T00:00:00\", \"close\": 30921.609375, \"movingavg\": 31155.83203125}, {\"date\": \"2017-07-03T00:00:00\", \"close\": 31221.619140625, \"movingavg\": 31145.0330078125}, {\"date\": \"2017-07-04T00:00:00\", \"close\": 31209.7890625, \"movingavg\": 31142.44951171875}, {\"date\": \"2017-07-05T00:00:00\", \"close\": 31245.560546875, \"movingavg\": 31137.464453125}, {\"date\": \"2017-07-06T00:00:00\", \"close\": 31369.33984375, \"movingavg\": 31140.214453125}, {\"date\": \"2017-07-07T00:00:00\", \"close\": 31360.630859375, \"movingavg\": 31145.11748046875}, {\"date\": \"2017-07-10T00:00:00\", \"close\": 31715.640625, \"movingavg\": 31152.4810546875}, {\"date\": \"2017-07-11T00:00:00\", \"close\": 31747.08984375, \"movingavg\": 31175.16005859375}, {\"date\": \"2017-07-12T00:00:00\", \"close\": 31804.8203125, \"movingavg\": 31207.72958984375}, {\"date\": \"2017-07-13T00:00:00\", \"close\": 32037.380859375, \"movingavg\": 31242.79609375}, {\"date\": \"2017-07-14T00:00:00\", \"close\": 32020.75, \"movingavg\": 31286.86962890625}, {\"date\": \"2017-07-17T00:00:00\", \"close\": 32074.779296875, \"movingavg\": 31334.12060546875}, {\"date\": \"2017-07-18T00:00:00\", \"close\": 31710.990234375, \"movingavg\": 31385.03955078125}, {\"date\": \"2017-07-19T00:00:00\", \"close\": 31955.349609375, \"movingavg\": 31405.010546875}, {\"date\": \"2017-07-20T00:00:00\", \"close\": 31904.400390625, \"movingavg\": 31437.9015625}, {\"date\": \"2017-07-21T00:00:00\", \"close\": 32028.890625, \"movingavg\": 31468.93955078125}, {\"date\": \"2017-07-24T00:00:00\", \"close\": 32245.869140625, \"movingavg\": 31505.8470703125}, {\"date\": \"2017-07-25T00:00:00\", \"close\": 32228.26953125, \"movingavg\": 31561.22998046875}, {\"date\": \"2017-07-26T00:00:00\", \"close\": 32382.4609375, \"movingavg\": 31624.73095703125}, {\"date\": \"2017-07-27T00:00:00\", \"close\": 32383.30078125, \"movingavg\": 31702.13798828125}, {\"date\": \"2017-07-28T00:00:00\", \"close\": 32309.880859375, \"movingavg\": 31778.42705078125}, {\"date\": \"2017-07-31T00:00:00\", \"close\": 32514.939453125, \"movingavg\": 31847.840625}, {\"date\": \"2017-08-01T00:00:00\", \"close\": 32575.169921875, \"movingavg\": 31912.506640625}, {\"date\": \"2017-08-02T00:00:00\", \"close\": 32476.740234375, \"movingavg\": 31980.77568359375}, {\"date\": \"2017-08-03T00:00:00\", \"close\": 32237.880859375, \"movingavg\": 32042.33466796875}, {\"date\": \"2017-08-04T00:00:00\", \"close\": 32325.41015625, \"movingavg\": 32085.76171875}, {\"date\": \"2017-08-07T00:00:00\", \"close\": 32273.669921875, \"movingavg\": 32134.00068359375}, {\"date\": \"2017-08-08T00:00:00\", \"close\": 32014.189453125, \"movingavg\": 32161.9021484375}, {\"date\": \"2017-08-09T00:00:00\", \"close\": 31797.83984375, \"movingavg\": 32175.25712890625}, {\"date\": \"2017-08-10T00:00:00\", \"close\": 31531.330078125, \"movingavg\": 32174.90810546875}, {\"date\": \"2017-08-11T00:00:00\", \"close\": 31213.58984375, \"movingavg\": 32149.60556640625}, {\"date\": \"2017-08-14T00:00:00\", \"close\": 31449.029296875, \"movingavg\": 32109.24755859375}, {\"date\": \"2017-08-16T00:00:00\", \"close\": 31770.890625, \"movingavg\": 32077.96005859375}, {\"date\": \"2017-08-17T00:00:00\", \"close\": 31795.4609375, \"movingavg\": 32080.955078125}, {\"date\": \"2017-08-18T00:00:00\", \"close\": 31524.6796875, \"movingavg\": 32072.96064453125}, {\"date\": \"2017-08-21T00:00:00\", \"close\": 31258.849609375, \"movingavg\": 32053.974609375}, {\"date\": \"2017-08-22T00:00:00\", \"close\": 31291.849609375, \"movingavg\": 32015.47255859375}, {\"date\": \"2017-08-23T00:00:00\", \"close\": 31568.009765625, \"movingavg\": 31967.77158203125}, {\"date\": \"2017-08-24T00:00:00\", \"close\": 31596.060546875, \"movingavg\": 31934.75859375}, {\"date\": \"2017-08-28T00:00:00\", \"close\": 31750.8203125, \"movingavg\": 31895.43857421875}, {\"date\": \"2017-08-29T00:00:00\", \"close\": 31388.390625, \"movingavg\": 31863.81455078125}, {\"date\": \"2017-08-30T00:00:00\", \"close\": 31646.4609375, \"movingavg\": 31817.7400390625}, {\"date\": \"2017-08-31T00:00:00\", \"close\": 31730.490234375, \"movingavg\": 31774.31611328125}, {\"date\": \"2017-09-01T00:00:00\", \"close\": 31892.23046875, \"movingavg\": 31732.08212890625}, {\"date\": \"2017-09-04T00:00:00\", \"close\": 31702.25, \"movingavg\": 31702.856640625}, {\"date\": \"2017-09-05T00:00:00\", \"close\": 31809.55078125, \"movingavg\": 31676.07509765625}, {\"date\": \"2017-09-06T00:00:00\", \"close\": 31661.970703125, \"movingavg\": 31650.28212890625}, {\"date\": \"2017-09-07T00:00:00\", \"close\": 31662.740234375, \"movingavg\": 31619.69716796875}, {\"date\": \"2017-09-08T00:00:00\", \"close\": 31687.51953125, \"movingavg\": 31602.12470703125}, {\"date\": \"2017-09-11T00:00:00\", \"close\": 31882.16015625, \"movingavg\": 31596.60869140625}, {\"date\": \"2017-09-12T00:00:00\", \"close\": 32158.66015625, \"movingavg\": 31614.1501953125}, {\"date\": \"2017-09-13T00:00:00\", \"close\": 32186.41015625, \"movingavg\": 31661.4037109375}, {\"date\": \"2017-09-14T00:00:00\", \"close\": 32241.9296875, \"movingavg\": 31698.27275390625}, {\"date\": \"2017-09-15T00:00:00\", \"close\": 32272.609375, \"movingavg\": 31721.82470703125}, {\"date\": \"2017-09-18T00:00:00\", \"close\": 32423.759765625, \"movingavg\": 31745.68212890625}, {\"date\": \"2017-09-19T00:00:00\", \"close\": 32402.369140625, \"movingavg\": 31790.6361328125}, {\"date\": \"2017-09-20T00:00:00\", \"close\": 32400.509765625, \"movingavg\": 31847.812109375}, {\"date\": \"2017-09-21T00:00:00\", \"close\": 32370.0390625, \"movingavg\": 31903.2451171875}, {\"date\": \"2017-09-22T00:00:00\", \"close\": 31922.439453125, \"movingavg\": 31943.34658203125}, {\"date\": \"2017-09-25T00:00:00\", \"close\": 31626.630859375, \"movingavg\": 31959.66552734375}, {\"date\": \"2017-09-26T00:00:00\", \"close\": 31599.759765625, \"movingavg\": 31953.4560546875}, {\"date\": \"2017-09-27T00:00:00\", \"close\": 31159.810546875, \"movingavg\": 31964.02451171875}, {\"date\": \"2017-09-28T00:00:00\", \"close\": 31282.48046875, \"movingavg\": 31939.6919921875}, {\"date\": \"2017-09-29T00:00:00\", \"close\": 31283.720703125, \"movingavg\": 31917.29150390625}, {\"date\": \"2017-10-03T00:00:00\", \"close\": 31497.380859375, \"movingavg\": 31886.866015625}, {\"date\": \"2017-10-04T00:00:00\", \"close\": 31671.7109375, \"movingavg\": 31876.62255859375}, {\"date\": \"2017-10-05T00:00:00\", \"close\": 31592.029296875, \"movingavg\": 31869.73056640625}, {\"date\": \"2017-10-06T00:00:00\", \"close\": 31814.220703125, \"movingavg\": 31866.23349609375}, {\"date\": \"2017-10-09T00:00:00\", \"close\": 31846.890625, \"movingavg\": 31873.80751953125}, {\"date\": \"2017-10-10T00:00:00\", \"close\": 31924.41015625, \"movingavg\": 31881.77607421875}, {\"date\": \"2017-10-11T00:00:00\", \"close\": 31833.990234375, \"movingavg\": 31883.88857421875}, {\"date\": \"2017-10-12T00:00:00\", \"close\": 32182.220703125, \"movingavg\": 31867.655078125}, {\"date\": \"2017-10-13T00:00:00\", \"close\": 32432.689453125, \"movingavg\": 31867.44560546875}, {\"date\": \"2017-10-16T00:00:00\", \"close\": 32633.640625, \"movingavg\": 31876.98359375}, {\"date\": \"2017-10-17T00:00:00\", \"close\": 32609.16015625, \"movingavg\": 31895.03515625}, {\"date\": \"2017-10-18T00:00:00\", \"close\": 32584.349609375, \"movingavg\": 31904.30517578125}, {\"date\": \"2017-10-19T00:00:00\", \"close\": 32389.9609375, \"movingavg\": 31913.40419921875}, {\"date\": \"2017-10-23T00:00:00\", \"close\": 32506.720703125, \"movingavg\": 31912.8767578125}, {\"date\": \"2017-10-24T00:00:00\", \"close\": 32607.33984375, \"movingavg\": 31919.71083984375}, {\"date\": \"2017-10-25T00:00:00\", \"close\": 33042.5, \"movingavg\": 31953.955859375}, {\"date\": \"2017-10-26T00:00:00\", \"close\": 33147.12890625, \"movingavg\": 32024.74931640625}, {\"date\": \"2017-10-27T00:00:00\", \"close\": 33157.21875, \"movingavg\": 32102.1177734375}, {\"date\": \"2017-10-30T00:00:00\", \"close\": 33266.16015625, \"movingavg\": 32201.98818359375}, {\"date\": \"2017-10-31T00:00:00\", \"close\": 33213.12890625, \"movingavg\": 32301.17216796875}, {\"date\": \"2017-11-01T00:00:00\", \"close\": 33600.26953125, \"movingavg\": 32397.642578125}, {\"date\": \"2017-11-02T00:00:00\", \"close\": 33573.21875, \"movingavg\": 32502.78701171875}, {\"date\": \"2017-11-03T00:00:00\", \"close\": 33685.55859375, \"movingavg\": 32597.86240234375}, {\"date\": \"2017-11-06T00:00:00\", \"close\": 33731.19140625, \"movingavg\": 32702.5388671875}, {\"date\": \"2017-11-07T00:00:00\", \"close\": 33370.76171875, \"movingavg\": 32798.38740234375}, {\"date\": \"2017-11-08T00:00:00\", \"close\": 33218.80859375, \"movingavg\": 32874.58095703125}, {\"date\": \"2017-11-09T00:00:00\", \"close\": 33250.9296875, \"movingavg\": 32939.30087890625}, {\"date\": \"2017-11-10T00:00:00\", \"close\": 33314.55859375, \"movingavg\": 33010.1478515625}, {\"date\": \"2017-11-13T00:00:00\", \"close\": 33033.55859375, \"movingavg\": 33066.76474609375}, {\"date\": \"2017-11-14T00:00:00\", \"close\": 32941.87109375, \"movingavg\": 33096.808203125}, {\"date\": \"2017-11-15T00:00:00\", \"close\": 32760.439453125, \"movingavg\": 33112.2197265625}, {\"date\": \"2017-11-16T00:00:00\", \"close\": 33106.8203125, \"movingavg\": 33119.78369140625}, {\"date\": \"2017-11-17T00:00:00\", \"close\": 33342.80078125, \"movingavg\": 33145.9072265625}, {\"date\": \"2017-11-20T00:00:00\", \"close\": 33359.8984375, \"movingavg\": 33193.54921875}, {\"date\": \"2017-11-21T00:00:00\", \"close\": 33478.3515625, \"movingavg\": 33236.20810546875}, {\"date\": \"2017-11-22T00:00:00\", \"close\": 33561.55078125, \"movingavg\": 33279.75869140625}, {\"date\": \"2017-11-23T00:00:00\", \"close\": 33588.078125, \"movingavg\": 33305.71123046875}, {\"date\": \"2017-11-24T00:00:00\", \"close\": 33679.23828125, \"movingavg\": 33327.75869140625}, {\"date\": \"2017-11-27T00:00:00\", \"close\": 33724.44140625, \"movingavg\": 33353.85966796875}, {\"date\": \"2017-11-28T00:00:00\", \"close\": 33618.58984375, \"movingavg\": 33376.77373046875}, {\"date\": \"2017-11-29T00:00:00\", \"close\": 33602.76171875, \"movingavg\": 33397.04677734375}, {\"date\": \"2017-11-30T00:00:00\", \"close\": 33149.3515625, \"movingavg\": 33397.17138671875}, {\"date\": \"2017-12-01T00:00:00\", \"close\": 32832.94140625, \"movingavg\": 33375.97802734375}, {\"date\": \"2017-12-04T00:00:00\", \"close\": 32869.71875, \"movingavg\": 33333.34716796875}, {\"date\": \"2017-12-05T00:00:00\", \"close\": 32802.44140625, \"movingavg\": 33290.27353515625}, {\"date\": \"2017-12-06T00:00:00\", \"close\": 32597.1796875, \"movingavg\": 33261.85751953125}, {\"date\": \"2017-12-07T00:00:00\", \"close\": 32949.2109375, \"movingavg\": 33230.77607421875}, {\"date\": \"2017-12-08T00:00:00\", \"close\": 33250.30078125, \"movingavg\": 33215.69013671875}, {\"date\": \"2017-12-11T00:00:00\", \"close\": 33455.7890625, \"movingavg\": 33212.47724609375}, {\"date\": \"2017-12-12T00:00:00\", \"close\": 33227.98828125, \"movingavg\": 33233.58876953125}, {\"date\": \"2017-12-13T00:00:00\", \"close\": 33053.0390625, \"movingavg\": 33247.89462890625}, {\"date\": \"2017-12-14T00:00:00\", \"close\": 33246.69921875, \"movingavg\": 33262.524609375}, {\"date\": \"2017-12-15T00:00:00\", \"close\": 33462.96875, \"movingavg\": 33269.5185546875}, {\"date\": \"2017-12-18T00:00:00\", \"close\": 33601.6796875, \"movingavg\": 33275.526953125}, {\"date\": \"2017-12-19T00:00:00\", \"close\": 33836.73828125, \"movingavg\": 33287.616015625}, {\"date\": \"2017-12-20T00:00:00\", \"close\": 33777.37890625, \"movingavg\": 33305.5353515625}, {\"date\": \"2017-12-21T00:00:00\", \"close\": 33756.28125, \"movingavg\": 33316.3267578125}, {\"date\": \"2017-12-22T00:00:00\", \"close\": 33940.30078125, \"movingavg\": 33324.7369140625}, {\"date\": \"2017-12-26T00:00:00\", \"close\": 34010.609375, \"movingavg\": 33337.7900390625}, {\"date\": \"2017-12-27T00:00:00\", \"close\": 33911.80859375, \"movingavg\": 33352.0984375}, {\"date\": \"2017-12-28T00:00:00\", \"close\": 33848.03125, \"movingavg\": 33366.759375}, {\"date\": \"2017-12-29T00:00:00\", \"close\": 34056.828125, \"movingavg\": 33379.0228515625}, {\"date\": \"2018-01-01T00:00:00\", \"close\": 33812.75, \"movingavg\": 33424.3966796875}, {\"date\": \"2018-01-02T00:00:00\", \"close\": 33812.26171875, \"movingavg\": 33473.387109375}, {\"date\": \"2018-01-03T00:00:00\", \"close\": 33793.37890625, \"movingavg\": 33520.5142578125}, {\"date\": \"2018-01-04T00:00:00\", \"close\": 33969.640625, \"movingavg\": 33570.0611328125}, {\"date\": \"2018-01-05T00:00:00\", \"close\": 34153.8515625, \"movingavg\": 33638.6841796875}, {\"date\": \"2018-01-08T00:00:00\", \"close\": 34352.7890625, \"movingavg\": 33698.9162109375}, {\"date\": \"2018-01-09T00:00:00\", \"close\": 34443.19140625, \"movingavg\": 33754.040625}, {\"date\": \"2018-01-10T00:00:00\", \"close\": 34433.0703125, \"movingavg\": 33803.4107421875}, {\"date\": \"2018-01-11T00:00:00\", \"close\": 34503.48828125, \"movingavg\": 33863.66484375}, {\"date\": \"2018-01-12T00:00:00\", \"close\": 34592.390625, \"movingavg\": 33936.1873046875}, {\"date\": \"2018-01-15T00:00:00\", \"close\": 34843.51171875, \"movingavg\": 34003.471875}, {\"date\": \"2018-01-16T00:00:00\", \"close\": 34771.05078125, \"movingavg\": 34072.4990234375}, {\"date\": \"2018-01-17T00:00:00\", \"close\": 35081.8203125, \"movingavg\": 34130.967578125}, {\"date\": \"2018-01-18T00:00:00\", \"close\": 35260.2890625, \"movingavg\": 34193.2216796875}, {\"date\": \"2018-01-19T00:00:00\", \"close\": 35511.578125, \"movingavg\": 34267.3671875}, {\"date\": \"2018-01-22T00:00:00\", \"close\": 35798.01171875, \"movingavg\": 34355.13203125}, {\"date\": \"2018-01-23T00:00:00\", \"close\": 36139.98046875, \"movingavg\": 34448.017578125}, {\"date\": \"2018-01-24T00:00:00\", \"close\": 36161.640625, \"movingavg\": 34554.4861328125}, {\"date\": \"2018-01-25T00:00:00\", \"close\": 36050.44140625, \"movingavg\": 34666.977734375}, {\"date\": \"2018-01-29T00:00:00\", \"close\": 36283.25, \"movingavg\": 34777.0982421875}, {\"date\": \"2018-01-30T00:00:00\", \"close\": 36033.73046875, \"movingavg\": 34888.4193359375}, {\"date\": \"2018-01-31T00:00:00\", \"close\": 35965.01953125, \"movingavg\": 34999.468359375}, {\"date\": \"2018-02-01T00:00:00\", \"close\": 35906.66015625, \"movingavg\": 35107.10625}, {\"date\": \"2018-02-02T00:00:00\", \"close\": 35066.75, \"movingavg\": 35212.7703125}, {\"date\": \"2018-02-05T00:00:00\", \"close\": 34757.16015625, \"movingavg\": 35267.62578125}, {\"date\": \"2018-02-06T00:00:00\", \"close\": 34195.94140625, \"movingavg\": 35297.7912109375}, {\"date\": \"2018-02-07T00:00:00\", \"close\": 34082.7109375, \"movingavg\": 35289.948828125}, {\"date\": \"2018-02-08T00:00:00\", \"close\": 34413.16015625, \"movingavg\": 35271.9248046875}, {\"date\": \"2018-02-09T00:00:00\", \"close\": 34005.76171875, \"movingavg\": 35270.929296875}, {\"date\": \"2018-02-12T00:00:00\", \"close\": 34300.46875, \"movingavg\": 35246.04296875}, {\"date\": \"2018-02-14T00:00:00\", \"close\": 34155.94921875, \"movingavg\": 35231.446875}, {\"date\": \"2018-02-15T00:00:00\", \"close\": 34297.46875, \"movingavg\": 35197.06875}, {\"date\": \"2018-02-16T00:00:00\", \"close\": 34010.76171875, \"movingavg\": 35173.3896484375}, {\"date\": \"2018-02-19T00:00:00\", \"close\": 33774.66015625, \"movingavg\": 35119.83671875}, {\"date\": \"2018-02-20T00:00:00\", \"close\": 33703.58984375, \"movingavg\": 35045.5552734375}, {\"date\": \"2018-02-21T00:00:00\", \"close\": 33844.859375, \"movingavg\": 34955.155859375}, {\"date\": \"2018-02-22T00:00:00\", \"close\": 33819.5, \"movingavg\": 34857.4982421875}, {\"date\": \"2018-02-23T00:00:00\", \"close\": 34142.1484375, \"movingavg\": 34741.47421875}, {\"date\": \"2018-02-26T00:00:00\", \"close\": 34445.75, \"movingavg\": 34640.499609375}, {\"date\": \"2018-02-27T00:00:00\", \"close\": 34346.390625, \"movingavg\": 34560.2650390625}, {\"date\": \"2018-02-28T00:00:00\", \"close\": 34184.0390625, \"movingavg\": 34463.4220703125}, {\"date\": \"2018-03-01T00:00:00\", \"close\": 34046.94140625, \"movingavg\": 34370.9375}, {\"date\": \"2018-03-05T00:00:00\", \"close\": 33746.78125, \"movingavg\": 34275.03359375}, {\"date\": \"2018-03-06T00:00:00\", \"close\": 33317.19921875, \"movingavg\": 34167.0396484375}, {\"date\": \"2018-03-07T00:00:00\", \"close\": 33033.08984375, \"movingavg\": 34079.562109375}, {\"date\": \"2018-03-08T00:00:00\", \"close\": 33351.5703125, \"movingavg\": 33993.35859375}, {\"date\": \"2018-03-09T00:00:00\", \"close\": 33307.140625, \"movingavg\": 33951.1400390625}, {\"date\": \"2018-03-12T00:00:00\", \"close\": 33917.94140625, \"movingavg\": 33912.3615234375}, {\"date\": \"2018-03-13T00:00:00\", \"close\": 33856.78125, \"movingavg\": 33887.6005859375}, {\"date\": \"2018-03-14T00:00:00\", \"close\": 33835.73828125, \"movingavg\": 33880.1515625}, {\"date\": \"2018-03-15T00:00:00\", \"close\": 33685.5390625, \"movingavg\": 33856.9150390625}, {\"date\": \"2018-03-16T00:00:00\", \"close\": 33176.0, \"movingavg\": 33833.39453125}, {\"date\": \"2018-03-19T00:00:00\", \"close\": 32923.12109375, \"movingavg\": 33777.32109375}, {\"date\": \"2018-03-20T00:00:00\", \"close\": 32996.76171875, \"movingavg\": 33722.9390625}, {\"date\": \"2018-03-21T00:00:00\", \"close\": 33136.1796875, \"movingavg\": 33684.044140625}, {\"date\": \"2018-03-22T00:00:00\", \"close\": 33006.26953125, \"movingavg\": 33655.6736328125}, {\"date\": \"2018-03-23T00:00:00\", \"close\": 32596.5390625, \"movingavg\": 33613.744140625}, {\"date\": \"2018-03-26T00:00:00\", \"close\": 33066.41015625, \"movingavg\": 33552.59609375}, {\"date\": \"2018-03-27T00:00:00\", \"close\": 33174.390625, \"movingavg\": 33498.8091796875}, {\"date\": \"2018-03-28T00:00:00\", \"close\": 32968.6796875, \"movingavg\": 33435.2412109375}, {\"date\": \"2018-04-02T00:00:00\", \"close\": 33255.359375, \"movingavg\": 33366.3556640625}, {\"date\": \"2018-04-03T00:00:00\", \"close\": 33370.62890625, \"movingavg\": 33319.9216796875}, {\"date\": \"2018-04-04T00:00:00\", \"close\": 33019.0703125, \"movingavg\": 33286.1060546875}, {\"date\": \"2018-04-05T00:00:00\", \"close\": 33596.80078125, \"movingavg\": 33249.7205078125}, {\"date\": \"2018-04-06T00:00:00\", \"close\": 33626.96875, \"movingavg\": 33263.7005859375}, {\"date\": \"2018-04-09T00:00:00\", \"close\": 33788.5390625, \"movingavg\": 33293.39453125}, {\"date\": \"2018-04-10T00:00:00\", \"close\": 33880.25, \"movingavg\": 33315.24296875}, {\"date\": \"2018-04-11T00:00:00\", \"close\": 33940.44140625, \"movingavg\": 33343.8984375}, {\"date\": \"2018-04-12T00:00:00\", \"close\": 34101.12890625, \"movingavg\": 33345.0234375}, {\"date\": \"2018-04-13T00:00:00\", \"close\": 34192.6484375, \"movingavg\": 33357.2408203125}, {\"date\": \"2018-04-16T00:00:00\", \"close\": 34305.4296875, \"movingavg\": 33375.086328125}, {\"date\": \"2018-04-17T00:00:00\", \"close\": 34395.05859375, \"movingavg\": 33406.080859375}, {\"date\": \"2018-04-18T00:00:00\", \"close\": 34331.6796875, \"movingavg\": 33467.0337890625}, {\"date\": \"2018-04-19T00:00:00\", \"close\": 34427.2890625, \"movingavg\": 33537.46171875}, {\"date\": \"2018-04-20T00:00:00\", \"close\": 34415.578125, \"movingavg\": 33608.9880859375}, {\"date\": \"2018-04-23T00:00:00\", \"close\": 34450.76953125, \"movingavg\": 33672.9580078125}, {\"date\": \"2018-04-24T00:00:00\", \"close\": 34616.640625, \"movingavg\": 33745.1830078125}, {\"date\": \"2018-04-25T00:00:00\", \"close\": 34501.26953125, \"movingavg\": 33846.1880859375}, {\"date\": \"2018-04-26T00:00:00\", \"close\": 34713.6015625, \"movingavg\": 33917.9310546875}, {\"date\": \"2018-04-27T00:00:00\", \"close\": 34969.69921875, \"movingavg\": 33994.8916015625}, {\"date\": \"2018-04-30T00:00:00\", \"close\": 35160.359375, \"movingavg\": 34094.942578125}, {\"date\": \"2018-05-02T00:00:00\", \"close\": 35176.421875, \"movingavg\": 34190.192578125}, {\"date\": \"2018-05-03T00:00:00\", \"close\": 35103.140625, \"movingavg\": 34280.4822265625}, {\"date\": \"2018-05-04T00:00:00\", \"close\": 34915.37890625, \"movingavg\": 34384.6857421875}, {\"date\": \"2018-05-07T00:00:00\", \"close\": 35208.140625, \"movingavg\": 34450.6146484375}, {\"date\": \"2018-05-08T00:00:00\", \"close\": 35216.3203125, \"movingavg\": 34529.6732421875}, {\"date\": \"2018-05-09T00:00:00\", \"close\": 35319.3515625, \"movingavg\": 34601.0623046875}, {\"date\": \"2018-05-10T00:00:00\", \"close\": 35246.26953125, \"movingavg\": 34673.0173828125}, {\"date\": \"2018-05-11T00:00:00\", \"close\": 35535.7890625, \"movingavg\": 34738.3087890625}, {\"date\": \"2018-05-14T00:00:00\", \"close\": 35556.7109375, \"movingavg\": 34810.041796875}, {\"date\": \"2018-05-15T00:00:00\", \"close\": 35543.94140625, \"movingavg\": 34878.244921875}, {\"date\": \"2018-05-16T00:00:00\", \"close\": 35387.87890625, \"movingavg\": 34940.1705078125}, {\"date\": \"2018-05-17T00:00:00\", \"close\": 35149.12109375, \"movingavg\": 34989.8115234375}, {\"date\": \"2018-05-18T00:00:00\", \"close\": 34848.30078125, \"movingavg\": 35030.68359375}, {\"date\": \"2018-05-21T00:00:00\", \"close\": 34616.12890625, \"movingavg\": 35051.7341796875}, {\"date\": \"2018-05-22T00:00:00\", \"close\": 34651.23828125, \"movingavg\": 35061.76171875}, {\"date\": \"2018-05-23T00:00:00\", \"close\": 34344.91015625, \"movingavg\": 35071.78515625}, {\"date\": \"2018-05-24T00:00:00\", \"close\": 34663.109375, \"movingavg\": 35058.1986328125}, {\"date\": \"2018-05-25T00:00:00\", \"close\": 34924.87109375, \"movingavg\": 35066.290625}, {\"date\": \"2018-05-28T00:00:00\", \"close\": 35165.48046875, \"movingavg\": 35076.8541015625}, {\"date\": \"2018-05-29T00:00:00\", \"close\": 34949.23828125, \"movingavg\": 35086.6431640625}, {\"date\": \"2018-05-30T00:00:00\", \"close\": 34906.109375, \"movingavg\": 35076.087109375}, {\"date\": \"2018-05-31T00:00:00\", \"close\": 35322.37890625, \"movingavg\": 35062.571484375}, {\"date\": \"2018-06-01T00:00:00\", \"close\": 35227.26171875, \"movingavg\": 35073.5333984375}, {\"date\": \"2018-06-04T00:00:00\", \"close\": 35011.890625, \"movingavg\": 35089.1275390625}, {\"date\": \"2018-06-05T00:00:00\", \"close\": 34903.2109375, \"movingavg\": 35079.3150390625}, {\"date\": \"2018-06-06T00:00:00\", \"close\": 35178.87890625, \"movingavg\": 35063.6595703125}, {\"date\": \"2018-06-07T00:00:00\", \"close\": 35463.078125, \"movingavg\": 35056.6359375}, {\"date\": \"2018-06-08T00:00:00\", \"close\": 35443.671875, \"movingavg\": 35067.4763671875}, {\"date\": \"2018-06-11T00:00:00\", \"close\": 35483.46875, \"movingavg\": 35062.8705078125}, {\"date\": \"2018-06-12T00:00:00\", \"close\": 35692.51953125, \"movingavg\": 35059.2083984375}, {\"date\": \"2018-06-13T00:00:00\", \"close\": 35739.16015625, \"movingavg\": 35066.6373046875}, {\"date\": \"2018-06-14T00:00:00\", \"close\": 35599.8203125, \"movingavg\": 35084.2013671875}, {\"date\": \"2018-06-15T00:00:00\", \"close\": 35622.140625, \"movingavg\": 35106.736328125}, {\"date\": \"2018-06-18T00:00:00\", \"close\": 35548.26171875, \"movingavg\": 35145.4283203125}, {\"date\": \"2018-06-19T00:00:00\", \"close\": 35286.73828125, \"movingavg\": 35192.0349609375}, {\"date\": \"2018-06-20T00:00:00\", \"close\": 35547.328125, \"movingavg\": 35223.8099609375}, {\"date\": \"2018-06-21T00:00:00\", \"close\": 35432.390625, \"movingavg\": 35283.930859375}, {\"date\": \"2018-06-22T00:00:00\", \"close\": 35689.6015625, \"movingavg\": 35322.394921875}, {\"date\": \"2018-06-25T00:00:00\", \"close\": 35470.3515625, \"movingavg\": 35360.6314453125}, {\"date\": \"2018-06-26T00:00:00\", \"close\": 35490.0390625, \"movingavg\": 35375.875}, {\"date\": \"2018-06-27T00:00:00\", \"close\": 35217.109375, \"movingavg\": 35402.9150390625}, {\"date\": \"2018-06-28T00:00:00\", \"close\": 35037.640625, \"movingavg\": 35418.4650390625}, {\"date\": \"2018-06-29T00:00:00\", \"close\": 35423.48046875, \"movingavg\": 35404.228125}, {\"date\": \"2018-07-02T00:00:00\", \"close\": 35264.41015625, \"movingavg\": 35414.0390625}, {\"date\": \"2018-07-03T00:00:00\", \"close\": 35378.6015625, \"movingavg\": 35426.6650390625}, {\"date\": \"2018-07-04T00:00:00\", \"close\": 35645.3984375, \"movingavg\": 35450.4345703125}, {\"date\": \"2018-07-05T00:00:00\", \"close\": 35574.55078125, \"movingavg\": 35473.760546875}, {\"date\": \"2018-07-06T00:00:00\", \"close\": 35657.859375, \"movingavg\": 35479.3341796875}, {\"date\": \"2018-07-09T00:00:00\", \"close\": 35934.71875, \"movingavg\": 35490.0435546875}, {\"date\": \"2018-07-10T00:00:00\", \"close\": 36239.62109375, \"movingavg\": 35512.6060546875}, {\"date\": \"2018-07-11T00:00:00\", \"close\": 36265.9296875, \"movingavg\": 35539.9611328125}, {\"date\": \"2018-07-12T00:00:00\", \"close\": 36548.41015625, \"movingavg\": 35566.299609375}, {\"date\": \"2018-07-13T00:00:00\", \"close\": 36541.62890625, \"movingavg\": 35613.7291015625}, {\"date\": \"2018-07-16T00:00:00\", \"close\": 36323.76953125, \"movingavg\": 35659.703515625}, {\"date\": \"2018-07-17T00:00:00\", \"close\": 36519.9609375, \"movingavg\": 35698.47890625}, {\"date\": \"2018-07-18T00:00:00\", \"close\": 36373.44140625, \"movingavg\": 35760.1400390625}, {\"date\": \"2018-07-19T00:00:00\", \"close\": 36351.23046875, \"movingavg\": 35801.445703125}, {\"date\": \"2018-07-20T00:00:00\", \"close\": 36496.37109375, \"movingavg\": 35847.3876953125}, {\"date\": \"2018-07-23T00:00:00\", \"close\": 36718.6015625, \"movingavg\": 35887.726171875}, {\"date\": \"2018-07-24T00:00:00\", \"close\": 36825.1015625, \"movingavg\": 35950.138671875}, {\"date\": \"2018-07-25T00:00:00\", \"close\": 36858.23046875, \"movingavg\": 36016.891796875}, {\"date\": \"2018-07-26T00:00:00\", \"close\": 36984.640625, \"movingavg\": 36098.9478515625}, {\"date\": \"2018-07-27T00:00:00\", \"close\": 37336.8515625, \"movingavg\": 36196.2978515625}, {\"date\": \"2018-07-30T00:00:00\", \"close\": 37494.3984375, \"movingavg\": 36291.96640625}, {\"date\": \"2018-07-31T00:00:00\", \"close\": 37606.578125, \"movingavg\": 36403.4658203125}, {\"date\": \"2018-08-01T00:00:00\", \"close\": 37521.62109375, \"movingavg\": 36514.8646484375}, {\"date\": \"2018-08-02T00:00:00\", \"close\": 37165.16015625, \"movingavg\": 36608.67578125}, {\"date\": \"2018-08-03T00:00:00\", \"close\": 37556.16015625, \"movingavg\": 36688.20625}, {\"date\": \"2018-08-06T00:00:00\", \"close\": 37691.890625, \"movingavg\": 36783.1212890625}, {\"date\": \"2018-08-07T00:00:00\", \"close\": 37665.80078125, \"movingavg\": 36870.9798828125}, {\"date\": \"2018-08-08T00:00:00\", \"close\": 37887.55859375, \"movingavg\": 36942.2888671875}, {\"date\": \"2018-08-09T00:00:00\", \"close\": 38024.37109375, \"movingavg\": 37023.3703125}, {\"date\": \"2018-08-10T00:00:00\", \"close\": 37869.23046875, \"movingavg\": 37097.168359375}, {\"date\": \"2018-08-13T00:00:00\", \"close\": 37644.8984375, \"movingavg\": 37163.5484375}, {\"date\": \"2018-08-14T00:00:00\", \"close\": 37852.0, \"movingavg\": 37229.6048828125}, {\"date\": \"2018-08-16T00:00:00\", \"close\": 37663.55859375, \"movingavg\": 37296.2068359375}, {\"date\": \"2018-08-17T00:00:00\", \"close\": 37947.87890625, \"movingavg\": 37360.7126953125}, {\"date\": \"2018-08-20T00:00:00\", \"close\": 38278.75, \"movingavg\": 37440.5451171875}, {\"date\": \"2018-08-21T00:00:00\", \"close\": 38285.75, \"movingavg\": 37529.6640625}, {\"date\": \"2018-08-23T00:00:00\", \"close\": 38336.76171875, \"movingavg\": 37608.021484375}, {\"date\": \"2018-08-24T00:00:00\", \"close\": 38251.80078125, \"movingavg\": 37683.6044921875}, {\"date\": \"2018-08-27T00:00:00\", \"close\": 38694.109375, \"movingavg\": 37753.2830078125}, {\"date\": \"2018-08-28T00:00:00\", \"close\": 38896.62890625, \"movingavg\": 37838.7564453125}, {\"date\": \"2018-08-29T00:00:00\", \"close\": 38722.9296875, \"movingavg\": 37916.7453125}, {\"date\": \"2018-08-30T00:00:00\", \"close\": 38690.1015625, \"movingavg\": 37978.171875}, {\"date\": \"2018-08-31T00:00:00\", \"close\": 38645.0703125, \"movingavg\": 38032.348046875}, {\"date\": \"2018-09-03T00:00:00\", \"close\": 38312.51953125, \"movingavg\": 38088.5205078125}, {\"date\": \"2018-09-04T00:00:00\", \"close\": 38157.921875, \"movingavg\": 38145.8884765625}, {\"date\": \"2018-09-05T00:00:00\", \"close\": 38018.30859375, \"movingavg\": 38175.9765625}, {\"date\": \"2018-09-06T00:00:00\", \"close\": 38242.80859375, \"movingavg\": 38192.2974609375}, {\"date\": \"2018-09-07T00:00:00\", \"close\": 38389.8203125, \"movingavg\": 38221.1478515625}, {\"date\": \"2018-09-10T00:00:00\", \"close\": 37922.171875, \"movingavg\": 38246.2609375}, {\"date\": \"2018-09-11T00:00:00\", \"close\": 37413.12890625, \"movingavg\": 38241.1509765625}, {\"date\": \"2018-09-12T00:00:00\", \"close\": 37717.9609375, \"movingavg\": 38218.3458984375}, {\"date\": \"2018-09-14T00:00:00\", \"close\": 38090.640625, \"movingavg\": 38221.9990234375}, {\"date\": \"2018-09-17T00:00:00\", \"close\": 37585.51171875, \"movingavg\": 38233.9310546875}, {\"date\": \"2018-09-18T00:00:00\", \"close\": 37290.671875, \"movingavg\": 38230.0287109375}, {\"date\": \"2018-09-19T00:00:00\", \"close\": 37121.21875, \"movingavg\": 38197.168359375}, {\"date\": \"2018-09-21T00:00:00\", \"close\": 36841.6015625, \"movingavg\": 38139.291796875}, {\"date\": \"2018-09-24T00:00:00\", \"close\": 36305.01953125, \"movingavg\": 38067.084375}, {\"date\": \"2018-09-25T00:00:00\", \"close\": 36652.05859375, \"movingavg\": 37965.497265625}, {\"date\": \"2018-09-26T00:00:00\", \"close\": 36542.26953125, \"movingavg\": 37885.51015625}, {\"date\": \"2018-09-27T00:00:00\", \"close\": 36324.171875, \"movingavg\": 37777.9181640625}, {\"date\": \"2018-09-28T00:00:00\", \"close\": 36227.140625, \"movingavg\": 37649.2953125}, {\"date\": \"2018-10-01T00:00:00\", \"close\": 36526.140625, \"movingavg\": 37524.505859375}, {\"date\": \"2018-10-03T00:00:00\", \"close\": 35975.62890625, \"movingavg\": 37416.3078125}, {\"date\": \"2018-10-04T00:00:00\", \"close\": 35169.16015625, \"movingavg\": 37282.8357421875}, {\"date\": \"2018-10-05T00:00:00\", \"close\": 34376.98828125, \"movingavg\": 37125.6677734375}, {\"date\": \"2018-10-08T00:00:00\", \"close\": 34474.37890625, \"movingavg\": 36936.62109375}, {\"date\": \"2018-10-09T00:00:00\", \"close\": 34299.46875, \"movingavg\": 36759.424609375}, {\"date\": \"2018-10-10T00:00:00\", \"close\": 34760.890625, \"movingavg\": 36562.2576171875}, {\"date\": \"2018-10-11T00:00:00\", \"close\": 34001.1484375, \"movingavg\": 36380.8111328125}, {\"date\": \"2018-10-12T00:00:00\", \"close\": 34733.578125, \"movingavg\": 36184.7599609375}, {\"date\": \"2018-10-15T00:00:00\", \"close\": 34865.1015625, \"movingavg\": 36050.782421875}, {\"date\": \"2018-10-16T00:00:00\", \"close\": 35162.48046875, \"movingavg\": 35908.139453125}, {\"date\": \"2018-10-17T00:00:00\", \"close\": 34779.578125, \"movingavg\": 35761.7314453125}, {\"date\": \"2018-10-19T00:00:00\", \"close\": 34315.62890625, \"movingavg\": 35621.434765625}, {\"date\": \"2018-10-22T00:00:00\", \"close\": 34134.37890625, \"movingavg\": 35472.6826171875}, {\"date\": \"2018-10-23T00:00:00\", \"close\": 33847.23046875, \"movingavg\": 35323.340625}, {\"date\": \"2018-10-24T00:00:00\", \"close\": 34033.9609375, \"movingavg\": 35173.6220703125}, {\"date\": \"2018-10-25T00:00:00\", \"close\": 33690.08984375, \"movingavg\": 35060.069140625}, {\"date\": \"2018-10-26T00:00:00\", \"close\": 33349.30859375, \"movingavg\": 34911.970703125}, {\"date\": \"2018-10-29T00:00:00\", \"close\": 34067.3984375, \"movingavg\": 34752.32265625}, {\"date\": \"2018-10-30T00:00:00\", \"close\": 33891.12890625, \"movingavg\": 34639.483984375}, {\"date\": \"2018-10-31T00:00:00\", \"close\": 34442.05078125, \"movingavg\": 34522.6833984375}, {\"date\": \"2018-11-01T00:00:00\", \"close\": 34431.96875, \"movingavg\": 34418.47890625}, {\"date\": \"2018-11-02T00:00:00\", \"close\": 35011.6484375, \"movingavg\": 34341.2958984375}, {\"date\": \"2018-11-05T00:00:00\", \"close\": 34950.921875, \"movingavg\": 34333.4203125}, {\"date\": \"2018-11-06T00:00:00\", \"close\": 34991.91015625, \"movingavg\": 34362.1169921875}, {\"date\": \"2018-11-07T00:00:00\", \"close\": 35237.6796875, \"movingavg\": 34387.9935546875}, {\"date\": \"2018-11-09T00:00:00\", \"close\": 35158.55078125, \"movingavg\": 34434.9041015625}, {\"date\": \"2018-11-12T00:00:00\", \"close\": 34812.98828125, \"movingavg\": 34454.787109375}, {\"date\": \"2018-11-13T00:00:00\", \"close\": 35144.48828125, \"movingavg\": 34495.3791015625}, {\"date\": \"2018-11-14T00:00:00\", \"close\": 35141.98828125, \"movingavg\": 34515.924609375}, {\"date\": \"2018-11-15T00:00:00\", \"close\": 35260.5390625, \"movingavg\": 34529.7689453125}, {\"date\": \"2018-11-16T00:00:00\", \"close\": 35457.16015625, \"movingavg\": 34534.671875}, {\"date\": \"2018-11-19T00:00:00\", \"close\": 35774.87890625, \"movingavg\": 34568.5509765625}, {\"date\": \"2018-11-20T00:00:00\", \"close\": 35474.51171875, \"movingavg\": 34641.5134765625}, {\"date\": \"2018-11-21T00:00:00\", \"close\": 35199.80078125, \"movingavg\": 34708.5201171875}, {\"date\": \"2018-11-22T00:00:00\", \"close\": 34981.01953125, \"movingavg\": 34776.1486328125}, {\"date\": \"2018-11-26T00:00:00\", \"close\": 35354.078125, \"movingavg\": 34823.5015625}, {\"date\": \"2018-11-27T00:00:00\", \"close\": 35513.140625, \"movingavg\": 34906.7009765625}, {\"date\": \"2018-11-28T00:00:00\", \"close\": 35716.94921875, \"movingavg\": 35014.892578125}, {\"date\": \"2018-11-29T00:00:00\", \"close\": 36170.41015625, \"movingavg\": 35097.3701171875}, {\"date\": \"2018-11-30T00:00:00\", \"close\": 36194.30078125, \"movingavg\": 35211.3341796875}, {\"date\": \"2018-12-03T00:00:00\", \"close\": 36241.0, \"movingavg\": 35298.9466796875}, {\"date\": \"2018-12-04T00:00:00\", \"close\": 36134.30859375, \"movingavg\": 35389.3982421875}, {\"date\": \"2018-12-05T00:00:00\", \"close\": 35884.41015625, \"movingavg\": 35445.53125}, {\"date\": \"2018-12-06T00:00:00\", \"close\": 35312.12890625, \"movingavg\": 35492.2056640625}, {\"date\": \"2018-12-07T00:00:00\", \"close\": 35673.25, \"movingavg\": 35508.2166015625}, {\"date\": \"2018-12-10T00:00:00\", \"close\": 34959.71875, \"movingavg\": 35529.9951171875}, {\"date\": \"2018-12-11T00:00:00\", \"close\": 35150.01171875, \"movingavg\": 35520.053515625}, {\"date\": \"2018-12-12T00:00:00\", \"close\": 35779.0703125, \"movingavg\": 35536.9046875}, {\"date\": \"2018-12-13T00:00:00\", \"close\": 35929.640625, \"movingavg\": 35568.6337890625}, {\"date\": \"2018-12-14T00:00:00\", \"close\": 35962.9296875, \"movingavg\": 35608.01640625}, {\"date\": \"2018-12-17T00:00:00\", \"close\": 36270.0703125, \"movingavg\": 35643.1359375}, {\"date\": \"2018-12-18T00:00:00\", \"close\": 36347.078125, \"movingavg\": 35683.7814453125}, {\"date\": \"2018-12-19T00:00:00\", \"close\": 36484.328125, \"movingavg\": 35712.39140625}, {\"date\": \"2018-12-20T00:00:00\", \"close\": 36431.671875, \"movingavg\": 35762.8822265625}, {\"date\": \"2018-12-21T00:00:00\", \"close\": 35742.0703125, \"movingavg\": 35824.47578125}, {\"date\": \"2018-12-24T00:00:00\", \"close\": 35470.1484375, \"movingavg\": 35862.5283203125}, {\"date\": \"2018-12-26T00:00:00\", \"close\": 35649.94140625, \"movingavg\": 35868.3318359375}, {\"date\": \"2018-12-27T00:00:00\", \"close\": 35807.28125, \"movingavg\": 35875.171875}, {\"date\": \"2018-12-28T00:00:00\", \"close\": 36076.71875, \"movingavg\": 35879.6884765625}, {\"date\": \"2018-12-31T00:00:00\", \"close\": 36068.328125, \"movingavg\": 35875.00390625}, {\"date\": \"2019-01-02T00:00:00\", \"close\": 35891.51953125, \"movingavg\": 35868.7052734375}, {\"date\": \"2019-01-03T00:00:00\", \"close\": 35513.7109375, \"movingavg\": 35851.23125}, {\"date\": \"2019-01-04T00:00:00\", \"close\": 35695.1015625, \"movingavg\": 35820.2013671875}, {\"date\": \"2019-01-07T00:00:00\", \"close\": 35850.16015625, \"movingavg\": 35810.7359375}, {\"date\": \"2019-01-08T00:00:00\", \"close\": 35980.9296875, \"movingavg\": 35837.6375}, {\"date\": \"2019-01-09T00:00:00\", \"close\": 36212.91015625, \"movingavg\": 35853.021484375}, {\"date\": \"2019-01-10T00:00:00\", \"close\": 36106.5, \"movingavg\": 35915.6810546875}, {\"date\": \"2019-01-11T00:00:00\", \"close\": 36009.83984375, \"movingavg\": 35963.50546875}, {\"date\": \"2019-01-14T00:00:00\", \"close\": 35853.55859375, \"movingavg\": 35975.0439453125}, {\"date\": \"2019-01-15T00:00:00\", \"close\": 36318.328125, \"movingavg\": 35971.23984375}, {\"date\": \"2019-01-16T00:00:00\", \"close\": 36321.2890625, \"movingavg\": 35989.009765625}, {\"date\": \"2019-01-17T00:00:00\", \"close\": 36374.078125, \"movingavg\": 35991.570703125}, {\"date\": \"2019-01-18T00:00:00\", \"close\": 36386.609375, \"movingavg\": 35992.920703125}, {\"date\": \"2019-01-21T00:00:00\", \"close\": 36578.9609375, \"movingavg\": 35988.034765625}, {\"date\": \"2019-01-22T00:00:00\", \"close\": 36444.640625, \"movingavg\": 35995.39921875}, {\"date\": \"2019-01-23T00:00:00\", \"close\": 36108.46875, \"movingavg\": 36030.527734375}, {\"date\": \"2019-01-24T00:00:00\", \"close\": 36195.1015625, \"movingavg\": 36062.44375}, {\"date\": \"2019-01-25T00:00:00\", \"close\": 36025.5390625, \"movingavg\": 36089.7017578125}, {\"date\": \"2019-01-28T00:00:00\", \"close\": 35656.69921875, \"movingavg\": 36100.6146484375}, {\"date\": \"2019-01-29T00:00:00\", \"close\": 35592.5, \"movingavg\": 36079.613671875}, {\"date\": \"2019-01-30T00:00:00\", \"close\": 35591.25, \"movingavg\": 36055.822265625}, {\"date\": \"2019-01-31T00:00:00\", \"close\": 36256.69140625, \"movingavg\": 36040.8087890625}, {\"date\": \"2019-02-01T00:00:00\", \"close\": 36469.4296875, \"movingavg\": 36077.9578125}, {\"date\": \"2019-02-04T00:00:00\", \"close\": 36582.73828125, \"movingavg\": 36116.67421875}, {\"date\": \"2019-02-05T00:00:00\", \"close\": 36616.80859375, \"movingavg\": 36153.303125}, {\"date\": \"2019-02-06T00:00:00\", \"close\": 36975.23046875, \"movingavg\": 36185.0970703125}, {\"date\": \"2019-02-07T00:00:00\", \"close\": 36971.08984375, \"movingavg\": 36223.2130859375}, {\"date\": \"2019-02-08T00:00:00\", \"close\": 36546.48046875, \"movingavg\": 36266.442578125}, {\"date\": \"2019-02-11T00:00:00\", \"close\": 36395.03125, \"movingavg\": 36293.274609375}, {\"date\": \"2019-02-12T00:00:00\", \"close\": 36153.62109375, \"movingavg\": 36320.3482421875}, {\"date\": \"2019-02-14T00:00:00\", \"close\": 35876.21875, \"movingavg\": 36312.112890625}, {\"date\": \"2019-02-15T00:00:00\", \"close\": 35808.94921875, \"movingavg\": 36289.859375}, {\"date\": \"2019-02-18T00:00:00\", \"close\": 35498.44140625, \"movingavg\": 36261.6029296875}, {\"date\": \"2019-02-19T00:00:00\", \"close\": 35352.609375, \"movingavg\": 36217.19453125}, {\"date\": \"2019-02-20T00:00:00\", \"close\": 35756.26171875, \"movingavg\": 36155.876953125}, {\"date\": \"2019-02-21T00:00:00\", \"close\": 35898.3515625, \"movingavg\": 36121.4580078125}, {\"date\": \"2019-02-22T00:00:00\", \"close\": 35871.48046875, \"movingavg\": 36110.9521484375}, {\"date\": \"2019-02-25T00:00:00\", \"close\": 36213.37890625, \"movingavg\": 36094.77109375}, {\"date\": \"2019-02-26T00:00:00\", \"close\": 35973.7109375, \"movingavg\": 36104.1630859375}, {\"date\": \"2019-02-27T00:00:00\", \"close\": 35905.4296875, \"movingavg\": 36120.013671875}, {\"date\": \"2019-02-28T00:00:00\", \"close\": 35867.44140625, \"movingavg\": 36135.66015625}, {\"date\": \"2019-03-01T00:00:00\", \"close\": 36063.80859375, \"movingavg\": 36149.4697265625}, {\"date\": \"2019-03-05T00:00:00\", \"close\": 36442.5390625, \"movingavg\": 36139.8255859375}, {\"date\": \"2019-03-06T00:00:00\", \"close\": 36636.1015625, \"movingavg\": 36138.4810546875}, {\"date\": \"2019-03-07T00:00:00\", \"close\": 36725.421875, \"movingavg\": 36141.14921875}, {\"date\": \"2019-03-08T00:00:00\", \"close\": 36671.4296875, \"movingavg\": 36146.5798828125}, {\"date\": \"2019-03-11T00:00:00\", \"close\": 37054.1015625, \"movingavg\": 36131.38984375}, {\"date\": \"2019-03-12T00:00:00\", \"close\": 37535.66015625, \"movingavg\": 36135.5404296875}, {\"date\": \"2019-03-13T00:00:00\", \"close\": 37752.171875, \"movingavg\": 36184.9994140625}, {\"date\": \"2019-03-14T00:00:00\", \"close\": 37754.890625, \"movingavg\": 36252.8564453125}, {\"date\": \"2019-03-15T00:00:00\", \"close\": 38024.3203125, \"movingavg\": 36332.919921875}, {\"date\": \"2019-03-18T00:00:00\", \"close\": 38095.0703125, \"movingavg\": 36440.325}, {\"date\": \"2019-03-19T00:00:00\", \"close\": 38363.46875, \"movingavg\": 36554.6310546875}, {\"date\": \"2019-03-20T00:00:00\", \"close\": 38386.75, \"movingavg\": 36697.882421875}, {\"date\": \"2019-03-22T00:00:00\", \"close\": 38164.609375, \"movingavg\": 36849.589453125}, {\"date\": \"2019-03-25T00:00:00\", \"close\": 37808.91015625, \"movingavg\": 36970.0068359375}, {\"date\": \"2019-03-26T00:00:00\", \"close\": 38233.41015625, \"movingavg\": 37065.534765625}, {\"date\": \"2019-03-27T00:00:00\", \"close\": 38132.87890625, \"movingavg\": 37183.63125}, {\"date\": \"2019-03-28T00:00:00\", \"close\": 38545.71875, \"movingavg\": 37279.60625}, {\"date\": \"2019-04-01T00:00:00\", \"close\": 38871.87109375, \"movingavg\": 37408.206640625}, {\"date\": \"2019-04-02T00:00:00\", \"close\": 39056.6484375, \"movingavg\": 37556.5287109375}, {\"date\": \"2019-04-03T00:00:00\", \"close\": 38877.12109375, \"movingavg\": 37715.9890625}, {\"date\": \"2019-04-04T00:00:00\", \"close\": 38684.71875, \"movingavg\": 37856.6546875}, {\"date\": \"2019-04-05T00:00:00\", \"close\": 38862.23046875, \"movingavg\": 37968.763671875}, {\"date\": \"2019-04-08T00:00:00\", \"close\": 38700.53125, \"movingavg\": 38080.0701171875}, {\"date\": \"2019-04-09T00:00:00\", \"close\": 38939.21875, \"movingavg\": 38178.8255859375}, {\"date\": \"2019-04-10T00:00:00\", \"close\": 38585.3515625, \"movingavg\": 38292.2150390625}, {\"date\": \"2019-04-11T00:00:00\", \"close\": 38607.01171875, \"movingavg\": 38368.7775390625}, {\"date\": \"2019-04-12T00:00:00\", \"close\": 38767.109375, \"movingavg\": 38422.3451171875}, {\"date\": \"2019-04-15T00:00:00\", \"close\": 38905.83984375, \"movingavg\": 38473.0919921875}, {\"date\": \"2019-04-16T00:00:00\", \"close\": 39275.640625, \"movingavg\": 38530.639453125}, {\"date\": \"2019-04-18T00:00:00\", \"close\": 39140.28125, \"movingavg\": 38593.20546875}, {\"date\": \"2019-04-22T00:00:00\", \"close\": 38645.1796875, \"movingavg\": 38645.466015625}, {\"date\": \"2019-04-23T00:00:00\", \"close\": 38564.87890625, \"movingavg\": 38659.5515625}, {\"date\": \"2019-04-24T00:00:00\", \"close\": 39054.6796875, \"movingavg\": 38668.4580078125}, {\"date\": \"2019-04-25T00:00:00\", \"close\": 38730.859375, \"movingavg\": 38712.9615234375}, {\"date\": \"2019-04-26T00:00:00\", \"close\": 39067.328125, \"movingavg\": 38759.058984375}, {\"date\": \"2019-04-30T00:00:00\", \"close\": 39031.55078125, \"movingavg\": 38800.7548828125}, {\"date\": \"2019-05-02T00:00:00\", \"close\": 38981.4296875, \"movingavg\": 38845.6884765625}, {\"date\": \"2019-05-03T00:00:00\", \"close\": 38963.26171875, \"movingavg\": 38867.4740234375}, {\"date\": \"2019-05-06T00:00:00\", \"close\": 38600.33984375, \"movingavg\": 38872.0435546875}, {\"date\": \"2019-05-07T00:00:00\", \"close\": 38276.62890625, \"movingavg\": 38849.228125}, {\"date\": \"2019-05-08T00:00:00\", \"close\": 37789.12890625, \"movingavg\": 38819.203515625}, {\"date\": \"2019-05-09T00:00:00\", \"close\": 37558.91015625, \"movingavg\": 38774.4240234375}, {\"date\": \"2019-05-10T00:00:00\", \"close\": 37462.98828125, \"movingavg\": 38709.2580078125}, {\"date\": \"2019-05-13T00:00:00\", \"close\": 37090.8203125, \"movingavg\": 38647.380859375}, {\"date\": \"2019-05-14T00:00:00\", \"close\": 37318.53125, \"movingavg\": 38554.9609375}, {\"date\": \"2019-05-15T00:00:00\", \"close\": 37114.87890625, \"movingavg\": 38491.619921875}, {\"date\": \"2019-05-16T00:00:00\", \"close\": 37393.48046875, \"movingavg\": 38417.01328125}, {\"date\": \"2019-05-17T00:00:00\", \"close\": 37930.76953125, \"movingavg\": 38348.3318359375}, {\"date\": \"2019-05-20T00:00:00\", \"close\": 39352.671875, \"movingavg\": 38299.5783203125}, {\"date\": \"2019-05-21T00:00:00\", \"close\": 38969.80078125, \"movingavg\": 38303.4298828125}, {\"date\": \"2019-05-22T00:00:00\", \"close\": 39110.2109375, \"movingavg\": 38294.905859375}, {\"date\": \"2019-05-23T00:00:00\", \"close\": 38811.390625, \"movingavg\": 38318.157421875}, {\"date\": \"2019-05-24T00:00:00\", \"close\": 39434.71875, \"movingavg\": 38330.4830078125}, {\"date\": \"2019-05-27T00:00:00\", \"close\": 39683.2890625, \"movingavg\": 38349.4849609375}, {\"date\": \"2019-05-28T00:00:00\", \"close\": 39749.73046875, \"movingavg\": 38397.1064453125}, {\"date\": \"2019-05-29T00:00:00\", \"close\": 39502.05078125, \"movingavg\": 38431.2265625}, {\"date\": \"2019-05-30T00:00:00\", \"close\": 39831.96875, \"movingavg\": 38454.7515625}, {\"date\": \"2019-05-31T00:00:00\", \"close\": 39714.19921875, \"movingavg\": 38497.278515625}, {\"date\": \"2019-06-03T00:00:00\", \"close\": 40267.62109375, \"movingavg\": 38534.825390625}, {\"date\": \"2019-06-04T00:00:00\", \"close\": 40083.5390625, \"movingavg\": 38618.189453125}, {\"date\": \"2019-06-06T00:00:00\", \"close\": 39529.71875, \"movingavg\": 38708.5349609375}, {\"date\": \"2019-06-07T00:00:00\", \"close\": 39615.8984375, \"movingavg\": 38795.564453125}, {\"date\": \"2019-06-10T00:00:00\", \"close\": 39784.51953125, \"movingavg\": 38898.4138671875}, {\"date\": \"2019-06-11T00:00:00\", \"close\": 39950.4609375, \"movingavg\": 39014.4904296875}, {\"date\": \"2019-06-12T00:00:00\", \"close\": 39756.80859375, \"movingavg\": 39157.4724609375}, {\"date\": \"2019-06-13T00:00:00\", \"close\": 39741.359375, \"movingavg\": 39279.386328125}, {\"date\": \"2019-06-14T00:00:00\", \"close\": 39452.0703125, \"movingavg\": 39410.7103515625}, {\"date\": \"2019-06-17T00:00:00\", \"close\": 38960.7890625, \"movingavg\": 39513.63984375}, {\"date\": \"2019-06-18T00:00:00\", \"close\": 39046.33984375, \"movingavg\": 39565.1408203125}, {\"date\": \"2019-06-19T00:00:00\", \"close\": 39112.73828125, \"movingavg\": 39549.82421875}, {\"date\": \"2019-06-20T00:00:00\", \"close\": 39601.62890625, \"movingavg\": 39556.97109375}, {\"date\": \"2019-06-21T00:00:00\", \"close\": 39194.48828125, \"movingavg\": 39581.5419921875}, {\"date\": \"2019-06-24T00:00:00\", \"close\": 39122.9609375, \"movingavg\": 39600.696875}, {\"date\": \"2019-06-25T00:00:00\", \"close\": 39434.94140625, \"movingavg\": 39585.108984375}, {\"date\": \"2019-06-26T00:00:00\", \"close\": 39592.078125, \"movingavg\": 39572.6916015625}, {\"date\": \"2019-06-27T00:00:00\", \"close\": 39586.41015625, \"movingavg\": 39564.808984375}, {\"date\": \"2019-06-28T00:00:00\", \"close\": 39394.640625, \"movingavg\": 39569.026953125}, {\"date\": \"2019-07-01T00:00:00\", \"close\": 39686.5, \"movingavg\": 39547.160546875}, {\"date\": \"2019-07-02T00:00:00\", \"close\": 39816.48046875, \"movingavg\": 39545.7755859375}, {\"date\": \"2019-07-03T00:00:00\", \"close\": 39839.25, \"movingavg\": 39523.2185546875}, {\"date\": \"2019-07-04T00:00:00\", \"close\": 39908.05859375, \"movingavg\": 39511.0041015625}, {\"date\": \"2019-07-05T00:00:00\", \"close\": 39513.390625, \"movingavg\": 39529.92109375}, {\"date\": \"2019-07-08T00:00:00\", \"close\": 38720.5703125, \"movingavg\": 39524.795703125}, {\"date\": \"2019-07-09T00:00:00\", \"close\": 38730.8203125, \"movingavg\": 39471.5982421875}, {\"date\": \"2019-07-10T00:00:00\", \"close\": 38557.0390625, \"movingavg\": 39410.6162109375}, {\"date\": \"2019-07-11T00:00:00\", \"close\": 38823.109375, \"movingavg\": 39350.627734375}, {\"date\": \"2019-07-12T00:00:00\", \"close\": 38736.23046875, \"movingavg\": 39304.715234375}, {\"date\": \"2019-07-15T00:00:00\", \"close\": 38896.7109375, \"movingavg\": 39268.9232421875}, {\"date\": \"2019-07-16T00:00:00\", \"close\": 39131.0390625, \"movingavg\": 39265.7193359375}, {\"date\": \"2019-07-17T00:00:00\", \"close\": 39215.640625, \"movingavg\": 39269.954296875}, {\"date\": \"2019-07-18T00:00:00\", \"close\": 38897.4609375, \"movingavg\": 39275.0994140625}, {\"date\": \"2019-07-19T00:00:00\", \"close\": 38337.01171875, \"movingavg\": 39239.891015625}, {\"date\": \"2019-07-22T00:00:00\", \"close\": 38031.12890625, \"movingavg\": 39197.0171875}, {\"date\": \"2019-07-23T00:00:00\", \"close\": 37982.73828125, \"movingavg\": 39142.4255859375}, {\"date\": \"2019-07-24T00:00:00\", \"close\": 37847.6484375, \"movingavg\": 39069.8154296875}, {\"date\": \"2019-07-25T00:00:00\", \"close\": 37830.98046875, \"movingavg\": 38982.5939453125}, {\"date\": \"2019-07-26T00:00:00\", \"close\": 37882.7890625, \"movingavg\": 38894.8224609375}, {\"date\": \"2019-07-29T00:00:00\", \"close\": 37686.37109375, \"movingavg\": 38819.2298828125}, {\"date\": \"2019-07-30T00:00:00\", \"close\": 37397.23828125, \"movingavg\": 38719.2234375}, {\"date\": \"2019-07-31T00:00:00\", \"close\": 37481.12109375, \"movingavg\": 38598.261328125}, {\"date\": \"2019-08-01T00:00:00\", \"close\": 37018.3203125, \"movingavg\": 38480.3548828125}, {\"date\": \"2019-08-02T00:00:00\", \"close\": 37118.21875, \"movingavg\": 38335.86796875}, {\"date\": \"2019-08-05T00:00:00\", \"close\": 36699.83984375, \"movingavg\": 38216.109375}, {\"date\": \"2019-08-06T00:00:00\", \"close\": 36976.8515625, \"movingavg\": 38115.0728515625}, {\"date\": \"2019-08-07T00:00:00\", \"close\": 36690.5, \"movingavg\": 38027.3744140625}, {\"date\": \"2019-08-08T00:00:00\", \"close\": 37327.359375, \"movingavg\": 37934.0474609375}, {\"date\": \"2019-08-09T00:00:00\", \"close\": 37581.91015625, \"movingavg\": 37859.2599609375}, {\"date\": \"2019-08-13T00:00:00\", \"close\": 36958.16015625, \"movingavg\": 37801.5439453125}, {\"date\": \"2019-08-14T00:00:00\", \"close\": 37311.53125, \"movingavg\": 37704.61640625}, {\"date\": \"2019-08-16T00:00:00\", \"close\": 37350.328125, \"movingavg\": 37613.641015625}, {\"date\": \"2019-08-19T00:00:00\", \"close\": 37402.48828125, \"movingavg\": 37520.375390625}, {\"date\": \"2019-08-20T00:00:00\", \"close\": 37328.01171875, \"movingavg\": 37445.6267578125}, {\"date\": \"2019-08-21T00:00:00\", \"close\": 37060.37109375, \"movingavg\": 37395.1767578125}, {\"date\": \"2019-08-22T00:00:00\", \"close\": 36472.9296875, \"movingavg\": 37346.6388671875}, {\"date\": \"2019-08-23T00:00:00\", \"close\": 36701.16015625, \"movingavg\": 37271.1484375}, {\"date\": \"2019-08-26T00:00:00\", \"close\": 37494.12109375, \"movingavg\": 37213.8240234375}, {\"date\": \"2019-08-27T00:00:00\", \"close\": 37641.26953125, \"movingavg\": 37196.9810546875}, {\"date\": \"2019-08-28T00:00:00\", \"close\": 37451.83984375, \"movingavg\": 37184.905078125}, {\"date\": \"2019-08-29T00:00:00\", \"close\": 37068.9296875, \"movingavg\": 37173.178515625}, {\"date\": \"2019-08-30T00:00:00\", \"close\": 37332.7890625, \"movingavg\": 37156.7630859375}, {\"date\": \"2019-09-03T00:00:00\", \"close\": 36562.91015625, \"movingavg\": 37149.346484375}, {\"date\": \"2019-09-04T00:00:00\", \"close\": 36724.73828125, \"movingavg\": 37126.5759765625}, {\"date\": \"2019-09-05T00:00:00\", \"close\": 36644.421875, \"movingavg\": 37106.901953125}, {\"date\": \"2019-09-06T00:00:00\", \"close\": 36981.76953125, \"movingavg\": 37104.1310546875}, {\"date\": \"2019-09-09T00:00:00\", \"close\": 37145.44921875, \"movingavg\": 37104.376953125}, {\"date\": \"2019-09-11T00:00:00\", \"close\": 37270.8203125, \"movingavg\": 37127.1244140625}, {\"date\": \"2019-09-12T00:00:00\", \"close\": 37104.28125, \"movingavg\": 37124.2974609375}, {\"date\": \"2019-09-13T00:00:00\", \"close\": 37384.98828125, \"movingavg\": 37100.416015625}, {\"date\": \"2019-09-16T00:00:00\", \"close\": 37123.30859375, \"movingavg\": 37121.757421875}, {\"date\": \"2019-09-17T00:00:00\", \"close\": 36481.08984375, \"movingavg\": 37112.3462890625}, {\"date\": \"2019-09-18T00:00:00\", \"close\": 36563.87890625, \"movingavg\": 37068.884375}, {\"date\": \"2019-09-19T00:00:00\", \"close\": 36093.46875, \"movingavg\": 37026.95390625}, {\"date\": \"2019-09-20T00:00:00\", \"close\": 38014.62109375, \"movingavg\": 36965.2267578125}, {\"date\": \"2019-09-23T00:00:00\", \"close\": 39090.03125, \"movingavg\": 37012.9392578125}, {\"date\": \"2019-09-24T00:00:00\", \"close\": 39097.140625, \"movingavg\": 37143.7943359375}, {\"date\": \"2019-09-25T00:00:00\", \"close\": 38593.51953125, \"movingavg\": 37263.593359375}, {\"date\": \"2019-09-26T00:00:00\", \"close\": 38989.73828125, \"movingavg\": 37318.56328125}, {\"date\": \"2019-09-27T00:00:00\", \"close\": 38822.5703125, \"movingavg\": 37385.98671875}, {\"date\": \"2019-09-30T00:00:00\", \"close\": 38667.328125, \"movingavg\": 37454.5232421875}, {\"date\": \"2019-10-01T00:00:00\", \"close\": 38305.41015625, \"movingavg\": 37534.4431640625}, {\"date\": \"2019-10-03T00:00:00\", \"close\": 38106.87109375, \"movingavg\": 37583.07421875}, {\"date\": \"2019-10-04T00:00:00\", \"close\": 37673.30859375, \"movingavg\": 37660.272265625}, {\"date\": \"2019-10-07T00:00:00\", \"close\": 37531.98046875, \"movingavg\": 37707.70078125}, {\"date\": \"2019-10-09T00:00:00\", \"close\": 38177.94921875, \"movingavg\": 37752.0787109375}, {\"date\": \"2019-10-10T00:00:00\", \"close\": 37880.3984375, \"movingavg\": 37811.8876953125}, {\"date\": \"2019-10-11T00:00:00\", \"close\": 38127.078125, \"movingavg\": 37848.63515625}, {\"date\": \"2019-10-14T00:00:00\", \"close\": 38214.46875, \"movingavg\": 37891.448046875}, {\"date\": \"2019-10-15T00:00:00\", \"close\": 38506.08984375, \"movingavg\": 37946.957421875}, {\"date\": \"2019-10-16T00:00:00\", \"close\": 38598.98828125, \"movingavg\": 38003.0125}, {\"date\": \"2019-10-17T00:00:00\", \"close\": 39052.05859375, \"movingavg\": 38076.796484375}, {\"date\": \"2019-10-18T00:00:00\", \"close\": 39298.37890625, \"movingavg\": 38205.344921875}, {\"date\": \"2019-10-22T00:00:00\", \"close\": 38963.83984375, \"movingavg\": 38342.069921875}, {\"date\": \"2019-10-23T00:00:00\", \"close\": 39058.828125, \"movingavg\": 38485.5884765625}, {\"date\": \"2019-10-24T00:00:00\", \"close\": 39020.390625, \"movingavg\": 38537.798828125}, {\"date\": \"2019-10-25T00:00:00\", \"close\": 39058.05859375, \"movingavg\": 38534.316796875}, {\"date\": \"2019-10-29T00:00:00\", \"close\": 39831.83984375, \"movingavg\": 38532.3626953125}, {\"date\": \"2019-10-30T00:00:00\", \"close\": 40051.87109375, \"movingavg\": 38594.2787109375}, {\"date\": \"2019-10-31T00:00:00\", \"close\": 40129.05078125, \"movingavg\": 38647.3853515625}, {\"date\": \"2019-11-01T00:00:00\", \"close\": 40165.03125, \"movingavg\": 38712.709375}, {\"date\": \"2019-11-04T00:00:00\", \"close\": 40301.9609375, \"movingavg\": 38787.59453125}, {\"date\": \"2019-11-05T00:00:00\", \"close\": 40248.23046875, \"movingavg\": 38887.4220703125}, {\"date\": \"2019-11-06T00:00:00\", \"close\": 40469.78125, \"movingavg\": 38994.4900390625}, {\"date\": \"2019-11-07T00:00:00\", \"close\": 40653.73828125, \"movingavg\": 39134.313671875}, {\"date\": \"2019-11-08T00:00:00\", \"close\": 40323.609375, \"movingavg\": 39290.4015625}, {\"date\": \"2019-11-11T00:00:00\", \"close\": 40345.078125, \"movingavg\": 39397.6845703125}, {\"date\": \"2019-11-13T00:00:00\", \"close\": 40116.05859375, \"movingavg\": 39520.9185546875}, {\"date\": \"2019-11-14T00:00:00\", \"close\": 40286.48046875, \"movingavg\": 39620.367578125}, {\"date\": \"2019-11-15T00:00:00\", \"close\": 40356.69140625, \"movingavg\": 39723.9681640625}, {\"date\": \"2019-11-18T00:00:00\", \"close\": 40284.19140625, \"movingavg\": 39816.4982421875}, {\"date\": \"2019-11-19T00:00:00\", \"close\": 40469.69921875, \"movingavg\": 39900.7583984375}, {\"date\": \"2019-11-20T00:00:00\", \"close\": 40651.640625, \"movingavg\": 39971.6404296875}, {\"date\": \"2019-11-21T00:00:00\", \"close\": 40575.171875, \"movingavg\": 40039.303515625}, {\"date\": \"2019-11-22T00:00:00\", \"close\": 40359.41015625, \"movingavg\": 40119.8701171875}, {\"date\": \"2019-11-25T00:00:00\", \"close\": 40889.23046875, \"movingavg\": 40184.89921875}, {\"date\": \"2019-11-26T00:00:00\", \"close\": 40821.30078125, \"movingavg\": 40278.3412109375}, {\"date\": \"2019-11-27T00:00:00\", \"close\": 41020.609375, \"movingavg\": 40366.5033203125}, {\"date\": \"2019-11-28T00:00:00\", \"close\": 41130.171875, \"movingavg\": 40425.941796875}, {\"date\": \"2019-11-29T00:00:00\", \"close\": 40793.80859375, \"movingavg\": 40479.8568359375}, {\"date\": \"2019-12-02T00:00:00\", \"close\": 40802.171875, \"movingavg\": 40513.0947265625}, {\"date\": \"2019-12-03T00:00:00\", \"close\": 40675.44921875, \"movingavg\": 40544.9517578125}, {\"date\": \"2019-12-04T00:00:00\", \"close\": 40850.2890625, \"movingavg\": 40563.626171875}, {\"date\": \"2019-12-05T00:00:00\", \"close\": 40779.58984375, \"movingavg\": 40593.7291015625}, {\"date\": \"2019-12-06T00:00:00\", \"close\": 40445.1484375, \"movingavg\": 40609.21953125}, {\"date\": \"2019-12-09T00:00:00\", \"close\": 40487.4296875, \"movingavg\": 40598.7900390625}, {\"date\": \"2019-12-10T00:00:00\", \"close\": 40239.87890625, \"movingavg\": 40606.9810546875}, {\"date\": \"2019-12-11T00:00:00\", \"close\": 40412.5703125, \"movingavg\": 40601.72109375}, {\"date\": \"2019-12-12T00:00:00\", \"close\": 40581.7109375, \"movingavg\": 40616.5466796875}, {\"date\": \"2019-12-13T00:00:00\", \"close\": 41009.7109375, \"movingavg\": 40631.308203125}, {\"date\": \"2019-12-16T00:00:00\", \"close\": 40938.71875, \"movingavg\": 40663.9591796875}, {\"date\": \"2019-12-17T00:00:00\", \"close\": 41352.171875, \"movingavg\": 40696.685546875}, {\"date\": \"2019-12-18T00:00:00\", \"close\": 41558.5703125, \"movingavg\": 40740.8091796875}, {\"date\": \"2019-12-19T00:00:00\", \"close\": 41673.921875, \"movingavg\": 40786.1556640625}, {\"date\": \"2019-12-20T00:00:00\", \"close\": 41681.5390625, \"movingavg\": 40841.0931640625}, {\"date\": \"2019-12-23T00:00:00\", \"close\": 41642.66015625, \"movingavg\": 40907.199609375}, {\"date\": \"2019-12-24T00:00:00\", \"close\": 41461.26171875, \"movingavg\": 40944.87109375}, {\"date\": \"2019-12-26T00:00:00\", \"close\": 41163.76171875, \"movingavg\": 40976.869140625}, {\"date\": \"2019-12-27T00:00:00\", \"close\": 41575.140625, \"movingavg\": 40984.0267578125}, {\"date\": \"2019-12-30T00:00:00\", \"close\": 41558.0, \"movingavg\": 41006.2751953125}, {\"date\": \"2019-12-31T00:00:00\", \"close\": 41253.73828125, \"movingavg\": 41044.484765625}, {\"date\": \"2020-01-02T00:00:00\", \"close\": 41626.640625, \"movingavg\": 41067.0630859375}, {\"date\": \"2020-01-03T00:00:00\", \"close\": 41464.609375, \"movingavg\": 41114.62265625}, {\"date\": \"2020-01-06T00:00:00\", \"close\": 40676.62890625, \"movingavg\": 41145.338671875}, {\"date\": \"2020-01-07T00:00:00\", \"close\": 40869.46875, \"movingavg\": 41140.190625}, {\"date\": \"2020-01-08T00:00:00\", \"close\": 40817.73828125, \"movingavg\": 41161.406640625}, {\"date\": \"2020-01-09T00:00:00\", \"close\": 41452.3515625, \"movingavg\": 41177.9220703125}, {\"date\": \"2020-01-10T00:00:00\", \"close\": 41599.71875, \"movingavg\": 41238.545703125}, {\"date\": \"2020-01-13T00:00:00\", \"close\": 41859.69140625, \"movingavg\": 41297.903125}, {\"date\": \"2020-01-14T00:00:00\", \"close\": 41952.62890625, \"movingavg\": 41361.8021484375}, {\"date\": \"2020-01-15T00:00:00\", \"close\": 41872.73046875, \"movingavg\": 41408.948046875}, {\"date\": \"2020-01-16T00:00:00\", \"close\": 41932.55859375, \"movingavg\": 41455.6486328125}, {\"date\": \"2020-01-17T00:00:00\", \"close\": 41945.37109375, \"movingavg\": 41484.66796875}, {\"date\": \"2020-01-20T00:00:00\", \"close\": 41528.91015625, \"movingavg\": 41504.0080078125}, {\"date\": \"2020-01-21T00:00:00\", \"close\": 41323.80859375, \"movingavg\": 41496.757421875}, {\"date\": \"2020-01-22T00:00:00\", \"close\": 41115.37890625, \"movingavg\": 41478.8708984375}, {\"date\": \"2020-01-23T00:00:00\", \"close\": 41386.3984375, \"movingavg\": 41452.5068359375}, {\"date\": \"2020-01-24T00:00:00\", \"close\": 41613.19140625, \"movingavg\": 41448.763671875}, {\"date\": \"2020-01-27T00:00:00\", \"close\": 41155.12109375, \"movingavg\": 41471.23515625}, {\"date\": \"2020-01-28T00:00:00\", \"close\": 40966.859375, \"movingavg\": 41450.2341796875}, {\"date\": \"2020-01-29T00:00:00\", \"close\": 41198.66015625, \"movingavg\": 41420.6771484375}, {\"date\": \"2020-01-30T00:00:00\", \"close\": 40913.8203125, \"movingavg\": 41417.9232421875}, {\"date\": \"2020-01-31T00:00:00\", \"close\": 40723.48828125, \"movingavg\": 41382.2822265625}, {\"date\": \"2020-02-03T00:00:00\", \"close\": 39872.30859375, \"movingavg\": 41345.226171875}, {\"date\": \"2020-02-04T00:00:00\", \"close\": 40789.37890625, \"movingavg\": 41305.01015625}, {\"date\": \"2020-02-05T00:00:00\", \"close\": 41142.66015625, \"movingavg\": 41301.0056640625}, {\"date\": \"2020-02-06T00:00:00\", \"close\": 41306.03125, \"movingavg\": 41317.2517578125}, {\"date\": \"2020-02-07T00:00:00\", \"close\": 41141.8515625, \"movingavg\": 41309.9357421875}, {\"date\": \"2020-02-10T00:00:00\", \"close\": 40979.62109375, \"movingavg\": 41287.0423828125}, {\"date\": \"2020-02-11T00:00:00\", \"close\": 41216.140625, \"movingavg\": 41243.0388671875}, {\"date\": \"2020-02-12T00:00:00\", \"close\": 41565.8984375, \"movingavg\": 41206.214453125}, {\"date\": \"2020-02-13T00:00:00\", \"close\": 41459.7890625, \"movingavg\": 41190.8728515625}, {\"date\": \"2020-02-14T00:00:00\", \"close\": 41257.73828125, \"movingavg\": 41167.234375}, {\"date\": \"2020-02-17T00:00:00\", \"close\": 41055.69140625, \"movingavg\": 41132.852734375}, {\"date\": \"2020-02-18T00:00:00\", \"close\": 40894.37890625, \"movingavg\": 41109.191796875}, {\"date\": \"2020-02-19T00:00:00\", \"close\": 41323.0, \"movingavg\": 41087.7203125}, {\"date\": \"2020-02-20T00:00:00\", \"close\": 41170.12109375, \"movingavg\": 41098.1013671875}, {\"date\": \"2020-02-24T00:00:00\", \"close\": 40363.23046875, \"movingavg\": 41087.2875}, {\"date\": \"2020-02-25T00:00:00\", \"close\": 40281.19921875, \"movingavg\": 41024.789453125}, {\"date\": \"2020-02-26T00:00:00\", \"close\": 39888.9609375, \"movingavg\": 40981.093359375}, {\"date\": \"2020-02-27T00:00:00\", \"close\": 39745.66015625, \"movingavg\": 40927.1984375}, {\"date\": \"2020-02-28T00:00:00\", \"close\": 38297.2890625, \"movingavg\": 40854.5484375}, {\"date\": \"2020-03-02T00:00:00\", \"close\": 38144.01953125, \"movingavg\": 40723.721875}, {\"date\": \"2020-03-03T00:00:00\", \"close\": 38623.69921875, \"movingavg\": 40594.7484375}, {\"date\": \"2020-03-04T00:00:00\", \"close\": 38409.48046875, \"movingavg\": 40532.31796875}, {\"date\": \"2020-03-05T00:00:00\", \"close\": 38470.609375, \"movingavg\": 40413.323046875}, {\"date\": \"2020-03-06T00:00:00\", \"close\": 37576.62109375, \"movingavg\": 40279.7205078125}, {\"date\": \"2020-03-09T00:00:00\", \"close\": 35634.94921875, \"movingavg\": 40093.25}, {\"date\": \"2020-03-11T00:00:00\", \"close\": 35697.3984375, \"movingavg\": 39817.9048828125}, {\"date\": \"2020-03-12T00:00:00\", \"close\": 32778.140625, \"movingavg\": 39553.79375}, {\"date\": \"2020-03-13T00:00:00\", \"close\": 34103.48046875, \"movingavg\": 39131.89375}, {\"date\": \"2020-03-16T00:00:00\", \"close\": 31390.0703125, \"movingavg\": 38758.7728515625}, {\"date\": \"2020-03-17T00:00:00\", \"close\": 30579.08984375, \"movingavg\": 38255.2869140625}, {\"date\": \"2020-03-18T00:00:00\", \"close\": 28869.509765625, \"movingavg\": 37721.3544921875}, {\"date\": \"2020-03-19T00:00:00\", \"close\": 28288.23046875, \"movingavg\": 37112.04541015625}, {\"date\": \"2020-03-20T00:00:00\", \"close\": 29915.9609375, \"movingavg\": 36481.73798828125}, {\"date\": \"2020-03-23T00:00:00\", \"close\": 25981.240234375, \"movingavg\": 35911.38603515625}, {\"date\": \"2020-03-24T00:00:00\", \"close\": 26674.029296875, \"movingavg\": 35151.9419921875}, {\"date\": \"2020-03-25T00:00:00\", \"close\": 28535.779296875, \"movingavg\": 34467.48193359375}, {\"date\": \"2020-03-26T00:00:00\", \"close\": 29946.76953125, \"movingavg\": 33880.2109375}, {\"date\": \"2020-03-27T00:00:00\", \"close\": 29815.58984375, \"movingavg\": 33383.1013671875}, {\"date\": \"2020-03-30T00:00:00\", \"close\": 28440.3203125, \"movingavg\": 32886.5978515625}, {\"date\": \"2020-03-31T00:00:00\", \"close\": 29468.490234375, \"movingavg\": 32393.7494140625}, {\"date\": \"2020-04-01T00:00:00\", \"close\": 28265.310546875, \"movingavg\": 31959.97294921875}, {\"date\": \"2020-04-03T00:00:00\", \"close\": 27590.94921875, \"movingavg\": 31442.053515625}, {\"date\": \"2020-04-07T00:00:00\", \"close\": 30067.2109375, \"movingavg\": 30901.126953125}, {\"date\": \"2020-04-08T00:00:00\", \"close\": 29893.9609375, \"movingavg\": 30480.95703125}, {\"date\": \"2020-04-09T00:00:00\", \"close\": 31159.619140625, \"movingavg\": 30096.8240234375}, {\"date\": \"2020-04-13T00:00:00\", \"close\": 30690.01953125, \"movingavg\": 29873.05751953125}, {\"date\": \"2020-04-15T00:00:00\", \"close\": 30379.810546875, \"movingavg\": 29622.68857421875}, {\"date\": \"2020-04-16T00:00:00\", \"close\": 30602.609375, \"movingavg\": 29502.7720703125}, {\"date\": \"2020-04-17T00:00:00\", \"close\": 31588.720703125, \"movingavg\": 29327.728515625}, {\"date\": \"2020-04-20T00:00:00\", \"close\": 31648.0, \"movingavg\": 29337.66103515625}, {\"date\": \"2020-04-21T00:00:00\", \"close\": 30636.7109375, \"movingavg\": 29391.10654296875}, {\"date\": \"2020-04-22T00:00:00\", \"close\": 31379.55078125, \"movingavg\": 29479.4666015625}, {\"date\": \"2020-04-23T00:00:00\", \"close\": 31863.080078125, \"movingavg\": 29634.0326171875}, {\"date\": \"2020-04-24T00:00:00\", \"close\": 31327.220703125, \"movingavg\": 29731.38857421875}, {\"date\": \"2020-04-27T00:00:00\", \"close\": 31743.080078125, \"movingavg\": 29998.68759765625}, {\"date\": \"2020-04-28T00:00:00\", \"close\": 32114.51953125, \"movingavg\": 30252.14013671875}, {\"date\": \"2020-04-29T00:00:00\", \"close\": 32720.16015625, \"movingavg\": 30431.0771484375}, {\"date\": \"2020-04-30T00:00:00\", \"close\": 33717.62109375, \"movingavg\": 30569.7466796875}, {\"date\": \"2020-05-04T00:00:00\", \"close\": 31715.349609375, \"movingavg\": 30764.8482421875}, {\"date\": \"2020-05-05T00:00:00\", \"close\": 31453.509765625, \"movingavg\": 30928.59970703125}, {\"date\": \"2020-05-06T00:00:00\", \"close\": 31685.75, \"movingavg\": 31027.85068359375}, {\"date\": \"2020-05-07T00:00:00\", \"close\": 31443.380859375, \"movingavg\": 31198.87265625}, {\"date\": \"2020-05-08T00:00:00\", \"close\": 31642.69921875, \"movingavg\": 31391.49423828125}, {\"date\": \"2020-05-11T00:00:00\", \"close\": 31561.220703125, \"movingavg\": 31470.26865234375}, {\"date\": \"2020-05-12T00:00:00\", \"close\": 31371.119140625, \"movingavg\": 31553.631640625}, {\"date\": \"2020-05-13T00:00:00\", \"close\": 32008.609375, \"movingavg\": 31564.206640625}, {\"date\": \"2020-05-14T00:00:00\", \"close\": 31122.890625, \"movingavg\": 31630.1361328125}, {\"date\": \"2020-05-15T00:00:00\", \"close\": 31097.73046875, \"movingavg\": 31667.29013671875}, {\"date\": \"2020-05-18T00:00:00\", \"close\": 30028.98046875, \"movingavg\": 31692.04619140625}, {\"date\": \"2020-05-19T00:00:00\", \"close\": 30196.169921875, \"movingavg\": 31614.0591796875}, {\"date\": \"2020-05-20T00:00:00\", \"close\": 30818.609375, \"movingavg\": 31541.46767578125}, {\"date\": \"2020-05-21T00:00:00\", \"close\": 30932.900390625, \"movingavg\": 31550.56259765625}, {\"date\": \"2020-05-22T00:00:00\", \"close\": 30672.58984375, \"movingavg\": 31528.230078125}, {\"date\": \"2020-05-26T00:00:00\", \"close\": 30609.30078125, \"movingavg\": 31468.70556640625}, {\"date\": \"2020-05-27T00:00:00\", \"close\": 31605.220703125, \"movingavg\": 31432.8095703125}, {\"date\": \"2020-05-28T00:00:00\", \"close\": 32200.58984375, \"movingavg\": 31425.9166015625}, {\"date\": \"2020-05-29T00:00:00\", \"close\": 32424.099609375, \"movingavg\": 31430.2201171875}, {\"date\": \"2020-06-01T00:00:00\", \"close\": 33303.51953125, \"movingavg\": 31415.41708984375}, {\"date\": \"2020-06-02T00:00:00\", \"close\": 33825.53125, \"movingavg\": 31394.71201171875}, {\"date\": \"2020-06-03T00:00:00\", \"close\": 34109.5390625, \"movingavg\": 31500.22109375}, {\"date\": \"2020-06-04T00:00:00\", \"close\": 33980.69921875, \"movingavg\": 31633.02255859375}, {\"date\": \"2020-06-05T00:00:00\", \"close\": 34287.23828125, \"movingavg\": 31747.77001953125}, {\"date\": \"2020-06-08T00:00:00\", \"close\": 34370.578125, \"movingavg\": 31889.962890625}, {\"date\": \"2020-06-09T00:00:00\", \"close\": 33956.69140625, \"movingavg\": 32026.3568359375}, {\"date\": \"2020-06-10T00:00:00\", \"close\": 34247.05078125, \"movingavg\": 32146.13037109375}, {\"date\": \"2020-06-11T00:00:00\", \"close\": 33538.37109375, \"movingavg\": 32289.926953125}, {\"date\": \"2020-06-12T00:00:00\", \"close\": 33780.890625, \"movingavg\": 32366.4150390625}, {\"date\": \"2020-06-15T00:00:00\", \"close\": 33228.80078125, \"movingavg\": 32499.3150390625}, {\"date\": \"2020-06-16T00:00:00\", \"close\": 33605.21875, \"movingavg\": 32605.8685546875}, {\"date\": \"2020-06-17T00:00:00\", \"close\": 33507.921875, \"movingavg\": 32784.68046875}, {\"date\": \"2020-06-18T00:00:00\", \"close\": 34208.05078125, \"movingavg\": 32950.26806640625}, {\"date\": \"2020-06-19T00:00:00\", \"close\": 34731.73046875, \"movingavg\": 33119.74013671875}, {\"date\": \"2020-06-22T00:00:00\", \"close\": 34911.3203125, \"movingavg\": 33309.681640625}, {\"date\": \"2020-06-23T00:00:00\", \"close\": 35430.4296875, \"movingavg\": 33521.6181640625}, {\"date\": \"2020-06-24T00:00:00\", \"close\": 34868.98046875, \"movingavg\": 33762.674609375}, {\"date\": \"2020-06-25T00:00:00\", \"close\": 34842.1015625, \"movingavg\": 33925.86259765625}, {\"date\": \"2020-06-26T00:00:00\", \"close\": 35171.26953125, \"movingavg\": 34057.93818359375}, {\"date\": \"2020-06-29T00:00:00\", \"close\": 34961.51953125, \"movingavg\": 34195.2966796875}]}}, {\"mode\": \"vega-lite\"});\n",
              "</script>"
            ]
          },
          "metadata": {
            "tags": []
          },
          "execution_count": 16
        }
      ]
    },
    {
      "cell_type": "markdown",
      "metadata": {
        "id": "9Ce7X0nCKPfI"
      },
      "source": [
        "***We opt for the partial autocorrelation process now***"
      ]
    },
    {
      "cell_type": "code",
      "metadata": {
        "colab": {
          "base_uri": "https://localhost:8080/",
          "height": 281
        },
        "id": "aecUTld1KeYu",
        "outputId": "c03f62da-b4e7-4604-8480-713424d2380d"
      },
      "source": [
        "plotfourweek = altdata_fourweek.filter(['date', 'movingavg'], axis=1) #df.copy()\n",
        "plotfourweek.index = pd.Index(sm.tsa.datetools.dates_from_range('2015', length=len(altdata_fourweek['date']))) \n",
        "del plotfourweek['date']\n",
        "sm.graphics.tsa.plot_pacf(plotfourweek.values.squeeze())\n",
        "plt.show()"
      ],
      "execution_count": 17,
      "outputs": [
        {
          "output_type": "display_data",
          "data": {
            "image/png": "[encoded data removed]",
            "text/plain": [
              "<Figure size 432x288 with 1 Axes>"
            ]
          },
          "metadata": {
            "tags": [],
            "needs_background": "light"
          }
        }
      ]
    },
    {
      "cell_type": "markdown",
      "metadata": {
        "id": "ZxHml1pHKW8G"
      },
      "source": [
        "***In the partial autocorrelation plot above, we have statistically significant partial autocorrelations at lag values 4 and 32. Since it is less than 0 and more than -1 so 4 and 32 represents a perfect negative correlation. While the rest of values are very close to 0 and under the confidence intervals, which are represented as blue shaded regions (which is not vividly seen in the above plot)***"
      ]
    },
    {
      "cell_type": "markdown",
      "metadata": {
        "id": "a_IVmCMMS-so"
      },
      "source": [
        "***Now we will be creating the dummy time series***"
      ]
    },
    {
      "cell_type": "code",
      "metadata": {
        "id": "Px_apsjKT8IN"
      },
      "source": [
        "def boolean_shock(percent, df, col):\n",
        "  data = df.filter(['date', col], axis=1) #df.copy()\n",
        "  data.set_index('date', inplace=True)\n",
        "  data['percentchg'] = (data[col].pct_change()) * 100  #percentage change compare to previous volume using pct_change() function\n",
        "  data['shock'] = data['percentchg'].apply(lambda x: 1 if x >= percent else 0)\n",
        "  data.drop(col, axis = 1, inplace = True)\n",
        "  return data.dropna()"
      ],
      "execution_count": 18,
      "outputs": []
    },
    {
      "cell_type": "code",
      "metadata": {
        "colab": {
          "base_uri": "https://localhost:8080/",
          "height": 431
        },
        "id": "nKzChO3tIp5C",
        "outputId": "2cf7244e-918a-4790-9cef-ff78d05f4cbe"
      },
      "source": [
        "boolean_shock(10, bse_data, 'volume')"
      ],
      "execution_count": 19,
      "outputs": [
        {
          "output_type": "execute_result",
          "data": {
            "text/html": [
              "<div>\n",
              "<style scoped>\n",
              "    .dataframe tbody tr th:only-of-type {\n",
              "        vertical-align: middle;\n",
              "    }\n",
              "\n",
              "    .dataframe tbody tr th {\n",
              "        vertical-align: top;\n",
              "    }\n",
              "\n",
              "    .dataframe thead th {\n",
              "        text-align: right;\n",
              "    }\n",
              "</style>\n",
              "<table border=\"1\" class=\"dataframe\">\n",
              "  <thead>\n",
              "    <tr style=\"text-align: right;\">\n",
              "      <th></th>\n",
              "      <th>percentchg</th>\n",
              "      <th>shock</th>\n",
              "    </tr>\n",
              "    <tr>\n",
              "      <th>date</th>\n",
              "      <th></th>\n",
              "      <th></th>\n",
              "    </tr>\n",
              "  </thead>\n",
              "  <tbody>\n",
              "    <tr>\n",
              "      <th>2015-01-05</th>\n",
              "      <td>24.324324</td>\n",
              "      <td>1</td>\n",
              "    </tr>\n",
              "    <tr>\n",
              "      <th>2015-01-06</th>\n",
              "      <td>53.260870</td>\n",
              "      <td>1</td>\n",
              "    </tr>\n",
              "    <tr>\n",
              "      <th>2015-01-07</th>\n",
              "      <td>-13.475177</td>\n",
              "      <td>0</td>\n",
              "    </tr>\n",
              "    <tr>\n",
              "      <th>2015-01-08</th>\n",
              "      <td>-32.786885</td>\n",
              "      <td>0</td>\n",
              "    </tr>\n",
              "    <tr>\n",
              "      <th>2015-01-09</th>\n",
              "      <td>35.365854</td>\n",
              "      <td>1</td>\n",
              "    </tr>\n",
              "    <tr>\n",
              "      <th>...</th>\n",
              "      <td>...</td>\n",
              "      <td>...</td>\n",
              "    </tr>\n",
              "    <tr>\n",
              "      <th>2020-06-23</th>\n",
              "      <td>0.398406</td>\n",
              "      <td>0</td>\n",
              "    </tr>\n",
              "    <tr>\n",
              "      <th>2020-06-24</th>\n",
              "      <td>5.555556</td>\n",
              "      <td>0</td>\n",
              "    </tr>\n",
              "    <tr>\n",
              "      <th>2020-06-25</th>\n",
              "      <td>-7.518797</td>\n",
              "      <td>0</td>\n",
              "    </tr>\n",
              "    <tr>\n",
              "      <th>2020-06-26</th>\n",
              "      <td>0.813008</td>\n",
              "      <td>0</td>\n",
              "    </tr>\n",
              "    <tr>\n",
              "      <th>2020-06-29</th>\n",
              "      <td>-26.209677</td>\n",
              "      <td>0</td>\n",
              "    </tr>\n",
              "  </tbody>\n",
              "</table>\n",
              "<p>1344 rows × 2 columns</p>\n",
              "</div>"
            ],
            "text/plain": [
              "            percentchg  shock\n",
              "date                         \n",
              "2015-01-05   24.324324      1\n",
              "2015-01-06   53.260870      1\n",
              "2015-01-07  -13.475177      0\n",
              "2015-01-08  -32.786885      0\n",
              "2015-01-09   35.365854      1\n",
              "...                ...    ...\n",
              "2020-06-23    0.398406      0\n",
              "2020-06-24    5.555556      0\n",
              "2020-06-25   -7.518797      0\n",
              "2020-06-26    0.813008      0\n",
              "2020-06-29  -26.209677      0\n",
              "\n",
              "[1344 rows x 2 columns]"
            ]
          },
          "metadata": {
            "tags": []
          },
          "execution_count": 19
        }
      ]
    },
    {
      "cell_type": "code",
      "metadata": {
        "colab": {
          "base_uri": "https://localhost:8080/",
          "height": 368
        },
        "id": "zlZgjr7dIv-3",
        "outputId": "66320738-4f2f-4b8f-fb2b-cb95f174ee2a"
      },
      "source": [
        "altdata_volpercentchg = boolean_shock(10, bse_data, 'volume')\n",
        "altdata_volpercentchg.reset_index(inplace=True)\n",
        "altdata_volpercentchg.rename(columns={list(altdata_volpercentchg)[0]:'date'}, inplace=True)\n",
        "alt.Chart(altdata_volpercentchg).mark_point().encode(\n",
        "    x='date',\n",
        "    y='percentchg'\n",
        ")"
      ],
      "execution_count": 20,
      "outputs": [
        {
          "output_type": "execute_result",
          "data": {
            "text/plain": [
              "alt.Chart(...)"
            ],
            "text/html": [
              "\n",
              "<div id=\"altair-viz-3b97d49f5b42437abbcccb423e6e01c4\"></div>\n",
              "<script type=\"text/javascript\">\n",
              "  (function(spec, embedOpt){\n",
              "    let outputDiv = document.currentScript.previousElementSibling;\n",
              "    if (outputDiv.id !== \"altair-viz-3b97d49f5b42437abbcccb423e6e01c4\") {\n",
              "      outputDiv = document.getElementById(\"altair-viz-3b97d49f5b42437abbcccb423e6e01c4\");\n",
              "    }\n",
              "    const paths = {\n",
              "      \"vega\": \"https://cdn.jsdelivr.net/npm//vega@5?noext\",\n",
              "      \"vega-lib\": \"https://cdn.jsdelivr.net/npm//vega-lib?noext\",\n",
              "      \"vega-lite\": \"https://cdn.jsdelivr.net/npm//vega-lite@4.8.1?noext\",\n",
              "      \"vega-embed\": \"https://cdn.jsdelivr.net/npm//vega-embed@6?noext\",\n",
              "    };\n",
              "\n",
              "    function loadScript(lib) {\n",
              "      return new Promise(function(resolve, reject) {\n",
              "        var s = document.createElement('script');\n",
              "        s.src = paths[lib];\n",
              "        s.async = true;\n",
              "        s.onload = () => resolve(paths[lib]);\n",
              "        s.onerror = () => reject(`Error loading script: ${paths[lib]}`);\n",
              "        document.getElementsByTagName(\"head\")[0].appendChild(s);\n",
              "      });\n",
              "    }\n",
              "\n",
              "    function showError(err) {\n",
              "      outputDiv.innerHTML = `<div class=\"error\" style=\"color:red;\">${err}</div>`;\n",
              "      throw err;\n",
              "    }\n",
              "\n",
              "    function displayChart(vegaEmbed) {\n",
              "      vegaEmbed(outputDiv, spec, embedOpt)\n",
              "        .catch(err => showError(`Javascript Error: ${err.message}<br>This usually means there's a typo in your chart specification. See the javascript console for the full traceback.`));\n",
              "    }\n",
              "\n",
              "    if(typeof define === \"function\" && define.amd) {\n",
              "      requirejs.config({paths});\n",
              "      require([\"vega-embed\"], displayChart, err => showError(`Error loading script: ${err.message}`));\n",
              "    } else if (typeof vegaEmbed === \"function\") {\n",
              "      displayChart(vegaEmbed);\n",
              "    } else {\n",
              "      loadScript(\"vega\")\n",
              "        .then(() => loadScript(\"vega-lite\"))\n",
              "        .then(() => loadScript(\"vega-embed\"))\n",
              "        .catch(showError)\n",
              "        .then(() => displayChart(vegaEmbed));\n",
              "    }\n",
              "  })({\"config\": {\"view\": {\"continuousWidth\": 400, \"continuousHeight\": 300}}, \"data\": {\"name\": \"data-90c26f0ca6232d33e53aa5efd3cd407d\"}, \"mark\": \"point\", \"encoding\": {\"x\": {\"type\": \"temporal\", \"field\": \"date\"}, \"y\": {\"type\": \"quantitative\", \"field\": \"percentchg\"}}, \"$schema\": \"https://vega.github.io/schema/vega-lite/v4.8.1.json\", \"datasets\": {\"data-90c26f0ca6232d33e53aa5efd3cd407d\": [{\"date\": \"2015-01-05T00:00:00\", \"percentchg\": 24.32432432432432, \"shock\": 1}, {\"date\": \"2015-01-06T00:00:00\", \"percentchg\": 53.260869565217384, \"shock\": 1}, {\"date\": \"2015-01-07T00:00:00\", \"percentchg\": -13.475177304964536, \"shock\": 0}, {\"date\": \"2015-01-08T00:00:00\", \"percentchg\": -32.786885245901644, \"shock\": 0}, {\"date\": \"2015-01-09T00:00:00\", \"percentchg\": 35.365853658536594, \"shock\": 1}, {\"date\": \"2015-01-12T00:00:00\", \"percentchg\": -32.432432432432435, \"shock\": 0}, {\"date\": \"2015-01-13T00:00:00\", \"percentchg\": 4.0000000000000036, \"shock\": 0}, {\"date\": \"2015-01-14T00:00:00\", \"percentchg\": 30.76923076923077, \"shock\": 1}, {\"date\": \"2015-01-15T00:00:00\", \"percentchg\": 63.725490196078425, \"shock\": 1}, {\"date\": \"2015-01-16T00:00:00\", \"percentchg\": -27.544910179640713, \"shock\": 0}, {\"date\": \"2015-01-19T00:00:00\", \"percentchg\": -9.917355371900827, \"shock\": 0}, {\"date\": \"2015-01-20T00:00:00\", \"percentchg\": 1.83486238532109, \"shock\": 0}, {\"date\": \"2015-01-21T00:00:00\", \"percentchg\": 38.738738738738746, \"shock\": 1}, {\"date\": \"2015-01-22T00:00:00\", \"percentchg\": -27.922077922077925, \"shock\": 0}, {\"date\": \"2015-01-23T00:00:00\", \"percentchg\": 7.2072072072072, \"shock\": 0}, {\"date\": \"2015-01-27T00:00:00\", \"percentchg\": -5.042016806722693, \"shock\": 0}, {\"date\": \"2015-01-28T00:00:00\", \"percentchg\": -0.8849557522123908, \"shock\": 0}, {\"date\": \"2015-01-29T00:00:00\", \"percentchg\": 13.392857142857139, \"shock\": 1}, {\"date\": \"2015-01-30T00:00:00\", \"percentchg\": 24.409448818897637, \"shock\": 1}, {\"date\": \"2015-02-02T00:00:00\", \"percentchg\": 13.924050632911399, \"shock\": 1}, {\"date\": \"2015-02-03T00:00:00\", \"percentchg\": -7.777777777777772, \"shock\": 0}, {\"date\": \"2015-02-04T00:00:00\", \"percentchg\": -4.81927710843374, \"shock\": 0}, {\"date\": \"2015-02-05T00:00:00\", \"percentchg\": -18.9873417721519, \"shock\": 0}, {\"date\": \"2015-02-06T00:00:00\", \"percentchg\": -10.9375, \"shock\": 0}, {\"date\": \"2015-02-09T00:00:00\", \"percentchg\": 2.6315789473684292, \"shock\": 0}, {\"date\": \"2015-02-10T00:00:00\", \"percentchg\": 24.786324786324787, \"shock\": 1}, {\"date\": \"2015-02-11T00:00:00\", \"percentchg\": -5.47945205479452, \"shock\": 0}, {\"date\": \"2015-02-12T00:00:00\", \"percentchg\": 0.0, \"shock\": 0}, {\"date\": \"2015-02-13T00:00:00\", \"percentchg\": 27.536231884057962, \"shock\": 1}, {\"date\": \"2015-02-16T00:00:00\", \"percentchg\": -40.34090909090909, \"shock\": 0}, {\"date\": \"2015-02-18T00:00:00\", \"percentchg\": 4.761904761904767, \"shock\": 0}, {\"date\": \"2015-02-19T00:00:00\", \"percentchg\": 8.18181818181818, \"shock\": 0}, {\"date\": \"2015-02-20T00:00:00\", \"percentchg\": -3.361344537815125, \"shock\": 0}, {\"date\": \"2015-02-23T00:00:00\", \"percentchg\": -23.478260869565215, \"shock\": 0}, {\"date\": \"2015-02-24T00:00:00\", \"percentchg\": 15.909090909090917, \"shock\": 1}, {\"date\": \"2015-02-25T00:00:00\", \"percentchg\": -21.568627450980394, \"shock\": 0}, {\"date\": \"2015-02-26T00:00:00\", \"percentchg\": 33.74999999999999, \"shock\": 1}, {\"date\": \"2015-02-27T00:00:00\", \"percentchg\": 54.20560747663552, \"shock\": 1}, {\"date\": \"2015-03-02T00:00:00\", \"percentchg\": -7.272727272727275, \"shock\": 0}, {\"date\": \"2015-03-03T00:00:00\", \"percentchg\": -20.261437908496728, \"shock\": 0}, {\"date\": \"2015-03-04T00:00:00\", \"percentchg\": 39.34426229508197, \"shock\": 1}, {\"date\": \"2015-03-05T00:00:00\", \"percentchg\": -21.176470588235297, \"shock\": 0}, {\"date\": \"2015-03-09T00:00:00\", \"percentchg\": -11.940298507462687, \"shock\": 0}, {\"date\": \"2015-03-10T00:00:00\", \"percentchg\": -5.0847457627118615, \"shock\": 0}, {\"date\": \"2015-03-11T00:00:00\", \"percentchg\": 11.607142857142861, \"shock\": 1}, {\"date\": \"2015-03-12T00:00:00\", \"percentchg\": -11.2, \"shock\": 0}, {\"date\": \"2015-03-13T00:00:00\", \"percentchg\": 3.603603603603611, \"shock\": 0}, {\"date\": \"2015-03-16T00:00:00\", \"percentchg\": -3.4782608695652195, \"shock\": 0}, {\"date\": \"2015-03-17T00:00:00\", \"percentchg\": -0.9009009009009028, \"shock\": 0}, {\"date\": \"2015-03-18T00:00:00\", \"percentchg\": -11.818181818181817, \"shock\": 0}, {\"date\": \"2015-03-19T00:00:00\", \"percentchg\": 17.525773195876294, \"shock\": 1}, {\"date\": \"2015-03-20T00:00:00\", \"percentchg\": 21.92982456140351, \"shock\": 1}, {\"date\": \"2015-03-23T00:00:00\", \"percentchg\": -28.057553956834536, \"shock\": 0}, {\"date\": \"2015-03-24T00:00:00\", \"percentchg\": -3.0000000000000027, \"shock\": 0}, {\"date\": \"2015-03-25T00:00:00\", \"percentchg\": 79.38144329896907, \"shock\": 1}, {\"date\": \"2015-03-26T00:00:00\", \"percentchg\": -27.011494252873558, \"shock\": 0}, {\"date\": \"2015-03-27T00:00:00\", \"percentchg\": -10.236220472440948, \"shock\": 0}, {\"date\": \"2015-03-30T00:00:00\", \"percentchg\": -2.631578947368418, \"shock\": 0}, {\"date\": \"2015-03-31T00:00:00\", \"percentchg\": 0.0, \"shock\": 0}, {\"date\": \"2015-04-01T00:00:00\", \"percentchg\": -27.027027027027028, \"shock\": 0}, {\"date\": \"2015-04-06T00:00:00\", \"percentchg\": 2.4691358024691468, \"shock\": 0}, {\"date\": \"2015-04-07T00:00:00\", \"percentchg\": 43.37349397590362, \"shock\": 1}, {\"date\": \"2015-04-08T00:00:00\", \"percentchg\": -17.647058823529417, \"shock\": 0}, {\"date\": \"2015-04-09T00:00:00\", \"percentchg\": 33.673469387755105, \"shock\": 1}, {\"date\": \"2015-04-10T00:00:00\", \"percentchg\": -38.93129770992366, \"shock\": 0}, {\"date\": \"2015-04-13T00:00:00\", \"percentchg\": 6.25, \"shock\": 0}, {\"date\": \"2015-04-15T00:00:00\", \"percentchg\": 23.529411764705888, \"shock\": 1}, {\"date\": \"2015-04-16T00:00:00\", \"percentchg\": -19.999999999999996, \"shock\": 0}, {\"date\": \"2015-04-17T00:00:00\", \"percentchg\": 65.47619047619047, \"shock\": 1}, {\"date\": \"2015-04-20T00:00:00\", \"percentchg\": 36.690647482014384, \"shock\": 1}, {\"date\": \"2015-04-21T00:00:00\", \"percentchg\": 8.947368421052637, \"shock\": 0}, {\"date\": \"2015-04-22T00:00:00\", \"percentchg\": -43.47826086956522, \"shock\": 0}, {\"date\": \"2015-04-23T00:00:00\", \"percentchg\": -2.564102564102566, \"shock\": 0}, {\"date\": \"2015-04-24T00:00:00\", \"percentchg\": 5.263157894736836, \"shock\": 0}, {\"date\": \"2015-04-27T00:00:00\", \"percentchg\": 0.8333333333333304, \"shock\": 0}, {\"date\": \"2015-04-28T00:00:00\", \"percentchg\": -14.876033057851235, \"shock\": 0}, {\"date\": \"2015-04-29T00:00:00\", \"percentchg\": -7.7669902912621325, \"shock\": 0}, {\"date\": \"2015-04-30T00:00:00\", \"percentchg\": 14.73684210526316, \"shock\": 1}, {\"date\": \"2015-05-04T00:00:00\", \"percentchg\": -23.853211009174313, \"shock\": 0}, {\"date\": \"2015-05-05T00:00:00\", \"percentchg\": 36.14457831325302, \"shock\": 1}, {\"date\": \"2015-05-06T00:00:00\", \"percentchg\": 25.663716814159287, \"shock\": 1}, {\"date\": \"2015-05-07T00:00:00\", \"percentchg\": -11.971830985915489, \"shock\": 0}, {\"date\": \"2015-05-08T00:00:00\", \"percentchg\": -29.600000000000005, \"shock\": 0}, {\"date\": \"2015-05-11T00:00:00\", \"percentchg\": 28.409090909090917, \"shock\": 1}, {\"date\": \"2015-05-12T00:00:00\", \"percentchg\": 9.734513274336276, \"shock\": 0}, {\"date\": \"2015-05-13T00:00:00\", \"percentchg\": 9.677419354838701, \"shock\": 0}, {\"date\": \"2015-05-14T00:00:00\", \"percentchg\": -34.55882352941176, \"shock\": 0}, {\"date\": \"2015-05-15T00:00:00\", \"percentchg\": 4.494382022471921, \"shock\": 0}, {\"date\": \"2015-05-18T00:00:00\", \"percentchg\": -16.129032258064512, \"shock\": 0}, {\"date\": \"2015-05-19T00:00:00\", \"percentchg\": 35.897435897435905, \"shock\": 1}, {\"date\": \"2015-05-20T00:00:00\", \"percentchg\": 54.71698113207548, \"shock\": 1}, {\"date\": \"2015-05-21T00:00:00\", \"percentchg\": -48.78048780487805, \"shock\": 0}, {\"date\": \"2015-05-22T00:00:00\", \"percentchg\": 111.90476190476191, \"shock\": 1}, {\"date\": \"2015-05-25T00:00:00\", \"percentchg\": -53.37078651685394, \"shock\": 0}, {\"date\": \"2015-05-26T00:00:00\", \"percentchg\": -14.457831325301207, \"shock\": 0}, {\"date\": \"2015-05-27T00:00:00\", \"percentchg\": 21.126760563380277, \"shock\": 1}, {\"date\": \"2015-05-28T00:00:00\", \"percentchg\": 4.651162790697683, \"shock\": 0}, {\"date\": \"2015-05-29T00:00:00\", \"percentchg\": 38.888888888888886, \"shock\": 1}, {\"date\": \"2015-06-01T00:00:00\", \"percentchg\": -23.2, \"shock\": 0}, {\"date\": \"2015-06-02T00:00:00\", \"percentchg\": 51.04166666666667, \"shock\": 1}, {\"date\": \"2015-06-03T00:00:00\", \"percentchg\": -3.4482758620689613, \"shock\": 0}, {\"date\": \"2015-06-04T00:00:00\", \"percentchg\": -17.14285714285714, \"shock\": 0}, {\"date\": \"2015-06-05T00:00:00\", \"percentchg\": 2.586206896551735, \"shock\": 0}, {\"date\": \"2015-06-08T00:00:00\", \"percentchg\": -33.61344537815126, \"shock\": 0}, {\"date\": \"2015-06-09T00:00:00\", \"percentchg\": 39.240506329113934, \"shock\": 1}, {\"date\": \"2015-06-10T00:00:00\", \"percentchg\": -23.636363636363633, \"shock\": 0}, {\"date\": \"2015-06-11T00:00:00\", \"percentchg\": 34.52380952380953, \"shock\": 1}, {\"date\": \"2015-06-12T00:00:00\", \"percentchg\": -15.04424778761062, \"shock\": 0}, {\"date\": \"2015-06-15T00:00:00\", \"percentchg\": 14.583333333333325, \"shock\": 1}, {\"date\": \"2015-06-16T00:00:00\", \"percentchg\": 19.090909090909093, \"shock\": 1}, {\"date\": \"2015-06-17T00:00:00\", \"percentchg\": 75.57251908396947, \"shock\": 1}, {\"date\": \"2015-06-18T00:00:00\", \"percentchg\": -54.347826086956516, \"shock\": 0}, {\"date\": \"2015-06-19T00:00:00\", \"percentchg\": -22.857142857142854, \"shock\": 0}, {\"date\": \"2015-06-22T00:00:00\", \"percentchg\": 0.0, \"shock\": 0}, {\"date\": \"2015-06-23T00:00:00\", \"percentchg\": 6.172839506172845, \"shock\": 0}, {\"date\": \"2015-06-24T00:00:00\", \"percentchg\": 9.302325581395344, \"shock\": 0}, {\"date\": \"2015-06-25T00:00:00\", \"percentchg\": 7.446808510638303, \"shock\": 0}, {\"date\": \"2015-06-26T00:00:00\", \"percentchg\": -4.950495049504955, \"shock\": 0}, {\"date\": \"2015-06-29T00:00:00\", \"percentchg\": 13.541666666666675, \"shock\": 1}, {\"date\": \"2015-06-30T00:00:00\", \"percentchg\": -12.844036697247708, \"shock\": 0}, {\"date\": \"2015-07-01T00:00:00\", \"percentchg\": 93.6842105263158, \"shock\": 1}, {\"date\": \"2015-07-02T00:00:00\", \"percentchg\": -63.04347826086957, \"shock\": 0}, {\"date\": \"2015-07-03T00:00:00\", \"percentchg\": -11.764705882352944, \"shock\": 0}, {\"date\": \"2015-07-06T00:00:00\", \"percentchg\": 38.33333333333333, \"shock\": 1}, {\"date\": \"2015-07-07T00:00:00\", \"percentchg\": -3.6144578313253017, \"shock\": 0}, {\"date\": \"2015-07-08T00:00:00\", \"percentchg\": 71.24999999999999, \"shock\": 1}, {\"date\": \"2015-07-09T00:00:00\", \"percentchg\": -40.145985401459846, \"shock\": 0}, {\"date\": \"2015-07-10T00:00:00\", \"percentchg\": 31.70731707317074, \"shock\": 1}, {\"date\": \"2015-07-13T00:00:00\", \"percentchg\": -27.77777777777778, \"shock\": 0}, {\"date\": \"2015-07-14T00:00:00\", \"percentchg\": -11.538461538461542, \"shock\": 0}, {\"date\": \"2015-07-15T00:00:00\", \"percentchg\": -13.043478260869568, \"shock\": 0}, {\"date\": \"2015-07-16T00:00:00\", \"percentchg\": 41.66666666666667, \"shock\": 1}, {\"date\": \"2015-07-17T00:00:00\", \"percentchg\": -14.117647058823534, \"shock\": 0}, {\"date\": \"2015-07-20T00:00:00\", \"percentchg\": -9.589041095890416, \"shock\": 0}, {\"date\": \"2015-07-21T00:00:00\", \"percentchg\": 77.27272727272727, \"shock\": 1}, {\"date\": \"2015-07-22T00:00:00\", \"percentchg\": -18.803418803418804, \"shock\": 0}, {\"date\": \"2015-07-23T00:00:00\", \"percentchg\": -6.315789473684208, \"shock\": 0}, {\"date\": \"2015-07-24T00:00:00\", \"percentchg\": 4.494382022471921, \"shock\": 0}, {\"date\": \"2015-07-27T00:00:00\", \"percentchg\": 2.1505376344086002, \"shock\": 0}, {\"date\": \"2015-07-28T00:00:00\", \"percentchg\": 24.210526315789483, \"shock\": 1}, {\"date\": \"2015-07-29T00:00:00\", \"percentchg\": -27.118644067796616, \"shock\": 0}, {\"date\": \"2015-07-30T00:00:00\", \"percentchg\": 9.302325581395344, \"shock\": 0}, {\"date\": \"2015-07-31T00:00:00\", \"percentchg\": 59.57446808510638, \"shock\": 1}, {\"date\": \"2015-08-03T00:00:00\", \"percentchg\": -31.999999999999996, \"shock\": 0}, {\"date\": \"2015-08-04T00:00:00\", \"percentchg\": 33.33333333333333, \"shock\": 1}, {\"date\": \"2015-08-05T00:00:00\", \"percentchg\": -27.941176470588236, \"shock\": 0}, {\"date\": \"2015-08-06T00:00:00\", \"percentchg\": -23.469387755102044, \"shock\": 0}, {\"date\": \"2015-08-07T00:00:00\", \"percentchg\": 37.33333333333333, \"shock\": 1}, {\"date\": \"2015-08-10T00:00:00\", \"percentchg\": -15.533980582524276, \"shock\": 0}, {\"date\": \"2015-08-11T00:00:00\", \"percentchg\": 68.96551724137932, \"shock\": 1}, {\"date\": \"2015-08-12T00:00:00\", \"percentchg\": 23.809523809523814, \"shock\": 1}, {\"date\": \"2015-08-13T00:00:00\", \"percentchg\": -12.637362637362637, \"shock\": 0}, {\"date\": \"2015-08-14T00:00:00\", \"percentchg\": -16.981132075471695, \"shock\": 0}, {\"date\": \"2015-08-17T00:00:00\", \"percentchg\": -6.818181818181824, \"shock\": 0}, {\"date\": \"2015-08-18T00:00:00\", \"percentchg\": -4.0650406504065035, \"shock\": 0}, {\"date\": \"2015-08-19T00:00:00\", \"percentchg\": -7.6271186440677985, \"shock\": 0}, {\"date\": \"2015-08-20T00:00:00\", \"percentchg\": 32.11009174311927, \"shock\": 1}, {\"date\": \"2015-08-21T00:00:00\", \"percentchg\": -2.777777777777779, \"shock\": 0}, {\"date\": \"2015-08-24T00:00:00\", \"percentchg\": 85.71428571428572, \"shock\": 1}, {\"date\": \"2015-08-25T00:00:00\", \"percentchg\": -18.461538461538463, \"shock\": 0}, {\"date\": \"2015-08-26T00:00:00\", \"percentchg\": -36.79245283018868, \"shock\": 0}, {\"date\": \"2015-08-27T00:00:00\", \"percentchg\": 38.80597014925373, \"shock\": 1}, {\"date\": \"2015-08-28T00:00:00\", \"percentchg\": -34.946236559139784, \"shock\": 0}, {\"date\": \"2015-08-31T00:00:00\", \"percentchg\": -17.355371900826444, \"shock\": 0}, {\"date\": \"2015-09-01T00:00:00\", \"percentchg\": 39.99999999999999, \"shock\": 1}, {\"date\": \"2015-09-02T00:00:00\", \"percentchg\": 15.714285714285726, \"shock\": 1}, {\"date\": \"2015-09-03T00:00:00\", \"percentchg\": -30.246913580246915, \"shock\": 0}, {\"date\": \"2015-09-04T00:00:00\", \"percentchg\": 24.778761061946895, \"shock\": 1}, {\"date\": \"2015-09-07T00:00:00\", \"percentchg\": -9.219858156028371, \"shock\": 0}, {\"date\": \"2015-09-08T00:00:00\", \"percentchg\": -1.5625, \"shock\": 0}, {\"date\": \"2015-09-09T00:00:00\", \"percentchg\": 14.28571428571428, \"shock\": 1}, {\"date\": \"2015-09-10T00:00:00\", \"percentchg\": 1.388888888888884, \"shock\": 0}, {\"date\": \"2015-09-11T00:00:00\", \"percentchg\": -19.17808219178082, \"shock\": 0}, {\"date\": \"2015-09-14T00:00:00\", \"percentchg\": -25.423728813559322, \"shock\": 0}, {\"date\": \"2015-09-15T00:00:00\", \"percentchg\": 27.27272727272727, \"shock\": 1}, {\"date\": \"2015-09-16T00:00:00\", \"percentchg\": -14.28571428571429, \"shock\": 0}, {\"date\": \"2015-09-18T00:00:00\", \"percentchg\": 489.5833333333333, \"shock\": 1}, {\"date\": \"2015-09-21T00:00:00\", \"percentchg\": -85.68904593639576, \"shock\": 0}, {\"date\": \"2015-09-22T00:00:00\", \"percentchg\": 67.90123456790123, \"shock\": 1}, {\"date\": \"2015-09-23T00:00:00\", \"percentchg\": -13.970588235294112, \"shock\": 0}, {\"date\": \"2015-09-24T00:00:00\", \"percentchg\": 0.8547008547008517, \"shock\": 0}, {\"date\": \"2015-09-28T00:00:00\", \"percentchg\": -0.8474576271186418, \"shock\": 0}, {\"date\": \"2015-09-29T00:00:00\", \"percentchg\": 76.92307692307692, \"shock\": 1}, {\"date\": \"2015-09-30T00:00:00\", \"percentchg\": 32.85024154589371, \"shock\": 1}, {\"date\": \"2015-10-01T00:00:00\", \"percentchg\": -60.0, \"shock\": 0}, {\"date\": \"2015-10-05T00:00:00\", \"percentchg\": 3.6363636363636376, \"shock\": 0}, {\"date\": \"2015-10-06T00:00:00\", \"percentchg\": 19.298245614035082, \"shock\": 1}, {\"date\": \"2015-10-07T00:00:00\", \"percentchg\": 25.735294117647058, \"shock\": 1}, {\"date\": \"2015-10-08T00:00:00\", \"percentchg\": -12.865497076023392, \"shock\": 0}, {\"date\": \"2015-10-09T00:00:00\", \"percentchg\": 26.174496644295296, \"shock\": 1}, {\"date\": \"2015-10-12T00:00:00\", \"percentchg\": -2.127659574468088, \"shock\": 0}, {\"date\": \"2015-10-13T00:00:00\", \"percentchg\": -41.30434782608695, \"shock\": 0}, {\"date\": \"2015-10-14T00:00:00\", \"percentchg\": 0.92592592592593, \"shock\": 0}, {\"date\": \"2015-10-15T00:00:00\", \"percentchg\": 16.5137614678899, \"shock\": 1}, {\"date\": \"2015-10-16T00:00:00\", \"percentchg\": -19.685039370078737, \"shock\": 0}, {\"date\": \"2015-10-19T00:00:00\", \"percentchg\": -19.6078431372549, \"shock\": 0}, {\"date\": \"2015-10-20T00:00:00\", \"percentchg\": 12.195121951219523, \"shock\": 1}, {\"date\": \"2015-10-21T00:00:00\", \"percentchg\": 5.434782608695654, \"shock\": 0}, {\"date\": \"2015-10-23T00:00:00\", \"percentchg\": 2.0618556701030855, \"shock\": 0}, {\"date\": \"2015-10-26T00:00:00\", \"percentchg\": 14.141414141414144, \"shock\": 1}, {\"date\": \"2015-10-27T00:00:00\", \"percentchg\": -10.619469026548678, \"shock\": 0}, {\"date\": \"2015-10-28T00:00:00\", \"percentchg\": 3.960396039603964, \"shock\": 0}, {\"date\": \"2015-10-29T00:00:00\", \"percentchg\": -5.714285714285716, \"shock\": 0}, {\"date\": \"2015-10-30T00:00:00\", \"percentchg\": 41.41414141414141, \"shock\": 1}, {\"date\": \"2015-11-02T00:00:00\", \"percentchg\": -37.142857142857146, \"shock\": 0}, {\"date\": \"2015-11-03T00:00:00\", \"percentchg\": -3.409090909090906, \"shock\": 0}, {\"date\": \"2015-11-04T00:00:00\", \"percentchg\": -5.882352941176472, \"shock\": 0}, {\"date\": \"2015-11-05T00:00:00\", \"percentchg\": 53.75000000000001, \"shock\": 1}, {\"date\": \"2015-11-06T00:00:00\", \"percentchg\": 26.82926829268293, \"shock\": 1}, {\"date\": \"2015-11-09T00:00:00\", \"percentchg\": -14.743589743589746, \"shock\": 0}, {\"date\": \"2015-11-10T00:00:00\", \"percentchg\": -3.759398496240607, \"shock\": 0}, {\"date\": \"2015-11-13T00:00:00\", \"percentchg\": -10.15625, \"shock\": 0}, {\"date\": \"2015-11-16T00:00:00\", \"percentchg\": -1.7391304347826098, \"shock\": 0}, {\"date\": \"2015-11-17T00:00:00\", \"percentchg\": -5.309734513274334, \"shock\": 0}, {\"date\": \"2015-11-18T00:00:00\", \"percentchg\": 50.46728971962617, \"shock\": 1}, {\"date\": \"2015-11-19T00:00:00\", \"percentchg\": -38.50931677018633, \"shock\": 0}, {\"date\": \"2015-11-20T00:00:00\", \"percentchg\": 1.0101010101010166, \"shock\": 0}, {\"date\": \"2015-11-23T00:00:00\", \"percentchg\": 1.0000000000000009, \"shock\": 0}, {\"date\": \"2015-11-24T00:00:00\", \"percentchg\": -25.742574257425744, \"shock\": 0}, {\"date\": \"2015-11-26T00:00:00\", \"percentchg\": 12.00000000000001, \"shock\": 1}, {\"date\": \"2015-11-27T00:00:00\", \"percentchg\": 23.809523809523814, \"shock\": 1}, {\"date\": \"2015-11-30T00:00:00\", \"percentchg\": -20.192307692307686, \"shock\": 0}, {\"date\": \"2015-12-01T00:00:00\", \"percentchg\": 32.53012048192772, \"shock\": 1}, {\"date\": \"2015-12-02T00:00:00\", \"percentchg\": -8.18181818181818, \"shock\": 0}, {\"date\": \"2015-12-03T00:00:00\", \"percentchg\": -5.940594059405946, \"shock\": 0}, {\"date\": \"2015-12-04T00:00:00\", \"percentchg\": 10.526315789473696, \"shock\": 1}, {\"date\": \"2015-12-07T00:00:00\", \"percentchg\": -17.14285714285714, \"shock\": 0}, {\"date\": \"2015-12-08T00:00:00\", \"percentchg\": 44.827586206896555, \"shock\": 1}, {\"date\": \"2015-12-09T00:00:00\", \"percentchg\": -7.936507936507942, \"shock\": 0}, {\"date\": \"2015-12-10T00:00:00\", \"percentchg\": -6.034482758620685, \"shock\": 0}, {\"date\": \"2015-12-11T00:00:00\", \"percentchg\": 36.69724770642202, \"shock\": 1}, {\"date\": \"2015-12-14T00:00:00\", \"percentchg\": -22.14765100671141, \"shock\": 0}, {\"date\": \"2015-12-15T00:00:00\", \"percentchg\": -16.37931034482759, \"shock\": 0}, {\"date\": \"2015-12-16T00:00:00\", \"percentchg\": 11.340206185567014, \"shock\": 1}, {\"date\": \"2015-12-17T00:00:00\", \"percentchg\": 110.18518518518516, \"shock\": 1}, {\"date\": \"2015-12-18T00:00:00\", \"percentchg\": -54.18502202643172, \"shock\": 0}, {\"date\": \"2015-12-21T00:00:00\", \"percentchg\": -22.115384615384613, \"shock\": 0}, {\"date\": \"2015-12-22T00:00:00\", \"percentchg\": 0.0, \"shock\": 0}, {\"date\": \"2015-12-23T00:00:00\", \"percentchg\": -14.814814814814813, \"shock\": 0}, {\"date\": \"2015-12-24T00:00:00\", \"percentchg\": -28.985507246376805, \"shock\": 0}, {\"date\": \"2015-12-28T00:00:00\", \"percentchg\": 40.816326530612244, \"shock\": 1}, {\"date\": \"2015-12-29T00:00:00\", \"percentchg\": -13.043478260869568, \"shock\": 0}, {\"date\": \"2015-12-30T00:00:00\", \"percentchg\": 8.333333333333325, \"shock\": 0}, {\"date\": \"2015-12-31T00:00:00\", \"percentchg\": -4.61538461538461, \"shock\": 0}, {\"date\": \"2016-01-04T00:00:00\", \"percentchg\": 46.7741935483871, \"shock\": 1}, {\"date\": \"2016-01-05T00:00:00\", \"percentchg\": 13.186813186813184, \"shock\": 1}, {\"date\": \"2016-01-06T00:00:00\", \"percentchg\": 30.097087378640786, \"shock\": 1}, {\"date\": \"2016-01-07T00:00:00\", \"percentchg\": -11.940298507462687, \"shock\": 0}, {\"date\": \"2016-01-08T00:00:00\", \"percentchg\": 34.7457627118644, \"shock\": 1}, {\"date\": \"2016-01-11T00:00:00\", \"percentchg\": -33.333333333333336, \"shock\": 0}, {\"date\": \"2016-01-12T00:00:00\", \"percentchg\": -2.8301886792452824, \"shock\": 0}, {\"date\": \"2016-01-13T00:00:00\", \"percentchg\": 35.92233009708738, \"shock\": 1}, {\"date\": \"2016-01-14T00:00:00\", \"percentchg\": 6.428571428571428, \"shock\": 0}, {\"date\": \"2016-01-15T00:00:00\", \"percentchg\": -14.76510067114094, \"shock\": 0}, {\"date\": \"2016-01-18T00:00:00\", \"percentchg\": 7.086614173228356, \"shock\": 0}, {\"date\": \"2016-01-19T00:00:00\", \"percentchg\": -30.88235294117647, \"shock\": 0}, {\"date\": \"2016-01-20T00:00:00\", \"percentchg\": 36.170212765957444, \"shock\": 1}, {\"date\": \"2016-01-21T00:00:00\", \"percentchg\": 3.125, \"shock\": 0}, {\"date\": \"2016-01-22T00:00:00\", \"percentchg\": -23.484848484848484, \"shock\": 0}, {\"date\": \"2016-01-25T00:00:00\", \"percentchg\": -11.881188118811881, \"shock\": 0}, {\"date\": \"2016-01-27T00:00:00\", \"percentchg\": -4.49438202247191, \"shock\": 0}, {\"date\": \"2016-01-28T00:00:00\", \"percentchg\": -1.17647058823529, \"shock\": 0}, {\"date\": \"2016-01-29T00:00:00\", \"percentchg\": 47.61904761904763, \"shock\": 1}, {\"date\": \"2016-02-01T00:00:00\", \"percentchg\": -18.54838709677419, \"shock\": 0}, {\"date\": \"2016-02-02T00:00:00\", \"percentchg\": 25.742574257425744, \"shock\": 1}, {\"date\": \"2016-02-03T00:00:00\", \"percentchg\": -3.937007874015752, \"shock\": 0}, {\"date\": \"2016-02-04T00:00:00\", \"percentchg\": 0.0, \"shock\": 0}, {\"date\": \"2016-02-05T00:00:00\", \"percentchg\": 9.836065573770503, \"shock\": 0}, {\"date\": \"2016-02-08T00:00:00\", \"percentchg\": -12.686567164179108, \"shock\": 0}, {\"date\": \"2016-02-09T00:00:00\", \"percentchg\": -1.7094017094017144, \"shock\": 0}, {\"date\": \"2016-02-10T00:00:00\", \"percentchg\": 68.69565217391305, \"shock\": 1}, {\"date\": \"2016-02-11T00:00:00\", \"percentchg\": 19.58762886597938, \"shock\": 1}, {\"date\": \"2016-02-12T00:00:00\", \"percentchg\": 8.18965517241379, \"shock\": 0}, {\"date\": \"2016-02-15T00:00:00\", \"percentchg\": -18.72509960159362, \"shock\": 0}, {\"date\": \"2016-02-16T00:00:00\", \"percentchg\": 8.823529411764696, \"shock\": 0}, {\"date\": \"2016-02-17T00:00:00\", \"percentchg\": -25.225225225225223, \"shock\": 0}, {\"date\": \"2016-02-18T00:00:00\", \"percentchg\": -5.421686746987953, \"shock\": 0}, {\"date\": \"2016-02-19T00:00:00\", \"percentchg\": -26.114649681528668, \"shock\": 0}, {\"date\": \"2016-02-22T00:00:00\", \"percentchg\": -18.103448275862068, \"shock\": 0}, {\"date\": \"2016-02-23T00:00:00\", \"percentchg\": 75.78947368421052, \"shock\": 1}, {\"date\": \"2016-02-24T00:00:00\", \"percentchg\": -16.167664670658688, \"shock\": 0}, {\"date\": \"2016-02-25T00:00:00\", \"percentchg\": 13.571428571428568, \"shock\": 1}, {\"date\": \"2016-02-26T00:00:00\", \"percentchg\": -27.672955974842772, \"shock\": 0}, {\"date\": \"2016-02-29T00:00:00\", \"percentchg\": 412.17391304347825, \"shock\": 1}, {\"date\": \"2016-03-01T00:00:00\", \"percentchg\": -73.3446519524618, \"shock\": 0}, {\"date\": \"2016-03-02T00:00:00\", \"percentchg\": 45.222929936305725, \"shock\": 1}, {\"date\": \"2016-03-03T00:00:00\", \"percentchg\": -14.473684210526317, \"shock\": 0}, {\"date\": \"2016-03-04T00:00:00\", \"percentchg\": -10.256410256410254, \"shock\": 0}, {\"date\": \"2016-03-08T00:00:00\", \"percentchg\": 48.57142857142858, \"shock\": 1}, {\"date\": \"2016-03-09T00:00:00\", \"percentchg\": -54.23076923076924, \"shock\": 0}, {\"date\": \"2016-03-10T00:00:00\", \"percentchg\": 21.00840336134453, \"shock\": 1}, {\"date\": \"2016-03-11T00:00:00\", \"percentchg\": 2.777777777777768, \"shock\": 0}, {\"date\": \"2016-03-14T00:00:00\", \"percentchg\": 103.37837837837837, \"shock\": 1}, {\"date\": \"2016-03-15T00:00:00\", \"percentchg\": -59.80066445182723, \"shock\": 0}, {\"date\": \"2016-03-16T00:00:00\", \"percentchg\": -9.090909090909093, \"shock\": 0}, {\"date\": \"2016-03-17T00:00:00\", \"percentchg\": 32.72727272727274, \"shock\": 1}, {\"date\": \"2016-03-18T00:00:00\", \"percentchg\": -3.424657534246578, \"shock\": 0}, {\"date\": \"2016-03-21T00:00:00\", \"percentchg\": -12.056737588652478, \"shock\": 0}, {\"date\": \"2016-03-22T00:00:00\", \"percentchg\": -3.2258064516129004, \"shock\": 0}, {\"date\": \"2016-03-23T00:00:00\", \"percentchg\": -20.833333333333336, \"shock\": 0}, {\"date\": \"2016-03-28T00:00:00\", \"percentchg\": 6.315789473684208, \"shock\": 0}, {\"date\": \"2016-03-29T00:00:00\", \"percentchg\": 8.910891089108919, \"shock\": 0}, {\"date\": \"2016-03-30T00:00:00\", \"percentchg\": -2.7272727272727226, \"shock\": 0}, {\"date\": \"2016-03-31T00:00:00\", \"percentchg\": 7.476635514018692, \"shock\": 0}, {\"date\": \"2016-04-01T00:00:00\", \"percentchg\": -0.8695652173912993, \"shock\": 0}, {\"date\": \"2016-04-04T00:00:00\", \"percentchg\": -31.57894736842105, \"shock\": 0}, {\"date\": \"2016-04-05T00:00:00\", \"percentchg\": 89.74358974358974, \"shock\": 1}, {\"date\": \"2016-04-06T00:00:00\", \"percentchg\": -30.405405405405407, \"shock\": 0}, {\"date\": \"2016-04-07T00:00:00\", \"percentchg\": 86.40776699029126, \"shock\": 1}, {\"date\": \"2016-04-08T00:00:00\", \"percentchg\": -49.479166666666664, \"shock\": 0}, {\"date\": \"2016-04-11T00:00:00\", \"percentchg\": 167.0103092783505, \"shock\": 1}, {\"date\": \"2016-04-12T00:00:00\", \"percentchg\": -55.5984555984556, \"shock\": 0}, {\"date\": \"2016-04-13T00:00:00\", \"percentchg\": 26.956521739130434, \"shock\": 1}, {\"date\": \"2016-04-18T00:00:00\", \"percentchg\": -41.78082191780822, \"shock\": 0}, {\"date\": \"2016-04-20T00:00:00\", \"percentchg\": 32.94117647058823, \"shock\": 1}, {\"date\": \"2016-04-21T00:00:00\", \"percentchg\": 60.17699115044248, \"shock\": 1}, {\"date\": \"2016-04-22T00:00:00\", \"percentchg\": -25.96685082872928, \"shock\": 0}, {\"date\": \"2016-04-25T00:00:00\", \"percentchg\": -38.80597014925373, \"shock\": 0}, {\"date\": \"2016-04-26T00:00:00\", \"percentchg\": 36.585365853658544, \"shock\": 1}, {\"date\": \"2016-04-27T00:00:00\", \"percentchg\": 0.0, \"shock\": 0}, {\"date\": \"2016-04-28T00:00:00\", \"percentchg\": 30.35714285714286, \"shock\": 1}, {\"date\": \"2016-04-29T00:00:00\", \"percentchg\": 0.0, \"shock\": 0}, {\"date\": \"2016-05-02T00:00:00\", \"percentchg\": -47.26027397260274, \"shock\": 0}, {\"date\": \"2016-05-03T00:00:00\", \"percentchg\": 42.85714285714286, \"shock\": 1}, {\"date\": \"2016-05-04T00:00:00\", \"percentchg\": 43.636363636363626, \"shock\": 1}, {\"date\": \"2016-05-05T00:00:00\", \"percentchg\": -28.481012658227844, \"shock\": 0}, {\"date\": \"2016-05-06T00:00:00\", \"percentchg\": 0.0, \"shock\": 0}, {\"date\": \"2016-05-09T00:00:00\", \"percentchg\": 3.539823008849563, \"shock\": 0}, {\"date\": \"2016-05-10T00:00:00\", \"percentchg\": -10.256410256410254, \"shock\": 0}, {\"date\": \"2016-05-11T00:00:00\", \"percentchg\": -11.428571428571432, \"shock\": 0}, {\"date\": \"2016-05-12T00:00:00\", \"percentchg\": 5.376344086021501, \"shock\": 0}, {\"date\": \"2016-05-13T00:00:00\", \"percentchg\": 27.55102040816326, \"shock\": 1}, {\"date\": \"2016-05-16T00:00:00\", \"percentchg\": 3.200000000000003, \"shock\": 0}, {\"date\": \"2016-05-17T00:00:00\", \"percentchg\": -11.627906976744185, \"shock\": 0}, {\"date\": \"2016-05-18T00:00:00\", \"percentchg\": -14.035087719298245, \"shock\": 0}, {\"date\": \"2016-05-19T00:00:00\", \"percentchg\": 46.93877551020409, \"shock\": 1}, {\"date\": \"2016-05-20T00:00:00\", \"percentchg\": -5.555555555555558, \"shock\": 0}, {\"date\": \"2016-05-23T00:00:00\", \"percentchg\": -16.911764705882348, \"shock\": 0}, {\"date\": \"2016-05-24T00:00:00\", \"percentchg\": -5.309734513274334, \"shock\": 0}, {\"date\": \"2016-05-25T00:00:00\", \"percentchg\": -11.214953271028039, \"shock\": 0}, {\"date\": \"2016-05-26T00:00:00\", \"percentchg\": 46.31578947368422, \"shock\": 1}, {\"date\": \"2016-05-27T00:00:00\", \"percentchg\": 49.64028776978417, \"shock\": 1}, {\"date\": \"2016-05-30T00:00:00\", \"percentchg\": -28.846153846153843, \"shock\": 0}, {\"date\": \"2016-05-31T00:00:00\", \"percentchg\": 79.05405405405406, \"shock\": 1}, {\"date\": \"2016-06-01T00:00:00\", \"percentchg\": -49.43396226415094, \"shock\": 0}, {\"date\": \"2016-06-02T00:00:00\", \"percentchg\": -17.16417910447762, \"shock\": 0}, {\"date\": \"2016-06-03T00:00:00\", \"percentchg\": 17.117117117117118, \"shock\": 1}, {\"date\": \"2016-06-06T00:00:00\", \"percentchg\": -33.07692307692308, \"shock\": 0}, {\"date\": \"2016-06-07T00:00:00\", \"percentchg\": 70.11494252873563, \"shock\": 1}, {\"date\": \"2016-06-08T00:00:00\", \"percentchg\": -15.540540540540537, \"shock\": 0}, {\"date\": \"2016-06-09T00:00:00\", \"percentchg\": -19.199999999999996, \"shock\": 0}, {\"date\": \"2016-06-10T00:00:00\", \"percentchg\": 0.0, \"shock\": 0}, {\"date\": \"2016-06-13T00:00:00\", \"percentchg\": -9.9009900990099, \"shock\": 0}, {\"date\": \"2016-06-14T00:00:00\", \"percentchg\": -14.28571428571429, \"shock\": 0}, {\"date\": \"2016-06-15T00:00:00\", \"percentchg\": 57.692307692307686, \"shock\": 1}, {\"date\": \"2016-06-16T00:00:00\", \"percentchg\": 2.4390243902439046, \"shock\": 0}, {\"date\": \"2016-06-17T00:00:00\", \"percentchg\": -26.190476190476186, \"shock\": 0}, {\"date\": \"2016-06-20T00:00:00\", \"percentchg\": 2.1505376344086002, \"shock\": 0}, {\"date\": \"2016-06-21T00:00:00\", \"percentchg\": -26.315789473684216, \"shock\": 0}, {\"date\": \"2016-06-22T00:00:00\", \"percentchg\": 10.000000000000009, \"shock\": 1}, {\"date\": \"2016-06-23T00:00:00\", \"percentchg\": 20.779220779220786, \"shock\": 1}, {\"date\": \"2016-06-24T00:00:00\", \"percentchg\": 162.36559139784944, \"shock\": 1}, {\"date\": \"2016-06-27T00:00:00\", \"percentchg\": -25.0, \"shock\": 0}, {\"date\": \"2016-06-28T00:00:00\", \"percentchg\": -55.73770491803278, \"shock\": 0}, {\"date\": \"2016-06-29T00:00:00\", \"percentchg\": -4.938271604938271, \"shock\": 0}, {\"date\": \"2016-06-30T00:00:00\", \"percentchg\": 11.688311688311682, \"shock\": 1}, {\"date\": \"2016-07-01T00:00:00\", \"percentchg\": 16.279069767441868, \"shock\": 1}, {\"date\": \"2016-07-04T00:00:00\", \"percentchg\": -17.000000000000004, \"shock\": 0}, {\"date\": \"2016-07-05T00:00:00\", \"percentchg\": 25.30120481927711, \"shock\": 1}, {\"date\": \"2016-07-07T00:00:00\", \"percentchg\": -15.384615384615385, \"shock\": 0}, {\"date\": \"2016-07-08T00:00:00\", \"percentchg\": 57.95454545454546, \"shock\": 1}, {\"date\": \"2016-07-11T00:00:00\", \"percentchg\": 71.94244604316546, \"shock\": 1}, {\"date\": \"2016-07-12T00:00:00\", \"percentchg\": -48.95397489539749, \"shock\": 0}, {\"date\": \"2016-07-13T00:00:00\", \"percentchg\": 44.26229508196722, \"shock\": 1}, {\"date\": \"2016-07-14T00:00:00\", \"percentchg\": -40.34090909090909, \"shock\": 0}, {\"date\": \"2016-07-15T00:00:00\", \"percentchg\": 55.23809523809524, \"shock\": 1}, {\"date\": \"2016-07-18T00:00:00\", \"percentchg\": 25.76687116564418, \"shock\": 1}, {\"date\": \"2016-07-19T00:00:00\", \"percentchg\": -18.048780487804883, \"shock\": 0}, {\"date\": \"2016-07-20T00:00:00\", \"percentchg\": -25.595238095238095, \"shock\": 0}, {\"date\": \"2016-07-21T00:00:00\", \"percentchg\": -2.400000000000002, \"shock\": 0}, {\"date\": \"2016-07-22T00:00:00\", \"percentchg\": -22.13114754098361, \"shock\": 0}, {\"date\": \"2016-07-25T00:00:00\", \"percentchg\": 61.052631578947356, \"shock\": 1}, {\"date\": \"2016-07-26T00:00:00\", \"percentchg\": -27.450980392156865, \"shock\": 0}, {\"date\": \"2016-07-27T00:00:00\", \"percentchg\": -6.3063063063063085, \"shock\": 0}, {\"date\": \"2016-07-28T00:00:00\", \"percentchg\": 40.38461538461537, \"shock\": 1}, {\"date\": \"2016-07-29T00:00:00\", \"percentchg\": -21.232876712328764, \"shock\": 0}, {\"date\": \"2016-08-01T00:00:00\", \"percentchg\": 19.130434782608695, \"shock\": 1}, {\"date\": \"2016-08-02T00:00:00\", \"percentchg\": -26.277372262773724, \"shock\": 0}, {\"date\": \"2016-08-03T00:00:00\", \"percentchg\": 16.831683168316825, \"shock\": 1}, {\"date\": \"2016-08-04T00:00:00\", \"percentchg\": 23.728813559322038, \"shock\": 1}, {\"date\": \"2016-08-05T00:00:00\", \"percentchg\": -6.164383561643838, \"shock\": 0}, {\"date\": \"2016-08-08T00:00:00\", \"percentchg\": 48.17518248175183, \"shock\": 1}, {\"date\": \"2016-08-09T00:00:00\", \"percentchg\": -30.04926108374384, \"shock\": 0}, {\"date\": \"2016-08-10T00:00:00\", \"percentchg\": 8.450704225352123, \"shock\": 0}, {\"date\": \"2016-08-11T00:00:00\", \"percentchg\": -35.71428571428571, \"shock\": 0}, {\"date\": \"2016-08-12T00:00:00\", \"percentchg\": 112.12121212121211, \"shock\": 1}, {\"date\": \"2016-08-16T00:00:00\", \"percentchg\": -30.476190476190478, \"shock\": 0}, {\"date\": \"2016-08-17T00:00:00\", \"percentchg\": -20.547945205479458, \"shock\": 0}, {\"date\": \"2016-08-18T00:00:00\", \"percentchg\": 7.758620689655182, \"shock\": 0}, {\"date\": \"2016-08-19T00:00:00\", \"percentchg\": 24.8, \"shock\": 1}, {\"date\": \"2016-08-22T00:00:00\", \"percentchg\": -19.23076923076923, \"shock\": 0}, {\"date\": \"2016-08-23T00:00:00\", \"percentchg\": -1.5873015873015928, \"shock\": 0}, {\"date\": \"2016-08-24T00:00:00\", \"percentchg\": -34.67741935483871, \"shock\": 0}, {\"date\": \"2016-08-25T00:00:00\", \"percentchg\": -17.28395061728395, \"shock\": 0}, {\"date\": \"2016-08-26T00:00:00\", \"percentchg\": 35.82089552238805, \"shock\": 1}, {\"date\": \"2016-08-29T00:00:00\", \"percentchg\": 29.670329670329675, \"shock\": 1}, {\"date\": \"2016-08-30T00:00:00\", \"percentchg\": -10.169491525423723, \"shock\": 0}, {\"date\": \"2016-08-31T00:00:00\", \"percentchg\": -1.8867924528301883, \"shock\": 0}, {\"date\": \"2016-09-01T00:00:00\", \"percentchg\": 61.53846153846154, \"shock\": 1}, {\"date\": \"2016-09-02T00:00:00\", \"percentchg\": -28.57142857142857, \"shock\": 0}, {\"date\": \"2016-09-06T00:00:00\", \"percentchg\": 51.66666666666666, \"shock\": 1}, {\"date\": \"2016-09-07T00:00:00\", \"percentchg\": 8.791208791208781, \"shock\": 0}, {\"date\": \"2016-09-08T00:00:00\", \"percentchg\": -24.242424242424242, \"shock\": 0}, {\"date\": \"2016-09-09T00:00:00\", \"percentchg\": -21.999999999999996, \"shock\": 0}, {\"date\": \"2016-09-12T00:00:00\", \"percentchg\": 17.0940170940171, \"shock\": 1}, {\"date\": \"2016-09-14T00:00:00\", \"percentchg\": -16.058394160583944, \"shock\": 0}, {\"date\": \"2016-09-15T00:00:00\", \"percentchg\": -16.52173913043479, \"shock\": 0}, {\"date\": \"2016-09-16T00:00:00\", \"percentchg\": 39.58333333333333, \"shock\": 1}, {\"date\": \"2016-09-19T00:00:00\", \"percentchg\": -5.970149253731338, \"shock\": 0}, {\"date\": \"2016-09-20T00:00:00\", \"percentchg\": -36.50793650793651, \"shock\": 0}, {\"date\": \"2016-09-21T00:00:00\", \"percentchg\": 53.75000000000001, \"shock\": 1}, {\"date\": \"2016-09-22T00:00:00\", \"percentchg\": -13.008130081300816, \"shock\": 0}, {\"date\": \"2016-09-23T00:00:00\", \"percentchg\": 24.29906542056075, \"shock\": 1}, {\"date\": \"2016-09-26T00:00:00\", \"percentchg\": 24.812030075187973, \"shock\": 1}, {\"date\": \"2016-09-27T00:00:00\", \"percentchg\": -46.98795180722891, \"shock\": 0}, {\"date\": \"2016-09-28T00:00:00\", \"percentchg\": 22.72727272727273, \"shock\": 1}, {\"date\": \"2016-09-29T00:00:00\", \"percentchg\": 25.92592592592593, \"shock\": 1}, {\"date\": \"2016-09-30T00:00:00\", \"percentchg\": -22.79411764705882, \"shock\": 0}, {\"date\": \"2016-10-03T00:00:00\", \"percentchg\": 3.809523809523818, \"shock\": 0}, {\"date\": \"2016-10-04T00:00:00\", \"percentchg\": 67.88990825688073, \"shock\": 1}, {\"date\": \"2016-10-05T00:00:00\", \"percentchg\": -38.25136612021858, \"shock\": 0}, {\"date\": \"2016-10-06T00:00:00\", \"percentchg\": -19.469026548672563, \"shock\": 0}, {\"date\": \"2016-10-07T00:00:00\", \"percentchg\": 39.560439560439555, \"shock\": 1}, {\"date\": \"2016-10-10T00:00:00\", \"percentchg\": -45.669291338582674, \"shock\": 0}, {\"date\": \"2016-10-13T00:00:00\", \"percentchg\": 72.46376811594205, \"shock\": 1}, {\"date\": \"2016-10-14T00:00:00\", \"percentchg\": 17.647058823529417, \"shock\": 1}, {\"date\": \"2016-10-17T00:00:00\", \"percentchg\": 22.142857142857153, \"shock\": 1}, {\"date\": \"2016-10-18T00:00:00\", \"percentchg\": -5.263157894736848, \"shock\": 0}, {\"date\": \"2016-10-19T00:00:00\", \"percentchg\": -6.172839506172845, \"shock\": 0}, {\"date\": \"2016-10-20T00:00:00\", \"percentchg\": -25.657894736842103, \"shock\": 0}, {\"date\": \"2016-10-21T00:00:00\", \"percentchg\": -24.77876106194691, \"shock\": 0}, {\"date\": \"2016-10-24T00:00:00\", \"percentchg\": 77.6470588235294, \"shock\": 1}, {\"date\": \"2016-10-25T00:00:00\", \"percentchg\": -27.15231788079471, \"shock\": 0}, {\"date\": \"2016-10-26T00:00:00\", \"percentchg\": 28.181818181818173, \"shock\": 1}, {\"date\": \"2016-10-27T00:00:00\", \"percentchg\": -3.546099290780147, \"shock\": 0}, {\"date\": \"2016-10-28T00:00:00\", \"percentchg\": -16.911764705882348, \"shock\": 0}, {\"date\": \"2016-11-01T00:00:00\", \"percentchg\": -10.619469026548678, \"shock\": 0}, {\"date\": \"2016-11-02T00:00:00\", \"percentchg\": 28.712871287128717, \"shock\": 1}, {\"date\": \"2016-11-03T00:00:00\", \"percentchg\": -16.92307692307692, \"shock\": 0}, {\"date\": \"2016-11-04T00:00:00\", \"percentchg\": 125.0, \"shock\": 1}, {\"date\": \"2016-11-07T00:00:00\", \"percentchg\": -53.49794238683128, \"shock\": 0}, {\"date\": \"2016-11-08T00:00:00\", \"percentchg\": -9.734513274336287, \"shock\": 0}, {\"date\": \"2016-11-09T00:00:00\", \"percentchg\": 106.86274509803924, \"shock\": 1}, {\"date\": \"2016-11-10T00:00:00\", \"percentchg\": -21.327014218009477, \"shock\": 0}, {\"date\": \"2016-11-11T00:00:00\", \"percentchg\": 3.0120481927710774, \"shock\": 0}, {\"date\": \"2016-11-15T00:00:00\", \"percentchg\": -4.093567251461994, \"shock\": 0}, {\"date\": \"2016-11-16T00:00:00\", \"percentchg\": -13.414634146341465, \"shock\": 0}, {\"date\": \"2016-11-17T00:00:00\", \"percentchg\": -22.535211267605636, \"shock\": 0}, {\"date\": \"2016-11-18T00:00:00\", \"percentchg\": -12.727272727272732, \"shock\": 0}, {\"date\": \"2016-11-21T00:00:00\", \"percentchg\": 3.125, \"shock\": 0}, {\"date\": \"2016-11-22T00:00:00\", \"percentchg\": -18.181818181818176, \"shock\": 0}, {\"date\": \"2016-11-23T00:00:00\", \"percentchg\": 9.876543209876543, \"shock\": 0}, {\"date\": \"2016-11-24T00:00:00\", \"percentchg\": -3.3707865168539297, \"shock\": 0}, {\"date\": \"2016-11-25T00:00:00\", \"percentchg\": 33.72093023255813, \"shock\": 1}, {\"date\": \"2016-11-28T00:00:00\", \"percentchg\": -5.21739130434783, \"shock\": 0}, {\"date\": \"2016-11-29T00:00:00\", \"percentchg\": -11.926605504587151, \"shock\": 0}, {\"date\": \"2016-11-30T00:00:00\", \"percentchg\": -18.75, \"shock\": 0}, {\"date\": \"2016-12-01T00:00:00\", \"percentchg\": 44.87179487179487, \"shock\": 1}, {\"date\": \"2016-12-02T00:00:00\", \"percentchg\": -15.04424778761062, \"shock\": 0}, {\"date\": \"2016-12-05T00:00:00\", \"percentchg\": 33.33333333333333, \"shock\": 1}, {\"date\": \"2016-12-06T00:00:00\", \"percentchg\": -40.625, \"shock\": 0}, {\"date\": \"2016-12-07T00:00:00\", \"percentchg\": 38.1578947368421, \"shock\": 1}, {\"date\": \"2016-12-08T00:00:00\", \"percentchg\": -21.904761904761905, \"shock\": 0}, {\"date\": \"2016-12-09T00:00:00\", \"percentchg\": 19.512195121951216, \"shock\": 1}, {\"date\": \"2016-12-12T00:00:00\", \"percentchg\": -13.265306122448983, \"shock\": 0}, {\"date\": \"2016-12-13T00:00:00\", \"percentchg\": -17.647058823529417, \"shock\": 0}, {\"date\": \"2016-12-14T00:00:00\", \"percentchg\": 41.42857142857144, \"shock\": 1}, {\"date\": \"2016-12-15T00:00:00\", \"percentchg\": 28.282828282828287, \"shock\": 1}, {\"date\": \"2016-12-16T00:00:00\", \"percentchg\": -40.15748031496062, \"shock\": 0}, {\"date\": \"2016-12-19T00:00:00\", \"percentchg\": -2.631578947368418, \"shock\": 0}, {\"date\": \"2016-12-20T00:00:00\", \"percentchg\": -1.3513513513513487, \"shock\": 0}, {\"date\": \"2016-12-21T00:00:00\", \"percentchg\": -16.43835616438356, \"shock\": 0}, {\"date\": \"2016-12-22T00:00:00\", \"percentchg\": 24.590163934426236, \"shock\": 1}, {\"date\": \"2016-12-23T00:00:00\", \"percentchg\": -1.3157894736842146, \"shock\": 0}, {\"date\": \"2016-12-26T00:00:00\", \"percentchg\": -28.000000000000004, \"shock\": 0}, {\"date\": \"2016-12-27T00:00:00\", \"percentchg\": 61.111111111111114, \"shock\": 1}, {\"date\": \"2016-12-28T00:00:00\", \"percentchg\": -2.298850574712641, \"shock\": 0}, {\"date\": \"2016-12-29T00:00:00\", \"percentchg\": -21.176470588235297, \"shock\": 0}, {\"date\": \"2016-12-30T00:00:00\", \"percentchg\": 28.358208955223873, \"shock\": 1}, {\"date\": \"2017-01-02T00:00:00\", \"percentchg\": -6.976744186046513, \"shock\": 0}, {\"date\": \"2017-01-03T00:00:00\", \"percentchg\": 22.500000000000007, \"shock\": 1}, {\"date\": \"2017-01-04T00:00:00\", \"percentchg\": -17.3469387755102, \"shock\": 0}, {\"date\": \"2017-01-05T00:00:00\", \"percentchg\": 20.98765432098766, \"shock\": 1}, {\"date\": \"2017-01-06T00:00:00\", \"percentchg\": -20.408163265306122, \"shock\": 0}, {\"date\": \"2017-01-09T00:00:00\", \"percentchg\": -17.948717948717952, \"shock\": 0}, {\"date\": \"2017-01-10T00:00:00\", \"percentchg\": 34.375, \"shock\": 1}, {\"date\": \"2017-01-11T00:00:00\", \"percentchg\": 39.53488372093024, \"shock\": 1}, {\"date\": \"2017-01-12T00:00:00\", \"percentchg\": -2.500000000000002, \"shock\": 0}, {\"date\": \"2017-01-13T00:00:00\", \"percentchg\": -12.82051282051282, \"shock\": 0}, {\"date\": \"2017-01-16T00:00:00\", \"percentchg\": 23.529411764705888, \"shock\": 1}, {\"date\": \"2017-01-17T00:00:00\", \"percentchg\": -35.71428571428571, \"shock\": 0}, {\"date\": \"2017-01-18T00:00:00\", \"percentchg\": 17.28395061728396, \"shock\": 1}, {\"date\": \"2017-01-19T00:00:00\", \"percentchg\": 13.684210526315788, \"shock\": 1}, {\"date\": \"2017-01-20T00:00:00\", \"percentchg\": -18.518518518518523, \"shock\": 0}, {\"date\": \"2017-01-23T00:00:00\", \"percentchg\": -25.0, \"shock\": 0}, {\"date\": \"2017-01-24T00:00:00\", \"percentchg\": 3.0303030303030276, \"shock\": 0}, {\"date\": \"2017-01-25T00:00:00\", \"percentchg\": 79.41176470588236, \"shock\": 1}, {\"date\": \"2017-01-27T00:00:00\", \"percentchg\": 17.21311475409837, \"shock\": 1}, {\"date\": \"2017-01-30T00:00:00\", \"percentchg\": -39.86013986013987, \"shock\": 0}, {\"date\": \"2017-01-31T00:00:00\", \"percentchg\": 24.418604651162788, \"shock\": 1}, {\"date\": \"2017-02-01T00:00:00\", \"percentchg\": 70.09345794392523, \"shock\": 1}, {\"date\": \"2017-02-02T00:00:00\", \"percentchg\": -5.494505494505497, \"shock\": 0}, {\"date\": \"2017-02-03T00:00:00\", \"percentchg\": -37.2093023255814, \"shock\": 0}, {\"date\": \"2017-02-06T00:00:00\", \"percentchg\": -7.4074074074074066, \"shock\": 0}, {\"date\": \"2017-02-07T00:00:00\", \"percentchg\": 8.000000000000007, \"shock\": 0}, {\"date\": \"2017-02-08T00:00:00\", \"percentchg\": 0.92592592592593, \"shock\": 0}, {\"date\": \"2017-02-09T00:00:00\", \"percentchg\": -6.422018348623848, \"shock\": 0}, {\"date\": \"2017-02-10T00:00:00\", \"percentchg\": 34.31372549019607, \"shock\": 1}, {\"date\": \"2017-02-13T00:00:00\", \"percentchg\": -31.386861313868607, \"shock\": 0}, {\"date\": \"2017-02-14T00:00:00\", \"percentchg\": 24.468085106382986, \"shock\": 1}, {\"date\": \"2017-02-15T00:00:00\", \"percentchg\": 52.13675213675213, \"shock\": 1}, {\"date\": \"2017-02-16T00:00:00\", \"percentchg\": -45.50561797752809, \"shock\": 0}, {\"date\": \"2017-02-17T00:00:00\", \"percentchg\": 54.639175257731964, \"shock\": 1}, {\"date\": \"2017-02-20T00:00:00\", \"percentchg\": -40.666666666666664, \"shock\": 0}, {\"date\": \"2017-02-21T00:00:00\", \"percentchg\": -5.61797752808989, \"shock\": 0}, {\"date\": \"2017-02-22T00:00:00\", \"percentchg\": 94.04761904761905, \"shock\": 1}, {\"date\": \"2017-02-23T00:00:00\", \"percentchg\": 12.883435582822077, \"shock\": 1}, {\"date\": \"2017-02-27T00:00:00\", \"percentchg\": -34.78260869565217, \"shock\": 0}, {\"date\": \"2017-02-28T00:00:00\", \"percentchg\": -10.833333333333329, \"shock\": 0}, {\"date\": \"2017-03-01T00:00:00\", \"percentchg\": 36.44859813084111, \"shock\": 1}, {\"date\": \"2017-03-02T00:00:00\", \"percentchg\": -26.027397260273975, \"shock\": 0}, {\"date\": \"2017-03-03T00:00:00\", \"percentchg\": -13.888888888888884, \"shock\": 0}, {\"date\": \"2017-03-06T00:00:00\", \"percentchg\": 30.107526881720425, \"shock\": 1}, {\"date\": \"2017-03-07T00:00:00\", \"percentchg\": -19.834710743801654, \"shock\": 0}, {\"date\": \"2017-03-08T00:00:00\", \"percentchg\": 68.04123711340206, \"shock\": 1}, {\"date\": \"2017-03-09T00:00:00\", \"percentchg\": 2363.19018404908, \"shock\": 1}, {\"date\": \"2017-03-10T00:00:00\", \"percentchg\": -96.0398505603985, \"shock\": 0}, {\"date\": \"2017-03-14T00:00:00\", \"percentchg\": 83.64779874213836, \"shock\": 1}, {\"date\": \"2017-03-15T00:00:00\", \"percentchg\": 1244.1780821917807, \"shock\": 1}, {\"date\": \"2017-03-16T00:00:00\", \"percentchg\": -95.31210191082803, \"shock\": 0}, {\"date\": \"2017-03-17T00:00:00\", \"percentchg\": -21.19565217391305, \"shock\": 0}, {\"date\": \"2017-03-20T00:00:00\", \"percentchg\": 2664.137931034483, \"shock\": 1}, {\"date\": \"2017-03-21T00:00:00\", \"percentchg\": -97.13073852295409, \"shock\": 0}, {\"date\": \"2017-03-22T00:00:00\", \"percentchg\": 27.826086956521735, \"shock\": 1}, {\"date\": \"2017-03-23T00:00:00\", \"percentchg\": 76.87074829931973, \"shock\": 1}, {\"date\": \"2017-03-24T00:00:00\", \"percentchg\": -19.23076923076923, \"shock\": 0}, {\"date\": \"2017-03-27T00:00:00\", \"percentchg\": -28.095238095238095, \"shock\": 0}, {\"date\": \"2017-03-28T00:00:00\", \"percentchg\": 121.8543046357616, \"shock\": 1}, {\"date\": \"2017-03-29T00:00:00\", \"percentchg\": 24.179104477611936, \"shock\": 1}, {\"date\": \"2017-03-30T00:00:00\", \"percentchg\": -62.25961538461539, \"shock\": 0}, {\"date\": \"2017-03-31T00:00:00\", \"percentchg\": -24.840764331210185, \"shock\": 0}, {\"date\": \"2017-04-03T00:00:00\", \"percentchg\": -14.406779661016945, \"shock\": 0}, {\"date\": \"2017-04-05T00:00:00\", \"percentchg\": 10.8910891089109, \"shock\": 1}, {\"date\": \"2017-04-06T00:00:00\", \"percentchg\": 0.8928571428571397, \"shock\": 0}, {\"date\": \"2017-04-07T00:00:00\", \"percentchg\": 30.08849557522124, \"shock\": 1}, {\"date\": \"2017-04-10T00:00:00\", \"percentchg\": -27.210884353741495, \"shock\": 0}, {\"date\": \"2017-04-11T00:00:00\", \"percentchg\": 0.9345794392523255, \"shock\": 0}, {\"date\": \"2017-04-12T00:00:00\", \"percentchg\": -21.29629629629629, \"shock\": 0}, {\"date\": \"2017-04-13T00:00:00\", \"percentchg\": 25.882352941176467, \"shock\": 1}, {\"date\": \"2017-04-17T00:00:00\", \"percentchg\": -37.383177570093466, \"shock\": 0}, {\"date\": \"2017-04-18T00:00:00\", \"percentchg\": 80.59701492537314, \"shock\": 1}, {\"date\": \"2017-04-19T00:00:00\", \"percentchg\": -4.1322314049586755, \"shock\": 0}, {\"date\": \"2017-04-20T00:00:00\", \"percentchg\": 25.86206896551724, \"shock\": 1}, {\"date\": \"2017-04-21T00:00:00\", \"percentchg\": -22.602739726027398, \"shock\": 0}, {\"date\": \"2017-04-24T00:00:00\", \"percentchg\": -21.238938053097346, \"shock\": 0}, {\"date\": \"2017-04-25T00:00:00\", \"percentchg\": -3.3707865168539297, \"shock\": 0}, {\"date\": \"2017-04-26T00:00:00\", \"percentchg\": 26.74418604651163, \"shock\": 1}, {\"date\": \"2017-04-27T00:00:00\", \"percentchg\": -1.834862385321101, \"shock\": 0}, {\"date\": \"2017-04-28T00:00:00\", \"percentchg\": 5.607476635514019, \"shock\": 0}, {\"date\": \"2017-05-02T00:00:00\", \"percentchg\": 3.539823008849563, \"shock\": 0}, {\"date\": \"2017-05-03T00:00:00\", \"percentchg\": -3.4188034188034178, \"shock\": 0}, {\"date\": \"2017-05-04T00:00:00\", \"percentchg\": 97.34513274336283, \"shock\": 1}, {\"date\": \"2017-05-05T00:00:00\", \"percentchg\": -28.69955156950673, \"shock\": 0}, {\"date\": \"2017-05-08T00:00:00\", \"percentchg\": -37.106918238993714, \"shock\": 0}, {\"date\": \"2017-05-09T00:00:00\", \"percentchg\": -16.000000000000004, \"shock\": 0}, {\"date\": \"2017-05-10T00:00:00\", \"percentchg\": 30.952380952380953, \"shock\": 1}, {\"date\": \"2017-05-11T00:00:00\", \"percentchg\": -2.7272727272727226, \"shock\": 0}, {\"date\": \"2017-05-12T00:00:00\", \"percentchg\": 3.738317757009346, \"shock\": 0}, {\"date\": \"2017-05-15T00:00:00\", \"percentchg\": -27.927927927927932, \"shock\": 0}, {\"date\": \"2017-05-16T00:00:00\", \"percentchg\": 70.0, \"shock\": 1}, {\"date\": \"2017-05-17T00:00:00\", \"percentchg\": 9.558823529411775, \"shock\": 0}, {\"date\": \"2017-05-18T00:00:00\", \"percentchg\": 8.7248322147651, \"shock\": 0}, {\"date\": \"2017-05-19T00:00:00\", \"percentchg\": -14.814814814814813, \"shock\": 0}, {\"date\": \"2017-05-22T00:00:00\", \"percentchg\": -17.391304347826086, \"shock\": 0}, {\"date\": \"2017-05-23T00:00:00\", \"percentchg\": 64.03508771929825, \"shock\": 1}, {\"date\": \"2017-05-24T00:00:00\", \"percentchg\": -39.57219251336899, \"shock\": 0}, {\"date\": \"2017-05-25T00:00:00\", \"percentchg\": -11.504424778761058, \"shock\": 0}, {\"date\": \"2017-05-26T00:00:00\", \"percentchg\": 46.0, \"shock\": 1}, {\"date\": \"2017-05-29T00:00:00\", \"percentchg\": 2.0547945205479534, \"shock\": 0}, {\"date\": \"2017-05-30T00:00:00\", \"percentchg\": -35.570469798657726, \"shock\": 0}, {\"date\": \"2017-05-31T00:00:00\", \"percentchg\": 35.41666666666667, \"shock\": 1}, {\"date\": \"2017-06-01T00:00:00\", \"percentchg\": -36.15384615384616, \"shock\": 0}, {\"date\": \"2017-06-02T00:00:00\", \"percentchg\": 2.4096385542168752, \"shock\": 0}, {\"date\": \"2017-06-05T00:00:00\", \"percentchg\": 5.882352941176472, \"shock\": 0}, {\"date\": \"2017-06-06T00:00:00\", \"percentchg\": 51.11111111111111, \"shock\": 1}, {\"date\": \"2017-06-07T00:00:00\", \"percentchg\": -30.147058823529417, \"shock\": 0}, {\"date\": \"2017-06-08T00:00:00\", \"percentchg\": 47.36842105263157, \"shock\": 1}, {\"date\": \"2017-06-09T00:00:00\", \"percentchg\": -30.000000000000004, \"shock\": 0}, {\"date\": \"2017-06-12T00:00:00\", \"percentchg\": -30.612244897959183, \"shock\": 0}, {\"date\": \"2017-06-13T00:00:00\", \"percentchg\": 95.58823529411764, \"shock\": 1}, {\"date\": \"2017-06-14T00:00:00\", \"percentchg\": -4.511278195488721, \"shock\": 0}, {\"date\": \"2017-06-15T00:00:00\", \"percentchg\": 0.0, \"shock\": 0}, {\"date\": \"2017-06-16T00:00:00\", \"percentchg\": 4.724409448818889, \"shock\": 0}, {\"date\": \"2017-06-19T00:00:00\", \"percentchg\": -43.609022556390975, \"shock\": 0}, {\"date\": \"2017-06-20T00:00:00\", \"percentchg\": 8.000000000000007, \"shock\": 0}, {\"date\": \"2017-06-21T00:00:00\", \"percentchg\": 340.74074074074076, \"shock\": 1}, {\"date\": \"2017-06-22T00:00:00\", \"percentchg\": -71.42857142857143, \"shock\": 0}, {\"date\": \"2017-06-23T00:00:00\", \"percentchg\": 779.4117647058824, \"shock\": 1}, {\"date\": \"2017-06-27T00:00:00\", \"percentchg\": -82.94314381270902, \"shock\": 0}, {\"date\": \"2017-06-28T00:00:00\", \"percentchg\": -35.29411764705882, \"shock\": 0}, {\"date\": \"2017-06-29T00:00:00\", \"percentchg\": 24.242424242424242, \"shock\": 1}, {\"date\": \"2017-06-30T00:00:00\", \"percentchg\": -25.20325203252033, \"shock\": 0}, {\"date\": \"2017-07-03T00:00:00\", \"percentchg\": -11.956521739130432, \"shock\": 0}, {\"date\": \"2017-07-04T00:00:00\", \"percentchg\": 7.407407407407418, \"shock\": 0}, {\"date\": \"2017-07-05T00:00:00\", \"percentchg\": -25.287356321839084, \"shock\": 0}, {\"date\": \"2017-07-06T00:00:00\", \"percentchg\": 55.38461538461539, \"shock\": 1}, {\"date\": \"2017-07-07T00:00:00\", \"percentchg\": -38.613861386138616, \"shock\": 0}, {\"date\": \"2017-07-10T00:00:00\", \"percentchg\": 511.2903225806452, \"shock\": 1}, {\"date\": \"2017-07-11T00:00:00\", \"percentchg\": -75.98944591029024, \"shock\": 0}, {\"date\": \"2017-07-12T00:00:00\", \"percentchg\": -8.791208791208794, \"shock\": 0}, {\"date\": \"2017-07-13T00:00:00\", \"percentchg\": 26.506024096385538, \"shock\": 1}, {\"date\": \"2017-07-14T00:00:00\", \"percentchg\": -31.428571428571427, \"shock\": 0}, {\"date\": \"2017-07-17T00:00:00\", \"percentchg\": 43.05555555555556, \"shock\": 1}, {\"date\": \"2017-07-18T00:00:00\", \"percentchg\": 109.70873786407766, \"shock\": 1}, {\"date\": \"2017-07-19T00:00:00\", \"percentchg\": -47.68518518518518, \"shock\": 0}, {\"date\": \"2017-07-20T00:00:00\", \"percentchg\": -0.8849557522123908, \"shock\": 0}, {\"date\": \"2017-07-21T00:00:00\", \"percentchg\": 60.71428571428572, \"shock\": 1}, {\"date\": \"2017-07-24T00:00:00\", \"percentchg\": -36.111111111111114, \"shock\": 0}, {\"date\": \"2017-07-25T00:00:00\", \"percentchg\": 22.608695652173914, \"shock\": 1}, {\"date\": \"2017-07-26T00:00:00\", \"percentchg\": -12.056737588652478, \"shock\": 0}, {\"date\": \"2017-07-27T00:00:00\", \"percentchg\": -12.096774193548388, \"shock\": 0}, {\"date\": \"2017-07-28T00:00:00\", \"percentchg\": 3.669724770642202, \"shock\": 0}, {\"date\": \"2017-07-31T00:00:00\", \"percentchg\": 15.92920353982301, \"shock\": 1}, {\"date\": \"2017-08-01T00:00:00\", \"percentchg\": -31.29770992366412, \"shock\": 0}, {\"date\": \"2017-08-02T00:00:00\", \"percentchg\": 16.666666666666675, \"shock\": 1}, {\"date\": \"2017-08-03T00:00:00\", \"percentchg\": 19.999999999999996, \"shock\": 1}, {\"date\": \"2017-08-04T00:00:00\", \"percentchg\": -10.317460317460315, \"shock\": 0}, {\"date\": \"2017-08-07T00:00:00\", \"percentchg\": -7.964601769911505, \"shock\": 0}, {\"date\": \"2017-08-08T00:00:00\", \"percentchg\": -9.615384615384615, \"shock\": 0}, {\"date\": \"2017-08-09T00:00:00\", \"percentchg\": -1.0638297872340385, \"shock\": 0}, {\"date\": \"2017-08-10T00:00:00\", \"percentchg\": 39.78494623655915, \"shock\": 1}, {\"date\": \"2017-08-11T00:00:00\", \"percentchg\": 16.92307692307693, \"shock\": 1}, {\"date\": \"2017-08-14T00:00:00\", \"percentchg\": -36.18421052631579, \"shock\": 0}, {\"date\": \"2017-08-16T00:00:00\", \"percentchg\": 28.865979381443307, \"shock\": 1}, {\"date\": \"2017-08-17T00:00:00\", \"percentchg\": -31.999999999999996, \"shock\": 0}, {\"date\": \"2017-08-18T00:00:00\", \"percentchg\": 92.94117647058823, \"shock\": 1}, {\"date\": \"2017-08-21T00:00:00\", \"percentchg\": 43.90243902439024, \"shock\": 1}, {\"date\": \"2017-08-22T00:00:00\", \"percentchg\": -54.23728813559322, \"shock\": 0}, {\"date\": \"2017-08-23T00:00:00\", \"percentchg\": -7.4074074074074066, \"shock\": 0}, {\"date\": \"2017-08-24T00:00:00\", \"percentchg\": -10.999999999999998, \"shock\": 0}, {\"date\": \"2017-08-28T00:00:00\", \"percentchg\": 13.483146067415742, \"shock\": 1}, {\"date\": \"2017-08-29T00:00:00\", \"percentchg\": -32.67326732673267, \"shock\": 0}, {\"date\": \"2017-08-30T00:00:00\", \"percentchg\": -20.588235294117652, \"shock\": 0}, {\"date\": \"2017-08-31T00:00:00\", \"percentchg\": 231.4814814814815, \"shock\": 1}, {\"date\": \"2017-09-01T00:00:00\", \"percentchg\": -63.12849162011174, \"shock\": 0}, {\"date\": \"2017-09-04T00:00:00\", \"percentchg\": 15.15151515151516, \"shock\": 1}, {\"date\": \"2017-09-05T00:00:00\", \"percentchg\": 5.263157894736836, \"shock\": 0}, {\"date\": \"2017-09-06T00:00:00\", \"percentchg\": -7.499999999999996, \"shock\": 0}, {\"date\": \"2017-09-07T00:00:00\", \"percentchg\": 37.83783783783783, \"shock\": 1}, {\"date\": \"2017-09-08T00:00:00\", \"percentchg\": -23.529411764705888, \"shock\": 0}, {\"date\": \"2017-09-11T00:00:00\", \"percentchg\": 11.538461538461542, \"shock\": 1}, {\"date\": \"2017-09-12T00:00:00\", \"percentchg\": -19.54022988505747, \"shock\": 0}, {\"date\": \"2017-09-13T00:00:00\", \"percentchg\": 27.142857142857135, \"shock\": 1}, {\"date\": \"2017-09-14T00:00:00\", \"percentchg\": 2.2471910112359605, \"shock\": 0}, {\"date\": \"2017-09-15T00:00:00\", \"percentchg\": -2.197802197802201, \"shock\": 0}, {\"date\": \"2017-09-18T00:00:00\", \"percentchg\": 6.741573033707859, \"shock\": 0}, {\"date\": \"2017-09-19T00:00:00\", \"percentchg\": 504.2105263157895, \"shock\": 1}, {\"date\": \"2017-09-20T00:00:00\", \"percentchg\": -81.70731707317074, \"shock\": 0}, {\"date\": \"2017-09-21T00:00:00\", \"percentchg\": -17.14285714285714, \"shock\": 0}, {\"date\": \"2017-09-22T00:00:00\", \"percentchg\": 10.344827586206895, \"shock\": 1}, {\"date\": \"2017-09-25T00:00:00\", \"percentchg\": 27.083333333333325, \"shock\": 1}, {\"date\": \"2017-09-26T00:00:00\", \"percentchg\": -18.032786885245898, \"shock\": 0}, {\"date\": \"2017-09-27T00:00:00\", \"percentchg\": -2.0000000000000018, \"shock\": 0}, {\"date\": \"2017-09-28T00:00:00\", \"percentchg\": -15.306122448979586, \"shock\": 0}, {\"date\": \"2017-09-29T00:00:00\", \"percentchg\": -7.2289156626506035, \"shock\": 0}, {\"date\": \"2017-10-03T00:00:00\", \"percentchg\": -7.792207792207795, \"shock\": 0}, {\"date\": \"2017-10-04T00:00:00\", \"percentchg\": -16.901408450704224, \"shock\": 0}, {\"date\": \"2017-10-05T00:00:00\", \"percentchg\": 0.0, \"shock\": 0}, {\"date\": \"2017-10-06T00:00:00\", \"percentchg\": 40.67796610169492, \"shock\": 1}, {\"date\": \"2017-10-09T00:00:00\", \"percentchg\": -30.12048192771084, \"shock\": 0}, {\"date\": \"2017-10-10T00:00:00\", \"percentchg\": 24.13793103448276, \"shock\": 1}, {\"date\": \"2017-10-11T00:00:00\", \"percentchg\": 19.444444444444443, \"shock\": 1}, {\"date\": \"2017-10-12T00:00:00\", \"percentchg\": -9.302325581395355, \"shock\": 0}, {\"date\": \"2017-10-13T00:00:00\", \"percentchg\": 98.71794871794873, \"shock\": 1}, {\"date\": \"2017-10-16T00:00:00\", \"percentchg\": -40.645161290322584, \"shock\": 0}, {\"date\": \"2017-10-17T00:00:00\", \"percentchg\": -40.21739130434783, \"shock\": 0}, {\"date\": \"2017-10-18T00:00:00\", \"percentchg\": 156.36363636363635, \"shock\": 1}, {\"date\": \"2017-10-19T00:00:00\", \"percentchg\": -82.26950354609929, \"shock\": 0}, {\"date\": \"2017-10-23T00:00:00\", \"percentchg\": 236.0, \"shock\": 1}, {\"date\": \"2017-10-24T00:00:00\", \"percentchg\": 0.0, \"shock\": 0}, {\"date\": \"2017-10-25T00:00:00\", \"percentchg\": 255.95238095238093, \"shock\": 1}, {\"date\": \"2017-10-26T00:00:00\", \"percentchg\": -48.16053511705686, \"shock\": 0}, {\"date\": \"2017-10-27T00:00:00\", \"percentchg\": 18.06451612903226, \"shock\": 1}, {\"date\": \"2017-10-30T00:00:00\", \"percentchg\": -23.497267759562845, \"shock\": 0}, {\"date\": \"2017-10-31T00:00:00\", \"percentchg\": -17.85714285714286, \"shock\": 0}, {\"date\": \"2017-11-01T00:00:00\", \"percentchg\": 23.478260869565215, \"shock\": 1}, {\"date\": \"2017-11-02T00:00:00\", \"percentchg\": -12.676056338028175, \"shock\": 0}, {\"date\": \"2017-11-03T00:00:00\", \"percentchg\": 1510.483870967742, \"shock\": 1}, {\"date\": \"2017-11-06T00:00:00\", \"percentchg\": -93.44016024036054, \"shock\": 0}, {\"date\": \"2017-11-07T00:00:00\", \"percentchg\": 24.427480916030532, \"shock\": 1}, {\"date\": \"2017-11-08T00:00:00\", \"percentchg\": 1636.196319018405, \"shock\": 1}, {\"date\": \"2017-11-09T00:00:00\", \"percentchg\": -95.01766784452298, \"shock\": 0}, {\"date\": \"2017-11-10T00:00:00\", \"percentchg\": 50.35460992907801, \"shock\": 1}, {\"date\": \"2017-11-13T00:00:00\", \"percentchg\": -14.150943396226412, \"shock\": 0}, {\"date\": \"2017-11-14T00:00:00\", \"percentchg\": -34.065934065934066, \"shock\": 0}, {\"date\": \"2017-11-15T00:00:00\", \"percentchg\": -5.833333333333335, \"shock\": 0}, {\"date\": \"2017-11-16T00:00:00\", \"percentchg\": -15.04424778761062, \"shock\": 0}, {\"date\": \"2017-11-17T00:00:00\", \"percentchg\": 17.708333333333325, \"shock\": 1}, {\"date\": \"2017-11-20T00:00:00\", \"percentchg\": -30.08849557522124, \"shock\": 0}, {\"date\": \"2017-11-21T00:00:00\", \"percentchg\": 87.34177215189874, \"shock\": 1}, {\"date\": \"2017-11-22T00:00:00\", \"percentchg\": -11.486486486486491, \"shock\": 0}, {\"date\": \"2017-11-23T00:00:00\", \"percentchg\": -45.80152671755725, \"shock\": 0}, {\"date\": \"2017-11-24T00:00:00\", \"percentchg\": 9.859154929577475, \"shock\": 0}, {\"date\": \"2017-11-27T00:00:00\", \"percentchg\": 14.102564102564097, \"shock\": 1}, {\"date\": \"2017-11-28T00:00:00\", \"percentchg\": -8.98876404494382, \"shock\": 0}, {\"date\": \"2017-11-29T00:00:00\", \"percentchg\": -18.518518518518523, \"shock\": 0}, {\"date\": \"2017-11-30T00:00:00\", \"percentchg\": 12.12121212121211, \"shock\": 1}, {\"date\": \"2017-12-01T00:00:00\", \"percentchg\": 24.32432432432432, \"shock\": 1}, {\"date\": \"2017-12-04T00:00:00\", \"percentchg\": 4.347826086956519, \"shock\": 0}, {\"date\": \"2017-12-05T00:00:00\", \"percentchg\": -10.416666666666663, \"shock\": 0}, {\"date\": \"2017-12-06T00:00:00\", \"percentchg\": 11.627906976744185, \"shock\": 1}, {\"date\": \"2017-12-07T00:00:00\", \"percentchg\": -1.041666666666663, \"shock\": 0}, {\"date\": \"2017-12-08T00:00:00\", \"percentchg\": 49.473684210526315, \"shock\": 1}, {\"date\": \"2017-12-11T00:00:00\", \"percentchg\": -15.492957746478876, \"shock\": 0}, {\"date\": \"2017-12-12T00:00:00\", \"percentchg\": -31.666666666666664, \"shock\": 0}, {\"date\": \"2017-12-13T00:00:00\", \"percentchg\": 198.78048780487805, \"shock\": 1}, {\"date\": \"2017-12-14T00:00:00\", \"percentchg\": -54.28571428571429, \"shock\": 0}, {\"date\": \"2017-12-15T00:00:00\", \"percentchg\": 116.07142857142856, \"shock\": 1}, {\"date\": \"2017-12-18T00:00:00\", \"percentchg\": -12.809917355371903, \"shock\": 0}, {\"date\": \"2017-12-19T00:00:00\", \"percentchg\": -2.3696682464455, \"shock\": 0}, {\"date\": \"2017-12-20T00:00:00\", \"percentchg\": -65.53398058252426, \"shock\": 0}, {\"date\": \"2017-12-21T00:00:00\", \"percentchg\": 39.43661971830985, \"shock\": 1}, {\"date\": \"2017-12-22T00:00:00\", \"percentchg\": -21.212121212121215, \"shock\": 0}, {\"date\": \"2017-12-26T00:00:00\", \"percentchg\": 65.38461538461537, \"shock\": 1}, {\"date\": \"2017-12-27T00:00:00\", \"percentchg\": -15.503875968992254, \"shock\": 0}, {\"date\": \"2017-12-28T00:00:00\", \"percentchg\": -12.844036697247708, \"shock\": 0}, {\"date\": \"2017-12-29T00:00:00\", \"percentchg\": 27.368421052631575, \"shock\": 1}, {\"date\": \"2018-01-01T00:00:00\", \"percentchg\": -38.01652892561983, \"shock\": 0}, {\"date\": \"2018-01-02T00:00:00\", \"percentchg\": 41.333333333333336, \"shock\": 1}, {\"date\": \"2018-01-03T00:00:00\", \"percentchg\": -15.094339622641506, \"shock\": 0}, {\"date\": \"2018-01-04T00:00:00\", \"percentchg\": 16.666666666666675, \"shock\": 1}, {\"date\": \"2018-01-05T00:00:00\", \"percentchg\": 39.99999999999999, \"shock\": 1}, {\"date\": \"2018-01-08T00:00:00\", \"percentchg\": -8.163265306122447, \"shock\": 0}, {\"date\": \"2018-01-09T00:00:00\", \"percentchg\": -17.037037037037038, \"shock\": 0}, {\"date\": \"2018-01-10T00:00:00\", \"percentchg\": -24.10714285714286, \"shock\": 0}, {\"date\": \"2018-01-11T00:00:00\", \"percentchg\": -4.705882352941182, \"shock\": 0}, {\"date\": \"2018-01-12T00:00:00\", \"percentchg\": -3.703703703703709, \"shock\": 0}, {\"date\": \"2018-01-15T00:00:00\", \"percentchg\": 87.17948717948718, \"shock\": 1}, {\"date\": \"2018-01-16T00:00:00\", \"percentchg\": 267.1232876712329, \"shock\": 1}, {\"date\": \"2018-01-17T00:00:00\", \"percentchg\": -34.70149253731343, \"shock\": 0}, {\"date\": \"2018-01-18T00:00:00\", \"percentchg\": -55.14285714285714, \"shock\": 0}, {\"date\": \"2018-01-19T00:00:00\", \"percentchg\": 124.20382165605095, \"shock\": 1}, {\"date\": \"2018-01-22T00:00:00\", \"percentchg\": -61.07954545454546, \"shock\": 0}, {\"date\": \"2018-01-23T00:00:00\", \"percentchg\": 97.08029197080292, \"shock\": 1}, {\"date\": \"2018-01-24T00:00:00\", \"percentchg\": -6.666666666666665, \"shock\": 0}, {\"date\": \"2018-01-25T00:00:00\", \"percentchg\": -40.07936507936508, \"shock\": 0}, {\"date\": \"2018-01-29T00:00:00\", \"percentchg\": 11.920529801324498, \"shock\": 1}, {\"date\": \"2018-01-30T00:00:00\", \"percentchg\": 7.100591715976323, \"shock\": 0}, {\"date\": \"2018-01-31T00:00:00\", \"percentchg\": -39.226519337016576, \"shock\": 0}, {\"date\": \"2018-02-01T00:00:00\", \"percentchg\": 129.0909090909091, \"shock\": 1}, {\"date\": \"2018-02-02T00:00:00\", \"percentchg\": -28.57142857142857, \"shock\": 0}, {\"date\": \"2018-02-05T00:00:00\", \"percentchg\": 30.555555555555557, \"shock\": 1}, {\"date\": \"2018-02-06T00:00:00\", \"percentchg\": -2.553191489361706, \"shock\": 0}, {\"date\": \"2018-02-07T00:00:00\", \"percentchg\": -42.79475982532751, \"shock\": 0}, {\"date\": \"2018-02-08T00:00:00\", \"percentchg\": 172.51908396946564, \"shock\": 1}, {\"date\": \"2018-02-09T00:00:00\", \"percentchg\": -57.422969187675065, \"shock\": 0}, {\"date\": \"2018-02-12T00:00:00\", \"percentchg\": 1.9736842105263053, \"shock\": 0}, {\"date\": \"2018-02-14T00:00:00\", \"percentchg\": 36.12903225806452, \"shock\": 1}, {\"date\": \"2018-02-15T00:00:00\", \"percentchg\": -38.38862559241706, \"shock\": 0}, {\"date\": \"2018-02-16T00:00:00\", \"percentchg\": 38.46153846153846, \"shock\": 1}, {\"date\": \"2018-02-19T00:00:00\", \"percentchg\": 0.0, \"shock\": 0}, {\"date\": \"2018-02-20T00:00:00\", \"percentchg\": 6.666666666666665, \"shock\": 0}, {\"date\": \"2018-02-21T00:00:00\", \"percentchg\": -7.8125, \"shock\": 0}, {\"date\": \"2018-02-22T00:00:00\", \"percentchg\": -33.333333333333336, \"shock\": 0}, {\"date\": \"2018-02-23T00:00:00\", \"percentchg\": 83.05084745762711, \"shock\": 1}, {\"date\": \"2018-02-26T00:00:00\", \"percentchg\": -61.111111111111114, \"shock\": 0}, {\"date\": \"2018-02-27T00:00:00\", \"percentchg\": 51.19047619047619, \"shock\": 1}, {\"date\": \"2018-02-28T00:00:00\", \"percentchg\": -5.511811023622048, \"shock\": 0}, {\"date\": \"2018-03-01T00:00:00\", \"percentchg\": -5.833333333333335, \"shock\": 0}, {\"date\": \"2018-03-05T00:00:00\", \"percentchg\": 49.55752212389382, \"shock\": 1}, {\"date\": \"2018-03-06T00:00:00\", \"percentchg\": -30.17751479289941, \"shock\": 0}, {\"date\": \"2018-03-07T00:00:00\", \"percentchg\": -9.322033898305083, \"shock\": 0}, {\"date\": \"2018-03-08T00:00:00\", \"percentchg\": 44.859813084112155, \"shock\": 1}, {\"date\": \"2018-03-09T00:00:00\", \"percentchg\": -47.096774193548384, \"shock\": 0}, {\"date\": \"2018-03-12T00:00:00\", \"percentchg\": 48.78048780487805, \"shock\": 1}, {\"date\": \"2018-03-13T00:00:00\", \"percentchg\": 17.21311475409837, \"shock\": 1}, {\"date\": \"2018-03-14T00:00:00\", \"percentchg\": -34.96503496503497, \"shock\": 0}, {\"date\": \"2018-03-15T00:00:00\", \"percentchg\": 86.02150537634408, \"shock\": 1}, {\"date\": \"2018-03-16T00:00:00\", \"percentchg\": -26.589595375722542, \"shock\": 0}, {\"date\": \"2018-03-19T00:00:00\", \"percentchg\": -22.83464566929134, \"shock\": 0}, {\"date\": \"2018-03-20T00:00:00\", \"percentchg\": 48.979591836734706, \"shock\": 1}, {\"date\": \"2018-03-21T00:00:00\", \"percentchg\": -30.82191780821918, \"shock\": 0}, {\"date\": \"2018-03-22T00:00:00\", \"percentchg\": 27.722772277227726, \"shock\": 1}, {\"date\": \"2018-03-23T00:00:00\", \"percentchg\": -11.627906976744185, \"shock\": 0}, {\"date\": \"2018-03-26T00:00:00\", \"percentchg\": 43.85964912280702, \"shock\": 1}, {\"date\": \"2018-03-27T00:00:00\", \"percentchg\": -7.926829268292678, \"shock\": 0}, {\"date\": \"2018-03-28T00:00:00\", \"percentchg\": -18.54304635761589, \"shock\": 0}, {\"date\": \"2018-04-02T00:00:00\", \"percentchg\": -38.21138211382114, \"shock\": 0}, {\"date\": \"2018-04-03T00:00:00\", \"percentchg\": 46.05263157894737, \"shock\": 1}, {\"date\": \"2018-04-04T00:00:00\", \"percentchg\": -12.612612612612617, \"shock\": 0}, {\"date\": \"2018-04-05T00:00:00\", \"percentchg\": 13.4020618556701, \"shock\": 1}, {\"date\": \"2018-04-06T00:00:00\", \"percentchg\": -1.8181818181818188, \"shock\": 0}, {\"date\": \"2018-04-09T00:00:00\", \"percentchg\": 246.29629629629628, \"shock\": 1}, {\"date\": \"2018-04-10T00:00:00\", \"percentchg\": -63.63636363636363, \"shock\": 0}, {\"date\": \"2018-04-11T00:00:00\", \"percentchg\": -31.61764705882353, \"shock\": 0}, {\"date\": \"2018-04-12T00:00:00\", \"percentchg\": -29.032258064516125, \"shock\": 0}, {\"date\": \"2018-04-13T00:00:00\", \"percentchg\": 25.757575757575758, \"shock\": 1}, {\"date\": \"2018-04-16T00:00:00\", \"percentchg\": -14.457831325301207, \"shock\": 0}, {\"date\": \"2018-04-17T00:00:00\", \"percentchg\": 46.47887323943662, \"shock\": 1}, {\"date\": \"2018-04-18T00:00:00\", \"percentchg\": -21.153846153846157, \"shock\": 0}, {\"date\": \"2018-04-19T00:00:00\", \"percentchg\": -7.317073170731703, \"shock\": 0}, {\"date\": \"2018-04-20T00:00:00\", \"percentchg\": 34.210526315789465, \"shock\": 1}, {\"date\": \"2018-04-23T00:00:00\", \"percentchg\": -6.8627450980392135, \"shock\": 0}, {\"date\": \"2018-04-24T00:00:00\", \"percentchg\": -11.578947368421055, \"shock\": 0}, {\"date\": \"2018-04-25T00:00:00\", \"percentchg\": -7.14285714285714, \"shock\": 0}, {\"date\": \"2018-04-26T00:00:00\", \"percentchg\": 28.205128205128215, \"shock\": 1}, {\"date\": \"2018-04-27T00:00:00\", \"percentchg\": 62.000000000000014, \"shock\": 1}, {\"date\": \"2018-04-30T00:00:00\", \"percentchg\": -57.407407407407405, \"shock\": 0}, {\"date\": \"2018-05-02T00:00:00\", \"percentchg\": 26.086956521739136, \"shock\": 1}, {\"date\": \"2018-05-03T00:00:00\", \"percentchg\": -11.494252873563216, \"shock\": 0}, {\"date\": \"2018-05-04T00:00:00\", \"percentchg\": 1.298701298701288, \"shock\": 0}, {\"date\": \"2018-05-07T00:00:00\", \"percentchg\": 61.53846153846154, \"shock\": 1}, {\"date\": \"2018-05-08T00:00:00\", \"percentchg\": 12.698412698412698, \"shock\": 1}, {\"date\": \"2018-05-09T00:00:00\", \"percentchg\": -33.80281690140845, \"shock\": 0}, {\"date\": \"2018-05-10T00:00:00\", \"percentchg\": -10.63829787234043, \"shock\": 0}, {\"date\": \"2018-05-11T00:00:00\", \"percentchg\": 5.952380952380953, \"shock\": 0}, {\"date\": \"2018-05-14T00:00:00\", \"percentchg\": 1.1235955056179803, \"shock\": 0}, {\"date\": \"2018-05-15T00:00:00\", \"percentchg\": 33.33333333333333, \"shock\": 1}, {\"date\": \"2018-05-16T00:00:00\", \"percentchg\": -9.166666666666668, \"shock\": 0}, {\"date\": \"2018-05-17T00:00:00\", \"percentchg\": 0.917431192660545, \"shock\": 0}, {\"date\": \"2018-05-18T00:00:00\", \"percentchg\": -13.636363636363635, \"shock\": 0}, {\"date\": \"2018-05-21T00:00:00\", \"percentchg\": -31.57894736842105, \"shock\": 0}, {\"date\": \"2018-05-22T00:00:00\", \"percentchg\": 84.61538461538463, \"shock\": 1}, {\"date\": \"2018-05-23T00:00:00\", \"percentchg\": -5.833333333333335, \"shock\": 0}, {\"date\": \"2018-05-24T00:00:00\", \"percentchg\": 39.82300884955752, \"shock\": 1}, {\"date\": \"2018-05-25T00:00:00\", \"percentchg\": -34.81012658227848, \"shock\": 0}, {\"date\": \"2018-05-28T00:00:00\", \"percentchg\": 8.737864077669899, \"shock\": 0}, {\"date\": \"2018-05-29T00:00:00\", \"percentchg\": -25.0, \"shock\": 0}, {\"date\": \"2018-05-30T00:00:00\", \"percentchg\": 29.761904761904766, \"shock\": 1}, {\"date\": \"2018-05-31T00:00:00\", \"percentchg\": 110.09174311926606, \"shock\": 1}, {\"date\": \"2018-06-01T00:00:00\", \"percentchg\": -48.03493449781659, \"shock\": 0}, {\"date\": \"2018-06-04T00:00:00\", \"percentchg\": 147.05882352941177, \"shock\": 1}, {\"date\": \"2018-06-05T00:00:00\", \"percentchg\": -71.7687074829932, \"shock\": 0}, {\"date\": \"2018-06-06T00:00:00\", \"percentchg\": 21.68674698795181, \"shock\": 1}, {\"date\": \"2018-06-07T00:00:00\", \"percentchg\": -12.871287128712872, \"shock\": 0}, {\"date\": \"2018-06-08T00:00:00\", \"percentchg\": 12.5, \"shock\": 1}, {\"date\": \"2018-06-11T00:00:00\", \"percentchg\": 12.12121212121211, \"shock\": 1}, {\"date\": \"2018-06-12T00:00:00\", \"percentchg\": 0.0, \"shock\": 0}, {\"date\": \"2018-06-13T00:00:00\", \"percentchg\": 7.2072072072072, \"shock\": 0}, {\"date\": \"2018-06-14T00:00:00\", \"percentchg\": -17.647058823529417, \"shock\": 0}, {\"date\": \"2018-06-15T00:00:00\", \"percentchg\": -8.163265306122447, \"shock\": 0}, {\"date\": \"2018-06-18T00:00:00\", \"percentchg\": -9.999999999999998, \"shock\": 0}, {\"date\": \"2018-06-19T00:00:00\", \"percentchg\": 11.111111111111116, \"shock\": 1}, {\"date\": \"2018-06-20T00:00:00\", \"percentchg\": 13.33333333333333, \"shock\": 1}, {\"date\": \"2018-06-21T00:00:00\", \"percentchg\": 510.78431372549016, \"shock\": 1}, {\"date\": \"2018-06-22T00:00:00\", \"percentchg\": -76.40449438202246, \"shock\": 0}, {\"date\": \"2018-06-25T00:00:00\", \"percentchg\": -19.727891156462583, \"shock\": 0}, {\"date\": \"2018-06-26T00:00:00\", \"percentchg\": -2.5423728813559365, \"shock\": 0}, {\"date\": \"2018-06-27T00:00:00\", \"percentchg\": -1.7391304347826098, \"shock\": 0}, {\"date\": \"2018-06-28T00:00:00\", \"percentchg\": 15.04424778761062, \"shock\": 1}, {\"date\": \"2018-06-29T00:00:00\", \"percentchg\": 190.76923076923075, \"shock\": 1}, {\"date\": \"2018-07-02T00:00:00\", \"percentchg\": -60.84656084656085, \"shock\": 0}, {\"date\": \"2018-07-03T00:00:00\", \"percentchg\": -47.97297297297297, \"shock\": 0}, {\"date\": \"2018-07-04T00:00:00\", \"percentchg\": 54.54545454545454, \"shock\": 1}, {\"date\": \"2018-07-05T00:00:00\", \"percentchg\": 62.18487394957983, \"shock\": 1}, {\"date\": \"2018-07-06T00:00:00\", \"percentchg\": -24.352331606217614, \"shock\": 0}, {\"date\": \"2018-07-09T00:00:00\", \"percentchg\": -42.465753424657535, \"shock\": 0}, {\"date\": \"2018-07-10T00:00:00\", \"percentchg\": 4.761904761904767, \"shock\": 0}, {\"date\": \"2018-07-11T00:00:00\", \"percentchg\": 6.818181818181812, \"shock\": 0}, {\"date\": \"2018-07-12T00:00:00\", \"percentchg\": 30.85106382978724, \"shock\": 1}, {\"date\": \"2018-07-13T00:00:00\", \"percentchg\": -3.2520325203251987, \"shock\": 0}, {\"date\": \"2018-07-16T00:00:00\", \"percentchg\": -19.327731092436974, \"shock\": 0}, {\"date\": \"2018-07-17T00:00:00\", \"percentchg\": -4.1666666666666625, \"shock\": 0}, {\"date\": \"2018-07-18T00:00:00\", \"percentchg\": 100.0, \"shock\": 1}, {\"date\": \"2018-07-19T00:00:00\", \"percentchg\": -48.91304347826087, \"shock\": 0}, {\"date\": \"2018-07-20T00:00:00\", \"percentchg\": 73.40425531914893, \"shock\": 1}, {\"date\": \"2018-07-23T00:00:00\", \"percentchg\": -50.306748466257666, \"shock\": 0}, {\"date\": \"2018-07-24T00:00:00\", \"percentchg\": 43.209876543209866, \"shock\": 1}, {\"date\": \"2018-07-25T00:00:00\", \"percentchg\": -5.1724137931034475, \"shock\": 0}, {\"date\": \"2018-07-26T00:00:00\", \"percentchg\": 61.81818181818181, \"shock\": 1}, {\"date\": \"2018-07-27T00:00:00\", \"percentchg\": -17.41573033707865, \"shock\": 0}, {\"date\": \"2018-07-30T00:00:00\", \"percentchg\": -4.081632653061229, \"shock\": 0}, {\"date\": \"2018-07-31T00:00:00\", \"percentchg\": -0.7092198581560294, \"shock\": 0}, {\"date\": \"2018-08-01T00:00:00\", \"percentchg\": 14.999999999999991, \"shock\": 1}, {\"date\": \"2018-08-02T00:00:00\", \"percentchg\": -27.329192546583847, \"shock\": 0}, {\"date\": \"2018-08-03T00:00:00\", \"percentchg\": 52.13675213675213, \"shock\": 1}, {\"date\": \"2018-08-06T00:00:00\", \"percentchg\": -30.33707865168539, \"shock\": 0}, {\"date\": \"2018-08-07T00:00:00\", \"percentchg\": 28.2258064516129, \"shock\": 1}, {\"date\": \"2018-08-08T00:00:00\", \"percentchg\": -40.88050314465409, \"shock\": 0}, {\"date\": \"2018-08-09T00:00:00\", \"percentchg\": 62.76595744680851, \"shock\": 1}, {\"date\": \"2018-08-10T00:00:00\", \"percentchg\": 1.9607843137254832, \"shock\": 0}, {\"date\": \"2018-08-13T00:00:00\", \"percentchg\": -26.923076923076927, \"shock\": 0}, {\"date\": \"2018-08-14T00:00:00\", \"percentchg\": -0.8771929824561431, \"shock\": 0}, {\"date\": \"2018-08-16T00:00:00\", \"percentchg\": 15.04424778761062, \"shock\": 1}, {\"date\": \"2018-08-17T00:00:00\", \"percentchg\": -23.076923076923073, \"shock\": 0}, {\"date\": \"2018-08-20T00:00:00\", \"percentchg\": 17.999999999999993, \"shock\": 1}, {\"date\": \"2018-08-21T00:00:00\", \"percentchg\": -24.576271186440678, \"shock\": 0}, {\"date\": \"2018-08-23T00:00:00\", \"percentchg\": 24.7191011235955, \"shock\": 1}, {\"date\": \"2018-08-24T00:00:00\", \"percentchg\": -3.6036036036036, \"shock\": 0}, {\"date\": \"2018-08-27T00:00:00\", \"percentchg\": 0.9345794392523255, \"shock\": 0}, {\"date\": \"2018-08-28T00:00:00\", \"percentchg\": -8.333333333333337, \"shock\": 0}, {\"date\": \"2018-08-29T00:00:00\", \"percentchg\": 15.15151515151516, \"shock\": 1}, {\"date\": \"2018-08-30T00:00:00\", \"percentchg\": -5.263157894736848, \"shock\": 0}, {\"date\": \"2018-08-31T00:00:00\", \"percentchg\": 66.66666666666667, \"shock\": 1}, {\"date\": \"2018-09-03T00:00:00\", \"percentchg\": -31.666666666666664, \"shock\": 0}, {\"date\": \"2018-09-04T00:00:00\", \"percentchg\": 1.6260162601626105, \"shock\": 0}, {\"date\": \"2018-09-05T00:00:00\", \"percentchg\": 18.399999999999995, \"shock\": 1}, {\"date\": \"2018-09-06T00:00:00\", \"percentchg\": -37.16216216216216, \"shock\": 0}, {\"date\": \"2018-09-07T00:00:00\", \"percentchg\": 101.0752688172043, \"shock\": 1}, {\"date\": \"2018-09-10T00:00:00\", \"percentchg\": 9.625668449197855, \"shock\": 0}, {\"date\": \"2018-09-11T00:00:00\", \"percentchg\": -41.951219512195124, \"shock\": 0}, {\"date\": \"2018-09-12T00:00:00\", \"percentchg\": 14.28571428571428, \"shock\": 1}, {\"date\": \"2018-09-14T00:00:00\", \"percentchg\": -10.29411764705882, \"shock\": 0}, {\"date\": \"2018-09-17T00:00:00\", \"percentchg\": -27.86885245901639, \"shock\": 0}, {\"date\": \"2018-09-18T00:00:00\", \"percentchg\": 23.863636363636353, \"shock\": 1}, {\"date\": \"2018-09-19T00:00:00\", \"percentchg\": 19.266055045871553, \"shock\": 1}, {\"date\": \"2018-09-21T00:00:00\", \"percentchg\": 216.15384615384613, \"shock\": 1}, {\"date\": \"2018-09-24T00:00:00\", \"percentchg\": -43.30900243309003, \"shock\": 0}, {\"date\": \"2018-09-25T00:00:00\", \"percentchg\": -12.017167381974247, \"shock\": 0}, {\"date\": \"2018-09-26T00:00:00\", \"percentchg\": 6.341463414634152, \"shock\": 0}, {\"date\": \"2018-09-27T00:00:00\", \"percentchg\": -18.34862385321101, \"shock\": 0}, {\"date\": \"2018-09-28T00:00:00\", \"percentchg\": 28.08988764044944, \"shock\": 1}, {\"date\": \"2018-10-01T00:00:00\", \"percentchg\": -6.578947368421051, \"shock\": 0}, {\"date\": \"2018-10-03T00:00:00\", \"percentchg\": 17.84037558685445, \"shock\": 1}, {\"date\": \"2018-10-04T00:00:00\", \"percentchg\": -15.139442231075694, \"shock\": 0}, {\"date\": \"2018-10-05T00:00:00\", \"percentchg\": 3.7558685446009488, \"shock\": 0}, {\"date\": \"2018-10-08T00:00:00\", \"percentchg\": -7.692307692307687, \"shock\": 0}, {\"date\": \"2018-10-09T00:00:00\", \"percentchg\": 48.529411764705884, \"shock\": 1}, {\"date\": \"2018-10-10T00:00:00\", \"percentchg\": -19.471947194719476, \"shock\": 0}, {\"date\": \"2018-10-11T00:00:00\", \"percentchg\": 25.81967213114753, \"shock\": 1}, {\"date\": \"2018-10-12T00:00:00\", \"percentchg\": 1.9543973941368087, \"shock\": 0}, {\"date\": \"2018-10-15T00:00:00\", \"percentchg\": -66.13418530351439, \"shock\": 0}, {\"date\": \"2018-10-16T00:00:00\", \"percentchg\": 21.698113207547177, \"shock\": 1}, {\"date\": \"2018-10-17T00:00:00\", \"percentchg\": 37.2093023255814, \"shock\": 1}, {\"date\": \"2018-10-19T00:00:00\", \"percentchg\": -9.6045197740113, \"shock\": 0}, {\"date\": \"2018-10-22T00:00:00\", \"percentchg\": 6.875000000000009, \"shock\": 0}, {\"date\": \"2018-10-23T00:00:00\", \"percentchg\": -25.730994152046783, \"shock\": 0}, {\"date\": \"2018-10-24T00:00:00\", \"percentchg\": 48.818897637795274, \"shock\": 1}, {\"date\": \"2018-10-25T00:00:00\", \"percentchg\": -7.936507936507942, \"shock\": 0}, {\"date\": \"2018-10-26T00:00:00\", \"percentchg\": 22.413793103448263, \"shock\": 1}, {\"date\": \"2018-10-29T00:00:00\", \"percentchg\": 31.455399061032875, \"shock\": 1}, {\"date\": \"2018-10-30T00:00:00\", \"percentchg\": -43.57142857142857, \"shock\": 0}, {\"date\": \"2018-10-31T00:00:00\", \"percentchg\": 63.9240506329114, \"shock\": 1}, {\"date\": \"2018-11-01T00:00:00\", \"percentchg\": -13.513513513513509, \"shock\": 0}, {\"date\": \"2018-11-02T00:00:00\", \"percentchg\": 72.76785714285714, \"shock\": 1}, {\"date\": \"2018-11-05T00:00:00\", \"percentchg\": -42.63565891472868, \"shock\": 0}, {\"date\": \"2018-11-06T00:00:00\", \"percentchg\": -27.027027027027028, \"shock\": 0}, {\"date\": \"2018-11-07T00:00:00\", \"percentchg\": -84.5679012345679, \"shock\": 0}, {\"date\": \"2018-11-09T00:00:00\", \"percentchg\": 584.0, \"shock\": 1}, {\"date\": \"2018-11-12T00:00:00\", \"percentchg\": -8.187134502923977, \"shock\": 0}, {\"date\": \"2018-11-13T00:00:00\", \"percentchg\": -23.566878980891715, \"shock\": 0}, {\"date\": \"2018-11-14T00:00:00\", \"percentchg\": 94.16666666666667, \"shock\": 1}, {\"date\": \"2018-11-15T00:00:00\", \"percentchg\": -14.163090128755362, \"shock\": 0}, {\"date\": \"2018-11-16T00:00:00\", \"percentchg\": 5.499999999999994, \"shock\": 0}, {\"date\": \"2018-11-19T00:00:00\", \"percentchg\": -26.066350710900476, \"shock\": 0}, {\"date\": \"2018-11-20T00:00:00\", \"percentchg\": 0.6410256410256387, \"shock\": 0}, {\"date\": \"2018-11-21T00:00:00\", \"percentchg\": -11.46496815286624, \"shock\": 0}, {\"date\": \"2018-11-22T00:00:00\", \"percentchg\": -0.7194244604316502, \"shock\": 0}, {\"date\": \"2018-11-26T00:00:00\", \"percentchg\": 39.13043478260869, \"shock\": 1}, {\"date\": \"2018-11-27T00:00:00\", \"percentchg\": -0.520833333333337, \"shock\": 0}, {\"date\": \"2018-11-28T00:00:00\", \"percentchg\": 43.97905759162304, \"shock\": 1}, {\"date\": \"2018-11-29T00:00:00\", \"percentchg\": 47.272727272727266, \"shock\": 1}, {\"date\": \"2018-11-30T00:00:00\", \"percentchg\": -42.46913580246914, \"shock\": 0}, {\"date\": \"2018-12-03T00:00:00\", \"percentchg\": 29.184549356223165, \"shock\": 1}, {\"date\": \"2018-12-04T00:00:00\", \"percentchg\": -38.538205980066444, \"shock\": 0}, {\"date\": \"2018-12-05T00:00:00\", \"percentchg\": 12.432432432432439, \"shock\": 1}, {\"date\": \"2018-12-06T00:00:00\", \"percentchg\": 8.653846153846146, \"shock\": 0}, {\"date\": \"2018-12-07T00:00:00\", \"percentchg\": -15.92920353982301, \"shock\": 0}, {\"date\": \"2018-12-10T00:00:00\", \"percentchg\": -2.631578947368418, \"shock\": 0}, {\"date\": \"2018-12-11T00:00:00\", \"percentchg\": 20.54054054054053, \"shock\": 1}, {\"date\": \"2018-12-12T00:00:00\", \"percentchg\": -3.139013452914796, \"shock\": 0}, {\"date\": \"2018-12-13T00:00:00\", \"percentchg\": 4.629629629629628, \"shock\": 0}, {\"date\": \"2018-12-14T00:00:00\", \"percentchg\": -15.92920353982301, \"shock\": 0}, {\"date\": \"2018-12-17T00:00:00\", \"percentchg\": 90062.1052631579, \"shock\": 1}, {\"date\": \"2018-12-18T00:00:00\", \"percentchg\": 21.37845284516777, \"shock\": 1}, {\"date\": \"2018-12-19T00:00:00\", \"percentchg\": -99.91968489547013, \"shock\": 0}, {\"date\": \"2018-12-20T00:00:00\", \"percentchg\": 118261.07784431138, \"shock\": 1}, {\"date\": \"2018-12-21T00:00:00\", \"percentchg\": -6.263185320469688, \"shock\": 0}, {\"date\": \"2018-12-24T00:00:00\", \"percentchg\": -28.51367907471274, \"shock\": 0}, {\"date\": \"2018-12-26T00:00:00\", \"percentchg\": -99.87769154108658, \"shock\": 0}, {\"date\": \"2018-12-27T00:00:00\", \"percentchg\": 80481.48148148147, \"shock\": 1}, {\"date\": \"2018-12-28T00:00:00\", \"percentchg\": -20.130685909515712, \"shock\": 0}, {\"date\": \"2018-12-31T00:00:00\", \"percentchg\": -17.08084363580561, \"shock\": 0}, {\"date\": \"2019-01-02T00:00:00\", \"percentchg\": 70.09507946422376, \"shock\": 1}, {\"date\": \"2019-01-03T00:00:00\", \"percentchg\": -99.8816761189767, \"shock\": 0}, {\"date\": \"2019-01-04T00:00:00\", \"percentchg\": 91024.1379310345, \"shock\": 1}, {\"date\": \"2019-01-07T00:00:00\", \"percentchg\": -6.460808799414719, \"shock\": 0}, {\"date\": \"2019-01-08T00:00:00\", \"percentchg\": 9.3505582825395, \"shock\": 0}, {\"date\": \"2019-01-09T00:00:00\", \"percentchg\": -99.87483043531878, \"shock\": 0}, {\"date\": \"2019-01-10T00:00:00\", \"percentchg\": 85276.8472906404, \"shock\": 1}, {\"date\": \"2019-01-11T00:00:00\", \"percentchg\": -99.89556587716008, \"shock\": 0}, {\"date\": \"2019-01-14T00:00:00\", \"percentchg\": 33.149171270718234, \"shock\": 1}, {\"date\": \"2019-01-15T00:00:00\", \"percentchg\": -0.4149377593360981, \"shock\": 0}, {\"date\": \"2019-01-16T00:00:00\", \"percentchg\": -31.666666666666664, \"shock\": 0}, {\"date\": \"2019-01-17T00:00:00\", \"percentchg\": 25.0, \"shock\": 1}, {\"date\": \"2019-01-18T00:00:00\", \"percentchg\": 1.4634146341463428, \"shock\": 0}, {\"date\": \"2019-01-21T00:00:00\", \"percentchg\": -10.096153846153843, \"shock\": 0}, {\"date\": \"2019-01-22T00:00:00\", \"percentchg\": -7.486631016042777, \"shock\": 0}, {\"date\": \"2019-01-23T00:00:00\", \"percentchg\": -17.34104046242775, \"shock\": 0}, {\"date\": \"2019-01-24T00:00:00\", \"percentchg\": 61.53846153846154, \"shock\": 1}, {\"date\": \"2019-01-25T00:00:00\", \"percentchg\": -0.43290043290042934, \"shock\": 0}, {\"date\": \"2019-01-28T00:00:00\", \"percentchg\": -34.78260869565217, \"shock\": 0}, {\"date\": \"2019-01-29T00:00:00\", \"percentchg\": 111035.33333333333, \"shock\": 1}, {\"date\": \"2019-01-30T00:00:00\", \"percentchg\": 13.820387155600077, \"shock\": 1}, {\"date\": \"2019-01-31T00:00:00\", \"percentchg\": -1.9120700741006247, \"shock\": 0}, {\"date\": \"2019-02-01T00:00:00\", \"percentchg\": 70.94415250867748, \"shock\": 1}, {\"date\": \"2019-02-04T00:00:00\", \"percentchg\": -99.95096667934409, \"shock\": 0}, {\"date\": \"2019-02-05T00:00:00\", \"percentchg\": 90315.38461538462, \"shock\": 1}, {\"date\": \"2019-02-06T00:00:00\", \"percentchg\": -1.227950768532693, \"shock\": 0}, {\"date\": \"2019-02-07T00:00:00\", \"percentchg\": -99.8952022739671, \"shock\": 0}, {\"date\": \"2019-02-08T00:00:00\", \"percentchg\": 47.94520547945205, \"shock\": 1}, {\"date\": \"2019-02-11T00:00:00\", \"percentchg\": -11.111111111111116, \"shock\": 0}, {\"date\": \"2019-02-12T00:00:00\", \"percentchg\": -36.458333333333336, \"shock\": 0}, {\"date\": \"2019-02-14T00:00:00\", \"percentchg\": 166.39344262295083, \"shock\": 1}, {\"date\": \"2019-02-15T00:00:00\", \"percentchg\": -29.230769230769226, \"shock\": 0}, {\"date\": \"2019-02-18T00:00:00\", \"percentchg\": -30.869565217391305, \"shock\": 0}, {\"date\": \"2019-02-19T00:00:00\", \"percentchg\": -36.47798742138365, \"shock\": 0}, {\"date\": \"2019-02-20T00:00:00\", \"percentchg\": 23.762376237623762, \"shock\": 1}, {\"date\": \"2019-02-21T00:00:00\", \"percentchg\": -8.799999999999997, \"shock\": 0}, {\"date\": \"2019-02-22T00:00:00\", \"percentchg\": 61.403508771929815, \"shock\": 1}, {\"date\": \"2019-02-25T00:00:00\", \"percentchg\": -35.86956521739131, \"shock\": 0}, {\"date\": \"2019-02-26T00:00:00\", \"percentchg\": 51.69491525423729, \"shock\": 1}, {\"date\": \"2019-02-27T00:00:00\", \"percentchg\": 7.8212290502793325, \"shock\": 0}, {\"date\": \"2019-02-28T00:00:00\", \"percentchg\": -38.3419689119171, \"shock\": 0}, {\"date\": \"2019-03-01T00:00:00\", \"percentchg\": 40.336134453781504, \"shock\": 1}, {\"date\": \"2019-03-05T00:00:00\", \"percentchg\": 26.94610778443114, \"shock\": 1}, {\"date\": \"2019-03-06T00:00:00\", \"percentchg\": -25.0, \"shock\": 0}, {\"date\": \"2019-03-07T00:00:00\", \"percentchg\": 5.660377358490565, \"shock\": 0}, {\"date\": \"2019-03-08T00:00:00\", \"percentchg\": -13.095238095238093, \"shock\": 0}, {\"date\": \"2019-03-11T00:00:00\", \"percentchg\": -1.3698630136986356, \"shock\": 0}, {\"date\": \"2019-03-12T00:00:00\", \"percentchg\": 35.41666666666667, \"shock\": 1}, {\"date\": \"2019-03-13T00:00:00\", \"percentchg\": 7.692307692307687, \"shock\": 0}, {\"date\": \"2019-03-14T00:00:00\", \"percentchg\": -25.71428571428571, \"shock\": 0}, {\"date\": \"2019-03-15T00:00:00\", \"percentchg\": 4.487179487179493, \"shock\": 0}, {\"date\": \"2019-03-18T00:00:00\", \"percentchg\": -2.4539877300613466, \"shock\": 0}, {\"date\": \"2019-03-19T00:00:00\", \"percentchg\": -5.031446540880502, \"shock\": 0}, {\"date\": \"2019-03-20T00:00:00\", \"percentchg\": 3.31125827814569, \"shock\": 0}, {\"date\": \"2019-03-22T00:00:00\", \"percentchg\": 16.666666666666675, \"shock\": 1}, {\"date\": \"2019-03-25T00:00:00\", \"percentchg\": -6.593406593406592, \"shock\": 0}, {\"date\": \"2019-03-26T00:00:00\", \"percentchg\": -14.117647058823534, \"shock\": 0}, {\"date\": \"2019-03-27T00:00:00\", \"percentchg\": 28.767123287671236, \"shock\": 1}, {\"date\": \"2019-03-28T00:00:00\", \"percentchg\": -14.893617021276595, \"shock\": 0}, {\"date\": \"2019-04-01T00:00:00\", \"percentchg\": 23.750000000000004, \"shock\": 1}, {\"date\": \"2019-04-02T00:00:00\", \"percentchg\": -0.5050505050505083, \"shock\": 0}, {\"date\": \"2019-04-03T00:00:00\", \"percentchg\": -13.705583756345174, \"shock\": 0}, {\"date\": \"2019-04-04T00:00:00\", \"percentchg\": -23.529411764705888, \"shock\": 0}, {\"date\": \"2019-04-05T00:00:00\", \"percentchg\": 22.307692307692317, \"shock\": 1}, {\"date\": \"2019-04-08T00:00:00\", \"percentchg\": -33.9622641509434, \"shock\": 0}, {\"date\": \"2019-04-09T00:00:00\", \"percentchg\": 43.80952380952381, \"shock\": 1}, {\"date\": \"2019-04-10T00:00:00\", \"percentchg\": 7.284768211920523, \"shock\": 0}, {\"date\": \"2019-04-11T00:00:00\", \"percentchg\": -10.49382716049383, \"shock\": 0}, {\"date\": \"2019-04-12T00:00:00\", \"percentchg\": 17.24137931034482, \"shock\": 1}, {\"date\": \"2019-04-15T00:00:00\", \"percentchg\": 22.941176470588243, \"shock\": 1}, {\"date\": \"2019-04-16T00:00:00\", \"percentchg\": -31.100478468899517, \"shock\": 0}, {\"date\": \"2019-04-18T00:00:00\", \"percentchg\": 1.388888888888884, \"shock\": 0}, {\"date\": \"2019-04-22T00:00:00\", \"percentchg\": 2.0547945205479534, \"shock\": 0}, {\"date\": \"2019-04-23T00:00:00\", \"percentchg\": -22.14765100671141, \"shock\": 0}, {\"date\": \"2019-04-24T00:00:00\", \"percentchg\": 31.034482758620683, \"shock\": 1}, {\"date\": \"2019-04-25T00:00:00\", \"percentchg\": -5.263157894736848, \"shock\": 0}, {\"date\": \"2019-04-26T00:00:00\", \"percentchg\": 20.138888888888886, \"shock\": 1}, {\"date\": \"2019-04-30T00:00:00\", \"percentchg\": 78.61271676300578, \"shock\": 1}, {\"date\": \"2019-05-02T00:00:00\", \"percentchg\": -15.210355987055014, \"shock\": 0}, {\"date\": \"2019-05-03T00:00:00\", \"percentchg\": -43.51145038167938, \"shock\": 0}, {\"date\": \"2019-05-06T00:00:00\", \"percentchg\": -9.459459459459463, \"shock\": 0}, {\"date\": \"2019-05-07T00:00:00\", \"percentchg\": 16.417910447761198, \"shock\": 1}, {\"date\": \"2019-05-08T00:00:00\", \"percentchg\": -16.025641025641026, \"shock\": 0}, {\"date\": \"2019-05-09T00:00:00\", \"percentchg\": 16.793893129771, \"shock\": 1}, {\"date\": \"2019-05-10T00:00:00\", \"percentchg\": 28.75816993464053, \"shock\": 1}, {\"date\": \"2019-05-13T00:00:00\", \"percentchg\": -9.644670050761416, \"shock\": 0}, {\"date\": \"2019-05-14T00:00:00\", \"percentchg\": -0.5617977528089901, \"shock\": 0}, {\"date\": \"2019-05-15T00:00:00\", \"percentchg\": 9.604519774011289, \"shock\": 0}, {\"date\": \"2019-05-16T00:00:00\", \"percentchg\": -19.072164948453608, \"shock\": 0}, {\"date\": \"2019-05-17T00:00:00\", \"percentchg\": 19.7452229299363, \"shock\": 1}, {\"date\": \"2019-05-20T00:00:00\", \"percentchg\": 40.42553191489362, \"shock\": 1}, {\"date\": \"2019-05-21T00:00:00\", \"percentchg\": -14.015151515151514, \"shock\": 0}, {\"date\": \"2019-05-22T00:00:00\", \"percentchg\": -31.277533039647576, \"shock\": 0}, {\"date\": \"2019-05-23T00:00:00\", \"percentchg\": 80.12820512820514, \"shock\": 1}, {\"date\": \"2019-05-24T00:00:00\", \"percentchg\": -39.145907473309606, \"shock\": 0}, {\"date\": \"2019-05-27T00:00:00\", \"percentchg\": -6.432748538011701, \"shock\": 0}, {\"date\": \"2019-05-28T00:00:00\", \"percentchg\": -4.374999999999996, \"shock\": 0}, {\"date\": \"2019-05-29T00:00:00\", \"percentchg\": -16.33986928104575, \"shock\": 0}, {\"date\": \"2019-05-30T00:00:00\", \"percentchg\": 36.71875, \"shock\": 1}, {\"date\": \"2019-05-31T00:00:00\", \"percentchg\": -2.285714285714291, \"shock\": 0}, {\"date\": \"2019-06-03T00:00:00\", \"percentchg\": 102.33918128654973, \"shock\": 1}, {\"date\": \"2019-06-04T00:00:00\", \"percentchg\": -65.60693641618496, \"shock\": 0}, {\"date\": \"2019-06-06T00:00:00\", \"percentchg\": 57.14285714285714, \"shock\": 1}, {\"date\": \"2019-06-07T00:00:00\", \"percentchg\": -20.85561497326203, \"shock\": 0}, {\"date\": \"2019-06-10T00:00:00\", \"percentchg\": 9.459459459459453, \"shock\": 0}, {\"date\": \"2019-06-11T00:00:00\", \"percentchg\": -12.345679012345679, \"shock\": 0}, {\"date\": \"2019-06-12T00:00:00\", \"percentchg\": -17.6056338028169, \"shock\": 0}, {\"date\": \"2019-06-13T00:00:00\", \"percentchg\": 86.32478632478633, \"shock\": 1}, {\"date\": \"2019-06-14T00:00:00\", \"percentchg\": -5.5045871559633035, \"shock\": 0}, {\"date\": \"2019-06-17T00:00:00\", \"percentchg\": -38.3495145631068, \"shock\": 0}, {\"date\": \"2019-06-18T00:00:00\", \"percentchg\": 40.15748031496062, \"shock\": 1}, {\"date\": \"2019-06-19T00:00:00\", \"percentchg\": 3.93258426966292, \"shock\": 0}, {\"date\": \"2019-06-20T00:00:00\", \"percentchg\": 8.64864864864865, \"shock\": 0}, {\"date\": \"2019-06-21T00:00:00\", \"percentchg\": -22.388059701492537, \"shock\": 0}, {\"date\": \"2019-06-24T00:00:00\", \"percentchg\": -25.64102564102564, \"shock\": 0}, {\"date\": \"2019-06-25T00:00:00\", \"percentchg\": -2.5862068965517238, \"shock\": 0}, {\"date\": \"2019-06-26T00:00:00\", \"percentchg\": 32.74336283185841, \"shock\": 1}, {\"date\": \"2019-06-27T00:00:00\", \"percentchg\": -12.0, \"shock\": 0}, {\"date\": \"2019-06-28T00:00:00\", \"percentchg\": -15.151515151515149, \"shock\": 0}, {\"date\": \"2019-07-01T00:00:00\", \"percentchg\": -3.57142857142857, \"shock\": 0}, {\"date\": \"2019-07-02T00:00:00\", \"percentchg\": 37.037037037037045, \"shock\": 1}, {\"date\": \"2019-07-03T00:00:00\", \"percentchg\": -6.756756756756754, \"shock\": 0}, {\"date\": \"2019-07-04T00:00:00\", \"percentchg\": 5.072463768115942, \"shock\": 0}, {\"date\": \"2019-07-05T00:00:00\", \"percentchg\": 79.3103448275862, \"shock\": 1}, {\"date\": \"2019-07-08T00:00:00\", \"percentchg\": -15.384615384615385, \"shock\": 0}, {\"date\": \"2019-07-09T00:00:00\", \"percentchg\": -14.54545454545455, \"shock\": 0}, {\"date\": \"2019-07-10T00:00:00\", \"percentchg\": -20.744680851063833, \"shock\": 0}, {\"date\": \"2019-07-11T00:00:00\", \"percentchg\": -2.0134228187919434, \"shock\": 0}, {\"date\": \"2019-07-12T00:00:00\", \"percentchg\": -11.64383561643836, \"shock\": 0}, {\"date\": \"2019-07-15T00:00:00\", \"percentchg\": 39.53488372093024, \"shock\": 1}, {\"date\": \"2019-07-16T00:00:00\", \"percentchg\": 39.444444444444436, \"shock\": 1}, {\"date\": \"2019-07-17T00:00:00\", \"percentchg\": -6.772908366533869, \"shock\": 0}, {\"date\": \"2019-07-18T00:00:00\", \"percentchg\": 2.991452991452981, \"shock\": 0}, {\"date\": \"2019-07-19T00:00:00\", \"percentchg\": -20.331950207468886, \"shock\": 0}, {\"date\": \"2019-07-22T00:00:00\", \"percentchg\": 19.791666666666675, \"shock\": 1}, {\"date\": \"2019-07-23T00:00:00\", \"percentchg\": -16.086956521739125, \"shock\": 0}, {\"date\": \"2019-07-24T00:00:00\", \"percentchg\": -13.989637305699487, \"shock\": 0}, {\"date\": \"2019-07-25T00:00:00\", \"percentchg\": 8.43373493975903, \"shock\": 0}, {\"date\": \"2019-07-26T00:00:00\", \"percentchg\": 33.88888888888888, \"shock\": 1}, {\"date\": \"2019-07-29T00:00:00\", \"percentchg\": -12.448132780082988, \"shock\": 0}, {\"date\": \"2019-07-30T00:00:00\", \"percentchg\": 8.056872037914697, \"shock\": 0}, {\"date\": \"2019-07-31T00:00:00\", \"percentchg\": 19.298245614035082, \"shock\": 1}, {\"date\": \"2019-08-01T00:00:00\", \"percentchg\": -22.79411764705882, \"shock\": 0}, {\"date\": \"2019-08-02T00:00:00\", \"percentchg\": 33.8095238095238, \"shock\": 1}, {\"date\": \"2019-08-05T00:00:00\", \"percentchg\": -7.829181494661919, \"shock\": 0}, {\"date\": \"2019-08-06T00:00:00\", \"percentchg\": -1.9305019305019266, \"shock\": 0}, {\"date\": \"2019-08-07T00:00:00\", \"percentchg\": -0.3937007874015741, \"shock\": 0}, {\"date\": \"2019-08-08T00:00:00\", \"percentchg\": -4.743083003952564, \"shock\": 0}, {\"date\": \"2019-08-09T00:00:00\", \"percentchg\": 13.692946058091282, \"shock\": 1}, {\"date\": \"2019-08-13T00:00:00\", \"percentchg\": 4.379562043795615, \"shock\": 0}, {\"date\": \"2019-08-14T00:00:00\", \"percentchg\": -21.328671328671334, \"shock\": 0}, {\"date\": \"2019-08-16T00:00:00\", \"percentchg\": 15.999999999999993, \"shock\": 1}, {\"date\": \"2019-08-19T00:00:00\", \"percentchg\": -32.18390804597702, \"shock\": 0}, {\"date\": \"2019-08-20T00:00:00\", \"percentchg\": 18.07909604519775, \"shock\": 1}, {\"date\": \"2019-08-21T00:00:00\", \"percentchg\": 36.36363636363635, \"shock\": 1}, {\"date\": \"2019-08-22T00:00:00\", \"percentchg\": 16.140350877192986, \"shock\": 1}, {\"date\": \"2019-08-23T00:00:00\", \"percentchg\": 16.012084592145026, \"shock\": 1}, {\"date\": \"2019-08-26T00:00:00\", \"percentchg\": -7.2916666666666625, \"shock\": 0}, {\"date\": \"2019-08-27T00:00:00\", \"percentchg\": 2.528089887640439, \"shock\": 0}, {\"date\": \"2019-08-28T00:00:00\", \"percentchg\": -21.643835616438356, \"shock\": 0}, {\"date\": \"2019-08-29T00:00:00\", \"percentchg\": 10.839160839160833, \"shock\": 1}, {\"date\": \"2019-08-30T00:00:00\", \"percentchg\": 5.362776025236604, \"shock\": 0}, {\"date\": \"2019-09-03T00:00:00\", \"percentchg\": -29.34131736526946, \"shock\": 0}, {\"date\": \"2019-09-04T00:00:00\", \"percentchg\": 8.47457627118644, \"shock\": 0}, {\"date\": \"2019-09-05T00:00:00\", \"percentchg\": 7.03125, \"shock\": 0}, {\"date\": \"2019-09-06T00:00:00\", \"percentchg\": -16.058394160583944, \"shock\": 0}, {\"date\": \"2019-09-09T00:00:00\", \"percentchg\": 10.000000000000009, \"shock\": 1}, {\"date\": \"2019-09-11T00:00:00\", \"percentchg\": 45.05928853754941, \"shock\": 1}, {\"date\": \"2019-09-12T00:00:00\", \"percentchg\": -25.068119891008177, \"shock\": 0}, {\"date\": \"2019-09-13T00:00:00\", \"percentchg\": 24.72727272727273, \"shock\": 1}, {\"date\": \"2019-09-16T00:00:00\", \"percentchg\": -41.98250728862973, \"shock\": 0}, {\"date\": \"2019-09-17T00:00:00\", \"percentchg\": 3.015075376884413, \"shock\": 0}, {\"date\": \"2019-09-18T00:00:00\", \"percentchg\": 23.902439024390244, \"shock\": 1}, {\"date\": \"2019-09-19T00:00:00\", \"percentchg\": 24.803149606299215, \"shock\": 1}, {\"date\": \"2019-09-20T00:00:00\", \"percentchg\": 92.42902208201893, \"shock\": 1}, {\"date\": \"2019-09-23T00:00:00\", \"percentchg\": -95.40983606557377, \"shock\": 0}, {\"date\": \"2019-09-24T00:00:00\", \"percentchg\": 992.8571428571429, \"shock\": 1}, {\"date\": \"2019-09-25T00:00:00\", \"percentchg\": -5.882352941176472, \"shock\": 0}, {\"date\": \"2019-09-26T00:00:00\", \"percentchg\": 15.277777777777768, \"shock\": 1}, {\"date\": \"2019-09-27T00:00:00\", \"percentchg\": 18.07228915662651, \"shock\": 1}, {\"date\": \"2019-09-30T00:00:00\", \"percentchg\": 25.0, \"shock\": 1}, {\"date\": \"2019-10-01T00:00:00\", \"percentchg\": 53.87755102040816, \"shock\": 1}, {\"date\": \"2019-10-03T00:00:00\", \"percentchg\": -21.485411140583555, \"shock\": 0}, {\"date\": \"2019-10-04T00:00:00\", \"percentchg\": -10.641891891891897, \"shock\": 0}, {\"date\": \"2019-10-07T00:00:00\", \"percentchg\": -23.629489603024577, \"shock\": 0}, {\"date\": \"2019-10-09T00:00:00\", \"percentchg\": -9.9009900990099, \"shock\": 0}, {\"date\": \"2019-10-10T00:00:00\", \"percentchg\": -25.0, \"shock\": 0}, {\"date\": \"2019-10-11T00:00:00\", \"percentchg\": 44.32234432234432, \"shock\": 1}, {\"date\": \"2019-10-14T00:00:00\", \"percentchg\": -27.66497461928934, \"shock\": 0}, {\"date\": \"2019-10-15T00:00:00\", \"percentchg\": -8.070175438596493, \"shock\": 0}, {\"date\": \"2019-10-16T00:00:00\", \"percentchg\": 4.961832061068705, \"shock\": 0}, {\"date\": \"2019-10-17T00:00:00\", \"percentchg\": 71.27272727272727, \"shock\": 1}, {\"date\": \"2019-10-18T00:00:00\", \"percentchg\": -9.97876857749469, \"shock\": 0}, {\"date\": \"2019-10-22T00:00:00\", \"percentchg\": 28.53773584905661, \"shock\": 1}, {\"date\": \"2019-10-23T00:00:00\", \"percentchg\": -24.770642201834857, \"shock\": 0}, {\"date\": \"2019-10-24T00:00:00\", \"percentchg\": -10.73170731707317, \"shock\": 0}, {\"date\": \"2019-10-25T00:00:00\", \"percentchg\": 32.78688524590163, \"shock\": 1}, {\"date\": \"2019-10-29T00:00:00\", \"percentchg\": 3.9094650205761416, \"shock\": 0}, {\"date\": \"2019-10-30T00:00:00\", \"percentchg\": -26.33663366336634, \"shock\": 0}, {\"date\": \"2019-10-31T00:00:00\", \"percentchg\": 136.29032258064515, \"shock\": 1}, {\"date\": \"2019-11-01T00:00:00\", \"percentchg\": -35.153583617747444, \"shock\": 0}, {\"date\": \"2019-11-04T00:00:00\", \"percentchg\": 9.824561403508781, \"shock\": 0}, {\"date\": \"2019-11-05T00:00:00\", \"percentchg\": -27.47603833865815, \"shock\": 0}, {\"date\": \"2019-11-06T00:00:00\", \"percentchg\": -16.960352422907487, \"shock\": 0}, {\"date\": \"2019-11-07T00:00:00\", \"percentchg\": -19.893899204244036, \"shock\": 0}, {\"date\": \"2019-11-08T00:00:00\", \"percentchg\": 41.059602649006635, \"shock\": 1}, {\"date\": \"2019-11-11T00:00:00\", \"percentchg\": -30.751173708920188, \"shock\": 0}, {\"date\": \"2019-11-13T00:00:00\", \"percentchg\": 27.79661016949153, \"shock\": 1}, {\"date\": \"2019-11-14T00:00:00\", \"percentchg\": -26.25994694960212, \"shock\": 0}, {\"date\": \"2019-11-15T00:00:00\", \"percentchg\": -7.194244604316546, \"shock\": 0}, {\"date\": \"2019-11-18T00:00:00\", \"percentchg\": 11.240310077519378, \"shock\": 1}, {\"date\": \"2019-11-19T00:00:00\", \"percentchg\": 36.2369337979094, \"shock\": 1}, {\"date\": \"2019-11-20T00:00:00\", \"percentchg\": -17.391304347826086, \"shock\": 0}, {\"date\": \"2019-11-21T00:00:00\", \"percentchg\": -32.50773993808049, \"shock\": 0}, {\"date\": \"2019-11-22T00:00:00\", \"percentchg\": -0.4587155963302725, \"shock\": 0}, {\"date\": \"2019-11-25T00:00:00\", \"percentchg\": 31.79723502304148, \"shock\": 1}, {\"date\": \"2019-11-26T00:00:00\", \"percentchg\": 14.685314685314687, \"shock\": 1}, {\"date\": \"2019-11-27T00:00:00\", \"percentchg\": -1.2195121951219523, \"shock\": 0}, {\"date\": \"2019-11-28T00:00:00\", \"percentchg\": -4.629629629629628, \"shock\": 0}, {\"date\": \"2019-11-29T00:00:00\", \"percentchg\": 51.132686084142385, \"shock\": 1}, {\"date\": \"2019-12-02T00:00:00\", \"percentchg\": -14.775160599571734, \"shock\": 0}, {\"date\": \"2019-12-03T00:00:00\", \"percentchg\": -15.32663316582915, \"shock\": 0}, {\"date\": \"2019-12-04T00:00:00\", \"percentchg\": 32.04747774480712, \"shock\": 1}, {\"date\": \"2019-12-05T00:00:00\", \"percentchg\": -25.842696629213478, \"shock\": 0}, {\"date\": \"2019-12-06T00:00:00\", \"percentchg\": 0.3030303030302939, \"shock\": 0}, {\"date\": \"2019-12-09T00:00:00\", \"percentchg\": -1.5105740181268867, \"shock\": 0}, {\"date\": \"2019-12-10T00:00:00\", \"percentchg\": -3.6809815950920255, \"shock\": 0}, {\"date\": \"2019-12-11T00:00:00\", \"percentchg\": 76.7515923566879, \"shock\": 1}, {\"date\": \"2019-12-12T00:00:00\", \"percentchg\": -25.58558558558559, \"shock\": 0}, {\"date\": \"2019-12-13T00:00:00\", \"percentchg\": -32.445520581113804, \"shock\": 0}, {\"date\": \"2019-12-16T00:00:00\", \"percentchg\": -22.580645161290324, \"shock\": 0}, {\"date\": \"2019-12-17T00:00:00\", \"percentchg\": -12.037037037037035, \"shock\": 0}, {\"date\": \"2019-12-18T00:00:00\", \"percentchg\": 27.89473684210526, \"shock\": 1}, {\"date\": \"2019-12-19T00:00:00\", \"percentchg\": 37.037037037037045, \"shock\": 1}, {\"date\": \"2019-12-20T00:00:00\", \"percentchg\": 0.9009009009008917, \"shock\": 0}, {\"date\": \"2019-12-23T00:00:00\", \"percentchg\": -81.54761904761905, \"shock\": 0}, {\"date\": \"2019-12-24T00:00:00\", \"percentchg\": -29.032258064516125, \"shock\": 0}, {\"date\": \"2019-12-26T00:00:00\", \"percentchg\": 27.27272727272727, \"shock\": 1}, {\"date\": \"2019-12-27T00:00:00\", \"percentchg\": 8.92857142857142, \"shock\": 0}, {\"date\": \"2019-12-30T00:00:00\", \"percentchg\": -6.5573770491803245, \"shock\": 0}, {\"date\": \"2019-12-31T00:00:00\", \"percentchg\": -1.7543859649122862, \"shock\": 0}, {\"date\": \"2020-01-02T00:00:00\", \"percentchg\": -5.35714285714286, \"shock\": 0}, {\"date\": \"2020-01-03T00:00:00\", \"percentchg\": 67.9245283018868, \"shock\": 1}, {\"date\": \"2020-01-06T00:00:00\", \"percentchg\": -2.2471910112359605, \"shock\": 0}, {\"date\": \"2020-01-07T00:00:00\", \"percentchg\": 36.7816091954023, \"shock\": 1}, {\"date\": \"2020-01-08T00:00:00\", \"percentchg\": 52.941176470588225, \"shock\": 1}, {\"date\": \"2020-01-09T00:00:00\", \"percentchg\": -57.14285714285714, \"shock\": 0}, {\"date\": \"2020-01-10T00:00:00\", \"percentchg\": 69.23076923076923, \"shock\": 1}, {\"date\": \"2020-01-13T00:00:00\", \"percentchg\": -19.696969696969703, \"shock\": 0}, {\"date\": \"2020-01-14T00:00:00\", \"percentchg\": 33.01886792452831, \"shock\": 1}, {\"date\": \"2020-01-15T00:00:00\", \"percentchg\": -56.73758865248226, \"shock\": 0}, {\"date\": \"2020-01-16T00:00:00\", \"percentchg\": 8.196721311475418, \"shock\": 0}, {\"date\": \"2020-01-17T00:00:00\", \"percentchg\": 43.939393939393945, \"shock\": 1}, {\"date\": \"2020-01-20T00:00:00\", \"percentchg\": -21.052631578947366, \"shock\": 0}, {\"date\": \"2020-01-21T00:00:00\", \"percentchg\": 18.666666666666675, \"shock\": 1}, {\"date\": \"2020-01-22T00:00:00\", \"percentchg\": -13.48314606741573, \"shock\": 0}, {\"date\": \"2020-01-23T00:00:00\", \"percentchg\": 28.57142857142858, \"shock\": 1}, {\"date\": \"2020-01-24T00:00:00\", \"percentchg\": -33.333333333333336, \"shock\": 0}, {\"date\": \"2020-01-27T00:00:00\", \"percentchg\": 6.060606060606055, \"shock\": 0}, {\"date\": \"2020-01-28T00:00:00\", \"percentchg\": 39.99999999999999, \"shock\": 1}, {\"date\": \"2020-01-29T00:00:00\", \"percentchg\": -20.408163265306122, \"shock\": 0}, {\"date\": \"2020-01-30T00:00:00\", \"percentchg\": -14.102564102564108, \"shock\": 0}, {\"date\": \"2020-01-31T00:00:00\", \"percentchg\": 71.64179104477613, \"shock\": 1}, {\"date\": \"2020-02-03T00:00:00\", \"percentchg\": -7.826086956521738, \"shock\": 0}, {\"date\": \"2020-02-04T00:00:00\", \"percentchg\": 44.339622641509436, \"shock\": 1}, {\"date\": \"2020-02-05T00:00:00\", \"percentchg\": -9.150326797385622, \"shock\": 0}, {\"date\": \"2020-02-06T00:00:00\", \"percentchg\": 7.913669064748197, \"shock\": 0}, {\"date\": \"2020-02-07T00:00:00\", \"percentchg\": 2.0000000000000018, \"shock\": 0}, {\"date\": \"2020-02-10T00:00:00\", \"percentchg\": -0.6535947712418277, \"shock\": 0}, {\"date\": \"2020-02-11T00:00:00\", \"percentchg\": -49.3421052631579, \"shock\": 0}, {\"date\": \"2020-02-12T00:00:00\", \"percentchg\": 24.675324675324674, \"shock\": 1}, {\"date\": \"2020-02-13T00:00:00\", \"percentchg\": -5.2083333333333375, \"shock\": 0}, {\"date\": \"2020-02-14T00:00:00\", \"percentchg\": 7.692307692307687, \"shock\": 0}, {\"date\": \"2020-02-17T00:00:00\", \"percentchg\": -29.591836734693878, \"shock\": 0}, {\"date\": \"2020-02-18T00:00:00\", \"percentchg\": 78.26086956521738, \"shock\": 1}, {\"date\": \"2020-02-19T00:00:00\", \"percentchg\": -54.47154471544715, \"shock\": 0}, {\"date\": \"2020-02-20T00:00:00\", \"percentchg\": 50.0, \"shock\": 1}, {\"date\": \"2020-02-24T00:00:00\", \"percentchg\": -3.57142857142857, \"shock\": 0}, {\"date\": \"2020-02-25T00:00:00\", \"percentchg\": -9.876543209876543, \"shock\": 0}, {\"date\": \"2020-02-26T00:00:00\", \"percentchg\": 23.28767123287672, \"shock\": 1}, {\"date\": \"2020-02-27T00:00:00\", \"percentchg\": 6.666666666666665, \"shock\": 0}, {\"date\": \"2020-02-28T00:00:00\", \"percentchg\": 32.29166666666667, \"shock\": 1}, {\"date\": \"2020-03-02T00:00:00\", \"percentchg\": 5.5118110236220375, \"shock\": 0}, {\"date\": \"2020-03-03T00:00:00\", \"percentchg\": -20.895522388059707, \"shock\": 0}, {\"date\": \"2020-03-04T00:00:00\", \"percentchg\": 44.339622641509436, \"shock\": 1}, {\"date\": \"2020-03-05T00:00:00\", \"percentchg\": -11.764705882352944, \"shock\": 0}, {\"date\": \"2020-03-06T00:00:00\", \"percentchg\": 40.74074074074075, \"shock\": 1}, {\"date\": \"2020-03-09T00:00:00\", \"percentchg\": -1.0526315789473717, \"shock\": 0}, {\"date\": \"2020-03-11T00:00:00\", \"percentchg\": 48.40425531914894, \"shock\": 1}, {\"date\": \"2020-03-12T00:00:00\", \"percentchg\": -9.677419354838712, \"shock\": 0}, {\"date\": \"2020-03-13T00:00:00\", \"percentchg\": 29.36507936507937, \"shock\": 1}, {\"date\": \"2020-03-16T00:00:00\", \"percentchg\": -44.47852760736196, \"shock\": 0}, {\"date\": \"2020-03-17T00:00:00\", \"percentchg\": 18.78453038674033, \"shock\": 1}, {\"date\": \"2020-03-18T00:00:00\", \"percentchg\": 45.581395348837205, \"shock\": 1}, {\"date\": \"2020-03-19T00:00:00\", \"percentchg\": 6.070287539936103, \"shock\": 0}, {\"date\": \"2020-03-20T00:00:00\", \"percentchg\": -3.3132530120481896, \"shock\": 0}, {\"date\": \"2020-03-23T00:00:00\", \"percentchg\": -32.08722741433022, \"shock\": 0}, {\"date\": \"2020-03-24T00:00:00\", \"percentchg\": 13.30275229357798, \"shock\": 1}, {\"date\": \"2020-03-25T00:00:00\", \"percentchg\": 472.8744939271255, \"shock\": 1}, {\"date\": \"2020-03-26T00:00:00\", \"percentchg\": -75.26501766784452, \"shock\": 0}, {\"date\": \"2020-03-27T00:00:00\", \"percentchg\": 234.0, \"shock\": 1}, {\"date\": \"2020-03-30T00:00:00\", \"percentchg\": -80.15397775876818, \"shock\": 0}, {\"date\": \"2020-03-31T00:00:00\", \"percentchg\": 13.793103448275868, \"shock\": 1}, {\"date\": \"2020-04-01T00:00:00\", \"percentchg\": -31.818181818181824, \"shock\": 0}, {\"date\": \"2020-04-03T00:00:00\", \"percentchg\": 5.000000000000004, \"shock\": 0}, {\"date\": \"2020-04-07T00:00:00\", \"percentchg\": 15.873015873015884, \"shock\": 1}, {\"date\": \"2020-04-08T00:00:00\", \"percentchg\": 12.785388127853881, \"shock\": 1}, {\"date\": \"2020-04-09T00:00:00\", \"percentchg\": -23.886639676113365, \"shock\": 0}, {\"date\": \"2020-04-13T00:00:00\", \"percentchg\": -14.36170212765957, \"shock\": 0}, {\"date\": \"2020-04-15T00:00:00\", \"percentchg\": 46.58385093167703, \"shock\": 1}, {\"date\": \"2020-04-16T00:00:00\", \"percentchg\": -28.389830508474578, \"shock\": 0}, {\"date\": \"2020-04-17T00:00:00\", \"percentchg\": 31.360946745562135, \"shock\": 1}, {\"date\": \"2020-04-20T00:00:00\", \"percentchg\": -22.522522522522525, \"shock\": 0}, {\"date\": \"2020-04-21T00:00:00\", \"percentchg\": 14.534883720930235, \"shock\": 1}, {\"date\": \"2020-04-22T00:00:00\", \"percentchg\": 6.598984771573613, \"shock\": 0}, {\"date\": \"2020-04-23T00:00:00\", \"percentchg\": 16.1904761904762, \"shock\": 1}, {\"date\": \"2020-04-24T00:00:00\", \"percentchg\": -27.86885245901639, \"shock\": 0}, {\"date\": \"2020-04-27T00:00:00\", \"percentchg\": -26.70454545454546, \"shock\": 0}, {\"date\": \"2020-04-28T00:00:00\", \"percentchg\": 20.93023255813953, \"shock\": 1}, {\"date\": \"2020-04-29T00:00:00\", \"percentchg\": 2.564102564102555, \"shock\": 0}, {\"date\": \"2020-04-30T00:00:00\", \"percentchg\": 31.875000000000007, \"shock\": 1}, {\"date\": \"2020-05-04T00:00:00\", \"percentchg\": -13.27014218009479, \"shock\": 0}, {\"date\": \"2020-05-05T00:00:00\", \"percentchg\": 4.918032786885251, \"shock\": 0}, {\"date\": \"2020-05-06T00:00:00\", \"percentchg\": 0.0, \"shock\": 0}, {\"date\": \"2020-05-07T00:00:00\", \"percentchg\": 3.645833333333326, \"shock\": 0}, {\"date\": \"2020-05-08T00:00:00\", \"percentchg\": -20.100502512562812, \"shock\": 0}, {\"date\": \"2020-05-11T00:00:00\", \"percentchg\": 13.83647798742138, \"shock\": 1}, {\"date\": \"2020-05-12T00:00:00\", \"percentchg\": 27.62430939226519, \"shock\": 1}, {\"date\": \"2020-05-13T00:00:00\", \"percentchg\": -20.346320346320347, \"shock\": 0}, {\"date\": \"2020-05-14T00:00:00\", \"percentchg\": -17.391304347826086, \"shock\": 0}, {\"date\": \"2020-05-15T00:00:00\", \"percentchg\": -14.473684210526317, \"shock\": 0}, {\"date\": \"2020-05-18T00:00:00\", \"percentchg\": 50.0, \"shock\": 1}, {\"date\": \"2020-05-19T00:00:00\", \"percentchg\": -4.102564102564099, \"shock\": 0}, {\"date\": \"2020-05-20T00:00:00\", \"percentchg\": -13.903743315508022, \"shock\": 0}, {\"date\": \"2020-05-21T00:00:00\", \"percentchg\": -3.7267080745341574, \"shock\": 0}, {\"date\": \"2020-05-22T00:00:00\", \"percentchg\": 32.903225806451616, \"shock\": 1}, {\"date\": \"2020-05-26T00:00:00\", \"percentchg\": 814.0776699029127, \"shock\": 1}, {\"date\": \"2020-05-27T00:00:00\", \"percentchg\": -89.11311736590547, \"shock\": 0}, {\"date\": \"2020-05-28T00:00:00\", \"percentchg\": 34.14634146341464, \"shock\": 1}, {\"date\": \"2020-05-29T00:00:00\", \"percentchg\": 34.909090909090914, \"shock\": 1}, {\"date\": \"2020-06-01T00:00:00\", \"percentchg\": -38.274932614555254, \"shock\": 0}, {\"date\": \"2020-06-02T00:00:00\", \"percentchg\": 230.13100436681225, \"shock\": 1}, {\"date\": \"2020-06-03T00:00:00\", \"percentchg\": -75.66137566137566, \"shock\": 0}, {\"date\": \"2020-06-04T00:00:00\", \"percentchg\": -2.717391304347827, \"shock\": 0}, {\"date\": \"2020-06-05T00:00:00\", \"percentchg\": 37.43016759776536, \"shock\": 1}, {\"date\": \"2020-06-08T00:00:00\", \"percentchg\": 4.471544715447151, \"shock\": 0}, {\"date\": \"2020-06-09T00:00:00\", \"percentchg\": -25.291828793774318, \"shock\": 0}, {\"date\": \"2020-06-10T00:00:00\", \"percentchg\": -19.270833333333336, \"shock\": 0}, {\"date\": \"2020-06-11T00:00:00\", \"percentchg\": 34.83870967741935, \"shock\": 1}, {\"date\": \"2020-06-12T00:00:00\", \"percentchg\": 10.047846889952151, \"shock\": 1}, {\"date\": \"2020-06-15T00:00:00\", \"percentchg\": -19.999999999999996, \"shock\": 0}, {\"date\": \"2020-06-16T00:00:00\", \"percentchg\": 48.91304347826087, \"shock\": 1}, {\"date\": \"2020-06-17T00:00:00\", \"percentchg\": -26.277372262773724, \"shock\": 0}, {\"date\": \"2020-06-18T00:00:00\", \"percentchg\": 4.950495049504955, \"shock\": 0}, {\"date\": \"2020-06-19T00:00:00\", \"percentchg\": 31.60377358490567, \"shock\": 1}, {\"date\": \"2020-06-22T00:00:00\", \"percentchg\": -10.035842293906805, \"shock\": 0}, {\"date\": \"2020-06-23T00:00:00\", \"percentchg\": 0.3984063745019917, \"shock\": 0}, {\"date\": \"2020-06-24T00:00:00\", \"percentchg\": 5.555555555555558, \"shock\": 0}, {\"date\": \"2020-06-25T00:00:00\", \"percentchg\": -7.518796992481203, \"shock\": 0}, {\"date\": \"2020-06-26T00:00:00\", \"percentchg\": 0.8130081300812941, \"shock\": 0}, {\"date\": \"2020-06-29T00:00:00\", \"percentchg\": -26.209677419354836, \"shock\": 0}]}}, {\"mode\": \"vega-lite\"});\n",
              "</script>"
            ]
          },
          "metadata": {
            "tags": []
          },
          "execution_count": 20
        }
      ]
    },
    {
      "cell_type": "code",
      "metadata": {
        "colab": {
          "base_uri": "https://localhost:8080/",
          "height": 281
        },
        "id": "nsSBIxS8I2vw",
        "outputId": "edc2f388-469e-4213-b48f-a19618d14c24"
      },
      "source": [
        "plotvolpercentchg = altdata_volpercentchg.filter(['date', 'percentchg'], axis=1) #df.copy()\n",
        "plotvolpercentchg.index = pd.Index(sm.tsa.datetools.dates_from_range('2015', length=len(altdata_volpercentchg['date']))) \n",
        "del plotvolpercentchg['date']\n",
        "sm.graphics.tsa.plot_pacf(plotvolpercentchg.values.squeeze())\n",
        "plt.show()"
      ],
      "execution_count": 21,
      "outputs": [
        {
          "output_type": "display_data",
          "data": {
            "image/png": "[encoded data removed]",
            "text/plain": [
              "<Figure size 432x288 with 1 Axes>"
            ]
          },
          "metadata": {
            "tags": [],
            "needs_background": "light"
          }
        }
      ]
    },
    {
      "cell_type": "markdown",
      "metadata": {
        "id": "i23WMfhBI8sM"
      },
      "source": [
        "***We can notice that in the partial autocorrelation plot above, we have statistically significant partial autocorrelations at lag values 0, 3, 4, 5, 8, 9. 10, 12, 13, 15, 16, 18, 19, 20, 22, 23, 29, 30, 32. And lag value 0 represents a perfect positive correlation. While the rest of values are very close to 0 and under the confidence intervals, which are represented as blue shaded regions***"
      ]
    },
    {
      "cell_type": "code",
      "metadata": {
        "colab": {
          "base_uri": "https://localhost:8080/",
          "height": 281
        },
        "id": "vSGAX6UKJPHD",
        "outputId": "fb052d2e-3a6c-451c-d796-9c8011decd76"
      },
      "source": [
        "boolean_shock(10, bse_data, 'close')\n",
        "altdata_closepercentchg10 = boolean_shock(10, bse_data, 'close')\n",
        "altdata_closepercentchg10.reset_index(inplace=True)\n",
        "altdata_closepercentchg10.rename(columns={list(altdata_closepercentchg10)[0]:'date'}, inplace=True)\n",
        "alt.Chart(altdata_closepercentchg10).mark_point().encode(\n",
        "    x='date',\n",
        "    y='percentchg'\n",
        ")\n",
        "plotclosepercentchg10 = altdata_closepercentchg10.filter(['date', 'percentchg'], axis=1) #df.copy()\n",
        "plotclosepercentchg10.index = pd.Index(sm.tsa.datetools.dates_from_range('2015', length=len(altdata_closepercentchg10['date']))) \n",
        "del plotclosepercentchg10['date']\n",
        "sm.graphics.tsa.plot_pacf(plotclosepercentchg10.values.squeeze())\n",
        "plt.show()"
      ],
      "execution_count": 22,
      "outputs": [
        {
          "output_type": "display_data",
          "data": {
            "image/png": "[encoded data removed]",
            "text/plain": [
              "<Figure size 432x288 with 1 Axes>"
            ]
          },
          "metadata": {
            "tags": [],
            "needs_background": "light"
          }
        }
      ]
    },
    {
      "cell_type": "markdown",
      "metadata": {
        "id": "Np6FRlGpJb-g"
      },
      "source": [
        "***In the partial autocorrelation plot above, we have statistically significant partial autocorrelations at lag values 0, 5, 6, 7, 10, 11, 24. And lag value 0 represents a perfect positive correlation. While the rest of values are very close to 0 and under the confidence intervals, which are represented as blue shaded regions***"
      ]
    },
    {
      "cell_type": "markdown",
      "metadata": {
        "id": "MckZE7GnJnsU"
      },
      "source": [
        "***Now, we will try pricing shock without volume shock***"
      ]
    },
    {
      "cell_type": "code",
      "metadata": {
        "id": "eTmV8ltZJwga"
      },
      "source": [
        "def priceboolean_shock(percent, df):\n",
        "  df['date'] = pd.to_datetime(df['date'])\n",
        "  data = df.filter(['date', 'high', 'low','close'], axis=1) #df.copy()\n",
        "  data.set_index('date', inplace=True)\n",
        "  data['priceavg'] = (data['high'] + data['low'] + data['close']) / 3\n",
        "  data['shock'] = (data['priceavg'].pct_change()) * 100\n",
        "  data['shock'] = data['shock'].apply(lambda x: 1 if x >= percent else 0)\n",
        "  data.drop(['high', 'low', 'close'], axis = 1, inplace = True)\n",
        "  return data"
      ],
      "execution_count": 23,
      "outputs": []
    },
    {
      "cell_type": "code",
      "metadata": {
        "colab": {
          "base_uri": "https://localhost:8080/",
          "height": 431
        },
        "id": "RFWYr_I_J6n4",
        "outputId": "70758bc0-e3e1-4fc6-c2b6-d904cac41a44"
      },
      "source": [
        "priceboolean_shock(10, bse_data)"
      ],
      "execution_count": 24,
      "outputs": [
        {
          "output_type": "execute_result",
          "data": {
            "text/html": [
              "<div>\n",
              "<style scoped>\n",
              "    .dataframe tbody tr th:only-of-type {\n",
              "        vertical-align: middle;\n",
              "    }\n",
              "\n",
              "    .dataframe tbody tr th {\n",
              "        vertical-align: top;\n",
              "    }\n",
              "\n",
              "    .dataframe thead th {\n",
              "        text-align: right;\n",
              "    }\n",
              "</style>\n",
              "<table border=\"1\" class=\"dataframe\">\n",
              "  <thead>\n",
              "    <tr style=\"text-align: right;\">\n",
              "      <th></th>\n",
              "      <th>priceavg</th>\n",
              "      <th>shock</th>\n",
              "    </tr>\n",
              "    <tr>\n",
              "      <th>date</th>\n",
              "      <th></th>\n",
              "      <th></th>\n",
              "    </tr>\n",
              "  </thead>\n",
              "  <tbody>\n",
              "    <tr>\n",
              "      <th>2015-01-02</th>\n",
              "      <td>27781.543620</td>\n",
              "      <td>0</td>\n",
              "    </tr>\n",
              "    <tr>\n",
              "      <th>2015-01-05</th>\n",
              "      <td>27897.886719</td>\n",
              "      <td>0</td>\n",
              "    </tr>\n",
              "    <tr>\n",
              "      <th>2015-01-06</th>\n",
              "      <td>27207.817057</td>\n",
              "      <td>0</td>\n",
              "    </tr>\n",
              "    <tr>\n",
              "      <th>2015-01-07</th>\n",
              "      <td>26912.179688</td>\n",
              "      <td>0</td>\n",
              "    </tr>\n",
              "    <tr>\n",
              "      <th>2015-01-08</th>\n",
              "      <td>27231.020182</td>\n",
              "      <td>0</td>\n",
              "    </tr>\n",
              "    <tr>\n",
              "      <th>...</th>\n",
              "      <td>...</td>\n",
              "      <td>...</td>\n",
              "    </tr>\n",
              "    <tr>\n",
              "      <th>2020-06-23</th>\n",
              "      <td>35252.093750</td>\n",
              "      <td>0</td>\n",
              "    </tr>\n",
              "    <tr>\n",
              "      <th>2020-06-24</th>\n",
              "      <td>35123.486979</td>\n",
              "      <td>0</td>\n",
              "    </tr>\n",
              "    <tr>\n",
              "      <th>2020-06-25</th>\n",
              "      <td>34807.830729</td>\n",
              "      <td>0</td>\n",
              "    </tr>\n",
              "    <tr>\n",
              "      <th>2020-06-26</th>\n",
              "      <td>35112.162760</td>\n",
              "      <td>0</td>\n",
              "    </tr>\n",
              "    <tr>\n",
              "      <th>2020-06-29</th>\n",
              "      <td>34885.312500</td>\n",
              "      <td>0</td>\n",
              "    </tr>\n",
              "  </tbody>\n",
              "</table>\n",
              "<p>1345 rows × 2 columns</p>\n",
              "</div>"
            ],
            "text/plain": [
              "                priceavg  shock\n",
              "date                           \n",
              "2015-01-02  27781.543620      0\n",
              "2015-01-05  27897.886719      0\n",
              "2015-01-06  27207.817057      0\n",
              "2015-01-07  26912.179688      0\n",
              "2015-01-08  27231.020182      0\n",
              "...                  ...    ...\n",
              "2020-06-23  35252.093750      0\n",
              "2020-06-24  35123.486979      0\n",
              "2020-06-25  34807.830729      0\n",
              "2020-06-26  35112.162760      0\n",
              "2020-06-29  34885.312500      0\n",
              "\n",
              "[1345 rows x 2 columns]"
            ]
          },
          "metadata": {
            "tags": []
          },
          "execution_count": 24
        }
      ]
    },
    {
      "cell_type": "code",
      "metadata": {
        "colab": {
          "base_uri": "https://localhost:8080/",
          "height": 368
        },
        "id": "cx952uN9KAG_",
        "outputId": "ea5a5447-9843-4834-8b66-f50d95dd8781"
      },
      "source": [
        "altdata_pricepercentchg = priceboolean_shock(10, bse_data)\n",
        "altdata_pricepercentchg.reset_index(inplace=True)\n",
        "altdata_pricepercentchg.rename(columns={list(altdata_pricepercentchg)[0]:'date'}, inplace=True)\n",
        "alt.Chart(altdata_pricepercentchg).mark_point().encode(\n",
        "    x='date',\n",
        "    y='priceavg'\n",
        ")"
      ],
      "execution_count": 25,
      "outputs": [
        {
          "output_type": "execute_result",
          "data": {
            "text/plain": [
              "alt.Chart(...)"
            ],
            "text/html": [
              "\n",
              "<div id=\"altair-viz-762e334997f942568d7b56ba61a4b7df\"></div>\n",
              "<script type=\"text/javascript\">\n",
              "  (function(spec, embedOpt){\n",
              "    let outputDiv = document.currentScript.previousElementSibling;\n",
              "    if (outputDiv.id !== \"altair-viz-762e334997f942568d7b56ba61a4b7df\") {\n",
              "      outputDiv = document.getElementById(\"altair-viz-762e334997f942568d7b56ba61a4b7df\");\n",
              "    }\n",
              "    const paths = {\n",
              "      \"vega\": \"https://cdn.jsdelivr.net/npm//vega@5?noext\",\n",
              "      \"vega-lib\": \"https://cdn.jsdelivr.net/npm//vega-lib?noext\",\n",
              "      \"vega-lite\": \"https://cdn.jsdelivr.net/npm//vega-lite@4.8.1?noext\",\n",
              "      \"vega-embed\": \"https://cdn.jsdelivr.net/npm//vega-embed@6?noext\",\n",
              "    };\n",
              "\n",
              "    function loadScript(lib) {\n",
              "      return new Promise(function(resolve, reject) {\n",
              "        var s = document.createElement('script');\n",
              "        s.src = paths[lib];\n",
              "        s.async = true;\n",
              "        s.onload = () => resolve(paths[lib]);\n",
              "        s.onerror = () => reject(`Error loading script: ${paths[lib]}`);\n",
              "        document.getElementsByTagName(\"head\")[0].appendChild(s);\n",
              "      });\n",
              "    }\n",
              "\n",
              "    function showError(err) {\n",
              "      outputDiv.innerHTML = `<div class=\"error\" style=\"color:red;\">${err}</div>`;\n",
              "      throw err;\n",
              "    }\n",
              "\n",
              "    function displayChart(vegaEmbed) {\n",
              "      vegaEmbed(outputDiv, spec, embedOpt)\n",
              "        .catch(err => showError(`Javascript Error: ${err.message}<br>This usually means there's a typo in your chart specification. See the javascript console for the full traceback.`));\n",
              "    }\n",
              "\n",
              "    if(typeof define === \"function\" && define.amd) {\n",
              "      requirejs.config({paths});\n",
              "      require([\"vega-embed\"], displayChart, err => showError(`Error loading script: ${err.message}`));\n",
              "    } else if (typeof vegaEmbed === \"function\") {\n",
              "      displayChart(vegaEmbed);\n",
              "    } else {\n",
              "      loadScript(\"vega\")\n",
              "        .then(() => loadScript(\"vega-lite\"))\n",
              "        .then(() => loadScript(\"vega-embed\"))\n",
              "        .catch(showError)\n",
              "        .then(() => displayChart(vegaEmbed));\n",
              "    }\n",
              "  })({\"config\": {\"view\": {\"continuousWidth\": 400, \"continuousHeight\": 300}}, \"data\": {\"name\": \"data-01936962bbbc072955a2e327735cd2d4\"}, \"mark\": \"point\", \"encoding\": {\"x\": {\"type\": \"temporal\", \"field\": \"date\"}, \"y\": {\"type\": \"quantitative\", \"field\": \"priceavg\"}}, \"$schema\": \"https://vega.github.io/schema/vega-lite/v4.8.1.json\", \"datasets\": {\"data-01936962bbbc072955a2e327735cd2d4\": [{\"date\": \"2015-01-02T00:00:00\", \"priceavg\": 27781.543619791668, \"shock\": 0}, {\"date\": \"2015-01-05T00:00:00\", \"priceavg\": 27897.88671875, \"shock\": 0}, {\"date\": \"2015-01-06T00:00:00\", \"priceavg\": 27207.817057291668, \"shock\": 0}, {\"date\": \"2015-01-07T00:00:00\", \"priceavg\": 26912.1796875, \"shock\": 0}, {\"date\": \"2015-01-08T00:00:00\", \"priceavg\": 27231.020182291668, \"shock\": 0}, {\"date\": \"2015-01-09T00:00:00\", \"priceavg\": 27361.893880208332, \"shock\": 0}, {\"date\": \"2015-01-12T00:00:00\", \"priceavg\": 27509.889973958332, \"shock\": 0}, {\"date\": \"2015-01-13T00:00:00\", \"priceavg\": 27473.5, \"shock\": 0}, {\"date\": \"2015-01-14T00:00:00\", \"priceavg\": 27354.290364583332, \"shock\": 0}, {\"date\": \"2015-01-15T00:00:00\", \"priceavg\": 27991.286458333332, \"shock\": 0}, {\"date\": \"2015-01-16T00:00:00\", \"priceavg\": 28081.100260416668, \"shock\": 0}, {\"date\": \"2015-01-19T00:00:00\", \"priceavg\": 28264.4765625, \"shock\": 0}, {\"date\": \"2015-01-20T00:00:00\", \"priceavg\": 28646.26953125, \"shock\": 0}, {\"date\": \"2015-01-21T00:00:00\", \"priceavg\": 28879.843098958332, \"shock\": 0}, {\"date\": \"2015-01-22T00:00:00\", \"priceavg\": 28986.220052083332, \"shock\": 0}, {\"date\": \"2015-01-23T00:00:00\", \"priceavg\": 29284.376953125, \"shock\": 0}, {\"date\": \"2015-01-27T00:00:00\", \"priceavg\": 29491.90625, \"shock\": 0}, {\"date\": \"2015-01-28T00:00:00\", \"priceavg\": 29587.723307291668, \"shock\": 0}, {\"date\": \"2015-01-29T00:00:00\", \"priceavg\": 29600.233723958332, \"shock\": 0}, {\"date\": \"2015-01-30T00:00:00\", \"priceavg\": 29365.86328125, \"shock\": 0}, {\"date\": \"2015-02-02T00:00:00\", \"priceavg\": 29116.306640625, \"shock\": 0}, {\"date\": \"2015-02-03T00:00:00\", \"priceavg\": 29051.203776041668, \"shock\": 0}, {\"date\": \"2015-02-04T00:00:00\", \"priceavg\": 28947.136067708332, \"shock\": 0}, {\"date\": \"2015-02-05T00:00:00\", \"priceavg\": 28960.696614583332, \"shock\": 0}, {\"date\": \"2015-02-06T00:00:00\", \"priceavg\": 28762.633463541668, \"shock\": 0}, {\"date\": \"2015-02-09T00:00:00\", \"priceavg\": 28325.736979166668, \"shock\": 0}, {\"date\": \"2015-02-10T00:00:00\", \"priceavg\": 28344.610026041668, \"shock\": 0}, {\"date\": \"2015-02-11T00:00:00\", \"priceavg\": 28525.757161458332, \"shock\": 0}, {\"date\": \"2015-02-12T00:00:00\", \"priceavg\": 28683.289713541668, \"shock\": 0}, {\"date\": \"2015-02-13T00:00:00\", \"priceavg\": 29028.432942708332, \"shock\": 0}, {\"date\": \"2015-02-16T00:00:00\", \"priceavg\": 29181.543619791668, \"shock\": 0}, {\"date\": \"2015-02-18T00:00:00\", \"priceavg\": 29286.163411458332, \"shock\": 0}, {\"date\": \"2015-02-19T00:00:00\", \"priceavg\": 29364.426432291668, \"shock\": 0}, {\"date\": \"2015-02-20T00:00:00\", \"priceavg\": 29290.586588541668, \"shock\": 0}, {\"date\": \"2015-02-23T00:00:00\", \"priceavg\": 29083.743489583332, \"shock\": 0}, {\"date\": \"2015-02-24T00:00:00\", \"priceavg\": 29003.756510416668, \"shock\": 0}, {\"date\": \"2015-02-25T00:00:00\", \"priceavg\": 29081.809895833332, \"shock\": 0}, {\"date\": \"2015-02-26T00:00:00\", \"priceavg\": 28836.533854166668, \"shock\": 0}, {\"date\": \"2015-02-27T00:00:00\", \"priceavg\": 29103.733072916668, \"shock\": 0}, {\"date\": \"2015-03-02T00:00:00\", \"priceavg\": 29431.743489583332, \"shock\": 0}, {\"date\": \"2015-03-03T00:00:00\", \"priceavg\": 29531.819661458332, \"shock\": 0}, {\"date\": \"2015-03-04T00:00:00\", \"priceavg\": 29564.840494791668, \"shock\": 0}, {\"date\": \"2015-03-05T00:00:00\", \"priceavg\": 29376.580078125, \"shock\": 0}, {\"date\": \"2015-03-09T00:00:00\", \"priceavg\": 28988.533203125, \"shock\": 0}, {\"date\": \"2015-03-10T00:00:00\", \"priceavg\": 28747.822916666668, \"shock\": 0}, {\"date\": \"2015-03-11T00:00:00\", \"priceavg\": 28703.526692708332, \"shock\": 0}, {\"date\": \"2015-03-12T00:00:00\", \"priceavg\": 28891.376953125, \"shock\": 0}, {\"date\": \"2015-03-13T00:00:00\", \"priceavg\": 28711.847005208332, \"shock\": 0}, {\"date\": \"2015-03-16T00:00:00\", \"priceavg\": 28467.873697916668, \"shock\": 0}, {\"date\": \"2015-03-17T00:00:00\", \"priceavg\": 28652.059895833332, \"shock\": 0}, {\"date\": \"2015-03-18T00:00:00\", \"priceavg\": 28658.616536458332, \"shock\": 0}, {\"date\": \"2015-03-19T00:00:00\", \"priceavg\": 28620.036458333332, \"shock\": 0}, {\"date\": \"2015-03-20T00:00:00\", \"priceavg\": 28318.366536458332, \"shock\": 0}, {\"date\": \"2015-03-23T00:00:00\", \"priceavg\": 28247.020182291668, \"shock\": 0}, {\"date\": \"2015-03-24T00:00:00\", \"priceavg\": 28249.043619791668, \"shock\": 0}, {\"date\": \"2015-03-25T00:00:00\", \"priceavg\": 28130.949869791668, \"shock\": 0}, {\"date\": \"2015-03-26T00:00:00\", \"priceavg\": 27613.196614583332, \"shock\": 0}, {\"date\": \"2015-03-27T00:00:00\", \"priceavg\": 27467.166666666668, \"shock\": 0}, {\"date\": \"2015-03-30T00:00:00\", \"priceavg\": 27872.86328125, \"shock\": 0}, {\"date\": \"2015-03-31T00:00:00\", \"priceavg\": 28002.113932291668, \"shock\": 0}, {\"date\": \"2015-04-01T00:00:00\", \"priceavg\": 28149.166666666668, \"shock\": 0}, {\"date\": \"2015-04-06T00:00:00\", \"priceavg\": 28419.087239583332, \"shock\": 0}, {\"date\": \"2015-04-07T00:00:00\", \"priceavg\": 28477.343098958332, \"shock\": 0}, {\"date\": \"2015-04-08T00:00:00\", \"priceavg\": 28679.139973958332, \"shock\": 0}, {\"date\": \"2015-04-09T00:00:00\", \"priceavg\": 28804.787109375, \"shock\": 0}, {\"date\": \"2015-04-10T00:00:00\", \"priceavg\": 28847.98046875, \"shock\": 0}, {\"date\": \"2015-04-13T00:00:00\", \"priceavg\": 28986.962890625, \"shock\": 0}, {\"date\": \"2015-04-15T00:00:00\", \"priceavg\": 28871.9765625, \"shock\": 0}, {\"date\": \"2015-04-16T00:00:00\", \"priceavg\": 28679.989583333332, \"shock\": 0}, {\"date\": \"2015-04-17T00:00:00\", \"priceavg\": 28514.016276041668, \"shock\": 0}, {\"date\": \"2015-04-20T00:00:00\", \"priceavg\": 28076.013671875, \"shock\": 0}, {\"date\": \"2015-04-21T00:00:00\", \"priceavg\": 27750.393229166668, \"shock\": 0}, {\"date\": \"2015-04-22T00:00:00\", \"priceavg\": 27740.95703125, \"shock\": 0}, {\"date\": \"2015-04-23T00:00:00\", \"priceavg\": 27814.659505208332, \"shock\": 0}, {\"date\": \"2015-04-24T00:00:00\", \"priceavg\": 27537.249348958332, \"shock\": 0}, {\"date\": \"2015-04-27T00:00:00\", \"priceavg\": 27295.2734375, \"shock\": 0}, {\"date\": \"2015-04-28T00:00:00\", \"priceavg\": 27317.257161458332, \"shock\": 0}, {\"date\": \"2015-04-29T00:00:00\", \"priceavg\": 27280.4765625, \"shock\": 0}, {\"date\": \"2015-04-30T00:00:00\", \"priceavg\": 27050.300130208332, \"shock\": 0}, {\"date\": \"2015-05-04T00:00:00\", \"priceavg\": 27395.962890625, \"shock\": 0}, {\"date\": \"2015-05-05T00:00:00\", \"priceavg\": 27460.694010416668, \"shock\": 0}, {\"date\": \"2015-05-06T00:00:00\", \"priceavg\": 26965.38671875, \"shock\": 0}, {\"date\": \"2015-05-07T00:00:00\", \"priceavg\": 26624.489583333332, \"shock\": 0}, {\"date\": \"2015-05-08T00:00:00\", \"priceavg\": 27038.68359375, \"shock\": 0}, {\"date\": \"2015-05-11T00:00:00\", \"priceavg\": 27427.606770833332, \"shock\": 0}, {\"date\": \"2015-05-12T00:00:00\", \"priceavg\": 27072.59375, \"shock\": 0}, {\"date\": \"2015-05-13T00:00:00\", \"priceavg\": 27100.303385416668, \"shock\": 0}, {\"date\": \"2015-05-14T00:00:00\", \"priceavg\": 27149.556640625, \"shock\": 0}, {\"date\": \"2015-05-15T00:00:00\", \"priceavg\": 27287.776692708332, \"shock\": 0}, {\"date\": \"2015-05-18T00:00:00\", \"priceavg\": 27594.516927083332, \"shock\": 0}, {\"date\": \"2015-05-19T00:00:00\", \"priceavg\": 27697.276692708332, \"shock\": 0}, {\"date\": \"2015-05-20T00:00:00\", \"priceavg\": 27828.0703125, \"shock\": 0}, {\"date\": \"2015-05-21T00:00:00\", \"priceavg\": 27811.173177083332, \"shock\": 0}, {\"date\": \"2015-05-22T00:00:00\", \"priceavg\": 27952.423177083332, \"shock\": 0}, {\"date\": \"2015-05-25T00:00:00\", \"priceavg\": 27720.496744791668, \"shock\": 0}, {\"date\": \"2015-05-26T00:00:00\", \"priceavg\": 27560.296223958332, \"shock\": 0}, {\"date\": \"2015-05-27T00:00:00\", \"priceavg\": 27508.060546875, \"shock\": 0}, {\"date\": \"2015-05-28T00:00:00\", \"priceavg\": 27509.143229166668, \"shock\": 0}, {\"date\": \"2015-05-29T00:00:00\", \"priceavg\": 27727.996744791668, \"shock\": 0}, {\"date\": \"2015-06-01T00:00:00\", \"priceavg\": 27848.666666666668, \"shock\": 0}, {\"date\": \"2015-06-02T00:00:00\", \"priceavg\": 27412.529947916668, \"shock\": 0}, {\"date\": \"2015-06-03T00:00:00\", \"priceavg\": 26937.2265625, \"shock\": 0}, {\"date\": \"2015-06-04T00:00:00\", \"priceavg\": 26771.41015625, \"shock\": 0}, {\"date\": \"2015-06-05T00:00:00\", \"priceavg\": 26833.783203125, \"shock\": 0}, {\"date\": \"2015-06-08T00:00:00\", \"priceavg\": 26607.673177083332, \"shock\": 0}, {\"date\": \"2015-06-09T00:00:00\", \"priceavg\": 26508.073567708332, \"shock\": 0}, {\"date\": \"2015-06-10T00:00:00\", \"priceavg\": 26756.176432291668, \"shock\": 0}, {\"date\": \"2015-06-11T00:00:00\", \"priceavg\": 26573.350260416668, \"shock\": 0}, {\"date\": \"2015-06-12T00:00:00\", \"priceavg\": 26407.317057291668, \"shock\": 0}, {\"date\": \"2015-06-15T00:00:00\", \"priceavg\": 26540.996744791668, \"shock\": 0}, {\"date\": \"2015-06-16T00:00:00\", \"priceavg\": 26599.263020833332, \"shock\": 0}, {\"date\": \"2015-06-17T00:00:00\", \"priceavg\": 26848.34375, \"shock\": 0}, {\"date\": \"2015-06-18T00:00:00\", \"priceavg\": 27067.16015625, \"shock\": 0}, {\"date\": \"2015-06-19T00:00:00\", \"priceavg\": 27307.716796875, \"shock\": 0}, {\"date\": \"2015-06-22T00:00:00\", \"priceavg\": 27643.18359375, \"shock\": 0}, {\"date\": \"2015-06-23T00:00:00\", \"priceavg\": 27784.539713541668, \"shock\": 0}, {\"date\": \"2015-06-24T00:00:00\", \"priceavg\": 27775.06640625, \"shock\": 0}, {\"date\": \"2015-06-25T00:00:00\", \"priceavg\": 27833.493489583332, \"shock\": 0}, {\"date\": \"2015-06-26T00:00:00\", \"priceavg\": 27802.953125, \"shock\": 0}, {\"date\": \"2015-06-29T00:00:00\", \"priceavg\": 27516.553385416668, \"shock\": 0}, {\"date\": \"2015-06-30T00:00:00\", \"priceavg\": 27722.102864583332, \"shock\": 0}, {\"date\": \"2015-07-01T00:00:00\", \"priceavg\": 27973.343098958332, \"shock\": 0}, {\"date\": \"2015-07-02T00:00:00\", \"priceavg\": 27989.370442708332, \"shock\": 0}, {\"date\": \"2015-07-03T00:00:00\", \"priceavg\": 28041.889322916668, \"shock\": 0}, {\"date\": \"2015-07-06T00:00:00\", \"priceavg\": 28072.95703125, \"shock\": 0}, {\"date\": \"2015-07-07T00:00:00\", \"priceavg\": 28197.093098958332, \"shock\": 0}, {\"date\": \"2015-07-08T00:00:00\", \"priceavg\": 27784.963541666668, \"shock\": 0}, {\"date\": \"2015-07-09T00:00:00\", \"priceavg\": 27637.463541666668, \"shock\": 0}, {\"date\": \"2015-07-10T00:00:00\", \"priceavg\": 27640.587239583332, \"shock\": 0}, {\"date\": \"2015-07-13T00:00:00\", \"priceavg\": 27867.139973958332, \"shock\": 0}, {\"date\": \"2015-07-14T00:00:00\", \"priceavg\": 27935.150390625, \"shock\": 0}, {\"date\": \"2015-07-15T00:00:00\", \"priceavg\": 28134.379557291668, \"shock\": 0}, {\"date\": \"2015-07-16T00:00:00\", \"priceavg\": 28390.119791666668, \"shock\": 0}, {\"date\": \"2015-07-17T00:00:00\", \"priceavg\": 28485.697265625, \"shock\": 0}, {\"date\": \"2015-07-20T00:00:00\", \"priceavg\": 28429.693359375, \"shock\": 0}, {\"date\": \"2015-07-21T00:00:00\", \"priceavg\": 28279.500651041668, \"shock\": 0}, {\"date\": \"2015-07-22T00:00:00\", \"priceavg\": 28374.086588541668, \"shock\": 0}, {\"date\": \"2015-07-23T00:00:00\", \"priceavg\": 28421.513020833332, \"shock\": 0}, {\"date\": \"2015-07-24T00:00:00\", \"priceavg\": 28199.5703125, \"shock\": 0}, {\"date\": \"2015-07-27T00:00:00\", \"priceavg\": 27736.200520833332, \"shock\": 0}, {\"date\": \"2015-07-28T00:00:00\", \"priceavg\": 27517.423828125, \"shock\": 0}, {\"date\": \"2015-07-29T00:00:00\", \"priceavg\": 27547.602864583332, \"shock\": 0}, {\"date\": \"2015-07-30T00:00:00\", \"priceavg\": 27736.59375, \"shock\": 0}, {\"date\": \"2015-07-31T00:00:00\", \"priceavg\": 28030.080078125, \"shock\": 0}, {\"date\": \"2015-08-03T00:00:00\", \"priceavg\": 28173.926432291668, \"shock\": 0}, {\"date\": \"2015-08-04T00:00:00\", \"priceavg\": 28067.58984375, \"shock\": 0}, {\"date\": \"2015-08-05T00:00:00\", \"priceavg\": 28224.823567708332, \"shock\": 0}, {\"date\": \"2015-08-06T00:00:00\", \"priceavg\": 28273.927083333332, \"shock\": 0}, {\"date\": \"2015-08-07T00:00:00\", \"priceavg\": 28255.330078125, \"shock\": 0}, {\"date\": \"2015-08-10T00:00:00\", \"priceavg\": 28179.053385416668, \"shock\": 0}, {\"date\": \"2015-08-11T00:00:00\", \"priceavg\": 27965.6796875, \"shock\": 0}, {\"date\": \"2015-08-12T00:00:00\", \"priceavg\": 27625.006510416668, \"shock\": 0}, {\"date\": \"2015-08-13T00:00:00\", \"priceavg\": 27612.305989583332, \"shock\": 0}, {\"date\": \"2015-08-14T00:00:00\", \"priceavg\": 27937.050130208332, \"shock\": 0}, {\"date\": \"2015-08-17T00:00:00\", \"priceavg\": 27904.45703125, \"shock\": 0}, {\"date\": \"2015-08-18T00:00:00\", \"priceavg\": 27873.223307291668, \"shock\": 0}, {\"date\": \"2015-08-19T00:00:00\", \"priceavg\": 27891.427083333332, \"shock\": 0}, {\"date\": \"2015-08-20T00:00:00\", \"priceavg\": 27712.193359375, \"shock\": 0}, {\"date\": \"2015-08-21T00:00:00\", \"priceavg\": 27313.443359375, \"shock\": 0}, {\"date\": \"2015-08-24T00:00:00\", \"priceavg\": 26032.227213541668, \"shock\": 0}, {\"date\": \"2015-08-25T00:00:00\", \"priceavg\": 25818.543619791668, \"shock\": 0}, {\"date\": \"2015-08-26T00:00:00\", \"priceavg\": 25842.943359375, \"shock\": 0}, {\"date\": \"2015-08-27T00:00:00\", \"priceavg\": 26159.236328125, \"shock\": 0}, {\"date\": \"2015-08-28T00:00:00\", \"priceavg\": 26449.960286458332, \"shock\": 0}, {\"date\": \"2015-08-31T00:00:00\", \"priceavg\": 26334.326822916668, \"shock\": 0}, {\"date\": \"2015-09-01T00:00:00\", \"priceavg\": 25805.796875, \"shock\": 0}, {\"date\": \"2015-09-02T00:00:00\", \"priceavg\": 25596.006510416668, \"shock\": 0}, {\"date\": \"2015-09-03T00:00:00\", \"priceavg\": 25718.652994791668, \"shock\": 0}, {\"date\": \"2015-09-04T00:00:00\", \"priceavg\": 25365.447265625, \"shock\": 0}, {\"date\": \"2015-09-07T00:00:00\", \"priceavg\": 25044.300130208332, \"shock\": 0}, {\"date\": \"2015-09-08T00:00:00\", \"priceavg\": 25187.469401041668, \"shock\": 0}, {\"date\": \"2015-09-09T00:00:00\", \"priceavg\": 25697.916666666668, \"shock\": 0}, {\"date\": \"2015-09-10T00:00:00\", \"priceavg\": 25547.789713541668, \"shock\": 0}, {\"date\": \"2015-09-11T00:00:00\", \"priceavg\": 25672.194010416668, \"shock\": 0}, {\"date\": \"2015-09-14T00:00:00\", \"priceavg\": 25759.833333333332, \"shock\": 0}, {\"date\": \"2015-09-15T00:00:00\", \"priceavg\": 25755.04296875, \"shock\": 0}, {\"date\": \"2015-09-16T00:00:00\", \"priceavg\": 25929.073567708332, \"shock\": 0}, {\"date\": \"2015-09-18T00:00:00\", \"priceavg\": 26273.696614583332, \"shock\": 0}, {\"date\": \"2015-09-21T00:00:00\", \"priceavg\": 26132.993489583332, \"shock\": 0}, {\"date\": \"2015-09-22T00:00:00\", \"priceavg\": 25854.093098958332, \"shock\": 0}, {\"date\": \"2015-09-23T00:00:00\", \"priceavg\": 25714.496744791668, \"shock\": 0}, {\"date\": \"2015-09-24T00:00:00\", \"priceavg\": 25828.120442708332, \"shock\": 0}, {\"date\": \"2015-09-28T00:00:00\", \"priceavg\": 25715.763671875, \"shock\": 0}, {\"date\": \"2015-09-29T00:00:00\", \"priceavg\": 25706.786458333332, \"shock\": 0}, {\"date\": \"2015-09-30T00:00:00\", \"priceavg\": 26084.246744791668, \"shock\": 0}, {\"date\": \"2015-10-01T00:00:00\", \"priceavg\": 26273.8203125, \"shock\": 0}, {\"date\": \"2015-10-05T00:00:00\", \"priceavg\": 26661.09375, \"shock\": 0}, {\"date\": \"2015-10-06T00:00:00\", \"priceavg\": 26898.133463541668, \"shock\": 0}, {\"date\": \"2015-10-07T00:00:00\", \"priceavg\": 26998.546223958332, \"shock\": 0}, {\"date\": \"2015-10-08T00:00:00\", \"priceavg\": 26909.426432291668, \"shock\": 0}, {\"date\": \"2015-10-09T00:00:00\", \"priceavg\": 27063.513020833332, \"shock\": 0}, {\"date\": \"2015-10-12T00:00:00\", \"priceavg\": 27021.6328125, \"shock\": 0}, {\"date\": \"2015-10-13T00:00:00\", \"priceavg\": 26828.049479166668, \"shock\": 0}, {\"date\": \"2015-10-14T00:00:00\", \"priceavg\": 26787.33984375, \"shock\": 0}, {\"date\": \"2015-10-15T00:00:00\", \"priceavg\": 26961.619791666668, \"shock\": 0}, {\"date\": \"2015-10-16T00:00:00\", \"priceavg\": 27123.646484375, \"shock\": 0}, {\"date\": \"2015-10-19T00:00:00\", \"priceavg\": 27333.206380208332, \"shock\": 0}, {\"date\": \"2015-10-20T00:00:00\", \"priceavg\": 27318.43359375, \"shock\": 0}, {\"date\": \"2015-10-21T00:00:00\", \"priceavg\": 27307.817057291668, \"shock\": 0}, {\"date\": \"2015-10-23T00:00:00\", \"priceavg\": 27482.52734375, \"shock\": 0}, {\"date\": \"2015-10-26T00:00:00\", \"priceavg\": 27432.766927083332, \"shock\": 0}, {\"date\": \"2015-10-27T00:00:00\", \"priceavg\": 27253.086588541668, \"shock\": 0}, {\"date\": \"2015-10-28T00:00:00\", \"priceavg\": 27041.233723958332, \"shock\": 0}, {\"date\": \"2015-10-29T00:00:00\", \"priceavg\": 26910.449869791668, \"shock\": 0}, {\"date\": \"2015-10-30T00:00:00\", \"priceavg\": 26728.106119791668, \"shock\": 0}, {\"date\": \"2015-11-02T00:00:00\", \"priceavg\": 26587.236979166668, \"shock\": 0}, {\"date\": \"2015-11-03T00:00:00\", \"priceavg\": 26612.436848958332, \"shock\": 0}, {\"date\": \"2015-11-04T00:00:00\", \"priceavg\": 26621.097005208332, \"shock\": 0}, {\"date\": \"2015-11-05T00:00:00\", \"priceavg\": 26368.399739583332, \"shock\": 0}, {\"date\": \"2015-11-06T00:00:00\", \"priceavg\": 26298.093098958332, \"shock\": 0}, {\"date\": \"2015-11-09T00:00:00\", \"priceavg\": 25990.490234375, \"shock\": 0}, {\"date\": \"2015-11-10T00:00:00\", \"priceavg\": 25848.860026041668, \"shock\": 0}, {\"date\": \"2015-11-13T00:00:00\", \"priceavg\": 25625.116536458332, \"shock\": 0}, {\"date\": \"2015-11-16T00:00:00\", \"priceavg\": 25692.646484375, \"shock\": 0}, {\"date\": \"2015-11-17T00:00:00\", \"priceavg\": 25848.486328125, \"shock\": 0}, {\"date\": \"2015-11-18T00:00:00\", \"priceavg\": 25608.733072916668, \"shock\": 0}, {\"date\": \"2015-11-19T00:00:00\", \"priceavg\": 25776.513020833332, \"shock\": 0}, {\"date\": \"2015-11-20T00:00:00\", \"priceavg\": 25899.020182291668, \"shock\": 0}, {\"date\": \"2015-11-23T00:00:00\", \"priceavg\": 25841.462890625, \"shock\": 0}, {\"date\": \"2015-11-24T00:00:00\", \"priceavg\": 25793.720052083332, \"shock\": 0}, {\"date\": \"2015-11-26T00:00:00\", \"priceavg\": 25914.826822916668, \"shock\": 0}, {\"date\": \"2015-11-27T00:00:00\", \"priceavg\": 26083.389973958332, \"shock\": 0}, {\"date\": \"2015-11-30T00:00:00\", \"priceavg\": 26155.287109375, \"shock\": 0}, {\"date\": \"2015-12-01T00:00:00\", \"priceavg\": 26178.983072916668, \"shock\": 0}, {\"date\": \"2015-12-02T00:00:00\", \"priceavg\": 26138.649739583332, \"shock\": 0}, {\"date\": \"2015-12-03T00:00:00\", \"priceavg\": 25955.942708333332, \"shock\": 0}, {\"date\": \"2015-12-04T00:00:00\", \"priceavg\": 25690.626953125, \"shock\": 0}, {\"date\": \"2015-12-07T00:00:00\", \"priceavg\": 25597.776041666668, \"shock\": 0}, {\"date\": \"2015-12-08T00:00:00\", \"priceavg\": 25369.86328125, \"shock\": 0}, {\"date\": \"2015-12-09T00:00:00\", \"priceavg\": 25121.740234375, \"shock\": 0}, {\"date\": \"2015-12-10T00:00:00\", \"priceavg\": 25192.013671875, \"shock\": 0}, {\"date\": \"2015-12-11T00:00:00\", \"priceavg\": 25097.0, \"shock\": 0}, {\"date\": \"2015-12-14T00:00:00\", \"priceavg\": 25070.743489583332, \"shock\": 0}, {\"date\": \"2015-12-15T00:00:00\", \"priceavg\": 25246.252604166668, \"shock\": 0}, {\"date\": \"2015-12-16T00:00:00\", \"priceavg\": 25479.913411458332, \"shock\": 0}, {\"date\": \"2015-12-17T00:00:00\", \"priceavg\": 25694.470052083332, \"shock\": 0}, {\"date\": \"2015-12-18T00:00:00\", \"priceavg\": 25596.746744791668, \"shock\": 0}, {\"date\": \"2015-12-21T00:00:00\", \"priceavg\": 25635.759765625, \"shock\": 0}, {\"date\": \"2015-12-22T00:00:00\", \"priceavg\": 25621.010416666668, \"shock\": 0}, {\"date\": \"2015-12-23T00:00:00\", \"priceavg\": 25805.08984375, \"shock\": 0}, {\"date\": \"2015-12-24T00:00:00\", \"priceavg\": 25841.52734375, \"shock\": 0}, {\"date\": \"2015-12-28T00:00:00\", \"priceavg\": 25988.133463541668, \"shock\": 0}, {\"date\": \"2015-12-29T00:00:00\", \"priceavg\": 26069.236328125, \"shock\": 0}, {\"date\": \"2015-12-30T00:00:00\", \"priceavg\": 26009.826171875, \"shock\": 0}, {\"date\": \"2015-12-31T00:00:00\", \"priceavg\": 26069.026692708332, \"shock\": 0}, {\"date\": \"2016-01-04T00:00:00\", \"priceavg\": 25778.813151041668, \"shock\": 0}, {\"date\": \"2016-01-05T00:00:00\", \"priceavg\": 25620.283203125, \"shock\": 0}, {\"date\": \"2016-01-06T00:00:00\", \"priceavg\": 25465.533203125, \"shock\": 0}, {\"date\": \"2016-01-07T00:00:00\", \"priceavg\": 24969.29296875, \"shock\": 0}, {\"date\": \"2016-01-08T00:00:00\", \"priceavg\": 24968.3671875, \"shock\": 0}, {\"date\": \"2016-01-11T00:00:00\", \"priceavg\": 24795.2734375, \"shock\": 0}, {\"date\": \"2016-01-12T00:00:00\", \"priceavg\": 24720.479817708332, \"shock\": 0}, {\"date\": \"2016-01-13T00:00:00\", \"priceavg\": 24732.779296875, \"shock\": 0}, {\"date\": \"2016-01-14T00:00:00\", \"priceavg\": 24754.884114583332, \"shock\": 0}, {\"date\": \"2016-01-15T00:00:00\", \"priceavg\": 24596.402994791668, \"shock\": 0}, {\"date\": \"2016-01-18T00:00:00\", \"priceavg\": 24285.069661458332, \"shock\": 0}, {\"date\": \"2016-01-19T00:00:00\", \"priceavg\": 24430.13671875, \"shock\": 0}, {\"date\": \"2016-01-20T00:00:00\", \"priceavg\": 24075.856119791668, \"shock\": 0}, {\"date\": \"2016-01-21T00:00:00\", \"priceavg\": 24058.680338541668, \"shock\": 0}, {\"date\": \"2016-01-22T00:00:00\", \"priceavg\": 24342.860026041668, \"shock\": 0}, {\"date\": \"2016-01-25T00:00:00\", \"priceavg\": 24523.396484375, \"shock\": 0}, {\"date\": \"2016-01-27T00:00:00\", \"priceavg\": 24532.073567708332, \"shock\": 0}, {\"date\": \"2016-01-28T00:00:00\", \"priceavg\": 24485.763020833332, \"shock\": 0}, {\"date\": \"2016-01-29T00:00:00\", \"priceavg\": 24707.550130208332, \"shock\": 0}, {\"date\": \"2016-02-01T00:00:00\", \"priceavg\": 24871.91015625, \"shock\": 0}, {\"date\": \"2016-02-02T00:00:00\", \"priceavg\": 24642.759765625, \"shock\": 0}, {\"date\": \"2016-02-03T00:00:00\", \"priceavg\": 24273.373046875, \"shock\": 0}, {\"date\": \"2016-02-04T00:00:00\", \"priceavg\": 24359.059895833332, \"shock\": 0}, {\"date\": \"2016-02-05T00:00:00\", \"priceavg\": 24545.220052083332, \"shock\": 0}, {\"date\": \"2016-02-08T00:00:00\", \"priceavg\": 24394.402994791668, \"shock\": 0}, {\"date\": \"2016-02-09T00:00:00\", \"priceavg\": 24017.213541666668, \"shock\": 0}, {\"date\": \"2016-02-10T00:00:00\", \"priceavg\": 23777.98046875, \"shock\": 0}, {\"date\": \"2016-02-11T00:00:00\", \"priceavg\": 23206.470052083332, \"shock\": 0}, {\"date\": \"2016-02-12T00:00:00\", \"priceavg\": 22915.88671875, \"shock\": 0}, {\"date\": \"2016-02-15T00:00:00\", \"priceavg\": 23458.143229166668, \"shock\": 0}, {\"date\": \"2016-02-16T00:00:00\", \"priceavg\": 23349.529947916668, \"shock\": 0}, {\"date\": \"2016-02-17T00:00:00\", \"priceavg\": 23245.873046875, \"shock\": 0}, {\"date\": \"2016-02-18T00:00:00\", \"priceavg\": 23610.927083333332, \"shock\": 0}, {\"date\": \"2016-02-19T00:00:00\", \"priceavg\": 23663.996744791668, \"shock\": 0}, {\"date\": \"2016-02-22T00:00:00\", \"priceavg\": 23772.895833333332, \"shock\": 0}, {\"date\": \"2016-02-23T00:00:00\", \"priceavg\": 23541.209635416668, \"shock\": 0}, {\"date\": \"2016-02-24T00:00:00\", \"priceavg\": 23161.756510416668, \"shock\": 0}, {\"date\": \"2016-02-25T00:00:00\", \"priceavg\": 23022.353515625, \"shock\": 0}, {\"date\": \"2016-02-26T00:00:00\", \"priceavg\": 23134.716796875, \"shock\": 0}, {\"date\": \"2016-02-29T00:00:00\", \"priceavg\": 22946.610026041668, \"shock\": 0}, {\"date\": \"2016-03-01T00:00:00\", \"priceavg\": 23578.006510416668, \"shock\": 0}, {\"date\": \"2016-03-02T00:00:00\", \"priceavg\": 24189.097005208332, \"shock\": 0}, {\"date\": \"2016-03-03T00:00:00\", \"priceavg\": 24543.593098958332, \"shock\": 0}, {\"date\": \"2016-03-04T00:00:00\", \"priceavg\": 24632.444010416668, \"shock\": 0}, {\"date\": \"2016-03-08T00:00:00\", \"priceavg\": 24654.020182291668, \"shock\": 0}, {\"date\": \"2016-03-09T00:00:00\", \"priceavg\": 24688.7734375, \"shock\": 0}, {\"date\": \"2016-03-10T00:00:00\", \"priceavg\": 24637.403645833332, \"shock\": 0}, {\"date\": \"2016-03-11T00:00:00\", \"priceavg\": 24696.016927083332, \"shock\": 0}, {\"date\": \"2016-03-14T00:00:00\", \"priceavg\": 24832.942708333332, \"shock\": 0}, {\"date\": \"2016-03-15T00:00:00\", \"priceavg\": 24636.40625, \"shock\": 0}, {\"date\": \"2016-03-16T00:00:00\", \"priceavg\": 24581.293619791668, \"shock\": 0}, {\"date\": \"2016-03-17T00:00:00\", \"priceavg\": 24734.063151041668, \"shock\": 0}, {\"date\": \"2016-03-18T00:00:00\", \"priceavg\": 24873.7734375, \"shock\": 0}, {\"date\": \"2016-03-21T00:00:00\", \"priceavg\": 25200.362630208332, \"shock\": 0}, {\"date\": \"2016-03-22T00:00:00\", \"priceavg\": 25265.173177083332, \"shock\": 0}, {\"date\": \"2016-03-23T00:00:00\", \"priceavg\": 25287.397135416668, \"shock\": 0}, {\"date\": \"2016-03-28T00:00:00\", \"priceavg\": 25098.276692708332, \"shock\": 0}, {\"date\": \"2016-03-29T00:00:00\", \"priceavg\": 24938.45703125, \"shock\": 0}, {\"date\": \"2016-03-30T00:00:00\", \"priceavg\": 25250.946614583332, \"shock\": 0}, {\"date\": \"2016-03-31T00:00:00\", \"priceavg\": 25348.233072916668, \"shock\": 0}, {\"date\": \"2016-04-01T00:00:00\", \"priceavg\": 25247.9765625, \"shock\": 0}, {\"date\": \"2016-04-04T00:00:00\", \"priceavg\": 25349.097005208332, \"shock\": 0}, {\"date\": \"2016-04-05T00:00:00\", \"priceavg\": 25031.1796875, \"shock\": 0}, {\"date\": \"2016-04-06T00:00:00\", \"priceavg\": 24911.813802083332, \"shock\": 0}, {\"date\": \"2016-04-07T00:00:00\", \"priceavg\": 24782.010416666668, \"shock\": 0}, {\"date\": \"2016-04-08T00:00:00\", \"priceavg\": 24672.79296875, \"shock\": 0}, {\"date\": \"2016-04-11T00:00:00\", \"priceavg\": 24865.093098958332, \"shock\": 0}, {\"date\": \"2016-04-12T00:00:00\", \"priceavg\": 25107.349609375, \"shock\": 0}, {\"date\": \"2016-04-13T00:00:00\", \"priceavg\": 25552.223307291668, \"shock\": 0}, {\"date\": \"2016-04-18T00:00:00\", \"priceavg\": 25773.502604166668, \"shock\": 0}, {\"date\": \"2016-04-20T00:00:00\", \"priceavg\": 25839.110026041668, \"shock\": 0}, {\"date\": \"2016-04-21T00:00:00\", \"priceavg\": 25914.5234375, \"shock\": 0}, {\"date\": \"2016-04-22T00:00:00\", \"priceavg\": 25844.013671875, \"shock\": 0}, {\"date\": \"2016-04-25T00:00:00\", \"priceavg\": 25718.629557291668, \"shock\": 0}, {\"date\": \"2016-04-26T00:00:00\", \"priceavg\": 25870.450520833332, \"shock\": 0}, {\"date\": \"2016-04-27T00:00:00\", \"priceavg\": 26014.096354166668, \"shock\": 0}, {\"date\": \"2016-04-28T00:00:00\", \"priceavg\": 25754.936197916668, \"shock\": 0}, {\"date\": \"2016-04-29T00:00:00\", \"priceavg\": 25595.359375, \"shock\": 0}, {\"date\": \"2016-05-02T00:00:00\", \"priceavg\": 25447.850260416668, \"shock\": 0}, {\"date\": \"2016-05-03T00:00:00\", \"priceavg\": 25376.199869791668, \"shock\": 0}, {\"date\": \"2016-05-04T00:00:00\", \"priceavg\": 25136.15625, \"shock\": 0}, {\"date\": \"2016-05-05T00:00:00\", \"priceavg\": 25273.083333333332, \"shock\": 0}, {\"date\": \"2016-05-06T00:00:00\", \"priceavg\": 25182.303385416668, \"shock\": 0}, {\"date\": \"2016-05-09T00:00:00\", \"priceavg\": 25567.1328125, \"shock\": 0}, {\"date\": \"2016-05-10T00:00:00\", \"priceavg\": 25732.233072916668, \"shock\": 0}, {\"date\": \"2016-05-11T00:00:00\", \"priceavg\": 25589.583333333332, \"shock\": 0}, {\"date\": \"2016-05-12T00:00:00\", \"priceavg\": 25745.83984375, \"shock\": 0}, {\"date\": \"2016-05-13T00:00:00\", \"priceavg\": 25544.509765625, \"shock\": 0}, {\"date\": \"2016-05-16T00:00:00\", \"priceavg\": 25564.436848958332, \"shock\": 0}, {\"date\": \"2016-05-17T00:00:00\", \"priceavg\": 25811.559895833332, \"shock\": 0}, {\"date\": \"2016-05-18T00:00:00\", \"priceavg\": 25651.669921875, \"shock\": 0}, {\"date\": \"2016-05-19T00:00:00\", \"priceavg\": 25488.757161458332, \"shock\": 0}, {\"date\": \"2016-05-20T00:00:00\", \"priceavg\": 25353.287109375, \"shock\": 0}, {\"date\": \"2016-05-23T00:00:00\", \"priceavg\": 25319.1328125, \"shock\": 0}, {\"date\": \"2016-05-24T00:00:00\", \"priceavg\": 25275.804036458332, \"shock\": 0}, {\"date\": \"2016-05-25T00:00:00\", \"priceavg\": 25736.54296875, \"shock\": 0}, {\"date\": \"2016-05-26T00:00:00\", \"priceavg\": 26235.709635416668, \"shock\": 0}, {\"date\": \"2016-05-27T00:00:00\", \"priceavg\": 26578.76953125, \"shock\": 0}, {\"date\": \"2016-05-30T00:00:00\", \"priceavg\": 26714.630208333332, \"shock\": 0}, {\"date\": \"2016-05-31T00:00:00\", \"priceavg\": 26688.913411458332, \"shock\": 0}, {\"date\": \"2016-06-01T00:00:00\", \"priceavg\": 26747.6796875, \"shock\": 0}, {\"date\": \"2016-06-02T00:00:00\", \"priceavg\": 26789.7734375, \"shock\": 0}, {\"date\": \"2016-06-03T00:00:00\", \"priceavg\": 26881.080078125, \"shock\": 0}, {\"date\": \"2016-06-06T00:00:00\", \"priceavg\": 26802.802734375, \"shock\": 0}, {\"date\": \"2016-06-07T00:00:00\", \"priceavg\": 26973.943359375, \"shock\": 0}, {\"date\": \"2016-06-08T00:00:00\", \"priceavg\": 27033.260416666668, \"shock\": 0}, {\"date\": \"2016-06-09T00:00:00\", \"priceavg\": 26816.906901041668, \"shock\": 0}, {\"date\": \"2016-06-10T00:00:00\", \"priceavg\": 26742.770182291668, \"shock\": 0}, {\"date\": \"2016-06-13T00:00:00\", \"priceavg\": 26375.76953125, \"shock\": 0}, {\"date\": \"2016-06-14T00:00:00\", \"priceavg\": 26381.990234375, \"shock\": 0}, {\"date\": \"2016-06-15T00:00:00\", \"priceavg\": 26641.83984375, \"shock\": 0}, {\"date\": \"2016-06-16T00:00:00\", \"priceavg\": 26508.800130208332, \"shock\": 0}, {\"date\": \"2016-06-17T00:00:00\", \"priceavg\": 26631.656901041668, \"shock\": 0}, {\"date\": \"2016-06-20T00:00:00\", \"priceavg\": 26733.430338541668, \"shock\": 0}, {\"date\": \"2016-06-21T00:00:00\", \"priceavg\": 26831.006510416668, \"shock\": 0}, {\"date\": \"2016-06-22T00:00:00\", \"priceavg\": 26756.796223958332, \"shock\": 0}, {\"date\": \"2016-06-23T00:00:00\", \"priceavg\": 26933.240234375, \"shock\": 0}, {\"date\": \"2016-06-24T00:00:00\", \"priceavg\": 26248.296875, \"shock\": 0}, {\"date\": \"2016-06-27T00:00:00\", \"priceavg\": 26386.397135416668, \"shock\": 0}, {\"date\": \"2016-06-28T00:00:00\", \"priceavg\": 26495.447265625, \"shock\": 0}, {\"date\": \"2016-06-29T00:00:00\", \"priceavg\": 26707.623697916668, \"shock\": 0}, {\"date\": \"2016-06-30T00:00:00\", \"priceavg\": 26980.513671875, \"shock\": 0}, {\"date\": \"2016-07-01T00:00:00\", \"priceavg\": 27149.889973958332, \"shock\": 0}, {\"date\": \"2016-07-04T00:00:00\", \"priceavg\": 27305.16015625, \"shock\": 0}, {\"date\": \"2016-07-05T00:00:00\", \"priceavg\": 27214.276692708332, \"shock\": 0}, {\"date\": \"2016-07-07T00:00:00\", \"priceavg\": 27212.220052083332, \"shock\": 0}, {\"date\": \"2016-07-08T00:00:00\", \"priceavg\": 27151.953776041668, \"shock\": 0}, {\"date\": \"2016-07-11T00:00:00\", \"priceavg\": 27544.133463541668, \"shock\": 0}, {\"date\": \"2016-07-12T00:00:00\", \"priceavg\": 27768.23046875, \"shock\": 0}, {\"date\": \"2016-07-13T00:00:00\", \"priceavg\": 27832.026692708332, \"shock\": 0}, {\"date\": \"2016-07-14T00:00:00\", \"priceavg\": 27891.009765625, \"shock\": 0}, {\"date\": \"2016-07-15T00:00:00\", \"priceavg\": 27873.689453125, \"shock\": 0}, {\"date\": \"2016-07-18T00:00:00\", \"priceavg\": 27819.283203125, \"shock\": 0}, {\"date\": \"2016-07-19T00:00:00\", \"priceavg\": 27750.763020833332, \"shock\": 0}, {\"date\": \"2016-07-20T00:00:00\", \"priceavg\": 27870.260416666668, \"shock\": 0}, {\"date\": \"2016-07-21T00:00:00\", \"priceavg\": 27795.606119791668, \"shock\": 0}, {\"date\": \"2016-07-22T00:00:00\", \"priceavg\": 27760.633463541668, \"shock\": 0}, {\"date\": \"2016-07-25T00:00:00\", \"priceavg\": 27980.739583333332, \"shock\": 0}, {\"date\": \"2016-07-26T00:00:00\", \"priceavg\": 28017.7265625, \"shock\": 0}, {\"date\": \"2016-07-27T00:00:00\", \"priceavg\": 28045.046875, \"shock\": 0}, {\"date\": \"2016-07-28T00:00:00\", \"priceavg\": 28171.239583333332, \"shock\": 0}, {\"date\": \"2016-07-29T00:00:00\", \"priceavg\": 28107.733072916668, \"shock\": 0}, {\"date\": \"2016-08-01T00:00:00\", \"priceavg\": 28053.832682291668, \"shock\": 0}, {\"date\": \"2016-08-02T00:00:00\", \"priceavg\": 28033.613932291668, \"shock\": 0}, {\"date\": \"2016-08-03T00:00:00\", \"priceavg\": 27786.693359375, \"shock\": 0}, {\"date\": \"2016-08-04T00:00:00\", \"priceavg\": 27754.75, \"shock\": 0}, {\"date\": \"2016-08-05T00:00:00\", \"priceavg\": 27994.819661458332, \"shock\": 0}, {\"date\": \"2016-08-08T00:00:00\", \"priceavg\": 28179.00390625, \"shock\": 0}, {\"date\": \"2016-08-09T00:00:00\", \"priceavg\": 28110.630208333332, \"shock\": 0}, {\"date\": \"2016-08-10T00:00:00\", \"priceavg\": 27884.926432291668, \"shock\": 0}, {\"date\": \"2016-08-11T00:00:00\", \"priceavg\": 27819.7734375, \"shock\": 0}, {\"date\": \"2016-08-12T00:00:00\", \"priceavg\": 28085.526692708332, \"shock\": 0}, {\"date\": \"2016-08-16T00:00:00\", \"priceavg\": 28068.786458333332, \"shock\": 0}, {\"date\": \"2016-08-17T00:00:00\", \"priceavg\": 28046.603515625, \"shock\": 0}, {\"date\": \"2016-08-18T00:00:00\", \"priceavg\": 28138.203125, \"shock\": 0}, {\"date\": \"2016-08-19T00:00:00\", \"priceavg\": 28105.139973958332, \"shock\": 0}, {\"date\": \"2016-08-22T00:00:00\", \"priceavg\": 28015.623046875, \"shock\": 0}, {\"date\": \"2016-08-23T00:00:00\", \"priceavg\": 27957.873697916668, \"shock\": 0}, {\"date\": \"2016-08-24T00:00:00\", \"priceavg\": 28042.733072916668, \"shock\": 0}, {\"date\": \"2016-08-25T00:00:00\", \"priceavg\": 27931.120442708332, \"shock\": 0}, {\"date\": \"2016-08-26T00:00:00\", \"priceavg\": 27805.040364583332, \"shock\": 0}, {\"date\": \"2016-08-29T00:00:00\", \"priceavg\": 27851.406901041668, \"shock\": 0}, {\"date\": \"2016-08-30T00:00:00\", \"priceavg\": 28277.229817708332, \"shock\": 0}, {\"date\": \"2016-08-31T00:00:00\", \"priceavg\": 28449.173177083332, \"shock\": 0}, {\"date\": \"2016-09-01T00:00:00\", \"priceavg\": 28452.979817708332, \"shock\": 0}, {\"date\": \"2016-09-02T00:00:00\", \"priceavg\": 28513.7734375, \"shock\": 0}, {\"date\": \"2016-09-06T00:00:00\", \"priceavg\": 28874.229817708332, \"shock\": 0}, {\"date\": \"2016-09-07T00:00:00\", \"priceavg\": 28968.503255208332, \"shock\": 0}, {\"date\": \"2016-09-08T00:00:00\", \"priceavg\": 28992.373046875, \"shock\": 0}, {\"date\": \"2016-09-09T00:00:00\", \"priceavg\": 28871.743489583332, \"shock\": 0}, {\"date\": \"2016-09-12T00:00:00\", \"priceavg\": 28361.986328125, \"shock\": 0}, {\"date\": \"2016-09-14T00:00:00\", \"priceavg\": 28349.340494791668, \"shock\": 0}, {\"date\": \"2016-09-15T00:00:00\", \"priceavg\": 28392.673177083332, \"shock\": 0}, {\"date\": \"2016-09-16T00:00:00\", \"priceavg\": 28624.086588541668, \"shock\": 0}, {\"date\": \"2016-09-19T00:00:00\", \"priceavg\": 28633.940104166668, \"shock\": 0}, {\"date\": \"2016-09-20T00:00:00\", \"priceavg\": 28567.513020833332, \"shock\": 0}, {\"date\": \"2016-09-21T00:00:00\", \"priceavg\": 28553.036458333332, \"shock\": 0}, {\"date\": \"2016-09-22T00:00:00\", \"priceavg\": 28779.373697916668, \"shock\": 0}, {\"date\": \"2016-09-23T00:00:00\", \"priceavg\": 28706.897135416668, \"shock\": 0}, {\"date\": \"2016-09-26T00:00:00\", \"priceavg\": 28399.076171875, \"shock\": 0}, {\"date\": \"2016-09-27T00:00:00\", \"priceavg\": 28278.593098958332, \"shock\": 0}, {\"date\": \"2016-09-28T00:00:00\", \"priceavg\": 28289.890625, \"shock\": 0}, {\"date\": \"2016-09-29T00:00:00\", \"priceavg\": 28007.673177083332, \"shock\": 0}, {\"date\": \"2016-09-30T00:00:00\", \"priceavg\": 27845.983723958332, \"shock\": 0}, {\"date\": \"2016-10-03T00:00:00\", \"priceavg\": 28145.399739583332, \"shock\": 0}, {\"date\": \"2016-10-04T00:00:00\", \"priceavg\": 28327.166666666668, \"shock\": 0}, {\"date\": \"2016-10-05T00:00:00\", \"priceavg\": 28295.84375, \"shock\": 0}, {\"date\": \"2016-10-06T00:00:00\", \"priceavg\": 28155.330729166668, \"shock\": 0}, {\"date\": \"2016-10-07T00:00:00\", \"priceavg\": 28060.576822916668, \"shock\": 0}, {\"date\": \"2016-10-10T00:00:00\", \"priceavg\": 28122.43359375, \"shock\": 0}, {\"date\": \"2016-10-13T00:00:00\", \"priceavg\": 27749.856119791668, \"shock\": 0}, {\"date\": \"2016-10-14T00:00:00\", \"priceavg\": 27661.772786458332, \"shock\": 0}, {\"date\": \"2016-10-17T00:00:00\", \"priceavg\": 27607.160807291668, \"shock\": 0}, {\"date\": \"2016-10-18T00:00:00\", \"priceavg\": 27922.677083333332, \"shock\": 0}, {\"date\": \"2016-10-19T00:00:00\", \"priceavg\": 28013.869791666668, \"shock\": 0}, {\"date\": \"2016-10-20T00:00:00\", \"priceavg\": 28124.63671875, \"shock\": 0}, {\"date\": \"2016-10-21T00:00:00\", \"priceavg\": 28066.169921875, \"shock\": 0}, {\"date\": \"2016-10-24T00:00:00\", \"priceavg\": 28170.559895833332, \"shock\": 0}, {\"date\": \"2016-10-25T00:00:00\", \"priceavg\": 28105.506510416668, \"shock\": 0}, {\"date\": \"2016-10-26T00:00:00\", \"priceavg\": 27882.20703125, \"shock\": 0}, {\"date\": \"2016-10-27T00:00:00\", \"priceavg\": 27846.543619791668, \"shock\": 0}, {\"date\": \"2016-10-28T00:00:00\", \"priceavg\": 27910.496744791668, \"shock\": 0}, {\"date\": \"2016-11-01T00:00:00\", \"priceavg\": 27917.347005208332, \"shock\": 0}, {\"date\": \"2016-11-02T00:00:00\", \"priceavg\": 27569.1171875, \"shock\": 0}, {\"date\": \"2016-11-03T00:00:00\", \"priceavg\": 27476.759765625, \"shock\": 0}, {\"date\": \"2016-11-04T00:00:00\", \"priceavg\": 27322.223307291668, \"shock\": 0}, {\"date\": \"2016-11-07T00:00:00\", \"priceavg\": 27441.430338541668, \"shock\": 0}, {\"date\": \"2016-11-08T00:00:00\", \"priceavg\": 27548.246744791668, \"shock\": 0}, {\"date\": \"2016-11-09T00:00:00\", \"priceavg\": 26850.786458333332, \"shock\": 0}, {\"date\": \"2016-11-10T00:00:00\", \"priceavg\": 27504.556640625, \"shock\": 0}, {\"date\": \"2016-11-11T00:00:00\", \"priceavg\": 26980.283203125, \"shock\": 0}, {\"date\": \"2016-11-15T00:00:00\", \"priceavg\": 26455.95703125, \"shock\": 0}, {\"date\": \"2016-11-16T00:00:00\", \"priceavg\": 26386.43359375, \"shock\": 0}, {\"date\": \"2016-11-17T00:00:00\", \"priceavg\": 26277.629557291668, \"shock\": 0}, {\"date\": \"2016-11-18T00:00:00\", \"priceavg\": 26202.013020833332, \"shock\": 0}, {\"date\": \"2016-11-21T00:00:00\", \"priceavg\": 25917.783203125, \"shock\": 0}, {\"date\": \"2016-11-22T00:00:00\", \"priceavg\": 25921.99609375, \"shock\": 0}, {\"date\": \"2016-11-23T00:00:00\", \"priceavg\": 26019.8203125, \"shock\": 0}, {\"date\": \"2016-11-24T00:00:00\", \"priceavg\": 25906.760416666668, \"shock\": 0}, {\"date\": \"2016-11-25T00:00:00\", \"priceavg\": 26178.24609375, \"shock\": 0}, {\"date\": \"2016-11-28T00:00:00\", \"priceavg\": 26315.793619791668, \"shock\": 0}, {\"date\": \"2016-11-29T00:00:00\", \"priceavg\": 26445.246744791668, \"shock\": 0}, {\"date\": \"2016-11-30T00:00:00\", \"priceavg\": 26576.287109375, \"shock\": 0}, {\"date\": \"2016-12-01T00:00:00\", \"priceavg\": 26623.353515625, \"shock\": 0}, {\"date\": \"2016-12-02T00:00:00\", \"priceavg\": 26292.216796875, \"shock\": 0}, {\"date\": \"2016-12-05T00:00:00\", \"priceavg\": 26288.416666666668, \"shock\": 0}, {\"date\": \"2016-12-06T00:00:00\", \"priceavg\": 26417.069661458332, \"shock\": 0}, {\"date\": \"2016-12-07T00:00:00\", \"priceavg\": 26314.173177083332, \"shock\": 0}, {\"date\": \"2016-12-08T00:00:00\", \"priceavg\": 26595.166015625, \"shock\": 0}, {\"date\": \"2016-12-09T00:00:00\", \"priceavg\": 26752.916666666668, \"shock\": 0}, {\"date\": \"2016-12-12T00:00:00\", \"priceavg\": 26569.713541666668, \"shock\": 0}, {\"date\": \"2016-12-13T00:00:00\", \"priceavg\": 26639.007161458332, \"shock\": 0}, {\"date\": \"2016-12-14T00:00:00\", \"priceavg\": 26628.743489583332, \"shock\": 0}, {\"date\": \"2016-12-15T00:00:00\", \"priceavg\": 26554.836588541668, \"shock\": 0}, {\"date\": \"2016-12-16T00:00:00\", \"priceavg\": 26513.107421875, \"shock\": 0}, {\"date\": \"2016-12-19T00:00:00\", \"priceavg\": 26406.913411458332, \"shock\": 0}, {\"date\": \"2016-12-20T00:00:00\", \"priceavg\": 26328.323567708332, \"shock\": 0}, {\"date\": \"2016-12-21T00:00:00\", \"priceavg\": 26283.963541666668, \"shock\": 0}, {\"date\": \"2016-12-22T00:00:00\", \"priceavg\": 26056.063151041668, \"shock\": 0}, {\"date\": \"2016-12-23T00:00:00\", \"priceavg\": 26018.756510416668, \"shock\": 0}, {\"date\": \"2016-12-26T00:00:00\", \"priceavg\": 25856.470052083332, \"shock\": 0}, {\"date\": \"2016-12-27T00:00:00\", \"priceavg\": 26088.552734375, \"shock\": 0}, {\"date\": \"2016-12-28T00:00:00\", \"priceavg\": 26272.483723958332, \"shock\": 0}, {\"date\": \"2016-12-29T00:00:00\", \"priceavg\": 26320.817057291668, \"shock\": 0}, {\"date\": \"2016-12-30T00:00:00\", \"priceavg\": 26570.529947916668, \"shock\": 0}, {\"date\": \"2017-01-02T00:00:00\", \"priceavg\": 26587.830078125, \"shock\": 0}, {\"date\": \"2017-01-03T00:00:00\", \"priceavg\": 26618.669921875, \"shock\": 0}, {\"date\": \"2017-01-04T00:00:00\", \"priceavg\": 26654.186848958332, \"shock\": 0}, {\"date\": \"2017-01-05T00:00:00\", \"priceavg\": 26844.623697916668, \"shock\": 0}, {\"date\": \"2017-01-06T00:00:00\", \"priceavg\": 26834.056640625, \"shock\": 0}, {\"date\": \"2017-01-09T00:00:00\", \"priceavg\": 26762.870442708332, \"shock\": 0}, {\"date\": \"2017-01-10T00:00:00\", \"priceavg\": 26872.893229166668, \"shock\": 0}, {\"date\": \"2017-01-11T00:00:00\", \"priceavg\": 27097.90625, \"shock\": 0}, {\"date\": \"2017-01-12T00:00:00\", \"priceavg\": 27230.926432291668, \"shock\": 0}, {\"date\": \"2017-01-13T00:00:00\", \"priceavg\": 27280.293619791668, \"shock\": 0}, {\"date\": \"2017-01-16T00:00:00\", \"priceavg\": 27265.309895833332, \"shock\": 0}, {\"date\": \"2017-01-17T00:00:00\", \"priceavg\": 27265.426432291668, \"shock\": 0}, {\"date\": \"2017-01-18T00:00:00\", \"priceavg\": 27299.3203125, \"shock\": 0}, {\"date\": \"2017-01-19T00:00:00\", \"priceavg\": 27292.2265625, \"shock\": 0}, {\"date\": \"2017-01-20T00:00:00\", \"priceavg\": 27102.906901041668, \"shock\": 0}, {\"date\": \"2017-01-23T00:00:00\", \"priceavg\": 27082.902994791668, \"shock\": 0}, {\"date\": \"2017-01-24T00:00:00\", \"priceavg\": 27303.259765625, \"shock\": 0}, {\"date\": \"2017-01-25T00:00:00\", \"priceavg\": 27628.216796875, \"shock\": 0}, {\"date\": \"2017-01-27T00:00:00\", \"priceavg\": 27874.110677083332, \"shock\": 0}, {\"date\": \"2017-01-30T00:00:00\", \"priceavg\": 27870.083333333332, \"shock\": 0}, {\"date\": \"2017-01-31T00:00:00\", \"priceavg\": 27716.139973958332, \"shock\": 0}, {\"date\": \"2017-02-01T00:00:00\", \"priceavg\": 27963.759765625, \"shock\": 0}, {\"date\": \"2017-02-02T00:00:00\", \"priceavg\": 28199.11328125, \"shock\": 0}, {\"date\": \"2017-02-03T00:00:00\", \"priceavg\": 28216.093098958332, \"shock\": 0}, {\"date\": \"2017-02-06T00:00:00\", \"priceavg\": 28422.31640625, \"shock\": 0}, {\"date\": \"2017-02-07T00:00:00\", \"priceavg\": 28352.563151041668, \"shock\": 0}, {\"date\": \"2017-02-08T00:00:00\", \"priceavg\": 28276.880208333332, \"shock\": 0}, {\"date\": \"2017-02-09T00:00:00\", \"priceavg\": 28317.119791666668, \"shock\": 0}, {\"date\": \"2017-02-10T00:00:00\", \"priceavg\": 28359.076822916668, \"shock\": 0}, {\"date\": \"2017-02-13T00:00:00\", \"priceavg\": 28335.93359375, \"shock\": 0}, {\"date\": \"2017-02-14T00:00:00\", \"priceavg\": 28332.059895833332, \"shock\": 0}, {\"date\": \"2017-02-15T00:00:00\", \"priceavg\": 28213.370442708332, \"shock\": 0}, {\"date\": \"2017-02-16T00:00:00\", \"priceavg\": 28258.432942708332, \"shock\": 0}, {\"date\": \"2017-02-17T00:00:00\", \"priceavg\": 28535.306640625, \"shock\": 0}, {\"date\": \"2017-02-20T00:00:00\", \"priceavg\": 28592.459635416668, \"shock\": 0}, {\"date\": \"2017-02-21T00:00:00\", \"priceavg\": 28719.973307291668, \"shock\": 0}, {\"date\": \"2017-02-22T00:00:00\", \"priceavg\": 28872.510416666668, \"shock\": 0}, {\"date\": \"2017-02-23T00:00:00\", \"priceavg\": 28939.580729166668, \"shock\": 0}, {\"date\": \"2017-02-27T00:00:00\", \"priceavg\": 28855.300130208332, \"shock\": 0}, {\"date\": \"2017-02-28T00:00:00\", \"priceavg\": 28780.326171875, \"shock\": 0}, {\"date\": \"2017-03-01T00:00:00\", \"priceavg\": 28945.943359375, \"shock\": 0}, {\"date\": \"2017-03-02T00:00:00\", \"priceavg\": 28923.239583333332, \"shock\": 0}, {\"date\": \"2017-03-03T00:00:00\", \"priceavg\": 28802.930338541668, \"shock\": 0}, {\"date\": \"2017-03-06T00:00:00\", \"priceavg\": 28991.502604166668, \"shock\": 0}, {\"date\": \"2017-03-07T00:00:00\", \"priceavg\": 29018.470052083332, \"shock\": 0}, {\"date\": \"2017-03-08T00:00:00\", \"priceavg\": 28913.246744791668, \"shock\": 0}, {\"date\": \"2017-03-09T00:00:00\", \"priceavg\": 28910.290364583332, \"shock\": 0}, {\"date\": \"2017-03-10T00:00:00\", \"priceavg\": 28957.966796875, \"shock\": 0}, {\"date\": \"2017-03-14T00:00:00\", \"priceavg\": 29453.537109375, \"shock\": 0}, {\"date\": \"2017-03-15T00:00:00\", \"priceavg\": 29419.033203125, \"shock\": 0}, {\"date\": \"2017-03-16T00:00:00\", \"priceavg\": 29561.15625, \"shock\": 0}, {\"date\": \"2017-03-17T00:00:00\", \"priceavg\": 29691.822916666668, \"shock\": 0}, {\"date\": \"2017-03-20T00:00:00\", \"priceavg\": 29566.873697916668, \"shock\": 0}, {\"date\": \"2017-03-21T00:00:00\", \"priceavg\": 29483.546875, \"shock\": 0}, {\"date\": \"2017-03-22T00:00:00\", \"priceavg\": 29215.5234375, \"shock\": 0}, {\"date\": \"2017-03-23T00:00:00\", \"priceavg\": 29301.343098958332, \"shock\": 0}, {\"date\": \"2017-03-24T00:00:00\", \"priceavg\": 29437.139973958332, \"shock\": 0}, {\"date\": \"2017-03-27T00:00:00\", \"priceavg\": 29273.796223958332, \"shock\": 0}, {\"date\": \"2017-03-28T00:00:00\", \"priceavg\": 29384.306640625, \"shock\": 0}, {\"date\": \"2017-03-29T00:00:00\", \"priceavg\": 29508.413411458332, \"shock\": 0}, {\"date\": \"2017-03-30T00:00:00\", \"priceavg\": 29617.869791666668, \"shock\": 0}, {\"date\": \"2017-03-31T00:00:00\", \"priceavg\": 29620.25, \"shock\": 0}, {\"date\": \"2017-04-03T00:00:00\", \"priceavg\": 29847.626953125, \"shock\": 0}, {\"date\": \"2017-04-05T00:00:00\", \"priceavg\": 29933.13671875, \"shock\": 0}, {\"date\": \"2017-04-06T00:00:00\", \"priceavg\": 29899.7265625, \"shock\": 0}, {\"date\": \"2017-04-07T00:00:00\", \"priceavg\": 29753.725911458332, \"shock\": 0}, {\"date\": \"2017-04-10T00:00:00\", \"priceavg\": 29653.366536458332, \"shock\": 0}, {\"date\": \"2017-04-11T00:00:00\", \"priceavg\": 29721.146484375, \"shock\": 0}, {\"date\": \"2017-04-12T00:00:00\", \"priceavg\": 29677.347005208332, \"shock\": 0}, {\"date\": \"2017-04-13T00:00:00\", \"priceavg\": 29521.396484375, \"shock\": 0}, {\"date\": \"2017-04-17T00:00:00\", \"priceavg\": 29423.673177083332, \"shock\": 0}, {\"date\": \"2017-04-18T00:00:00\", \"priceavg\": 29435.556640625, \"shock\": 0}, {\"date\": \"2017-04-19T00:00:00\", \"priceavg\": 29322.100260416668, \"shock\": 0}, {\"date\": \"2017-04-20T00:00:00\", \"priceavg\": 29405.710286458332, \"shock\": 0}, {\"date\": \"2017-04-21T00:00:00\", \"priceavg\": 29403.020182291668, \"shock\": 0}, {\"date\": \"2017-04-24T00:00:00\", \"priceavg\": 29576.720052083332, \"shock\": 0}, {\"date\": \"2017-04-25T00:00:00\", \"priceavg\": 29895.300130208332, \"shock\": 0}, {\"date\": \"2017-04-26T00:00:00\", \"priceavg\": 30089.669921875, \"shock\": 0}, {\"date\": \"2017-04-27T00:00:00\", \"priceavg\": 30062.453776041668, \"shock\": 0}, {\"date\": \"2017-04-28T00:00:00\", \"priceavg\": 29944.750651041668, \"shock\": 0}, {\"date\": \"2017-05-02T00:00:00\", \"priceavg\": 29931.513020833332, \"shock\": 0}, {\"date\": \"2017-05-03T00:00:00\", \"priceavg\": 29920.653645833332, \"shock\": 0}, {\"date\": \"2017-05-04T00:00:00\", \"priceavg\": 30101.186848958332, \"shock\": 0}, {\"date\": \"2017-05-05T00:00:00\", \"priceavg\": 29952.983723958332, \"shock\": 0}, {\"date\": \"2017-05-08T00:00:00\", \"priceavg\": 29939.866536458332, \"shock\": 0}, {\"date\": \"2017-05-09T00:00:00\", \"priceavg\": 29954.169921875, \"shock\": 0}, {\"date\": \"2017-05-10T00:00:00\", \"priceavg\": 30169.069661458332, \"shock\": 0}, {\"date\": \"2017-05-11T00:00:00\", \"priceavg\": 30274.83984375, \"shock\": 0}, {\"date\": \"2017-05-12T00:00:00\", \"priceavg\": 30199.779947916668, \"shock\": 0}, {\"date\": \"2017-05-15T00:00:00\", \"priceavg\": 30317.899739583332, \"shock\": 0}, {\"date\": \"2017-05-16T00:00:00\", \"priceavg\": 30512.506510416668, \"shock\": 0}, {\"date\": \"2017-05-17T00:00:00\", \"priceavg\": 30623.453125, \"shock\": 0}, {\"date\": \"2017-05-18T00:00:00\", \"priceavg\": 30468.11328125, \"shock\": 0}, {\"date\": \"2017-05-19T00:00:00\", \"priceavg\": 30505.263020833332, \"shock\": 0}, {\"date\": \"2017-05-22T00:00:00\", \"priceavg\": 30599.996744791668, \"shock\": 0}, {\"date\": \"2017-05-23T00:00:00\", \"priceavg\": 30430.936848958332, \"shock\": 0}, {\"date\": \"2017-05-24T00:00:00\", \"priceavg\": 30361.130208333332, \"shock\": 0}, {\"date\": \"2017-05-25T00:00:00\", \"priceavg\": 30631.90625, \"shock\": 0}, {\"date\": \"2017-05-26T00:00:00\", \"priceavg\": 30949.283854166668, \"shock\": 0}, {\"date\": \"2017-05-29T00:00:00\", \"priceavg\": 31064.5234375, \"shock\": 0}, {\"date\": \"2017-05-30T00:00:00\", \"priceavg\": 31147.940104166668, \"shock\": 0}, {\"date\": \"2017-05-31T00:00:00\", \"priceavg\": 31169.520182291668, \"shock\": 0}, {\"date\": \"2017-06-01T00:00:00\", \"priceavg\": 31137.576171875, \"shock\": 0}, {\"date\": \"2017-06-02T00:00:00\", \"priceavg\": 31265.416666666668, \"shock\": 0}, {\"date\": \"2017-06-05T00:00:00\", \"priceavg\": 31287.710286458332, \"shock\": 0}, {\"date\": \"2017-06-06T00:00:00\", \"priceavg\": 31264.477213541668, \"shock\": 0}, {\"date\": \"2017-06-07T00:00:00\", \"priceavg\": 31263.75, \"shock\": 0}, {\"date\": \"2017-06-08T00:00:00\", \"priceavg\": 31253.879557291668, \"shock\": 0}, {\"date\": \"2017-06-09T00:00:00\", \"priceavg\": 31213.110026041668, \"shock\": 0}, {\"date\": \"2017-06-12T00:00:00\", \"priceavg\": 31121.802734375, \"shock\": 0}, {\"date\": \"2017-06-13T00:00:00\", \"priceavg\": 31142.199869791668, \"shock\": 0}, {\"date\": \"2017-06-14T00:00:00\", \"priceavg\": 31133.736328125, \"shock\": 0}, {\"date\": \"2017-06-15T00:00:00\", \"priceavg\": 31110.550130208332, \"shock\": 0}, {\"date\": \"2017-06-16T00:00:00\", \"priceavg\": 31085.436848958332, \"shock\": 0}, {\"date\": \"2017-06-19T00:00:00\", \"priceavg\": 31279.0234375, \"shock\": 0}, {\"date\": \"2017-06-20T00:00:00\", \"priceavg\": 31317.182942708332, \"shock\": 0}, {\"date\": \"2017-06-21T00:00:00\", \"priceavg\": 31271.229817708332, \"shock\": 0}, {\"date\": \"2017-06-22T00:00:00\", \"priceavg\": 31356.413411458332, \"shock\": 0}, {\"date\": \"2017-06-23T00:00:00\", \"priceavg\": 31204.6640625, \"shock\": 0}, {\"date\": \"2017-06-27T00:00:00\", \"priceavg\": 31033.430338541668, \"shock\": 0}, {\"date\": \"2017-06-28T00:00:00\", \"priceavg\": 30877.833333333332, \"shock\": 0}, {\"date\": \"2017-06-29T00:00:00\", \"priceavg\": 30916.682942708332, \"shock\": 0}, {\"date\": \"2017-06-30T00:00:00\", \"priceavg\": 30855.90625, \"shock\": 0}, {\"date\": \"2017-07-03T00:00:00\", \"priceavg\": 31165.686197916668, \"shock\": 0}, {\"date\": \"2017-07-04T00:00:00\", \"priceavg\": 31243.206380208332, \"shock\": 0}, {\"date\": \"2017-07-05T00:00:00\", \"priceavg\": 31235.993489583332, \"shock\": 0}, {\"date\": \"2017-07-06T00:00:00\", \"priceavg\": 31364.966145833332, \"shock\": 0}, {\"date\": \"2017-07-07T00:00:00\", \"priceavg\": 31357.846354166668, \"shock\": 0}, {\"date\": \"2017-07-10T00:00:00\", \"priceavg\": 31651.813802083332, \"shock\": 0}, {\"date\": \"2017-07-11T00:00:00\", \"priceavg\": 31783.559895833332, \"shock\": 0}, {\"date\": \"2017-07-12T00:00:00\", \"priceavg\": 31800.646484375, \"shock\": 0}, {\"date\": \"2017-07-13T00:00:00\", \"priceavg\": 32007.177083333332, \"shock\": 0}, {\"date\": \"2017-07-14T00:00:00\", \"priceavg\": 32009.456380208332, \"shock\": 0}, {\"date\": \"2017-07-17T00:00:00\", \"priceavg\": 32081.303385416668, \"shock\": 0}, {\"date\": \"2017-07-18T00:00:00\", \"priceavg\": 31749.6796875, \"shock\": 0}, {\"date\": \"2017-07-19T00:00:00\", \"priceavg\": 31909.3203125, \"shock\": 0}, {\"date\": \"2017-07-20T00:00:00\", \"priceavg\": 31940.33984375, \"shock\": 0}, {\"date\": \"2017-07-21T00:00:00\", \"priceavg\": 31966.68359375, \"shock\": 0}, {\"date\": \"2017-07-24T00:00:00\", \"priceavg\": 32208.352864583332, \"shock\": 0}, {\"date\": \"2017-07-25T00:00:00\", \"priceavg\": 32266.4765625, \"shock\": 0}, {\"date\": \"2017-07-26T00:00:00\", \"priceavg\": 32340.723958333332, \"shock\": 0}, {\"date\": \"2017-07-27T00:00:00\", \"priceavg\": 32460.430338541668, \"shock\": 0}, {\"date\": \"2017-07-28T00:00:00\", \"priceavg\": 32265.300130208332, \"shock\": 0}, {\"date\": \"2017-07-31T00:00:00\", \"priceavg\": 32461.962890625, \"shock\": 0}, {\"date\": \"2017-08-01T00:00:00\", \"priceavg\": 32556.479817708332, \"shock\": 0}, {\"date\": \"2017-08-02T00:00:00\", \"priceavg\": 32519.370442708332, \"shock\": 0}, {\"date\": \"2017-08-03T00:00:00\", \"priceavg\": 32311.670572916668, \"shock\": 0}, {\"date\": \"2017-08-04T00:00:00\", \"priceavg\": 32261.86328125, \"shock\": 0}, {\"date\": \"2017-08-07T00:00:00\", \"priceavg\": 32301.876953125, \"shock\": 0}, {\"date\": \"2017-08-08T00:00:00\", \"priceavg\": 32094.719401041668, \"shock\": 0}, {\"date\": \"2017-08-09T00:00:00\", \"priceavg\": 31832.343098958332, \"shock\": 0}, {\"date\": \"2017-08-10T00:00:00\", \"priceavg\": 31570.133463541668, \"shock\": 0}, {\"date\": \"2017-08-11T00:00:00\", \"priceavg\": 31240.26953125, \"shock\": 0}, {\"date\": \"2017-08-14T00:00:00\", \"priceavg\": 31424.776692708332, \"shock\": 0}, {\"date\": \"2017-08-16T00:00:00\", \"priceavg\": 31658.743489583332, \"shock\": 0}, {\"date\": \"2017-08-17T00:00:00\", \"priceavg\": 31815.690104166668, \"shock\": 0}, {\"date\": \"2017-08-18T00:00:00\", \"priceavg\": 31534.563802083332, \"shock\": 0}, {\"date\": \"2017-08-21T00:00:00\", \"priceavg\": 31373.729817708332, \"shock\": 0}, {\"date\": \"2017-08-22T00:00:00\", \"priceavg\": 31339.209635416668, \"shock\": 0}, {\"date\": \"2017-08-23T00:00:00\", \"priceavg\": 31513.550130208332, \"shock\": 0}, {\"date\": \"2017-08-24T00:00:00\", \"priceavg\": 31606.766927083332, \"shock\": 0}, {\"date\": \"2017-08-28T00:00:00\", \"priceavg\": 31754.063151041668, \"shock\": 0}, {\"date\": \"2017-08-29T00:00:00\", \"priceavg\": 31496.333984375, \"shock\": 0}, {\"date\": \"2017-08-30T00:00:00\", \"priceavg\": 31635.8203125, \"shock\": 0}, {\"date\": \"2017-08-31T00:00:00\", \"priceavg\": 31679.83984375, \"shock\": 0}, {\"date\": \"2017-09-01T00:00:00\", \"priceavg\": 31847.866536458332, \"shock\": 0}, {\"date\": \"2017-09-04T00:00:00\", \"priceavg\": 31731.58984375, \"shock\": 0}, {\"date\": \"2017-09-05T00:00:00\", \"priceavg\": 31782.417317708332, \"shock\": 0}, {\"date\": \"2017-09-06T00:00:00\", \"priceavg\": 31658.783203125, \"shock\": 0}, {\"date\": \"2017-09-07T00:00:00\", \"priceavg\": 31699.380208333332, \"shock\": 0}, {\"date\": \"2017-09-08T00:00:00\", \"priceavg\": 31690.072916666668, \"shock\": 0}, {\"date\": \"2017-09-11T00:00:00\", \"priceavg\": 31877.639973958332, \"shock\": 0}, {\"date\": \"2017-09-12T00:00:00\", \"priceavg\": 32093.787109375, \"shock\": 0}, {\"date\": \"2017-09-13T00:00:00\", \"priceavg\": 32220.493489583332, \"shock\": 0}, {\"date\": \"2017-09-14T00:00:00\", \"priceavg\": 32252.459635416668, \"shock\": 0}, {\"date\": \"2017-09-15T00:00:00\", \"priceavg\": 32255.699869791668, \"shock\": 0}, {\"date\": \"2017-09-18T00:00:00\", \"priceavg\": 32431.0234375, \"shock\": 0}, {\"date\": \"2017-09-19T00:00:00\", \"priceavg\": 32428.369791666668, \"shock\": 0}, {\"date\": \"2017-09-20T00:00:00\", \"priceavg\": 32428.0703125, \"shock\": 0}, {\"date\": \"2017-09-21T00:00:00\", \"priceavg\": 32332.356119791668, \"shock\": 0}, {\"date\": \"2017-09-22T00:00:00\", \"priceavg\": 32050.446614583332, \"shock\": 0}, {\"date\": \"2017-09-25T00:00:00\", \"priceavg\": 31705.903645833332, \"shock\": 0}, {\"date\": \"2017-09-26T00:00:00\", \"priceavg\": 31583.0, \"shock\": 0}, {\"date\": \"2017-09-27T00:00:00\", \"priceavg\": 31352.690755208332, \"shock\": 0}, {\"date\": \"2017-09-28T00:00:00\", \"priceavg\": 31235.073567708332, \"shock\": 0}, {\"date\": \"2017-09-29T00:00:00\", \"priceavg\": 31350.43359375, \"shock\": 0}, {\"date\": \"2017-10-03T00:00:00\", \"priceavg\": 31517.713541666668, \"shock\": 0}, {\"date\": \"2017-10-04T00:00:00\", \"priceavg\": 31627.216796875, \"shock\": 0}, {\"date\": \"2017-10-05T00:00:00\", \"priceavg\": 31642.229817708332, \"shock\": 0}, {\"date\": \"2017-10-06T00:00:00\", \"priceavg\": 31763.770182291668, \"shock\": 0}, {\"date\": \"2017-10-09T00:00:00\", \"priceavg\": 31854.757161458332, \"shock\": 0}, {\"date\": \"2017-10-10T00:00:00\", \"priceavg\": 31938.693359375, \"shock\": 0}, {\"date\": \"2017-10-11T00:00:00\", \"priceavg\": 31900.6171875, \"shock\": 0}, {\"date\": \"2017-10-12T00:00:00\", \"priceavg\": 32068.306640625, \"shock\": 0}, {\"date\": \"2017-10-13T00:00:00\", \"priceavg\": 32396.33984375, \"shock\": 0}, {\"date\": \"2017-10-16T00:00:00\", \"priceavg\": 32588.796875, \"shock\": 0}, {\"date\": \"2017-10-17T00:00:00\", \"priceavg\": 32621.919921875, \"shock\": 0}, {\"date\": \"2017-10-18T00:00:00\", \"priceavg\": 32572.506510416668, \"shock\": 0}, {\"date\": \"2017-10-19T00:00:00\", \"priceavg\": 32457.463541666668, \"shock\": 0}, {\"date\": \"2017-10-23T00:00:00\", \"priceavg\": 32478.1171875, \"shock\": 0}, {\"date\": \"2017-10-24T00:00:00\", \"priceavg\": 32593.263020833332, \"shock\": 0}, {\"date\": \"2017-10-25T00:00:00\", \"priceavg\": 32988.143229166664, \"shock\": 0}, {\"date\": \"2017-10-26T00:00:00\", \"priceavg\": 33059.453125, \"shock\": 0}, {\"date\": \"2017-10-27T00:00:00\", \"priceavg\": 33184.380208333336, \"shock\": 0}, {\"date\": \"2017-10-30T00:00:00\", \"priceavg\": 33271.087239583336, \"shock\": 0}, {\"date\": \"2017-10-31T00:00:00\", \"priceavg\": 33223.903645833336, \"shock\": 0}, {\"date\": \"2017-11-01T00:00:00\", \"priceavg\": 33530.803385416664, \"shock\": 0}, {\"date\": \"2017-11-02T00:00:00\", \"priceavg\": 33585.9296875, \"shock\": 0}, {\"date\": \"2017-11-03T00:00:00\", \"priceavg\": 33650.403645833336, \"shock\": 0}, {\"date\": \"2017-11-06T00:00:00\", \"priceavg\": 33720.6640625, \"shock\": 0}, {\"date\": \"2017-11-07T00:00:00\", \"priceavg\": 33526.177083333336, \"shock\": 0}, {\"date\": \"2017-11-08T00:00:00\", \"priceavg\": 33287.0625, \"shock\": 0}, {\"date\": \"2017-11-09T00:00:00\", \"priceavg\": 33275.423177083336, \"shock\": 0}, {\"date\": \"2017-11-10T00:00:00\", \"priceavg\": 33267.690104166664, \"shock\": 0}, {\"date\": \"2017-11-13T00:00:00\", \"priceavg\": 33150.279947916664, \"shock\": 0}, {\"date\": \"2017-11-14T00:00:00\", \"priceavg\": 32991.84375, \"shock\": 0}, {\"date\": \"2017-11-15T00:00:00\", \"priceavg\": 32796.323567708336, \"shock\": 0}, {\"date\": \"2017-11-16T00:00:00\", \"priceavg\": 33033.9296875, \"shock\": 0}, {\"date\": \"2017-11-17T00:00:00\", \"priceavg\": 33380.84375, \"shock\": 0}, {\"date\": \"2017-11-20T00:00:00\", \"priceavg\": 33365.880208333336, \"shock\": 0}, {\"date\": \"2017-11-21T00:00:00\", \"priceavg\": 33513.670572916664, \"shock\": 0}, {\"date\": \"2017-11-22T00:00:00\", \"priceavg\": 33560.4375, \"shock\": 0}, {\"date\": \"2017-11-23T00:00:00\", \"priceavg\": 33575.5234375, \"shock\": 0}, {\"date\": \"2017-11-24T00:00:00\", \"priceavg\": 33685.916666666664, \"shock\": 0}, {\"date\": \"2017-11-27T00:00:00\", \"priceavg\": 33670.024739583336, \"shock\": 0}, {\"date\": \"2017-11-28T00:00:00\", \"priceavg\": 33655.12890625, \"shock\": 0}, {\"date\": \"2017-11-29T00:00:00\", \"priceavg\": 33628.23046875, \"shock\": 0}, {\"date\": \"2017-11-30T00:00:00\", \"priceavg\": 33278.08984375, \"shock\": 0}, {\"date\": \"2017-12-01T00:00:00\", \"priceavg\": 32977.177083333336, \"shock\": 0}, {\"date\": \"2017-12-04T00:00:00\", \"priceavg\": 32887.983072916664, \"shock\": 0}, {\"date\": \"2017-12-05T00:00:00\", \"priceavg\": 32792.670572916664, \"shock\": 0}, {\"date\": \"2017-12-06T00:00:00\", \"priceavg\": 32655.696614583332, \"shock\": 0}, {\"date\": \"2017-12-07T00:00:00\", \"priceavg\": 32846.593098958336, \"shock\": 0}, {\"date\": \"2017-12-08T00:00:00\", \"priceavg\": 33190.059895833336, \"shock\": 0}, {\"date\": \"2017-12-11T00:00:00\", \"priceavg\": 33434.9765625, \"shock\": 0}, {\"date\": \"2017-12-12T00:00:00\", \"priceavg\": 33288.716145833336, \"shock\": 0}, {\"date\": \"2017-12-13T00:00:00\", \"priceavg\": 33148.70703125, \"shock\": 0}, {\"date\": \"2017-12-14T00:00:00\", \"priceavg\": 33151.716145833336, \"shock\": 0}, {\"date\": \"2017-12-15T00:00:00\", \"priceavg\": 33496.916666666664, \"shock\": 0}, {\"date\": \"2017-12-18T00:00:00\", \"priceavg\": 33333.069661458336, \"shock\": 0}, {\"date\": \"2017-12-19T00:00:00\", \"priceavg\": 33788.4765625, \"shock\": 0}, {\"date\": \"2017-12-20T00:00:00\", \"priceavg\": 33829.54296875, \"shock\": 0}, {\"date\": \"2017-12-21T00:00:00\", \"priceavg\": 33775.0234375, \"shock\": 0}, {\"date\": \"2017-12-22T00:00:00\", \"priceavg\": 33890.770833333336, \"shock\": 0}, {\"date\": \"2017-12-26T00:00:00\", \"priceavg\": 33987.412760416664, \"shock\": 0}, {\"date\": \"2017-12-27T00:00:00\", \"priceavg\": 33963.096354166664, \"shock\": 0}, {\"date\": \"2017-12-28T00:00:00\", \"priceavg\": 33874.5703125, \"shock\": 0}, {\"date\": \"2017-12-29T00:00:00\", \"priceavg\": 34010.756510416664, \"shock\": 0}, {\"date\": \"2018-01-01T00:00:00\", \"priceavg\": 33893.342447916664, \"shock\": 0}, {\"date\": \"2018-01-02T00:00:00\", \"priceavg\": 33826.591145833336, \"shock\": 0}, {\"date\": \"2018-01-03T00:00:00\", \"priceavg\": 33852.393229166664, \"shock\": 0}, {\"date\": \"2018-01-04T00:00:00\", \"priceavg\": 33922.389322916664, \"shock\": 0}, {\"date\": \"2018-01-05T00:00:00\", \"priceavg\": 34121.180989583336, \"shock\": 0}, {\"date\": \"2018-01-08T00:00:00\", \"priceavg\": 34318.263020833336, \"shock\": 0}, {\"date\": \"2018-01-09T00:00:00\", \"priceavg\": 34424.877604166664, \"shock\": 0}, {\"date\": \"2018-01-10T00:00:00\", \"priceavg\": 34436.776041666664, \"shock\": 0}, {\"date\": \"2018-01-11T00:00:00\", \"priceavg\": 34487.658854166664, \"shock\": 0}, {\"date\": \"2018-01-12T00:00:00\", \"priceavg\": 34524.32421875, \"shock\": 0}, {\"date\": \"2018-01-15T00:00:00\", \"priceavg\": 34831.471354166664, \"shock\": 0}, {\"date\": \"2018-01-16T00:00:00\", \"priceavg\": 34814.2109375, \"shock\": 0}, {\"date\": \"2018-01-17T00:00:00\", \"priceavg\": 34967.083333333336, \"shock\": 0}, {\"date\": \"2018-01-18T00:00:00\", \"priceavg\": 35311.36328125, \"shock\": 0}, {\"date\": \"2018-01-19T00:00:00\", \"priceavg\": 35424.970052083336, \"shock\": 0}, {\"date\": \"2018-01-22T00:00:00\", \"priceavg\": 35723.463541666664, \"shock\": 0}, {\"date\": \"2018-01-23T00:00:00\", \"priceavg\": 36058.263020833336, \"shock\": 0}, {\"date\": \"2018-01-24T00:00:00\", \"priceavg\": 36155.447916666664, \"shock\": 0}, {\"date\": \"2018-01-25T00:00:00\", \"priceavg\": 36040.270833333336, \"shock\": 0}, {\"date\": \"2018-01-29T00:00:00\", \"priceavg\": 36273.529947916664, \"shock\": 0}, {\"date\": \"2018-01-30T00:00:00\", \"priceavg\": 36106.3203125, \"shock\": 0}, {\"date\": \"2018-01-31T00:00:00\", \"priceavg\": 35944.70703125, \"shock\": 0}, {\"date\": \"2018-02-01T00:00:00\", \"priceavg\": 35888.408854166664, \"shock\": 0}, {\"date\": \"2018-02-02T00:00:00\", \"priceavg\": 35270.4296875, \"shock\": 0}, {\"date\": \"2018-02-05T00:00:00\", \"priceavg\": 34717.377604166664, \"shock\": 0}, {\"date\": \"2018-02-06T00:00:00\", \"priceavg\": 34066.587239583336, \"shock\": 0}, {\"date\": \"2018-02-07T00:00:00\", \"priceavg\": 34252.486979166664, \"shock\": 0}, {\"date\": \"2018-02-08T00:00:00\", \"priceavg\": 34385.424479166664, \"shock\": 0}, {\"date\": \"2018-02-09T00:00:00\", \"priceavg\": 33975.380208333336, \"shock\": 0}, {\"date\": \"2018-02-12T00:00:00\", \"priceavg\": 34255.643229166664, \"shock\": 0}, {\"date\": \"2018-02-14T00:00:00\", \"priceavg\": 34219.352864583336, \"shock\": 0}, {\"date\": \"2018-02-15T00:00:00\", \"priceavg\": 34339.51953125, \"shock\": 0}, {\"date\": \"2018-02-16T00:00:00\", \"priceavg\": 34158.776041666664, \"shock\": 0}, {\"date\": \"2018-02-19T00:00:00\", \"priceavg\": 33817.330729166664, \"shock\": 0}, {\"date\": \"2018-02-20T00:00:00\", \"priceavg\": 33774.143229166664, \"shock\": 0}, {\"date\": \"2018-02-21T00:00:00\", \"priceavg\": 33819.572916666664, \"shock\": 0}, {\"date\": \"2018-02-22T00:00:00\", \"priceavg\": 33793.220052083336, \"shock\": 0}, {\"date\": \"2018-02-23T00:00:00\", \"priceavg\": 34047.25, \"shock\": 0}, {\"date\": \"2018-02-26T00:00:00\", \"priceavg\": 34384.953125, \"shock\": 0}, {\"date\": \"2018-02-27T00:00:00\", \"priceavg\": 34424.016927083336, \"shock\": 0}, {\"date\": \"2018-02-28T00:00:00\", \"priceavg\": 34187.7421875, \"shock\": 0}, {\"date\": \"2018-03-01T00:00:00\", \"priceavg\": 34113.786458333336, \"shock\": 0}, {\"date\": \"2018-03-05T00:00:00\", \"priceavg\": 33811.490885416664, \"shock\": 0}, {\"date\": \"2018-03-06T00:00:00\", \"priceavg\": 33529.029947916664, \"shock\": 0}, {\"date\": \"2018-03-07T00:00:00\", \"priceavg\": 33118.48046875, \"shock\": 0}, {\"date\": \"2018-03-08T00:00:00\", \"priceavg\": 33276.33984375, \"shock\": 0}, {\"date\": \"2018-03-09T00:00:00\", \"priceavg\": 33361.016927083336, \"shock\": 0}, {\"date\": \"2018-03-12T00:00:00\", \"priceavg\": 33782.860677083336, \"shock\": 0}, {\"date\": \"2018-03-13T00:00:00\", \"priceavg\": 33885.6875, \"shock\": 0}, {\"date\": \"2018-03-14T00:00:00\", \"priceavg\": 33763.859375, \"shock\": 0}, {\"date\": \"2018-03-15T00:00:00\", \"priceavg\": 33729.700520833336, \"shock\": 0}, {\"date\": \"2018-03-16T00:00:00\", \"priceavg\": 33329.080729166664, \"shock\": 0}, {\"date\": \"2018-03-19T00:00:00\", \"priceavg\": 33018.483072916664, \"shock\": 0}, {\"date\": \"2018-03-20T00:00:00\", \"priceavg\": 32970.119791666664, \"shock\": 0}, {\"date\": \"2018-03-21T00:00:00\", \"priceavg\": 33187.213541666664, \"shock\": 0}, {\"date\": \"2018-03-22T00:00:00\", \"priceavg\": 33083.782552083336, \"shock\": 0}, {\"date\": \"2018-03-23T00:00:00\", \"priceavg\": 32600.136067708332, \"shock\": 0}, {\"date\": \"2018-03-26T00:00:00\", \"priceavg\": 32898.996744791664, \"shock\": 0}, {\"date\": \"2018-03-27T00:00:00\", \"priceavg\": 33207.51953125, \"shock\": 0}, {\"date\": \"2018-03-28T00:00:00\", \"priceavg\": 32996.81640625, \"shock\": 0}, {\"date\": \"2018-04-02T00:00:00\", \"priceavg\": 33180.859375, \"shock\": 0}, {\"date\": \"2018-04-03T00:00:00\", \"priceavg\": 33309.1328125, \"shock\": 0}, {\"date\": \"2018-04-04T00:00:00\", \"priceavg\": 33165.720052083336, \"shock\": 0}, {\"date\": \"2018-04-05T00:00:00\", \"priceavg\": 33500.70703125, \"shock\": 0}, {\"date\": \"2018-04-06T00:00:00\", \"priceavg\": 33608.6171875, \"shock\": 0}, {\"date\": \"2018-04-09T00:00:00\", \"priceavg\": 33737.983072916664, \"shock\": 0}, {\"date\": \"2018-04-10T00:00:00\", \"priceavg\": 33881.177083333336, \"shock\": 0}, {\"date\": \"2018-04-11T00:00:00\", \"priceavg\": 33890.90625, \"shock\": 0}, {\"date\": \"2018-04-12T00:00:00\", \"priceavg\": 34067.81640625, \"shock\": 0}, {\"date\": \"2018-04-13T00:00:00\", \"priceavg\": 34203.106770833336, \"shock\": 0}, {\"date\": \"2018-04-16T00:00:00\", \"priceavg\": 34182.076822916664, \"shock\": 0}, {\"date\": \"2018-04-17T00:00:00\", \"priceavg\": 34353.009114583336, \"shock\": 0}, {\"date\": \"2018-04-18T00:00:00\", \"priceavg\": 34397.842447916664, \"shock\": 0}, {\"date\": \"2018-04-19T00:00:00\", \"priceavg\": 34421.673177083336, \"shock\": 0}, {\"date\": \"2018-04-20T00:00:00\", \"priceavg\": 34404.731770833336, \"shock\": 0}, {\"date\": \"2018-04-23T00:00:00\", \"priceavg\": 34457.99609375, \"shock\": 0}, {\"date\": \"2018-04-24T00:00:00\", \"priceavg\": 34596.279947916664, \"shock\": 0}, {\"date\": \"2018-04-25T00:00:00\", \"priceavg\": 34511.032552083336, \"shock\": 0}, {\"date\": \"2018-04-26T00:00:00\", \"priceavg\": 34655.73046875, \"shock\": 0}, {\"date\": \"2018-04-27T00:00:00\", \"priceavg\": 34926.600260416664, \"shock\": 0}, {\"date\": \"2018-04-30T00:00:00\", \"priceavg\": 35125.88671875, \"shock\": 0}, {\"date\": \"2018-05-02T00:00:00\", \"priceavg\": 35201.997395833336, \"shock\": 0}, {\"date\": \"2018-05-03T00:00:00\", \"priceavg\": 35126.842447916664, \"shock\": 0}, {\"date\": \"2018-05-04T00:00:00\", \"priceavg\": 34989.846354166664, \"shock\": 0}, {\"date\": \"2018-05-07T00:00:00\", \"priceavg\": 35148.5625, \"shock\": 0}, {\"date\": \"2018-05-08T00:00:00\", \"priceavg\": 35247.067708333336, \"shock\": 0}, {\"date\": \"2018-05-09T00:00:00\", \"priceavg\": 35286.126302083336, \"shock\": 0}, {\"date\": \"2018-05-10T00:00:00\", \"priceavg\": 35316.9609375, \"shock\": 0}, {\"date\": \"2018-05-11T00:00:00\", \"priceavg\": 35464.665364583336, \"shock\": 0}, {\"date\": \"2018-05-14T00:00:00\", \"priceavg\": 35551.99609375, \"shock\": 0}, {\"date\": \"2018-05-15T00:00:00\", \"priceavg\": 35678.46484375, \"shock\": 0}, {\"date\": \"2018-05-16T00:00:00\", \"priceavg\": 35391.1328125, \"shock\": 0}, {\"date\": \"2018-05-17T00:00:00\", \"priceavg\": 35248.984375, \"shock\": 0}, {\"date\": \"2018-05-18T00:00:00\", \"priceavg\": 34944.34375, \"shock\": 0}, {\"date\": \"2018-05-21T00:00:00\", \"priceavg\": 34727.966145833336, \"shock\": 0}, {\"date\": \"2018-05-22T00:00:00\", \"priceavg\": 34652.01953125, \"shock\": 0}, {\"date\": \"2018-05-23T00:00:00\", \"priceavg\": 34438.756510416664, \"shock\": 0}, {\"date\": \"2018-05-24T00:00:00\", \"priceavg\": 34590.799479166664, \"shock\": 0}, {\"date\": \"2018-05-25T00:00:00\", \"priceavg\": 34881.106770833336, \"shock\": 0}, {\"date\": \"2018-05-28T00:00:00\", \"priceavg\": 35137.647135416664, \"shock\": 0}, {\"date\": \"2018-05-29T00:00:00\", \"priceavg\": 35035.186197916664, \"shock\": 0}, {\"date\": \"2018-05-30T00:00:00\", \"priceavg\": 34886.22265625, \"shock\": 0}, {\"date\": \"2018-05-31T00:00:00\", \"priceavg\": 35221.49609375, \"shock\": 0}, {\"date\": \"2018-06-01T00:00:00\", \"priceavg\": 35280.944010416664, \"shock\": 0}, {\"date\": \"2018-06-04T00:00:00\", \"priceavg\": 35183.243489583336, \"shock\": 0}, {\"date\": \"2018-06-05T00:00:00\", \"priceavg\": 34920.337239583336, \"shock\": 0}, {\"date\": \"2018-06-06T00:00:00\", \"priceavg\": 35101.9296875, \"shock\": 0}, {\"date\": \"2018-06-07T00:00:00\", \"priceavg\": 35456.6484375, \"shock\": 0}, {\"date\": \"2018-06-08T00:00:00\", \"priceavg\": 35396.204427083336, \"shock\": 0}, {\"date\": \"2018-06-11T00:00:00\", \"priceavg\": 35544.265625, \"shock\": 0}, {\"date\": \"2018-06-12T00:00:00\", \"priceavg\": 35638.22265625, \"shock\": 0}, {\"date\": \"2018-06-13T00:00:00\", \"priceavg\": 35777.510416666664, \"shock\": 0}, {\"date\": \"2018-06-14T00:00:00\", \"priceavg\": 35612.75, \"shock\": 0}, {\"date\": \"2018-06-15T00:00:00\", \"priceavg\": 35572.33984375, \"shock\": 0}, {\"date\": \"2018-06-18T00:00:00\", \"priceavg\": 35596.180989583336, \"shock\": 0}, {\"date\": \"2018-06-19T00:00:00\", \"priceavg\": 35362.755208333336, \"shock\": 0}, {\"date\": \"2018-06-20T00:00:00\", \"priceavg\": 35482.736979166664, \"shock\": 0}, {\"date\": \"2018-06-21T00:00:00\", \"priceavg\": 35502.68359375, \"shock\": 0}, {\"date\": \"2018-06-22T00:00:00\", \"priceavg\": 35591.783854166664, \"shock\": 0}, {\"date\": \"2018-06-25T00:00:00\", \"priceavg\": 35569.143229166664, \"shock\": 0}, {\"date\": \"2018-06-26T00:00:00\", \"priceavg\": 35481.58984375, \"shock\": 0}, {\"date\": \"2018-06-27T00:00:00\", \"priceavg\": 35330.057291666664, \"shock\": 0}, {\"date\": \"2018-06-28T00:00:00\", \"priceavg\": 35085.729166666664, \"shock\": 0}, {\"date\": \"2018-06-29T00:00:00\", \"priceavg\": 35327.393229166664, \"shock\": 0}, {\"date\": \"2018-07-02T00:00:00\", \"priceavg\": 35316.40625, \"shock\": 0}, {\"date\": \"2018-07-03T00:00:00\", \"priceavg\": 35339.813802083336, \"shock\": 0}, {\"date\": \"2018-07-04T00:00:00\", \"priceavg\": 35540.79296875, \"shock\": 0}, {\"date\": \"2018-07-05T00:00:00\", \"priceavg\": 35613.533854166664, \"shock\": 0}, {\"date\": \"2018-07-06T00:00:00\", \"priceavg\": 35663.260416666664, \"shock\": 0}, {\"date\": \"2018-07-09T00:00:00\", \"priceavg\": 35897.26953125, \"shock\": 0}, {\"date\": \"2018-07-10T00:00:00\", \"priceavg\": 36177.859375, \"shock\": 0}, {\"date\": \"2018-07-11T00:00:00\", \"priceavg\": 36265.9765625, \"shock\": 0}, {\"date\": \"2018-07-12T00:00:00\", \"priceavg\": 36556.673177083336, \"shock\": 0}, {\"date\": \"2018-07-13T00:00:00\", \"priceavg\": 36594.436197916664, \"shock\": 0}, {\"date\": \"2018-07-16T00:00:00\", \"priceavg\": 36427.140625, \"shock\": 0}, {\"date\": \"2018-07-17T00:00:00\", \"priceavg\": 36443.764322916664, \"shock\": 0}, {\"date\": \"2018-07-18T00:00:00\", \"priceavg\": 36480.744791666664, \"shock\": 0}, {\"date\": \"2018-07-19T00:00:00\", \"priceavg\": 36382.045572916664, \"shock\": 0}, {\"date\": \"2018-07-20T00:00:00\", \"priceavg\": 36466.440104166664, \"shock\": 0}, {\"date\": \"2018-07-23T00:00:00\", \"priceavg\": 36653.373697916664, \"shock\": 0}, {\"date\": \"2018-07-24T00:00:00\", \"priceavg\": 36812.29296875, \"shock\": 0}, {\"date\": \"2018-07-25T00:00:00\", \"priceavg\": 36869.51953125, \"shock\": 0}, {\"date\": \"2018-07-26T00:00:00\", \"priceavg\": 36966.264322916664, \"shock\": 0}, {\"date\": \"2018-07-27T00:00:00\", \"priceavg\": 37280.1171875, \"shock\": 0}, {\"date\": \"2018-07-30T00:00:00\", \"priceavg\": 37440.115885416664, \"shock\": 0}, {\"date\": \"2018-07-31T00:00:00\", \"priceavg\": 37516.639322916664, \"shock\": 0}, {\"date\": \"2018-08-01T00:00:00\", \"priceavg\": 37555.467447916664, \"shock\": 0}, {\"date\": \"2018-08-02T00:00:00\", \"priceavg\": 37274.61328125, \"shock\": 0}, {\"date\": \"2018-08-03T00:00:00\", \"priceavg\": 37486.013020833336, \"shock\": 0}, {\"date\": \"2018-08-06T00:00:00\", \"priceavg\": 37713.4765625, \"shock\": 0}, {\"date\": \"2018-08-07T00:00:00\", \"priceavg\": 37709.850260416664, \"shock\": 0}, {\"date\": \"2018-08-08T00:00:00\", \"priceavg\": 37820.126302083336, \"shock\": 0}, {\"date\": \"2018-08-09T00:00:00\", \"priceavg\": 38013.294270833336, \"shock\": 0}, {\"date\": \"2018-08-10T00:00:00\", \"priceavg\": 37912.143229166664, \"shock\": 0}, {\"date\": \"2018-08-13T00:00:00\", \"priceavg\": 37667.899739583336, \"shock\": 0}, {\"date\": \"2018-08-14T00:00:00\", \"priceavg\": 37824.703125, \"shock\": 0}, {\"date\": \"2018-08-16T00:00:00\", \"priceavg\": 37729.869791666664, \"shock\": 0}, {\"date\": \"2018-08-17T00:00:00\", \"priceavg\": 37936.786458333336, \"shock\": 0}, {\"date\": \"2018-08-20T00:00:00\", \"priceavg\": 38223.377604166664, \"shock\": 0}, {\"date\": \"2018-08-21T00:00:00\", \"priceavg\": 38300.860677083336, \"shock\": 0}, {\"date\": \"2018-08-23T00:00:00\", \"priceavg\": 38350.583333333336, \"shock\": 0}, {\"date\": \"2018-08-24T00:00:00\", \"priceavg\": 38284.690104166664, \"shock\": 0}, {\"date\": \"2018-08-27T00:00:00\", \"priceavg\": 38615.90625, \"shock\": 0}, {\"date\": \"2018-08-28T00:00:00\", \"priceavg\": 38865.372395833336, \"shock\": 0}, {\"date\": \"2018-08-29T00:00:00\", \"priceavg\": 38797.3828125, \"shock\": 0}, {\"date\": \"2018-08-30T00:00:00\", \"priceavg\": 38696.99609375, \"shock\": 0}, {\"date\": \"2018-08-31T00:00:00\", \"priceavg\": 38681.91015625, \"shock\": 0}, {\"date\": \"2018-09-03T00:00:00\", \"priceavg\": 38505.627604166664, \"shock\": 0}, {\"date\": \"2018-09-04T00:00:00\", \"priceavg\": 38258.360677083336, \"shock\": 0}, {\"date\": \"2018-09-05T00:00:00\", \"priceavg\": 38014.446614583336, \"shock\": 0}, {\"date\": \"2018-09-06T00:00:00\", \"priceavg\": 38158.756510416664, \"shock\": 0}, {\"date\": \"2018-09-07T00:00:00\", \"priceavg\": 38292.865885416664, \"shock\": 0}, {\"date\": \"2018-09-10T00:00:00\", \"priceavg\": 38053.173177083336, \"shock\": 0}, {\"date\": \"2018-09-11T00:00:00\", \"priceavg\": 37605.865885416664, \"shock\": 0}, {\"date\": \"2018-09-12T00:00:00\", \"priceavg\": 37604.1796875, \"shock\": 0}, {\"date\": \"2018-09-14T00:00:00\", \"priceavg\": 38025.260416666664, \"shock\": 0}, {\"date\": \"2018-09-17T00:00:00\", \"priceavg\": 37720.75, \"shock\": 0}, {\"date\": \"2018-09-18T00:00:00\", \"priceavg\": 37426.321614583336, \"shock\": 0}, {\"date\": \"2018-09-19T00:00:00\", \"priceavg\": 37238.1796875, \"shock\": 0}, {\"date\": \"2018-09-21T00:00:00\", \"priceavg\": 36774.826822916664, \"shock\": 0}, {\"date\": \"2018-09-24T00:00:00\", \"priceavg\": 36489.15625, \"shock\": 0}, {\"date\": \"2018-09-25T00:00:00\", \"priceavg\": 36473.983072916664, \"shock\": 0}, {\"date\": \"2018-09-26T00:00:00\", \"priceavg\": 36612.979166666664, \"shock\": 0}, {\"date\": \"2018-09-27T00:00:00\", \"priceavg\": 36424.674479166664, \"shock\": 0}, {\"date\": \"2018-09-28T00:00:00\", \"priceavg\": 36254.876302083336, \"shock\": 0}, {\"date\": \"2018-10-01T00:00:00\", \"priceavg\": 36367.809895833336, \"shock\": 0}, {\"date\": \"2018-10-03T00:00:00\", \"priceavg\": 36163.43359375, \"shock\": 0}, {\"date\": \"2018-10-04T00:00:00\", \"priceavg\": 35337.270833333336, \"shock\": 0}, {\"date\": \"2018-10-05T00:00:00\", \"priceavg\": 34565.915364583336, \"shock\": 0}, {\"date\": \"2018-10-08T00:00:00\", \"priceavg\": 34361.822916666664, \"shock\": 0}, {\"date\": \"2018-10-09T00:00:00\", \"priceavg\": 34414.8828125, \"shock\": 0}, {\"date\": \"2018-10-10T00:00:00\", \"priceavg\": 34655.247395833336, \"shock\": 0}, {\"date\": \"2018-10-11T00:00:00\", \"priceavg\": 34016.619791666664, \"shock\": 0}, {\"date\": \"2018-10-12T00:00:00\", \"priceavg\": 34607.260416666664, \"shock\": 0}, {\"date\": \"2018-10-15T00:00:00\", \"priceavg\": 34811.243489583336, \"shock\": 0}, {\"date\": \"2018-10-16T00:00:00\", \"priceavg\": 35097.109375, \"shock\": 0}, {\"date\": \"2018-10-17T00:00:00\", \"priceavg\": 35037.389322916664, \"shock\": 0}, {\"date\": \"2018-10-19T00:00:00\", \"priceavg\": 34339.74609375, \"shock\": 0}, {\"date\": \"2018-10-22T00:00:00\", \"priceavg\": 34321.944010416664, \"shock\": 0}, {\"date\": \"2018-10-23T00:00:00\", \"priceavg\": 33887.967447916664, \"shock\": 0}, {\"date\": \"2018-10-24T00:00:00\", \"priceavg\": 34020.333333333336, \"shock\": 0}, {\"date\": \"2018-10-25T00:00:00\", \"priceavg\": 33694.010416666664, \"shock\": 0}, {\"date\": \"2018-10-26T00:00:00\", \"priceavg\": 33472.5625, \"shock\": 0}, {\"date\": \"2018-10-29T00:00:00\", \"priceavg\": 33854.600260416664, \"shock\": 0}, {\"date\": \"2018-10-30T00:00:00\", \"priceavg\": 33955.759114583336, \"shock\": 0}, {\"date\": \"2018-10-31T00:00:00\", \"priceavg\": 34164.22265625, \"shock\": 0}, {\"date\": \"2018-11-01T00:00:00\", \"priceavg\": 34471.759114583336, \"shock\": 0}, {\"date\": \"2018-11-02T00:00:00\", \"priceavg\": 34950.549479166664, \"shock\": 0}, {\"date\": \"2018-11-05T00:00:00\", \"priceavg\": 34961.977864583336, \"shock\": 0}, {\"date\": \"2018-11-06T00:00:00\", \"priceavg\": 35025.88671875, \"shock\": 0}, {\"date\": \"2018-11-07T00:00:00\", \"priceavg\": 35241.033854166664, \"shock\": 0}, {\"date\": \"2018-11-09T00:00:00\", \"priceavg\": 35152.356770833336, \"shock\": 0}, {\"date\": \"2018-11-12T00:00:00\", \"priceavg\": 34967.669270833336, \"shock\": 0}, {\"date\": \"2018-11-13T00:00:00\", \"priceavg\": 35001.479166666664, \"shock\": 0}, {\"date\": \"2018-11-14T00:00:00\", \"priceavg\": 35160.2421875, \"shock\": 0}, {\"date\": \"2018-11-15T00:00:00\", \"priceavg\": 35260.3203125, \"shock\": 0}, {\"date\": \"2018-11-16T00:00:00\", \"priceavg\": 35442.4609375, \"shock\": 0}, {\"date\": \"2018-11-19T00:00:00\", \"priceavg\": 35701.602864583336, \"shock\": 0}, {\"date\": \"2018-11-20T00:00:00\", \"priceavg\": 35540.787760416664, \"shock\": 0}, {\"date\": \"2018-11-21T00:00:00\", \"priceavg\": 35268.846354166664, \"shock\": 0}, {\"date\": \"2018-11-22T00:00:00\", \"priceavg\": 35094.5, \"shock\": 0}, {\"date\": \"2018-11-26T00:00:00\", \"priceavg\": 35215.795572916664, \"shock\": 0}, {\"date\": \"2018-11-27T00:00:00\", \"priceavg\": 35443.756510416664, \"shock\": 0}, {\"date\": \"2018-11-28T00:00:00\", \"priceavg\": 35714.81640625, \"shock\": 0}, {\"date\": \"2018-11-29T00:00:00\", \"priceavg\": 36123.5, \"shock\": 0}, {\"date\": \"2018-11-30T00:00:00\", \"priceavg\": 36222.162760416664, \"shock\": 0}, {\"date\": \"2018-12-03T00:00:00\", \"priceavg\": 36262.279947916664, \"shock\": 0}, {\"date\": \"2018-12-04T00:00:00\", \"priceavg\": 36155.513020833336, \"shock\": 0}, {\"date\": \"2018-12-05T00:00:00\", \"priceavg\": 35903.622395833336, \"shock\": 0}, {\"date\": \"2018-12-06T00:00:00\", \"priceavg\": 35428.70703125, \"shock\": 0}, {\"date\": \"2018-12-07T00:00:00\", \"priceavg\": 35593.856770833336, \"shock\": 0}, {\"date\": \"2018-12-10T00:00:00\", \"priceavg\": 35040.819010416664, \"shock\": 0}, {\"date\": \"2018-12-11T00:00:00\", \"priceavg\": 34927.876302083336, \"shock\": 0}, {\"date\": \"2018-12-12T00:00:00\", \"priceavg\": 35591.0390625, \"shock\": 0}, {\"date\": \"2018-12-13T00:00:00\", \"priceavg\": 35939.903645833336, \"shock\": 0}, {\"date\": \"2018-12-14T00:00:00\", \"priceavg\": 35931.93359375, \"shock\": 0}, {\"date\": \"2018-12-17T00:00:00\", \"priceavg\": 36235.333333333336, \"shock\": 0}, {\"date\": \"2018-12-18T00:00:00\", \"priceavg\": 36256.325520833336, \"shock\": 0}, {\"date\": \"2018-12-19T00:00:00\", \"priceavg\": 36473.729166666664, \"shock\": 0}, {\"date\": \"2018-12-20T00:00:00\", \"priceavg\": 36370.029947916664, \"shock\": 0}, {\"date\": \"2018-12-21T00:00:00\", \"priceavg\": 35973.432291666664, \"shock\": 0}, {\"date\": \"2018-12-24T00:00:00\", \"priceavg\": 35601.352864583336, \"shock\": 0}, {\"date\": \"2018-12-26T00:00:00\", \"priceavg\": 35457.341145833336, \"shock\": 0}, {\"date\": \"2018-12-27T00:00:00\", \"priceavg\": 35876.822916666664, \"shock\": 0}, {\"date\": \"2018-12-28T00:00:00\", \"priceavg\": 36061.162760416664, \"shock\": 0}, {\"date\": \"2018-12-31T00:00:00\", \"priceavg\": 36129.24609375, \"shock\": 0}, {\"date\": \"2019-01-02T00:00:00\", \"priceavg\": 35954.076822916664, \"shock\": 0}, {\"date\": \"2019-01-03T00:00:00\", \"priceavg\": 35662.98046875, \"shock\": 0}, {\"date\": \"2019-01-04T00:00:00\", \"priceavg\": 35607.126302083336, \"shock\": 0}, {\"date\": \"2019-01-07T00:00:00\", \"priceavg\": 35912.11328125, \"shock\": 0}, {\"date\": \"2019-01-08T00:00:00\", \"priceavg\": 35924.076822916664, \"shock\": 0}, {\"date\": \"2019-01-09T00:00:00\", \"priceavg\": 36108.912760416664, \"shock\": 0}, {\"date\": \"2019-01-10T00:00:00\", \"priceavg\": 36148.856770833336, \"shock\": 0}, {\"date\": \"2019-01-11T00:00:00\", \"priceavg\": 36021.567708333336, \"shock\": 0}, {\"date\": \"2019-01-14T00:00:00\", \"priceavg\": 35890.083333333336, \"shock\": 0}, {\"date\": \"2019-01-15T00:00:00\", \"priceavg\": 36205.904947916664, \"shock\": 0}, {\"date\": \"2019-01-16T00:00:00\", \"priceavg\": 36353.9765625, \"shock\": 0}, {\"date\": \"2019-01-17T00:00:00\", \"priceavg\": 36337.766927083336, \"shock\": 0}, {\"date\": \"2019-01-18T00:00:00\", \"priceavg\": 36358.305989583336, \"shock\": 0}, {\"date\": \"2019-01-21T00:00:00\", \"priceavg\": 36543.920572916664, \"shock\": 0}, {\"date\": \"2019-01-22T00:00:00\", \"priceavg\": 36459.346354166664, \"shock\": 0}, {\"date\": \"2019-01-23T00:00:00\", \"priceavg\": 36222.611979166664, \"shock\": 0}, {\"date\": \"2019-01-24T00:00:00\", \"priceavg\": 36150.020833333336, \"shock\": 0}, {\"date\": \"2019-01-25T00:00:00\", \"priceavg\": 36151.055989583336, \"shock\": 0}, {\"date\": \"2019-01-28T00:00:00\", \"priceavg\": 35782.036458333336, \"shock\": 0}, {\"date\": \"2019-01-29T00:00:00\", \"priceavg\": 35567.384114583336, \"shock\": 0}, {\"date\": \"2019-01-30T00:00:00\", \"priceavg\": 35644.209635416664, \"shock\": 0}, {\"date\": \"2019-01-31T00:00:00\", \"priceavg\": 36091.630208333336, \"shock\": 0}, {\"date\": \"2019-02-01T00:00:00\", \"priceavg\": 36489.630208333336, \"shock\": 0}, {\"date\": \"2019-02-04T00:00:00\", \"priceavg\": 36476.99609375, \"shock\": 0}, {\"date\": \"2019-02-05T00:00:00\", \"priceavg\": 36613.48828125, \"shock\": 0}, {\"date\": \"2019-02-06T00:00:00\", \"priceavg\": 36887.119791666664, \"shock\": 0}, {\"date\": \"2019-02-07T00:00:00\", \"priceavg\": 37014.0234375, \"shock\": 0}, {\"date\": \"2019-02-08T00:00:00\", \"priceavg\": 36637.559895833336, \"shock\": 0}, {\"date\": \"2019-02-11T00:00:00\", \"priceavg\": 36427.973958333336, \"shock\": 0}, {\"date\": \"2019-02-12T00:00:00\", \"priceavg\": 36244.309895833336, \"shock\": 0}, {\"date\": \"2019-02-14T00:00:00\", \"priceavg\": 35928.247395833336, \"shock\": 0}, {\"date\": \"2019-02-15T00:00:00\", \"priceavg\": 35780.829427083336, \"shock\": 0}, {\"date\": \"2019-02-18T00:00:00\", \"priceavg\": 35627.21484375, \"shock\": 0}, {\"date\": \"2019-02-19T00:00:00\", \"priceavg\": 35471.936197916664, \"shock\": 0}, {\"date\": \"2019-02-20T00:00:00\", \"priceavg\": 35674.286458333336, \"shock\": 0}, {\"date\": \"2019-02-21T00:00:00\", \"priceavg\": 35862.903645833336, \"shock\": 0}, {\"date\": \"2019-02-22T00:00:00\", \"priceavg\": 35869.653645833336, \"shock\": 0}, {\"date\": \"2019-02-25T00:00:00\", \"priceavg\": 36118.872395833336, \"shock\": 0}, {\"date\": \"2019-02-26T00:00:00\", \"priceavg\": 35953.463541666664, \"shock\": 0}, {\"date\": \"2019-02-27T00:00:00\", \"priceavg\": 36003.955729166664, \"shock\": 0}, {\"date\": \"2019-02-28T00:00:00\", \"priceavg\": 35927.48046875, \"shock\": 0}, {\"date\": \"2019-03-01T00:00:00\", \"priceavg\": 36052.296875, \"shock\": 0}, {\"date\": \"2019-03-05T00:00:00\", \"priceavg\": 36275.640625, \"shock\": 0}, {\"date\": \"2019-03-06T00:00:00\", \"priceavg\": 36586.463541666664, \"shock\": 0}, {\"date\": \"2019-03-07T00:00:00\", \"priceavg\": 36715.516927083336, \"shock\": 0}, {\"date\": \"2019-03-08T00:00:00\", \"priceavg\": 36672.649739583336, \"shock\": 0}, {\"date\": \"2019-03-11T00:00:00\", \"priceavg\": 36962.227864583336, \"shock\": 0}, {\"date\": \"2019-03-12T00:00:00\", \"priceavg\": 37451.046875, \"shock\": 0}, {\"date\": \"2019-03-13T00:00:00\", \"priceavg\": 37676.110677083336, \"shock\": 0}, {\"date\": \"2019-03-14T00:00:00\", \"priceavg\": 37785.454427083336, \"shock\": 0}, {\"date\": \"2019-03-15T00:00:00\", \"priceavg\": 38013.106770833336, \"shock\": 0}, {\"date\": \"2019-03-18T00:00:00\", \"priceavg\": 38138.920572916664, \"shock\": 0}, {\"date\": \"2019-03-19T00:00:00\", \"priceavg\": 38279.252604166664, \"shock\": 0}, {\"date\": \"2019-03-20T00:00:00\", \"priceavg\": 38397.58984375, \"shock\": 0}, {\"date\": \"2019-03-22T00:00:00\", \"priceavg\": 38272.893229166664, \"shock\": 0}, {\"date\": \"2019-03-25T00:00:00\", \"priceavg\": 37831.0234375, \"shock\": 0}, {\"date\": \"2019-03-26T00:00:00\", \"priceavg\": 38110.395833333336, \"shock\": 0}, {\"date\": \"2019-03-27T00:00:00\", \"priceavg\": 38203.3828125, \"shock\": 0}, {\"date\": \"2019-03-28T00:00:00\", \"priceavg\": 38429.26953125, \"shock\": 0}, {\"date\": \"2019-04-01T00:00:00\", \"priceavg\": 38932.059895833336, \"shock\": 0}, {\"date\": \"2019-04-02T00:00:00\", \"priceavg\": 39008.43359375, \"shock\": 0}, {\"date\": \"2019-04-03T00:00:00\", \"priceavg\": 38991.2734375, \"shock\": 0}, {\"date\": \"2019-04-04T00:00:00\", \"priceavg\": 38735.036458333336, \"shock\": 0}, {\"date\": \"2019-04-05T00:00:00\", \"priceavg\": 38840.623697916664, \"shock\": 0}, {\"date\": \"2019-04-08T00:00:00\", \"priceavg\": 38754.247395833336, \"shock\": 0}, {\"date\": \"2019-04-09T00:00:00\", \"priceavg\": 38838.975260416664, \"shock\": 0}, {\"date\": \"2019-04-10T00:00:00\", \"priceavg\": 38692.694010416664, \"shock\": 0}, {\"date\": \"2019-04-11T00:00:00\", \"priceavg\": 38572.4140625, \"shock\": 0}, {\"date\": \"2019-04-12T00:00:00\", \"priceavg\": 38713.58984375, \"shock\": 0}, {\"date\": \"2019-04-15T00:00:00\", \"priceavg\": 38887.498697916664, \"shock\": 0}, {\"date\": \"2019-04-16T00:00:00\", \"priceavg\": 39226.263020833336, \"shock\": 0}, {\"date\": \"2019-04-18T00:00:00\", \"priceavg\": 39236.963541666664, \"shock\": 0}, {\"date\": \"2019-04-22T00:00:00\", \"priceavg\": 38796.348958333336, \"shock\": 0}, {\"date\": \"2019-04-23T00:00:00\", \"priceavg\": 38638.583333333336, \"shock\": 0}, {\"date\": \"2019-04-24T00:00:00\", \"priceavg\": 38907.010416666664, \"shock\": 0}, {\"date\": \"2019-04-25T00:00:00\", \"priceavg\": 38885.686197916664, \"shock\": 0}, {\"date\": \"2019-04-26T00:00:00\", \"priceavg\": 38978.60546875, \"shock\": 0}, {\"date\": \"2019-04-30T00:00:00\", \"priceavg\": 38963.630208333336, \"shock\": 0}, {\"date\": \"2019-05-02T00:00:00\", \"priceavg\": 39018.122395833336, \"shock\": 0}, {\"date\": \"2019-05-03T00:00:00\", \"priceavg\": 39018.731770833336, \"shock\": 0}, {\"date\": \"2019-05-06T00:00:00\", \"priceavg\": 38609.819010416664, \"shock\": 0}, {\"date\": \"2019-05-07T00:00:00\", \"priceavg\": 38449.44921875, \"shock\": 0}, {\"date\": \"2019-05-08T00:00:00\", \"priceavg\": 37926.923177083336, \"shock\": 0}, {\"date\": \"2019-05-09T00:00:00\", \"priceavg\": 37581.58984375, \"shock\": 0}, {\"date\": \"2019-05-10T00:00:00\", \"priceavg\": 37518.453125, \"shock\": 0}, {\"date\": \"2019-05-13T00:00:00\", \"priceavg\": 37224.743489583336, \"shock\": 0}, {\"date\": \"2019-05-14T00:00:00\", \"priceavg\": 37282.444010416664, \"shock\": 0}, {\"date\": \"2019-05-15T00:00:00\", \"priceavg\": 37240.807291666664, \"shock\": 0}, {\"date\": \"2019-05-16T00:00:00\", \"priceavg\": 37321.57421875, \"shock\": 0}, {\"date\": \"2019-05-17T00:00:00\", \"priceavg\": 37782.419270833336, \"shock\": 0}, {\"date\": \"2019-05-20T00:00:00\", \"priceavg\": 39111.756510416664, \"shock\": 0}, {\"date\": \"2019-05-21T00:00:00\", \"priceavg\": 39142.127604166664, \"shock\": 0}, {\"date\": \"2019-05-22T00:00:00\", \"priceavg\": 39087.720052083336, \"shock\": 0}, {\"date\": \"2019-05-23T00:00:00\", \"priceavg\": 39195.986979166664, \"shock\": 0}, {\"date\": \"2019-05-24T00:00:00\", \"priceavg\": 39245.31640625, \"shock\": 0}, {\"date\": \"2019-05-27T00:00:00\", \"priceavg\": 39619.463541666664, \"shock\": 0}, {\"date\": \"2019-05-28T00:00:00\", \"priceavg\": 39692.342447916664, \"shock\": 0}, {\"date\": \"2019-05-29T00:00:00\", \"priceavg\": 39563.493489583336, \"shock\": 0}, {\"date\": \"2019-05-30T00:00:00\", \"priceavg\": 39748.149739583336, \"shock\": 0}, {\"date\": \"2019-05-31T00:00:00\", \"priceavg\": 39736.92578125, \"shock\": 0}, {\"date\": \"2019-06-03T00:00:00\", \"priceavg\": 40095.846354166664, \"shock\": 0}, {\"date\": \"2019-06-04T00:00:00\", \"priceavg\": 40142.220052083336, \"shock\": 0}, {\"date\": \"2019-06-06T00:00:00\", \"priceavg\": 39723.376302083336, \"shock\": 0}, {\"date\": \"2019-06-07T00:00:00\", \"priceavg\": 39532.822916666664, \"shock\": 0}, {\"date\": \"2019-06-10T00:00:00\", \"priceavg\": 39794.65625, \"shock\": 0}, {\"date\": \"2019-06-11T00:00:00\", \"priceavg\": 39925.596354166664, \"shock\": 0}, {\"date\": \"2019-06-12T00:00:00\", \"priceavg\": 39787.48046875, \"shock\": 0}, {\"date\": \"2019-06-13T00:00:00\", \"priceavg\": 39667.8125, \"shock\": 0}, {\"date\": \"2019-06-14T00:00:00\", \"priceavg\": 39538.47265625, \"shock\": 0}, {\"date\": \"2019-06-17T00:00:00\", \"priceavg\": 39137.56640625, \"shock\": 0}, {\"date\": \"2019-06-18T00:00:00\", \"priceavg\": 39028.376302083336, \"shock\": 0}, {\"date\": \"2019-06-19T00:00:00\", \"priceavg\": 39143.196614583336, \"shock\": 0}, {\"date\": \"2019-06-20T00:00:00\", \"priceavg\": 39391.350260416664, \"shock\": 0}, {\"date\": \"2019-06-21T00:00:00\", \"priceavg\": 39311.24609375, \"shock\": 0}, {\"date\": \"2019-06-24T00:00:00\", \"priceavg\": 39148.2265625, \"shock\": 0}, {\"date\": \"2019-06-25T00:00:00\", \"priceavg\": 39290.540364583336, \"shock\": 0}, {\"date\": \"2019-06-26T00:00:00\", \"priceavg\": 39528.645833333336, \"shock\": 0}, {\"date\": \"2019-06-27T00:00:00\", \"priceavg\": 39638.0234375, \"shock\": 0}, {\"date\": \"2019-06-28T00:00:00\", \"priceavg\": 39477.270833333336, \"shock\": 0}, {\"date\": \"2019-07-01T00:00:00\", \"priceavg\": 39664.13671875, \"shock\": 0}, {\"date\": \"2019-07-02T00:00:00\", \"priceavg\": 39718.053385416664, \"shock\": 0}, {\"date\": \"2019-07-03T00:00:00\", \"priceavg\": 39835.5390625, \"shock\": 0}, {\"date\": \"2019-07-04T00:00:00\", \"priceavg\": 39915.162760416664, \"shock\": 0}, {\"date\": \"2019-07-05T00:00:00\", \"priceavg\": 39662.393229166664, \"shock\": 0}, {\"date\": \"2019-07-08T00:00:00\", \"priceavg\": 38934.143229166664, \"shock\": 0}, {\"date\": \"2019-07-09T00:00:00\", \"priceavg\": 38660.307291666664, \"shock\": 0}, {\"date\": \"2019-07-10T00:00:00\", \"priceavg\": 38628.850260416664, \"shock\": 0}, {\"date\": \"2019-07-11T00:00:00\", \"priceavg\": 38782.305989583336, \"shock\": 0}, {\"date\": \"2019-07-12T00:00:00\", \"priceavg\": 38814.307291666664, \"shock\": 0}, {\"date\": \"2019-07-15T00:00:00\", \"priceavg\": 38872.427083333336, \"shock\": 0}, {\"date\": \"2019-07-16T00:00:00\", \"priceavg\": 39050.06640625, \"shock\": 0}, {\"date\": \"2019-07-17T00:00:00\", \"priceavg\": 39193.837239583336, \"shock\": 0}, {\"date\": \"2019-07-18T00:00:00\", \"priceavg\": 38987.7265625, \"shock\": 0}, {\"date\": \"2019-07-19T00:00:00\", \"priceavg\": 38555.697916666664, \"shock\": 0}, {\"date\": \"2019-07-22T00:00:00\", \"priceavg\": 38084.989583333336, \"shock\": 0}, {\"date\": \"2019-07-23T00:00:00\", \"priceavg\": 38033.1484375, \"shock\": 0}, {\"date\": \"2019-07-24T00:00:00\", \"priceavg\": 37886.299479166664, \"shock\": 0}, {\"date\": \"2019-07-25T00:00:00\", \"priceavg\": 37925.454427083336, \"shock\": 0}, {\"date\": \"2019-07-26T00:00:00\", \"priceavg\": 37850.442708333336, \"shock\": 0}, {\"date\": \"2019-07-29T00:00:00\", \"priceavg\": 37749.583333333336, \"shock\": 0}, {\"date\": \"2019-07-30T00:00:00\", \"priceavg\": 37568.826822916664, \"shock\": 0}, {\"date\": \"2019-07-31T00:00:00\", \"priceavg\": 37395.251302083336, \"shock\": 0}, {\"date\": \"2019-08-01T00:00:00\", \"priceavg\": 37033.2265625, \"shock\": 0}, {\"date\": \"2019-08-02T00:00:00\", \"priceavg\": 37033.596354166664, \"shock\": 0}, {\"date\": \"2019-08-05T00:00:00\", \"priceavg\": 36653.559895833336, \"shock\": 0}, {\"date\": \"2019-08-06T00:00:00\", \"priceavg\": 36918.403645833336, \"shock\": 0}, {\"date\": \"2019-08-07T00:00:00\", \"priceavg\": 36801.953125, \"shock\": 0}, {\"date\": \"2019-08-08T00:00:00\", \"priceavg\": 37129.416666666664, \"shock\": 0}, {\"date\": \"2019-08-09T00:00:00\", \"priceavg\": 37598.57421875, \"shock\": 0}, {\"date\": \"2019-08-13T00:00:00\", \"priceavg\": 37200.602864583336, \"shock\": 0}, {\"date\": \"2019-08-14T00:00:00\", \"priceavg\": 37261.970052083336, \"shock\": 0}, {\"date\": \"2019-08-16T00:00:00\", \"priceavg\": 37256.395833333336, \"shock\": 0}, {\"date\": \"2019-08-19T00:00:00\", \"priceavg\": 37493.28515625, \"shock\": 0}, {\"date\": \"2019-08-20T00:00:00\", \"priceavg\": 37353.153645833336, \"shock\": 0}, {\"date\": \"2019-08-21T00:00:00\", \"priceavg\": 37163.147135416664, \"shock\": 0}, {\"date\": \"2019-08-22T00:00:00\", \"priceavg\": 36650.619791666664, \"shock\": 0}, {\"date\": \"2019-08-23T00:00:00\", \"priceavg\": 36536.950520833336, \"shock\": 0}, {\"date\": \"2019-08-26T00:00:00\", \"priceavg\": 37177.083333333336, \"shock\": 0}, {\"date\": \"2019-08-27T00:00:00\", \"priceavg\": 37607.490885416664, \"shock\": 0}, {\"date\": \"2019-08-28T00:00:00\", \"priceavg\": 37462.950520833336, \"shock\": 0}, {\"date\": \"2019-08-29T00:00:00\", \"priceavg\": 37146.02734375, \"shock\": 0}, {\"date\": \"2019-08-30T00:00:00\", \"priceavg\": 37186.85546875, \"shock\": 0}, {\"date\": \"2019-09-03T00:00:00\", \"priceavg\": 36739.100260416664, \"shock\": 0}, {\"date\": \"2019-09-04T00:00:00\", \"priceavg\": 36636.861979166664, \"shock\": 0}, {\"date\": \"2019-09-05T00:00:00\", \"priceavg\": 36695.096354166664, \"shock\": 0}, {\"date\": \"2019-09-06T00:00:00\", \"priceavg\": 36907.470052083336, \"shock\": 0}, {\"date\": \"2019-09-09T00:00:00\", \"priceavg\": 37057.998697916664, \"shock\": 0}, {\"date\": \"2019-09-11T00:00:00\", \"priceavg\": 37269.283854166664, \"shock\": 0}, {\"date\": \"2019-09-12T00:00:00\", \"priceavg\": 37196.033854166664, \"shock\": 0}, {\"date\": \"2019-09-13T00:00:00\", \"priceavg\": 37266.192708333336, \"shock\": 0}, {\"date\": \"2019-09-16T00:00:00\", \"priceavg\": 37151.436197916664, \"shock\": 0}, {\"date\": \"2019-09-17T00:00:00\", \"priceavg\": 36689.912760416664, \"shock\": 0}, {\"date\": \"2019-09-18T00:00:00\", \"priceavg\": 36580.9296875, \"shock\": 0}, {\"date\": \"2019-09-19T00:00:00\", \"priceavg\": 36231.733072916664, \"shock\": 0}, {\"date\": \"2019-09-20T00:00:00\", \"priceavg\": 37492.79296875, \"shock\": 0}, {\"date\": \"2019-09-23T00:00:00\", \"priceavg\": 39068.397135416664, \"shock\": 0}, {\"date\": \"2019-09-24T00:00:00\", \"priceavg\": 39105.5234375, \"shock\": 0}, {\"date\": \"2019-09-25T00:00:00\", \"priceavg\": 38730.5625, \"shock\": 0}, {\"date\": \"2019-09-26T00:00:00\", \"priceavg\": 38941.305989583336, \"shock\": 0}, {\"date\": \"2019-09-27T00:00:00\", \"priceavg\": 38904.180989583336, \"shock\": 0}, {\"date\": \"2019-09-30T00:00:00\", \"priceavg\": 38647.1796875, \"shock\": 0}, {\"date\": \"2019-10-01T00:00:00\", \"priceavg\": 38386.360677083336, \"shock\": 0}, {\"date\": \"2019-10-03T00:00:00\", \"priceavg\": 38125.119791666664, \"shock\": 0}, {\"date\": \"2019-10-04T00:00:00\", \"priceavg\": 37903.40234375, \"shock\": 0}, {\"date\": \"2019-10-07T00:00:00\", \"priceavg\": 37643.993489583336, \"shock\": 0}, {\"date\": \"2019-10-09T00:00:00\", \"priceavg\": 37934.5390625, \"shock\": 0}, {\"date\": \"2019-10-10T00:00:00\", \"priceavg\": 37937.852864583336, \"shock\": 0}, {\"date\": \"2019-10-11T00:00:00\", \"priceavg\": 38070.11328125, \"shock\": 0}, {\"date\": \"2019-10-14T00:00:00\", \"priceavg\": 38264.763020833336, \"shock\": 0}, {\"date\": \"2019-10-15T00:00:00\", \"priceavg\": 38459.850260416664, \"shock\": 0}, {\"date\": \"2019-10-16T00:00:00\", \"priceavg\": 38560.6796875, \"shock\": 0}, {\"date\": \"2019-10-17T00:00:00\", \"priceavg\": 38904.7265625, \"shock\": 0}, {\"date\": \"2019-10-18T00:00:00\", \"priceavg\": 39207.6796875, \"shock\": 0}, {\"date\": \"2019-10-22T00:00:00\", \"priceavg\": 39105.053385416664, \"shock\": 0}, {\"date\": \"2019-10-23T00:00:00\", \"priceavg\": 39040.526041666664, \"shock\": 0}, {\"date\": \"2019-10-24T00:00:00\", \"priceavg\": 39062.766927083336, \"shock\": 0}, {\"date\": \"2019-10-25T00:00:00\", \"priceavg\": 39005.979166666664, \"shock\": 0}, {\"date\": \"2019-10-29T00:00:00\", \"priceavg\": 39667.657552083336, \"shock\": 0}, {\"date\": \"2019-10-30T00:00:00\", \"priceavg\": 40011.700520833336, \"shock\": 0}, {\"date\": \"2019-10-31T00:00:00\", \"priceavg\": 40192.053385416664, \"shock\": 0}, {\"date\": \"2019-11-01T00:00:00\", \"priceavg\": 40154.1875, \"shock\": 0}, {\"date\": \"2019-11-04T00:00:00\", \"priceavg\": 40323.8203125, \"shock\": 0}, {\"date\": \"2019-11-05T00:00:00\", \"priceavg\": 40256.110677083336, \"shock\": 0}, {\"date\": \"2019-11-06T00:00:00\", \"priceavg\": 40371.407552083336, \"shock\": 0}, {\"date\": \"2019-11-07T00:00:00\", \"priceavg\": 40587.692708333336, \"shock\": 0}, {\"date\": \"2019-11-08T00:00:00\", \"priceavg\": 40445.626302083336, \"shock\": 0}, {\"date\": \"2019-11-11T00:00:00\", \"priceavg\": 40304.49609375, \"shock\": 0}, {\"date\": \"2019-11-13T00:00:00\", \"priceavg\": 40208.153645833336, \"shock\": 0}, {\"date\": \"2019-11-14T00:00:00\", \"priceavg\": 40220.692708333336, \"shock\": 0}, {\"date\": \"2019-11-15T00:00:00\", \"priceavg\": 40438.279947916664, \"shock\": 0}, {\"date\": \"2019-11-18T00:00:00\", \"priceavg\": 40349.51953125, \"shock\": 0}, {\"date\": \"2019-11-19T00:00:00\", \"priceavg\": 40434.6796875, \"shock\": 0}, {\"date\": \"2019-11-20T00:00:00\", \"priceavg\": 40681.326822916664, \"shock\": 0}, {\"date\": \"2019-11-21T00:00:00\", \"priceavg\": 40618.048177083336, \"shock\": 0}, {\"date\": \"2019-11-22T00:00:00\", \"priceavg\": 40429.803385416664, \"shock\": 0}, {\"date\": \"2019-11-25T00:00:00\", \"priceavg\": 40738.279947916664, \"shock\": 0}, {\"date\": \"2019-11-26T00:00:00\", \"priceavg\": 40883.927083333336, \"shock\": 0}, {\"date\": \"2019-11-27T00:00:00\", \"priceavg\": 40981.690104166664, \"shock\": 0}, {\"date\": \"2019-11-28T00:00:00\", \"priceavg\": 41096.6796875, \"shock\": 0}, {\"date\": \"2019-11-29T00:00:00\", \"priceavg\": 40867.069010416664, \"shock\": 0}, {\"date\": \"2019-12-02T00:00:00\", \"priceavg\": 40867.9296875, \"shock\": 0}, {\"date\": \"2019-12-03T00:00:00\", \"priceavg\": 40704.83984375, \"shock\": 0}, {\"date\": \"2019-12-04T00:00:00\", \"priceavg\": 40737.662760416664, \"shock\": 0}, {\"date\": \"2019-12-05T00:00:00\", \"priceavg\": 40834.057291666664, \"shock\": 0}, {\"date\": \"2019-12-06T00:00:00\", \"priceavg\": 40578.26953125, \"shock\": 0}, {\"date\": \"2019-12-09T00:00:00\", \"priceavg\": 40489.872395833336, \"shock\": 0}, {\"date\": \"2019-12-10T00:00:00\", \"priceavg\": 40345.795572916664, \"shock\": 0}, {\"date\": \"2019-12-11T00:00:00\", \"priceavg\": 40338.0234375, \"shock\": 0}, {\"date\": \"2019-12-12T00:00:00\", \"priceavg\": 40595.016927083336, \"shock\": 0}, {\"date\": \"2019-12-13T00:00:00\", \"priceavg\": 40934.0703125, \"shock\": 0}, {\"date\": \"2019-12-16T00:00:00\", \"priceavg\": 41013.893229166664, \"shock\": 0}, {\"date\": \"2019-12-17T00:00:00\", \"priceavg\": 41253.0, \"shock\": 0}, {\"date\": \"2019-12-18T00:00:00\", \"priceavg\": 41510.602864583336, \"shock\": 0}, {\"date\": \"2019-12-19T00:00:00\", \"priceavg\": 41616.536458333336, \"shock\": 0}, {\"date\": \"2019-12-20T00:00:00\", \"priceavg\": 41709.203125, \"shock\": 0}, {\"date\": \"2019-12-23T00:00:00\", \"priceavg\": 41606.296875, \"shock\": 0}, {\"date\": \"2019-12-24T00:00:00\", \"priceavg\": 41529.104166666664, \"shock\": 0}, {\"date\": \"2019-12-26T00:00:00\", \"priceavg\": 41280.151041666664, \"shock\": 0}, {\"date\": \"2019-12-27T00:00:00\", \"priceavg\": 41483.77734375, \"shock\": 0}, {\"date\": \"2019-12-30T00:00:00\", \"priceavg\": 41575.369791666664, \"shock\": 0}, {\"date\": \"2019-12-31T00:00:00\", \"priceavg\": 41348.65234375, \"shock\": 0}, {\"date\": \"2020-01-02T00:00:00\", \"priceavg\": 41534.79296875, \"shock\": 0}, {\"date\": \"2020-01-03T00:00:00\", \"priceavg\": 41483.15625, \"shock\": 0}, {\"date\": \"2020-01-06T00:00:00\", \"priceavg\": 40889.643229166664, \"shock\": 0}, {\"date\": \"2020-01-07T00:00:00\", \"priceavg\": 40942.326822916664, \"shock\": 0}, {\"date\": \"2020-01-08T00:00:00\", \"priceavg\": 40720.216145833336, \"shock\": 0}, {\"date\": \"2020-01-09T00:00:00\", \"priceavg\": 41370.063802083336, \"shock\": 0}, {\"date\": \"2020-01-10T00:00:00\", \"priceavg\": 41607.54296875, \"shock\": 0}, {\"date\": \"2020-01-13T00:00:00\", \"priceavg\": 41826.694010416664, \"shock\": 0}, {\"date\": \"2020-01-14T00:00:00\", \"priceavg\": 41905.9296875, \"shock\": 0}, {\"date\": \"2020-01-15T00:00:00\", \"priceavg\": 41830.233072916664, \"shock\": 0}, {\"date\": \"2020-01-16T00:00:00\", \"priceavg\": 41934.763020833336, \"shock\": 0}, {\"date\": \"2020-01-17T00:00:00\", \"priceavg\": 41953.196614583336, \"shock\": 0}, {\"date\": \"2020-01-20T00:00:00\", \"priceavg\": 41768.717447916664, \"shock\": 0}, {\"date\": \"2020-01-21T00:00:00\", \"priceavg\": 41383.56640625, \"shock\": 0}, {\"date\": \"2020-01-22T00:00:00\", \"priceavg\": 41235.569010416664, \"shock\": 0}, {\"date\": \"2020-01-23T00:00:00\", \"priceavg\": 41299.756510416664, \"shock\": 0}, {\"date\": \"2020-01-24T00:00:00\", \"priceavg\": 41528.608072916664, \"shock\": 0}, {\"date\": \"2020-01-27T00:00:00\", \"priceavg\": 41264.623697916664, \"shock\": 0}, {\"date\": \"2020-01-28T00:00:00\", \"priceavg\": 41056.619791666664, \"shock\": 0}, {\"date\": \"2020-01-29T00:00:00\", \"priceavg\": 41213.903645833336, \"shock\": 0}, {\"date\": \"2020-01-30T00:00:00\", \"priceavg\": 41041.290364583336, \"shock\": 0}, {\"date\": \"2020-01-31T00:00:00\", \"priceavg\": 40849.662760416664, \"shock\": 0}, {\"date\": \"2020-02-03T00:00:00\", \"priceavg\": 39816.759114583336, \"shock\": 0}, {\"date\": \"2020-02-04T00:00:00\", \"priceavg\": 40575.260416666664, \"shock\": 0}, {\"date\": \"2020-02-05T00:00:00\", \"priceavg\": 41007.66015625, \"shock\": 0}, {\"date\": \"2020-02-06T00:00:00\", \"priceavg\": 41274.856770833336, \"shock\": 0}, {\"date\": \"2020-02-07T00:00:00\", \"priceavg\": 41203.20703125, \"shock\": 0}, {\"date\": \"2020-02-10T00:00:00\", \"priceavg\": 40983.553385416664, \"shock\": 0}, {\"date\": \"2020-02-11T00:00:00\", \"priceavg\": 41279.873697916664, \"shock\": 0}, {\"date\": \"2020-02-12T00:00:00\", \"priceavg\": 41522.869791666664, \"shock\": 0}, {\"date\": \"2020-02-13T00:00:00\", \"priceavg\": 41502.466145833336, \"shock\": 0}, {\"date\": \"2020-02-14T00:00:00\", \"priceavg\": 41381.075520833336, \"shock\": 0}, {\"date\": \"2020-02-17T00:00:00\", \"priceavg\": 41168.869791666664, \"shock\": 0}, {\"date\": \"2020-02-18T00:00:00\", \"priceavg\": 40849.263020833336, \"shock\": 0}, {\"date\": \"2020-02-19T00:00:00\", \"priceavg\": 41243.029947916664, \"shock\": 0}, {\"date\": \"2020-02-20T00:00:00\", \"priceavg\": 41234.786458333336, \"shock\": 0}, {\"date\": \"2020-02-24T00:00:00\", \"priceavg\": 40568.8671875, \"shock\": 0}, {\"date\": \"2020-02-25T00:00:00\", \"priceavg\": 40345.9296875, \"shock\": 0}, {\"date\": \"2020-02-26T00:00:00\", \"priceavg\": 39968.247395833336, \"shock\": 0}, {\"date\": \"2020-02-27T00:00:00\", \"priceavg\": 39705.576822916664, \"shock\": 0}, {\"date\": \"2020-02-28T00:00:00\", \"priceavg\": 38534.908854166664, \"shock\": 0}, {\"date\": \"2020-03-02T00:00:00\", \"priceavg\": 38337.7265625, \"shock\": 0}, {\"date\": \"2020-03-03T00:00:00\", \"priceavg\": 38506.74609375, \"shock\": 0}, {\"date\": \"2020-03-04T00:00:00\", \"priceavg\": 38349.09375, \"shock\": 0}, {\"date\": \"2020-03-05T00:00:00\", \"priceavg\": 38581.696614583336, \"shock\": 0}, {\"date\": \"2020-03-06T00:00:00\", \"priceavg\": 37444.927083333336, \"shock\": 0}, {\"date\": \"2020-03-09T00:00:00\", \"priceavg\": 35898.109375, \"shock\": 0}, {\"date\": \"2020-03-11T00:00:00\", \"priceavg\": 35660.27734375, \"shock\": 0}, {\"date\": \"2020-03-12T00:00:00\", \"priceavg\": 33247.913411458336, \"shock\": 0}, {\"date\": \"2020-03-13T00:00:00\", \"priceavg\": 32753.977213541668, \"shock\": 0}, {\"date\": \"2020-03-16T00:00:00\", \"priceavg\": 31923.203125, \"shock\": 0}, {\"date\": \"2020-03-17T00:00:00\", \"priceavg\": 31007.336588541668, \"shock\": 0}, {\"date\": \"2020-03-18T00:00:00\", \"priceavg\": 29528.110026041668, \"shock\": 0}, {\"date\": \"2020-03-19T00:00:00\", \"priceavg\": 28124.406901041668, \"shock\": 0}, {\"date\": \"2020-03-20T00:00:00\", \"priceavg\": 29422.276692708332, \"shock\": 0}, {\"date\": \"2020-03-23T00:00:00\", \"priceavg\": 26587.633463541668, \"shock\": 0}, {\"date\": \"2020-03-24T00:00:00\", \"priceavg\": 26591.932942708332, \"shock\": 0}, {\"date\": \"2020-03-25T00:00:00\", \"priceavg\": 27895.29296875, \"shock\": 0}, {\"date\": \"2020-03-26T00:00:00\", \"priceavg\": 29537.673177083332, \"shock\": 0}, {\"date\": \"2020-03-27T00:00:00\", \"priceavg\": 30096.203125, \"shock\": 0}, {\"date\": \"2020-03-30T00:00:00\", \"priceavg\": 28742.960286458332, \"shock\": 0}, {\"date\": \"2020-03-31T00:00:00\", \"priceavg\": 29302.243489583332, \"shock\": 0}, {\"date\": \"2020-04-01T00:00:00\", \"priceavg\": 28614.906901041668, \"shock\": 0}, {\"date\": \"2020-04-03T00:00:00\", \"priceavg\": 27910.285807291668, \"shock\": 0}, {\"date\": \"2020-04-07T00:00:00\", \"priceavg\": 29609.057291666668, \"shock\": 0}, {\"date\": \"2020-04-08T00:00:00\", \"priceavg\": 30241.623697916668, \"shock\": 0}, {\"date\": \"2020-04-09T00:00:00\", \"priceavg\": 30935.013020833332, \"shock\": 0}, {\"date\": \"2020-04-13T00:00:00\", \"priceavg\": 30786.630208333332, \"shock\": 0}, {\"date\": \"2020-04-15T00:00:00\", \"priceavg\": 30723.413411458332, \"shock\": 0}, {\"date\": \"2020-04-16T00:00:00\", \"priceavg\": 30472.992838541668, \"shock\": 0}, {\"date\": \"2020-04-17T00:00:00\", \"priceavg\": 31422.796875, \"shock\": 0}, {\"date\": \"2020-04-20T00:00:00\", \"priceavg\": 31731.576822916668, \"shock\": 0}, {\"date\": \"2020-04-21T00:00:00\", \"priceavg\": 30638.36328125, \"shock\": 0}, {\"date\": \"2020-04-22T00:00:00\", \"priceavg\": 31143.080729166668, \"shock\": 0}, {\"date\": \"2020-04-23T00:00:00\", \"priceavg\": 31705.006510416668, \"shock\": 0}, {\"date\": \"2020-04-24T00:00:00\", \"priceavg\": 31482.576822916668, \"shock\": 0}, {\"date\": \"2020-04-27T00:00:00\", \"priceavg\": 31832.786458333332, \"shock\": 0}, {\"date\": \"2020-04-28T00:00:00\", \"priceavg\": 31991.923177083332, \"shock\": 0}, {\"date\": \"2020-04-29T00:00:00\", \"priceavg\": 32596.466796875, \"shock\": 0}, {\"date\": \"2020-04-30T00:00:00\", \"priceavg\": 33653.266927083336, \"shock\": 0}, {\"date\": \"2020-05-04T00:00:00\", \"priceavg\": 32031.836588541668, \"shock\": 0}, {\"date\": \"2020-05-05T00:00:00\", \"priceavg\": 31707.026692708332, \"shock\": 0}, {\"date\": \"2020-05-06T00:00:00\", \"priceavg\": 31605.11328125, \"shock\": 0}, {\"date\": \"2020-05-07T00:00:00\", \"priceavg\": 31503.833333333332, \"shock\": 0}, {\"date\": \"2020-05-08T00:00:00\", \"priceavg\": 31776.402994791668, \"shock\": 0}, {\"date\": \"2020-05-11T00:00:00\", \"priceavg\": 31787.889973958332, \"shock\": 0}, {\"date\": \"2020-05-12T00:00:00\", \"priceavg\": 31250.889973958332, \"shock\": 0}, {\"date\": \"2020-05-13T00:00:00\", \"priceavg\": 32252.003255208332, \"shock\": 0}, {\"date\": \"2020-05-14T00:00:00\", \"priceavg\": 31268.826822916668, \"shock\": 0}, {\"date\": \"2020-05-15T00:00:00\", \"priceavg\": 31054.830078125, \"shock\": 0}, {\"date\": \"2020-05-18T00:00:00\", \"priceavg\": 30415.229817708332, \"shock\": 0}, {\"date\": \"2020-05-19T00:00:00\", \"priceavg\": 30350.983723958332, \"shock\": 0}, {\"date\": \"2020-05-20T00:00:00\", \"priceavg\": 30618.223307291668, \"shock\": 0}, {\"date\": \"2020-05-21T00:00:00\", \"priceavg\": 30962.336588541668, \"shock\": 0}, {\"date\": \"2020-05-22T00:00:00\", \"priceavg\": 30751.793619791668, \"shock\": 0}, {\"date\": \"2020-05-26T00:00:00\", \"priceavg\": 30736.046875, \"shock\": 0}, {\"date\": \"2020-05-27T00:00:00\", \"priceavg\": 31263.833333333332, \"shock\": 0}, {\"date\": \"2020-05-28T00:00:00\", \"priceavg\": 32036.529947916668, \"shock\": 0}, {\"date\": \"2020-05-29T00:00:00\", \"priceavg\": 32242.806640625, \"shock\": 0}, {\"date\": \"2020-06-01T00:00:00\", \"priceavg\": 33284.6328125, \"shock\": 0}, {\"date\": \"2020-06-02T00:00:00\", \"priceavg\": 33664.483072916664, \"shock\": 0}, {\"date\": \"2020-06-03T00:00:00\", \"priceavg\": 34208.576822916664, \"shock\": 0}, {\"date\": \"2020-06-04T00:00:00\", \"priceavg\": 34000.692708333336, \"shock\": 0}, {\"date\": \"2020-06-05T00:00:00\", \"priceavg\": 34216.895833333336, \"shock\": 0}, {\"date\": \"2020-06-08T00:00:00\", \"priceavg\": 34503.40234375, \"shock\": 0}, {\"date\": \"2020-06-09T00:00:00\", \"priceavg\": 34216.390625, \"shock\": 0}, {\"date\": \"2020-06-10T00:00:00\", \"priceavg\": 34182.227864583336, \"shock\": 0}, {\"date\": \"2020-06-11T00:00:00\", \"priceavg\": 33746.061197916664, \"shock\": 0}, {\"date\": \"2020-06-12T00:00:00\", \"priceavg\": 33328.419921875, \"shock\": 0}, {\"date\": \"2020-06-15T00:00:00\", \"priceavg\": 33274.36328125, \"shock\": 0}, {\"date\": \"2020-06-16T00:00:00\", \"priceavg\": 33526.84375, \"shock\": 0}, {\"date\": \"2020-06-17T00:00:00\", \"priceavg\": 33591.514322916664, \"shock\": 0}, {\"date\": \"2020-06-18T00:00:00\", \"priceavg\": 33951.860677083336, \"shock\": 0}, {\"date\": \"2020-06-19T00:00:00\", \"priceavg\": 34572.1640625, \"shock\": 0}, {\"date\": \"2020-06-22T00:00:00\", \"priceavg\": 34973.079427083336, \"shock\": 0}, {\"date\": \"2020-06-23T00:00:00\", \"priceavg\": 35252.09375, \"shock\": 0}, {\"date\": \"2020-06-24T00:00:00\", \"priceavg\": 35123.486979166664, \"shock\": 0}, {\"date\": \"2020-06-25T00:00:00\", \"priceavg\": 34807.830729166664, \"shock\": 0}, {\"date\": \"2020-06-26T00:00:00\", \"priceavg\": 35112.162760416664, \"shock\": 0}, {\"date\": \"2020-06-29T00:00:00\", \"priceavg\": 34885.3125, \"shock\": 0}]}}, {\"mode\": \"vega-lite\"});\n",
              "</script>"
            ]
          },
          "metadata": {
            "tags": []
          },
          "execution_count": 25
        }
      ]
    },
    {
      "cell_type": "code",
      "metadata": {
        "colab": {
          "base_uri": "https://localhost:8080/",
          "height": 281
        },
        "id": "clodBlzRK6GP",
        "outputId": "556fedd1-aab7-45c8-9517-0a03d0bff9bb"
      },
      "source": [
        "plotpricepercentchg = altdata_pricepercentchg.filter(['date', 'priceavg'], axis=1) #df.copy()\n",
        "plotpricepercentchg.index = pd.Index(sm.tsa.datetools.dates_from_range('2015', length=len(altdata_pricepercentchg['date']))) \n",
        "del plotpricepercentchg['date']\n",
        "sm.graphics.tsa.plot_pacf(plotpricepercentchg.values.squeeze())\n",
        "plt.show()"
      ],
      "execution_count": 26,
      "outputs": [
        {
          "output_type": "display_data",
          "data": {
            "image/png": "[encoded data removed]",
            "text/plain": [
              "<Figure size 432x288 with 1 Axes>"
            ]
          },
          "metadata": {
            "tags": [],
            "needs_background": "light"
          }
        }
      ]
    },
    {
      "cell_type": "markdown",
      "metadata": {
        "id": "HAR40CpILAJH"
      },
      "source": [
        "***Here, we can see that in the partial autocorrelation plot above, we have statistically significant partial autocorrelations at lag values 0, 1, 2, 4, 6, 7, 8, 15, 16, 21, 22, 25, 26. And lag values 0, 1 represents a perfect positive correlation. While the rest of values are very close to 0 and under the confidence intervals, which are represented as blue shaded regions***"
      ]
    },
    {
      "cell_type": "markdown",
      "metadata": {
        "id": "28wex-z7LMHR"
      },
      "source": [
        "Now, we will be creating the reverse dummy time series:\n",
        "Price shocks : we will be creating a 0/1 dummy-coded boolean time series for shock, based on whether closing price at T vs T+1 has a difference > 2%. ( 0/1 dummy-coding is for direction of shock). This will be reverse of pct_change() "
      ]
    },
    {
      "cell_type": "code",
      "metadata": {
        "id": "Y0XxBos0Louz"
      },
      "source": [
        "def reverseboolean_shock(percent, df, col):\n",
        "  data = df.filter(['date', col], axis=1) #df.copy()\n",
        "  data.set_index('date', inplace=True)\n",
        "  data = data.reindex(index=data.index[::-1])\n",
        "  data['percentchg'] = (data[col].pct_change()) * 100\n",
        "  data['shock'] = data['percentchg'].apply(lambda x: 1 if x > percent else 0)\n",
        "  data.drop(col, axis = 1, inplace = True)\n",
        "  data = data.reindex(index=data.index[::-1])\n",
        "  return data.dropna()"
      ],
      "execution_count": 27,
      "outputs": []
    },
    {
      "cell_type": "code",
      "metadata": {
        "colab": {
          "base_uri": "https://localhost:8080/",
          "height": 431
        },
        "id": "yY2exdJsLtW2",
        "outputId": "1323c1f9-95d2-43c4-be9f-b103492a9493"
      },
      "source": [
        "reverseboolean_shock(2, bse_data, 'close')"
      ],
      "execution_count": 28,
      "outputs": [
        {
          "output_type": "execute_result",
          "data": {
            "text/html": [
              "<div>\n",
              "<style scoped>\n",
              "    .dataframe tbody tr th:only-of-type {\n",
              "        vertical-align: middle;\n",
              "    }\n",
              "\n",
              "    .dataframe tbody tr th {\n",
              "        vertical-align: top;\n",
              "    }\n",
              "\n",
              "    .dataframe thead th {\n",
              "        text-align: right;\n",
              "    }\n",
              "</style>\n",
              "<table border=\"1\" class=\"dataframe\">\n",
              "  <thead>\n",
              "    <tr style=\"text-align: right;\">\n",
              "      <th></th>\n",
              "      <th>percentchg</th>\n",
              "      <th>shock</th>\n",
              "    </tr>\n",
              "    <tr>\n",
              "      <th>date</th>\n",
              "      <th></th>\n",
              "      <th></th>\n",
              "    </tr>\n",
              "  </thead>\n",
              "  <tbody>\n",
              "    <tr>\n",
              "      <th>2015-01-02</th>\n",
              "      <td>0.163708</td>\n",
              "      <td>0</td>\n",
              "    </tr>\n",
              "    <tr>\n",
              "      <th>2015-01-05</th>\n",
              "      <td>3.167617</td>\n",
              "      <td>1</td>\n",
              "    </tr>\n",
              "    <tr>\n",
              "      <th>2015-01-06</th>\n",
              "      <td>0.292249</td>\n",
              "      <td>0</td>\n",
              "    </tr>\n",
              "    <tr>\n",
              "      <th>2015-01-07</th>\n",
              "      <td>-1.341501</td>\n",
              "      <td>0</td>\n",
              "    </tr>\n",
              "    <tr>\n",
              "      <th>2015-01-08</th>\n",
              "      <td>-0.668903</td>\n",
              "      <td>0</td>\n",
              "    </tr>\n",
              "    <tr>\n",
              "      <th>...</th>\n",
              "      <td>...</td>\n",
              "      <td>...</td>\n",
              "    </tr>\n",
              "    <tr>\n",
              "      <th>2020-06-22</th>\n",
              "      <td>-1.465151</td>\n",
              "      <td>0</td>\n",
              "    </tr>\n",
              "    <tr>\n",
              "      <th>2020-06-23</th>\n",
              "      <td>1.610168</td>\n",
              "      <td>0</td>\n",
              "    </tr>\n",
              "    <tr>\n",
              "      <th>2020-06-24</th>\n",
              "      <td>0.077145</td>\n",
              "      <td>0</td>\n",
              "    </tr>\n",
              "    <tr>\n",
              "      <th>2020-06-25</th>\n",
              "      <td>-0.935900</td>\n",
              "      <td>0</td>\n",
              "    </tr>\n",
              "    <tr>\n",
              "      <th>2020-06-26</th>\n",
              "      <td>0.599945</td>\n",
              "      <td>0</td>\n",
              "    </tr>\n",
              "  </tbody>\n",
              "</table>\n",
              "<p>1344 rows × 2 columns</p>\n",
              "</div>"
            ],
            "text/plain": [
              "            percentchg  shock\n",
              "date                         \n",
              "2015-01-02    0.163708      0\n",
              "2015-01-05    3.167617      1\n",
              "2015-01-06    0.292249      0\n",
              "2015-01-07   -1.341501      0\n",
              "2015-01-08   -0.668903      0\n",
              "...                ...    ...\n",
              "2020-06-22   -1.465151      0\n",
              "2020-06-23    1.610168      0\n",
              "2020-06-24    0.077145      0\n",
              "2020-06-25   -0.935900      0\n",
              "2020-06-26    0.599945      0\n",
              "\n",
              "[1344 rows x 2 columns]"
            ]
          },
          "metadata": {
            "tags": []
          },
          "execution_count": 28
        }
      ]
    },
    {
      "cell_type": "code",
      "metadata": {
        "colab": {
          "base_uri": "https://localhost:8080/",
          "height": 363
        },
        "id": "QepHo2QDL0Af",
        "outputId": "7e1784d8-9f00-44ee-87bf-d8d63f60cd00"
      },
      "source": [
        "altdata_closepercentchg = reverseboolean_shock(2, bse_data, 'close')\n",
        "altdata_closepercentchg.reset_index(inplace=True)\n",
        "altdata_closepercentchg.rename(columns={list(altdata_closepercentchg)[0]:'date'}, inplace=True)\n",
        "alt.Chart(altdata_closepercentchg).mark_point().encode(\n",
        "    x='date',\n",
        "    y='percentchg'\n",
        ")"
      ],
      "execution_count": 29,
      "outputs": [
        {
          "output_type": "execute_result",
          "data": {
            "text/plain": [
              "alt.Chart(...)"
            ],
            "text/html": [
              "\n",
              "<div id=\"altair-viz-b277fad1c3924ee7bd2b4c36f0fa2a9d\"></div>\n",
              "<script type=\"text/javascript\">\n",
              "  (function(spec, embedOpt){\n",
              "    let outputDiv = document.currentScript.previousElementSibling;\n",
              "    if (outputDiv.id !== \"altair-viz-b277fad1c3924ee7bd2b4c36f0fa2a9d\") {\n",
              "      outputDiv = document.getElementById(\"altair-viz-b277fad1c3924ee7bd2b4c36f0fa2a9d\");\n",
              "    }\n",
              "    const paths = {\n",
              "      \"vega\": \"https://cdn.jsdelivr.net/npm//vega@5?noext\",\n",
              "      \"vega-lib\": \"https://cdn.jsdelivr.net/npm//vega-lib?noext\",\n",
              "      \"vega-lite\": \"https://cdn.jsdelivr.net/npm//vega-lite@4.8.1?noext\",\n",
              "      \"vega-embed\": \"https://cdn.jsdelivr.net/npm//vega-embed@6?noext\",\n",
              "    };\n",
              "\n",
              "    function loadScript(lib) {\n",
              "      return new Promise(function(resolve, reject) {\n",
              "        var s = document.createElement('script');\n",
              "        s.src = paths[lib];\n",
              "        s.async = true;\n",
              "        s.onload = () => resolve(paths[lib]);\n",
              "        s.onerror = () => reject(`Error loading script: ${paths[lib]}`);\n",
              "        document.getElementsByTagName(\"head\")[0].appendChild(s);\n",
              "      });\n",
              "    }\n",
              "\n",
              "    function showError(err) {\n",
              "      outputDiv.innerHTML = `<div class=\"error\" style=\"color:red;\">${err}</div>`;\n",
              "      throw err;\n",
              "    }\n",
              "\n",
              "    function displayChart(vegaEmbed) {\n",
              "      vegaEmbed(outputDiv, spec, embedOpt)\n",
              "        .catch(err => showError(`Javascript Error: ${err.message}<br>This usually means there's a typo in your chart specification. See the javascript console for the full traceback.`));\n",
              "    }\n",
              "\n",
              "    if(typeof define === \"function\" && define.amd) {\n",
              "      requirejs.config({paths});\n",
              "      require([\"vega-embed\"], displayChart, err => showError(`Error loading script: ${err.message}`));\n",
              "    } else if (typeof vegaEmbed === \"function\") {\n",
              "      displayChart(vegaEmbed);\n",
              "    } else {\n",
              "      loadScript(\"vega\")\n",
              "        .then(() => loadScript(\"vega-lite\"))\n",
              "        .then(() => loadScript(\"vega-embed\"))\n",
              "        .catch(showError)\n",
              "        .then(() => displayChart(vegaEmbed));\n",
              "    }\n",
              "  })({\"config\": {\"view\": {\"continuousWidth\": 400, \"continuousHeight\": 300}}, \"data\": {\"name\": \"data-5cf119e0061e934431190e2515011c50\"}, \"mark\": \"point\", \"encoding\": {\"x\": {\"type\": \"temporal\", \"field\": \"date\"}, \"y\": {\"type\": \"quantitative\", \"field\": \"percentchg\"}}, \"$schema\": \"https://vega.github.io/schema/vega-lite/v4.8.1.json\", \"datasets\": {\"data-5cf119e0061e934431190e2515011c50\": [{\"date\": \"2015-01-02T00:00:00\", \"percentchg\": 0.16370790082655962, \"shock\": 0}, {\"date\": \"2015-01-05T00:00:00\", \"percentchg\": 3.1676169054204895, \"shock\": 1}, {\"date\": \"2015-01-06T00:00:00\", \"percentchg\": 0.2922485047160084, \"shock\": 0}, {\"date\": \"2015-01-07T00:00:00\", \"percentchg\": -1.3415013850685331, \"shock\": 0}, {\"date\": \"2015-01-08T00:00:00\", \"percentchg\": -0.6689029583195172, \"shock\": 0}, {\"date\": \"2015-01-09T00:00:00\", \"percentchg\": -0.45998706567378367, \"shock\": 0}, {\"date\": \"2015-01-12T00:00:00\", \"percentchg\": 0.5817130839296469, \"shock\": 0}, {\"date\": \"2015-01-13T00:00:00\", \"percentchg\": 0.2885533138707652, \"shock\": 0}, {\"date\": \"2015-01-14T00:00:00\", \"percentchg\": -2.5956052453890766, \"shock\": 0}, {\"date\": \"2015-01-15T00:00:00\", \"percentchg\": -0.16478210646621028, \"shock\": 0}, {\"date\": \"2015-01-16T00:00:00\", \"percentchg\": -0.49578618713601585, \"shock\": 0}, {\"date\": \"2015-01-19T00:00:00\", \"percentchg\": -1.8157587273662013, \"shock\": 0}, {\"date\": \"2015-01-20T00:00:00\", \"percentchg\": -0.36065616773767184, \"shock\": 0}, {\"date\": \"2015-01-21T00:00:00\", \"percentchg\": -0.40391669778673256, \"shock\": 0}, {\"date\": \"2015-01-22T00:00:00\", \"percentchg\": -0.931800282920836, \"shock\": 0}, {\"date\": \"2015-01-23T00:00:00\", \"percentchg\": -0.9881263155224973, \"shock\": 0}, {\"date\": \"2015-01-27T00:00:00\", \"percentchg\": 0.04012078523618623, \"shock\": 0}, {\"date\": \"2015-01-28T00:00:00\", \"percentchg\": -0.4130139330841942, \"shock\": 0}, {\"date\": \"2015-01-29T00:00:00\", \"percentchg\": 1.7092868467848632, \"shock\": 0}, {\"date\": \"2015-01-30T00:00:00\", \"percentchg\": 0.20836180859766795, \"shock\": 0}, {\"date\": \"2015-02-02T00:00:00\", \"percentchg\": 0.42113211735503864, \"shock\": 0}, {\"date\": \"2015-02-03T00:00:00\", \"percentchg\": 0.40518923527428363, \"shock\": 0}, {\"date\": \"2015-02-04T00:00:00\", \"percentchg\": 0.11139546119853794, \"shock\": 0}, {\"date\": \"2015-02-05T00:00:00\", \"percentchg\": 0.4633364550241881, \"shock\": 0}, {\"date\": \"2015-02-06T00:00:00\", \"percentchg\": 1.737743094168831, \"shock\": 0}, {\"date\": \"2015-02-09T00:00:00\", \"percentchg\": -0.45221553791180424, \"shock\": 0}, {\"date\": \"2015-02-10T00:00:00\", \"percentchg\": -0.6250499250721742, \"shock\": 0}, {\"date\": \"2015-02-11T00:00:00\", \"percentchg\": -0.9412531458900308, \"shock\": 0}, {\"date\": \"2015-02-12T00:00:00\", \"percentchg\": -0.9961532172030663, \"shock\": 0}, {\"date\": \"2015-02-13T00:00:00\", \"percentchg\": -0.14055237276899835, \"shock\": 0}, {\"date\": \"2015-02-16T00:00:00\", \"percentchg\": -0.6288447228089189, \"shock\": 0}, {\"date\": \"2015-02-18T00:00:00\", \"percentchg\": -0.4820055205671525, \"shock\": 0}, {\"date\": \"2015-02-19T00:00:00\", \"percentchg\": 0.7897647556720511, \"shock\": 0}, {\"date\": \"2015-02-20T00:00:00\", \"percentchg\": 0.8845550086901133, \"shock\": 0}, {\"date\": \"2015-02-23T00:00:00\", \"percentchg\": -0.10188287361688753, \"shock\": 0}, {\"date\": \"2015-02-24T00:00:00\", \"percentchg\": -0.011479865023722446, \"shock\": 0}, {\"date\": \"2015-02-25T00:00:00\", \"percentchg\": 0.9091140713744839, \"shock\": 0}, {\"date\": \"2015-02-26T00:00:00\", \"percentchg\": -1.6203518805703032, \"shock\": 0}, {\"date\": \"2015-02-27T00:00:00\", \"percentchg\": -0.8113661135524031, \"shock\": 0}, {\"date\": \"2015-03-02T00:00:00\", \"percentchg\": -0.4547917468266549, \"shock\": 0}, {\"date\": \"2015-03-03T00:00:00\", \"percentchg\": 0.7249649569691652, \"shock\": 0}, {\"date\": \"2015-03-04T00:00:00\", \"percentchg\": -0.23165087994571065, \"shock\": 0}, {\"date\": \"2015-03-05T00:00:00\", \"percentchg\": 2.09455553691984, \"shock\": 1}, {\"date\": \"2015-03-09T00:00:00\", \"percentchg\": 0.4699086421787291, \"shock\": 0}, {\"date\": \"2015-03-10T00:00:00\", \"percentchg\": 0.17690400276144658, \"shock\": 0}, {\"date\": \"2015-03-11T00:00:00\", \"percentchg\": -0.9375609709992405, \"shock\": 0}, {\"date\": \"2015-03-12T00:00:00\", \"percentchg\": 1.4984558394758318, \"shock\": 0}, {\"date\": \"2015-03-13T00:00:00\", \"percentchg\": 0.23064389357552173, \"shock\": 0}, {\"date\": \"2015-03-16T00:00:00\", \"percentchg\": -1.039344249147367, \"shock\": 0}, {\"date\": \"2015-03-17T00:00:00\", \"percentchg\": 0.39920775323663005, \"shock\": 0}, {\"date\": \"2015-03-18T00:00:00\", \"percentchg\": 0.5354794037596644, \"shock\": 0}, {\"date\": \"2015-03-19T00:00:00\", \"percentchg\": 0.7380816415132552, \"shock\": 0}, {\"date\": \"2015-03-20T00:00:00\", \"percentchg\": 0.24496488021530372, \"shock\": 0}, {\"date\": \"2015-03-23T00:00:00\", \"percentchg\": 0.10758869617522038, \"shock\": 0}, {\"date\": \"2015-03-24T00:00:00\", \"percentchg\": 0.17747199261430868, \"shock\": 0}, {\"date\": \"2015-03-25T00:00:00\", \"percentchg\": 2.3827664278442073, \"shock\": 1}, {\"date\": \"2015-03-26T00:00:00\", \"percentchg\": -0.003862342966953758, \"shock\": 0}, {\"date\": \"2015-03-27T00:00:00\", \"percentchg\": -1.8488037956832182, \"shock\": 0}, {\"date\": \"2015-03-30T00:00:00\", \"percentchg\": 0.06570382559738519, \"shock\": 0}, {\"date\": \"2015-03-31T00:00:00\", \"percentchg\": -1.0709443899839077, \"shock\": 0}, {\"date\": \"2015-04-01T00:00:00\", \"percentchg\": -0.8571300928500447, \"shock\": 0}, {\"date\": \"2015-04-06T00:00:00\", \"percentchg\": -0.0425328074515785, \"shock\": 0}, {\"date\": \"2015-04-07T00:00:00\", \"percentchg\": -0.6658834504619793, \"shock\": 0}, {\"date\": \"2015-04-08T00:00:00\", \"percentchg\": -0.6143660777966242, \"shock\": 0}, {\"date\": \"2015-04-09T00:00:00\", \"percentchg\": 0.020187683916739196, \"shock\": 0}, {\"date\": \"2015-04-10T00:00:00\", \"percentchg\": -0.5682967096555247, \"shock\": 0}, {\"date\": \"2015-04-13T00:00:00\", \"percentchg\": 0.8498355525616397, \"shock\": 0}, {\"date\": \"2015-04-15T00:00:00\", \"percentchg\": 0.466232500184649, \"shock\": 0}, {\"date\": \"2015-04-16T00:00:00\", \"percentchg\": 0.7873520457370997, \"shock\": 0}, {\"date\": \"2015-04-17T00:00:00\", \"percentchg\": 1.9934177257745267, \"shock\": 0}, {\"date\": \"2015-04-20T00:00:00\", \"percentchg\": 0.7594001241484571, \"shock\": 0}, {\"date\": \"2015-04-21T00:00:00\", \"percentchg\": -0.767625644908132, \"shock\": 0}, {\"date\": \"2015-04-22T00:00:00\", \"percentchg\": 0.5592616509616288, \"shock\": 0}, {\"date\": \"2015-04-23T00:00:00\", \"percentchg\": 1.0827346515307035, \"shock\": 0}, {\"date\": \"2015-04-24T00:00:00\", \"percentchg\": 0.9601843931192011, \"shock\": 0}, {\"date\": \"2015-04-27T00:00:00\", \"percentchg\": -0.8008014858828516, \"shock\": 0}, {\"date\": \"2015-04-28T00:00:00\", \"percentchg\": 0.6260618969910148, \"shock\": 0}, {\"date\": \"2015-04-29T00:00:00\", \"percentchg\": 0.794552860560227, \"shock\": 0}, {\"date\": \"2015-04-30T00:00:00\", \"percentchg\": -1.7434303869036993, \"shock\": 0}, {\"date\": \"2015-05-04T00:00:00\", \"percentchg\": 0.18385189580274464, \"shock\": 0}, {\"date\": \"2015-05-05T00:00:00\", \"percentchg\": 2.7052494598953425, \"shock\": 1}, {\"date\": \"2015-05-06T00:00:00\", \"percentchg\": 0.44460047123289215, \"shock\": 0}, {\"date\": \"2015-05-07T00:00:00\", \"percentchg\": -1.8678249540998837, \"shock\": 0}, {\"date\": \"2015-05-08T00:00:00\", \"percentchg\": -1.461103579177625, \"shock\": 0}, {\"date\": \"2015-05-11T00:00:00\", \"percentchg\": 2.3433011633373857, \"shock\": 1}, {\"date\": \"2015-05-12T00:00:00\", \"percentchg\": -1.3710240906993243, \"shock\": 0}, {\"date\": \"2015-05-13T00:00:00\", \"percentchg\": 0.16554790217568893, \"shock\": 0}, {\"date\": \"2015-05-14T00:00:00\", \"percentchg\": -0.4316331910591442, \"shock\": 0}, {\"date\": \"2015-05-15T00:00:00\", \"percentchg\": -1.31215673250471, \"shock\": 0}, {\"date\": \"2015-05-18T00:00:00\", \"percentchg\": 0.15109670690849342, \"shock\": 0}, {\"date\": \"2015-05-19T00:00:00\", \"percentchg\": -0.6885806234516956, \"shock\": 0}, {\"date\": \"2015-05-20T00:00:00\", \"percentchg\": 0.10018691021671522, \"shock\": 0}, {\"date\": \"2015-05-21T00:00:00\", \"percentchg\": -0.5299128699812194, \"shock\": 0}, {\"date\": \"2015-05-22T00:00:00\", \"percentchg\": 1.134497512199495, \"shock\": 0}, {\"date\": \"2015-05-25T00:00:00\", \"percentchg\": 0.40851777110830767, \"shock\": 0}, {\"date\": \"2015-05-26T00:00:00\", \"percentchg\": -0.12062546685329689, \"shock\": 0}, {\"date\": \"2015-05-27T00:00:00\", \"percentchg\": 0.21067302041917202, \"shock\": 0}, {\"date\": \"2015-05-28T00:00:00\", \"percentchg\": -1.156114111849238, \"shock\": 0}, {\"date\": \"2015-05-29T00:00:00\", \"percentchg\": -0.07379363157172802, \"shock\": 0}, {\"date\": \"2015-06-01T00:00:00\", \"percentchg\": 2.429748863740122, \"shock\": 1}, {\"date\": \"2015-06-02T00:00:00\", \"percentchg\": 1.3085629307384883, \"shock\": 0}, {\"date\": \"2015-06-03T00:00:00\", \"percentchg\": 0.08868431160322654, \"shock\": 0}, {\"date\": \"2015-06-04T00:00:00\", \"percentchg\": 0.16784542985657236, \"shock\": 0}, {\"date\": \"2015-06-05T00:00:00\", \"percentchg\": 0.9252330406098075, \"shock\": 0}, {\"date\": \"2015-06-08T00:00:00\", \"percentchg\": 0.15799799386357893, \"shock\": 0}, {\"date\": \"2015-06-09T00:00:00\", \"percentchg\": -1.338462398241469, \"shock\": 0}, {\"date\": \"2015-06-10T00:00:00\", \"percentchg\": 1.7804401766797762, \"shock\": 0}, {\"date\": \"2015-06-11T00:00:00\", \"percentchg\": -0.20556175670304322, \"shock\": 0}, {\"date\": \"2015-06-12T00:00:00\", \"percentchg\": -0.6065096647050572, \"shock\": 0}, {\"date\": \"2015-06-15T00:00:00\", \"percentchg\": -0.3745674696799761, \"shock\": 0}, {\"date\": \"2015-06-16T00:00:00\", \"percentchg\": -0.5446735052504925, \"shock\": 0}, {\"date\": \"2015-06-17T00:00:00\", \"percentchg\": -1.0442974493465318, \"shock\": 0}, {\"date\": \"2015-06-18T00:00:00\", \"percentchg\": -0.7334111785179842, \"shock\": 0}, {\"date\": \"2015-06-19T00:00:00\", \"percentchg\": -1.4931044576551922, \"shock\": 0}, {\"date\": \"2015-06-22T00:00:00\", \"percentchg\": -0.26671420865523876, \"shock\": 0}, {\"date\": \"2015-06-23T00:00:00\", \"percentchg\": 0.2693837285494327, \"shock\": 0}, {\"date\": \"2015-06-24T00:00:00\", \"percentchg\": -0.596146242838469, \"shock\": 0}, {\"date\": \"2015-06-25T00:00:00\", \"percentchg\": 0.30250015765824756, \"shock\": 0}, {\"date\": \"2015-06-26T00:00:00\", \"percentchg\": 0.6029609199794006, \"shock\": 0}, {\"date\": \"2015-06-29T00:00:00\", \"percentchg\": -0.48839320898058647, \"shock\": 0}, {\"date\": \"2015-06-30T00:00:00\", \"percentchg\": -0.8566438867236625, \"shock\": 0}, {\"date\": \"2015-07-01T00:00:00\", \"percentchg\": 0.2686212499781515, \"shock\": 0}, {\"date\": \"2015-07-02T00:00:00\", \"percentchg\": -0.5232242370915352, \"shock\": 0}, {\"date\": \"2015-07-03T00:00:00\", \"percentchg\": -0.41111592316909196, \"shock\": 0}, {\"date\": \"2015-07-06T00:00:00\", \"percentchg\": 0.13158711181195937, \"shock\": 0}, {\"date\": \"2015-07-07T00:00:00\", \"percentchg\": 1.7479544639634303, \"shock\": 0}, {\"date\": \"2015-07-08T00:00:00\", \"percentchg\": 0.41365762190677113, \"shock\": 0}, {\"date\": \"2015-07-09T00:00:00\", \"percentchg\": -0.31719375424223983, \"shock\": 0}, {\"date\": \"2015-07-10T00:00:00\", \"percentchg\": -1.0721613363500748, \"shock\": 0}, {\"date\": \"2015-07-13T00:00:00\", \"percentchg\": 0.10127506311337076, \"shock\": 0}, {\"date\": \"2015-07-14T00:00:00\", \"percentchg\": -0.941151682241359, \"shock\": 0}, {\"date\": \"2015-07-15T00:00:00\", \"percentchg\": -0.8712263240543971, \"shock\": 0}, {\"date\": \"2015-07-16T00:00:00\", \"percentchg\": -0.060398477618017754, \"shock\": 0}, {\"date\": \"2015-07-17T00:00:00\", \"percentchg\": 0.1519747543502037, \"shock\": 0}, {\"date\": \"2015-07-20T00:00:00\", \"percentchg\": 0.8444302325774755, \"shock\": 0}, {\"date\": \"2015-07-21T00:00:00\", \"percentchg\": -1.1323973292996725, \"shock\": 0}, {\"date\": \"2015-07-22T00:00:00\", \"percentchg\": 0.47263262028367503, \"shock\": 0}, {\"date\": \"2015-07-23T00:00:00\", \"percentchg\": 0.919630197040977, \"shock\": 0}, {\"date\": \"2015-07-24T00:00:00\", \"percentchg\": 1.998919032072366, \"shock\": 0}, {\"date\": \"2015-07-27T00:00:00\", \"percentchg\": 0.3720074775629634, \"shock\": 0}, {\"date\": \"2015-07-28T00:00:00\", \"percentchg\": -0.3780343009972209, \"shock\": 0}, {\"date\": \"2015-07-29T00:00:00\", \"percentchg\": -0.512247359719209, \"shock\": 0}, {\"date\": \"2015-07-30T00:00:00\", \"percentchg\": -1.4555124801532204, \"shock\": 0}, {\"date\": \"2015-07-31T00:00:00\", \"percentchg\": -0.25721021842427527, \"shock\": 0}, {\"date\": \"2015-08-03T00:00:00\", \"percentchg\": 0.4101280555225406, \"shock\": 0}, {\"date\": \"2015-08-04T00:00:00\", \"percentchg\": -0.5355559712355906, \"shock\": 0}, {\"date\": \"2015-08-05T00:00:00\", \"percentchg\": -0.26521462361933645, \"shock\": 0}, {\"date\": \"2015-08-06T00:00:00\", \"percentchg\": 0.21865483869718538, \"shock\": 0}, {\"date\": \"2015-08-07T00:00:00\", \"percentchg\": 0.4792230457974167, \"shock\": 0}, {\"date\": \"2015-08-10T00:00:00\", \"percentchg\": 0.8455827878838473, \"shock\": 0}, {\"date\": \"2015-08-11T00:00:00\", \"percentchg\": 1.2860814819984023, \"shock\": 0}, {\"date\": \"2015-08-12T00:00:00\", \"percentchg\": -0.13528191661056344, \"shock\": 0}, {\"date\": \"2015-08-13T00:00:00\", \"percentchg\": -1.844783985039311, \"shock\": 0}, {\"date\": \"2015-08-14T00:00:00\", \"percentchg\": 0.6780945116162895, \"shock\": 0}, {\"date\": \"2015-08-17T00:00:00\", \"percentchg\": 0.16790472364844877, \"shock\": 0}, {\"date\": \"2015-08-18T00:00:00\", \"percentchg\": -0.3583805328298717, \"shock\": 0}, {\"date\": \"2015-08-19T00:00:00\", \"percentchg\": 1.1729296584612525, \"shock\": 0}, {\"date\": \"2015-08-20T00:00:00\", \"percentchg\": 0.8833931844776988, \"shock\": 0}, {\"date\": \"2015-08-21T00:00:00\", \"percentchg\": 6.310844141196448, \"shock\": 1}, {\"date\": \"2015-08-24T00:00:00\", \"percentchg\": -1.1171483471718924, \"shock\": 0}, {\"date\": \"2015-08-25T00:00:00\", \"percentchg\": 1.2355625203461118, \"shock\": 0}, {\"date\": \"2015-08-26T00:00:00\", \"percentchg\": -1.9691417264857014, \"shock\": 0}, {\"date\": \"2015-08-27T00:00:00\", \"percentchg\": -0.6107497732351863, \"shock\": 0}, {\"date\": \"2015-08-28T00:00:00\", \"percentchg\": 0.4158225546338823, \"shock\": 0}, {\"date\": \"2015-08-31T00:00:00\", \"percentchg\": 2.2830026381482016, \"shock\": 1}, {\"date\": \"2015-09-01T00:00:00\", \"percentchg\": 0.9542040525242657, \"shock\": 0}, {\"date\": \"2015-09-02T00:00:00\", \"percentchg\": -1.2079232133680562, \"shock\": 0}, {\"date\": \"2015-09-03T00:00:00\", \"percentchg\": 2.2334780215994776, \"shock\": 1}, {\"date\": \"2015-09-04T00:00:00\", \"percentchg\": 1.2376162466966045, \"shock\": 0}, {\"date\": \"2015-09-07T00:00:00\", \"percentchg\": -1.6749379317612334, \"shock\": 0}, {\"date\": \"2015-09-08T00:00:00\", \"percentchg\": -1.561887621336644, \"shock\": 0}, {\"date\": \"2015-09-09T00:00:00\", \"percentchg\": 0.3801791828990764, \"shock\": 0}, {\"date\": \"2015-09-10T00:00:00\", \"percentchg\": 0.04669615726393683, \"shock\": 0}, {\"date\": \"2015-09-11T00:00:00\", \"percentchg\": -0.9532859517941028, \"shock\": 0}, {\"date\": \"2015-09-14T00:00:00\", \"percentchg\": 0.5865165472825229, \"shock\": 0}, {\"date\": \"2015-09-15T00:00:00\", \"percentchg\": -0.9938426544054857, \"shock\": 0}, {\"date\": \"2015-09-16T00:00:00\", \"percentchg\": -0.9723495431568474, \"shock\": 0}, {\"date\": \"2015-09-18T00:00:00\", \"percentchg\": 0.09899479568937775, \"shock\": 0}, {\"date\": \"2015-09-21T00:00:00\", \"percentchg\": 2.1095587228681767, \"shock\": 1}, {\"date\": \"2015-09-22T00:00:00\", \"percentchg\": -0.6627830048789973, \"shock\": 0}, {\"date\": \"2015-09-23T00:00:00\", \"percentchg\": -0.15662909360681931, \"shock\": 0}, {\"date\": \"2015-09-24T00:00:00\", \"percentchg\": 0.9628828448571491, \"shock\": 0}, {\"date\": \"2015-09-28T00:00:00\", \"percentchg\": -0.6277297249708602, \"shock\": 0}, {\"date\": \"2015-09-29T00:00:00\", \"percentchg\": -1.4382426525095804, \"shock\": 0}, {\"date\": \"2015-09-30T00:00:00\", \"percentchg\": -0.2521615067150984, \"shock\": 0}, {\"date\": \"2015-10-01T00:00:00\", \"percentchg\": -2.1078587000541438, \"shock\": 0}, {\"date\": \"2015-10-05T00:00:00\", \"percentchg\": -0.5470268067283901, \"shock\": 0}, {\"date\": \"2015-10-06T00:00:00\", \"percentchg\": -0.38086004874170465, \"shock\": 0}, {\"date\": \"2015-10-07T00:00:00\", \"percentchg\": 0.7078909469623751, \"shock\": 0}, {\"date\": \"2015-10-08T00:00:00\", \"percentchg\": -0.8630112611811791, \"shock\": 0}, {\"date\": \"2015-10-09T00:00:00\", \"percentchg\": 0.6519464672857245, \"shock\": 0}, {\"date\": \"2015-10-12T00:00:00\", \"percentchg\": 0.21447866682604566, \"shock\": 0}, {\"date\": \"2015-10-13T00:00:00\", \"percentchg\": 0.24970122934659944, \"shock\": 0}, {\"date\": \"2015-10-14T00:00:00\", \"percentchg\": -0.8533108803464473, \"shock\": 0}, {\"date\": \"2015-10-15T00:00:00\", \"percentchg\": -0.7512841905069512, \"shock\": 0}, {\"date\": \"2015-10-16T00:00:00\", \"percentchg\": -0.5493175676345996, \"shock\": 0}, {\"date\": \"2015-10-19T00:00:00\", \"percentchg\": 0.21273008834714613, \"shock\": 0}, {\"date\": \"2015-10-20T00:00:00\", \"percentchg\": 0.0702512482390727, \"shock\": 0}, {\"date\": \"2015-10-21T00:00:00\", \"percentchg\": -0.6667090885887017, \"shock\": 0}, {\"date\": \"2015-10-23T00:00:00\", \"percentchg\": 0.3978136275526234, \"shock\": 0}, {\"date\": \"2015-10-26T00:00:00\", \"percentchg\": 0.39819371995837294, \"shock\": 0}, {\"date\": \"2015-10-27T00:00:00\", \"percentchg\": 0.7902425515320166, \"shock\": 0}, {\"date\": \"2015-10-28T00:00:00\", \"percentchg\": 0.7512410917065893, \"shock\": 0}, {\"date\": \"2015-10-29T00:00:00\", \"percentchg\": 0.680165444817038, \"shock\": 0}, {\"date\": \"2015-10-30T00:00:00\", \"percentchg\": 0.3677816724682481, \"shock\": 0}, {\"date\": \"2015-11-02T00:00:00\", \"percentchg\": -0.11823526032984644, \"shock\": 0}, {\"date\": \"2015-11-03T00:00:00\", \"percentchg\": 0.1418673425967132, \"shock\": 0}, {\"date\": \"2015-11-04T00:00:00\", \"percentchg\": 0.9455551224220926, \"shock\": 0}, {\"date\": \"2015-11-05T00:00:00\", \"percentchg\": 0.14832906163184667, \"shock\": 0}, {\"date\": \"2015-11-06T00:00:00\", \"percentchg\": 0.5506590060218475, \"shock\": 0}, {\"date\": \"2015-11-09T00:00:00\", \"percentchg\": 1.4688917737796903, \"shock\": 0}, {\"date\": \"2015-11-10T00:00:00\", \"percentchg\": 0.518265230723669, \"shock\": 0}, {\"date\": \"2015-11-13T00:00:00\", \"percentchg\": -0.5806278499232431, \"shock\": 0}, {\"date\": \"2015-11-16T00:00:00\", \"percentchg\": -0.4035307544004385, \"shock\": 0}, {\"date\": \"2015-11-17T00:00:00\", \"percentchg\": 1.4988752246676507, \"shock\": 0}, {\"date\": \"2015-11-18T00:00:00\", \"percentchg\": -1.390765050396936, \"shock\": 0}, {\"date\": \"2015-11-19T00:00:00\", \"percentchg\": -0.10271303914247687, \"shock\": 0}, {\"date\": \"2015-11-20T00:00:00\", \"percentchg\": 0.19036269293655206, \"shock\": 0}, {\"date\": \"2015-11-23T00:00:00\", \"percentchg\": 0.16914978572315498, \"shock\": 0}, {\"date\": \"2015-11-24T00:00:00\", \"percentchg\": -0.704546499354175, \"shock\": 0}, {\"date\": \"2015-11-26T00:00:00\", \"percentchg\": -0.6489860168140349, \"shock\": 0}, {\"date\": \"2015-11-27T00:00:00\", \"percentchg\": -0.06682063675248484, \"shock\": 0}, {\"date\": \"2015-11-30T00:00:00\", \"percentchg\": -0.09071749891669256, \"shock\": 0}, {\"date\": \"2015-12-01T00:00:00\", \"percentchg\": 0.19741497729006685, \"shock\": 0}, {\"date\": \"2015-12-02T00:00:00\", \"percentchg\": 0.8932432137772617, \"shock\": 0}, {\"date\": \"2015-12-03T00:00:00\", \"percentchg\": 0.9692983284770751, \"shock\": 0}, {\"date\": \"2015-12-04T00:00:00\", \"percentchg\": 0.42302991504516996, \"shock\": 0}, {\"date\": \"2015-12-07T00:00:00\", \"percentchg\": 0.8683383274600054, \"shock\": 0}, {\"date\": \"2015-12-08T00:00:00\", \"percentchg\": 1.0955373883504649, \"shock\": 0}, {\"date\": \"2015-12-09T00:00:00\", \"percentchg\": -0.856434294249564, \"shock\": 0}, {\"date\": \"2015-12-10T00:00:00\", \"percentchg\": 0.8300872792633918, \"shock\": 0}, {\"date\": \"2015-12-11T00:00:00\", \"percentchg\": -0.4211469165244397, \"shock\": 0}, {\"date\": \"2015-12-14T00:00:00\", \"percentchg\": -0.671749177437786, \"shock\": 0}, {\"date\": \"2015-12-15T00:00:00\", \"percentchg\": -0.6822278540826732, \"shock\": 0}, {\"date\": \"2015-12-16T00:00:00\", \"percentchg\": -1.1990885237786575, \"shock\": 0}, {\"date\": \"2015-12-17T00:00:00\", \"percentchg\": 1.115075562300194, \"shock\": 0}, {\"date\": \"2015-12-18T00:00:00\", \"percentchg\": -0.8419355227957448, \"shock\": 0}, {\"date\": \"2015-12-21T00:00:00\", \"percentchg\": 0.5675901072573319, \"shock\": 0}, {\"date\": \"2015-12-22T00:00:00\", \"percentchg\": -1.00443856658462, \"shock\": 0}, {\"date\": \"2015-12-23T00:00:00\", \"percentchg\": 0.044854574123420754, \"shock\": 0}, {\"date\": \"2015-12-24T00:00:00\", \"percentchg\": -0.7506297134733386, \"shock\": 0}, {\"date\": \"2015-12-28T00:00:00\", \"percentchg\": -0.17389000302111546, \"shock\": 0}, {\"date\": \"2015-12-29T00:00:00\", \"percentchg\": 0.46013496560028955, \"shock\": 0}, {\"date\": \"2015-12-30T00:00:00\", \"percentchg\": -0.603080425181235, \"shock\": 0}, {\"date\": \"2015-12-31T00:00:00\", \"percentchg\": 1.9286684241477392, \"shock\": 0}, {\"date\": \"2016-01-04T00:00:00\", \"percentchg\": 0.16813602120890891, \"shock\": 0}, {\"date\": \"2016-01-05T00:00:00\", \"percentchg\": 0.6849071278296259, \"shock\": 0}, {\"date\": \"2016-01-06T00:00:00\", \"percentchg\": 2.231224011498778, \"shock\": 1}, {\"date\": \"2016-01-07T00:00:00\", \"percentchg\": -0.33086912598617735, \"shock\": 0}, {\"date\": \"2016-01-08T00:00:00\", \"percentchg\": 0.4402450902487809, \"shock\": 0}, {\"date\": \"2016-01-11T00:00:00\", \"percentchg\": 0.5794084591055348, \"shock\": 0}, {\"date\": \"2016-01-12T00:00:00\", \"percentchg\": -0.6923606697333162, \"shock\": 0}, {\"date\": \"2016-01-13T00:00:00\", \"percentchg\": 0.32752903496053865, \"shock\": 0}, {\"date\": \"2016-01-14T00:00:00\", \"percentchg\": 1.3000659692771643, \"shock\": 0}, {\"date\": \"2016-01-15T00:00:00\", \"percentchg\": 1.1024716892844122, \"shock\": 0}, {\"date\": \"2016-01-18T00:00:00\", \"percentchg\": -1.1906560867448457, \"shock\": 0}, {\"date\": \"2016-01-19T00:00:00\", \"percentchg\": 1.7363481962803906, \"shock\": 0}, {\"date\": \"2016-01-20T00:00:00\", \"percentchg\": 0.4166064861893526, \"shock\": 0}, {\"date\": \"2016-01-21T00:00:00\", \"percentchg\": -1.937533979939987, \"shock\": 0}, {\"date\": \"2016-01-22T00:00:00\", \"percentchg\": -0.20537926486219327, \"shock\": 0}, {\"date\": \"2016-01-25T00:00:00\", \"percentchg\": -0.026299622395475897, \"shock\": 0}, {\"date\": \"2016-01-27T00:00:00\", \"percentchg\": 0.09325996414550897, \"shock\": 0}, {\"date\": \"2016-01-28T00:00:00\", \"percentchg\": -1.6128187414386264, \"shock\": 0}, {\"date\": \"2016-01-29T00:00:00\", \"percentchg\": 0.18473187875074348, \"shock\": 0}, {\"date\": \"2016-02-01T00:00:00\", \"percentchg\": 1.1647992099311333, \"shock\": 0}, {\"date\": \"2016-02-02T00:00:00\", \"percentchg\": 1.3032056853787166, \"shock\": 0}, {\"date\": \"2016-02-03T00:00:00\", \"percentchg\": -0.47295317108777546, \"shock\": 0}, {\"date\": \"2016-02-04T00:00:00\", \"percentchg\": -1.1314999679860716, \"shock\": 0}, {\"date\": \"2016-02-05T00:00:00\", \"percentchg\": 1.3568785087508806, \"shock\": 0}, {\"date\": \"2016-02-08T00:00:00\", \"percentchg\": 1.1091947452837037, \"shock\": 0}, {\"date\": \"2016-02-09T00:00:00\", \"percentchg\": 1.1030816823004663, \"shock\": 0}, {\"date\": \"2016-02-10T00:00:00\", \"percentchg\": 3.516365839904001, \"shock\": 1}, {\"date\": \"2016-02-11T00:00:00\", \"percentchg\": -0.14917290861595767, \"shock\": 0}, {\"date\": \"2016-02-12T00:00:00\", \"percentchg\": -2.4114678057322925, \"shock\": 0}, {\"date\": \"2016-02-15T00:00:00\", \"percentchg\": 1.5615250732064823, \"shock\": 0}, {\"date\": \"2016-02-16T00:00:00\", \"percentchg\": -0.8121610653019196, \"shock\": 0}, {\"date\": \"2016-02-17T00:00:00\", \"percentchg\": -1.1304878323735723, \"shock\": 0}, {\"date\": \"2016-02-18T00:00:00\", \"percentchg\": -0.25277028705211757, \"shock\": 0}, {\"date\": \"2016-02-19T00:00:00\", \"percentchg\": -0.33477396291911043, \"shock\": 0}, {\"date\": \"2016-02-22T00:00:00\", \"percentchg\": 1.6172852154661577, \"shock\": 0}, {\"date\": \"2016-02-23T00:00:00\", \"percentchg\": 1.391359427864347, \"shock\": 0}, {\"date\": \"2016-02-24T00:00:00\", \"percentchg\": 0.4915115228934619, \"shock\": 0}, {\"date\": \"2016-02-25T00:00:00\", \"percentchg\": -0.77005469927377, \"shock\": 0}, {\"date\": \"2016-02-26T00:00:00\", \"percentchg\": 0.6621197341535545, \"shock\": 0}, {\"date\": \"2016-02-29T00:00:00\", \"percentchg\": -3.2690112309401886, \"shock\": 0}, {\"date\": \"2016-03-01T00:00:00\", \"percentchg\": -1.9124334154071332, \"shock\": 0}, {\"date\": \"2016-03-02T00:00:00\", \"percentchg\": -1.4792941442976382, \"shock\": 0}, {\"date\": \"2016-03-03T00:00:00\", \"percentchg\": -0.16022666775920014, \"shock\": 0}, {\"date\": \"2016-03-04T00:00:00\", \"percentchg\": -0.0517047764980294, \"shock\": 0}, {\"date\": \"2016-03-08T00:00:00\", \"percentchg\": -0.5434003428884338, \"shock\": 0}, {\"date\": \"2016-03-09T00:00:00\", \"percentchg\": 0.6929242533006974, \"shock\": 0}, {\"date\": \"2016-03-10T00:00:00\", \"percentchg\": -0.38292106165399575, \"shock\": 0}, {\"date\": \"2016-03-11T00:00:00\", \"percentchg\": -0.34787974069809824, \"shock\": 0}, {\"date\": \"2016-03-14T00:00:00\", \"percentchg\": 1.0309462881216147, \"shock\": 0}, {\"date\": \"2016-03-15T00:00:00\", \"percentchg\": -0.5319989903010303, \"shock\": 0}, {\"date\": \"2016-03-16T00:00:00\", \"percentchg\": 0.020712613633455668, \"shock\": 0}, {\"date\": \"2016-03-17T00:00:00\", \"percentchg\": -1.1035705544301222, \"shock\": 0}, {\"date\": \"2016-03-18T00:00:00\", \"percentchg\": -1.315499506454021, \"shock\": 0}, {\"date\": \"2016-03-21T00:00:00\", \"percentchg\": -0.1781295716447251, \"shock\": 0}, {\"date\": \"2016-03-22T00:00:00\", \"percentchg\": -0.02790447204623625, \"shock\": 0}, {\"date\": \"2016-03-23T00:00:00\", \"percentchg\": 1.4866386441089618, \"shock\": 0}, {\"date\": \"2016-03-28T00:00:00\", \"percentchg\": 0.2648121787404145, \"shock\": 0}, {\"date\": \"2016-03-29T00:00:00\", \"percentchg\": -1.729059557694912, \"shock\": 0}, {\"date\": \"2016-03-30T00:00:00\", \"percentchg\": -0.012940237835246116, \"shock\": 0}, {\"date\": \"2016-03-31T00:00:00\", \"percentchg\": 0.2857925487414814, \"shock\": 0}, {\"date\": \"2016-04-01T00:00:00\", \"percentchg\": -0.511856516233733, \"shock\": 0}, {\"date\": \"2016-04-04T00:00:00\", \"percentchg\": 2.073899104250909, \"shock\": 1}, {\"date\": \"2016-04-05T00:00:00\", \"percentchg\": -0.06843607987780942, \"shock\": 0}, {\"date\": \"2016-04-06T00:00:00\", \"percentchg\": 0.8718139621732401, \"shock\": 0}, {\"date\": \"2016-04-07T00:00:00\", \"percentchg\": 0.04693261445454233, \"shock\": 0}, {\"date\": \"2016-04-08T00:00:00\", \"percentchg\": -1.3920473305459091, \"shock\": 0}, {\"date\": \"2016-04-11T00:00:00\", \"percentchg\": -0.49086017972522766, \"shock\": 0}, {\"date\": \"2016-04-12T00:00:00\", \"percentchg\": -1.877569946442681, \"shock\": 0}, {\"date\": \"2016-04-13T00:00:00\", \"percentchg\": -0.734454352164049, \"shock\": 0}, {\"date\": \"2016-04-18T00:00:00\", \"percentchg\": -0.10764633598897566, \"shock\": 0}, {\"date\": \"2016-04-20T00:00:00\", \"percentchg\": -0.13987882199919532, \"shock\": 0}, {\"date\": \"2016-04-21T00:00:00\", \"percentchg\": 0.16348016286484857, \"shock\": 0}, {\"date\": \"2016-04-22T00:00:00\", \"percentchg\": 0.6200061273484492, \"shock\": 0}, {\"date\": \"2016-04-25T00:00:00\", \"percentchg\": -1.2626112048765181, \"shock\": 0}, {\"date\": \"2016-04-26T00:00:00\", \"percentchg\": -0.2179945505483838, \"shock\": 0}, {\"date\": \"2016-04-27T00:00:00\", \"percentchg\": 1.8006395252283758, \"shock\": 0}, {\"date\": \"2016-04-28T00:00:00\", \"percentchg\": -0.01374461513513614, \"shock\": 0}, {\"date\": \"2016-04-29T00:00:00\", \"percentchg\": 0.6669364818632229, \"shock\": 0}, {\"date\": \"2016-05-02T00:00:00\", \"percentchg\": 0.821537675015005, \"shock\": 0}, {\"date\": \"2016-05-03T00:00:00\", \"percentchg\": 0.5098005102051051, \"shock\": 0}, {\"date\": \"2016-05-04T00:00:00\", \"percentchg\": -0.6352590006751035, \"shock\": 0}, {\"date\": \"2016-05-05T00:00:00\", \"percentchg\": 0.13362244089025754, \"shock\": 0}, {\"date\": \"2016-05-06T00:00:00\", \"percentchg\": -1.7920584494616199, \"shock\": 0}, {\"date\": \"2016-05-09T00:00:00\", \"percentchg\": -0.32464769332960497, \"shock\": 0}, {\"date\": \"2016-05-10T00:00:00\", \"percentchg\": 0.6856648502015172, \"shock\": 0}, {\"date\": \"2016-05-11T00:00:00\", \"percentchg\": -0.749125701943254, \"shock\": 0}, {\"date\": \"2016-05-12T00:00:00\", \"percentchg\": 1.1795035653369146, \"shock\": 0}, {\"date\": \"2016-05-13T00:00:00\", \"percentchg\": -0.6379709426825086, \"shock\": 0}, {\"date\": \"2016-05-16T00:00:00\", \"percentchg\": -0.46706266281340003, \"shock\": 0}, {\"date\": \"2016-05-17T00:00:00\", \"percentchg\": 0.26843434573686764, \"shock\": 0}, {\"date\": \"2016-05-18T00:00:00\", \"percentchg\": 1.200362300981861, \"shock\": 0}, {\"date\": \"2016-05-19T00:00:00\", \"percentchg\": 0.3866125112730545, \"shock\": 0}, {\"date\": \"2016-05-20T00:00:00\", \"percentchg\": 0.28355131435775505, \"shock\": 0}, {\"date\": \"2016-05-23T00:00:00\", \"percentchg\": -0.2968185378022792, \"shock\": 0}, {\"date\": \"2016-05-24T00:00:00\", \"percentchg\": -2.2243941077154106, \"shock\": 0}, {\"date\": \"2016-05-25T00:00:00\", \"percentchg\": -1.8413762042824522, \"shock\": 0}, {\"date\": \"2016-05-26T00:00:00\", \"percentchg\": -1.076477196626302, \"shock\": 0}, {\"date\": \"2016-05-27T00:00:00\", \"percentchg\": -0.269404619736735, \"shock\": 0}, {\"date\": \"2016-05-30T00:00:00\", \"percentchg\": 0.2161345294080963, \"shock\": 0}, {\"date\": \"2016-05-31T00:00:00\", \"percentchg\": -0.17207782807600047, \"shock\": 0}, {\"date\": \"2016-06-01T00:00:00\", \"percentchg\": -0.4813555138911796, \"shock\": 0}, {\"date\": \"2016-06-02T00:00:00\", \"percentchg\": 0.00041473756098309167, \"shock\": 0}, {\"date\": \"2016-06-03T00:00:00\", \"percentchg\": 0.2449078610485378, \"shock\": 0}, {\"date\": \"2016-06-06T00:00:00\", \"percentchg\": -0.8597687561406553, \"shock\": 0}, {\"date\": \"2016-06-07T00:00:00\", \"percentchg\": -0.040673448803429935, \"shock\": 0}, {\"date\": \"2016-06-08T00:00:00\", \"percentchg\": 0.9610088147815832, \"shock\": 0}, {\"date\": \"2016-06-09T00:00:00\", \"percentchg\": 0.4794719033629713, \"shock\": 0}, {\"date\": \"2016-06-10T00:00:00\", \"percentchg\": 0.9053398313270122, \"shock\": 0}, {\"date\": \"2016-06-13T00:00:00\", \"percentchg\": 0.00401047637059726, \"shock\": 0}, {\"date\": \"2016-06-14T00:00:00\", \"percentchg\": -1.2370901072984664, \"shock\": 0}, {\"date\": \"2016-06-15T00:00:00\", \"percentchg\": 0.7573059963908557, \"shock\": 0}, {\"date\": \"2016-06-16T00:00:00\", \"percentchg\": -0.37726116463447923, \"shock\": 0}, {\"date\": \"2016-06-17T00:00:00\", \"percentchg\": -0.8970502250567614, \"shock\": 0}, {\"date\": \"2016-06-20T00:00:00\", \"percentchg\": 0.2019209735796057, \"shock\": 0}, {\"date\": \"2016-06-21T00:00:00\", \"percentchg\": 0.176079809614893, \"shock\": 0}, {\"date\": \"2016-06-22T00:00:00\", \"percentchg\": -0.8761142837137914, \"shock\": 0}, {\"date\": \"2016-06-23T00:00:00\", \"percentchg\": 2.290008277824751, \"shock\": 1}, {\"date\": \"2016-06-24T00:00:00\", \"percentchg\": -0.019884133497105605, \"shock\": 0}, {\"date\": \"2016-06-27T00:00:00\", \"percentchg\": -0.4584049123122269, \"shock\": 0}, {\"date\": \"2016-06-28T00:00:00\", \"percentchg\": -0.8071678786479963, \"shock\": 0}, {\"date\": \"2016-06-29T00:00:00\", \"percentchg\": -0.9604917064752638, \"shock\": 0}, {\"date\": \"2016-06-30T00:00:00\", \"percentchg\": -0.5348680555185781, \"shock\": 0}, {\"date\": \"2016-07-01T00:00:00\", \"percentchg\": -0.4906733683093245, \"shock\": 0}, {\"date\": \"2016-07-04T00:00:00\", \"percentchg\": 0.4118642616520063, \"shock\": 0}, {\"date\": \"2016-07-05T00:00:00\", \"percentchg\": -0.12727645967811618, \"shock\": 0}, {\"date\": \"2016-07-07T00:00:00\", \"percentchg\": 0.2749663348038833, \"shock\": 0}, {\"date\": \"2016-07-08T00:00:00\", \"percentchg\": -1.8090805391214437, \"shock\": 0}, {\"date\": \"2016-07-11T00:00:00\", \"percentchg\": -0.6525109834631393, \"shock\": 0}, {\"date\": \"2016-07-12T00:00:00\", \"percentchg\": -0.025306550520554083, \"shock\": 0}, {\"date\": \"2016-07-13T00:00:00\", \"percentchg\": -0.45425950416457805, \"shock\": 0}, {\"date\": \"2016-07-14T00:00:00\", \"percentchg\": 0.37939171591256926, \"shock\": 0}, {\"date\": \"2016-07-15T00:00:00\", \"percentchg\": 0.32378615387973486, \"shock\": 0}, {\"date\": \"2016-07-18T00:00:00\", \"percentchg\": -0.1474001214991416, \"shock\": 0}, {\"date\": \"2016-07-19T00:00:00\", \"percentchg\": -0.459492717241583, \"shock\": 0}, {\"date\": \"2016-07-20T00:00:00\", \"percentchg\": 0.7411304343045488, \"shock\": 0}, {\"date\": \"2016-07-21T00:00:00\", \"percentchg\": -0.33348883922660333, \"shock\": 0}, {\"date\": \"2016-07-22T00:00:00\", \"percentchg\": -1.0396728105069641, \"shock\": 0}, {\"date\": \"2016-07-25T00:00:00\", \"percentchg\": 0.42471441941616117, \"shock\": 0}, {\"date\": \"2016-07-26T00:00:00\", \"percentchg\": -0.17060371021079268, \"shock\": 0}, {\"date\": \"2016-07-27T00:00:00\", \"percentchg\": -0.6533076347384648, \"shock\": 0}, {\"date\": \"2016-07-28T00:00:00\", \"percentchg\": 0.5588213013954624, \"shock\": 0}, {\"date\": \"2016-07-29T00:00:00\", \"percentchg\": 0.17405287650364976, \"shock\": 0}, {\"date\": \"2016-08-01T00:00:00\", \"percentchg\": 0.076507841757123, \"shock\": 0}, {\"date\": \"2016-08-02T00:00:00\", \"percentchg\": 1.0260892559652346, \"shock\": 0}, {\"date\": \"2016-08-03T00:00:00\", \"percentchg\": -0.06083261327167744, \"shock\": 0}, {\"date\": \"2016-08-04T00:00:00\", \"percentchg\": -1.2963029302422768, \"shock\": 0}, {\"date\": \"2016-08-05T00:00:00\", \"percentchg\": -0.3698055286276536, \"shock\": 0}, {\"date\": \"2016-08-08T00:00:00\", \"percentchg\": 0.3468385286324427, \"shock\": 0}, {\"date\": \"2016-08-09T00:00:00\", \"percentchg\": 1.1171219723531856, \"shock\": 0}, {\"date\": \"2016-08-10T00:00:00\", \"percentchg\": -0.3040917715540048, \"shock\": 0}, {\"date\": \"2016-08-11T00:00:00\", \"percentchg\": -1.0400561841522604, \"shock\": 0}, {\"date\": \"2016-08-12T00:00:00\", \"percentchg\": 0.31281752206822055, \"shock\": 0}, {\"date\": \"2016-08-16T00:00:00\", \"percentchg\": 0.2115317033585029, \"shock\": 0}, {\"date\": \"2016-08-17T00:00:00\", \"percentchg\": -0.41982885022578964, \"shock\": 0}, {\"date\": \"2016-08-18T00:00:00\", \"percentchg\": 0.16540033880043659, \"shock\": 0}, {\"date\": \"2016-08-19T00:00:00\", \"percentchg\": 0.32681499289950455, \"shock\": 0}, {\"date\": \"2016-08-22T00:00:00\", \"percentchg\": -0.01669110322330969, \"shock\": 0}, {\"date\": \"2016-08-23T00:00:00\", \"percentchg\": -0.24849845361029077, \"shock\": 0}, {\"date\": \"2016-08-24T00:00:00\", \"percentchg\": 0.8048211666781047, \"shock\": 0}, {\"date\": \"2016-08-25T00:00:00\", \"percentchg\": 0.19314546607995808, \"shock\": 0}, {\"date\": \"2016-08-26T00:00:00\", \"percentchg\": -0.43153647564685427, \"shock\": 0}, {\"date\": \"2016-08-29T00:00:00\", \"percentchg\": -1.5536444894750256, \"shock\": 0}, {\"date\": \"2016-08-30T00:00:00\", \"percentchg\": -0.3836619721790502, \"shock\": 0}, {\"date\": \"2016-08-31T00:00:00\", \"percentchg\": 0.10093574978102815, \"shock\": 0}, {\"date\": \"2016-09-01T00:00:00\", \"percentchg\": -0.38072511507046825, \"shock\": 0}, {\"date\": \"2016-09-02T00:00:00\", \"percentchg\": -1.5387875481591484, \"shock\": 0}, {\"date\": \"2016-09-06T00:00:00\", \"percentchg\": 0.1785919741239539, \"shock\": 0}, {\"date\": \"2016-09-07T00:00:00\", \"percentchg\": -0.4094294314043512, \"shock\": 0}, {\"date\": \"2016-09-08T00:00:00\", \"percentchg\": 0.8612950780890527, \"shock\": 0}, {\"date\": \"2016-09-09T00:00:00\", \"percentchg\": 1.5649225887531149, \"shock\": 0}, {\"date\": \"2016-09-12T00:00:00\", \"percentchg\": -0.06587922747415265, \"shock\": 0}, {\"date\": \"2016-09-14T00:00:00\", \"percentchg\": -0.14310460975844874, \"shock\": 0}, {\"date\": \"2016-09-15T00:00:00\", \"percentchg\": -0.6508566075539512, \"shock\": 0}, {\"date\": \"2016-09-16T00:00:00\", \"percentchg\": -0.12387400906249679, \"shock\": 0}, {\"date\": \"2016-09-19T00:00:00\", \"percentchg\": 0.3902114219250574, \"shock\": 0}, {\"date\": \"2016-09-20T00:00:00\", \"percentchg\": 0.05535154327624969, \"shock\": 0}, {\"date\": \"2016-09-21T00:00:00\", \"percentchg\": -0.9234689780497907, \"shock\": 0}, {\"date\": \"2016-09-22T00:00:00\", \"percentchg\": 0.3659458232040391, \"shock\": 0}, {\"date\": \"2016-09-23T00:00:00\", \"percentchg\": 1.3216148830880403, \"shock\": 0}, {\"date\": \"2016-09-26T00:00:00\", \"percentchg\": 0.25007380350097197, \"shock\": 0}, {\"date\": \"2016-09-27T00:00:00\", \"percentchg\": -0.2442716958447666, \"shock\": 0}, {\"date\": \"2016-09-28T00:00:00\", \"percentchg\": 1.672017824637595, \"shock\": 0}, {\"date\": \"2016-09-29T00:00:00\", \"percentchg\": -0.13791607872843947, \"shock\": 0}, {\"date\": \"2016-09-30T00:00:00\", \"percentchg\": -1.335992150790244, \"shock\": 0}, {\"date\": \"2016-10-03T00:00:00\", \"percentchg\": -0.3220863441759314, \"shock\": 0}, {\"date\": \"2016-10-04T00:00:00\", \"percentchg\": 0.40243219978044475, \"shock\": 0}, {\"date\": \"2016-10-05T00:00:00\", \"percentchg\": 0.40834223974628436, \"shock\": 0}, {\"date\": \"2016-10-06T00:00:00\", \"percentchg\": 0.16061468456434191, \"shock\": 0}, {\"date\": \"2016-10-07T00:00:00\", \"percentchg\": -0.07548950289738565, \"shock\": 0}, {\"date\": \"2016-10-10T00:00:00\", \"percentchg\": 1.5889329336707503, \"shock\": 0}, {\"date\": \"2016-10-13T00:00:00\", \"percentchg\": -0.11017805708466444, \"shock\": 0}, {\"date\": \"2016-10-14T00:00:00\", \"percentchg\": 0.5217183403456893, \"shock\": 0}, {\"date\": \"2016-10-17T00:00:00\", \"percentchg\": -1.8570188895722484, \"shock\": 0}, {\"date\": \"2016-10-18T00:00:00\", \"percentchg\": 0.2376745332931085, \"shock\": 0}, {\"date\": \"2016-10-19T00:00:00\", \"percentchg\": -0.5171401754614724, \"shock\": 0}, {\"date\": \"2016-10-20T00:00:00\", \"percentchg\": 0.18755500672114067, \"shock\": 0}, {\"date\": \"2016-10-21T00:00:00\", \"percentchg\": -0.361617165437933, \"shock\": 0}, {\"date\": \"2016-10-24T00:00:00\", \"percentchg\": 0.3120531339953381, \"shock\": 0}, {\"date\": \"2016-10-25T00:00:00\", \"percentchg\": 0.9157403654275198, \"shock\": 0}, {\"date\": \"2016-10-26T00:00:00\", \"percentchg\": -0.28439213455089263, \"shock\": 0}, {\"date\": \"2016-10-27T00:00:00\", \"percentchg\": -0.09165351197846228, \"shock\": 0}, {\"date\": \"2016-10-28T00:00:00\", \"percentchg\": 0.23281307189102485, \"shock\": 0}, {\"date\": \"2016-11-01T00:00:00\", \"percentchg\": 1.269247904258397, \"shock\": 0}, {\"date\": \"2016-11-02T00:00:00\", \"percentchg\": 0.35341020483536933, \"shock\": 0}, {\"date\": \"2016-11-03T00:00:00\", \"percentchg\": 0.5724427856189651, \"shock\": 0}, {\"date\": \"2016-11-04T00:00:00\", \"percentchg\": -0.6731487289674765, \"shock\": 0}, {\"date\": \"2016-11-07T00:00:00\", \"percentchg\": -0.47895950523068054, \"shock\": 0}, {\"date\": \"2016-11-08T00:00:00\", \"percentchg\": 1.2424950522439415, \"shock\": 0}, {\"date\": \"2016-11-09T00:00:00\", \"percentchg\": -0.9635637656813301, \"shock\": 0}, {\"date\": \"2016-11-10T00:00:00\", \"percentchg\": 2.6058542726962175, \"shock\": 1}, {\"date\": \"2016-11-11T00:00:00\", \"percentchg\": 1.954748788811611, \"shock\": 0}, {\"date\": \"2016-11-15T00:00:00\", \"percentchg\": 0.02259202406489358, \"shock\": 0}, {\"date\": \"2016-11-16T00:00:00\", \"percentchg\": 0.2709750821031198, \"shock\": 0}, {\"date\": \"2016-11-17T00:00:00\", \"percentchg\": 0.29590132081571685, \"shock\": 0}, {\"date\": \"2016-11-18T00:00:00\", \"percentchg\": 1.4946536290251666, \"shock\": 0}, {\"date\": \"2016-11-21T00:00:00\", \"percentchg\": -0.7535932170516513, \"shock\": 0}, {\"date\": \"2016-11-22T00:00:00\", \"percentchg\": -0.34942389065899526, \"shock\": 0}, {\"date\": \"2016-11-23T00:00:00\", \"percentchg\": 0.7410648328257663, \"shock\": 0}, {\"date\": \"2016-11-24T00:00:00\", \"percentchg\": -1.7334094504914188, \"shock\": 0}, {\"date\": \"2016-11-25T00:00:00\", \"percentchg\": -0.1283865653439853, \"shock\": 0}, {\"date\": \"2016-11-28T00:00:00\", \"percentchg\": -0.1660977022411192, \"shock\": 0}, {\"date\": \"2016-11-29T00:00:00\", \"percentchg\": -0.9710074695306159, \"shock\": 0}, {\"date\": \"2016-11-30T00:00:00\", \"percentchg\": 0.34973985340782665, \"shock\": 0}, {\"date\": \"2016-12-01T00:00:00\", \"percentchg\": 1.2552477279019092, \"shock\": 0}, {\"date\": \"2016-12-02T00:00:00\", \"percentchg\": -0.44950095024446357, \"shock\": 0}, {\"date\": \"2016-12-05T00:00:00\", \"percentchg\": -0.16542474768730386, \"shock\": 0}, {\"date\": \"2016-12-06T00:00:00\", \"percentchg\": 0.5941662633771383, \"shock\": 0}, {\"date\": \"2016-12-07T00:00:00\", \"percentchg\": -1.7135137875909923, \"shock\": 0}, {\"date\": \"2016-12-08T00:00:00\", \"percentchg\": -0.19777932194370296, \"shock\": 0}, {\"date\": \"2016-12-09T00:00:00\", \"percentchg\": 0.8747401534922039, \"shock\": 0}, {\"date\": \"2016-12-12T00:00:00\", \"percentchg\": -0.6838763464128816, \"shock\": 0}, {\"date\": \"2016-12-13T00:00:00\", \"percentchg\": 0.3570313143553827, \"shock\": 0}, {\"date\": \"2016-12-14T00:00:00\", \"percentchg\": 0.31588411759109203, \"shock\": 0}, {\"date\": \"2016-12-15T00:00:00\", \"percentchg\": 0.11140149181705361, \"shock\": 0}, {\"date\": \"2016-12-16T00:00:00\", \"percentchg\": 0.4354981536371261, \"shock\": 0}, {\"date\": \"2016-12-19T00:00:00\", \"percentchg\": 0.253606505749282, \"shock\": 0}, {\"date\": \"2016-12-20T00:00:00\", \"percentchg\": 0.2499758300381627, \"shock\": 0}, {\"date\": \"2016-12-21T00:00:00\", \"percentchg\": 1.011490761794387, \"shock\": 0}, {\"date\": \"2016-12-22T00:00:00\", \"percentchg\": -0.23463121654969665, \"shock\": 0}, {\"date\": \"2016-12-23T00:00:00\", \"percentchg\": 0.9051757574886077, \"shock\": 0}, {\"date\": \"2016-12-26T00:00:00\", \"percentchg\": -1.5501202903061229, \"shock\": 0}, {\"date\": \"2016-12-27T00:00:00\", \"percentchg\": 0.010529164668393598, \"shock\": 0}, {\"date\": \"2016-12-28T00:00:00\", \"percentchg\": -0.5896602303394283, \"shock\": 0}, {\"date\": \"2016-12-29T00:00:00\", \"percentchg\": -0.9776385509363217, \"shock\": 0}, {\"date\": \"2016-12-30T00:00:00\", \"percentchg\": 0.11660535791264692, \"shock\": 0}, {\"date\": \"2017-01-02T00:00:00\", \"percentchg\": -0.17937388697693013, \"shock\": 0}, {\"date\": \"2017-01-03T00:00:00\", \"percentchg\": 0.03795789182043929, \"shock\": 0}, {\"date\": \"2017-01-04T00:00:00\", \"percentchg\": -0.9119249357944392, \"shock\": 0}, {\"date\": \"2017-01-05T00:00:00\", \"percentchg\": 0.44474285523263823, \"shock\": 0}, {\"date\": \"2017-01-06T00:00:00\", \"percentchg\": 0.12227424244706242, \"shock\": 0}, {\"date\": \"2017-01-09T00:00:00\", \"percentchg\": -0.6431694871874005, \"shock\": 0}, {\"date\": \"2017-01-10T00:00:00\", \"percentchg\": -0.8874206689891806, \"shock\": 0}, {\"date\": \"2017-01-11T00:00:00\", \"percentchg\": -0.39178394881461687, \"shock\": 0}, {\"date\": \"2017-01-12T00:00:00\", \"percentchg\": 0.03340769934534471, \"shock\": 0}, {\"date\": \"2017-01-13T00:00:00\", \"percentchg\": -0.18363039787373525, \"shock\": 0}, {\"date\": \"2017-01-16T00:00:00\", \"percentchg\": 0.1927978441636835, \"shock\": 0}, {\"date\": \"2017-01-17T00:00:00\", \"percentchg\": -0.08063966009530521, \"shock\": 0}, {\"date\": \"2017-01-18T00:00:00\", \"percentchg\": -0.18660416536886437, \"shock\": 0}, {\"date\": \"2017-01-19T00:00:00\", \"percentchg\": 1.0138882145961592, \"shock\": 0}, {\"date\": \"2017-01-20T00:00:00\", \"percentchg\": -0.3054866156758873, \"shock\": 0}, {\"date\": \"2017-01-23T00:00:00\", \"percentchg\": -0.9433233328317692, \"shock\": 0}, {\"date\": \"2017-01-24T00:00:00\", \"percentchg\": -1.2002268624800583, \"shock\": 0}, {\"date\": \"2017-01-25T00:00:00\", \"percentchg\": -0.6251970114501293, \"shock\": 0}, {\"date\": \"2017-01-27T00:00:00\", \"percentchg\": 0.11813612128501738, \"shock\": 0}, {\"date\": \"2017-01-30T00:00:00\", \"percentchg\": 0.7000285031227627, \"shock\": 0}, {\"date\": \"2017-01-31T00:00:00\", \"percentchg\": -1.7258399891175502, \"shock\": 0}, {\"date\": \"2017-02-01T00:00:00\", \"percentchg\": -0.30102357981137695, \"shock\": 0}, {\"date\": \"2017-02-02T00:00:00\", \"percentchg\": -0.049256021067911604, \"shock\": 0}, {\"date\": \"2017-02-03T00:00:00\", \"percentchg\": -0.6988917108277093, \"shock\": 0}, {\"date\": \"2017-02-06T00:00:00\", \"percentchg\": 0.36745562774604945, \"shock\": 0}, {\"date\": \"2017-02-07T00:00:00\", \"percentchg\": 0.15991644550403805, \"shock\": 0}, {\"date\": \"2017-02-08T00:00:00\", \"percentchg\": -0.14041552848069738, \"shock\": 0}, {\"date\": \"2017-02-09T00:00:00\", \"percentchg\": -0.01606106125978668, \"shock\": 0}, {\"date\": \"2017-02-10T00:00:00\", \"percentchg\": -0.061263311061177106, \"shock\": 0}, {\"date\": \"2017-02-13T00:00:00\", \"percentchg\": 0.043432932955944636, \"shock\": 0}, {\"date\": \"2017-02-14T00:00:00\", \"percentchg\": 0.6526241936973154, \"shock\": 0}, {\"date\": \"2017-02-15T00:00:00\", \"percentchg\": -0.5148496402753611, \"shock\": 0}, {\"date\": \"2017-02-16T00:00:00\", \"percentchg\": -0.5882958287595996, \"shock\": 0}, {\"date\": \"2017-02-17T00:00:00\", \"percentchg\": -0.6727824411612682, \"shock\": 0}, {\"date\": \"2017-02-20T00:00:00\", \"percentchg\": -0.34771987977129104, \"shock\": 0}, {\"date\": \"2017-02-21T00:00:00\", \"percentchg\": -0.3572566306771163, \"shock\": 0}, {\"date\": \"2017-02-22T00:00:00\", \"percentchg\": -0.09780844592053306, \"shock\": 0}, {\"date\": \"2017-02-23T00:00:00\", \"percentchg\": 0.2779654146382926, \"shock\": 0}, {\"date\": \"2017-02-27T00:00:00\", \"percentchg\": 0.24200595518795165, \"shock\": 0}, {\"date\": \"2017-02-28T00:00:00\", \"percentchg\": -0.8320654250768111, \"shock\": 0}, {\"date\": \"2017-03-01T00:00:00\", \"percentchg\": 0.5017414363239991, \"shock\": 0}, {\"date\": \"2017-03-02T00:00:00\", \"percentchg\": 0.025456886074137763, \"shock\": 0}, {\"date\": \"2017-03-03T00:00:00\", \"percentchg\": -0.7426976979860944, \"shock\": 0}, {\"date\": \"2017-03-06T00:00:00\", \"percentchg\": 0.1676884246966326, \"shock\": 0}, {\"date\": \"2017-03-07T00:00:00\", \"percentchg\": 0.3377665845170297, \"shock\": 0}, {\"date\": \"2017-03-08T00:00:00\", \"percentchg\": -0.0939931668952565, \"shock\": 0}, {\"date\": \"2017-03-09T00:00:00\", \"percentchg\": -0.05907370009182733, \"shock\": 0}, {\"date\": \"2017-03-10T00:00:00\", \"percentchg\": -1.6859919651743271, \"shock\": 0}, {\"date\": \"2017-03-14T00:00:00\", \"percentchg\": 0.15144335918710894, \"shock\": 0}, {\"date\": \"2017-03-15T00:00:00\", \"percentchg\": -0.6345609027753274, \"shock\": 0}, {\"date\": \"2017-03-16T00:00:00\", \"percentchg\": -0.2129604566660559, \"shock\": 0}, {\"date\": \"2017-03-17T00:00:00\", \"percentchg\": 0.4412451173926524, \"shock\": 0}, {\"date\": \"2017-03-20T00:00:00\", \"percentchg\": 0.11290659124103541, \"shock\": 0}, {\"date\": \"2017-03-21T00:00:00\", \"percentchg\": 1.0894576965139402, \"shock\": 0}, {\"date\": \"2017-03-22T00:00:00\", \"percentchg\": -0.5607512978035967, \"shock\": 0}, {\"date\": \"2017-03-23T00:00:00\", \"percentchg\": -0.303317426057792, \"shock\": 0}, {\"date\": \"2017-03-24T00:00:00\", \"percentchg\": 0.630191374803335, \"shock\": 0}, {\"date\": \"2017-03-27T00:00:00\", \"percentchg\": -0.5860998186041244, \"shock\": 0}, {\"date\": \"2017-03-28T00:00:00\", \"percentchg\": -0.41281494848047773, \"shock\": 0}, {\"date\": \"2017-03-29T00:00:00\", \"percentchg\": -0.39123213649163713, \"shock\": 0}, {\"date\": \"2017-03-30T00:00:00\", \"percentchg\": 0.09088273957225113, \"shock\": 0}, {\"date\": \"2017-03-31T00:00:00\", \"percentchg\": -0.9686344544249104, \"shock\": 0}, {\"date\": \"2017-04-03T00:00:00\", \"percentchg\": -0.21358183143064258, \"shock\": 0}, {\"date\": \"2017-04-05T00:00:00\", \"percentchg\": 0.15671419802050224, \"shock\": 0}, {\"date\": \"2017-04-06T00:00:00\", \"percentchg\": 0.7430348780758544, \"shock\": 0}, {\"date\": \"2017-04-07T00:00:00\", \"percentchg\": 0.44248813246234864, \"shock\": 0}, {\"date\": \"2017-04-10T00:00:00\", \"percentchg\": -0.7137333144938252, \"shock\": 0}, {\"date\": \"2017-04-11T00:00:00\", \"percentchg\": 0.48870489677390605, \"shock\": 0}, {\"date\": \"2017-04-12T00:00:00\", \"percentchg\": 0.6178625112716718, \"shock\": 0}, {\"date\": \"2017-04-13T00:00:00\", \"percentchg\": 0.16247234191915094, \"shock\": 0}, {\"date\": \"2017-04-17T00:00:00\", \"percentchg\": 0.32252200147635524, \"shock\": 0}, {\"date\": \"2017-04-18T00:00:00\", \"percentchg\": -0.05955264347160538, \"shock\": 0}, {\"date\": \"2017-04-19T00:00:00\", \"percentchg\": -0.29168368265453104, \"shock\": 0}, {\"date\": \"2017-04-20T00:00:00\", \"percentchg\": 0.1944125966060417, \"shock\": 0}, {\"date\": \"2017-04-21T00:00:00\", \"percentchg\": -0.9797026960989275, \"shock\": 0}, {\"date\": \"2017-04-24T00:00:00\", \"percentchg\": -0.9598172688574436, \"shock\": 0}, {\"date\": \"2017-04-25T00:00:00\", \"percentchg\": -0.6308936028169065, \"shock\": 0}, {\"date\": \"2017-04-26T00:00:00\", \"percentchg\": 0.3450225482849678, \"shock\": 0}, {\"date\": \"2017-04-27T00:00:00\", \"percentchg\": 0.37214504216906974, \"shock\": 0}, {\"date\": \"2017-04-28T00:00:00\", \"percentchg\": -0.00928872759706767, \"shock\": 0}, {\"date\": \"2017-05-02T00:00:00\", \"percentchg\": 0.08823911034905318, \"shock\": 0}, {\"date\": \"2017-05-03T00:00:00\", \"percentchg\": -0.7681356169552345, \"shock\": 0}, {\"date\": \"2017-05-04T00:00:00\", \"percentchg\": 0.8955823718745037, \"shock\": 0}, {\"date\": \"2017-05-05T00:00:00\", \"percentchg\": -0.2250526997154223, \"shock\": 0}, {\"date\": \"2017-05-08T00:00:00\", \"percentchg\": -0.023718137439132647, \"shock\": 0}, {\"date\": \"2017-05-09T00:00:00\", \"percentchg\": -1.04112057915694, \"shock\": 0}, {\"date\": \"2017-05-10T00:00:00\", \"percentchg\": -0.009290762915614703, \"shock\": 0}, {\"date\": \"2017-05-11T00:00:00\", \"percentchg\": 0.20812827984491022, \"shock\": 0}, {\"date\": \"2017-05-12T00:00:00\", \"percentchg\": -0.4418185595099544, \"shock\": 0}, {\"date\": \"2017-05-15T00:00:00\", \"percentchg\": -0.8517276885453229, \"shock\": 0}, {\"date\": \"2017-05-16T00:00:00\", \"percentchg\": -0.24844415819545995, \"shock\": 0}, {\"date\": \"2017-05-17T00:00:00\", \"percentchg\": 0.735935669835075, \"shock\": 0}, {\"date\": \"2017-05-18T00:00:00\", \"percentchg\": -0.09890345831293779, \"shock\": 0}, {\"date\": \"2017-05-19T00:00:00\", \"percentchg\": -0.346900274380757, \"shock\": 0}, {\"date\": \"2017-05-22T00:00:00\", \"percentchg\": 0.677487269576238, \"shock\": 0}, {\"date\": \"2017-05-23T00:00:00\", \"percentchg\": 0.2099205643258717, \"shock\": 0}, {\"date\": \"2017-05-24T00:00:00\", \"percentchg\": -1.4581731534173414, \"shock\": 0}, {\"date\": \"2017-05-25T00:00:00\", \"percentchg\": -0.8965442486688624, \"shock\": 0}, {\"date\": \"2017-05-26T00:00:00\", \"percentchg\": -0.2605922130222482, \"shock\": 0}, {\"date\": \"2017-05-29T00:00:00\", \"percentchg\": -0.16085384545807546, \"shock\": 0}, {\"date\": \"2017-05-30T00:00:00\", \"percentchg\": 0.043664343294680386, \"shock\": 0}, {\"date\": \"2017-05-31T00:00:00\", \"percentchg\": 0.02636985566706329, \"shock\": 0}, {\"date\": \"2017-06-01T00:00:00\", \"percentchg\": -0.4339141254979695, \"shock\": 0}, {\"date\": \"2017-06-02T00:00:00\", \"percentchg\": -0.1156236387242604, \"shock\": 0}, {\"date\": \"2017-06-05T00:00:00\", \"percentchg\": 0.3813002569199364, \"shock\": 0}, {\"date\": \"2017-06-06T00:00:00\", \"percentchg\": -0.2581242335297329, \"shock\": 0}, {\"date\": \"2017-06-07T00:00:00\", \"percentchg\": 0.1855613206484641, \"shock\": 0}, {\"date\": \"2017-06-08T00:00:00\", \"percentchg\": -0.1557836272563562, \"shock\": 0}, {\"date\": \"2017-06-09T00:00:00\", \"percentchg\": 0.5349978688521828, \"shock\": 0}, {\"date\": \"2017-06-12T00:00:00\", \"percentchg\": -0.025048686067996595, \"shock\": 0}, {\"date\": \"2017-06-13T00:00:00\", \"percentchg\": -0.16825033071449225, \"shock\": 0}, {\"date\": \"2017-06-14T00:00:00\", \"percentchg\": 0.2580138464665538, \"shock\": 0}, {\"date\": \"2017-06-15T00:00:00\", \"percentchg\": 0.062241849930666504, \"shock\": 0}, {\"date\": \"2017-06-16T00:00:00\", \"percentchg\": -0.81493811817267, \"shock\": 0}, {\"date\": \"2017-06-19T00:00:00\", \"percentchg\": 0.044863016156360125, \"shock\": 0}, {\"date\": \"2017-06-20T00:00:00\", \"percentchg\": 0.0443959577514752, \"shock\": 0}, {\"date\": \"2017-06-21T00:00:00\", \"percentchg\": -0.022689170412149018, \"shock\": 0}, {\"date\": \"2017-06-22T00:00:00\", \"percentchg\": 0.48984605178876706, \"shock\": 0}, {\"date\": \"2017-06-23T00:00:00\", \"percentchg\": 0.5813020358062859, \"shock\": 0}, {\"date\": \"2017-06-27T00:00:00\", \"percentchg\": 0.4019212560679053, \"shock\": 0}, {\"date\": \"2017-06-28T00:00:00\", \"percentchg\": -0.07518173561068542, \"shock\": 0}, {\"date\": \"2017-06-29T00:00:00\", \"percentchg\": -0.20726555003252045, \"shock\": 0}, {\"date\": \"2017-06-30T00:00:00\", \"percentchg\": -0.9609039309387835, \"shock\": 0}, {\"date\": \"2017-07-03T00:00:00\", \"percentchg\": 0.03790502428999698, \"shock\": 0}, {\"date\": \"2017-07-04T00:00:00\", \"percentchg\": -0.11448501402731015, \"shock\": 0}, {\"date\": \"2017-07-05T00:00:00\", \"percentchg\": -0.39458687205896625, \"shock\": 0}, {\"date\": \"2017-07-06T00:00:00\", \"percentchg\": 0.027770437444485374, \"shock\": 0}, {\"date\": \"2017-07-07T00:00:00\", \"percentchg\": -1.1193523404511074, \"shock\": 0}, {\"date\": \"2017-07-10T00:00:00\", \"percentchg\": -0.09906173732705525, \"shock\": 0}, {\"date\": \"2017-07-11T00:00:00\", \"percentchg\": -0.1815148401492772, \"shock\": 0}, {\"date\": \"2017-07-12T00:00:00\", \"percentchg\": -0.7259037431798898, \"shock\": 0}, {\"date\": \"2017-07-13T00:00:00\", \"percentchg\": 0.05193775715746085, \"shock\": 0}, {\"date\": \"2017-07-14T00:00:00\", \"percentchg\": -0.16844791471491982, \"shock\": 0}, {\"date\": \"2017-07-17T00:00:00\", \"percentchg\": 1.1472018370011439, \"shock\": 0}, {\"date\": \"2017-07-18T00:00:00\", \"percentchg\": -0.7646900377779375, \"shock\": 0}, {\"date\": \"2017-07-19T00:00:00\", \"percentchg\": 0.15969339064894061, \"shock\": 0}, {\"date\": \"2017-07-20T00:00:00\", \"percentchg\": -0.3886810687031117, \"shock\": 0}, {\"date\": \"2017-07-21T00:00:00\", \"percentchg\": -0.6728877881342021, \"shock\": 0}, {\"date\": \"2017-07-24T00:00:00\", \"percentchg\": 0.054609228577828794, \"shock\": 0}, {\"date\": \"2017-07-25T00:00:00\", \"percentchg\": -0.47615715972790795, \"shock\": 0}, {\"date\": \"2017-07-26T00:00:00\", \"percentchg\": -0.002593447022813944, \"shock\": 0}, {\"date\": \"2017-07-27T00:00:00\", \"percentchg\": 0.22723674591853538, \"shock\": 0}, {\"date\": \"2017-07-28T00:00:00\", \"percentchg\": -0.6306596204665338, \"shock\": 0}, {\"date\": \"2017-07-31T00:00:00\", \"percentchg\": -0.1848968674436735, \"shock\": 0}, {\"date\": \"2017-08-01T00:00:00\", \"percentchg\": 0.30307748496203324, \"shock\": 0}, {\"date\": \"2017-08-02T00:00:00\", \"percentchg\": 0.7409276560141453, \"shock\": 0}, {\"date\": \"2017-08-03T00:00:00\", \"percentchg\": -0.2707755182437377, \"shock\": 0}, {\"date\": \"2017-08-04T00:00:00\", \"percentchg\": 0.1603171703132844, \"shock\": 0}, {\"date\": \"2017-08-07T00:00:00\", \"percentchg\": 0.8105170650343441, \"shock\": 0}, {\"date\": \"2017-08-08T00:00:00\", \"percentchg\": 0.6803909021433796, \"shock\": 0}, {\"date\": \"2017-08-09T00:00:00\", \"percentchg\": 0.8452220853502501, \"shock\": 0}, {\"date\": \"2017-08-10T00:00:00\", \"percentchg\": 1.017954794580045, \"shock\": 0}, {\"date\": \"2017-08-11T00:00:00\", \"percentchg\": -0.7486382199669239, \"shock\": 0}, {\"date\": \"2017-08-14T00:00:00\", \"percentchg\": -1.0130698944641248, \"shock\": 0}, {\"date\": \"2017-08-16T00:00:00\", \"percentchg\": -0.07727616387853686, \"shock\": 0}, {\"date\": \"2017-08-17T00:00:00\", \"percentchg\": 0.8589500438520581, \"shock\": 0}, {\"date\": \"2017-08-18T00:00:00\", \"percentchg\": 0.850415422982409, \"shock\": 0}, {\"date\": \"2017-08-21T00:00:00\", \"percentchg\": -0.10545877093219858, \"shock\": 0}, {\"date\": \"2017-08-22T00:00:00\", \"percentchg\": -0.8748101584494461, \"shock\": 0}, {\"date\": \"2017-08-23T00:00:00\", \"percentchg\": -0.08877936288412824, \"shock\": 0}, {\"date\": \"2017-08-24T00:00:00\", \"percentchg\": -0.4874197394014179, \"shock\": 0}, {\"date\": \"2017-08-28T00:00:00\", \"percentchg\": 1.1546615811877103, \"shock\": 0}, {\"date\": \"2017-08-29T00:00:00\", \"percentchg\": -0.8154792190181226, \"shock\": 0}, {\"date\": \"2017-08-30T00:00:00\", \"percentchg\": -0.264821930749648, \"shock\": 0}, {\"date\": \"2017-08-31T00:00:00\", \"percentchg\": -0.5071461982989356, \"shock\": 0}, {\"date\": \"2017-09-01T00:00:00\", \"percentchg\": 0.5992649378198767, \"shock\": 0}, {\"date\": \"2017-09-04T00:00:00\", \"percentchg\": -0.3373225292865434, \"shock\": 0}, {\"date\": \"2017-09-05T00:00:00\", \"percentchg\": 0.46611147331532266, \"shock\": 0}, {\"date\": \"2017-09-06T00:00:00\", \"percentchg\": -0.0024304000358243982, \"shock\": 0}, {\"date\": \"2017-09-07T00:00:00\", \"percentchg\": -0.07819891629751163, \"shock\": 0}, {\"date\": \"2017-09-08T00:00:00\", \"percentchg\": -0.610500116824253, \"shock\": 0}, {\"date\": \"2017-09-11T00:00:00\", \"percentchg\": -0.8597995023939542, \"shock\": 0}, {\"date\": \"2017-09-12T00:00:00\", \"percentchg\": -0.08621651145712672, \"shock\": 0}, {\"date\": \"2017-09-13T00:00:00\", \"percentchg\": -0.17219667615466783, \"shock\": 0}, {\"date\": \"2017-09-14T00:00:00\", \"percentchg\": -0.0950641677080033, \"shock\": 0}, {\"date\": \"2017-09-15T00:00:00\", \"percentchg\": -0.4661716954405981, \"shock\": 0}, {\"date\": \"2017-09-18T00:00:00\", \"percentchg\": 0.06601562036148145, \"shock\": 0}, {\"date\": \"2017-09-19T00:00:00\", \"percentchg\": 0.005738721438186545, \"shock\": 0}, {\"date\": \"2017-09-20T00:00:00\", \"percentchg\": 0.09413242618017126, \"shock\": 0}, {\"date\": \"2017-09-21T00:00:00\", \"percentchg\": 1.4021472576751348, \"shock\": 0}, {\"date\": \"2017-09-22T00:00:00\", \"percentchg\": 0.9353149093410673, \"shock\": 0}, {\"date\": \"2017-09-25T00:00:00\", \"percentchg\": 0.08503575327567514, \"shock\": 0}, {\"date\": \"2017-09-26T00:00:00\", \"percentchg\": 1.4119123673366651, \"shock\": 0}, {\"date\": \"2017-09-27T00:00:00\", \"percentchg\": -0.39213617346470775, \"shock\": 0}, {\"date\": \"2017-09-28T00:00:00\", \"percentchg\": -0.003964472086837034, \"shock\": 0}, {\"date\": \"2017-09-29T00:00:00\", \"percentchg\": -0.6783426126887204, \"shock\": 0}, {\"date\": \"2017-10-03T00:00:00\", \"percentchg\": -0.5504283569303103, \"shock\": 0}, {\"date\": \"2017-10-04T00:00:00\", \"percentchg\": 0.2522207100918328, \"shock\": 0}, {\"date\": \"2017-10-05T00:00:00\", \"percentchg\": -0.6984027939058501, \"shock\": 0}, {\"date\": \"2017-10-06T00:00:00\", \"percentchg\": -0.10258433785480525, \"shock\": 0}, {\"date\": \"2017-10-09T00:00:00\", \"percentchg\": -0.24282212535984282, \"shock\": 0}, {\"date\": \"2017-10-10T00:00:00\", \"percentchg\": 0.28403577813931324, \"shock\": 0}, {\"date\": \"2017-10-11T00:00:00\", \"percentchg\": -1.0820585439468622, \"shock\": 0}, {\"date\": \"2017-10-12T00:00:00\", \"percentchg\": -0.7722725257244045, \"shock\": 0}, {\"date\": \"2017-10-13T00:00:00\", \"percentchg\": -0.6157792021557529, \"shock\": 0}, {\"date\": \"2017-10-16T00:00:00\", \"percentchg\": 0.07507236810975204, \"shock\": 0}, {\"date\": \"2017-10-17T00:00:00\", \"percentchg\": 0.07614252600536275, \"shock\": 0}, {\"date\": \"2017-10-18T00:00:00\", \"percentchg\": 0.6001509920005699, \"shock\": 0}, {\"date\": \"2017-10-19T00:00:00\", \"percentchg\": -0.35918654081208423, \"shock\": 0}, {\"date\": \"2017-10-23T00:00:00\", \"percentchg\": -0.30857819468608216, \"shock\": 0}, {\"date\": \"2017-10-24T00:00:00\", \"percentchg\": -1.3169710410834479, \"shock\": 0}, {\"date\": \"2017-10-25T00:00:00\", \"percentchg\": -0.31564998146874634, \"shock\": 0}, {\"date\": \"2017-10-26T00:00:00\", \"percentchg\": -0.03043030787979184, \"shock\": 0}, {\"date\": \"2017-10-27T00:00:00\", \"percentchg\": -0.3274841633008063, \"shock\": 0}, {\"date\": \"2017-10-30T00:00:00\", \"percentchg\": 0.15966953956578767, \"shock\": 0}, {\"date\": \"2017-10-31T00:00:00\", \"percentchg\": -1.1521949984357738, \"shock\": 0}, {\"date\": \"2017-11-01T00:00:00\", \"percentchg\": 0.08057249872712724, \"shock\": 0}, {\"date\": \"2017-11-02T00:00:00\", \"percentchg\": -0.3334955643895521, \"shock\": 0}, {\"date\": \"2017-11-03T00:00:00\", \"percentchg\": -0.13528372582637394, \"shock\": 0}, {\"date\": \"2017-11-06T00:00:00\", \"percentchg\": 1.0800762971421296, \"shock\": 0}, {\"date\": \"2017-11-07T00:00:00\", \"percentchg\": 0.45743098995003617, \"shock\": 0}, {\"date\": \"2017-11-08T00:00:00\", \"percentchg\": -0.09660209218773641, \"shock\": 0}, {\"date\": \"2017-11-09T00:00:00\", \"percentchg\": -0.1909942947943999, \"shock\": 0}, {\"date\": \"2017-11-10T00:00:00\", \"percentchg\": 0.8506501023875845, \"shock\": 0}, {\"date\": \"2017-11-13T00:00:00\", \"percentchg\": 0.27833118446449756, \"shock\": 0}, {\"date\": \"2017-11-14T00:00:00\", \"percentchg\": 0.5538132078008351, \"shock\": 0}, {\"date\": \"2017-11-15T00:00:00\", \"percentchg\": -1.0462522709987265, \"shock\": 0}, {\"date\": \"2017-11-16T00:00:00\", \"percentchg\": -0.7077403913911762, \"shock\": 0}, {\"date\": \"2017-11-17T00:00:00\", \"percentchg\": -0.05125212321024364, \"shock\": 0}, {\"date\": \"2017-11-20T00:00:00\", \"percentchg\": -0.35382006422527423, \"shock\": 0}, {\"date\": \"2017-11-21T00:00:00\", \"percentchg\": -0.24790040034884386, \"shock\": 0}, {\"date\": \"2017-11-22T00:00:00\", \"percentchg\": -0.07897845078029819, \"shock\": 0}, {\"date\": \"2017-11-23T00:00:00\", \"percentchg\": -0.27067166866642234, \"shock\": 0}, {\"date\": \"2017-11-24T00:00:00\", \"percentchg\": -0.13403669005358498, \"shock\": 0}, {\"date\": \"2017-11-27T00:00:00\", \"percentchg\": 0.3148602097588604, \"shock\": 0}, {\"date\": \"2017-11-28T00:00:00\", \"percentchg\": 0.04710364324360672, \"shock\": 0}, {\"date\": \"2017-11-29T00:00:00\", \"percentchg\": 1.3677798656035245, \"shock\": 0}, {\"date\": \"2017-11-30T00:00:00\", \"percentchg\": 0.963697258600682, \"shock\": 0}, {\"date\": \"2017-12-01T00:00:00\", \"percentchg\": -0.11188822158693101, \"shock\": 0}, {\"date\": \"2017-12-04T00:00:00\", \"percentchg\": 0.20509858676915904, \"shock\": 0}, {\"date\": \"2017-12-05T00:00:00\", \"percentchg\": 0.6296916503752303, \"shock\": 0}, {\"date\": \"2017-12-06T00:00:00\", \"percentchg\": -1.068405706794473, \"shock\": 0}, {\"date\": \"2017-12-07T00:00:00\", \"percentchg\": -0.9055251732332792, \"shock\": 0}, {\"date\": \"2017-12-08T00:00:00\", \"percentchg\": -0.6142084434658468, \"shock\": 0}, {\"date\": \"2017-12-11T00:00:00\", \"percentchg\": 0.6855689827558464, \"shock\": 0}, {\"date\": \"2017-12-12T00:00:00\", \"percentchg\": 0.5292984358236774, \"shock\": 0}, {\"date\": \"2017-12-13T00:00:00\", \"percentchg\": -0.5824943853096287, \"shock\": 0}, {\"date\": \"2017-12-14T00:00:00\", \"percentchg\": -0.6462951116672833, \"shock\": 0}, {\"date\": \"2017-12-15T00:00:00\", \"percentchg\": -0.4128095344935967, \"shock\": 0}, {\"date\": \"2017-12-18T00:00:00\", \"percentchg\": -0.6946845520280354, \"shock\": 0}, {\"date\": \"2017-12-19T00:00:00\", \"percentchg\": 0.17573706700200198, \"shock\": 0}, {\"date\": \"2017-12-20T00:00:00\", \"percentchg\": 0.062499942140403775, \"shock\": 0}, {\"date\": \"2017-12-21T00:00:00\", \"percentchg\": -0.5421859176677035, \"shock\": 0}, {\"date\": \"2017-12-22T00:00:00\", \"percentchg\": -0.20672547490925286, \"shock\": 0}, {\"date\": \"2017-12-26T00:00:00\", \"percentchg\": 0.2913462458861815, \"shock\": 0}, {\"date\": \"2017-12-27T00:00:00\", \"percentchg\": 0.18842260951292822, \"shock\": 0}, {\"date\": \"2017-12-28T00:00:00\", \"percentchg\": -0.6130837382554932, \"shock\": 0}, {\"date\": \"2017-12-29T00:00:00\", \"percentchg\": 0.7218523338089922, \"shock\": 0}, {\"date\": \"2018-01-01T00:00:00\", \"percentchg\": 0.0014440952044614264, \"shock\": 0}, {\"date\": \"2018-01-02T00:00:00\", \"percentchg\": 0.055877254986502756, \"shock\": 0}, {\"date\": \"2018-01-03T00:00:00\", \"percentchg\": -0.5188801397571496, \"shock\": 0}, {\"date\": \"2018-01-04T00:00:00\", \"percentchg\": -0.5393562631227811, \"shock\": 0}, {\"date\": \"2018-01-05T00:00:00\", \"percentchg\": -0.5791014512331438, \"shock\": 0}, {\"date\": \"2018-01-08T00:00:00\", \"percentchg\": -0.26246796553700547, \"shock\": 0}, {\"date\": \"2018-01-09T00:00:00\", \"percentchg\": 0.029393526798937586, \"shock\": 0}, {\"date\": \"2018-01-10T00:00:00\", \"percentchg\": -0.2040894189480169, \"shock\": 0}, {\"date\": \"2018-01-11T00:00:00\", \"percentchg\": -0.2569997104673982, \"shock\": 0}, {\"date\": \"2018-01-12T00:00:00\", \"percentchg\": -0.720711206657354, \"shock\": 0}, {\"date\": \"2018-01-15T00:00:00\", \"percentchg\": 0.20839444271001373, \"shock\": 0}, {\"date\": \"2018-01-16T00:00:00\", \"percentchg\": -0.8858420928040345, \"shock\": 0}, {\"date\": \"2018-01-17T00:00:00\", \"percentchg\": -0.5061465879750982, \"shock\": 0}, {\"date\": \"2018-01-18T00:00:00\", \"percentchg\": -0.7076257259406193, \"shock\": 0}, {\"date\": \"2018-01-19T00:00:00\", \"percentchg\": -0.8001382758360709, \"shock\": 0}, {\"date\": \"2018-01-22T00:00:00\", \"percentchg\": -0.9462339092731309, \"shock\": 0}, {\"date\": \"2018-01-23T00:00:00\", \"percentchg\": -0.05989815692992728, \"shock\": 0}, {\"date\": \"2018-01-24T00:00:00\", \"percentchg\": 0.3084545276350603, \"shock\": 0}, {\"date\": \"2018-01-25T00:00:00\", \"percentchg\": -0.6416420627975761, \"shock\": 0}, {\"date\": \"2018-01-29T00:00:00\", \"percentchg\": 0.692461002522049, \"shock\": 0}, {\"date\": \"2018-01-30T00:00:00\", \"percentchg\": 0.1910493540544289, \"shock\": 0}, {\"date\": \"2018-01-31T00:00:00\", \"percentchg\": 0.1625307804904219, \"shock\": 0}, {\"date\": \"2018-02-01T00:00:00\", \"percentchg\": 2.395175361988211, \"shock\": 1}, {\"date\": \"2018-02-02T00:00:00\", \"percentchg\": 0.890722493892615, \"shock\": 0}, {\"date\": \"2018-02-05T00:00:00\", \"percentchg\": 1.6411852603579025, \"shock\": 0}, {\"date\": \"2018-02-06T00:00:00\", \"percentchg\": 0.3322226009475626, \"shock\": 0}, {\"date\": \"2018-02-07T00:00:00\", \"percentchg\": -0.9602408417292208, \"shock\": 0}, {\"date\": \"2018-02-08T00:00:00\", \"percentchg\": 1.198027677984248, \"shock\": 0}, {\"date\": \"2018-02-09T00:00:00\", \"percentchg\": -0.8591924308614551, \"shock\": 0}, {\"date\": \"2018-02-12T00:00:00\", \"percentchg\": 0.4231167177478623, \"shock\": 0}, {\"date\": \"2018-02-14T00:00:00\", \"percentchg\": -0.4126238361249368, \"shock\": 0}, {\"date\": \"2018-02-15T00:00:00\", \"percentchg\": 0.8429891503780595, \"shock\": 0}, {\"date\": \"2018-02-16T00:00:00\", \"percentchg\": 0.6990494098467082, \"shock\": 0}, {\"date\": \"2018-02-19T00:00:00\", \"percentchg\": 0.21086867253452546, \"shock\": 0}, {\"date\": \"2018-02-20T00:00:00\", \"percentchg\": -0.4174032153147378, \"shock\": 0}, {\"date\": \"2018-02-21T00:00:00\", \"percentchg\": 0.07498447641154371, \"shock\": 0}, {\"date\": \"2018-02-22T00:00:00\", \"percentchg\": -0.9450150393746748, \"shock\": 0}, {\"date\": \"2018-02-23T00:00:00\", \"percentchg\": -0.8813904835865083, \"shock\": 0}, {\"date\": \"2018-02-26T00:00:00\", \"percentchg\": 0.289286219576379, \"shock\": 0}, {\"date\": \"2018-02-27T00:00:00\", \"percentchg\": 0.47493381985423966, \"shock\": 0}, {\"date\": \"2018-02-28T00:00:00\", \"percentchg\": 0.40267245922076533, \"shock\": 0}, {\"date\": \"2018-03-01T00:00:00\", \"percentchg\": 0.8894482529352432, \"shock\": 0}, {\"date\": \"2018-03-05T00:00:00\", \"percentchg\": 1.2893701791363066, \"shock\": 0}, {\"date\": \"2018-03-06T00:00:00\", \"percentchg\": 0.8600750833296811, \"shock\": 0}, {\"date\": \"2018-03-07T00:00:00\", \"percentchg\": -0.9549189611339992, \"shock\": 0}, {\"date\": \"2018-03-08T00:00:00\", \"percentchg\": 0.13339388091049287, \"shock\": 0}, {\"date\": \"2018-03-09T00:00:00\", \"percentchg\": -1.8008191415103014, \"shock\": 0}, {\"date\": \"2018-03-12T00:00:00\", \"percentchg\": 0.18064374105262182, \"shock\": 0}, {\"date\": \"2018-03-13T00:00:00\", \"percentchg\": 0.06219154603657184, \"shock\": 0}, {\"date\": \"2018-03-14T00:00:00\", \"percentchg\": 0.4458863444973149, \"shock\": 0}, {\"date\": \"2018-03-15T00:00:00\", \"percentchg\": 1.5358664772727293, \"shock\": 0}, {\"date\": \"2018-03-16T00:00:00\", \"percentchg\": 0.768089105312697, \"shock\": 0}, {\"date\": \"2018-03-19T00:00:00\", \"percentchg\": -0.2231753092248323, \"shock\": 0}, {\"date\": \"2018-03-20T00:00:00\", \"percentchg\": -0.42074243339099704, \"shock\": 0}, {\"date\": \"2018-03-21T00:00:00\", \"percentchg\": 0.39359236319331803, \"shock\": 0}, {\"date\": \"2018-03-22T00:00:00\", \"percentchg\": 1.2569753738714162, \"shock\": 0}, {\"date\": \"2018-03-23T00:00:00\", \"percentchg\": -1.4209921534563352, \"shock\": 0}, {\"date\": \"2018-03-26T00:00:00\", \"percentchg\": -0.3254934505673379, \"shock\": 0}, {\"date\": \"2018-03-27T00:00:00\", \"percentchg\": 0.6239586766891181, \"shock\": 0}, {\"date\": \"2018-03-28T00:00:00\", \"percentchg\": -0.8620555991210033, \"shock\": 0}, {\"date\": \"2018-04-02T00:00:00\", \"percentchg\": -0.3454221122827339, \"shock\": 0}, {\"date\": \"2018-04-03T00:00:00\", \"percentchg\": 1.0647137863748712, \"shock\": 0}, {\"date\": \"2018-04-04T00:00:00\", \"percentchg\": -1.7195996503108213, \"shock\": 0}, {\"date\": \"2018-04-05T00:00:00\", \"percentchg\": -0.08971361342225981, \"shock\": 0}, {\"date\": \"2018-04-06T00:00:00\", \"percentchg\": -0.4781808180612246, \"shock\": 0}, {\"date\": \"2018-04-09T00:00:00\", \"percentchg\": -0.27069144265464695, \"shock\": 0}, {\"date\": \"2018-04-10T00:00:00\", \"percentchg\": -0.17734420577958376, \"shock\": 0}, {\"date\": \"2018-04-11T00:00:00\", \"percentchg\": -0.471208740454776, \"shock\": 0}, {\"date\": \"2018-04-12T00:00:00\", \"percentchg\": -0.2676585038953183, \"shock\": 0}, {\"date\": \"2018-04-13T00:00:00\", \"percentchg\": -0.3287562669448074, \"shock\": 0}, {\"date\": \"2018-04-16T00:00:00\", \"percentchg\": -0.26058657817285, \"shock\": 0}, {\"date\": \"2018-04-17T00:00:00\", \"percentchg\": 0.1846076475922498, \"shock\": 0}, {\"date\": \"2018-04-18T00:00:00\", \"percentchg\": -0.2777139228895664, \"shock\": 0}, {\"date\": \"2018-04-19T00:00:00\", \"percentchg\": 0.03402801329521754, \"shock\": 0}, {\"date\": \"2018-04-20T00:00:00\", \"percentchg\": -0.10214984085646917, \"shock\": 0}, {\"date\": \"2018-04-23T00:00:00\", \"percentchg\": -0.4791657733252408, \"shock\": 0}, {\"date\": \"2018-04-24T00:00:00\", \"percentchg\": 0.33439666226049436, \"shock\": 0}, {\"date\": \"2018-04-25T00:00:00\", \"percentchg\": -0.6116681119004874, \"shock\": 0}, {\"date\": \"2018-04-26T00:00:00\", \"percentchg\": -0.7323416042214204, \"shock\": 0}, {\"date\": \"2018-04-27T00:00:00\", \"percentchg\": -0.5422588381891358, \"shock\": 0}, {\"date\": \"2018-04-30T00:00:00\", \"percentchg\": -0.04566268865286993, \"shock\": 0}, {\"date\": \"2018-05-02T00:00:00\", \"percentchg\": 0.20875981093215756, \"shock\": 0}, {\"date\": \"2018-05-03T00:00:00\", \"percentchg\": 0.5377622257921155, \"shock\": 0}, {\"date\": \"2018-05-04T00:00:00\", \"percentchg\": -0.8315171251677023, \"shock\": 0}, {\"date\": \"2018-05-07T00:00:00\", \"percentchg\": -0.02322697950102315, \"shock\": 0}, {\"date\": \"2018-05-08T00:00:00\", \"percentchg\": -0.2917133113774173, \"shock\": 0}, {\"date\": \"2018-05-09T00:00:00\", \"percentchg\": 0.2073468546372137, \"shock\": 0}, {\"date\": \"2018-05-10T00:00:00\", \"percentchg\": -0.8147266147398469, \"shock\": 0}, {\"date\": \"2018-05-11T00:00:00\", \"percentchg\": -0.05884086139681388, \"shock\": 0}, {\"date\": \"2018-05-14T00:00:00\", \"percentchg\": 0.035926041808509446, \"shock\": 0}, {\"date\": \"2018-05-15T00:00:00\", \"percentchg\": 0.44100552173087504, \"shock\": 0}, {\"date\": \"2018-05-16T00:00:00\", \"percentchg\": 0.6792710744123021, \"shock\": 0}, {\"date\": \"2018-05-17T00:00:00\", \"percentchg\": 0.8632280649444324, \"shock\": 0}, {\"date\": \"2018-05-18T00:00:00\", \"percentchg\": 0.6707043286925174, \"shock\": 0}, {\"date\": \"2018-05-21T00:00:00\", \"percentchg\": -0.10132213664352241, \"shock\": 0}, {\"date\": \"2018-05-22T00:00:00\", \"percentchg\": 0.8919170951572797, \"shock\": 0}, {\"date\": \"2018-05-23T00:00:00\", \"percentchg\": -0.917976559193201, \"shock\": 0}, {\"date\": \"2018-05-24T00:00:00\", \"percentchg\": -0.7494994556954682, \"shock\": 0}, {\"date\": \"2018-05-25T00:00:00\", \"percentchg\": -0.6842203541447933, \"shock\": 0}, {\"date\": \"2018-05-28T00:00:00\", \"percentchg\": 0.6187321902692666, \"shock\": 0}, {\"date\": \"2018-05-29T00:00:00\", \"percentchg\": 0.12355689884158139, \"shock\": 0}, {\"date\": \"2018-05-30T00:00:00\", \"percentchg\": -1.1784866822102558, \"shock\": 0}, {\"date\": \"2018-05-31T00:00:00\", \"percentchg\": 0.27001016502334885, \"shock\": 0}, {\"date\": \"2018-06-01T00:00:00\", \"percentchg\": 0.6151370003315781, \"shock\": 0}, {\"date\": \"2018-06-04T00:00:00\", \"percentchg\": 0.31137446836799754, \"shock\": 0}, {\"date\": \"2018-06-05T00:00:00\", \"percentchg\": -0.7836178335433597, \"shock\": 0}, {\"date\": \"2018-06-06T00:00:00\", \"percentchg\": -0.8013946723639087, \"shock\": 0}, {\"date\": \"2018-06-07T00:00:00\", \"percentchg\": 0.054752368965726994, \"shock\": 0}, {\"date\": \"2018-06-08T00:00:00\", \"percentchg\": -0.11215610086035, \"shock\": 0}, {\"date\": \"2018-06-11T00:00:00\", \"percentchg\": -0.5856991436734238, \"shock\": 0}, {\"date\": \"2018-06-12T00:00:00\", \"percentchg\": -0.1305028567993416, \"shock\": 0}, {\"date\": \"2018-06-13T00:00:00\", \"percentchg\": 0.39140603106098126, \"shock\": 0}, {\"date\": \"2018-06-14T00:00:00\", \"percentchg\": -0.06265853794404919, \"shock\": 0}, {\"date\": \"2018-06-15T00:00:00\", \"percentchg\": 0.20782705729611717, \"shock\": 0}, {\"date\": \"2018-06-18T00:00:00\", \"percentchg\": 0.74113803156175, \"shock\": 0}, {\"date\": \"2018-06-19T00:00:00\", \"percentchg\": -0.7330785673501317, \"shock\": 0}, {\"date\": \"2018-06-20T00:00:00\", \"percentchg\": 0.32438539419044066, \"shock\": 0}, {\"date\": \"2018-06-21T00:00:00\", \"percentchg\": -0.7206887335224788, \"shock\": 0}, {\"date\": \"2018-06-22T00:00:00\", \"percentchg\": 0.6181218689464529, \"shock\": 0}, {\"date\": \"2018-06-25T00:00:00\", \"percentchg\": -0.05547331172368608, \"shock\": 0}, {\"date\": \"2018-06-26T00:00:00\", \"percentchg\": 0.7749917365272196, \"shock\": 0}, {\"date\": \"2018-06-27T00:00:00\", \"percentchg\": 0.5122169952047173, \"shock\": 0}, {\"date\": \"2018-06-28T00:00:00\", \"percentchg\": -1.0892205922294451, \"shock\": 0}, {\"date\": \"2018-06-29T00:00:00\", \"percentchg\": 0.4510788973789426, \"shock\": 0}, {\"date\": \"2018-07-02T00:00:00\", \"percentchg\": -0.3227697003463259, \"shock\": 0}, {\"date\": \"2018-07-03T00:00:00\", \"percentchg\": -0.7484749412123848, \"shock\": 0}, {\"date\": \"2018-07-04T00:00:00\", \"percentchg\": 0.1991526377540076, \"shock\": 0}, {\"date\": \"2018-07-05T00:00:00\", \"percentchg\": -0.2336331883354914, \"shock\": 0}, {\"date\": \"2018-07-06T00:00:00\", \"percentchg\": -0.7704509305502816, \"shock\": 0}, {\"date\": \"2018-07-09T00:00:00\", \"percentchg\": -0.841350804858676, \"shock\": 0}, {\"date\": \"2018-07-10T00:00:00\", \"percentchg\": -0.07254355252077627, \"shock\": 0}, {\"date\": \"2018-07-11T00:00:00\", \"percentchg\": -0.7728939987877825, \"shock\": 0}, {\"date\": \"2018-07-12T00:00:00\", \"percentchg\": 0.018557601844726435, \"shock\": 0}, {\"date\": \"2018-07-13T00:00:00\", \"percentchg\": 0.5997708327396323, \"shock\": 0}, {\"date\": \"2018-07-16T00:00:00\", \"percentchg\": -0.5372169115562819, \"shock\": 0}, {\"date\": \"2018-07-17T00:00:00\", \"percentchg\": 0.40282009506207306, \"shock\": 0}, {\"date\": \"2018-07-18T00:00:00\", \"percentchg\": 0.06110092344493445, \"shock\": 0}, {\"date\": \"2018-07-19T00:00:00\", \"percentchg\": -0.3976850866272974, \"shock\": 0}, {\"date\": \"2018-07-20T00:00:00\", \"percentchg\": -0.605225850913016, \"shock\": 0}, {\"date\": \"2018-07-23T00:00:00\", \"percentchg\": -0.2892049050272072, \"shock\": 0}, {\"date\": \"2018-07-24T00:00:00\", \"percentchg\": -0.0898819770474013, \"shock\": 0}, {\"date\": \"2018-07-25T00:00:00\", \"percentchg\": -0.34179095460658004, \"shock\": 0}, {\"date\": \"2018-07-26T00:00:00\", \"percentchg\": -0.9433332559131702, \"shock\": 0}, {\"date\": \"2018-07-27T00:00:00\", \"percentchg\": -0.42018776554747506, \"shock\": 0}, {\"date\": \"2018-07-30T00:00:00\", \"percentchg\": -0.29829804543004546, \"shock\": 0}, {\"date\": \"2018-07-31T00:00:00\", \"percentchg\": 0.2264215371658107, \"shock\": 0}, {\"date\": \"2018-08-01T00:00:00\", \"percentchg\": 0.9591266013690314, \"shock\": 0}, {\"date\": \"2018-08-02T00:00:00\", \"percentchg\": -1.041107499737115, \"shock\": 0}, {\"date\": \"2018-08-03T00:00:00\", \"percentchg\": -0.36010522820517643, \"shock\": 0}, {\"date\": \"2018-08-06T00:00:00\", \"percentchg\": 0.06926666421223082, \"shock\": 0}, {\"date\": \"2018-08-07T00:00:00\", \"percentchg\": -0.5853050994333087, \"shock\": 0}, {\"date\": \"2018-08-08T00:00:00\", \"percentchg\": -0.35980213758877166, \"shock\": 0}, {\"date\": \"2018-08-09T00:00:00\", \"percentchg\": 0.40967461730712085, \"shock\": 0}, {\"date\": \"2018-08-10T00:00:00\", \"percentchg\": 0.5959161548076519, \"shock\": 0}, {\"date\": \"2018-08-13T00:00:00\", \"percentchg\": -0.5471350589136614, \"shock\": 0}, {\"date\": \"2018-08-14T00:00:00\", \"percentchg\": 0.5003282039346857, \"shock\": 0}, {\"date\": \"2018-08-16T00:00:00\", \"percentchg\": -0.7492390107031066, \"shock\": 0}, {\"date\": \"2018-08-17T00:00:00\", \"percentchg\": -0.8643727753649189, \"shock\": 0}, {\"date\": \"2018-08-20T00:00:00\", \"percentchg\": -0.018283565033982985, \"shock\": 0}, {\"date\": \"2018-08-21T00:00:00\", \"percentchg\": -0.13306214834793995, \"shock\": 0}, {\"date\": \"2018-08-23T00:00:00\", \"percentchg\": 0.2221096412842405, \"shock\": 0}, {\"date\": \"2018-08-24T00:00:00\", \"percentchg\": -1.1430902555823463, \"shock\": 0}, {\"date\": \"2018-08-27T00:00:00\", \"percentchg\": -0.5206608823045245, \"shock\": 0}, {\"date\": \"2018-08-28T00:00:00\", \"percentchg\": 0.44856941391515637, \"shock\": 0}, {\"date\": \"2018-08-29T00:00:00\", \"percentchg\": 0.08484889848885402, \"shock\": 0}, {\"date\": \"2018-08-30T00:00:00\", \"percentchg\": 0.11652521171745533, \"shock\": 0}, {\"date\": \"2018-08-31T00:00:00\", \"percentchg\": 0.867995071372829, \"shock\": 0}, {\"date\": \"2018-09-03T00:00:00\", \"percentchg\": 0.40515219030123895, \"shock\": 0}, {\"date\": \"2018-09-04T00:00:00\", \"percentchg\": 0.36722644013928996, \"shock\": 0}, {\"date\": \"2018-09-05T00:00:00\", \"percentchg\": -0.5870384740431667, \"shock\": 0}, {\"date\": \"2018-09-06T00:00:00\", \"percentchg\": -0.382944534653451, \"shock\": 0}, {\"date\": \"2018-09-07T00:00:00\", \"percentchg\": 1.233179468310719, \"shock\": 0}, {\"date\": \"2018-09-10T00:00:00\", \"percentchg\": 1.3605998312131717, \"shock\": 0}, {\"date\": \"2018-09-11T00:00:00\", \"percentchg\": -0.8081879923337199, \"shock\": 0}, {\"date\": \"2018-09-12T00:00:00\", \"percentchg\": -0.9784022567879802, \"shock\": 0}, {\"date\": \"2018-09-14T00:00:00\", \"percentchg\": 1.3439458002590055, \"shock\": 0}, {\"date\": \"2018-09-17T00:00:00\", \"percentchg\": 0.7906530746839779, \"shock\": 0}, {\"date\": \"2018-09-18T00:00:00\", \"percentchg\": 0.4564858878724154, \"shock\": 0}, {\"date\": \"2018-09-19T00:00:00\", \"percentchg\": 0.75897131406093, \"shock\": 0}, {\"date\": \"2018-09-21T00:00:00\", \"percentchg\": 1.4779830397505522, \"shock\": 0}, {\"date\": \"2018-09-24T00:00:00\", \"percentchg\": -0.946847396340178, \"shock\": 0}, {\"date\": \"2018-09-25T00:00:00\", \"percentchg\": 0.30044401704747425, \"shock\": 0}, {\"date\": \"2018-09-26T00:00:00\", \"percentchg\": 0.6004201747545013, \"shock\": 0}, {\"date\": \"2018-09-27T00:00:00\", \"percentchg\": 0.2678413154502124, \"shock\": 0}, {\"date\": \"2018-09-28T00:00:00\", \"percentchg\": -0.8185918218672983, \"shock\": 0}, {\"date\": \"2018-10-01T00:00:00\", \"percentchg\": 1.530235149424608, \"shock\": 0}, {\"date\": \"2018-10-03T00:00:00\", \"percentchg\": 2.2931134733300773, \"shock\": 1}, {\"date\": \"2018-10-04T00:00:00\", \"percentchg\": 2.304366713334427, \"shock\": 1}, {\"date\": \"2018-10-05T00:00:00\", \"percentchg\": -0.2825014636662404, \"shock\": 0}, {\"date\": \"2018-10-08T00:00:00\", \"percentchg\": 0.5099500447802052, \"shock\": 0}, {\"date\": \"2018-10-09T00:00:00\", \"percentchg\": -1.3274167223671363, \"shock\": 0}, {\"date\": \"2018-10-10T00:00:00\", \"percentchg\": 2.234460370938751, \"shock\": 1}, {\"date\": \"2018-10-11T00:00:00\", \"percentchg\": -2.108707847098601, \"shock\": 0}, {\"date\": \"2018-10-12T00:00:00\", \"percentchg\": -0.3772352054223327, \"shock\": 0}, {\"date\": \"2018-10-15T00:00:00\", \"percentchg\": -0.8457278960006587, \"shock\": 0}, {\"date\": \"2018-10-16T00:00:00\", \"percentchg\": 1.1009401619934023, \"shock\": 0}, {\"date\": \"2018-10-17T00:00:00\", \"percentchg\": 1.3520055832795697, \"shock\": 0}, {\"date\": \"2018-10-19T00:00:00\", \"percentchg\": 0.5309895940916354, \"shock\": 0}, {\"date\": \"2018-10-22T00:00:00\", \"percentchg\": 0.8483661248595009, \"shock\": 0}, {\"date\": \"2018-10-23T00:00:00\", \"percentchg\": -0.5486592321502393, \"shock\": 0}, {\"date\": \"2018-10-24T00:00:00\", \"percentchg\": 1.0206891562023923, \"shock\": 0}, {\"date\": \"2018-10-25T00:00:00\", \"percentchg\": 1.0218540184784075, \"shock\": 0}, {\"date\": \"2018-10-26T00:00:00\", \"percentchg\": -2.1078505453458907, \"shock\": 0}, {\"date\": \"2018-10-29T00:00:00\", \"percentchg\": 0.5201052220408453, \"shock\": 0}, {\"date\": \"2018-10-30T00:00:00\", \"percentchg\": -1.5995617639003035, \"shock\": 0}, {\"date\": \"2018-10-31T00:00:00\", \"percentchg\": 0.02928101882062606, \"shock\": 0}, {\"date\": \"2018-11-01T00:00:00\", \"percentchg\": -1.655676648686788, \"shock\": 0}, {\"date\": \"2018-11-02T00:00:00\", \"percentchg\": 0.1737480994555396, \"shock\": 0}, {\"date\": \"2018-11-05T00:00:00\", \"percentchg\": -0.117136449730737, \"shock\": 0}, {\"date\": \"2018-11-06T00:00:00\", \"percentchg\": -0.6974623000991276, \"shock\": 0}, {\"date\": \"2018-11-07T00:00:00\", \"percentchg\": 0.225063048651597, \"shock\": 0}, {\"date\": \"2018-11-09T00:00:00\", \"percentchg\": 0.9926252156472248, \"shock\": 0}, {\"date\": \"2018-11-12T00:00:00\", \"percentchg\": -0.9432489024939317, \"shock\": 0}, {\"date\": \"2018-11-13T00:00:00\", \"percentchg\": 0.007113997022578644, \"shock\": 0}, {\"date\": \"2018-11-14T00:00:00\", \"percentchg\": -0.3362137516952468, \"shock\": 0}, {\"date\": \"2018-11-15T00:00:00\", \"percentchg\": -0.5545314201237384, \"shock\": 0}, {\"date\": \"2018-11-16T00:00:00\", \"percentchg\": -0.8881057314899632, \"shock\": 0}, {\"date\": \"2018-11-19T00:00:00\", \"percentchg\": 0.8467126760796084, \"shock\": 0}, {\"date\": \"2018-11-20T00:00:00\", \"percentchg\": 0.7804332166741368, \"shock\": 0}, {\"date\": \"2018-11-21T00:00:00\", \"percentchg\": 0.6254284550070155, \"shock\": 0}, {\"date\": \"2018-11-22T00:00:00\", \"percentchg\": -1.0552066792153147, \"shock\": 0}, {\"date\": \"2018-11-26T00:00:00\", \"percentchg\": -0.4478975872047375, \"shock\": 0}, {\"date\": \"2018-11-27T00:00:00\", \"percentchg\": -0.5706215066179521, \"shock\": 0}, {\"date\": \"2018-11-28T00:00:00\", \"percentchg\": -1.2536792796684515, \"shock\": 0}, {\"date\": \"2018-11-29T00:00:00\", \"percentchg\": -0.06600659353633853, \"shock\": 0}, {\"date\": \"2018-11-30T00:00:00\", \"percentchg\": -0.1288574232223172, \"shock\": 0}, {\"date\": \"2018-12-03T00:00:00\", \"percentchg\": 0.2952634501728113, \"shock\": 0}, {\"date\": \"2018-12-04T00:00:00\", \"percentchg\": 0.6963983423773135, \"shock\": 0}, {\"date\": \"2018-12-05T00:00:00\", \"percentchg\": 1.6206365000517087, \"shock\": 0}, {\"date\": \"2018-12-06T00:00:00\", \"percentchg\": -1.01230219772519, \"shock\": 0}, {\"date\": \"2018-12-07T00:00:00\", \"percentchg\": 2.041009697768237, \"shock\": 1}, {\"date\": \"2018-12-10T00:00:00\", \"percentchg\": -0.5413738415583347, \"shock\": 0}, {\"date\": \"2018-12-11T00:00:00\", \"percentchg\": -1.7581747883768428, \"shock\": 0}, {\"date\": \"2018-12-12T00:00:00\", \"percentchg\": -0.41906990963676005, \"shock\": 0}, {\"date\": \"2018-12-13T00:00:00\", \"percentchg\": -0.09256493502967089, \"shock\": 0}, {\"date\": \"2018-12-14T00:00:00\", \"percentchg\": -0.8468156316039699, \"shock\": 0}, {\"date\": \"2018-12-17T00:00:00\", \"percentchg\": -0.21186795878107567, \"shock\": 0}, {\"date\": \"2018-12-18T00:00:00\", \"percentchg\": -0.3761889201570723, \"shock\": 0}, {\"date\": \"2018-12-19T00:00:00\", \"percentchg\": 0.14453426727345509, \"shock\": 0}, {\"date\": \"2018-12-20T00:00:00\", \"percentchg\": 1.9293833750274603, \"shock\": 0}, {\"date\": \"2018-12-21T00:00:00\", \"percentchg\": 0.7666217565430733, \"shock\": 0}, {\"date\": \"2018-12-24T00:00:00\", \"percentchg\": -0.5043289319922373, \"shock\": 0}, {\"date\": \"2018-12-26T00:00:00\", \"percentchg\": -0.4394074005548809, \"shock\": 0}, {\"date\": \"2018-12-27T00:00:00\", \"percentchg\": -0.7468459143058825, \"shock\": 0}, {\"date\": \"2018-12-28T00:00:00\", \"percentchg\": 0.02326313814968728, \"shock\": 0}, {\"date\": \"2018-12-31T00:00:00\", \"percentchg\": 0.4926194155587593, \"shock\": 0}, {\"date\": \"2019-01-02T00:00:00\", \"percentchg\": 1.0638386802632294, \"shock\": 0}, {\"date\": \"2019-01-03T00:00:00\", \"percentchg\": -0.5081667149269609, \"shock\": 0}, {\"date\": \"2019-01-04T00:00:00\", \"percentchg\": -0.4325185524253983, \"shock\": 0}, {\"date\": \"2019-01-07T00:00:00\", \"percentchg\": -0.36344122396434475, \"shock\": 0}, {\"date\": \"2019-01-08T00:00:00\", \"percentchg\": -0.6406015637767326, \"shock\": 0}, {\"date\": \"2019-01-09T00:00:00\", \"percentchg\": 0.2947119112902019, \"shock\": 0}, {\"date\": \"2019-01-10T00:00:00\", \"percentchg\": 0.26842706512835157, \"shock\": 0}, {\"date\": \"2019-01-11T00:00:00\", \"percentchg\": 0.43588769463804855, \"shock\": 0}, {\"date\": \"2019-01-14T00:00:00\", \"percentchg\": -1.279710700477077, \"shock\": 0}, {\"date\": \"2019-01-15T00:00:00\", \"percentchg\": -0.00815207162637721, \"shock\": 0}, {\"date\": \"2019-01-16T00:00:00\", \"percentchg\": -0.1451282485251948, \"shock\": 0}, {\"date\": \"2019-01-17T00:00:00\", \"percentchg\": -0.03443918027880022, \"shock\": 0}, {\"date\": \"2019-01-18T00:00:00\", \"percentchg\": -0.5258529973791726, \"shock\": 0}, {\"date\": \"2019-01-21T00:00:00\", \"percentchg\": 0.36855984912047557, \"shock\": 0}, {\"date\": \"2019-01-22T00:00:00\", \"percentchg\": 0.9310056245461773, \"shock\": 0}, {\"date\": \"2019-01-23T00:00:00\", \"percentchg\": -0.2393495494146025, \"shock\": 0}, {\"date\": \"2019-01-24T00:00:00\", \"percentchg\": 0.4706730403279513, \"shock\": 0}, {\"date\": \"2019-01-25T00:00:00\", \"percentchg\": 1.0344194831024778, \"shock\": 0}, {\"date\": \"2019-01-28T00:00:00\", \"percentchg\": 0.18037288403456309, \"shock\": 0}, {\"date\": \"2019-01-29T00:00:00\", \"percentchg\": 0.0035120991816794955, \"shock\": 0}, {\"date\": \"2019-01-30T00:00:00\", \"percentchg\": -1.8353616406799, \"shock\": 0}, {\"date\": \"2019-01-31T00:00:00\", \"percentchg\": -0.5833331726679436, \"shock\": 0}, {\"date\": \"2019-02-01T00:00:00\", \"percentchg\": -0.30973240132785573, \"shock\": 0}, {\"date\": \"2019-02-04T00:00:00\", \"percentchg\": -0.09304555423711447, \"shock\": 0}, {\"date\": \"2019-02-05T00:00:00\", \"percentchg\": -0.9693567030039874, \"shock\": 0}, {\"date\": \"2019-02-06T00:00:00\", \"percentchg\": 0.011199629271141376, \"shock\": 0}, {\"date\": \"2019-02-07T00:00:00\", \"percentchg\": 1.1618338333921674, \"shock\": 0}, {\"date\": \"2019-02-08T00:00:00\", \"percentchg\": 0.4161260852056481, \"shock\": 0}, {\"date\": \"2019-02-11T00:00:00\", \"percentchg\": 0.6677343761057886, \"shock\": 0}, {\"date\": \"2019-02-12T00:00:00\", \"percentchg\": 0.7732206832694599, \"shock\": 0}, {\"date\": \"2019-02-14T00:00:00\", \"percentchg\": 0.18785675848531636, \"shock\": 0}, {\"date\": \"2019-02-15T00:00:00\", \"percentchg\": 0.8747082976024112, \"shock\": 0}, {\"date\": \"2019-02-18T00:00:00\", \"percentchg\": 0.4125071213360698, \"shock\": 0}, {\"date\": \"2019-02-19T00:00:00\", \"percentchg\": -1.1288997348912755, \"shock\": 0}, {\"date\": \"2019-02-20T00:00:00\", \"percentchg\": -0.39581161130092246, \"shock\": 0}, {\"date\": \"2019-02-21T00:00:00\", \"percentchg\": 0.07490935249636621, \"shock\": 0}, {\"date\": \"2019-02-22T00:00:00\", \"percentchg\": -0.9441218903795567, \"shock\": 0}, {\"date\": \"2019-02-25T00:00:00\", \"percentchg\": 0.6662308738911937, \"shock\": 0}, {\"date\": \"2019-02-26T00:00:00\", \"percentchg\": 0.19016970579179837, \"shock\": 0}, {\"date\": \"2019-02-27T00:00:00\", \"percentchg\": 0.10591299451703229, \"shock\": 0}, {\"date\": \"2019-02-28T00:00:00\", \"percentchg\": -0.5444993059718906, \"shock\": 0}, {\"date\": \"2019-03-01T00:00:00\", \"percentchg\": -1.039253791017325, \"shock\": 0}, {\"date\": \"2019-03-05T00:00:00\", \"percentchg\": -0.528338146649665, \"shock\": 0}, {\"date\": \"2019-03-06T00:00:00\", \"percentchg\": -0.24321112716966242, \"shock\": 0}, {\"date\": \"2019-03-07T00:00:00\", \"percentchg\": 0.1472322948957938, \"shock\": 0}, {\"date\": \"2019-03-08T00:00:00\", \"percentchg\": -1.0327382364258342, \"shock\": 0}, {\"date\": \"2019-03-11T00:00:00\", \"percentchg\": -1.2829362578023473, \"shock\": 0}, {\"date\": \"2019-03-12T00:00:00\", \"percentchg\": -0.5735079811219457, \"shock\": 0}, {\"date\": \"2019-03-13T00:00:00\", \"percentchg\": -0.007201053836980442, \"shock\": 0}, {\"date\": \"2019-03-14T00:00:00\", \"percentchg\": -0.7085720015130081, \"shock\": 0}, {\"date\": \"2019-03-15T00:00:00\", \"percentchg\": -0.18571956796411548, \"shock\": 0}, {\"date\": \"2019-03-18T00:00:00\", \"percentchg\": -0.6996198369053852, \"shock\": 0}, {\"date\": \"2019-03-19T00:00:00\", \"percentchg\": -0.06064918233504857, \"shock\": 0}, {\"date\": \"2019-03-20T00:00:00\", \"percentchg\": 0.5820592130716618, \"shock\": 0}, {\"date\": \"2019-03-22T00:00:00\", \"percentchg\": 0.9407814646865686, \"shock\": 0}, {\"date\": \"2019-03-25T00:00:00\", \"percentchg\": -1.110285476145545, \"shock\": 0}, {\"date\": \"2019-03-26T00:00:00\", \"percentchg\": 0.2636340420222538, \"shock\": 0}, {\"date\": \"2019-03-27T00:00:00\", \"percentchg\": -1.0710394231525422, \"shock\": 0}, {\"date\": \"2019-03-28T00:00:00\", \"percentchg\": -0.8390446216581582, \"shock\": 0}, {\"date\": \"2019-04-01T00:00:00\", \"percentchg\": -0.4731008705104012, \"shock\": 0}, {\"date\": \"2019-04-02T00:00:00\", \"percentchg\": 0.4617814763523187, \"shock\": 0}, {\"date\": \"2019-04-03T00:00:00\", \"percentchg\": 0.49736006869638416, \"shock\": 0}, {\"date\": \"2019-04-04T00:00:00\", \"percentchg\": -0.4567718234617102, \"shock\": 0}, {\"date\": \"2019-04-05T00:00:00\", \"percentchg\": 0.4178217030289533, \"shock\": 0}, {\"date\": \"2019-04-08T00:00:00\", \"percentchg\": -0.6129745476724513, \"shock\": 0}, {\"date\": \"2019-04-09T00:00:00\", \"percentchg\": 0.9171024058879151, \"shock\": 0}, {\"date\": \"2019-04-10T00:00:00\", \"percentchg\": -0.056104203059781366, \"shock\": 0}, {\"date\": \"2019-04-11T00:00:00\", \"percentchg\": -0.41297290107794593, \"shock\": 0}, {\"date\": \"2019-04-12T00:00:00\", \"percentchg\": -0.35658006434806655, \"shock\": 0}, {\"date\": \"2019-04-15T00:00:00\", \"percentchg\": -0.9415525128687818, \"shock\": 0}, {\"date\": \"2019-04-16T00:00:00\", \"percentchg\": 0.3458313805550395, \"shock\": 0}, {\"date\": \"2019-04-18T00:00:00\", \"percentchg\": 1.2811470059230778, \"shock\": 0}, {\"date\": \"2019-04-22T00:00:00\", \"percentchg\": 0.20822256811749984, \"shock\": 0}, {\"date\": \"2019-04-23T00:00:00\", \"percentchg\": -1.2541410790440244, \"shock\": 0}, {\"date\": \"2019-04-24T00:00:00\", \"percentchg\": 0.836078304807808, \"shock\": 0}, {\"date\": \"2019-04-25T00:00:00\", \"percentchg\": -0.861253549061336, \"shock\": 0}, {\"date\": \"2019-04-26T00:00:00\", \"percentchg\": 0.09166262429722849, \"shock\": 0}, {\"date\": \"2019-04-30T00:00:00\", \"percentchg\": 0.1285768483911598, \"shock\": 0}, {\"date\": \"2019-05-02T00:00:00\", \"percentchg\": 0.046628459601616434, \"shock\": 0}, {\"date\": \"2019-05-03T00:00:00\", \"percentchg\": 0.9402038336166596, \"shock\": 0}, {\"date\": \"2019-05-06T00:00:00\", \"percentchg\": 0.8457143346997986, \"shock\": 0}, {\"date\": \"2019-05-07T00:00:00\", \"percentchg\": 1.2900535527278878, \"shock\": 0}, {\"date\": \"2019-05-08T00:00:00\", \"percentchg\": 0.6129537546277541, \"shock\": 0}, {\"date\": \"2019-05-09T00:00:00\", \"percentchg\": 0.25604437713264705, \"shock\": 0}, {\"date\": \"2019-05-10T00:00:00\", \"percentchg\": 1.0033964350596447, \"shock\": 0}, {\"date\": \"2019-05-13T00:00:00\", \"percentchg\": -0.6101819387653418, \"shock\": 0}, {\"date\": \"2019-05-14T00:00:00\", \"percentchg\": 0.5487080916104059, \"shock\": 0}, {\"date\": \"2019-05-15T00:00:00\", \"percentchg\": -0.7450538409571994, \"shock\": 0}, {\"date\": \"2019-05-16T00:00:00\", \"percentchg\": -1.416499240958835, \"shock\": 0}, {\"date\": \"2019-05-17T00:00:00\", \"percentchg\": -3.6132294860855674, \"shock\": 0}, {\"date\": \"2019-05-20T00:00:00\", \"percentchg\": 0.9824815269115161, \"shock\": 0}, {\"date\": \"2019-05-21T00:00:00\", \"percentchg\": -0.35901150334980425, \"shock\": 0}, {\"date\": \"2019-05-22T00:00:00\", \"percentchg\": 0.7699294142465396, \"shock\": 0}, {\"date\": \"2019-05-23T00:00:00\", \"percentchg\": -1.580658223915954, \"shock\": 0}, {\"date\": \"2019-05-24T00:00:00\", \"percentchg\": -0.626385358603998, \"shock\": 0}, {\"date\": \"2019-05-27T00:00:00\", \"percentchg\": -0.16714932520670578, \"shock\": 0}, {\"date\": \"2019-05-28T00:00:00\", \"percentchg\": 0.627004630396466, \"shock\": 0}, {\"date\": \"2019-05-29T00:00:00\", \"percentchg\": -0.8282743211129873, \"shock\": 0}, {\"date\": \"2019-05-30T00:00:00\", \"percentchg\": 0.29654263101546174, \"shock\": 0}, {\"date\": \"2019-05-31T00:00:00\", \"percentchg\": -1.3743594977004947, \"shock\": 0}, {\"date\": \"2019-06-03T00:00:00\", \"percentchg\": 0.45924595371424903, \"shock\": 0}, {\"date\": \"2019-06-04T00:00:00\", \"percentchg\": 1.4010226483081256, \"shock\": 0}, {\"date\": \"2019-06-06T00:00:00\", \"percentchg\": -0.21753813721014925, \"shock\": 0}, {\"date\": \"2019-06-07T00:00:00\", \"percentchg\": -0.4238359435698391, \"shock\": 0}, {\"date\": \"2019-06-10T00:00:00\", \"percentchg\": -0.41536793908236724, \"shock\": 0}, {\"date\": \"2019-06-11T00:00:00\", \"percentchg\": 0.4870922757629126, \"shock\": 0}, {\"date\": \"2019-06-12T00:00:00\", \"percentchg\": 0.03887440941368059, \"shock\": 0}, {\"date\": \"2019-06-13T00:00:00\", \"percentchg\": 0.7332671269429936, \"shock\": 0}, {\"date\": \"2019-06-14T00:00:00\", \"percentchg\": 1.2609632962307327, \"shock\": 0}, {\"date\": \"2019-06-17T00:00:00\", \"percentchg\": -0.21910064193556567, \"shock\": 0}, {\"date\": \"2019-06-18T00:00:00\", \"percentchg\": -0.16976166951683247, \"shock\": 0}, {\"date\": \"2019-06-19T00:00:00\", \"percentchg\": -1.2345215045506452, \"shock\": 0}, {\"date\": \"2019-06-20T00:00:00\", \"percentchg\": 1.0387700997100957, \"shock\": 0}, {\"date\": \"2019-06-21T00:00:00\", \"percentchg\": 0.18282702033791676, \"shock\": 0}, {\"date\": \"2019-06-24T00:00:00\", \"percentchg\": -0.7911269996221049, \"shock\": 0}, {\"date\": \"2019-06-25T00:00:00\", \"percentchg\": -0.39688929248393734, \"shock\": 0}, {\"date\": \"2019-06-26T00:00:00\", \"percentchg\": 0.014317966008103866, \"shock\": 0}, {\"date\": \"2019-06-27T00:00:00\", \"percentchg\": 0.48679091421461873, \"shock\": 0}, {\"date\": \"2019-06-28T00:00:00\", \"percentchg\": -0.7354122308593558, \"shock\": 0}, {\"date\": \"2019-07-01T00:00:00\", \"percentchg\": -0.3264489156745376, \"shock\": 0}, {\"date\": \"2019-07-02T00:00:00\", \"percentchg\": -0.05715351380861655, \"shock\": 0}, {\"date\": \"2019-07-03T00:00:00\", \"percentchg\": -0.17241779273315938, \"shock\": 0}, {\"date\": \"2019-07-04T00:00:00\", \"percentchg\": 0.9988208111411545, \"shock\": 0}, {\"date\": \"2019-07-05T00:00:00\", \"percentchg\": 2.0475429625685493, \"shock\": 1}, {\"date\": \"2019-07-08T00:00:00\", \"percentchg\": -0.026464711868479096, \"shock\": 0}, {\"date\": \"2019-07-09T00:00:00\", \"percentchg\": 0.45071212475187306, \"shock\": 0}, {\"date\": \"2019-07-10T00:00:00\", \"percentchg\": -0.6853400378881935, \"shock\": 0}, {\"date\": \"2019-07-11T00:00:00\", \"percentchg\": 0.22428332648445348, \"shock\": 0}, {\"date\": \"2019-07-12T00:00:00\", \"percentchg\": -0.41258107660532284, \"shock\": 0}, {\"date\": \"2019-07-15T00:00:00\", \"percentchg\": -0.5988292941205398, \"shock\": 0}, {\"date\": \"2019-07-16T00:00:00\", \"percentchg\": -0.21573423550312887, \"shock\": 0}, {\"date\": \"2019-07-17T00:00:00\", \"percentchg\": 0.8179960332404423, \"shock\": 0}, {\"date\": \"2019-07-18T00:00:00\", \"percentchg\": 1.4619011592807318, \"shock\": 0}, {\"date\": \"2019-07-19T00:00:00\", \"percentchg\": 0.8042959052149801, \"shock\": 0}, {\"date\": \"2019-07-22T00:00:00\", \"percentchg\": 0.12740162292061985, \"shock\": 0}, {\"date\": \"2019-07-23T00:00:00\", \"percentchg\": 0.35693061346488975, \"shock\": 0}, {\"date\": \"2019-07-24T00:00:00\", \"percentchg\": 0.044059045109245965, \"shock\": 0}, {\"date\": \"2019-07-25T00:00:00\", \"percentchg\": -0.13676024134475773, \"shock\": 0}, {\"date\": \"2019-07-26T00:00:00\", \"percentchg\": 0.5211909850947993, \"shock\": 0}, {\"date\": \"2019-07-29T00:00:00\", \"percentchg\": 0.773139477106688, \"shock\": 0}, {\"date\": \"2019-07-30T00:00:00\", \"percentchg\": -0.2238001693977809, \"shock\": 0}, {\"date\": \"2019-07-31T00:00:00\", \"percentchg\": 1.250193896814178, \"shock\": 0}, {\"date\": \"2019-08-01T00:00:00\", \"percentchg\": -0.26913586067488504, \"shock\": 0}, {\"date\": \"2019-08-02T00:00:00\", \"percentchg\": 1.1400019946442574, \"shock\": 0}, {\"date\": \"2019-08-05T00:00:00\", \"percentchg\": -0.7491490136248724, \"shock\": 0}, {\"date\": \"2019-08-06T00:00:00\", \"percentchg\": 0.7804515133345236, \"shock\": 0}, {\"date\": \"2019-08-07T00:00:00\", \"percentchg\": -1.7061463378696295, \"shock\": 0}, {\"date\": \"2019-08-08T00:00:00\", \"percentchg\": -0.6773226272738242, \"shock\": 0}, {\"date\": \"2019-08-09T00:00:00\", \"percentchg\": 1.687719294907919, \"shock\": 0}, {\"date\": \"2019-08-13T00:00:00\", \"percentchg\": -0.9470827969570439, \"shock\": 0}, {\"date\": \"2019-08-14T00:00:00\", \"percentchg\": -0.10387291610975957, \"shock\": 0}, {\"date\": \"2019-08-16T00:00:00\", \"percentchg\": -0.13945638016855666, \"shock\": 0}, {\"date\": \"2019-08-19T00:00:00\", \"percentchg\": 0.19951923253012094, \"shock\": 0}, {\"date\": \"2019-08-20T00:00:00\", \"percentchg\": 0.7221747033319348, \"shock\": 0}, {\"date\": \"2019-08-21T00:00:00\", \"percentchg\": 1.6106230327072701, \"shock\": 0}, {\"date\": \"2019-08-22T00:00:00\", \"percentchg\": -0.621861728017159, \"shock\": 0}, {\"date\": \"2019-08-23T00:00:00\", \"percentchg\": -2.114894053703209, \"shock\": 0}, {\"date\": \"2019-08-26T00:00:00\", \"percentchg\": -0.39092315251969545, \"shock\": 0}, {\"date\": \"2019-08-27T00:00:00\", \"percentchg\": 0.5057954116281183, \"shock\": 0}, {\"date\": \"2019-08-28T00:00:00\", \"percentchg\": 1.0329679315751017, \"shock\": 0}, {\"date\": \"2019-08-29T00:00:00\", \"percentchg\": -0.7067764869060911, \"shock\": 0}, {\"date\": \"2019-08-30T00:00:00\", \"percentchg\": 2.1056280885737966, \"shock\": 1}, {\"date\": \"2019-09-03T00:00:00\", \"percentchg\": -0.44065154055195066, \"shock\": 0}, {\"date\": \"2019-09-04T00:00:00\", \"percentchg\": 0.21917771420700838, \"shock\": 0}, {\"date\": \"2019-09-05T00:00:00\", \"percentchg\": -0.9121998771987827, \"shock\": 0}, {\"date\": \"2019-09-06T00:00:00\", \"percentchg\": -0.44064533056549227, \"shock\": 0}, {\"date\": \"2019-09-09T00:00:00\", \"percentchg\": -0.33637868095957035, \"shock\": 0}, {\"date\": \"2019-09-11T00:00:00\", \"percentchg\": 0.4488405566406062, \"shock\": 0}, {\"date\": \"2019-09-12T00:00:00\", \"percentchg\": -0.750854939790857, \"shock\": 0}, {\"date\": \"2019-09-13T00:00:00\", \"percentchg\": 0.7048932258803431, \"shock\": 0}, {\"date\": \"2019-09-16T00:00:00\", \"percentchg\": 1.7604154720997967, \"shock\": 0}, {\"date\": \"2019-09-17T00:00:00\", \"percentchg\": -0.22642308468494576, \"shock\": 0}, {\"date\": \"2019-09-18T00:00:00\", \"percentchg\": 1.3033110214711652, \"shock\": 0}, {\"date\": \"2019-09-19T00:00:00\", \"percentchg\": -5.053719564933024, \"shock\": 0}, {\"date\": \"2019-09-20T00:00:00\", \"percentchg\": -2.7511110169552544, \"shock\": 0}, {\"date\": \"2019-09-23T00:00:00\", \"percentchg\": -0.018183874540056433, \"shock\": 0}, {\"date\": \"2019-09-24T00:00:00\", \"percentchg\": 1.304936942437207, \"shock\": 0}, {\"date\": \"2019-09-25T00:00:00\", \"percentchg\": -1.0162128997683983, \"shock\": 0}, {\"date\": \"2019-09-26T00:00:00\", \"percentchg\": 0.43059479937672673, \"shock\": 0}, {\"date\": \"2019-09-27T00:00:00\", \"percentchg\": 0.4014815479314926, \"shock\": 0}, {\"date\": \"2019-09-30T00:00:00\", \"percentchg\": 0.944822068928941, \"shock\": 0}, {\"date\": \"2019-10-01T00:00:00\", \"percentchg\": 0.5210059414522794, \"shock\": 0}, {\"date\": \"2019-10-03T00:00:00\", \"percentchg\": 1.1508479509334313, \"shock\": 0}, {\"date\": \"2019-10-04T00:00:00\", \"percentchg\": 0.3765538701526072, \"shock\": 0}, {\"date\": \"2019-10-07T00:00:00\", \"percentchg\": -1.691994366430638, \"shock\": 0}, {\"date\": \"2019-10-09T00:00:00\", \"percentchg\": 0.7855006639936324, \"shock\": 0}, {\"date\": \"2019-10-10T00:00:00\", \"percentchg\": -0.6469934220798668, \"shock\": 0}, {\"date\": \"2019-10-11T00:00:00\", \"percentchg\": -0.22868465232818158, \"shock\": 0}, {\"date\": \"2019-10-14T00:00:00\", \"percentchg\": -0.7573375923998982, \"shock\": 0}, {\"date\": \"2019-10-15T00:00:00\", \"percentchg\": -0.24067583539522097, \"shock\": 0}, {\"date\": \"2019-10-16T00:00:00\", \"percentchg\": -1.160170113471326, \"shock\": 0}, {\"date\": \"2019-10-17T00:00:00\", \"percentchg\": -0.6267950978019243, \"shock\": 0}, {\"date\": \"2019-10-18T00:00:00\", \"percentchg\": 0.8585885370680835, \"shock\": 0}, {\"date\": \"2019-10-22T00:00:00\", \"percentchg\": -0.2431928601288491, \"shock\": 0}, {\"date\": \"2019-10-23T00:00:00\", \"percentchg\": 0.09850618967246483, \"shock\": 0}, {\"date\": \"2019-10-24T00:00:00\", \"percentchg\": -0.09644096533776292, \"shock\": 0}, {\"date\": \"2019-10-25T00:00:00\", \"percentchg\": -1.9426199066760241, \"shock\": 0}, {\"date\": \"2019-10-29T00:00:00\", \"percentchg\": -0.5493657199808988, \"shock\": 0}, {\"date\": \"2019-10-30T00:00:00\", \"percentchg\": -0.19232871447849575, \"shock\": 0}, {\"date\": \"2019-10-31T00:00:00\", \"percentchg\": -0.08958157788063748, \"shock\": 0}, {\"date\": \"2019-11-01T00:00:00\", \"percentchg\": -0.3397593673229671, \"shock\": 0}, {\"date\": \"2019-11-04T00:00:00\", \"percentchg\": 0.13349771685420286, \"shock\": 0}, {\"date\": \"2019-11-05T00:00:00\", \"percentchg\": -0.54744743956332, \"shock\": 0}, {\"date\": \"2019-11-06T00:00:00\", \"percentchg\": -0.4524972094259838, \"shock\": 0}, {\"date\": \"2019-11-07T00:00:00\", \"percentchg\": 0.8186988004468487, \"shock\": 0}, {\"date\": \"2019-11-08T00:00:00\", \"percentchg\": -0.053212810577496494, \"shock\": 0}, {\"date\": \"2019-11-11T00:00:00\", \"percentchg\": 0.57089240388557, \"shock\": 0}, {\"date\": \"2019-11-13T00:00:00\", \"percentchg\": -0.4230249776527306, \"shock\": 0}, {\"date\": \"2019-11-14T00:00:00\", \"percentchg\": -0.17397595058827875, \"shock\": 0}, {\"date\": \"2019-11-15T00:00:00\", \"percentchg\": 0.1799713422788285, \"shock\": 0}, {\"date\": \"2019-11-18T00:00:00\", \"percentchg\": -0.4583869316578726, \"shock\": 0}, {\"date\": \"2019-11-19T00:00:00\", \"percentchg\": -0.4475622716641592, \"shock\": 0}, {\"date\": \"2019-11-20T00:00:00\", \"percentchg\": 0.18846192503034764, \"shock\": 0}, {\"date\": \"2019-11-21T00:00:00\", \"percentchg\": 0.5346007731894087, \"shock\": 0}, {\"date\": \"2019-11-22T00:00:00\", \"percentchg\": -1.2957453745795489, \"shock\": 0}, {\"date\": \"2019-11-25T00:00:00\", \"percentchg\": 0.1664074544415417, \"shock\": 0}, {\"date\": \"2019-11-26T00:00:00\", \"percentchg\": -0.4858742880389011, \"shock\": 0}, {\"date\": \"2019-11-27T00:00:00\", \"percentchg\": -0.26637987395962126, \"shock\": 0}, {\"date\": \"2019-11-28T00:00:00\", \"percentchg\": 0.8245449318049936, \"shock\": 0}, {\"date\": \"2019-11-29T00:00:00\", \"percentchg\": -0.020497147248976777, \"shock\": 0}, {\"date\": \"2019-12-02T00:00:00\", \"percentchg\": 0.31154580633760975, \"shock\": 0}, {\"date\": \"2019-12-03T00:00:00\", \"percentchg\": -0.4280014848426106, \"shock\": 0}, {\"date\": \"2019-12-04T00:00:00\", \"percentchg\": 0.1733691266167403, \"shock\": 0}, {\"date\": \"2019-12-05T00:00:00\", \"percentchg\": 0.826901171513339, \"shock\": 0}, {\"date\": \"2019-12-06T00:00:00\", \"percentchg\": -0.10443056110587268, \"shock\": 0}, {\"date\": \"2019-12-09T00:00:00\", \"percentchg\": 0.6151876893733643, \"shock\": 0}, {\"date\": \"2019-12-10T00:00:00\", \"percentchg\": -0.4273210164921992, \"shock\": 0}, {\"date\": \"2019-12-11T00:00:00\", \"percentchg\": -0.4167902759459663, \"shock\": 0}, {\"date\": \"2019-12-12T00:00:00\", \"percentchg\": -1.0436552470518112, \"shock\": 0}, {\"date\": \"2019-12-13T00:00:00\", \"percentchg\": 0.17341086792073135, \"shock\": 0}, {\"date\": \"2019-12-16T00:00:00\", \"percentchg\": -0.9998341229809915, \"shock\": 0}, {\"date\": \"2019-12-17T00:00:00\", \"percentchg\": -0.4966447015573139, \"shock\": 0}, {\"date\": \"2019-12-18T00:00:00\", \"percentchg\": -0.27679555297434044, \"shock\": 0}, {\"date\": \"2019-12-19T00:00:00\", \"percentchg\": -0.018274727064604424, \"shock\": 0}, {\"date\": \"2019-12-20T00:00:00\", \"percentchg\": 0.09336316677206469, \"shock\": 0}, {\"date\": \"2019-12-23T00:00:00\", \"percentchg\": 0.4375130663666349, \"shock\": 0}, {\"date\": \"2019-12-24T00:00:00\", \"percentchg\": 0.7227230641180471, \"shock\": 0}, {\"date\": \"2019-12-26T00:00:00\", \"percentchg\": -0.9894828978705306, \"shock\": 0}, {\"date\": \"2019-12-27T00:00:00\", \"percentchg\": 0.041245067135098346, \"shock\": 0}, {\"date\": \"2019-12-30T00:00:00\", \"percentchg\": 0.7375373273463826, \"shock\": 0}, {\"date\": \"2019-12-31T00:00:00\", \"percentchg\": -0.8958261780222632, \"shock\": 0}, {\"date\": \"2020-01-02T00:00:00\", \"percentchg\": 0.3907699902213402, \"shock\": 0}, {\"date\": \"2020-01-03T00:00:00\", \"percentchg\": 1.9371823327987814, \"shock\": 0}, {\"date\": \"2020-01-06T00:00:00\", \"percentchg\": -0.47184328460350144, \"shock\": 0}, {\"date\": \"2020-01-07T00:00:00\", \"percentchg\": 0.1267352649320097, \"shock\": 0}, {\"date\": \"2020-01-08T00:00:00\", \"percentchg\": -1.5309463934589096, \"shock\": 0}, {\"date\": \"2020-01-09T00:00:00\", \"percentchg\": -0.354250441897519, \"shock\": 0}, {\"date\": \"2020-01-10T00:00:00\", \"percentchg\": -0.621057268977343, \"shock\": 0}, {\"date\": \"2020-01-13T00:00:00\", \"percentchg\": -0.22152962143965338, \"shock\": 0}, {\"date\": \"2020-01-14T00:00:00\", \"percentchg\": 0.19081258042064064, \"shock\": 0}, {\"date\": \"2020-01-15T00:00:00\", \"percentchg\": -0.1426770199730143, \"shock\": 0}, {\"date\": \"2020-01-16T00:00:00\", \"percentchg\": -0.03054568279146075, \"shock\": 0}, {\"date\": \"2020-01-17T00:00:00\", \"percentchg\": 1.0028217353479585, \"shock\": 0}, {\"date\": \"2020-01-20T00:00:00\", \"percentchg\": 0.49632783008055625, \"shock\": 0}, {\"date\": \"2020-01-21T00:00:00\", \"percentchg\": 0.5069385058453557, \"shock\": 0}, {\"date\": \"2020-01-22T00:00:00\", \"percentchg\": -0.6548516939913984, \"shock\": 0}, {\"date\": \"2020-01-23T00:00:00\", \"percentchg\": -0.5450025847234974, \"shock\": 0}, {\"date\": \"2020-01-24T00:00:00\", \"percentchg\": 1.1130335674545355, \"shock\": 0}, {\"date\": \"2020-01-27T00:00:00\", \"percentchg\": 0.45954637876117754, \"shock\": 0}, {\"date\": \"2020-01-28T00:00:00\", \"percentchg\": -0.5626415528341755, \"shock\": 0}, {\"date\": \"2020-01-29T00:00:00\", \"percentchg\": 0.6961946881870018, \"shock\": 0}, {\"date\": \"2020-01-30T00:00:00\", \"percentchg\": 0.46737654185098343, \"shock\": 0}, {\"date\": \"2020-01-31T00:00:00\", \"percentchg\": 2.13476399416066, \"shock\": 1}, {\"date\": \"2020-02-03T00:00:00\", \"percentchg\": -2.2483066354302417, \"shock\": 0}, {\"date\": \"2020-02-04T00:00:00\", \"percentchg\": -0.8586738160787921, \"shock\": 0}, {\"date\": \"2020-02-05T00:00:00\", \"percentchg\": -0.3955138966540095, \"shock\": 0}, {\"date\": \"2020-02-06T00:00:00\", \"percentchg\": 0.3990576050049377, \"shock\": 0}, {\"date\": \"2020-02-07T00:00:00\", \"percentchg\": 0.3958808413061288, \"shock\": 0}, {\"date\": \"2020-02-10T00:00:00\", \"percentchg\": -0.5738517184370684, \"shock\": 0}, {\"date\": \"2020-02-11T00:00:00\", \"percentchg\": -0.8414537533115274, \"shock\": 0}, {\"date\": \"2020-02-12T00:00:00\", \"percentchg\": 0.25593322445525146, \"shock\": 0}, {\"date\": \"2020-02-13T00:00:00\", \"percentchg\": 0.4897282053432983, \"shock\": 0}, {\"date\": \"2020-02-14T00:00:00\", \"percentchg\": 0.4921287842913902, \"shock\": 0}, {\"date\": \"2020-02-17T00:00:00\", \"percentchg\": 0.3944613032754729, \"shock\": 0}, {\"date\": \"2020-02-18T00:00:00\", \"percentchg\": -1.0372458285942465, \"shock\": 0}, {\"date\": \"2020-02-19T00:00:00\", \"percentchg\": 0.37133460429197296, \"shock\": 0}, {\"date\": \"2020-02-20T00:00:00\", \"percentchg\": 1.999073452816691, \"shock\": 0}, {\"date\": \"2020-02-24T00:00:00\", \"percentchg\": 0.2036464941237881, \"shock\": 0}, {\"date\": \"2020-02-25T00:00:00\", \"percentchg\": 0.9833253913647422, \"shock\": 0}, {\"date\": \"2020-02-26T00:00:00\", \"percentchg\": 0.36054447375297727, \"shock\": 0}, {\"date\": \"2020-02-27T00:00:00\", \"percentchg\": 3.781915454606466, \"shock\": 1}, {\"date\": \"2020-02-28T00:00:00\", \"percentchg\": 0.4018179864983429, \"shock\": 0}, {\"date\": \"2020-03-02T00:00:00\", \"percentchg\": -1.2419309833148762, \"shock\": 0}, {\"date\": \"2020-03-03T00:00:00\", \"percentchg\": 0.557723633294871, \"shock\": 0}, {\"date\": \"2020-03-04T00:00:00\", \"percentchg\": -0.15889768122498982, \"shock\": 0}, {\"date\": \"2020-03-05T00:00:00\", \"percentchg\": 2.3791076877816897, \"shock\": 1}, {\"date\": \"2020-03-06T00:00:00\", \"percentchg\": 5.448785300859504, \"shock\": 1}, {\"date\": \"2020-03-09T00:00:00\", \"percentchg\": -0.17494053203719329, \"shock\": 0}, {\"date\": \"2020-03-11T00:00:00\", \"percentchg\": 8.906111685522134, \"shock\": 1}, {\"date\": \"2020-03-12T00:00:00\", \"percentchg\": -3.886230453705297, \"shock\": 0}, {\"date\": \"2020-03-13T00:00:00\", \"percentchg\": 8.644167181650042, \"shock\": 1}, {\"date\": \"2020-03-16T00:00:00\", \"percentchg\": 2.652075234723683, \"shock\": 1}, {\"date\": \"2020-03-17T00:00:00\", \"percentchg\": 5.9217495967340605, \"shock\": 1}, {\"date\": \"2020-03-18T00:00:00\", \"percentchg\": 2.054845026510721, \"shock\": 1}, {\"date\": \"2020-03-19T00:00:00\", \"percentchg\": -5.4410101422134876, \"shock\": 0}, {\"date\": \"2020-03-20T00:00:00\", \"percentchg\": 15.14446834573775, \"shock\": 1}, {\"date\": \"2020-03-23T00:00:00\", \"percentchg\": -2.5972418894402383, \"shock\": 0}, {\"date\": \"2020-03-24T00:00:00\", \"percentchg\": -6.52426548660573, \"shock\": 0}, {\"date\": \"2020-03-25T00:00:00\", \"percentchg\": -4.71166091188101, \"shock\": 0}, {\"date\": \"2020-03-26T00:00:00\", \"percentchg\": 0.4399701236415421, \"shock\": 0}, {\"date\": \"2020-03-27T00:00:00\", \"percentchg\": 4.835633059468547, \"shock\": 1}, {\"date\": \"2020-03-30T00:00:00\", \"percentchg\": -3.4890485182564213, \"shock\": 0}, {\"date\": \"2020-03-31T00:00:00\", \"percentchg\": 4.256736134225925, \"shock\": 1}, {\"date\": \"2020-04-01T00:00:00\", \"percentchg\": 2.4441396444118135, \"shock\": 1}, {\"date\": \"2020-04-03T00:00:00\", \"percentchg\": -8.235754636162785, \"shock\": 0}, {\"date\": \"2020-04-07T00:00:00\", \"percentchg\": 0.5795484926277128, \"shock\": 0}, {\"date\": \"2020-04-08T00:00:00\", \"percentchg\": -4.0618538930563215, \"shock\": 0}, {\"date\": \"2020-04-09T00:00:00\", \"percentchg\": 1.5301378641901175, \"shock\": 0}, {\"date\": \"2020-04-13T00:00:00\", \"percentchg\": 1.021102432144394, \"shock\": 0}, {\"date\": \"2020-04-15T00:00:00\", \"percentchg\": -0.728038662961239, \"shock\": 0}, {\"date\": \"2020-04-16T00:00:00\", \"percentchg\": -3.121719734688233, \"shock\": 0}, {\"date\": \"2020-04-17T00:00:00\", \"percentchg\": -0.18730819285578404, \"shock\": 0}, {\"date\": \"2020-04-20T00:00:00\", \"percentchg\": 3.300906107587931, \"shock\": 1}, {\"date\": \"2020-04-21T00:00:00\", \"percentchg\": -2.3672736710873, \"shock\": 0}, {\"date\": \"2020-04-22T00:00:00\", \"percentchg\": -1.5175221469156064, \"shock\": 0}, {\"date\": \"2020-04-23T00:00:00\", \"percentchg\": 1.7105231902891038, \"shock\": 0}, {\"date\": \"2020-04-24T00:00:00\", \"percentchg\": -1.3100788391564477, \"shock\": 0}, {\"date\": \"2020-04-27T00:00:00\", \"percentchg\": -1.1566090931659723, \"shock\": 0}, {\"date\": \"2020-04-28T00:00:00\", \"percentchg\": -1.8509708452154827, \"shock\": 0}, {\"date\": \"2020-04-29T00:00:00\", \"percentchg\": -2.9582779126873016, \"shock\": 0}, {\"date\": \"2020-04-30T00:00:00\", \"percentchg\": 6.313256858386107, \"shock\": 1}, {\"date\": \"2020-05-04T00:00:00\", \"percentchg\": 0.8324662198307742, \"shock\": 0}, {\"date\": \"2020-05-05T00:00:00\", \"percentchg\": -0.7329485158943716, \"shock\": 0}, {\"date\": \"2020-05-06T00:00:00\", \"percentchg\": 0.7708113249938142, \"shock\": 0}, {\"date\": \"2020-05-07T00:00:00\", \"percentchg\": -0.6299031507934427, \"shock\": 0}, {\"date\": \"2020-05-08T00:00:00\", \"percentchg\": 0.2581602162711416, \"shock\": 0}, {\"date\": \"2020-05-11T00:00:00\", \"percentchg\": 0.6059763492907155, \"shock\": 0}, {\"date\": \"2020-05-12T00:00:00\", \"percentchg\": -1.991621150754852, \"shock\": 0}, {\"date\": \"2020-05-13T00:00:00\", \"percentchg\": 2.845875598998937, \"shock\": 1}, {\"date\": \"2020-05-14T00:00:00\", \"percentchg\": 0.0809067281462239, \"shock\": 0}, {\"date\": \"2020-05-15T00:00:00\", \"percentchg\": 3.5590618906033322, \"shock\": 1}, {\"date\": \"2020-05-18T00:00:00\", \"percentchg\": -0.5536776801745358, \"shock\": 0}, {\"date\": \"2020-05-19T00:00:00\", \"percentchg\": -2.019687019460137, \"shock\": 0}, {\"date\": \"2020-05-20T00:00:00\", \"percentchg\": -0.3694804372746052, \"shock\": 0}, {\"date\": \"2020-05-21T00:00:00\", \"percentchg\": 0.8486748207473083, \"shock\": 0}, {\"date\": \"2020-05-22T00:00:00\", \"percentchg\": 0.20676415626836864, \"shock\": 0}, {\"date\": \"2020-05-26T00:00:00\", \"percentchg\": -3.151124718380871, \"shock\": 0}, {\"date\": \"2020-05-27T00:00:00\", \"percentchg\": -1.848938617317153, \"shock\": 0}, {\"date\": \"2020-05-28T00:00:00\", \"percentchg\": -0.6893322199157503, \"shock\": 0}, {\"date\": \"2020-05-29T00:00:00\", \"percentchg\": -2.6406215746951456, \"shock\": 0}, {\"date\": \"2020-06-01T00:00:00\", \"percentchg\": -1.5432476577880827, \"shock\": 0}, {\"date\": \"2020-06-02T00:00:00\", \"percentchg\": -0.8326345658896228, \"shock\": 0}, {\"date\": \"2020-06-03T00:00:00\", \"percentchg\": 0.3791559523852017, \"shock\": 0}, {\"date\": \"2020-06-04T00:00:00\", \"percentchg\": -0.894032525995625, \"shock\": 0}, {\"date\": \"2020-06-05T00:00:00\", \"percentchg\": -0.2424743728397738, \"shock\": 0}, {\"date\": \"2020-06-08T00:00:00\", \"percentchg\": 1.2188664490257795, \"shock\": 0}, {\"date\": \"2020-06-09T00:00:00\", \"percentchg\": -0.8478376046295089, \"shock\": 0}, {\"date\": \"2020-06-10T00:00:00\", \"percentchg\": 2.113041463817744, \"shock\": 1}, {\"date\": \"2020-06-11T00:00:00\", \"percentchg\": -0.7179192933134848, \"shock\": 0}, {\"date\": \"2020-06-12T00:00:00\", \"percentchg\": 1.661479893254314, \"shock\": 0}, {\"date\": \"2020-06-15T00:00:00\", \"percentchg\": -1.120117597062209, \"shock\": 0}, {\"date\": \"2020-06-16T00:00:00\", \"percentchg\": 0.29036976796998903, \"shock\": 0}, {\"date\": \"2020-06-17T00:00:00\", \"percentchg\": -2.046678750353559, \"shock\": 0}, {\"date\": \"2020-06-18T00:00:00\", \"percentchg\": -1.5077846120313043, \"shock\": 0}, {\"date\": \"2020-06-19T00:00:00\", \"percentchg\": -0.5144172209542552, \"shock\": 0}, {\"date\": \"2020-06-22T00:00:00\", \"percentchg\": -1.4651512261595445, \"shock\": 0}, {\"date\": \"2020-06-23T00:00:00\", \"percentchg\": 1.6101681529036238, \"shock\": 0}, {\"date\": \"2020-06-24T00:00:00\", \"percentchg\": 0.07714490528587525, \"shock\": 0}, {\"date\": \"2020-06-25T00:00:00\", \"percentchg\": -0.9359001626527363, \"shock\": 0}, {\"date\": \"2020-06-26T00:00:00\", \"percentchg\": 0.5999453193460846, \"shock\": 0}]}}, {\"mode\": \"vega-lite\"});\n",
              "</script>"
            ]
          },
          "metadata": {
            "tags": []
          },
          "execution_count": 29
        }
      ]
    },
    {
      "cell_type": "code",
      "metadata": {
        "id": "GLYb2ay4MBog"
      },
      "source": [
        "def pricereverseboolean_shock(percent, df):\n",
        "  data = df.filter(['date', 'high', 'low','close'], axis=1) #df.copy()\n",
        "  data.set_index('date', inplace=True)\n",
        "  data = data.reindex(index=data.index[::-1])\n",
        "  data['reversepriceavg'] = (data['high'] + data['low'] + data['close']) / 3\n",
        "  data['shock'] = (data['reversepriceavg'].pct_change()) * 100\n",
        "  data['shock'] = data['shock'].apply(lambda x: 1 if x >= percent else 0)\n",
        "  data.drop(['high', 'low', 'close'], axis = 1, inplace = True)\n",
        "  data = data.reindex(index=data.index[::-1])\n",
        "  return data.dropna()"
      ],
      "execution_count": 30,
      "outputs": []
    },
    {
      "cell_type": "code",
      "metadata": {
        "colab": {
          "base_uri": "https://localhost:8080/",
          "height": 431
        },
        "id": "UYv5whPJMH7b",
        "outputId": "87909932-1406-4c36-f3e0-34bf5f7ffcf7"
      },
      "source": [
        "pricereverseboolean_shock(2, bse_data)"
      ],
      "execution_count": 31,
      "outputs": [
        {
          "output_type": "execute_result",
          "data": {
            "text/html": [
              "<div>\n",
              "<style scoped>\n",
              "    .dataframe tbody tr th:only-of-type {\n",
              "        vertical-align: middle;\n",
              "    }\n",
              "\n",
              "    .dataframe tbody tr th {\n",
              "        vertical-align: top;\n",
              "    }\n",
              "\n",
              "    .dataframe thead th {\n",
              "        text-align: right;\n",
              "    }\n",
              "</style>\n",
              "<table border=\"1\" class=\"dataframe\">\n",
              "  <thead>\n",
              "    <tr style=\"text-align: right;\">\n",
              "      <th></th>\n",
              "      <th>reversepriceavg</th>\n",
              "      <th>shock</th>\n",
              "    </tr>\n",
              "    <tr>\n",
              "      <th>date</th>\n",
              "      <th></th>\n",
              "      <th></th>\n",
              "    </tr>\n",
              "  </thead>\n",
              "  <tbody>\n",
              "    <tr>\n",
              "      <th>2015-01-02</th>\n",
              "      <td>27781.543620</td>\n",
              "      <td>0</td>\n",
              "    </tr>\n",
              "    <tr>\n",
              "      <th>2015-01-05</th>\n",
              "      <td>27897.886719</td>\n",
              "      <td>1</td>\n",
              "    </tr>\n",
              "    <tr>\n",
              "      <th>2015-01-06</th>\n",
              "      <td>27207.817057</td>\n",
              "      <td>0</td>\n",
              "    </tr>\n",
              "    <tr>\n",
              "      <th>2015-01-07</th>\n",
              "      <td>26912.179688</td>\n",
              "      <td>0</td>\n",
              "    </tr>\n",
              "    <tr>\n",
              "      <th>2015-01-08</th>\n",
              "      <td>27231.020182</td>\n",
              "      <td>0</td>\n",
              "    </tr>\n",
              "    <tr>\n",
              "      <th>...</th>\n",
              "      <td>...</td>\n",
              "      <td>...</td>\n",
              "    </tr>\n",
              "    <tr>\n",
              "      <th>2020-06-23</th>\n",
              "      <td>35252.093750</td>\n",
              "      <td>0</td>\n",
              "    </tr>\n",
              "    <tr>\n",
              "      <th>2020-06-24</th>\n",
              "      <td>35123.486979</td>\n",
              "      <td>0</td>\n",
              "    </tr>\n",
              "    <tr>\n",
              "      <th>2020-06-25</th>\n",
              "      <td>34807.830729</td>\n",
              "      <td>0</td>\n",
              "    </tr>\n",
              "    <tr>\n",
              "      <th>2020-06-26</th>\n",
              "      <td>35112.162760</td>\n",
              "      <td>0</td>\n",
              "    </tr>\n",
              "    <tr>\n",
              "      <th>2020-06-29</th>\n",
              "      <td>34885.312500</td>\n",
              "      <td>0</td>\n",
              "    </tr>\n",
              "  </tbody>\n",
              "</table>\n",
              "<p>1345 rows × 2 columns</p>\n",
              "</div>"
            ],
            "text/plain": [
              "            reversepriceavg  shock\n",
              "date                              \n",
              "2015-01-02     27781.543620      0\n",
              "2015-01-05     27897.886719      1\n",
              "2015-01-06     27207.817057      0\n",
              "2015-01-07     26912.179688      0\n",
              "2015-01-08     27231.020182      0\n",
              "...                     ...    ...\n",
              "2020-06-23     35252.093750      0\n",
              "2020-06-24     35123.486979      0\n",
              "2020-06-25     34807.830729      0\n",
              "2020-06-26     35112.162760      0\n",
              "2020-06-29     34885.312500      0\n",
              "\n",
              "[1345 rows x 2 columns]"
            ]
          },
          "metadata": {
            "tags": []
          },
          "execution_count": 31
        }
      ]
    },
    {
      "cell_type": "code",
      "metadata": {
        "colab": {
          "base_uri": "https://localhost:8080/",
          "height": 368
        },
        "id": "z7ZE4V88MPHk",
        "outputId": "b558a453-3b06-4fdc-b987-298766f4ae44"
      },
      "source": [
        "altdata_reversepricepercentchg = pricereverseboolean_shock(2, bse_data)\n",
        "altdata_reversepricepercentchg.reset_index(inplace=True)\n",
        "altdata_reversepricepercentchg.rename(columns={list(altdata_reversepricepercentchg)[0]:'date'}, inplace=True)\n",
        "alt.Chart(altdata_reversepricepercentchg).mark_point().encode(\n",
        "    x='date',\n",
        "    y='reversepriceavg'\n",
        ")"
      ],
      "execution_count": 32,
      "outputs": [
        {
          "output_type": "execute_result",
          "data": {
            "text/plain": [
              "alt.Chart(...)"
            ],
            "text/html": [
              "\n",
              "<div id=\"altair-viz-14144ec0b3f34f4287fb7c2de23b4419\"></div>\n",
              "<script type=\"text/javascript\">\n",
              "  (function(spec, embedOpt){\n",
              "    let outputDiv = document.currentScript.previousElementSibling;\n",
              "    if (outputDiv.id !== \"altair-viz-14144ec0b3f34f4287fb7c2de23b4419\") {\n",
              "      outputDiv = document.getElementById(\"altair-viz-14144ec0b3f34f4287fb7c2de23b4419\");\n",
              "    }\n",
              "    const paths = {\n",
              "      \"vega\": \"https://cdn.jsdelivr.net/npm//vega@5?noext\",\n",
              "      \"vega-lib\": \"https://cdn.jsdelivr.net/npm//vega-lib?noext\",\n",
              "      \"vega-lite\": \"https://cdn.jsdelivr.net/npm//vega-lite@4.8.1?noext\",\n",
              "      \"vega-embed\": \"https://cdn.jsdelivr.net/npm//vega-embed@6?noext\",\n",
              "    };\n",
              "\n",
              "    function loadScript(lib) {\n",
              "      return new Promise(function(resolve, reject) {\n",
              "        var s = document.createElement('script');\n",
              "        s.src = paths[lib];\n",
              "        s.async = true;\n",
              "        s.onload = () => resolve(paths[lib]);\n",
              "        s.onerror = () => reject(`Error loading script: ${paths[lib]}`);\n",
              "        document.getElementsByTagName(\"head\")[0].appendChild(s);\n",
              "      });\n",
              "    }\n",
              "\n",
              "    function showError(err) {\n",
              "      outputDiv.innerHTML = `<div class=\"error\" style=\"color:red;\">${err}</div>`;\n",
              "      throw err;\n",
              "    }\n",
              "\n",
              "    function displayChart(vegaEmbed) {\n",
              "      vegaEmbed(outputDiv, spec, embedOpt)\n",
              "        .catch(err => showError(`Javascript Error: ${err.message}<br>This usually means there's a typo in your chart specification. See the javascript console for the full traceback.`));\n",
              "    }\n",
              "\n",
              "    if(typeof define === \"function\" && define.amd) {\n",
              "      requirejs.config({paths});\n",
              "      require([\"vega-embed\"], displayChart, err => showError(`Error loading script: ${err.message}`));\n",
              "    } else if (typeof vegaEmbed === \"function\") {\n",
              "      displayChart(vegaEmbed);\n",
              "    } else {\n",
              "      loadScript(\"vega\")\n",
              "        .then(() => loadScript(\"vega-lite\"))\n",
              "        .then(() => loadScript(\"vega-embed\"))\n",
              "        .catch(showError)\n",
              "        .then(() => displayChart(vegaEmbed));\n",
              "    }\n",
              "  })({\"config\": {\"view\": {\"continuousWidth\": 400, \"continuousHeight\": 300}}, \"data\": {\"name\": \"data-f226bc74da4fc4da1525785a23aec328\"}, \"mark\": \"point\", \"encoding\": {\"x\": {\"type\": \"temporal\", \"field\": \"date\"}, \"y\": {\"type\": \"quantitative\", \"field\": \"reversepriceavg\"}}, \"$schema\": \"https://vega.github.io/schema/vega-lite/v4.8.1.json\", \"datasets\": {\"data-f226bc74da4fc4da1525785a23aec328\": [{\"date\": \"2015-01-02T00:00:00\", \"reversepriceavg\": 27781.543619791668, \"shock\": 0}, {\"date\": \"2015-01-05T00:00:00\", \"reversepriceavg\": 27897.88671875, \"shock\": 1}, {\"date\": \"2015-01-06T00:00:00\", \"reversepriceavg\": 27207.817057291668, \"shock\": 0}, {\"date\": \"2015-01-07T00:00:00\", \"reversepriceavg\": 26912.1796875, \"shock\": 0}, {\"date\": \"2015-01-08T00:00:00\", \"reversepriceavg\": 27231.020182291668, \"shock\": 0}, {\"date\": \"2015-01-09T00:00:00\", \"reversepriceavg\": 27361.893880208332, \"shock\": 0}, {\"date\": \"2015-01-12T00:00:00\", \"reversepriceavg\": 27509.889973958332, \"shock\": 0}, {\"date\": \"2015-01-13T00:00:00\", \"reversepriceavg\": 27473.5, \"shock\": 0}, {\"date\": \"2015-01-14T00:00:00\", \"reversepriceavg\": 27354.290364583332, \"shock\": 0}, {\"date\": \"2015-01-15T00:00:00\", \"reversepriceavg\": 27991.286458333332, \"shock\": 0}, {\"date\": \"2015-01-16T00:00:00\", \"reversepriceavg\": 28081.100260416668, \"shock\": 0}, {\"date\": \"2015-01-19T00:00:00\", \"reversepriceavg\": 28264.4765625, \"shock\": 0}, {\"date\": \"2015-01-20T00:00:00\", \"reversepriceavg\": 28646.26953125, \"shock\": 0}, {\"date\": \"2015-01-21T00:00:00\", \"reversepriceavg\": 28879.843098958332, \"shock\": 0}, {\"date\": \"2015-01-22T00:00:00\", \"reversepriceavg\": 28986.220052083332, \"shock\": 0}, {\"date\": \"2015-01-23T00:00:00\", \"reversepriceavg\": 29284.376953125, \"shock\": 0}, {\"date\": \"2015-01-27T00:00:00\", \"reversepriceavg\": 29491.90625, \"shock\": 0}, {\"date\": \"2015-01-28T00:00:00\", \"reversepriceavg\": 29587.723307291668, \"shock\": 0}, {\"date\": \"2015-01-29T00:00:00\", \"reversepriceavg\": 29600.233723958332, \"shock\": 0}, {\"date\": \"2015-01-30T00:00:00\", \"reversepriceavg\": 29365.86328125, \"shock\": 0}, {\"date\": \"2015-02-02T00:00:00\", \"reversepriceavg\": 29116.306640625, \"shock\": 0}, {\"date\": \"2015-02-03T00:00:00\", \"reversepriceavg\": 29051.203776041668, \"shock\": 0}, {\"date\": \"2015-02-04T00:00:00\", \"reversepriceavg\": 28947.136067708332, \"shock\": 0}, {\"date\": \"2015-02-05T00:00:00\", \"reversepriceavg\": 28960.696614583332, \"shock\": 0}, {\"date\": \"2015-02-06T00:00:00\", \"reversepriceavg\": 28762.633463541668, \"shock\": 0}, {\"date\": \"2015-02-09T00:00:00\", \"reversepriceavg\": 28325.736979166668, \"shock\": 0}, {\"date\": \"2015-02-10T00:00:00\", \"reversepriceavg\": 28344.610026041668, \"shock\": 0}, {\"date\": \"2015-02-11T00:00:00\", \"reversepriceavg\": 28525.757161458332, \"shock\": 0}, {\"date\": \"2015-02-12T00:00:00\", \"reversepriceavg\": 28683.289713541668, \"shock\": 0}, {\"date\": \"2015-02-13T00:00:00\", \"reversepriceavg\": 29028.432942708332, \"shock\": 0}, {\"date\": \"2015-02-16T00:00:00\", \"reversepriceavg\": 29181.543619791668, \"shock\": 0}, {\"date\": \"2015-02-18T00:00:00\", \"reversepriceavg\": 29286.163411458332, \"shock\": 0}, {\"date\": \"2015-02-19T00:00:00\", \"reversepriceavg\": 29364.426432291668, \"shock\": 0}, {\"date\": \"2015-02-20T00:00:00\", \"reversepriceavg\": 29290.586588541668, \"shock\": 0}, {\"date\": \"2015-02-23T00:00:00\", \"reversepriceavg\": 29083.743489583332, \"shock\": 0}, {\"date\": \"2015-02-24T00:00:00\", \"reversepriceavg\": 29003.756510416668, \"shock\": 0}, {\"date\": \"2015-02-25T00:00:00\", \"reversepriceavg\": 29081.809895833332, \"shock\": 0}, {\"date\": \"2015-02-26T00:00:00\", \"reversepriceavg\": 28836.533854166668, \"shock\": 0}, {\"date\": \"2015-02-27T00:00:00\", \"reversepriceavg\": 29103.733072916668, \"shock\": 0}, {\"date\": \"2015-03-02T00:00:00\", \"reversepriceavg\": 29431.743489583332, \"shock\": 0}, {\"date\": \"2015-03-03T00:00:00\", \"reversepriceavg\": 29531.819661458332, \"shock\": 0}, {\"date\": \"2015-03-04T00:00:00\", \"reversepriceavg\": 29564.840494791668, \"shock\": 0}, {\"date\": \"2015-03-05T00:00:00\", \"reversepriceavg\": 29376.580078125, \"shock\": 0}, {\"date\": \"2015-03-09T00:00:00\", \"reversepriceavg\": 28988.533203125, \"shock\": 0}, {\"date\": \"2015-03-10T00:00:00\", \"reversepriceavg\": 28747.822916666668, \"shock\": 0}, {\"date\": \"2015-03-11T00:00:00\", \"reversepriceavg\": 28703.526692708332, \"shock\": 0}, {\"date\": \"2015-03-12T00:00:00\", \"reversepriceavg\": 28891.376953125, \"shock\": 0}, {\"date\": \"2015-03-13T00:00:00\", \"reversepriceavg\": 28711.847005208332, \"shock\": 0}, {\"date\": \"2015-03-16T00:00:00\", \"reversepriceavg\": 28467.873697916668, \"shock\": 0}, {\"date\": \"2015-03-17T00:00:00\", \"reversepriceavg\": 28652.059895833332, \"shock\": 0}, {\"date\": \"2015-03-18T00:00:00\", \"reversepriceavg\": 28658.616536458332, \"shock\": 0}, {\"date\": \"2015-03-19T00:00:00\", \"reversepriceavg\": 28620.036458333332, \"shock\": 0}, {\"date\": \"2015-03-20T00:00:00\", \"reversepriceavg\": 28318.366536458332, \"shock\": 0}, {\"date\": \"2015-03-23T00:00:00\", \"reversepriceavg\": 28247.020182291668, \"shock\": 0}, {\"date\": \"2015-03-24T00:00:00\", \"reversepriceavg\": 28249.043619791668, \"shock\": 0}, {\"date\": \"2015-03-25T00:00:00\", \"reversepriceavg\": 28130.949869791668, \"shock\": 0}, {\"date\": \"2015-03-26T00:00:00\", \"reversepriceavg\": 27613.196614583332, \"shock\": 0}, {\"date\": \"2015-03-27T00:00:00\", \"reversepriceavg\": 27467.166666666668, \"shock\": 0}, {\"date\": \"2015-03-30T00:00:00\", \"reversepriceavg\": 27872.86328125, \"shock\": 0}, {\"date\": \"2015-03-31T00:00:00\", \"reversepriceavg\": 28002.113932291668, \"shock\": 0}, {\"date\": \"2015-04-01T00:00:00\", \"reversepriceavg\": 28149.166666666668, \"shock\": 0}, {\"date\": \"2015-04-06T00:00:00\", \"reversepriceavg\": 28419.087239583332, \"shock\": 0}, {\"date\": \"2015-04-07T00:00:00\", \"reversepriceavg\": 28477.343098958332, \"shock\": 0}, {\"date\": \"2015-04-08T00:00:00\", \"reversepriceavg\": 28679.139973958332, \"shock\": 0}, {\"date\": \"2015-04-09T00:00:00\", \"reversepriceavg\": 28804.787109375, \"shock\": 0}, {\"date\": \"2015-04-10T00:00:00\", \"reversepriceavg\": 28847.98046875, \"shock\": 0}, {\"date\": \"2015-04-13T00:00:00\", \"reversepriceavg\": 28986.962890625, \"shock\": 0}, {\"date\": \"2015-04-15T00:00:00\", \"reversepriceavg\": 28871.9765625, \"shock\": 0}, {\"date\": \"2015-04-16T00:00:00\", \"reversepriceavg\": 28679.989583333332, \"shock\": 0}, {\"date\": \"2015-04-17T00:00:00\", \"reversepriceavg\": 28514.016276041668, \"shock\": 0}, {\"date\": \"2015-04-20T00:00:00\", \"reversepriceavg\": 28076.013671875, \"shock\": 0}, {\"date\": \"2015-04-21T00:00:00\", \"reversepriceavg\": 27750.393229166668, \"shock\": 0}, {\"date\": \"2015-04-22T00:00:00\", \"reversepriceavg\": 27740.95703125, \"shock\": 0}, {\"date\": \"2015-04-23T00:00:00\", \"reversepriceavg\": 27814.659505208332, \"shock\": 0}, {\"date\": \"2015-04-24T00:00:00\", \"reversepriceavg\": 27537.249348958332, \"shock\": 0}, {\"date\": \"2015-04-27T00:00:00\", \"reversepriceavg\": 27295.2734375, \"shock\": 0}, {\"date\": \"2015-04-28T00:00:00\", \"reversepriceavg\": 27317.257161458332, \"shock\": 0}, {\"date\": \"2015-04-29T00:00:00\", \"reversepriceavg\": 27280.4765625, \"shock\": 0}, {\"date\": \"2015-04-30T00:00:00\", \"reversepriceavg\": 27050.300130208332, \"shock\": 0}, {\"date\": \"2015-05-04T00:00:00\", \"reversepriceavg\": 27395.962890625, \"shock\": 0}, {\"date\": \"2015-05-05T00:00:00\", \"reversepriceavg\": 27460.694010416668, \"shock\": 0}, {\"date\": \"2015-05-06T00:00:00\", \"reversepriceavg\": 26965.38671875, \"shock\": 0}, {\"date\": \"2015-05-07T00:00:00\", \"reversepriceavg\": 26624.489583333332, \"shock\": 0}, {\"date\": \"2015-05-08T00:00:00\", \"reversepriceavg\": 27038.68359375, \"shock\": 0}, {\"date\": \"2015-05-11T00:00:00\", \"reversepriceavg\": 27427.606770833332, \"shock\": 0}, {\"date\": \"2015-05-12T00:00:00\", \"reversepriceavg\": 27072.59375, \"shock\": 0}, {\"date\": \"2015-05-13T00:00:00\", \"reversepriceavg\": 27100.303385416668, \"shock\": 0}, {\"date\": \"2015-05-14T00:00:00\", \"reversepriceavg\": 27149.556640625, \"shock\": 0}, {\"date\": \"2015-05-15T00:00:00\", \"reversepriceavg\": 27287.776692708332, \"shock\": 0}, {\"date\": \"2015-05-18T00:00:00\", \"reversepriceavg\": 27594.516927083332, \"shock\": 0}, {\"date\": \"2015-05-19T00:00:00\", \"reversepriceavg\": 27697.276692708332, \"shock\": 0}, {\"date\": \"2015-05-20T00:00:00\", \"reversepriceavg\": 27828.0703125, \"shock\": 0}, {\"date\": \"2015-05-21T00:00:00\", \"reversepriceavg\": 27811.173177083332, \"shock\": 0}, {\"date\": \"2015-05-22T00:00:00\", \"reversepriceavg\": 27952.423177083332, \"shock\": 0}, {\"date\": \"2015-05-25T00:00:00\", \"reversepriceavg\": 27720.496744791668, \"shock\": 0}, {\"date\": \"2015-05-26T00:00:00\", \"reversepriceavg\": 27560.296223958332, \"shock\": 0}, {\"date\": \"2015-05-27T00:00:00\", \"reversepriceavg\": 27508.060546875, \"shock\": 0}, {\"date\": \"2015-05-28T00:00:00\", \"reversepriceavg\": 27509.143229166668, \"shock\": 0}, {\"date\": \"2015-05-29T00:00:00\", \"reversepriceavg\": 27727.996744791668, \"shock\": 0}, {\"date\": \"2015-06-01T00:00:00\", \"reversepriceavg\": 27848.666666666668, \"shock\": 0}, {\"date\": \"2015-06-02T00:00:00\", \"reversepriceavg\": 27412.529947916668, \"shock\": 0}, {\"date\": \"2015-06-03T00:00:00\", \"reversepriceavg\": 26937.2265625, \"shock\": 0}, {\"date\": \"2015-06-04T00:00:00\", \"reversepriceavg\": 26771.41015625, \"shock\": 0}, {\"date\": \"2015-06-05T00:00:00\", \"reversepriceavg\": 26833.783203125, \"shock\": 0}, {\"date\": \"2015-06-08T00:00:00\", \"reversepriceavg\": 26607.673177083332, \"shock\": 0}, {\"date\": \"2015-06-09T00:00:00\", \"reversepriceavg\": 26508.073567708332, \"shock\": 0}, {\"date\": \"2015-06-10T00:00:00\", \"reversepriceavg\": 26756.176432291668, \"shock\": 0}, {\"date\": \"2015-06-11T00:00:00\", \"reversepriceavg\": 26573.350260416668, \"shock\": 0}, {\"date\": \"2015-06-12T00:00:00\", \"reversepriceavg\": 26407.317057291668, \"shock\": 0}, {\"date\": \"2015-06-15T00:00:00\", \"reversepriceavg\": 26540.996744791668, \"shock\": 0}, {\"date\": \"2015-06-16T00:00:00\", \"reversepriceavg\": 26599.263020833332, \"shock\": 0}, {\"date\": \"2015-06-17T00:00:00\", \"reversepriceavg\": 26848.34375, \"shock\": 0}, {\"date\": \"2015-06-18T00:00:00\", \"reversepriceavg\": 27067.16015625, \"shock\": 0}, {\"date\": \"2015-06-19T00:00:00\", \"reversepriceavg\": 27307.716796875, \"shock\": 0}, {\"date\": \"2015-06-22T00:00:00\", \"reversepriceavg\": 27643.18359375, \"shock\": 0}, {\"date\": \"2015-06-23T00:00:00\", \"reversepriceavg\": 27784.539713541668, \"shock\": 0}, {\"date\": \"2015-06-24T00:00:00\", \"reversepriceavg\": 27775.06640625, \"shock\": 0}, {\"date\": \"2015-06-25T00:00:00\", \"reversepriceavg\": 27833.493489583332, \"shock\": 0}, {\"date\": \"2015-06-26T00:00:00\", \"reversepriceavg\": 27802.953125, \"shock\": 0}, {\"date\": \"2015-06-29T00:00:00\", \"reversepriceavg\": 27516.553385416668, \"shock\": 0}, {\"date\": \"2015-06-30T00:00:00\", \"reversepriceavg\": 27722.102864583332, \"shock\": 0}, {\"date\": \"2015-07-01T00:00:00\", \"reversepriceavg\": 27973.343098958332, \"shock\": 0}, {\"date\": \"2015-07-02T00:00:00\", \"reversepriceavg\": 27989.370442708332, \"shock\": 0}, {\"date\": \"2015-07-03T00:00:00\", \"reversepriceavg\": 28041.889322916668, \"shock\": 0}, {\"date\": \"2015-07-06T00:00:00\", \"reversepriceavg\": 28072.95703125, \"shock\": 0}, {\"date\": \"2015-07-07T00:00:00\", \"reversepriceavg\": 28197.093098958332, \"shock\": 0}, {\"date\": \"2015-07-08T00:00:00\", \"reversepriceavg\": 27784.963541666668, \"shock\": 0}, {\"date\": \"2015-07-09T00:00:00\", \"reversepriceavg\": 27637.463541666668, \"shock\": 0}, {\"date\": \"2015-07-10T00:00:00\", \"reversepriceavg\": 27640.587239583332, \"shock\": 0}, {\"date\": \"2015-07-13T00:00:00\", \"reversepriceavg\": 27867.139973958332, \"shock\": 0}, {\"date\": \"2015-07-14T00:00:00\", \"reversepriceavg\": 27935.150390625, \"shock\": 0}, {\"date\": \"2015-07-15T00:00:00\", \"reversepriceavg\": 28134.379557291668, \"shock\": 0}, {\"date\": \"2015-07-16T00:00:00\", \"reversepriceavg\": 28390.119791666668, \"shock\": 0}, {\"date\": \"2015-07-17T00:00:00\", \"reversepriceavg\": 28485.697265625, \"shock\": 0}, {\"date\": \"2015-07-20T00:00:00\", \"reversepriceavg\": 28429.693359375, \"shock\": 0}, {\"date\": \"2015-07-21T00:00:00\", \"reversepriceavg\": 28279.500651041668, \"shock\": 0}, {\"date\": \"2015-07-22T00:00:00\", \"reversepriceavg\": 28374.086588541668, \"shock\": 0}, {\"date\": \"2015-07-23T00:00:00\", \"reversepriceavg\": 28421.513020833332, \"shock\": 0}, {\"date\": \"2015-07-24T00:00:00\", \"reversepriceavg\": 28199.5703125, \"shock\": 0}, {\"date\": \"2015-07-27T00:00:00\", \"reversepriceavg\": 27736.200520833332, \"shock\": 0}, {\"date\": \"2015-07-28T00:00:00\", \"reversepriceavg\": 27517.423828125, \"shock\": 0}, {\"date\": \"2015-07-29T00:00:00\", \"reversepriceavg\": 27547.602864583332, \"shock\": 0}, {\"date\": \"2015-07-30T00:00:00\", \"reversepriceavg\": 27736.59375, \"shock\": 0}, {\"date\": \"2015-07-31T00:00:00\", \"reversepriceavg\": 28030.080078125, \"shock\": 0}, {\"date\": \"2015-08-03T00:00:00\", \"reversepriceavg\": 28173.926432291668, \"shock\": 0}, {\"date\": \"2015-08-04T00:00:00\", \"reversepriceavg\": 28067.58984375, \"shock\": 0}, {\"date\": \"2015-08-05T00:00:00\", \"reversepriceavg\": 28224.823567708332, \"shock\": 0}, {\"date\": \"2015-08-06T00:00:00\", \"reversepriceavg\": 28273.927083333332, \"shock\": 0}, {\"date\": \"2015-08-07T00:00:00\", \"reversepriceavg\": 28255.330078125, \"shock\": 0}, {\"date\": \"2015-08-10T00:00:00\", \"reversepriceavg\": 28179.053385416668, \"shock\": 0}, {\"date\": \"2015-08-11T00:00:00\", \"reversepriceavg\": 27965.6796875, \"shock\": 0}, {\"date\": \"2015-08-12T00:00:00\", \"reversepriceavg\": 27625.006510416668, \"shock\": 0}, {\"date\": \"2015-08-13T00:00:00\", \"reversepriceavg\": 27612.305989583332, \"shock\": 0}, {\"date\": \"2015-08-14T00:00:00\", \"reversepriceavg\": 27937.050130208332, \"shock\": 0}, {\"date\": \"2015-08-17T00:00:00\", \"reversepriceavg\": 27904.45703125, \"shock\": 0}, {\"date\": \"2015-08-18T00:00:00\", \"reversepriceavg\": 27873.223307291668, \"shock\": 0}, {\"date\": \"2015-08-19T00:00:00\", \"reversepriceavg\": 27891.427083333332, \"shock\": 0}, {\"date\": \"2015-08-20T00:00:00\", \"reversepriceavg\": 27712.193359375, \"shock\": 0}, {\"date\": \"2015-08-21T00:00:00\", \"reversepriceavg\": 27313.443359375, \"shock\": 1}, {\"date\": \"2015-08-24T00:00:00\", \"reversepriceavg\": 26032.227213541668, \"shock\": 0}, {\"date\": \"2015-08-25T00:00:00\", \"reversepriceavg\": 25818.543619791668, \"shock\": 0}, {\"date\": \"2015-08-26T00:00:00\", \"reversepriceavg\": 25842.943359375, \"shock\": 0}, {\"date\": \"2015-08-27T00:00:00\", \"reversepriceavg\": 26159.236328125, \"shock\": 0}, {\"date\": \"2015-08-28T00:00:00\", \"reversepriceavg\": 26449.960286458332, \"shock\": 0}, {\"date\": \"2015-08-31T00:00:00\", \"reversepriceavg\": 26334.326822916668, \"shock\": 1}, {\"date\": \"2015-09-01T00:00:00\", \"reversepriceavg\": 25805.796875, \"shock\": 0}, {\"date\": \"2015-09-02T00:00:00\", \"reversepriceavg\": 25596.006510416668, \"shock\": 0}, {\"date\": \"2015-09-03T00:00:00\", \"reversepriceavg\": 25718.652994791668, \"shock\": 0}, {\"date\": \"2015-09-04T00:00:00\", \"reversepriceavg\": 25365.447265625, \"shock\": 0}, {\"date\": \"2015-09-07T00:00:00\", \"reversepriceavg\": 25044.300130208332, \"shock\": 0}, {\"date\": \"2015-09-08T00:00:00\", \"reversepriceavg\": 25187.469401041668, \"shock\": 0}, {\"date\": \"2015-09-09T00:00:00\", \"reversepriceavg\": 25697.916666666668, \"shock\": 0}, {\"date\": \"2015-09-10T00:00:00\", \"reversepriceavg\": 25547.789713541668, \"shock\": 0}, {\"date\": \"2015-09-11T00:00:00\", \"reversepriceavg\": 25672.194010416668, \"shock\": 0}, {\"date\": \"2015-09-14T00:00:00\", \"reversepriceavg\": 25759.833333333332, \"shock\": 0}, {\"date\": \"2015-09-15T00:00:00\", \"reversepriceavg\": 25755.04296875, \"shock\": 0}, {\"date\": \"2015-09-16T00:00:00\", \"reversepriceavg\": 25929.073567708332, \"shock\": 0}, {\"date\": \"2015-09-18T00:00:00\", \"reversepriceavg\": 26273.696614583332, \"shock\": 0}, {\"date\": \"2015-09-21T00:00:00\", \"reversepriceavg\": 26132.993489583332, \"shock\": 0}, {\"date\": \"2015-09-22T00:00:00\", \"reversepriceavg\": 25854.093098958332, \"shock\": 0}, {\"date\": \"2015-09-23T00:00:00\", \"reversepriceavg\": 25714.496744791668, \"shock\": 0}, {\"date\": \"2015-09-24T00:00:00\", \"reversepriceavg\": 25828.120442708332, \"shock\": 0}, {\"date\": \"2015-09-28T00:00:00\", \"reversepriceavg\": 25715.763671875, \"shock\": 0}, {\"date\": \"2015-09-29T00:00:00\", \"reversepriceavg\": 25706.786458333332, \"shock\": 0}, {\"date\": \"2015-09-30T00:00:00\", \"reversepriceavg\": 26084.246744791668, \"shock\": 0}, {\"date\": \"2015-10-01T00:00:00\", \"reversepriceavg\": 26273.8203125, \"shock\": 0}, {\"date\": \"2015-10-05T00:00:00\", \"reversepriceavg\": 26661.09375, \"shock\": 0}, {\"date\": \"2015-10-06T00:00:00\", \"reversepriceavg\": 26898.133463541668, \"shock\": 0}, {\"date\": \"2015-10-07T00:00:00\", \"reversepriceavg\": 26998.546223958332, \"shock\": 0}, {\"date\": \"2015-10-08T00:00:00\", \"reversepriceavg\": 26909.426432291668, \"shock\": 0}, {\"date\": \"2015-10-09T00:00:00\", \"reversepriceavg\": 27063.513020833332, \"shock\": 0}, {\"date\": \"2015-10-12T00:00:00\", \"reversepriceavg\": 27021.6328125, \"shock\": 0}, {\"date\": \"2015-10-13T00:00:00\", \"reversepriceavg\": 26828.049479166668, \"shock\": 0}, {\"date\": \"2015-10-14T00:00:00\", \"reversepriceavg\": 26787.33984375, \"shock\": 0}, {\"date\": \"2015-10-15T00:00:00\", \"reversepriceavg\": 26961.619791666668, \"shock\": 0}, {\"date\": \"2015-10-16T00:00:00\", \"reversepriceavg\": 27123.646484375, \"shock\": 0}, {\"date\": \"2015-10-19T00:00:00\", \"reversepriceavg\": 27333.206380208332, \"shock\": 0}, {\"date\": \"2015-10-20T00:00:00\", \"reversepriceavg\": 27318.43359375, \"shock\": 0}, {\"date\": \"2015-10-21T00:00:00\", \"reversepriceavg\": 27307.817057291668, \"shock\": 0}, {\"date\": \"2015-10-23T00:00:00\", \"reversepriceavg\": 27482.52734375, \"shock\": 0}, {\"date\": \"2015-10-26T00:00:00\", \"reversepriceavg\": 27432.766927083332, \"shock\": 0}, {\"date\": \"2015-10-27T00:00:00\", \"reversepriceavg\": 27253.086588541668, \"shock\": 0}, {\"date\": \"2015-10-28T00:00:00\", \"reversepriceavg\": 27041.233723958332, \"shock\": 0}, {\"date\": \"2015-10-29T00:00:00\", \"reversepriceavg\": 26910.449869791668, \"shock\": 0}, {\"date\": \"2015-10-30T00:00:00\", \"reversepriceavg\": 26728.106119791668, \"shock\": 0}, {\"date\": \"2015-11-02T00:00:00\", \"reversepriceavg\": 26587.236979166668, \"shock\": 0}, {\"date\": \"2015-11-03T00:00:00\", \"reversepriceavg\": 26612.436848958332, \"shock\": 0}, {\"date\": \"2015-11-04T00:00:00\", \"reversepriceavg\": 26621.097005208332, \"shock\": 0}, {\"date\": \"2015-11-05T00:00:00\", \"reversepriceavg\": 26368.399739583332, \"shock\": 0}, {\"date\": \"2015-11-06T00:00:00\", \"reversepriceavg\": 26298.093098958332, \"shock\": 0}, {\"date\": \"2015-11-09T00:00:00\", \"reversepriceavg\": 25990.490234375, \"shock\": 0}, {\"date\": \"2015-11-10T00:00:00\", \"reversepriceavg\": 25848.860026041668, \"shock\": 0}, {\"date\": \"2015-11-13T00:00:00\", \"reversepriceavg\": 25625.116536458332, \"shock\": 0}, {\"date\": \"2015-11-16T00:00:00\", \"reversepriceavg\": 25692.646484375, \"shock\": 0}, {\"date\": \"2015-11-17T00:00:00\", \"reversepriceavg\": 25848.486328125, \"shock\": 0}, {\"date\": \"2015-11-18T00:00:00\", \"reversepriceavg\": 25608.733072916668, \"shock\": 0}, {\"date\": \"2015-11-19T00:00:00\", \"reversepriceavg\": 25776.513020833332, \"shock\": 0}, {\"date\": \"2015-11-20T00:00:00\", \"reversepriceavg\": 25899.020182291668, \"shock\": 0}, {\"date\": \"2015-11-23T00:00:00\", \"reversepriceavg\": 25841.462890625, \"shock\": 0}, {\"date\": \"2015-11-24T00:00:00\", \"reversepriceavg\": 25793.720052083332, \"shock\": 0}, {\"date\": \"2015-11-26T00:00:00\", \"reversepriceavg\": 25914.826822916668, \"shock\": 0}, {\"date\": \"2015-11-27T00:00:00\", \"reversepriceavg\": 26083.389973958332, \"shock\": 0}, {\"date\": \"2015-11-30T00:00:00\", \"reversepriceavg\": 26155.287109375, \"shock\": 0}, {\"date\": \"2015-12-01T00:00:00\", \"reversepriceavg\": 26178.983072916668, \"shock\": 0}, {\"date\": \"2015-12-02T00:00:00\", \"reversepriceavg\": 26138.649739583332, \"shock\": 0}, {\"date\": \"2015-12-03T00:00:00\", \"reversepriceavg\": 25955.942708333332, \"shock\": 0}, {\"date\": \"2015-12-04T00:00:00\", \"reversepriceavg\": 25690.626953125, \"shock\": 0}, {\"date\": \"2015-12-07T00:00:00\", \"reversepriceavg\": 25597.776041666668, \"shock\": 0}, {\"date\": \"2015-12-08T00:00:00\", \"reversepriceavg\": 25369.86328125, \"shock\": 0}, {\"date\": \"2015-12-09T00:00:00\", \"reversepriceavg\": 25121.740234375, \"shock\": 0}, {\"date\": \"2015-12-10T00:00:00\", \"reversepriceavg\": 25192.013671875, \"shock\": 0}, {\"date\": \"2015-12-11T00:00:00\", \"reversepriceavg\": 25097.0, \"shock\": 0}, {\"date\": \"2015-12-14T00:00:00\", \"reversepriceavg\": 25070.743489583332, \"shock\": 0}, {\"date\": \"2015-12-15T00:00:00\", \"reversepriceavg\": 25246.252604166668, \"shock\": 0}, {\"date\": \"2015-12-16T00:00:00\", \"reversepriceavg\": 25479.913411458332, \"shock\": 0}, {\"date\": \"2015-12-17T00:00:00\", \"reversepriceavg\": 25694.470052083332, \"shock\": 0}, {\"date\": \"2015-12-18T00:00:00\", \"reversepriceavg\": 25596.746744791668, \"shock\": 0}, {\"date\": \"2015-12-21T00:00:00\", \"reversepriceavg\": 25635.759765625, \"shock\": 0}, {\"date\": \"2015-12-22T00:00:00\", \"reversepriceavg\": 25621.010416666668, \"shock\": 0}, {\"date\": \"2015-12-23T00:00:00\", \"reversepriceavg\": 25805.08984375, \"shock\": 0}, {\"date\": \"2015-12-24T00:00:00\", \"reversepriceavg\": 25841.52734375, \"shock\": 0}, {\"date\": \"2015-12-28T00:00:00\", \"reversepriceavg\": 25988.133463541668, \"shock\": 0}, {\"date\": \"2015-12-29T00:00:00\", \"reversepriceavg\": 26069.236328125, \"shock\": 0}, {\"date\": \"2015-12-30T00:00:00\", \"reversepriceavg\": 26009.826171875, \"shock\": 0}, {\"date\": \"2015-12-31T00:00:00\", \"reversepriceavg\": 26069.026692708332, \"shock\": 0}, {\"date\": \"2016-01-04T00:00:00\", \"reversepriceavg\": 25778.813151041668, \"shock\": 0}, {\"date\": \"2016-01-05T00:00:00\", \"reversepriceavg\": 25620.283203125, \"shock\": 0}, {\"date\": \"2016-01-06T00:00:00\", \"reversepriceavg\": 25465.533203125, \"shock\": 0}, {\"date\": \"2016-01-07T00:00:00\", \"reversepriceavg\": 24969.29296875, \"shock\": 0}, {\"date\": \"2016-01-08T00:00:00\", \"reversepriceavg\": 24968.3671875, \"shock\": 0}, {\"date\": \"2016-01-11T00:00:00\", \"reversepriceavg\": 24795.2734375, \"shock\": 0}, {\"date\": \"2016-01-12T00:00:00\", \"reversepriceavg\": 24720.479817708332, \"shock\": 0}, {\"date\": \"2016-01-13T00:00:00\", \"reversepriceavg\": 24732.779296875, \"shock\": 0}, {\"date\": \"2016-01-14T00:00:00\", \"reversepriceavg\": 24754.884114583332, \"shock\": 0}, {\"date\": \"2016-01-15T00:00:00\", \"reversepriceavg\": 24596.402994791668, \"shock\": 0}, {\"date\": \"2016-01-18T00:00:00\", \"reversepriceavg\": 24285.069661458332, \"shock\": 0}, {\"date\": \"2016-01-19T00:00:00\", \"reversepriceavg\": 24430.13671875, \"shock\": 0}, {\"date\": \"2016-01-20T00:00:00\", \"reversepriceavg\": 24075.856119791668, \"shock\": 0}, {\"date\": \"2016-01-21T00:00:00\", \"reversepriceavg\": 24058.680338541668, \"shock\": 0}, {\"date\": \"2016-01-22T00:00:00\", \"reversepriceavg\": 24342.860026041668, \"shock\": 0}, {\"date\": \"2016-01-25T00:00:00\", \"reversepriceavg\": 24523.396484375, \"shock\": 0}, {\"date\": \"2016-01-27T00:00:00\", \"reversepriceavg\": 24532.073567708332, \"shock\": 0}, {\"date\": \"2016-01-28T00:00:00\", \"reversepriceavg\": 24485.763020833332, \"shock\": 0}, {\"date\": \"2016-01-29T00:00:00\", \"reversepriceavg\": 24707.550130208332, \"shock\": 0}, {\"date\": \"2016-02-01T00:00:00\", \"reversepriceavg\": 24871.91015625, \"shock\": 0}, {\"date\": \"2016-02-02T00:00:00\", \"reversepriceavg\": 24642.759765625, \"shock\": 0}, {\"date\": \"2016-02-03T00:00:00\", \"reversepriceavg\": 24273.373046875, \"shock\": 0}, {\"date\": \"2016-02-04T00:00:00\", \"reversepriceavg\": 24359.059895833332, \"shock\": 0}, {\"date\": \"2016-02-05T00:00:00\", \"reversepriceavg\": 24545.220052083332, \"shock\": 0}, {\"date\": \"2016-02-08T00:00:00\", \"reversepriceavg\": 24394.402994791668, \"shock\": 0}, {\"date\": \"2016-02-09T00:00:00\", \"reversepriceavg\": 24017.213541666668, \"shock\": 0}, {\"date\": \"2016-02-10T00:00:00\", \"reversepriceavg\": 23777.98046875, \"shock\": 1}, {\"date\": \"2016-02-11T00:00:00\", \"reversepriceavg\": 23206.470052083332, \"shock\": 0}, {\"date\": \"2016-02-12T00:00:00\", \"reversepriceavg\": 22915.88671875, \"shock\": 0}, {\"date\": \"2016-02-15T00:00:00\", \"reversepriceavg\": 23458.143229166668, \"shock\": 0}, {\"date\": \"2016-02-16T00:00:00\", \"reversepriceavg\": 23349.529947916668, \"shock\": 0}, {\"date\": \"2016-02-17T00:00:00\", \"reversepriceavg\": 23245.873046875, \"shock\": 0}, {\"date\": \"2016-02-18T00:00:00\", \"reversepriceavg\": 23610.927083333332, \"shock\": 0}, {\"date\": \"2016-02-19T00:00:00\", \"reversepriceavg\": 23663.996744791668, \"shock\": 0}, {\"date\": \"2016-02-22T00:00:00\", \"reversepriceavg\": 23772.895833333332, \"shock\": 0}, {\"date\": \"2016-02-23T00:00:00\", \"reversepriceavg\": 23541.209635416668, \"shock\": 0}, {\"date\": \"2016-02-24T00:00:00\", \"reversepriceavg\": 23161.756510416668, \"shock\": 0}, {\"date\": \"2016-02-25T00:00:00\", \"reversepriceavg\": 23022.353515625, \"shock\": 0}, {\"date\": \"2016-02-26T00:00:00\", \"reversepriceavg\": 23134.716796875, \"shock\": 0}, {\"date\": \"2016-02-29T00:00:00\", \"reversepriceavg\": 22946.610026041668, \"shock\": 0}, {\"date\": \"2016-03-01T00:00:00\", \"reversepriceavg\": 23578.006510416668, \"shock\": 0}, {\"date\": \"2016-03-02T00:00:00\", \"reversepriceavg\": 24189.097005208332, \"shock\": 0}, {\"date\": \"2016-03-03T00:00:00\", \"reversepriceavg\": 24543.593098958332, \"shock\": 0}, {\"date\": \"2016-03-04T00:00:00\", \"reversepriceavg\": 24632.444010416668, \"shock\": 0}, {\"date\": \"2016-03-08T00:00:00\", \"reversepriceavg\": 24654.020182291668, \"shock\": 0}, {\"date\": \"2016-03-09T00:00:00\", \"reversepriceavg\": 24688.7734375, \"shock\": 0}, {\"date\": \"2016-03-10T00:00:00\", \"reversepriceavg\": 24637.403645833332, \"shock\": 0}, {\"date\": \"2016-03-11T00:00:00\", \"reversepriceavg\": 24696.016927083332, \"shock\": 0}, {\"date\": \"2016-03-14T00:00:00\", \"reversepriceavg\": 24832.942708333332, \"shock\": 0}, {\"date\": \"2016-03-15T00:00:00\", \"reversepriceavg\": 24636.40625, \"shock\": 0}, {\"date\": \"2016-03-16T00:00:00\", \"reversepriceavg\": 24581.293619791668, \"shock\": 0}, {\"date\": \"2016-03-17T00:00:00\", \"reversepriceavg\": 24734.063151041668, \"shock\": 0}, {\"date\": \"2016-03-18T00:00:00\", \"reversepriceavg\": 24873.7734375, \"shock\": 0}, {\"date\": \"2016-03-21T00:00:00\", \"reversepriceavg\": 25200.362630208332, \"shock\": 0}, {\"date\": \"2016-03-22T00:00:00\", \"reversepriceavg\": 25265.173177083332, \"shock\": 0}, {\"date\": \"2016-03-23T00:00:00\", \"reversepriceavg\": 25287.397135416668, \"shock\": 0}, {\"date\": \"2016-03-28T00:00:00\", \"reversepriceavg\": 25098.276692708332, \"shock\": 0}, {\"date\": \"2016-03-29T00:00:00\", \"reversepriceavg\": 24938.45703125, \"shock\": 0}, {\"date\": \"2016-03-30T00:00:00\", \"reversepriceavg\": 25250.946614583332, \"shock\": 0}, {\"date\": \"2016-03-31T00:00:00\", \"reversepriceavg\": 25348.233072916668, \"shock\": 0}, {\"date\": \"2016-04-01T00:00:00\", \"reversepriceavg\": 25247.9765625, \"shock\": 0}, {\"date\": \"2016-04-04T00:00:00\", \"reversepriceavg\": 25349.097005208332, \"shock\": 0}, {\"date\": \"2016-04-05T00:00:00\", \"reversepriceavg\": 25031.1796875, \"shock\": 0}, {\"date\": \"2016-04-06T00:00:00\", \"reversepriceavg\": 24911.813802083332, \"shock\": 0}, {\"date\": \"2016-04-07T00:00:00\", \"reversepriceavg\": 24782.010416666668, \"shock\": 0}, {\"date\": \"2016-04-08T00:00:00\", \"reversepriceavg\": 24672.79296875, \"shock\": 0}, {\"date\": \"2016-04-11T00:00:00\", \"reversepriceavg\": 24865.093098958332, \"shock\": 0}, {\"date\": \"2016-04-12T00:00:00\", \"reversepriceavg\": 25107.349609375, \"shock\": 0}, {\"date\": \"2016-04-13T00:00:00\", \"reversepriceavg\": 25552.223307291668, \"shock\": 0}, {\"date\": \"2016-04-18T00:00:00\", \"reversepriceavg\": 25773.502604166668, \"shock\": 0}, {\"date\": \"2016-04-20T00:00:00\", \"reversepriceavg\": 25839.110026041668, \"shock\": 0}, {\"date\": \"2016-04-21T00:00:00\", \"reversepriceavg\": 25914.5234375, \"shock\": 0}, {\"date\": \"2016-04-22T00:00:00\", \"reversepriceavg\": 25844.013671875, \"shock\": 0}, {\"date\": \"2016-04-25T00:00:00\", \"reversepriceavg\": 25718.629557291668, \"shock\": 0}, {\"date\": \"2016-04-26T00:00:00\", \"reversepriceavg\": 25870.450520833332, \"shock\": 0}, {\"date\": \"2016-04-27T00:00:00\", \"reversepriceavg\": 26014.096354166668, \"shock\": 0}, {\"date\": \"2016-04-28T00:00:00\", \"reversepriceavg\": 25754.936197916668, \"shock\": 0}, {\"date\": \"2016-04-29T00:00:00\", \"reversepriceavg\": 25595.359375, \"shock\": 0}, {\"date\": \"2016-05-02T00:00:00\", \"reversepriceavg\": 25447.850260416668, \"shock\": 0}, {\"date\": \"2016-05-03T00:00:00\", \"reversepriceavg\": 25376.199869791668, \"shock\": 0}, {\"date\": \"2016-05-04T00:00:00\", \"reversepriceavg\": 25136.15625, \"shock\": 0}, {\"date\": \"2016-05-05T00:00:00\", \"reversepriceavg\": 25273.083333333332, \"shock\": 0}, {\"date\": \"2016-05-06T00:00:00\", \"reversepriceavg\": 25182.303385416668, \"shock\": 0}, {\"date\": \"2016-05-09T00:00:00\", \"reversepriceavg\": 25567.1328125, \"shock\": 0}, {\"date\": \"2016-05-10T00:00:00\", \"reversepriceavg\": 25732.233072916668, \"shock\": 0}, {\"date\": \"2016-05-11T00:00:00\", \"reversepriceavg\": 25589.583333333332, \"shock\": 0}, {\"date\": \"2016-05-12T00:00:00\", \"reversepriceavg\": 25745.83984375, \"shock\": 0}, {\"date\": \"2016-05-13T00:00:00\", \"reversepriceavg\": 25544.509765625, \"shock\": 0}, {\"date\": \"2016-05-16T00:00:00\", \"reversepriceavg\": 25564.436848958332, \"shock\": 0}, {\"date\": \"2016-05-17T00:00:00\", \"reversepriceavg\": 25811.559895833332, \"shock\": 0}, {\"date\": \"2016-05-18T00:00:00\", \"reversepriceavg\": 25651.669921875, \"shock\": 0}, {\"date\": \"2016-05-19T00:00:00\", \"reversepriceavg\": 25488.757161458332, \"shock\": 0}, {\"date\": \"2016-05-20T00:00:00\", \"reversepriceavg\": 25353.287109375, \"shock\": 0}, {\"date\": \"2016-05-23T00:00:00\", \"reversepriceavg\": 25319.1328125, \"shock\": 0}, {\"date\": \"2016-05-24T00:00:00\", \"reversepriceavg\": 25275.804036458332, \"shock\": 0}, {\"date\": \"2016-05-25T00:00:00\", \"reversepriceavg\": 25736.54296875, \"shock\": 0}, {\"date\": \"2016-05-26T00:00:00\", \"reversepriceavg\": 26235.709635416668, \"shock\": 0}, {\"date\": \"2016-05-27T00:00:00\", \"reversepriceavg\": 26578.76953125, \"shock\": 0}, {\"date\": \"2016-05-30T00:00:00\", \"reversepriceavg\": 26714.630208333332, \"shock\": 0}, {\"date\": \"2016-05-31T00:00:00\", \"reversepriceavg\": 26688.913411458332, \"shock\": 0}, {\"date\": \"2016-06-01T00:00:00\", \"reversepriceavg\": 26747.6796875, \"shock\": 0}, {\"date\": \"2016-06-02T00:00:00\", \"reversepriceavg\": 26789.7734375, \"shock\": 0}, {\"date\": \"2016-06-03T00:00:00\", \"reversepriceavg\": 26881.080078125, \"shock\": 0}, {\"date\": \"2016-06-06T00:00:00\", \"reversepriceavg\": 26802.802734375, \"shock\": 0}, {\"date\": \"2016-06-07T00:00:00\", \"reversepriceavg\": 26973.943359375, \"shock\": 0}, {\"date\": \"2016-06-08T00:00:00\", \"reversepriceavg\": 27033.260416666668, \"shock\": 0}, {\"date\": \"2016-06-09T00:00:00\", \"reversepriceavg\": 26816.906901041668, \"shock\": 0}, {\"date\": \"2016-06-10T00:00:00\", \"reversepriceavg\": 26742.770182291668, \"shock\": 0}, {\"date\": \"2016-06-13T00:00:00\", \"reversepriceavg\": 26375.76953125, \"shock\": 0}, {\"date\": \"2016-06-14T00:00:00\", \"reversepriceavg\": 26381.990234375, \"shock\": 0}, {\"date\": \"2016-06-15T00:00:00\", \"reversepriceavg\": 26641.83984375, \"shock\": 0}, {\"date\": \"2016-06-16T00:00:00\", \"reversepriceavg\": 26508.800130208332, \"shock\": 0}, {\"date\": \"2016-06-17T00:00:00\", \"reversepriceavg\": 26631.656901041668, \"shock\": 0}, {\"date\": \"2016-06-20T00:00:00\", \"reversepriceavg\": 26733.430338541668, \"shock\": 0}, {\"date\": \"2016-06-21T00:00:00\", \"reversepriceavg\": 26831.006510416668, \"shock\": 0}, {\"date\": \"2016-06-22T00:00:00\", \"reversepriceavg\": 26756.796223958332, \"shock\": 0}, {\"date\": \"2016-06-23T00:00:00\", \"reversepriceavg\": 26933.240234375, \"shock\": 1}, {\"date\": \"2016-06-24T00:00:00\", \"reversepriceavg\": 26248.296875, \"shock\": 0}, {\"date\": \"2016-06-27T00:00:00\", \"reversepriceavg\": 26386.397135416668, \"shock\": 0}, {\"date\": \"2016-06-28T00:00:00\", \"reversepriceavg\": 26495.447265625, \"shock\": 0}, {\"date\": \"2016-06-29T00:00:00\", \"reversepriceavg\": 26707.623697916668, \"shock\": 0}, {\"date\": \"2016-06-30T00:00:00\", \"reversepriceavg\": 26980.513671875, \"shock\": 0}, {\"date\": \"2016-07-01T00:00:00\", \"reversepriceavg\": 27149.889973958332, \"shock\": 0}, {\"date\": \"2016-07-04T00:00:00\", \"reversepriceavg\": 27305.16015625, \"shock\": 0}, {\"date\": \"2016-07-05T00:00:00\", \"reversepriceavg\": 27214.276692708332, \"shock\": 0}, {\"date\": \"2016-07-07T00:00:00\", \"reversepriceavg\": 27212.220052083332, \"shock\": 0}, {\"date\": \"2016-07-08T00:00:00\", \"reversepriceavg\": 27151.953776041668, \"shock\": 0}, {\"date\": \"2016-07-11T00:00:00\", \"reversepriceavg\": 27544.133463541668, \"shock\": 0}, {\"date\": \"2016-07-12T00:00:00\", \"reversepriceavg\": 27768.23046875, \"shock\": 0}, {\"date\": \"2016-07-13T00:00:00\", \"reversepriceavg\": 27832.026692708332, \"shock\": 0}, {\"date\": \"2016-07-14T00:00:00\", \"reversepriceavg\": 27891.009765625, \"shock\": 0}, {\"date\": \"2016-07-15T00:00:00\", \"reversepriceavg\": 27873.689453125, \"shock\": 0}, {\"date\": \"2016-07-18T00:00:00\", \"reversepriceavg\": 27819.283203125, \"shock\": 0}, {\"date\": \"2016-07-19T00:00:00\", \"reversepriceavg\": 27750.763020833332, \"shock\": 0}, {\"date\": \"2016-07-20T00:00:00\", \"reversepriceavg\": 27870.260416666668, \"shock\": 0}, {\"date\": \"2016-07-21T00:00:00\", \"reversepriceavg\": 27795.606119791668, \"shock\": 0}, {\"date\": \"2016-07-22T00:00:00\", \"reversepriceavg\": 27760.633463541668, \"shock\": 0}, {\"date\": \"2016-07-25T00:00:00\", \"reversepriceavg\": 27980.739583333332, \"shock\": 0}, {\"date\": \"2016-07-26T00:00:00\", \"reversepriceavg\": 28017.7265625, \"shock\": 0}, {\"date\": \"2016-07-27T00:00:00\", \"reversepriceavg\": 28045.046875, \"shock\": 0}, {\"date\": \"2016-07-28T00:00:00\", \"reversepriceavg\": 28171.239583333332, \"shock\": 0}, {\"date\": \"2016-07-29T00:00:00\", \"reversepriceavg\": 28107.733072916668, \"shock\": 0}, {\"date\": \"2016-08-01T00:00:00\", \"reversepriceavg\": 28053.832682291668, \"shock\": 0}, {\"date\": \"2016-08-02T00:00:00\", \"reversepriceavg\": 28033.613932291668, \"shock\": 0}, {\"date\": \"2016-08-03T00:00:00\", \"reversepriceavg\": 27786.693359375, \"shock\": 0}, {\"date\": \"2016-08-04T00:00:00\", \"reversepriceavg\": 27754.75, \"shock\": 0}, {\"date\": \"2016-08-05T00:00:00\", \"reversepriceavg\": 27994.819661458332, \"shock\": 0}, {\"date\": \"2016-08-08T00:00:00\", \"reversepriceavg\": 28179.00390625, \"shock\": 0}, {\"date\": \"2016-08-09T00:00:00\", \"reversepriceavg\": 28110.630208333332, \"shock\": 0}, {\"date\": \"2016-08-10T00:00:00\", \"reversepriceavg\": 27884.926432291668, \"shock\": 0}, {\"date\": \"2016-08-11T00:00:00\", \"reversepriceavg\": 27819.7734375, \"shock\": 0}, {\"date\": \"2016-08-12T00:00:00\", \"reversepriceavg\": 28085.526692708332, \"shock\": 0}, {\"date\": \"2016-08-16T00:00:00\", \"reversepriceavg\": 28068.786458333332, \"shock\": 0}, {\"date\": \"2016-08-17T00:00:00\", \"reversepriceavg\": 28046.603515625, \"shock\": 0}, {\"date\": \"2016-08-18T00:00:00\", \"reversepriceavg\": 28138.203125, \"shock\": 0}, {\"date\": \"2016-08-19T00:00:00\", \"reversepriceavg\": 28105.139973958332, \"shock\": 0}, {\"date\": \"2016-08-22T00:00:00\", \"reversepriceavg\": 28015.623046875, \"shock\": 0}, {\"date\": \"2016-08-23T00:00:00\", \"reversepriceavg\": 27957.873697916668, \"shock\": 0}, {\"date\": \"2016-08-24T00:00:00\", \"reversepriceavg\": 28042.733072916668, \"shock\": 0}, {\"date\": \"2016-08-25T00:00:00\", \"reversepriceavg\": 27931.120442708332, \"shock\": 0}, {\"date\": \"2016-08-26T00:00:00\", \"reversepriceavg\": 27805.040364583332, \"shock\": 0}, {\"date\": \"2016-08-29T00:00:00\", \"reversepriceavg\": 27851.406901041668, \"shock\": 0}, {\"date\": \"2016-08-30T00:00:00\", \"reversepriceavg\": 28277.229817708332, \"shock\": 0}, {\"date\": \"2016-08-31T00:00:00\", \"reversepriceavg\": 28449.173177083332, \"shock\": 0}, {\"date\": \"2016-09-01T00:00:00\", \"reversepriceavg\": 28452.979817708332, \"shock\": 0}, {\"date\": \"2016-09-02T00:00:00\", \"reversepriceavg\": 28513.7734375, \"shock\": 0}, {\"date\": \"2016-09-06T00:00:00\", \"reversepriceavg\": 28874.229817708332, \"shock\": 0}, {\"date\": \"2016-09-07T00:00:00\", \"reversepriceavg\": 28968.503255208332, \"shock\": 0}, {\"date\": \"2016-09-08T00:00:00\", \"reversepriceavg\": 28992.373046875, \"shock\": 0}, {\"date\": \"2016-09-09T00:00:00\", \"reversepriceavg\": 28871.743489583332, \"shock\": 0}, {\"date\": \"2016-09-12T00:00:00\", \"reversepriceavg\": 28361.986328125, \"shock\": 0}, {\"date\": \"2016-09-14T00:00:00\", \"reversepriceavg\": 28349.340494791668, \"shock\": 0}, {\"date\": \"2016-09-15T00:00:00\", \"reversepriceavg\": 28392.673177083332, \"shock\": 0}, {\"date\": \"2016-09-16T00:00:00\", \"reversepriceavg\": 28624.086588541668, \"shock\": 0}, {\"date\": \"2016-09-19T00:00:00\", \"reversepriceavg\": 28633.940104166668, \"shock\": 0}, {\"date\": \"2016-09-20T00:00:00\", \"reversepriceavg\": 28567.513020833332, \"shock\": 0}, {\"date\": \"2016-09-21T00:00:00\", \"reversepriceavg\": 28553.036458333332, \"shock\": 0}, {\"date\": \"2016-09-22T00:00:00\", \"reversepriceavg\": 28779.373697916668, \"shock\": 0}, {\"date\": \"2016-09-23T00:00:00\", \"reversepriceavg\": 28706.897135416668, \"shock\": 0}, {\"date\": \"2016-09-26T00:00:00\", \"reversepriceavg\": 28399.076171875, \"shock\": 0}, {\"date\": \"2016-09-27T00:00:00\", \"reversepriceavg\": 28278.593098958332, \"shock\": 0}, {\"date\": \"2016-09-28T00:00:00\", \"reversepriceavg\": 28289.890625, \"shock\": 0}, {\"date\": \"2016-09-29T00:00:00\", \"reversepriceavg\": 28007.673177083332, \"shock\": 0}, {\"date\": \"2016-09-30T00:00:00\", \"reversepriceavg\": 27845.983723958332, \"shock\": 0}, {\"date\": \"2016-10-03T00:00:00\", \"reversepriceavg\": 28145.399739583332, \"shock\": 0}, {\"date\": \"2016-10-04T00:00:00\", \"reversepriceavg\": 28327.166666666668, \"shock\": 0}, {\"date\": \"2016-10-05T00:00:00\", \"reversepriceavg\": 28295.84375, \"shock\": 0}, {\"date\": \"2016-10-06T00:00:00\", \"reversepriceavg\": 28155.330729166668, \"shock\": 0}, {\"date\": \"2016-10-07T00:00:00\", \"reversepriceavg\": 28060.576822916668, \"shock\": 0}, {\"date\": \"2016-10-10T00:00:00\", \"reversepriceavg\": 28122.43359375, \"shock\": 0}, {\"date\": \"2016-10-13T00:00:00\", \"reversepriceavg\": 27749.856119791668, \"shock\": 0}, {\"date\": \"2016-10-14T00:00:00\", \"reversepriceavg\": 27661.772786458332, \"shock\": 0}, {\"date\": \"2016-10-17T00:00:00\", \"reversepriceavg\": 27607.160807291668, \"shock\": 0}, {\"date\": \"2016-10-18T00:00:00\", \"reversepriceavg\": 27922.677083333332, \"shock\": 0}, {\"date\": \"2016-10-19T00:00:00\", \"reversepriceavg\": 28013.869791666668, \"shock\": 0}, {\"date\": \"2016-10-20T00:00:00\", \"reversepriceavg\": 28124.63671875, \"shock\": 0}, {\"date\": \"2016-10-21T00:00:00\", \"reversepriceavg\": 28066.169921875, \"shock\": 0}, {\"date\": \"2016-10-24T00:00:00\", \"reversepriceavg\": 28170.559895833332, \"shock\": 0}, {\"date\": \"2016-10-25T00:00:00\", \"reversepriceavg\": 28105.506510416668, \"shock\": 0}, {\"date\": \"2016-10-26T00:00:00\", \"reversepriceavg\": 27882.20703125, \"shock\": 0}, {\"date\": \"2016-10-27T00:00:00\", \"reversepriceavg\": 27846.543619791668, \"shock\": 0}, {\"date\": \"2016-10-28T00:00:00\", \"reversepriceavg\": 27910.496744791668, \"shock\": 0}, {\"date\": \"2016-11-01T00:00:00\", \"reversepriceavg\": 27917.347005208332, \"shock\": 0}, {\"date\": \"2016-11-02T00:00:00\", \"reversepriceavg\": 27569.1171875, \"shock\": 0}, {\"date\": \"2016-11-03T00:00:00\", \"reversepriceavg\": 27476.759765625, \"shock\": 0}, {\"date\": \"2016-11-04T00:00:00\", \"reversepriceavg\": 27322.223307291668, \"shock\": 0}, {\"date\": \"2016-11-07T00:00:00\", \"reversepriceavg\": 27441.430338541668, \"shock\": 0}, {\"date\": \"2016-11-08T00:00:00\", \"reversepriceavg\": 27548.246744791668, \"shock\": 1}, {\"date\": \"2016-11-09T00:00:00\", \"reversepriceavg\": 26850.786458333332, \"shock\": 0}, {\"date\": \"2016-11-10T00:00:00\", \"reversepriceavg\": 27504.556640625, \"shock\": 0}, {\"date\": \"2016-11-11T00:00:00\", \"reversepriceavg\": 26980.283203125, \"shock\": 0}, {\"date\": \"2016-11-15T00:00:00\", \"reversepriceavg\": 26455.95703125, \"shock\": 0}, {\"date\": \"2016-11-16T00:00:00\", \"reversepriceavg\": 26386.43359375, \"shock\": 0}, {\"date\": \"2016-11-17T00:00:00\", \"reversepriceavg\": 26277.629557291668, \"shock\": 0}, {\"date\": \"2016-11-18T00:00:00\", \"reversepriceavg\": 26202.013020833332, \"shock\": 0}, {\"date\": \"2016-11-21T00:00:00\", \"reversepriceavg\": 25917.783203125, \"shock\": 0}, {\"date\": \"2016-11-22T00:00:00\", \"reversepriceavg\": 25921.99609375, \"shock\": 0}, {\"date\": \"2016-11-23T00:00:00\", \"reversepriceavg\": 26019.8203125, \"shock\": 0}, {\"date\": \"2016-11-24T00:00:00\", \"reversepriceavg\": 25906.760416666668, \"shock\": 0}, {\"date\": \"2016-11-25T00:00:00\", \"reversepriceavg\": 26178.24609375, \"shock\": 0}, {\"date\": \"2016-11-28T00:00:00\", \"reversepriceavg\": 26315.793619791668, \"shock\": 0}, {\"date\": \"2016-11-29T00:00:00\", \"reversepriceavg\": 26445.246744791668, \"shock\": 0}, {\"date\": \"2016-11-30T00:00:00\", \"reversepriceavg\": 26576.287109375, \"shock\": 0}, {\"date\": \"2016-12-01T00:00:00\", \"reversepriceavg\": 26623.353515625, \"shock\": 0}, {\"date\": \"2016-12-02T00:00:00\", \"reversepriceavg\": 26292.216796875, \"shock\": 0}, {\"date\": \"2016-12-05T00:00:00\", \"reversepriceavg\": 26288.416666666668, \"shock\": 0}, {\"date\": \"2016-12-06T00:00:00\", \"reversepriceavg\": 26417.069661458332, \"shock\": 0}, {\"date\": \"2016-12-07T00:00:00\", \"reversepriceavg\": 26314.173177083332, \"shock\": 0}, {\"date\": \"2016-12-08T00:00:00\", \"reversepriceavg\": 26595.166015625, \"shock\": 0}, {\"date\": \"2016-12-09T00:00:00\", \"reversepriceavg\": 26752.916666666668, \"shock\": 0}, {\"date\": \"2016-12-12T00:00:00\", \"reversepriceavg\": 26569.713541666668, \"shock\": 0}, {\"date\": \"2016-12-13T00:00:00\", \"reversepriceavg\": 26639.007161458332, \"shock\": 0}, {\"date\": \"2016-12-14T00:00:00\", \"reversepriceavg\": 26628.743489583332, \"shock\": 0}, {\"date\": \"2016-12-15T00:00:00\", \"reversepriceavg\": 26554.836588541668, \"shock\": 0}, {\"date\": \"2016-12-16T00:00:00\", \"reversepriceavg\": 26513.107421875, \"shock\": 0}, {\"date\": \"2016-12-19T00:00:00\", \"reversepriceavg\": 26406.913411458332, \"shock\": 0}, {\"date\": \"2016-12-20T00:00:00\", \"reversepriceavg\": 26328.323567708332, \"shock\": 0}, {\"date\": \"2016-12-21T00:00:00\", \"reversepriceavg\": 26283.963541666668, \"shock\": 0}, {\"date\": \"2016-12-22T00:00:00\", \"reversepriceavg\": 26056.063151041668, \"shock\": 0}, {\"date\": \"2016-12-23T00:00:00\", \"reversepriceavg\": 26018.756510416668, \"shock\": 0}, {\"date\": \"2016-12-26T00:00:00\", \"reversepriceavg\": 25856.470052083332, \"shock\": 0}, {\"date\": \"2016-12-27T00:00:00\", \"reversepriceavg\": 26088.552734375, \"shock\": 0}, {\"date\": \"2016-12-28T00:00:00\", \"reversepriceavg\": 26272.483723958332, \"shock\": 0}, {\"date\": \"2016-12-29T00:00:00\", \"reversepriceavg\": 26320.817057291668, \"shock\": 0}, {\"date\": \"2016-12-30T00:00:00\", \"reversepriceavg\": 26570.529947916668, \"shock\": 0}, {\"date\": \"2017-01-02T00:00:00\", \"reversepriceavg\": 26587.830078125, \"shock\": 0}, {\"date\": \"2017-01-03T00:00:00\", \"reversepriceavg\": 26618.669921875, \"shock\": 0}, {\"date\": \"2017-01-04T00:00:00\", \"reversepriceavg\": 26654.186848958332, \"shock\": 0}, {\"date\": \"2017-01-05T00:00:00\", \"reversepriceavg\": 26844.623697916668, \"shock\": 0}, {\"date\": \"2017-01-06T00:00:00\", \"reversepriceavg\": 26834.056640625, \"shock\": 0}, {\"date\": \"2017-01-09T00:00:00\", \"reversepriceavg\": 26762.870442708332, \"shock\": 0}, {\"date\": \"2017-01-10T00:00:00\", \"reversepriceavg\": 26872.893229166668, \"shock\": 0}, {\"date\": \"2017-01-11T00:00:00\", \"reversepriceavg\": 27097.90625, \"shock\": 0}, {\"date\": \"2017-01-12T00:00:00\", \"reversepriceavg\": 27230.926432291668, \"shock\": 0}, {\"date\": \"2017-01-13T00:00:00\", \"reversepriceavg\": 27280.293619791668, \"shock\": 0}, {\"date\": \"2017-01-16T00:00:00\", \"reversepriceavg\": 27265.309895833332, \"shock\": 0}, {\"date\": \"2017-01-17T00:00:00\", \"reversepriceavg\": 27265.426432291668, \"shock\": 0}, {\"date\": \"2017-01-18T00:00:00\", \"reversepriceavg\": 27299.3203125, \"shock\": 0}, {\"date\": \"2017-01-19T00:00:00\", \"reversepriceavg\": 27292.2265625, \"shock\": 0}, {\"date\": \"2017-01-20T00:00:00\", \"reversepriceavg\": 27102.906901041668, \"shock\": 0}, {\"date\": \"2017-01-23T00:00:00\", \"reversepriceavg\": 27082.902994791668, \"shock\": 0}, {\"date\": \"2017-01-24T00:00:00\", \"reversepriceavg\": 27303.259765625, \"shock\": 0}, {\"date\": \"2017-01-25T00:00:00\", \"reversepriceavg\": 27628.216796875, \"shock\": 0}, {\"date\": \"2017-01-27T00:00:00\", \"reversepriceavg\": 27874.110677083332, \"shock\": 0}, {\"date\": \"2017-01-30T00:00:00\", \"reversepriceavg\": 27870.083333333332, \"shock\": 0}, {\"date\": \"2017-01-31T00:00:00\", \"reversepriceavg\": 27716.139973958332, \"shock\": 0}, {\"date\": \"2017-02-01T00:00:00\", \"reversepriceavg\": 27963.759765625, \"shock\": 0}, {\"date\": \"2017-02-02T00:00:00\", \"reversepriceavg\": 28199.11328125, \"shock\": 0}, {\"date\": \"2017-02-03T00:00:00\", \"reversepriceavg\": 28216.093098958332, \"shock\": 0}, {\"date\": \"2017-02-06T00:00:00\", \"reversepriceavg\": 28422.31640625, \"shock\": 0}, {\"date\": \"2017-02-07T00:00:00\", \"reversepriceavg\": 28352.563151041668, \"shock\": 0}, {\"date\": \"2017-02-08T00:00:00\", \"reversepriceavg\": 28276.880208333332, \"shock\": 0}, {\"date\": \"2017-02-09T00:00:00\", \"reversepriceavg\": 28317.119791666668, \"shock\": 0}, {\"date\": \"2017-02-10T00:00:00\", \"reversepriceavg\": 28359.076822916668, \"shock\": 0}, {\"date\": \"2017-02-13T00:00:00\", \"reversepriceavg\": 28335.93359375, \"shock\": 0}, {\"date\": \"2017-02-14T00:00:00\", \"reversepriceavg\": 28332.059895833332, \"shock\": 0}, {\"date\": \"2017-02-15T00:00:00\", \"reversepriceavg\": 28213.370442708332, \"shock\": 0}, {\"date\": \"2017-02-16T00:00:00\", \"reversepriceavg\": 28258.432942708332, \"shock\": 0}, {\"date\": \"2017-02-17T00:00:00\", \"reversepriceavg\": 28535.306640625, \"shock\": 0}, {\"date\": \"2017-02-20T00:00:00\", \"reversepriceavg\": 28592.459635416668, \"shock\": 0}, {\"date\": \"2017-02-21T00:00:00\", \"reversepriceavg\": 28719.973307291668, \"shock\": 0}, {\"date\": \"2017-02-22T00:00:00\", \"reversepriceavg\": 28872.510416666668, \"shock\": 0}, {\"date\": \"2017-02-23T00:00:00\", \"reversepriceavg\": 28939.580729166668, \"shock\": 0}, {\"date\": \"2017-02-27T00:00:00\", \"reversepriceavg\": 28855.300130208332, \"shock\": 0}, {\"date\": \"2017-02-28T00:00:00\", \"reversepriceavg\": 28780.326171875, \"shock\": 0}, {\"date\": \"2017-03-01T00:00:00\", \"reversepriceavg\": 28945.943359375, \"shock\": 0}, {\"date\": \"2017-03-02T00:00:00\", \"reversepriceavg\": 28923.239583333332, \"shock\": 0}, {\"date\": \"2017-03-03T00:00:00\", \"reversepriceavg\": 28802.930338541668, \"shock\": 0}, {\"date\": \"2017-03-06T00:00:00\", \"reversepriceavg\": 28991.502604166668, \"shock\": 0}, {\"date\": \"2017-03-07T00:00:00\", \"reversepriceavg\": 29018.470052083332, \"shock\": 0}, {\"date\": \"2017-03-08T00:00:00\", \"reversepriceavg\": 28913.246744791668, \"shock\": 0}, {\"date\": \"2017-03-09T00:00:00\", \"reversepriceavg\": 28910.290364583332, \"shock\": 0}, {\"date\": \"2017-03-10T00:00:00\", \"reversepriceavg\": 28957.966796875, \"shock\": 0}, {\"date\": \"2017-03-14T00:00:00\", \"reversepriceavg\": 29453.537109375, \"shock\": 0}, {\"date\": \"2017-03-15T00:00:00\", \"reversepriceavg\": 29419.033203125, \"shock\": 0}, {\"date\": \"2017-03-16T00:00:00\", \"reversepriceavg\": 29561.15625, \"shock\": 0}, {\"date\": \"2017-03-17T00:00:00\", \"reversepriceavg\": 29691.822916666668, \"shock\": 0}, {\"date\": \"2017-03-20T00:00:00\", \"reversepriceavg\": 29566.873697916668, \"shock\": 0}, {\"date\": \"2017-03-21T00:00:00\", \"reversepriceavg\": 29483.546875, \"shock\": 0}, {\"date\": \"2017-03-22T00:00:00\", \"reversepriceavg\": 29215.5234375, \"shock\": 0}, {\"date\": \"2017-03-23T00:00:00\", \"reversepriceavg\": 29301.343098958332, \"shock\": 0}, {\"date\": \"2017-03-24T00:00:00\", \"reversepriceavg\": 29437.139973958332, \"shock\": 0}, {\"date\": \"2017-03-27T00:00:00\", \"reversepriceavg\": 29273.796223958332, \"shock\": 0}, {\"date\": \"2017-03-28T00:00:00\", \"reversepriceavg\": 29384.306640625, \"shock\": 0}, {\"date\": \"2017-03-29T00:00:00\", \"reversepriceavg\": 29508.413411458332, \"shock\": 0}, {\"date\": \"2017-03-30T00:00:00\", \"reversepriceavg\": 29617.869791666668, \"shock\": 0}, {\"date\": \"2017-03-31T00:00:00\", \"reversepriceavg\": 29620.25, \"shock\": 0}, {\"date\": \"2017-04-03T00:00:00\", \"reversepriceavg\": 29847.626953125, \"shock\": 0}, {\"date\": \"2017-04-05T00:00:00\", \"reversepriceavg\": 29933.13671875, \"shock\": 0}, {\"date\": \"2017-04-06T00:00:00\", \"reversepriceavg\": 29899.7265625, \"shock\": 0}, {\"date\": \"2017-04-07T00:00:00\", \"reversepriceavg\": 29753.725911458332, \"shock\": 0}, {\"date\": \"2017-04-10T00:00:00\", \"reversepriceavg\": 29653.366536458332, \"shock\": 0}, {\"date\": \"2017-04-11T00:00:00\", \"reversepriceavg\": 29721.146484375, \"shock\": 0}, {\"date\": \"2017-04-12T00:00:00\", \"reversepriceavg\": 29677.347005208332, \"shock\": 0}, {\"date\": \"2017-04-13T00:00:00\", \"reversepriceavg\": 29521.396484375, \"shock\": 0}, {\"date\": \"2017-04-17T00:00:00\", \"reversepriceavg\": 29423.673177083332, \"shock\": 0}, {\"date\": \"2017-04-18T00:00:00\", \"reversepriceavg\": 29435.556640625, \"shock\": 0}, {\"date\": \"2017-04-19T00:00:00\", \"reversepriceavg\": 29322.100260416668, \"shock\": 0}, {\"date\": \"2017-04-20T00:00:00\", \"reversepriceavg\": 29405.710286458332, \"shock\": 0}, {\"date\": \"2017-04-21T00:00:00\", \"reversepriceavg\": 29403.020182291668, \"shock\": 0}, {\"date\": \"2017-04-24T00:00:00\", \"reversepriceavg\": 29576.720052083332, \"shock\": 0}, {\"date\": \"2017-04-25T00:00:00\", \"reversepriceavg\": 29895.300130208332, \"shock\": 0}, {\"date\": \"2017-04-26T00:00:00\", \"reversepriceavg\": 30089.669921875, \"shock\": 0}, {\"date\": \"2017-04-27T00:00:00\", \"reversepriceavg\": 30062.453776041668, \"shock\": 0}, {\"date\": \"2017-04-28T00:00:00\", \"reversepriceavg\": 29944.750651041668, \"shock\": 0}, {\"date\": \"2017-05-02T00:00:00\", \"reversepriceavg\": 29931.513020833332, \"shock\": 0}, {\"date\": \"2017-05-03T00:00:00\", \"reversepriceavg\": 29920.653645833332, \"shock\": 0}, {\"date\": \"2017-05-04T00:00:00\", \"reversepriceavg\": 30101.186848958332, \"shock\": 0}, {\"date\": \"2017-05-05T00:00:00\", \"reversepriceavg\": 29952.983723958332, \"shock\": 0}, {\"date\": \"2017-05-08T00:00:00\", \"reversepriceavg\": 29939.866536458332, \"shock\": 0}, {\"date\": \"2017-05-09T00:00:00\", \"reversepriceavg\": 29954.169921875, \"shock\": 0}, {\"date\": \"2017-05-10T00:00:00\", \"reversepriceavg\": 30169.069661458332, \"shock\": 0}, {\"date\": \"2017-05-11T00:00:00\", \"reversepriceavg\": 30274.83984375, \"shock\": 0}, {\"date\": \"2017-05-12T00:00:00\", \"reversepriceavg\": 30199.779947916668, \"shock\": 0}, {\"date\": \"2017-05-15T00:00:00\", \"reversepriceavg\": 30317.899739583332, \"shock\": 0}, {\"date\": \"2017-05-16T00:00:00\", \"reversepriceavg\": 30512.506510416668, \"shock\": 0}, {\"date\": \"2017-05-17T00:00:00\", \"reversepriceavg\": 30623.453125, \"shock\": 0}, {\"date\": \"2017-05-18T00:00:00\", \"reversepriceavg\": 30468.11328125, \"shock\": 0}, {\"date\": \"2017-05-19T00:00:00\", \"reversepriceavg\": 30505.263020833332, \"shock\": 0}, {\"date\": \"2017-05-22T00:00:00\", \"reversepriceavg\": 30599.996744791668, \"shock\": 0}, {\"date\": \"2017-05-23T00:00:00\", \"reversepriceavg\": 30430.936848958332, \"shock\": 0}, {\"date\": \"2017-05-24T00:00:00\", \"reversepriceavg\": 30361.130208333332, \"shock\": 0}, {\"date\": \"2017-05-25T00:00:00\", \"reversepriceavg\": 30631.90625, \"shock\": 0}, {\"date\": \"2017-05-26T00:00:00\", \"reversepriceavg\": 30949.283854166668, \"shock\": 0}, {\"date\": \"2017-05-29T00:00:00\", \"reversepriceavg\": 31064.5234375, \"shock\": 0}, {\"date\": \"2017-05-30T00:00:00\", \"reversepriceavg\": 31147.940104166668, \"shock\": 0}, {\"date\": \"2017-05-31T00:00:00\", \"reversepriceavg\": 31169.520182291668, \"shock\": 0}, {\"date\": \"2017-06-01T00:00:00\", \"reversepriceavg\": 31137.576171875, \"shock\": 0}, {\"date\": \"2017-06-02T00:00:00\", \"reversepriceavg\": 31265.416666666668, \"shock\": 0}, {\"date\": \"2017-06-05T00:00:00\", \"reversepriceavg\": 31287.710286458332, \"shock\": 0}, {\"date\": \"2017-06-06T00:00:00\", \"reversepriceavg\": 31264.477213541668, \"shock\": 0}, {\"date\": \"2017-06-07T00:00:00\", \"reversepriceavg\": 31263.75, \"shock\": 0}, {\"date\": \"2017-06-08T00:00:00\", \"reversepriceavg\": 31253.879557291668, \"shock\": 0}, {\"date\": \"2017-06-09T00:00:00\", \"reversepriceavg\": 31213.110026041668, \"shock\": 0}, {\"date\": \"2017-06-12T00:00:00\", \"reversepriceavg\": 31121.802734375, \"shock\": 0}, {\"date\": \"2017-06-13T00:00:00\", \"reversepriceavg\": 31142.199869791668, \"shock\": 0}, {\"date\": \"2017-06-14T00:00:00\", \"reversepriceavg\": 31133.736328125, \"shock\": 0}, {\"date\": \"2017-06-15T00:00:00\", \"reversepriceavg\": 31110.550130208332, \"shock\": 0}, {\"date\": \"2017-06-16T00:00:00\", \"reversepriceavg\": 31085.436848958332, \"shock\": 0}, {\"date\": \"2017-06-19T00:00:00\", \"reversepriceavg\": 31279.0234375, \"shock\": 0}, {\"date\": \"2017-06-20T00:00:00\", \"reversepriceavg\": 31317.182942708332, \"shock\": 0}, {\"date\": \"2017-06-21T00:00:00\", \"reversepriceavg\": 31271.229817708332, \"shock\": 0}, {\"date\": \"2017-06-22T00:00:00\", \"reversepriceavg\": 31356.413411458332, \"shock\": 0}, {\"date\": \"2017-06-23T00:00:00\", \"reversepriceavg\": 31204.6640625, \"shock\": 0}, {\"date\": \"2017-06-27T00:00:00\", \"reversepriceavg\": 31033.430338541668, \"shock\": 0}, {\"date\": \"2017-06-28T00:00:00\", \"reversepriceavg\": 30877.833333333332, \"shock\": 0}, {\"date\": \"2017-06-29T00:00:00\", \"reversepriceavg\": 30916.682942708332, \"shock\": 0}, {\"date\": \"2017-06-30T00:00:00\", \"reversepriceavg\": 30855.90625, \"shock\": 0}, {\"date\": \"2017-07-03T00:00:00\", \"reversepriceavg\": 31165.686197916668, \"shock\": 0}, {\"date\": \"2017-07-04T00:00:00\", \"reversepriceavg\": 31243.206380208332, \"shock\": 0}, {\"date\": \"2017-07-05T00:00:00\", \"reversepriceavg\": 31235.993489583332, \"shock\": 0}, {\"date\": \"2017-07-06T00:00:00\", \"reversepriceavg\": 31364.966145833332, \"shock\": 0}, {\"date\": \"2017-07-07T00:00:00\", \"reversepriceavg\": 31357.846354166668, \"shock\": 0}, {\"date\": \"2017-07-10T00:00:00\", \"reversepriceavg\": 31651.813802083332, \"shock\": 0}, {\"date\": \"2017-07-11T00:00:00\", \"reversepriceavg\": 31783.559895833332, \"shock\": 0}, {\"date\": \"2017-07-12T00:00:00\", \"reversepriceavg\": 31800.646484375, \"shock\": 0}, {\"date\": \"2017-07-13T00:00:00\", \"reversepriceavg\": 32007.177083333332, \"shock\": 0}, {\"date\": \"2017-07-14T00:00:00\", \"reversepriceavg\": 32009.456380208332, \"shock\": 0}, {\"date\": \"2017-07-17T00:00:00\", \"reversepriceavg\": 32081.303385416668, \"shock\": 0}, {\"date\": \"2017-07-18T00:00:00\", \"reversepriceavg\": 31749.6796875, \"shock\": 0}, {\"date\": \"2017-07-19T00:00:00\", \"reversepriceavg\": 31909.3203125, \"shock\": 0}, {\"date\": \"2017-07-20T00:00:00\", \"reversepriceavg\": 31940.33984375, \"shock\": 0}, {\"date\": \"2017-07-21T00:00:00\", \"reversepriceavg\": 31966.68359375, \"shock\": 0}, {\"date\": \"2017-07-24T00:00:00\", \"reversepriceavg\": 32208.352864583332, \"shock\": 0}, {\"date\": \"2017-07-25T00:00:00\", \"reversepriceavg\": 32266.4765625, \"shock\": 0}, {\"date\": \"2017-07-26T00:00:00\", \"reversepriceavg\": 32340.723958333332, \"shock\": 0}, {\"date\": \"2017-07-27T00:00:00\", \"reversepriceavg\": 32460.430338541668, \"shock\": 0}, {\"date\": \"2017-07-28T00:00:00\", \"reversepriceavg\": 32265.300130208332, \"shock\": 0}, {\"date\": \"2017-07-31T00:00:00\", \"reversepriceavg\": 32461.962890625, \"shock\": 0}, {\"date\": \"2017-08-01T00:00:00\", \"reversepriceavg\": 32556.479817708332, \"shock\": 0}, {\"date\": \"2017-08-02T00:00:00\", \"reversepriceavg\": 32519.370442708332, \"shock\": 0}, {\"date\": \"2017-08-03T00:00:00\", \"reversepriceavg\": 32311.670572916668, \"shock\": 0}, {\"date\": \"2017-08-04T00:00:00\", \"reversepriceavg\": 32261.86328125, \"shock\": 0}, {\"date\": \"2017-08-07T00:00:00\", \"reversepriceavg\": 32301.876953125, \"shock\": 0}, {\"date\": \"2017-08-08T00:00:00\", \"reversepriceavg\": 32094.719401041668, \"shock\": 0}, {\"date\": \"2017-08-09T00:00:00\", \"reversepriceavg\": 31832.343098958332, \"shock\": 0}, {\"date\": \"2017-08-10T00:00:00\", \"reversepriceavg\": 31570.133463541668, \"shock\": 0}, {\"date\": \"2017-08-11T00:00:00\", \"reversepriceavg\": 31240.26953125, \"shock\": 0}, {\"date\": \"2017-08-14T00:00:00\", \"reversepriceavg\": 31424.776692708332, \"shock\": 0}, {\"date\": \"2017-08-16T00:00:00\", \"reversepriceavg\": 31658.743489583332, \"shock\": 0}, {\"date\": \"2017-08-17T00:00:00\", \"reversepriceavg\": 31815.690104166668, \"shock\": 0}, {\"date\": \"2017-08-18T00:00:00\", \"reversepriceavg\": 31534.563802083332, \"shock\": 0}, {\"date\": \"2017-08-21T00:00:00\", \"reversepriceavg\": 31373.729817708332, \"shock\": 0}, {\"date\": \"2017-08-22T00:00:00\", \"reversepriceavg\": 31339.209635416668, \"shock\": 0}, {\"date\": \"2017-08-23T00:00:00\", \"reversepriceavg\": 31513.550130208332, \"shock\": 0}, {\"date\": \"2017-08-24T00:00:00\", \"reversepriceavg\": 31606.766927083332, \"shock\": 0}, {\"date\": \"2017-08-28T00:00:00\", \"reversepriceavg\": 31754.063151041668, \"shock\": 0}, {\"date\": \"2017-08-29T00:00:00\", \"reversepriceavg\": 31496.333984375, \"shock\": 0}, {\"date\": \"2017-08-30T00:00:00\", \"reversepriceavg\": 31635.8203125, \"shock\": 0}, {\"date\": \"2017-08-31T00:00:00\", \"reversepriceavg\": 31679.83984375, \"shock\": 0}, {\"date\": \"2017-09-01T00:00:00\", \"reversepriceavg\": 31847.866536458332, \"shock\": 0}, {\"date\": \"2017-09-04T00:00:00\", \"reversepriceavg\": 31731.58984375, \"shock\": 0}, {\"date\": \"2017-09-05T00:00:00\", \"reversepriceavg\": 31782.417317708332, \"shock\": 0}, {\"date\": \"2017-09-06T00:00:00\", \"reversepriceavg\": 31658.783203125, \"shock\": 0}, {\"date\": \"2017-09-07T00:00:00\", \"reversepriceavg\": 31699.380208333332, \"shock\": 0}, {\"date\": \"2017-09-08T00:00:00\", \"reversepriceavg\": 31690.072916666668, \"shock\": 0}, {\"date\": \"2017-09-11T00:00:00\", \"reversepriceavg\": 31877.639973958332, \"shock\": 0}, {\"date\": \"2017-09-12T00:00:00\", \"reversepriceavg\": 32093.787109375, \"shock\": 0}, {\"date\": \"2017-09-13T00:00:00\", \"reversepriceavg\": 32220.493489583332, \"shock\": 0}, {\"date\": \"2017-09-14T00:00:00\", \"reversepriceavg\": 32252.459635416668, \"shock\": 0}, {\"date\": \"2017-09-15T00:00:00\", \"reversepriceavg\": 32255.699869791668, \"shock\": 0}, {\"date\": \"2017-09-18T00:00:00\", \"reversepriceavg\": 32431.0234375, \"shock\": 0}, {\"date\": \"2017-09-19T00:00:00\", \"reversepriceavg\": 32428.369791666668, \"shock\": 0}, {\"date\": \"2017-09-20T00:00:00\", \"reversepriceavg\": 32428.0703125, \"shock\": 0}, {\"date\": \"2017-09-21T00:00:00\", \"reversepriceavg\": 32332.356119791668, \"shock\": 0}, {\"date\": \"2017-09-22T00:00:00\", \"reversepriceavg\": 32050.446614583332, \"shock\": 0}, {\"date\": \"2017-09-25T00:00:00\", \"reversepriceavg\": 31705.903645833332, \"shock\": 0}, {\"date\": \"2017-09-26T00:00:00\", \"reversepriceavg\": 31583.0, \"shock\": 0}, {\"date\": \"2017-09-27T00:00:00\", \"reversepriceavg\": 31352.690755208332, \"shock\": 0}, {\"date\": \"2017-09-28T00:00:00\", \"reversepriceavg\": 31235.073567708332, \"shock\": 0}, {\"date\": \"2017-09-29T00:00:00\", \"reversepriceavg\": 31350.43359375, \"shock\": 0}, {\"date\": \"2017-10-03T00:00:00\", \"reversepriceavg\": 31517.713541666668, \"shock\": 0}, {\"date\": \"2017-10-04T00:00:00\", \"reversepriceavg\": 31627.216796875, \"shock\": 0}, {\"date\": \"2017-10-05T00:00:00\", \"reversepriceavg\": 31642.229817708332, \"shock\": 0}, {\"date\": \"2017-10-06T00:00:00\", \"reversepriceavg\": 31763.770182291668, \"shock\": 0}, {\"date\": \"2017-10-09T00:00:00\", \"reversepriceavg\": 31854.757161458332, \"shock\": 0}, {\"date\": \"2017-10-10T00:00:00\", \"reversepriceavg\": 31938.693359375, \"shock\": 0}, {\"date\": \"2017-10-11T00:00:00\", \"reversepriceavg\": 31900.6171875, \"shock\": 0}, {\"date\": \"2017-10-12T00:00:00\", \"reversepriceavg\": 32068.306640625, \"shock\": 0}, {\"date\": \"2017-10-13T00:00:00\", \"reversepriceavg\": 32396.33984375, \"shock\": 0}, {\"date\": \"2017-10-16T00:00:00\", \"reversepriceavg\": 32588.796875, \"shock\": 0}, {\"date\": \"2017-10-17T00:00:00\", \"reversepriceavg\": 32621.919921875, \"shock\": 0}, {\"date\": \"2017-10-18T00:00:00\", \"reversepriceavg\": 32572.506510416668, \"shock\": 0}, {\"date\": \"2017-10-19T00:00:00\", \"reversepriceavg\": 32457.463541666668, \"shock\": 0}, {\"date\": \"2017-10-23T00:00:00\", \"reversepriceavg\": 32478.1171875, \"shock\": 0}, {\"date\": \"2017-10-24T00:00:00\", \"reversepriceavg\": 32593.263020833332, \"shock\": 0}, {\"date\": \"2017-10-25T00:00:00\", \"reversepriceavg\": 32988.143229166664, \"shock\": 0}, {\"date\": \"2017-10-26T00:00:00\", \"reversepriceavg\": 33059.453125, \"shock\": 0}, {\"date\": \"2017-10-27T00:00:00\", \"reversepriceavg\": 33184.380208333336, \"shock\": 0}, {\"date\": \"2017-10-30T00:00:00\", \"reversepriceavg\": 33271.087239583336, \"shock\": 0}, {\"date\": \"2017-10-31T00:00:00\", \"reversepriceavg\": 33223.903645833336, \"shock\": 0}, {\"date\": \"2017-11-01T00:00:00\", \"reversepriceavg\": 33530.803385416664, \"shock\": 0}, {\"date\": \"2017-11-02T00:00:00\", \"reversepriceavg\": 33585.9296875, \"shock\": 0}, {\"date\": \"2017-11-03T00:00:00\", \"reversepriceavg\": 33650.403645833336, \"shock\": 0}, {\"date\": \"2017-11-06T00:00:00\", \"reversepriceavg\": 33720.6640625, \"shock\": 0}, {\"date\": \"2017-11-07T00:00:00\", \"reversepriceavg\": 33526.177083333336, \"shock\": 0}, {\"date\": \"2017-11-08T00:00:00\", \"reversepriceavg\": 33287.0625, \"shock\": 0}, {\"date\": \"2017-11-09T00:00:00\", \"reversepriceavg\": 33275.423177083336, \"shock\": 0}, {\"date\": \"2017-11-10T00:00:00\", \"reversepriceavg\": 33267.690104166664, \"shock\": 0}, {\"date\": \"2017-11-13T00:00:00\", \"reversepriceavg\": 33150.279947916664, \"shock\": 0}, {\"date\": \"2017-11-14T00:00:00\", \"reversepriceavg\": 32991.84375, \"shock\": 0}, {\"date\": \"2017-11-15T00:00:00\", \"reversepriceavg\": 32796.323567708336, \"shock\": 0}, {\"date\": \"2017-11-16T00:00:00\", \"reversepriceavg\": 33033.9296875, \"shock\": 0}, {\"date\": \"2017-11-17T00:00:00\", \"reversepriceavg\": 33380.84375, \"shock\": 0}, {\"date\": \"2017-11-20T00:00:00\", \"reversepriceavg\": 33365.880208333336, \"shock\": 0}, {\"date\": \"2017-11-21T00:00:00\", \"reversepriceavg\": 33513.670572916664, \"shock\": 0}, {\"date\": \"2017-11-22T00:00:00\", \"reversepriceavg\": 33560.4375, \"shock\": 0}, {\"date\": \"2017-11-23T00:00:00\", \"reversepriceavg\": 33575.5234375, \"shock\": 0}, {\"date\": \"2017-11-24T00:00:00\", \"reversepriceavg\": 33685.916666666664, \"shock\": 0}, {\"date\": \"2017-11-27T00:00:00\", \"reversepriceavg\": 33670.024739583336, \"shock\": 0}, {\"date\": \"2017-11-28T00:00:00\", \"reversepriceavg\": 33655.12890625, \"shock\": 0}, {\"date\": \"2017-11-29T00:00:00\", \"reversepriceavg\": 33628.23046875, \"shock\": 0}, {\"date\": \"2017-11-30T00:00:00\", \"reversepriceavg\": 33278.08984375, \"shock\": 0}, {\"date\": \"2017-12-01T00:00:00\", \"reversepriceavg\": 32977.177083333336, \"shock\": 0}, {\"date\": \"2017-12-04T00:00:00\", \"reversepriceavg\": 32887.983072916664, \"shock\": 0}, {\"date\": \"2017-12-05T00:00:00\", \"reversepriceavg\": 32792.670572916664, \"shock\": 0}, {\"date\": \"2017-12-06T00:00:00\", \"reversepriceavg\": 32655.696614583332, \"shock\": 0}, {\"date\": \"2017-12-07T00:00:00\", \"reversepriceavg\": 32846.593098958336, \"shock\": 0}, {\"date\": \"2017-12-08T00:00:00\", \"reversepriceavg\": 33190.059895833336, \"shock\": 0}, {\"date\": \"2017-12-11T00:00:00\", \"reversepriceavg\": 33434.9765625, \"shock\": 0}, {\"date\": \"2017-12-12T00:00:00\", \"reversepriceavg\": 33288.716145833336, \"shock\": 0}, {\"date\": \"2017-12-13T00:00:00\", \"reversepriceavg\": 33148.70703125, \"shock\": 0}, {\"date\": \"2017-12-14T00:00:00\", \"reversepriceavg\": 33151.716145833336, \"shock\": 0}, {\"date\": \"2017-12-15T00:00:00\", \"reversepriceavg\": 33496.916666666664, \"shock\": 0}, {\"date\": \"2017-12-18T00:00:00\", \"reversepriceavg\": 33333.069661458336, \"shock\": 0}, {\"date\": \"2017-12-19T00:00:00\", \"reversepriceavg\": 33788.4765625, \"shock\": 0}, {\"date\": \"2017-12-20T00:00:00\", \"reversepriceavg\": 33829.54296875, \"shock\": 0}, {\"date\": \"2017-12-21T00:00:00\", \"reversepriceavg\": 33775.0234375, \"shock\": 0}, {\"date\": \"2017-12-22T00:00:00\", \"reversepriceavg\": 33890.770833333336, \"shock\": 0}, {\"date\": \"2017-12-26T00:00:00\", \"reversepriceavg\": 33987.412760416664, \"shock\": 0}, {\"date\": \"2017-12-27T00:00:00\", \"reversepriceavg\": 33963.096354166664, \"shock\": 0}, {\"date\": \"2017-12-28T00:00:00\", \"reversepriceavg\": 33874.5703125, \"shock\": 0}, {\"date\": \"2017-12-29T00:00:00\", \"reversepriceavg\": 34010.756510416664, \"shock\": 0}, {\"date\": \"2018-01-01T00:00:00\", \"reversepriceavg\": 33893.342447916664, \"shock\": 0}, {\"date\": \"2018-01-02T00:00:00\", \"reversepriceavg\": 33826.591145833336, \"shock\": 0}, {\"date\": \"2018-01-03T00:00:00\", \"reversepriceavg\": 33852.393229166664, \"shock\": 0}, {\"date\": \"2018-01-04T00:00:00\", \"reversepriceavg\": 33922.389322916664, \"shock\": 0}, {\"date\": \"2018-01-05T00:00:00\", \"reversepriceavg\": 34121.180989583336, \"shock\": 0}, {\"date\": \"2018-01-08T00:00:00\", \"reversepriceavg\": 34318.263020833336, \"shock\": 0}, {\"date\": \"2018-01-09T00:00:00\", \"reversepriceavg\": 34424.877604166664, \"shock\": 0}, {\"date\": \"2018-01-10T00:00:00\", \"reversepriceavg\": 34436.776041666664, \"shock\": 0}, {\"date\": \"2018-01-11T00:00:00\", \"reversepriceavg\": 34487.658854166664, \"shock\": 0}, {\"date\": \"2018-01-12T00:00:00\", \"reversepriceavg\": 34524.32421875, \"shock\": 0}, {\"date\": \"2018-01-15T00:00:00\", \"reversepriceavg\": 34831.471354166664, \"shock\": 0}, {\"date\": \"2018-01-16T00:00:00\", \"reversepriceavg\": 34814.2109375, \"shock\": 0}, {\"date\": \"2018-01-17T00:00:00\", \"reversepriceavg\": 34967.083333333336, \"shock\": 0}, {\"date\": \"2018-01-18T00:00:00\", \"reversepriceavg\": 35311.36328125, \"shock\": 0}, {\"date\": \"2018-01-19T00:00:00\", \"reversepriceavg\": 35424.970052083336, \"shock\": 0}, {\"date\": \"2018-01-22T00:00:00\", \"reversepriceavg\": 35723.463541666664, \"shock\": 0}, {\"date\": \"2018-01-23T00:00:00\", \"reversepriceavg\": 36058.263020833336, \"shock\": 0}, {\"date\": \"2018-01-24T00:00:00\", \"reversepriceavg\": 36155.447916666664, \"shock\": 0}, {\"date\": \"2018-01-25T00:00:00\", \"reversepriceavg\": 36040.270833333336, \"shock\": 0}, {\"date\": \"2018-01-29T00:00:00\", \"reversepriceavg\": 36273.529947916664, \"shock\": 0}, {\"date\": \"2018-01-30T00:00:00\", \"reversepriceavg\": 36106.3203125, \"shock\": 0}, {\"date\": \"2018-01-31T00:00:00\", \"reversepriceavg\": 35944.70703125, \"shock\": 0}, {\"date\": \"2018-02-01T00:00:00\", \"reversepriceavg\": 35888.408854166664, \"shock\": 0}, {\"date\": \"2018-02-02T00:00:00\", \"reversepriceavg\": 35270.4296875, \"shock\": 0}, {\"date\": \"2018-02-05T00:00:00\", \"reversepriceavg\": 34717.377604166664, \"shock\": 0}, {\"date\": \"2018-02-06T00:00:00\", \"reversepriceavg\": 34066.587239583336, \"shock\": 0}, {\"date\": \"2018-02-07T00:00:00\", \"reversepriceavg\": 34252.486979166664, \"shock\": 0}, {\"date\": \"2018-02-08T00:00:00\", \"reversepriceavg\": 34385.424479166664, \"shock\": 0}, {\"date\": \"2018-02-09T00:00:00\", \"reversepriceavg\": 33975.380208333336, \"shock\": 0}, {\"date\": \"2018-02-12T00:00:00\", \"reversepriceavg\": 34255.643229166664, \"shock\": 0}, {\"date\": \"2018-02-14T00:00:00\", \"reversepriceavg\": 34219.352864583336, \"shock\": 0}, {\"date\": \"2018-02-15T00:00:00\", \"reversepriceavg\": 34339.51953125, \"shock\": 0}, {\"date\": \"2018-02-16T00:00:00\", \"reversepriceavg\": 34158.776041666664, \"shock\": 0}, {\"date\": \"2018-02-19T00:00:00\", \"reversepriceavg\": 33817.330729166664, \"shock\": 0}, {\"date\": \"2018-02-20T00:00:00\", \"reversepriceavg\": 33774.143229166664, \"shock\": 0}, {\"date\": \"2018-02-21T00:00:00\", \"reversepriceavg\": 33819.572916666664, \"shock\": 0}, {\"date\": \"2018-02-22T00:00:00\", \"reversepriceavg\": 33793.220052083336, \"shock\": 0}, {\"date\": \"2018-02-23T00:00:00\", \"reversepriceavg\": 34047.25, \"shock\": 0}, {\"date\": \"2018-02-26T00:00:00\", \"reversepriceavg\": 34384.953125, \"shock\": 0}, {\"date\": \"2018-02-27T00:00:00\", \"reversepriceavg\": 34424.016927083336, \"shock\": 0}, {\"date\": \"2018-02-28T00:00:00\", \"reversepriceavg\": 34187.7421875, \"shock\": 0}, {\"date\": \"2018-03-01T00:00:00\", \"reversepriceavg\": 34113.786458333336, \"shock\": 0}, {\"date\": \"2018-03-05T00:00:00\", \"reversepriceavg\": 33811.490885416664, \"shock\": 0}, {\"date\": \"2018-03-06T00:00:00\", \"reversepriceavg\": 33529.029947916664, \"shock\": 0}, {\"date\": \"2018-03-07T00:00:00\", \"reversepriceavg\": 33118.48046875, \"shock\": 0}, {\"date\": \"2018-03-08T00:00:00\", \"reversepriceavg\": 33276.33984375, \"shock\": 0}, {\"date\": \"2018-03-09T00:00:00\", \"reversepriceavg\": 33361.016927083336, \"shock\": 0}, {\"date\": \"2018-03-12T00:00:00\", \"reversepriceavg\": 33782.860677083336, \"shock\": 0}, {\"date\": \"2018-03-13T00:00:00\", \"reversepriceavg\": 33885.6875, \"shock\": 0}, {\"date\": \"2018-03-14T00:00:00\", \"reversepriceavg\": 33763.859375, \"shock\": 0}, {\"date\": \"2018-03-15T00:00:00\", \"reversepriceavg\": 33729.700520833336, \"shock\": 0}, {\"date\": \"2018-03-16T00:00:00\", \"reversepriceavg\": 33329.080729166664, \"shock\": 0}, {\"date\": \"2018-03-19T00:00:00\", \"reversepriceavg\": 33018.483072916664, \"shock\": 0}, {\"date\": \"2018-03-20T00:00:00\", \"reversepriceavg\": 32970.119791666664, \"shock\": 0}, {\"date\": \"2018-03-21T00:00:00\", \"reversepriceavg\": 33187.213541666664, \"shock\": 0}, {\"date\": \"2018-03-22T00:00:00\", \"reversepriceavg\": 33083.782552083336, \"shock\": 0}, {\"date\": \"2018-03-23T00:00:00\", \"reversepriceavg\": 32600.136067708332, \"shock\": 0}, {\"date\": \"2018-03-26T00:00:00\", \"reversepriceavg\": 32898.996744791664, \"shock\": 0}, {\"date\": \"2018-03-27T00:00:00\", \"reversepriceavg\": 33207.51953125, \"shock\": 0}, {\"date\": \"2018-03-28T00:00:00\", \"reversepriceavg\": 32996.81640625, \"shock\": 0}, {\"date\": \"2018-04-02T00:00:00\", \"reversepriceavg\": 33180.859375, \"shock\": 0}, {\"date\": \"2018-04-03T00:00:00\", \"reversepriceavg\": 33309.1328125, \"shock\": 0}, {\"date\": \"2018-04-04T00:00:00\", \"reversepriceavg\": 33165.720052083336, \"shock\": 0}, {\"date\": \"2018-04-05T00:00:00\", \"reversepriceavg\": 33500.70703125, \"shock\": 0}, {\"date\": \"2018-04-06T00:00:00\", \"reversepriceavg\": 33608.6171875, \"shock\": 0}, {\"date\": \"2018-04-09T00:00:00\", \"reversepriceavg\": 33737.983072916664, \"shock\": 0}, {\"date\": \"2018-04-10T00:00:00\", \"reversepriceavg\": 33881.177083333336, \"shock\": 0}, {\"date\": \"2018-04-11T00:00:00\", \"reversepriceavg\": 33890.90625, \"shock\": 0}, {\"date\": \"2018-04-12T00:00:00\", \"reversepriceavg\": 34067.81640625, \"shock\": 0}, {\"date\": \"2018-04-13T00:00:00\", \"reversepriceavg\": 34203.106770833336, \"shock\": 0}, {\"date\": \"2018-04-16T00:00:00\", \"reversepriceavg\": 34182.076822916664, \"shock\": 0}, {\"date\": \"2018-04-17T00:00:00\", \"reversepriceavg\": 34353.009114583336, \"shock\": 0}, {\"date\": \"2018-04-18T00:00:00\", \"reversepriceavg\": 34397.842447916664, \"shock\": 0}, {\"date\": \"2018-04-19T00:00:00\", \"reversepriceavg\": 34421.673177083336, \"shock\": 0}, {\"date\": \"2018-04-20T00:00:00\", \"reversepriceavg\": 34404.731770833336, \"shock\": 0}, {\"date\": \"2018-04-23T00:00:00\", \"reversepriceavg\": 34457.99609375, \"shock\": 0}, {\"date\": \"2018-04-24T00:00:00\", \"reversepriceavg\": 34596.279947916664, \"shock\": 0}, {\"date\": \"2018-04-25T00:00:00\", \"reversepriceavg\": 34511.032552083336, \"shock\": 0}, {\"date\": \"2018-04-26T00:00:00\", \"reversepriceavg\": 34655.73046875, \"shock\": 0}, {\"date\": \"2018-04-27T00:00:00\", \"reversepriceavg\": 34926.600260416664, \"shock\": 0}, {\"date\": \"2018-04-30T00:00:00\", \"reversepriceavg\": 35125.88671875, \"shock\": 0}, {\"date\": \"2018-05-02T00:00:00\", \"reversepriceavg\": 35201.997395833336, \"shock\": 0}, {\"date\": \"2018-05-03T00:00:00\", \"reversepriceavg\": 35126.842447916664, \"shock\": 0}, {\"date\": \"2018-05-04T00:00:00\", \"reversepriceavg\": 34989.846354166664, \"shock\": 0}, {\"date\": \"2018-05-07T00:00:00\", \"reversepriceavg\": 35148.5625, \"shock\": 0}, {\"date\": \"2018-05-08T00:00:00\", \"reversepriceavg\": 35247.067708333336, \"shock\": 0}, {\"date\": \"2018-05-09T00:00:00\", \"reversepriceavg\": 35286.126302083336, \"shock\": 0}, {\"date\": \"2018-05-10T00:00:00\", \"reversepriceavg\": 35316.9609375, \"shock\": 0}, {\"date\": \"2018-05-11T00:00:00\", \"reversepriceavg\": 35464.665364583336, \"shock\": 0}, {\"date\": \"2018-05-14T00:00:00\", \"reversepriceavg\": 35551.99609375, \"shock\": 0}, {\"date\": \"2018-05-15T00:00:00\", \"reversepriceavg\": 35678.46484375, \"shock\": 0}, {\"date\": \"2018-05-16T00:00:00\", \"reversepriceavg\": 35391.1328125, \"shock\": 0}, {\"date\": \"2018-05-17T00:00:00\", \"reversepriceavg\": 35248.984375, \"shock\": 0}, {\"date\": \"2018-05-18T00:00:00\", \"reversepriceavg\": 34944.34375, \"shock\": 0}, {\"date\": \"2018-05-21T00:00:00\", \"reversepriceavg\": 34727.966145833336, \"shock\": 0}, {\"date\": \"2018-05-22T00:00:00\", \"reversepriceavg\": 34652.01953125, \"shock\": 0}, {\"date\": \"2018-05-23T00:00:00\", \"reversepriceavg\": 34438.756510416664, \"shock\": 0}, {\"date\": \"2018-05-24T00:00:00\", \"reversepriceavg\": 34590.799479166664, \"shock\": 0}, {\"date\": \"2018-05-25T00:00:00\", \"reversepriceavg\": 34881.106770833336, \"shock\": 0}, {\"date\": \"2018-05-28T00:00:00\", \"reversepriceavg\": 35137.647135416664, \"shock\": 0}, {\"date\": \"2018-05-29T00:00:00\", \"reversepriceavg\": 35035.186197916664, \"shock\": 0}, {\"date\": \"2018-05-30T00:00:00\", \"reversepriceavg\": 34886.22265625, \"shock\": 0}, {\"date\": \"2018-05-31T00:00:00\", \"reversepriceavg\": 35221.49609375, \"shock\": 0}, {\"date\": \"2018-06-01T00:00:00\", \"reversepriceavg\": 35280.944010416664, \"shock\": 0}, {\"date\": \"2018-06-04T00:00:00\", \"reversepriceavg\": 35183.243489583336, \"shock\": 0}, {\"date\": \"2018-06-05T00:00:00\", \"reversepriceavg\": 34920.337239583336, \"shock\": 0}, {\"date\": \"2018-06-06T00:00:00\", \"reversepriceavg\": 35101.9296875, \"shock\": 0}, {\"date\": \"2018-06-07T00:00:00\", \"reversepriceavg\": 35456.6484375, \"shock\": 0}, {\"date\": \"2018-06-08T00:00:00\", \"reversepriceavg\": 35396.204427083336, \"shock\": 0}, {\"date\": \"2018-06-11T00:00:00\", \"reversepriceavg\": 35544.265625, \"shock\": 0}, {\"date\": \"2018-06-12T00:00:00\", \"reversepriceavg\": 35638.22265625, \"shock\": 0}, {\"date\": \"2018-06-13T00:00:00\", \"reversepriceavg\": 35777.510416666664, \"shock\": 0}, {\"date\": \"2018-06-14T00:00:00\", \"reversepriceavg\": 35612.75, \"shock\": 0}, {\"date\": \"2018-06-15T00:00:00\", \"reversepriceavg\": 35572.33984375, \"shock\": 0}, {\"date\": \"2018-06-18T00:00:00\", \"reversepriceavg\": 35596.180989583336, \"shock\": 0}, {\"date\": \"2018-06-19T00:00:00\", \"reversepriceavg\": 35362.755208333336, \"shock\": 0}, {\"date\": \"2018-06-20T00:00:00\", \"reversepriceavg\": 35482.736979166664, \"shock\": 0}, {\"date\": \"2018-06-21T00:00:00\", \"reversepriceavg\": 35502.68359375, \"shock\": 0}, {\"date\": \"2018-06-22T00:00:00\", \"reversepriceavg\": 35591.783854166664, \"shock\": 0}, {\"date\": \"2018-06-25T00:00:00\", \"reversepriceavg\": 35569.143229166664, \"shock\": 0}, {\"date\": \"2018-06-26T00:00:00\", \"reversepriceavg\": 35481.58984375, \"shock\": 0}, {\"date\": \"2018-06-27T00:00:00\", \"reversepriceavg\": 35330.057291666664, \"shock\": 0}, {\"date\": \"2018-06-28T00:00:00\", \"reversepriceavg\": 35085.729166666664, \"shock\": 0}, {\"date\": \"2018-06-29T00:00:00\", \"reversepriceavg\": 35327.393229166664, \"shock\": 0}, {\"date\": \"2018-07-02T00:00:00\", \"reversepriceavg\": 35316.40625, \"shock\": 0}, {\"date\": \"2018-07-03T00:00:00\", \"reversepriceavg\": 35339.813802083336, \"shock\": 0}, {\"date\": \"2018-07-04T00:00:00\", \"reversepriceavg\": 35540.79296875, \"shock\": 0}, {\"date\": \"2018-07-05T00:00:00\", \"reversepriceavg\": 35613.533854166664, \"shock\": 0}, {\"date\": \"2018-07-06T00:00:00\", \"reversepriceavg\": 35663.260416666664, \"shock\": 0}, {\"date\": \"2018-07-09T00:00:00\", \"reversepriceavg\": 35897.26953125, \"shock\": 0}, {\"date\": \"2018-07-10T00:00:00\", \"reversepriceavg\": 36177.859375, \"shock\": 0}, {\"date\": \"2018-07-11T00:00:00\", \"reversepriceavg\": 36265.9765625, \"shock\": 0}, {\"date\": \"2018-07-12T00:00:00\", \"reversepriceavg\": 36556.673177083336, \"shock\": 0}, {\"date\": \"2018-07-13T00:00:00\", \"reversepriceavg\": 36594.436197916664, \"shock\": 0}, {\"date\": \"2018-07-16T00:00:00\", \"reversepriceavg\": 36427.140625, \"shock\": 0}, {\"date\": \"2018-07-17T00:00:00\", \"reversepriceavg\": 36443.764322916664, \"shock\": 0}, {\"date\": \"2018-07-18T00:00:00\", \"reversepriceavg\": 36480.744791666664, \"shock\": 0}, {\"date\": \"2018-07-19T00:00:00\", \"reversepriceavg\": 36382.045572916664, \"shock\": 0}, {\"date\": \"2018-07-20T00:00:00\", \"reversepriceavg\": 36466.440104166664, \"shock\": 0}, {\"date\": \"2018-07-23T00:00:00\", \"reversepriceavg\": 36653.373697916664, \"shock\": 0}, {\"date\": \"2018-07-24T00:00:00\", \"reversepriceavg\": 36812.29296875, \"shock\": 0}, {\"date\": \"2018-07-25T00:00:00\", \"reversepriceavg\": 36869.51953125, \"shock\": 0}, {\"date\": \"2018-07-26T00:00:00\", \"reversepriceavg\": 36966.264322916664, \"shock\": 0}, {\"date\": \"2018-07-27T00:00:00\", \"reversepriceavg\": 37280.1171875, \"shock\": 0}, {\"date\": \"2018-07-30T00:00:00\", \"reversepriceavg\": 37440.115885416664, \"shock\": 0}, {\"date\": \"2018-07-31T00:00:00\", \"reversepriceavg\": 37516.639322916664, \"shock\": 0}, {\"date\": \"2018-08-01T00:00:00\", \"reversepriceavg\": 37555.467447916664, \"shock\": 0}, {\"date\": \"2018-08-02T00:00:00\", \"reversepriceavg\": 37274.61328125, \"shock\": 0}, {\"date\": \"2018-08-03T00:00:00\", \"reversepriceavg\": 37486.013020833336, \"shock\": 0}, {\"date\": \"2018-08-06T00:00:00\", \"reversepriceavg\": 37713.4765625, \"shock\": 0}, {\"date\": \"2018-08-07T00:00:00\", \"reversepriceavg\": 37709.850260416664, \"shock\": 0}, {\"date\": \"2018-08-08T00:00:00\", \"reversepriceavg\": 37820.126302083336, \"shock\": 0}, {\"date\": \"2018-08-09T00:00:00\", \"reversepriceavg\": 38013.294270833336, \"shock\": 0}, {\"date\": \"2018-08-10T00:00:00\", \"reversepriceavg\": 37912.143229166664, \"shock\": 0}, {\"date\": \"2018-08-13T00:00:00\", \"reversepriceavg\": 37667.899739583336, \"shock\": 0}, {\"date\": \"2018-08-14T00:00:00\", \"reversepriceavg\": 37824.703125, \"shock\": 0}, {\"date\": \"2018-08-16T00:00:00\", \"reversepriceavg\": 37729.869791666664, \"shock\": 0}, {\"date\": \"2018-08-17T00:00:00\", \"reversepriceavg\": 37936.786458333336, \"shock\": 0}, {\"date\": \"2018-08-20T00:00:00\", \"reversepriceavg\": 38223.377604166664, \"shock\": 0}, {\"date\": \"2018-08-21T00:00:00\", \"reversepriceavg\": 38300.860677083336, \"shock\": 0}, {\"date\": \"2018-08-23T00:00:00\", \"reversepriceavg\": 38350.583333333336, \"shock\": 0}, {\"date\": \"2018-08-24T00:00:00\", \"reversepriceavg\": 38284.690104166664, \"shock\": 0}, {\"date\": \"2018-08-27T00:00:00\", \"reversepriceavg\": 38615.90625, \"shock\": 0}, {\"date\": \"2018-08-28T00:00:00\", \"reversepriceavg\": 38865.372395833336, \"shock\": 0}, {\"date\": \"2018-08-29T00:00:00\", \"reversepriceavg\": 38797.3828125, \"shock\": 0}, {\"date\": \"2018-08-30T00:00:00\", \"reversepriceavg\": 38696.99609375, \"shock\": 0}, {\"date\": \"2018-08-31T00:00:00\", \"reversepriceavg\": 38681.91015625, \"shock\": 0}, {\"date\": \"2018-09-03T00:00:00\", \"reversepriceavg\": 38505.627604166664, \"shock\": 0}, {\"date\": \"2018-09-04T00:00:00\", \"reversepriceavg\": 38258.360677083336, \"shock\": 0}, {\"date\": \"2018-09-05T00:00:00\", \"reversepriceavg\": 38014.446614583336, \"shock\": 0}, {\"date\": \"2018-09-06T00:00:00\", \"reversepriceavg\": 38158.756510416664, \"shock\": 0}, {\"date\": \"2018-09-07T00:00:00\", \"reversepriceavg\": 38292.865885416664, \"shock\": 0}, {\"date\": \"2018-09-10T00:00:00\", \"reversepriceavg\": 38053.173177083336, \"shock\": 0}, {\"date\": \"2018-09-11T00:00:00\", \"reversepriceavg\": 37605.865885416664, \"shock\": 0}, {\"date\": \"2018-09-12T00:00:00\", \"reversepriceavg\": 37604.1796875, \"shock\": 0}, {\"date\": \"2018-09-14T00:00:00\", \"reversepriceavg\": 38025.260416666664, \"shock\": 0}, {\"date\": \"2018-09-17T00:00:00\", \"reversepriceavg\": 37720.75, \"shock\": 0}, {\"date\": \"2018-09-18T00:00:00\", \"reversepriceavg\": 37426.321614583336, \"shock\": 0}, {\"date\": \"2018-09-19T00:00:00\", \"reversepriceavg\": 37238.1796875, \"shock\": 0}, {\"date\": \"2018-09-21T00:00:00\", \"reversepriceavg\": 36774.826822916664, \"shock\": 0}, {\"date\": \"2018-09-24T00:00:00\", \"reversepriceavg\": 36489.15625, \"shock\": 0}, {\"date\": \"2018-09-25T00:00:00\", \"reversepriceavg\": 36473.983072916664, \"shock\": 0}, {\"date\": \"2018-09-26T00:00:00\", \"reversepriceavg\": 36612.979166666664, \"shock\": 0}, {\"date\": \"2018-09-27T00:00:00\", \"reversepriceavg\": 36424.674479166664, \"shock\": 0}, {\"date\": \"2018-09-28T00:00:00\", \"reversepriceavg\": 36254.876302083336, \"shock\": 0}, {\"date\": \"2018-10-01T00:00:00\", \"reversepriceavg\": 36367.809895833336, \"shock\": 0}, {\"date\": \"2018-10-03T00:00:00\", \"reversepriceavg\": 36163.43359375, \"shock\": 1}, {\"date\": \"2018-10-04T00:00:00\", \"reversepriceavg\": 35337.270833333336, \"shock\": 1}, {\"date\": \"2018-10-05T00:00:00\", \"reversepriceavg\": 34565.915364583336, \"shock\": 0}, {\"date\": \"2018-10-08T00:00:00\", \"reversepriceavg\": 34361.822916666664, \"shock\": 0}, {\"date\": \"2018-10-09T00:00:00\", \"reversepriceavg\": 34414.8828125, \"shock\": 0}, {\"date\": \"2018-10-10T00:00:00\", \"reversepriceavg\": 34655.247395833336, \"shock\": 0}, {\"date\": \"2018-10-11T00:00:00\", \"reversepriceavg\": 34016.619791666664, \"shock\": 0}, {\"date\": \"2018-10-12T00:00:00\", \"reversepriceavg\": 34607.260416666664, \"shock\": 0}, {\"date\": \"2018-10-15T00:00:00\", \"reversepriceavg\": 34811.243489583336, \"shock\": 0}, {\"date\": \"2018-10-16T00:00:00\", \"reversepriceavg\": 35097.109375, \"shock\": 0}, {\"date\": \"2018-10-17T00:00:00\", \"reversepriceavg\": 35037.389322916664, \"shock\": 1}, {\"date\": \"2018-10-19T00:00:00\", \"reversepriceavg\": 34339.74609375, \"shock\": 0}, {\"date\": \"2018-10-22T00:00:00\", \"reversepriceavg\": 34321.944010416664, \"shock\": 0}, {\"date\": \"2018-10-23T00:00:00\", \"reversepriceavg\": 33887.967447916664, \"shock\": 0}, {\"date\": \"2018-10-24T00:00:00\", \"reversepriceavg\": 34020.333333333336, \"shock\": 0}, {\"date\": \"2018-10-25T00:00:00\", \"reversepriceavg\": 33694.010416666664, \"shock\": 0}, {\"date\": \"2018-10-26T00:00:00\", \"reversepriceavg\": 33472.5625, \"shock\": 0}, {\"date\": \"2018-10-29T00:00:00\", \"reversepriceavg\": 33854.600260416664, \"shock\": 0}, {\"date\": \"2018-10-30T00:00:00\", \"reversepriceavg\": 33955.759114583336, \"shock\": 0}, {\"date\": \"2018-10-31T00:00:00\", \"reversepriceavg\": 34164.22265625, \"shock\": 0}, {\"date\": \"2018-11-01T00:00:00\", \"reversepriceavg\": 34471.759114583336, \"shock\": 0}, {\"date\": \"2018-11-02T00:00:00\", \"reversepriceavg\": 34950.549479166664, \"shock\": 0}, {\"date\": \"2018-11-05T00:00:00\", \"reversepriceavg\": 34961.977864583336, \"shock\": 0}, {\"date\": \"2018-11-06T00:00:00\", \"reversepriceavg\": 35025.88671875, \"shock\": 0}, {\"date\": \"2018-11-07T00:00:00\", \"reversepriceavg\": 35241.033854166664, \"shock\": 0}, {\"date\": \"2018-11-09T00:00:00\", \"reversepriceavg\": 35152.356770833336, \"shock\": 0}, {\"date\": \"2018-11-12T00:00:00\", \"reversepriceavg\": 34967.669270833336, \"shock\": 0}, {\"date\": \"2018-11-13T00:00:00\", \"reversepriceavg\": 35001.479166666664, \"shock\": 0}, {\"date\": \"2018-11-14T00:00:00\", \"reversepriceavg\": 35160.2421875, \"shock\": 0}, {\"date\": \"2018-11-15T00:00:00\", \"reversepriceavg\": 35260.3203125, \"shock\": 0}, {\"date\": \"2018-11-16T00:00:00\", \"reversepriceavg\": 35442.4609375, \"shock\": 0}, {\"date\": \"2018-11-19T00:00:00\", \"reversepriceavg\": 35701.602864583336, \"shock\": 0}, {\"date\": \"2018-11-20T00:00:00\", \"reversepriceavg\": 35540.787760416664, \"shock\": 0}, {\"date\": \"2018-11-21T00:00:00\", \"reversepriceavg\": 35268.846354166664, \"shock\": 0}, {\"date\": \"2018-11-22T00:00:00\", \"reversepriceavg\": 35094.5, \"shock\": 0}, {\"date\": \"2018-11-26T00:00:00\", \"reversepriceavg\": 35215.795572916664, \"shock\": 0}, {\"date\": \"2018-11-27T00:00:00\", \"reversepriceavg\": 35443.756510416664, \"shock\": 0}, {\"date\": \"2018-11-28T00:00:00\", \"reversepriceavg\": 35714.81640625, \"shock\": 0}, {\"date\": \"2018-11-29T00:00:00\", \"reversepriceavg\": 36123.5, \"shock\": 0}, {\"date\": \"2018-11-30T00:00:00\", \"reversepriceavg\": 36222.162760416664, \"shock\": 0}, {\"date\": \"2018-12-03T00:00:00\", \"reversepriceavg\": 36262.279947916664, \"shock\": 0}, {\"date\": \"2018-12-04T00:00:00\", \"reversepriceavg\": 36155.513020833336, \"shock\": 0}, {\"date\": \"2018-12-05T00:00:00\", \"reversepriceavg\": 35903.622395833336, \"shock\": 0}, {\"date\": \"2018-12-06T00:00:00\", \"reversepriceavg\": 35428.70703125, \"shock\": 0}, {\"date\": \"2018-12-07T00:00:00\", \"reversepriceavg\": 35593.856770833336, \"shock\": 0}, {\"date\": \"2018-12-10T00:00:00\", \"reversepriceavg\": 35040.819010416664, \"shock\": 0}, {\"date\": \"2018-12-11T00:00:00\", \"reversepriceavg\": 34927.876302083336, \"shock\": 0}, {\"date\": \"2018-12-12T00:00:00\", \"reversepriceavg\": 35591.0390625, \"shock\": 0}, {\"date\": \"2018-12-13T00:00:00\", \"reversepriceavg\": 35939.903645833336, \"shock\": 0}, {\"date\": \"2018-12-14T00:00:00\", \"reversepriceavg\": 35931.93359375, \"shock\": 0}, {\"date\": \"2018-12-17T00:00:00\", \"reversepriceavg\": 36235.333333333336, \"shock\": 0}, {\"date\": \"2018-12-18T00:00:00\", \"reversepriceavg\": 36256.325520833336, \"shock\": 0}, {\"date\": \"2018-12-19T00:00:00\", \"reversepriceavg\": 36473.729166666664, \"shock\": 0}, {\"date\": \"2018-12-20T00:00:00\", \"reversepriceavg\": 36370.029947916664, \"shock\": 0}, {\"date\": \"2018-12-21T00:00:00\", \"reversepriceavg\": 35973.432291666664, \"shock\": 0}, {\"date\": \"2018-12-24T00:00:00\", \"reversepriceavg\": 35601.352864583336, \"shock\": 0}, {\"date\": \"2018-12-26T00:00:00\", \"reversepriceavg\": 35457.341145833336, \"shock\": 0}, {\"date\": \"2018-12-27T00:00:00\", \"reversepriceavg\": 35876.822916666664, \"shock\": 0}, {\"date\": \"2018-12-28T00:00:00\", \"reversepriceavg\": 36061.162760416664, \"shock\": 0}, {\"date\": \"2018-12-31T00:00:00\", \"reversepriceavg\": 36129.24609375, \"shock\": 0}, {\"date\": \"2019-01-02T00:00:00\", \"reversepriceavg\": 35954.076822916664, \"shock\": 0}, {\"date\": \"2019-01-03T00:00:00\", \"reversepriceavg\": 35662.98046875, \"shock\": 0}, {\"date\": \"2019-01-04T00:00:00\", \"reversepriceavg\": 35607.126302083336, \"shock\": 0}, {\"date\": \"2019-01-07T00:00:00\", \"reversepriceavg\": 35912.11328125, \"shock\": 0}, {\"date\": \"2019-01-08T00:00:00\", \"reversepriceavg\": 35924.076822916664, \"shock\": 0}, {\"date\": \"2019-01-09T00:00:00\", \"reversepriceavg\": 36108.912760416664, \"shock\": 0}, {\"date\": \"2019-01-10T00:00:00\", \"reversepriceavg\": 36148.856770833336, \"shock\": 0}, {\"date\": \"2019-01-11T00:00:00\", \"reversepriceavg\": 36021.567708333336, \"shock\": 0}, {\"date\": \"2019-01-14T00:00:00\", \"reversepriceavg\": 35890.083333333336, \"shock\": 0}, {\"date\": \"2019-01-15T00:00:00\", \"reversepriceavg\": 36205.904947916664, \"shock\": 0}, {\"date\": \"2019-01-16T00:00:00\", \"reversepriceavg\": 36353.9765625, \"shock\": 0}, {\"date\": \"2019-01-17T00:00:00\", \"reversepriceavg\": 36337.766927083336, \"shock\": 0}, {\"date\": \"2019-01-18T00:00:00\", \"reversepriceavg\": 36358.305989583336, \"shock\": 0}, {\"date\": \"2019-01-21T00:00:00\", \"reversepriceavg\": 36543.920572916664, \"shock\": 0}, {\"date\": \"2019-01-22T00:00:00\", \"reversepriceavg\": 36459.346354166664, \"shock\": 0}, {\"date\": \"2019-01-23T00:00:00\", \"reversepriceavg\": 36222.611979166664, \"shock\": 0}, {\"date\": \"2019-01-24T00:00:00\", \"reversepriceavg\": 36150.020833333336, \"shock\": 0}, {\"date\": \"2019-01-25T00:00:00\", \"reversepriceavg\": 36151.055989583336, \"shock\": 0}, {\"date\": \"2019-01-28T00:00:00\", \"reversepriceavg\": 35782.036458333336, \"shock\": 0}, {\"date\": \"2019-01-29T00:00:00\", \"reversepriceavg\": 35567.384114583336, \"shock\": 0}, {\"date\": \"2019-01-30T00:00:00\", \"reversepriceavg\": 35644.209635416664, \"shock\": 0}, {\"date\": \"2019-01-31T00:00:00\", \"reversepriceavg\": 36091.630208333336, \"shock\": 0}, {\"date\": \"2019-02-01T00:00:00\", \"reversepriceavg\": 36489.630208333336, \"shock\": 0}, {\"date\": \"2019-02-04T00:00:00\", \"reversepriceavg\": 36476.99609375, \"shock\": 0}, {\"date\": \"2019-02-05T00:00:00\", \"reversepriceavg\": 36613.48828125, \"shock\": 0}, {\"date\": \"2019-02-06T00:00:00\", \"reversepriceavg\": 36887.119791666664, \"shock\": 0}, {\"date\": \"2019-02-07T00:00:00\", \"reversepriceavg\": 37014.0234375, \"shock\": 0}, {\"date\": \"2019-02-08T00:00:00\", \"reversepriceavg\": 36637.559895833336, \"shock\": 0}, {\"date\": \"2019-02-11T00:00:00\", \"reversepriceavg\": 36427.973958333336, \"shock\": 0}, {\"date\": \"2019-02-12T00:00:00\", \"reversepriceavg\": 36244.309895833336, \"shock\": 0}, {\"date\": \"2019-02-14T00:00:00\", \"reversepriceavg\": 35928.247395833336, \"shock\": 0}, {\"date\": \"2019-02-15T00:00:00\", \"reversepriceavg\": 35780.829427083336, \"shock\": 0}, {\"date\": \"2019-02-18T00:00:00\", \"reversepriceavg\": 35627.21484375, \"shock\": 0}, {\"date\": \"2019-02-19T00:00:00\", \"reversepriceavg\": 35471.936197916664, \"shock\": 0}, {\"date\": \"2019-02-20T00:00:00\", \"reversepriceavg\": 35674.286458333336, \"shock\": 0}, {\"date\": \"2019-02-21T00:00:00\", \"reversepriceavg\": 35862.903645833336, \"shock\": 0}, {\"date\": \"2019-02-22T00:00:00\", \"reversepriceavg\": 35869.653645833336, \"shock\": 0}, {\"date\": \"2019-02-25T00:00:00\", \"reversepriceavg\": 36118.872395833336, \"shock\": 0}, {\"date\": \"2019-02-26T00:00:00\", \"reversepriceavg\": 35953.463541666664, \"shock\": 0}, {\"date\": \"2019-02-27T00:00:00\", \"reversepriceavg\": 36003.955729166664, \"shock\": 0}, {\"date\": \"2019-02-28T00:00:00\", \"reversepriceavg\": 35927.48046875, \"shock\": 0}, {\"date\": \"2019-03-01T00:00:00\", \"reversepriceavg\": 36052.296875, \"shock\": 0}, {\"date\": \"2019-03-05T00:00:00\", \"reversepriceavg\": 36275.640625, \"shock\": 0}, {\"date\": \"2019-03-06T00:00:00\", \"reversepriceavg\": 36586.463541666664, \"shock\": 0}, {\"date\": \"2019-03-07T00:00:00\", \"reversepriceavg\": 36715.516927083336, \"shock\": 0}, {\"date\": \"2019-03-08T00:00:00\", \"reversepriceavg\": 36672.649739583336, \"shock\": 0}, {\"date\": \"2019-03-11T00:00:00\", \"reversepriceavg\": 36962.227864583336, \"shock\": 0}, {\"date\": \"2019-03-12T00:00:00\", \"reversepriceavg\": 37451.046875, \"shock\": 0}, {\"date\": \"2019-03-13T00:00:00\", \"reversepriceavg\": 37676.110677083336, \"shock\": 0}, {\"date\": \"2019-03-14T00:00:00\", \"reversepriceavg\": 37785.454427083336, \"shock\": 0}, {\"date\": \"2019-03-15T00:00:00\", \"reversepriceavg\": 38013.106770833336, \"shock\": 0}, {\"date\": \"2019-03-18T00:00:00\", \"reversepriceavg\": 38138.920572916664, \"shock\": 0}, {\"date\": \"2019-03-19T00:00:00\", \"reversepriceavg\": 38279.252604166664, \"shock\": 0}, {\"date\": \"2019-03-20T00:00:00\", \"reversepriceavg\": 38397.58984375, \"shock\": 0}, {\"date\": \"2019-03-22T00:00:00\", \"reversepriceavg\": 38272.893229166664, \"shock\": 0}, {\"date\": \"2019-03-25T00:00:00\", \"reversepriceavg\": 37831.0234375, \"shock\": 0}, {\"date\": \"2019-03-26T00:00:00\", \"reversepriceavg\": 38110.395833333336, \"shock\": 0}, {\"date\": \"2019-03-27T00:00:00\", \"reversepriceavg\": 38203.3828125, \"shock\": 0}, {\"date\": \"2019-03-28T00:00:00\", \"reversepriceavg\": 38429.26953125, \"shock\": 0}, {\"date\": \"2019-04-01T00:00:00\", \"reversepriceavg\": 38932.059895833336, \"shock\": 0}, {\"date\": \"2019-04-02T00:00:00\", \"reversepriceavg\": 39008.43359375, \"shock\": 0}, {\"date\": \"2019-04-03T00:00:00\", \"reversepriceavg\": 38991.2734375, \"shock\": 0}, {\"date\": \"2019-04-04T00:00:00\", \"reversepriceavg\": 38735.036458333336, \"shock\": 0}, {\"date\": \"2019-04-05T00:00:00\", \"reversepriceavg\": 38840.623697916664, \"shock\": 0}, {\"date\": \"2019-04-08T00:00:00\", \"reversepriceavg\": 38754.247395833336, \"shock\": 0}, {\"date\": \"2019-04-09T00:00:00\", \"reversepriceavg\": 38838.975260416664, \"shock\": 0}, {\"date\": \"2019-04-10T00:00:00\", \"reversepriceavg\": 38692.694010416664, \"shock\": 0}, {\"date\": \"2019-04-11T00:00:00\", \"reversepriceavg\": 38572.4140625, \"shock\": 0}, {\"date\": \"2019-04-12T00:00:00\", \"reversepriceavg\": 38713.58984375, \"shock\": 0}, {\"date\": \"2019-04-15T00:00:00\", \"reversepriceavg\": 38887.498697916664, \"shock\": 0}, {\"date\": \"2019-04-16T00:00:00\", \"reversepriceavg\": 39226.263020833336, \"shock\": 0}, {\"date\": \"2019-04-18T00:00:00\", \"reversepriceavg\": 39236.963541666664, \"shock\": 0}, {\"date\": \"2019-04-22T00:00:00\", \"reversepriceavg\": 38796.348958333336, \"shock\": 0}, {\"date\": \"2019-04-23T00:00:00\", \"reversepriceavg\": 38638.583333333336, \"shock\": 0}, {\"date\": \"2019-04-24T00:00:00\", \"reversepriceavg\": 38907.010416666664, \"shock\": 0}, {\"date\": \"2019-04-25T00:00:00\", \"reversepriceavg\": 38885.686197916664, \"shock\": 0}, {\"date\": \"2019-04-26T00:00:00\", \"reversepriceavg\": 38978.60546875, \"shock\": 0}, {\"date\": \"2019-04-30T00:00:00\", \"reversepriceavg\": 38963.630208333336, \"shock\": 0}, {\"date\": \"2019-05-02T00:00:00\", \"reversepriceavg\": 39018.122395833336, \"shock\": 0}, {\"date\": \"2019-05-03T00:00:00\", \"reversepriceavg\": 39018.731770833336, \"shock\": 0}, {\"date\": \"2019-05-06T00:00:00\", \"reversepriceavg\": 38609.819010416664, \"shock\": 0}, {\"date\": \"2019-05-07T00:00:00\", \"reversepriceavg\": 38449.44921875, \"shock\": 0}, {\"date\": \"2019-05-08T00:00:00\", \"reversepriceavg\": 37926.923177083336, \"shock\": 0}, {\"date\": \"2019-05-09T00:00:00\", \"reversepriceavg\": 37581.58984375, \"shock\": 0}, {\"date\": \"2019-05-10T00:00:00\", \"reversepriceavg\": 37518.453125, \"shock\": 0}, {\"date\": \"2019-05-13T00:00:00\", \"reversepriceavg\": 37224.743489583336, \"shock\": 0}, {\"date\": \"2019-05-14T00:00:00\", \"reversepriceavg\": 37282.444010416664, \"shock\": 0}, {\"date\": \"2019-05-15T00:00:00\", \"reversepriceavg\": 37240.807291666664, \"shock\": 0}, {\"date\": \"2019-05-16T00:00:00\", \"reversepriceavg\": 37321.57421875, \"shock\": 0}, {\"date\": \"2019-05-17T00:00:00\", \"reversepriceavg\": 37782.419270833336, \"shock\": 0}, {\"date\": \"2019-05-20T00:00:00\", \"reversepriceavg\": 39111.756510416664, \"shock\": 0}, {\"date\": \"2019-05-21T00:00:00\", \"reversepriceavg\": 39142.127604166664, \"shock\": 0}, {\"date\": \"2019-05-22T00:00:00\", \"reversepriceavg\": 39087.720052083336, \"shock\": 0}, {\"date\": \"2019-05-23T00:00:00\", \"reversepriceavg\": 39195.986979166664, \"shock\": 0}, {\"date\": \"2019-05-24T00:00:00\", \"reversepriceavg\": 39245.31640625, \"shock\": 0}, {\"date\": \"2019-05-27T00:00:00\", \"reversepriceavg\": 39619.463541666664, \"shock\": 0}, {\"date\": \"2019-05-28T00:00:00\", \"reversepriceavg\": 39692.342447916664, \"shock\": 0}, {\"date\": \"2019-05-29T00:00:00\", \"reversepriceavg\": 39563.493489583336, \"shock\": 0}, {\"date\": \"2019-05-30T00:00:00\", \"reversepriceavg\": 39748.149739583336, \"shock\": 0}, {\"date\": \"2019-05-31T00:00:00\", \"reversepriceavg\": 39736.92578125, \"shock\": 0}, {\"date\": \"2019-06-03T00:00:00\", \"reversepriceavg\": 40095.846354166664, \"shock\": 0}, {\"date\": \"2019-06-04T00:00:00\", \"reversepriceavg\": 40142.220052083336, \"shock\": 0}, {\"date\": \"2019-06-06T00:00:00\", \"reversepriceavg\": 39723.376302083336, \"shock\": 0}, {\"date\": \"2019-06-07T00:00:00\", \"reversepriceavg\": 39532.822916666664, \"shock\": 0}, {\"date\": \"2019-06-10T00:00:00\", \"reversepriceavg\": 39794.65625, \"shock\": 0}, {\"date\": \"2019-06-11T00:00:00\", \"reversepriceavg\": 39925.596354166664, \"shock\": 0}, {\"date\": \"2019-06-12T00:00:00\", \"reversepriceavg\": 39787.48046875, \"shock\": 0}, {\"date\": \"2019-06-13T00:00:00\", \"reversepriceavg\": 39667.8125, \"shock\": 0}, {\"date\": \"2019-06-14T00:00:00\", \"reversepriceavg\": 39538.47265625, \"shock\": 0}, {\"date\": \"2019-06-17T00:00:00\", \"reversepriceavg\": 39137.56640625, \"shock\": 0}, {\"date\": \"2019-06-18T00:00:00\", \"reversepriceavg\": 39028.376302083336, \"shock\": 0}, {\"date\": \"2019-06-19T00:00:00\", \"reversepriceavg\": 39143.196614583336, \"shock\": 0}, {\"date\": \"2019-06-20T00:00:00\", \"reversepriceavg\": 39391.350260416664, \"shock\": 0}, {\"date\": \"2019-06-21T00:00:00\", \"reversepriceavg\": 39311.24609375, \"shock\": 0}, {\"date\": \"2019-06-24T00:00:00\", \"reversepriceavg\": 39148.2265625, \"shock\": 0}, {\"date\": \"2019-06-25T00:00:00\", \"reversepriceavg\": 39290.540364583336, \"shock\": 0}, {\"date\": \"2019-06-26T00:00:00\", \"reversepriceavg\": 39528.645833333336, \"shock\": 0}, {\"date\": \"2019-06-27T00:00:00\", \"reversepriceavg\": 39638.0234375, \"shock\": 0}, {\"date\": \"2019-06-28T00:00:00\", \"reversepriceavg\": 39477.270833333336, \"shock\": 0}, {\"date\": \"2019-07-01T00:00:00\", \"reversepriceavg\": 39664.13671875, \"shock\": 0}, {\"date\": \"2019-07-02T00:00:00\", \"reversepriceavg\": 39718.053385416664, \"shock\": 0}, {\"date\": \"2019-07-03T00:00:00\", \"reversepriceavg\": 39835.5390625, \"shock\": 0}, {\"date\": \"2019-07-04T00:00:00\", \"reversepriceavg\": 39915.162760416664, \"shock\": 0}, {\"date\": \"2019-07-05T00:00:00\", \"reversepriceavg\": 39662.393229166664, \"shock\": 0}, {\"date\": \"2019-07-08T00:00:00\", \"reversepriceavg\": 38934.143229166664, \"shock\": 0}, {\"date\": \"2019-07-09T00:00:00\", \"reversepriceavg\": 38660.307291666664, \"shock\": 0}, {\"date\": \"2019-07-10T00:00:00\", \"reversepriceavg\": 38628.850260416664, \"shock\": 0}, {\"date\": \"2019-07-11T00:00:00\", \"reversepriceavg\": 38782.305989583336, \"shock\": 0}, {\"date\": \"2019-07-12T00:00:00\", \"reversepriceavg\": 38814.307291666664, \"shock\": 0}, {\"date\": \"2019-07-15T00:00:00\", \"reversepriceavg\": 38872.427083333336, \"shock\": 0}, {\"date\": \"2019-07-16T00:00:00\", \"reversepriceavg\": 39050.06640625, \"shock\": 0}, {\"date\": \"2019-07-17T00:00:00\", \"reversepriceavg\": 39193.837239583336, \"shock\": 0}, {\"date\": \"2019-07-18T00:00:00\", \"reversepriceavg\": 38987.7265625, \"shock\": 0}, {\"date\": \"2019-07-19T00:00:00\", \"reversepriceavg\": 38555.697916666664, \"shock\": 0}, {\"date\": \"2019-07-22T00:00:00\", \"reversepriceavg\": 38084.989583333336, \"shock\": 0}, {\"date\": \"2019-07-23T00:00:00\", \"reversepriceavg\": 38033.1484375, \"shock\": 0}, {\"date\": \"2019-07-24T00:00:00\", \"reversepriceavg\": 37886.299479166664, \"shock\": 0}, {\"date\": \"2019-07-25T00:00:00\", \"reversepriceavg\": 37925.454427083336, \"shock\": 0}, {\"date\": \"2019-07-26T00:00:00\", \"reversepriceavg\": 37850.442708333336, \"shock\": 0}, {\"date\": \"2019-07-29T00:00:00\", \"reversepriceavg\": 37749.583333333336, \"shock\": 0}, {\"date\": \"2019-07-30T00:00:00\", \"reversepriceavg\": 37568.826822916664, \"shock\": 0}, {\"date\": \"2019-07-31T00:00:00\", \"reversepriceavg\": 37395.251302083336, \"shock\": 0}, {\"date\": \"2019-08-01T00:00:00\", \"reversepriceavg\": 37033.2265625, \"shock\": 0}, {\"date\": \"2019-08-02T00:00:00\", \"reversepriceavg\": 37033.596354166664, \"shock\": 0}, {\"date\": \"2019-08-05T00:00:00\", \"reversepriceavg\": 36653.559895833336, \"shock\": 0}, {\"date\": \"2019-08-06T00:00:00\", \"reversepriceavg\": 36918.403645833336, \"shock\": 0}, {\"date\": \"2019-08-07T00:00:00\", \"reversepriceavg\": 36801.953125, \"shock\": 0}, {\"date\": \"2019-08-08T00:00:00\", \"reversepriceavg\": 37129.416666666664, \"shock\": 0}, {\"date\": \"2019-08-09T00:00:00\", \"reversepriceavg\": 37598.57421875, \"shock\": 0}, {\"date\": \"2019-08-13T00:00:00\", \"reversepriceavg\": 37200.602864583336, \"shock\": 0}, {\"date\": \"2019-08-14T00:00:00\", \"reversepriceavg\": 37261.970052083336, \"shock\": 0}, {\"date\": \"2019-08-16T00:00:00\", \"reversepriceavg\": 37256.395833333336, \"shock\": 0}, {\"date\": \"2019-08-19T00:00:00\", \"reversepriceavg\": 37493.28515625, \"shock\": 0}, {\"date\": \"2019-08-20T00:00:00\", \"reversepriceavg\": 37353.153645833336, \"shock\": 0}, {\"date\": \"2019-08-21T00:00:00\", \"reversepriceavg\": 37163.147135416664, \"shock\": 0}, {\"date\": \"2019-08-22T00:00:00\", \"reversepriceavg\": 36650.619791666664, \"shock\": 0}, {\"date\": \"2019-08-23T00:00:00\", \"reversepriceavg\": 36536.950520833336, \"shock\": 0}, {\"date\": \"2019-08-26T00:00:00\", \"reversepriceavg\": 37177.083333333336, \"shock\": 0}, {\"date\": \"2019-08-27T00:00:00\", \"reversepriceavg\": 37607.490885416664, \"shock\": 0}, {\"date\": \"2019-08-28T00:00:00\", \"reversepriceavg\": 37462.950520833336, \"shock\": 0}, {\"date\": \"2019-08-29T00:00:00\", \"reversepriceavg\": 37146.02734375, \"shock\": 0}, {\"date\": \"2019-08-30T00:00:00\", \"reversepriceavg\": 37186.85546875, \"shock\": 0}, {\"date\": \"2019-09-03T00:00:00\", \"reversepriceavg\": 36739.100260416664, \"shock\": 0}, {\"date\": \"2019-09-04T00:00:00\", \"reversepriceavg\": 36636.861979166664, \"shock\": 0}, {\"date\": \"2019-09-05T00:00:00\", \"reversepriceavg\": 36695.096354166664, \"shock\": 0}, {\"date\": \"2019-09-06T00:00:00\", \"reversepriceavg\": 36907.470052083336, \"shock\": 0}, {\"date\": \"2019-09-09T00:00:00\", \"reversepriceavg\": 37057.998697916664, \"shock\": 0}, {\"date\": \"2019-09-11T00:00:00\", \"reversepriceavg\": 37269.283854166664, \"shock\": 0}, {\"date\": \"2019-09-12T00:00:00\", \"reversepriceavg\": 37196.033854166664, \"shock\": 0}, {\"date\": \"2019-09-13T00:00:00\", \"reversepriceavg\": 37266.192708333336, \"shock\": 0}, {\"date\": \"2019-09-16T00:00:00\", \"reversepriceavg\": 37151.436197916664, \"shock\": 0}, {\"date\": \"2019-09-17T00:00:00\", \"reversepriceavg\": 36689.912760416664, \"shock\": 0}, {\"date\": \"2019-09-18T00:00:00\", \"reversepriceavg\": 36580.9296875, \"shock\": 0}, {\"date\": \"2019-09-19T00:00:00\", \"reversepriceavg\": 36231.733072916664, \"shock\": 0}, {\"date\": \"2019-09-20T00:00:00\", \"reversepriceavg\": 37492.79296875, \"shock\": 0}, {\"date\": \"2019-09-23T00:00:00\", \"reversepriceavg\": 39068.397135416664, \"shock\": 0}, {\"date\": \"2019-09-24T00:00:00\", \"reversepriceavg\": 39105.5234375, \"shock\": 0}, {\"date\": \"2019-09-25T00:00:00\", \"reversepriceavg\": 38730.5625, \"shock\": 0}, {\"date\": \"2019-09-26T00:00:00\", \"reversepriceavg\": 38941.305989583336, \"shock\": 0}, {\"date\": \"2019-09-27T00:00:00\", \"reversepriceavg\": 38904.180989583336, \"shock\": 0}, {\"date\": \"2019-09-30T00:00:00\", \"reversepriceavg\": 38647.1796875, \"shock\": 0}, {\"date\": \"2019-10-01T00:00:00\", \"reversepriceavg\": 38386.360677083336, \"shock\": 0}, {\"date\": \"2019-10-03T00:00:00\", \"reversepriceavg\": 38125.119791666664, \"shock\": 0}, {\"date\": \"2019-10-04T00:00:00\", \"reversepriceavg\": 37903.40234375, \"shock\": 0}, {\"date\": \"2019-10-07T00:00:00\", \"reversepriceavg\": 37643.993489583336, \"shock\": 0}, {\"date\": \"2019-10-09T00:00:00\", \"reversepriceavg\": 37934.5390625, \"shock\": 0}, {\"date\": \"2019-10-10T00:00:00\", \"reversepriceavg\": 37937.852864583336, \"shock\": 0}, {\"date\": \"2019-10-11T00:00:00\", \"reversepriceavg\": 38070.11328125, \"shock\": 0}, {\"date\": \"2019-10-14T00:00:00\", \"reversepriceavg\": 38264.763020833336, \"shock\": 0}, {\"date\": \"2019-10-15T00:00:00\", \"reversepriceavg\": 38459.850260416664, \"shock\": 0}, {\"date\": \"2019-10-16T00:00:00\", \"reversepriceavg\": 38560.6796875, \"shock\": 0}, {\"date\": \"2019-10-17T00:00:00\", \"reversepriceavg\": 38904.7265625, \"shock\": 0}, {\"date\": \"2019-10-18T00:00:00\", \"reversepriceavg\": 39207.6796875, \"shock\": 0}, {\"date\": \"2019-10-22T00:00:00\", \"reversepriceavg\": 39105.053385416664, \"shock\": 0}, {\"date\": \"2019-10-23T00:00:00\", \"reversepriceavg\": 39040.526041666664, \"shock\": 0}, {\"date\": \"2019-10-24T00:00:00\", \"reversepriceavg\": 39062.766927083336, \"shock\": 0}, {\"date\": \"2019-10-25T00:00:00\", \"reversepriceavg\": 39005.979166666664, \"shock\": 0}, {\"date\": \"2019-10-29T00:00:00\", \"reversepriceavg\": 39667.657552083336, \"shock\": 0}, {\"date\": \"2019-10-30T00:00:00\", \"reversepriceavg\": 40011.700520833336, \"shock\": 0}, {\"date\": \"2019-10-31T00:00:00\", \"reversepriceavg\": 40192.053385416664, \"shock\": 0}, {\"date\": \"2019-11-01T00:00:00\", \"reversepriceavg\": 40154.1875, \"shock\": 0}, {\"date\": \"2019-11-04T00:00:00\", \"reversepriceavg\": 40323.8203125, \"shock\": 0}, {\"date\": \"2019-11-05T00:00:00\", \"reversepriceavg\": 40256.110677083336, \"shock\": 0}, {\"date\": \"2019-11-06T00:00:00\", \"reversepriceavg\": 40371.407552083336, \"shock\": 0}, {\"date\": \"2019-11-07T00:00:00\", \"reversepriceavg\": 40587.692708333336, \"shock\": 0}, {\"date\": \"2019-11-08T00:00:00\", \"reversepriceavg\": 40445.626302083336, \"shock\": 0}, {\"date\": \"2019-11-11T00:00:00\", \"reversepriceavg\": 40304.49609375, \"shock\": 0}, {\"date\": \"2019-11-13T00:00:00\", \"reversepriceavg\": 40208.153645833336, \"shock\": 0}, {\"date\": \"2019-11-14T00:00:00\", \"reversepriceavg\": 40220.692708333336, \"shock\": 0}, {\"date\": \"2019-11-15T00:00:00\", \"reversepriceavg\": 40438.279947916664, \"shock\": 0}, {\"date\": \"2019-11-18T00:00:00\", \"reversepriceavg\": 40349.51953125, \"shock\": 0}, {\"date\": \"2019-11-19T00:00:00\", \"reversepriceavg\": 40434.6796875, \"shock\": 0}, {\"date\": \"2019-11-20T00:00:00\", \"reversepriceavg\": 40681.326822916664, \"shock\": 0}, {\"date\": \"2019-11-21T00:00:00\", \"reversepriceavg\": 40618.048177083336, \"shock\": 0}, {\"date\": \"2019-11-22T00:00:00\", \"reversepriceavg\": 40429.803385416664, \"shock\": 0}, {\"date\": \"2019-11-25T00:00:00\", \"reversepriceavg\": 40738.279947916664, \"shock\": 0}, {\"date\": \"2019-11-26T00:00:00\", \"reversepriceavg\": 40883.927083333336, \"shock\": 0}, {\"date\": \"2019-11-27T00:00:00\", \"reversepriceavg\": 40981.690104166664, \"shock\": 0}, {\"date\": \"2019-11-28T00:00:00\", \"reversepriceavg\": 41096.6796875, \"shock\": 0}, {\"date\": \"2019-11-29T00:00:00\", \"reversepriceavg\": 40867.069010416664, \"shock\": 0}, {\"date\": \"2019-12-02T00:00:00\", \"reversepriceavg\": 40867.9296875, \"shock\": 0}, {\"date\": \"2019-12-03T00:00:00\", \"reversepriceavg\": 40704.83984375, \"shock\": 0}, {\"date\": \"2019-12-04T00:00:00\", \"reversepriceavg\": 40737.662760416664, \"shock\": 0}, {\"date\": \"2019-12-05T00:00:00\", \"reversepriceavg\": 40834.057291666664, \"shock\": 0}, {\"date\": \"2019-12-06T00:00:00\", \"reversepriceavg\": 40578.26953125, \"shock\": 0}, {\"date\": \"2019-12-09T00:00:00\", \"reversepriceavg\": 40489.872395833336, \"shock\": 0}, {\"date\": \"2019-12-10T00:00:00\", \"reversepriceavg\": 40345.795572916664, \"shock\": 0}, {\"date\": \"2019-12-11T00:00:00\", \"reversepriceavg\": 40338.0234375, \"shock\": 0}, {\"date\": \"2019-12-12T00:00:00\", \"reversepriceavg\": 40595.016927083336, \"shock\": 0}, {\"date\": \"2019-12-13T00:00:00\", \"reversepriceavg\": 40934.0703125, \"shock\": 0}, {\"date\": \"2019-12-16T00:00:00\", \"reversepriceavg\": 41013.893229166664, \"shock\": 0}, {\"date\": \"2019-12-17T00:00:00\", \"reversepriceavg\": 41253.0, \"shock\": 0}, {\"date\": \"2019-12-18T00:00:00\", \"reversepriceavg\": 41510.602864583336, \"shock\": 0}, {\"date\": \"2019-12-19T00:00:00\", \"reversepriceavg\": 41616.536458333336, \"shock\": 0}, {\"date\": \"2019-12-20T00:00:00\", \"reversepriceavg\": 41709.203125, \"shock\": 0}, {\"date\": \"2019-12-23T00:00:00\", \"reversepriceavg\": 41606.296875, \"shock\": 0}, {\"date\": \"2019-12-24T00:00:00\", \"reversepriceavg\": 41529.104166666664, \"shock\": 0}, {\"date\": \"2019-12-26T00:00:00\", \"reversepriceavg\": 41280.151041666664, \"shock\": 0}, {\"date\": \"2019-12-27T00:00:00\", \"reversepriceavg\": 41483.77734375, \"shock\": 0}, {\"date\": \"2019-12-30T00:00:00\", \"reversepriceavg\": 41575.369791666664, \"shock\": 0}, {\"date\": \"2019-12-31T00:00:00\", \"reversepriceavg\": 41348.65234375, \"shock\": 0}, {\"date\": \"2020-01-02T00:00:00\", \"reversepriceavg\": 41534.79296875, \"shock\": 0}, {\"date\": \"2020-01-03T00:00:00\", \"reversepriceavg\": 41483.15625, \"shock\": 0}, {\"date\": \"2020-01-06T00:00:00\", \"reversepriceavg\": 40889.643229166664, \"shock\": 0}, {\"date\": \"2020-01-07T00:00:00\", \"reversepriceavg\": 40942.326822916664, \"shock\": 0}, {\"date\": \"2020-01-08T00:00:00\", \"reversepriceavg\": 40720.216145833336, \"shock\": 0}, {\"date\": \"2020-01-09T00:00:00\", \"reversepriceavg\": 41370.063802083336, \"shock\": 0}, {\"date\": \"2020-01-10T00:00:00\", \"reversepriceavg\": 41607.54296875, \"shock\": 0}, {\"date\": \"2020-01-13T00:00:00\", \"reversepriceavg\": 41826.694010416664, \"shock\": 0}, {\"date\": \"2020-01-14T00:00:00\", \"reversepriceavg\": 41905.9296875, \"shock\": 0}, {\"date\": \"2020-01-15T00:00:00\", \"reversepriceavg\": 41830.233072916664, \"shock\": 0}, {\"date\": \"2020-01-16T00:00:00\", \"reversepriceavg\": 41934.763020833336, \"shock\": 0}, {\"date\": \"2020-01-17T00:00:00\", \"reversepriceavg\": 41953.196614583336, \"shock\": 0}, {\"date\": \"2020-01-20T00:00:00\", \"reversepriceavg\": 41768.717447916664, \"shock\": 0}, {\"date\": \"2020-01-21T00:00:00\", \"reversepriceavg\": 41383.56640625, \"shock\": 0}, {\"date\": \"2020-01-22T00:00:00\", \"reversepriceavg\": 41235.569010416664, \"shock\": 0}, {\"date\": \"2020-01-23T00:00:00\", \"reversepriceavg\": 41299.756510416664, \"shock\": 0}, {\"date\": \"2020-01-24T00:00:00\", \"reversepriceavg\": 41528.608072916664, \"shock\": 0}, {\"date\": \"2020-01-27T00:00:00\", \"reversepriceavg\": 41264.623697916664, \"shock\": 0}, {\"date\": \"2020-01-28T00:00:00\", \"reversepriceavg\": 41056.619791666664, \"shock\": 0}, {\"date\": \"2020-01-29T00:00:00\", \"reversepriceavg\": 41213.903645833336, \"shock\": 0}, {\"date\": \"2020-01-30T00:00:00\", \"reversepriceavg\": 41041.290364583336, \"shock\": 0}, {\"date\": \"2020-01-31T00:00:00\", \"reversepriceavg\": 40849.662760416664, \"shock\": 1}, {\"date\": \"2020-02-03T00:00:00\", \"reversepriceavg\": 39816.759114583336, \"shock\": 0}, {\"date\": \"2020-02-04T00:00:00\", \"reversepriceavg\": 40575.260416666664, \"shock\": 0}, {\"date\": \"2020-02-05T00:00:00\", \"reversepriceavg\": 41007.66015625, \"shock\": 0}, {\"date\": \"2020-02-06T00:00:00\", \"reversepriceavg\": 41274.856770833336, \"shock\": 0}, {\"date\": \"2020-02-07T00:00:00\", \"reversepriceavg\": 41203.20703125, \"shock\": 0}, {\"date\": \"2020-02-10T00:00:00\", \"reversepriceavg\": 40983.553385416664, \"shock\": 0}, {\"date\": \"2020-02-11T00:00:00\", \"reversepriceavg\": 41279.873697916664, \"shock\": 0}, {\"date\": \"2020-02-12T00:00:00\", \"reversepriceavg\": 41522.869791666664, \"shock\": 0}, {\"date\": \"2020-02-13T00:00:00\", \"reversepriceavg\": 41502.466145833336, \"shock\": 0}, {\"date\": \"2020-02-14T00:00:00\", \"reversepriceavg\": 41381.075520833336, \"shock\": 0}, {\"date\": \"2020-02-17T00:00:00\", \"reversepriceavg\": 41168.869791666664, \"shock\": 0}, {\"date\": \"2020-02-18T00:00:00\", \"reversepriceavg\": 40849.263020833336, \"shock\": 0}, {\"date\": \"2020-02-19T00:00:00\", \"reversepriceavg\": 41243.029947916664, \"shock\": 0}, {\"date\": \"2020-02-20T00:00:00\", \"reversepriceavg\": 41234.786458333336, \"shock\": 0}, {\"date\": \"2020-02-24T00:00:00\", \"reversepriceavg\": 40568.8671875, \"shock\": 0}, {\"date\": \"2020-02-25T00:00:00\", \"reversepriceavg\": 40345.9296875, \"shock\": 0}, {\"date\": \"2020-02-26T00:00:00\", \"reversepriceavg\": 39968.247395833336, \"shock\": 0}, {\"date\": \"2020-02-27T00:00:00\", \"reversepriceavg\": 39705.576822916664, \"shock\": 1}, {\"date\": \"2020-02-28T00:00:00\", \"reversepriceavg\": 38534.908854166664, \"shock\": 0}, {\"date\": \"2020-03-02T00:00:00\", \"reversepriceavg\": 38337.7265625, \"shock\": 0}, {\"date\": \"2020-03-03T00:00:00\", \"reversepriceavg\": 38506.74609375, \"shock\": 0}, {\"date\": \"2020-03-04T00:00:00\", \"reversepriceavg\": 38349.09375, \"shock\": 0}, {\"date\": \"2020-03-05T00:00:00\", \"reversepriceavg\": 38581.696614583336, \"shock\": 1}, {\"date\": \"2020-03-06T00:00:00\", \"reversepriceavg\": 37444.927083333336, \"shock\": 1}, {\"date\": \"2020-03-09T00:00:00\", \"reversepriceavg\": 35898.109375, \"shock\": 0}, {\"date\": \"2020-03-11T00:00:00\", \"reversepriceavg\": 35660.27734375, \"shock\": 1}, {\"date\": \"2020-03-12T00:00:00\", \"reversepriceavg\": 33247.913411458336, \"shock\": 0}, {\"date\": \"2020-03-13T00:00:00\", \"reversepriceavg\": 32753.977213541668, \"shock\": 1}, {\"date\": \"2020-03-16T00:00:00\", \"reversepriceavg\": 31923.203125, \"shock\": 1}, {\"date\": \"2020-03-17T00:00:00\", \"reversepriceavg\": 31007.336588541668, \"shock\": 1}, {\"date\": \"2020-03-18T00:00:00\", \"reversepriceavg\": 29528.110026041668, \"shock\": 1}, {\"date\": \"2020-03-19T00:00:00\", \"reversepriceavg\": 28124.406901041668, \"shock\": 0}, {\"date\": \"2020-03-20T00:00:00\", \"reversepriceavg\": 29422.276692708332, \"shock\": 1}, {\"date\": \"2020-03-23T00:00:00\", \"reversepriceavg\": 26587.633463541668, \"shock\": 0}, {\"date\": \"2020-03-24T00:00:00\", \"reversepriceavg\": 26591.932942708332, \"shock\": 0}, {\"date\": \"2020-03-25T00:00:00\", \"reversepriceavg\": 27895.29296875, \"shock\": 0}, {\"date\": \"2020-03-26T00:00:00\", \"reversepriceavg\": 29537.673177083332, \"shock\": 0}, {\"date\": \"2020-03-27T00:00:00\", \"reversepriceavg\": 30096.203125, \"shock\": 1}, {\"date\": \"2020-03-30T00:00:00\", \"reversepriceavg\": 28742.960286458332, \"shock\": 0}, {\"date\": \"2020-03-31T00:00:00\", \"reversepriceavg\": 29302.243489583332, \"shock\": 1}, {\"date\": \"2020-04-01T00:00:00\", \"reversepriceavg\": 28614.906901041668, \"shock\": 1}, {\"date\": \"2020-04-03T00:00:00\", \"reversepriceavg\": 27910.285807291668, \"shock\": 0}, {\"date\": \"2020-04-07T00:00:00\", \"reversepriceavg\": 29609.057291666668, \"shock\": 0}, {\"date\": \"2020-04-08T00:00:00\", \"reversepriceavg\": 30241.623697916668, \"shock\": 0}, {\"date\": \"2020-04-09T00:00:00\", \"reversepriceavg\": 30935.013020833332, \"shock\": 0}, {\"date\": \"2020-04-13T00:00:00\", \"reversepriceavg\": 30786.630208333332, \"shock\": 0}, {\"date\": \"2020-04-15T00:00:00\", \"reversepriceavg\": 30723.413411458332, \"shock\": 0}, {\"date\": \"2020-04-16T00:00:00\", \"reversepriceavg\": 30472.992838541668, \"shock\": 0}, {\"date\": \"2020-04-17T00:00:00\", \"reversepriceavg\": 31422.796875, \"shock\": 0}, {\"date\": \"2020-04-20T00:00:00\", \"reversepriceavg\": 31731.576822916668, \"shock\": 1}, {\"date\": \"2020-04-21T00:00:00\", \"reversepriceavg\": 30638.36328125, \"shock\": 0}, {\"date\": \"2020-04-22T00:00:00\", \"reversepriceavg\": 31143.080729166668, \"shock\": 0}, {\"date\": \"2020-04-23T00:00:00\", \"reversepriceavg\": 31705.006510416668, \"shock\": 0}, {\"date\": \"2020-04-24T00:00:00\", \"reversepriceavg\": 31482.576822916668, \"shock\": 0}, {\"date\": \"2020-04-27T00:00:00\", \"reversepriceavg\": 31832.786458333332, \"shock\": 0}, {\"date\": \"2020-04-28T00:00:00\", \"reversepriceavg\": 31991.923177083332, \"shock\": 0}, {\"date\": \"2020-04-29T00:00:00\", \"reversepriceavg\": 32596.466796875, \"shock\": 0}, {\"date\": \"2020-04-30T00:00:00\", \"reversepriceavg\": 33653.266927083336, \"shock\": 1}, {\"date\": \"2020-05-04T00:00:00\", \"reversepriceavg\": 32031.836588541668, \"shock\": 0}, {\"date\": \"2020-05-05T00:00:00\", \"reversepriceavg\": 31707.026692708332, \"shock\": 0}, {\"date\": \"2020-05-06T00:00:00\", \"reversepriceavg\": 31605.11328125, \"shock\": 0}, {\"date\": \"2020-05-07T00:00:00\", \"reversepriceavg\": 31503.833333333332, \"shock\": 0}, {\"date\": \"2020-05-08T00:00:00\", \"reversepriceavg\": 31776.402994791668, \"shock\": 0}, {\"date\": \"2020-05-11T00:00:00\", \"reversepriceavg\": 31787.889973958332, \"shock\": 0}, {\"date\": \"2020-05-12T00:00:00\", \"reversepriceavg\": 31250.889973958332, \"shock\": 0}, {\"date\": \"2020-05-13T00:00:00\", \"reversepriceavg\": 32252.003255208332, \"shock\": 1}, {\"date\": \"2020-05-14T00:00:00\", \"reversepriceavg\": 31268.826822916668, \"shock\": 0}, {\"date\": \"2020-05-15T00:00:00\", \"reversepriceavg\": 31054.830078125, \"shock\": 1}, {\"date\": \"2020-05-18T00:00:00\", \"reversepriceavg\": 30415.229817708332, \"shock\": 0}, {\"date\": \"2020-05-19T00:00:00\", \"reversepriceavg\": 30350.983723958332, \"shock\": 0}, {\"date\": \"2020-05-20T00:00:00\", \"reversepriceavg\": 30618.223307291668, \"shock\": 0}, {\"date\": \"2020-05-21T00:00:00\", \"reversepriceavg\": 30962.336588541668, \"shock\": 0}, {\"date\": \"2020-05-22T00:00:00\", \"reversepriceavg\": 30751.793619791668, \"shock\": 0}, {\"date\": \"2020-05-26T00:00:00\", \"reversepriceavg\": 30736.046875, \"shock\": 0}, {\"date\": \"2020-05-27T00:00:00\", \"reversepriceavg\": 31263.833333333332, \"shock\": 0}, {\"date\": \"2020-05-28T00:00:00\", \"reversepriceavg\": 32036.529947916668, \"shock\": 0}, {\"date\": \"2020-05-29T00:00:00\", \"reversepriceavg\": 32242.806640625, \"shock\": 0}, {\"date\": \"2020-06-01T00:00:00\", \"reversepriceavg\": 33284.6328125, \"shock\": 0}, {\"date\": \"2020-06-02T00:00:00\", \"reversepriceavg\": 33664.483072916664, \"shock\": 0}, {\"date\": \"2020-06-03T00:00:00\", \"reversepriceavg\": 34208.576822916664, \"shock\": 0}, {\"date\": \"2020-06-04T00:00:00\", \"reversepriceavg\": 34000.692708333336, \"shock\": 0}, {\"date\": \"2020-06-05T00:00:00\", \"reversepriceavg\": 34216.895833333336, \"shock\": 0}, {\"date\": \"2020-06-08T00:00:00\", \"reversepriceavg\": 34503.40234375, \"shock\": 0}, {\"date\": \"2020-06-09T00:00:00\", \"reversepriceavg\": 34216.390625, \"shock\": 0}, {\"date\": \"2020-06-10T00:00:00\", \"reversepriceavg\": 34182.227864583336, \"shock\": 0}, {\"date\": \"2020-06-11T00:00:00\", \"reversepriceavg\": 33746.061197916664, \"shock\": 0}, {\"date\": \"2020-06-12T00:00:00\", \"reversepriceavg\": 33328.419921875, \"shock\": 0}, {\"date\": \"2020-06-15T00:00:00\", \"reversepriceavg\": 33274.36328125, \"shock\": 0}, {\"date\": \"2020-06-16T00:00:00\", \"reversepriceavg\": 33526.84375, \"shock\": 0}, {\"date\": \"2020-06-17T00:00:00\", \"reversepriceavg\": 33591.514322916664, \"shock\": 0}, {\"date\": \"2020-06-18T00:00:00\", \"reversepriceavg\": 33951.860677083336, \"shock\": 0}, {\"date\": \"2020-06-19T00:00:00\", \"reversepriceavg\": 34572.1640625, \"shock\": 0}, {\"date\": \"2020-06-22T00:00:00\", \"reversepriceavg\": 34973.079427083336, \"shock\": 0}, {\"date\": \"2020-06-23T00:00:00\", \"reversepriceavg\": 35252.09375, \"shock\": 0}, {\"date\": \"2020-06-24T00:00:00\", \"reversepriceavg\": 35123.486979166664, \"shock\": 0}, {\"date\": \"2020-06-25T00:00:00\", \"reversepriceavg\": 34807.830729166664, \"shock\": 0}, {\"date\": \"2020-06-26T00:00:00\", \"reversepriceavg\": 35112.162760416664, \"shock\": 0}, {\"date\": \"2020-06-29T00:00:00\", \"reversepriceavg\": 34885.3125, \"shock\": 0}]}}, {\"mode\": \"vega-lite\"});\n",
              "</script>"
            ]
          },
          "metadata": {
            "tags": []
          },
          "execution_count": 32
        }
      ]
    },
    {
      "cell_type": "markdown",
      "metadata": {
        "id": "AW9L9AgGU7X7"
      },
      "source": [
        "Now, let's begin our Textual Analysis of news from Times of India News Headlines.\n",
        "Let's start by reading the uploaded csv file and assigning to news variable \n",
        "\n",
        "---\n"
      ]
    },
    {
      "cell_type": "code",
      "metadata": {
        "id": "PgtvjPFDVmpu"
      },
      "source": [
        "news  = pd.read_csv('/content/drive/MyDrive/india-news-headlines.csv')"
      ],
      "execution_count": 52,
      "outputs": []
    },
    {
      "cell_type": "code",
      "metadata": {
        "colab": {
          "base_uri": "https://localhost:8080/"
        },
        "id": "IJLUP53saWtO",
        "outputId": "b8d7cb23-20b0-435c-8e17-e2d00c15a5f1"
      },
      "source": [
        "#getting the overview of all the columns in the news dataset\n",
        "news.columns"
      ],
      "execution_count": 53,
      "outputs": [
        {
          "output_type": "execute_result",
          "data": {
            "text/plain": [
              "Index(['publish_date', 'headline_category', 'headline_text'], dtype='object')"
            ]
          },
          "metadata": {
            "tags": []
          },
          "execution_count": 53
        }
      ]
    },
    {
      "cell_type": "code",
      "metadata": {
        "colab": {
          "base_uri": "https://localhost:8080/"
        },
        "id": "Clj99LTZaYHD",
        "outputId": "0fdbdcda-5959-4fb3-9814-c0d2c8db4bc1"
      },
      "source": [
        "#finding the total rows and columns of news dataset\n",
        "news.shape"
      ],
      "execution_count": 54,
      "outputs": [
        {
          "output_type": "execute_result",
          "data": {
            "text/plain": [
              "(3424067, 3)"
            ]
          },
          "metadata": {
            "tags": []
          },
          "execution_count": 54
        }
      ]
    },
    {
      "cell_type": "code",
      "metadata": {
        "colab": {
          "base_uri": "https://localhost:8080/",
          "height": 195
        },
        "id": "L5DhWHDvabMq",
        "outputId": "4ebaca82-0161-4be3-9664-6713f659bb94"
      },
      "source": [
        "news.head()"
      ],
      "execution_count": 55,
      "outputs": [
        {
          "output_type": "execute_result",
          "data": {
            "text/html": [
              "<div>\n",
              "<style scoped>\n",
              "    .dataframe tbody tr th:only-of-type {\n",
              "        vertical-align: middle;\n",
              "    }\n",
              "\n",
              "    .dataframe tbody tr th {\n",
              "        vertical-align: top;\n",
              "    }\n",
              "\n",
              "    .dataframe thead th {\n",
              "        text-align: right;\n",
              "    }\n",
              "</style>\n",
              "<table border=\"1\" class=\"dataframe\">\n",
              "  <thead>\n",
              "    <tr style=\"text-align: right;\">\n",
              "      <th></th>\n",
              "      <th>publish_date</th>\n",
              "      <th>headline_category</th>\n",
              "      <th>headline_text</th>\n",
              "    </tr>\n",
              "  </thead>\n",
              "  <tbody>\n",
              "    <tr>\n",
              "      <th>0</th>\n",
              "      <td>20010102</td>\n",
              "      <td>unknown</td>\n",
              "      <td>Status quo will not be disturbed at Ayodhya; s...</td>\n",
              "    </tr>\n",
              "    <tr>\n",
              "      <th>1</th>\n",
              "      <td>20010102</td>\n",
              "      <td>unknown</td>\n",
              "      <td>Fissures in Hurriyat over Pak visit</td>\n",
              "    </tr>\n",
              "    <tr>\n",
              "      <th>2</th>\n",
              "      <td>20010102</td>\n",
              "      <td>unknown</td>\n",
              "      <td>America's unwanted heading for India?</td>\n",
              "    </tr>\n",
              "    <tr>\n",
              "      <th>3</th>\n",
              "      <td>20010102</td>\n",
              "      <td>unknown</td>\n",
              "      <td>For bigwigs; it is destination Goa</td>\n",
              "    </tr>\n",
              "    <tr>\n",
              "      <th>4</th>\n",
              "      <td>20010102</td>\n",
              "      <td>unknown</td>\n",
              "      <td>Extra buses to clear tourist traffic</td>\n",
              "    </tr>\n",
              "  </tbody>\n",
              "</table>\n",
              "</div>"
            ],
            "text/plain": [
              "   publish_date  ...                                      headline_text\n",
              "0      20010102  ...  Status quo will not be disturbed at Ayodhya; s...\n",
              "1      20010102  ...                Fissures in Hurriyat over Pak visit\n",
              "2      20010102  ...              America's unwanted heading for India?\n",
              "3      20010102  ...                 For bigwigs; it is destination Goa\n",
              "4      20010102  ...               Extra buses to clear tourist traffic\n",
              "\n",
              "[5 rows x 3 columns]"
            ]
          },
          "metadata": {
            "tags": []
          },
          "execution_count": 55
        }
      ]
    },
    {
      "cell_type": "code",
      "metadata": {
        "id": "cq2IKqA9ahOW"
      },
      "source": [
        "#converting publish_date column to \n",
        "news['publish_date'] = pd.to_datetime(news['publish_date'], format = '%Y%m%d')"
      ],
      "execution_count": 37,
      "outputs": []
    },
    {
      "cell_type": "code",
      "metadata": {
        "colab": {
          "base_uri": "https://localhost:8080/"
        },
        "id": "wj-G42eOaocI",
        "outputId": "ebb7f29a-94b9-4788-d27d-459dda617f0d"
      },
      "source": [
        "#getting brief overview of the dataset - number of columns and rows (shape of dataset), \n",
        "#columns names and its dtype, how many non-null values it has and memory usage.\n",
        "news.info()"
      ],
      "execution_count": 38,
      "outputs": [
        {
          "output_type": "stream",
          "text": [
            "<class 'pandas.core.frame.DataFrame'>\n",
            "RangeIndex: 3424067 entries, 0 to 3424066\n",
            "Data columns (total 3 columns):\n",
            " #   Column             Dtype         \n",
            "---  ------             -----         \n",
            " 0   publish_date       datetime64[ns]\n",
            " 1   headline_category  object        \n",
            " 2   headline_text      object        \n",
            "dtypes: datetime64[ns](1), object(2)\n",
            "memory usage: 78.4+ MB\n"
          ],
          "name": "stdout"
        }
      ]
    },
    {
      "cell_type": "code",
      "metadata": {
        "colab": {
          "base_uri": "https://localhost:8080/"
        },
        "id": "BnrIkXRDawIX",
        "outputId": "c9811888-ea3e-488d-97dc-2647f9540d98"
      },
      "source": [
        "#finding unique values in headline_category\n",
        "news['headline_category'].unique()"
      ],
      "execution_count": 39,
      "outputs": [
        {
          "output_type": "execute_result",
          "data": {
            "text/plain": [
              "array(['unknown', 'entertainment.hindi.bollywood', 'india', ...,\n",
              "       'elections.assembly-elections.bihar',\n",
              "       'astrology.horoscope.monthly', 'astrology.numerology-tarot'],\n",
              "      dtype=object)"
            ]
          },
          "metadata": {
            "tags": []
          },
          "execution_count": 39
        }
      ]
    },
    {
      "cell_type": "code",
      "metadata": {
        "colab": {
          "base_uri": "https://localhost:8080/"
        },
        "id": "dTPfLnrLa2oy",
        "outputId": "c0979895-994b-4019-ef96-40d8de70cbb5"
      },
      "source": [
        "#checking all the values count (unique values total count)\n",
        "news['headline_category'].value_counts()"
      ],
      "execution_count": 40,
      "outputs": [
        {
          "output_type": "execute_result",
          "data": {
            "text/plain": [
              "india                                   288541\n",
              "unknown                                 209582\n",
              "city.mumbai                             134428\n",
              "city.delhi                              127717\n",
              "business.india-business                 116761\n",
              "                                         ...  \n",
              "scorecard-and-statistics                     8\n",
              "sports.tennis.top-stories.tennis-atp         8\n",
              "profiles.india-profiles                      8\n",
              "himachal-pradesh                             8\n",
              "mahindra-cars                                8\n",
              "Name: headline_category, Length: 1013, dtype: int64"
            ]
          },
          "metadata": {
            "tags": []
          },
          "execution_count": 40
        }
      ]
    },
    {
      "cell_type": "code",
      "metadata": {
        "colab": {
          "base_uri": "https://localhost:8080/"
        },
        "id": "Kj0G6x7kcGTP",
        "outputId": "0b774007-e251-427f-b4ff-fd3a0e2a16cb"
      },
      "source": [
        "#total unique values count\n",
        "news['headline_category'].value_counts().count()"
      ],
      "execution_count": 41,
      "outputs": [
        {
          "output_type": "execute_result",
          "data": {
            "text/plain": [
              "1013"
            ]
          },
          "metadata": {
            "tags": []
          },
          "execution_count": 41
        }
      ]
    },
    {
      "cell_type": "code",
      "metadata": {
        "colab": {
          "base_uri": "https://localhost:8080/"
        },
        "id": "0Fy20XvfcNz7",
        "outputId": "cf03508f-b8a5-4355-b180-f82b2d4962c1"
      },
      "source": [
        "#checking all the values count (unique values total count)\n",
        "news['headline_text'].value_counts()"
      ],
      "execution_count": 42,
      "outputs": [
        {
          "output_type": "execute_result",
          "data": {
            "text/plain": [
              "Straight Answers                                                              6723\n",
              "Cartoons                                                                      1536\n",
              "Straight answers                                                              1500\n",
              "Photogallery                                                                  1353\n",
              "Your say                                                                      1012\n",
              "                                                                              ... \n",
              "Lead India: 'Why politics when I'd rather get a promotion?'                      1\n",
              "Molest charge against 'BJP men' who attacked JU student; friend                  1\n",
              "End to airport waterlogging woes?                                                1\n",
              "Divya Drishti written update; July 20; 2019: Drishti and Divya save Simran       1\n",
              "Partition museum to preserve a memory almost lost                                1\n",
              "Name: headline_text, Length: 3168800, dtype: int64"
            ]
          },
          "metadata": {
            "tags": []
          },
          "execution_count": 42
        }
      ]
    },
    {
      "cell_type": "code",
      "metadata": {
        "colab": {
          "base_uri": "https://localhost:8080/"
        },
        "id": "Y9GTJDx9cST1",
        "outputId": "b74c30ca-fe01-4ad7-ebfe-d6a0f1102cfe"
      },
      "source": [
        "#total unique values count\n",
        "news['headline_text'].value_counts().count()"
      ],
      "execution_count": 43,
      "outputs": [
        {
          "output_type": "execute_result",
          "data": {
            "text/plain": [
              "3168800"
            ]
          },
          "metadata": {
            "tags": []
          },
          "execution_count": 43
        }
      ]
    },
    {
      "cell_type": "code",
      "metadata": {
        "colab": {
          "base_uri": "https://localhost:8080/"
        },
        "id": "N1r1quKvcYLP",
        "outputId": "b3930436-9501-4bc2-b2b4-b2ebdd9fa141"
      },
      "source": [
        "#finding if any null values are present\n",
        "news.isnull().sum().sum()"
      ],
      "execution_count": 44,
      "outputs": [
        {
          "output_type": "execute_result",
          "data": {
            "text/plain": [
              "0"
            ]
          },
          "metadata": {
            "tags": []
          },
          "execution_count": 44
        }
      ]
    },
    {
      "cell_type": "code",
      "metadata": {
        "colab": {
          "base_uri": "https://localhost:8080/"
        },
        "id": "HsRip03Ecb6s",
        "outputId": "d0240784-8e96-49a5-82fb-890b6ef0be67"
      },
      "source": [
        "#finding if any duplicate values are present\n",
        "news.duplicated().sum()"
      ],
      "execution_count": 45,
      "outputs": [
        {
          "output_type": "execute_result",
          "data": {
            "text/plain": [
              "24191"
            ]
          },
          "metadata": {
            "tags": []
          },
          "execution_count": 45
        }
      ]
    },
    {
      "cell_type": "code",
      "metadata": {
        "colab": {
          "base_uri": "https://localhost:8080/",
          "height": 402
        },
        "id": "qMltcMX0cidx",
        "outputId": "c1295874-77b8-498c-b005-79991b54ed95"
      },
      "source": [
        "#sorting the dataset to delete the duplicates, to make duplicates come together one after another. The sorted dataset index values are also changed\n",
        "cols = list(news.columns)\n",
        "news.sort_values(by=cols, inplace=True, ignore_index=True)\n",
        "news[news.duplicated(keep=False)]"
      ],
      "execution_count": 46,
      "outputs": [
        {
          "output_type": "execute_result",
          "data": {
            "text/html": [
              "<div>\n",
              "<style scoped>\n",
              "    .dataframe tbody tr th:only-of-type {\n",
              "        vertical-align: middle;\n",
              "    }\n",
              "\n",
              "    .dataframe tbody tr th {\n",
              "        vertical-align: top;\n",
              "    }\n",
              "\n",
              "    .dataframe thead th {\n",
              "        text-align: right;\n",
              "    }\n",
              "</style>\n",
              "<table border=\"1\" class=\"dataframe\">\n",
              "  <thead>\n",
              "    <tr style=\"text-align: right;\">\n",
              "      <th></th>\n",
              "      <th>publish_date</th>\n",
              "      <th>headline_category</th>\n",
              "      <th>headline_text</th>\n",
              "    </tr>\n",
              "  </thead>\n",
              "  <tbody>\n",
              "    <tr>\n",
              "      <th>3</th>\n",
              "      <td>2001-01-02</td>\n",
              "      <td>unknown</td>\n",
              "      <td>America's unwanted heading for India?</td>\n",
              "    </tr>\n",
              "    <tr>\n",
              "      <th>4</th>\n",
              "      <td>2001-01-02</td>\n",
              "      <td>unknown</td>\n",
              "      <td>America's unwanted heading for India?</td>\n",
              "    </tr>\n",
              "    <tr>\n",
              "      <th>5</th>\n",
              "      <td>2001-01-02</td>\n",
              "      <td>unknown</td>\n",
              "      <td>America's unwanted heading for India?</td>\n",
              "    </tr>\n",
              "    <tr>\n",
              "      <th>6</th>\n",
              "      <td>2001-01-02</td>\n",
              "      <td>unknown</td>\n",
              "      <td>America's unwanted heading for India?</td>\n",
              "    </tr>\n",
              "    <tr>\n",
              "      <th>9</th>\n",
              "      <td>2001-01-02</td>\n",
              "      <td>unknown</td>\n",
              "      <td>BBC's reality TV will focus on AIIMS</td>\n",
              "    </tr>\n",
              "    <tr>\n",
              "      <th>...</th>\n",
              "      <td>...</td>\n",
              "      <td>...</td>\n",
              "      <td>...</td>\n",
              "    </tr>\n",
              "    <tr>\n",
              "      <th>3421893</th>\n",
              "      <td>2020-12-27</td>\n",
              "      <td>city.nagpur</td>\n",
              "      <td>Govt forcing helpless sr citizens to fight leg...</td>\n",
              "    </tr>\n",
              "    <tr>\n",
              "      <th>3422119</th>\n",
              "      <td>2020-12-28</td>\n",
              "      <td>city.bareilly</td>\n",
              "      <td>Rampur's Hunar Haat a platform for artisans fr...</td>\n",
              "    </tr>\n",
              "    <tr>\n",
              "      <th>3422120</th>\n",
              "      <td>2020-12-28</td>\n",
              "      <td>city.bareilly</td>\n",
              "      <td>Rampur's Hunar Haat a platform for artisans fr...</td>\n",
              "    </tr>\n",
              "    <tr>\n",
              "      <th>3422956</th>\n",
              "      <td>2020-12-29</td>\n",
              "      <td>city.pune</td>\n",
              "      <td>PMC to draft separate DP after 23 villages' me...</td>\n",
              "    </tr>\n",
              "    <tr>\n",
              "      <th>3422957</th>\n",
              "      <td>2020-12-29</td>\n",
              "      <td>city.pune</td>\n",
              "      <td>PMC to draft separate DP after 23 villages' me...</td>\n",
              "    </tr>\n",
              "  </tbody>\n",
              "</table>\n",
              "<p>46130 rows × 3 columns</p>\n",
              "</div>"
            ],
            "text/plain": [
              "        publish_date  ...                                      headline_text\n",
              "3         2001-01-02  ...              America's unwanted heading for India?\n",
              "4         2001-01-02  ...              America's unwanted heading for India?\n",
              "5         2001-01-02  ...              America's unwanted heading for India?\n",
              "6         2001-01-02  ...              America's unwanted heading for India?\n",
              "9         2001-01-02  ...               BBC's reality TV will focus on AIIMS\n",
              "...              ...  ...                                                ...\n",
              "3421893   2020-12-27  ...  Govt forcing helpless sr citizens to fight leg...\n",
              "3422119   2020-12-28  ...  Rampur's Hunar Haat a platform for artisans fr...\n",
              "3422120   2020-12-28  ...  Rampur's Hunar Haat a platform for artisans fr...\n",
              "3422956   2020-12-29  ...  PMC to draft separate DP after 23 villages' me...\n",
              "3422957   2020-12-29  ...  PMC to draft separate DP after 23 villages' me...\n",
              "\n",
              "[46130 rows x 3 columns]"
            ]
          },
          "metadata": {
            "tags": []
          },
          "execution_count": 46
        }
      ]
    },
    {
      "cell_type": "code",
      "metadata": {
        "colab": {
          "base_uri": "https://localhost:8080/"
        },
        "id": "Emq8tPPzcs-c",
        "outputId": "1d298afd-8fba-4bff-a6eb-f2f6b8aea4bc"
      },
      "source": [
        "#dropping the duplicates only keeping the last value (ordinally last row from sorted) of each duplicates\n",
        "news.drop_duplicates(keep='last', inplace=True, ignore_index=True)\n",
        "#re-checking everything worked well with drop_duplicates() carried out earlier on the dataset\n",
        "news.duplicated().sum()"
      ],
      "execution_count": 47,
      "outputs": [
        {
          "output_type": "execute_result",
          "data": {
            "text/plain": [
              "0"
            ]
          },
          "metadata": {
            "tags": []
          },
          "execution_count": 47
        }
      ]
    },
    {
      "cell_type": "code",
      "metadata": {
        "id": "obhuBjEgc1tQ"
      },
      "source": [
        "from textblob import TextBlob\n",
        "#getting a list of unique dates in publish_date column\n",
        "lst = news['publish_date'].value_counts().index.tolist()"
      ],
      "execution_count": 48,
      "outputs": []
    },
    {
      "cell_type": "code",
      "metadata": {
        "id": "H-KHwqLMfHXf"
      },
      "source": [
        "#concatenating all the headline_text column values of same date in publish_date column\n",
        "new = []\n",
        "for x in lst:\n",
        "  df = news.loc[news['publish_date'] == x]\n",
        "  headlinetext = ''\n",
        "  publishdate = str(x)\n",
        "  headlinetext = df['headline_text'].iloc[0]\n",
        "  for i in range(1 , len(df)):\n",
        "    headlinetext = headlinetext + '. '+ df['headline_text'].iloc[i]  \n",
        "  new.append(headlinetext)"
      ],
      "execution_count": 49,
      "outputs": []
    },
    {
      "cell_type": "code",
      "metadata": {
        "id": "j3Ou-tBDfjUW"
      },
      "source": [
        "#creating a new dataset\n",
        "newsdf = pd.DataFrame({'publish_date': lst, 'headline_text' : new})"
      ],
      "execution_count": 50,
      "outputs": []
    },
    {
      "cell_type": "code",
      "metadata": {
        "colab": {
          "base_uri": "https://localhost:8080/",
          "height": 195
        },
        "id": "hdCSgfmbfsFw",
        "outputId": "5ac7cef3-02ec-439d-c224-5ec790fb6e0b"
      },
      "source": [
        "#sorting the dataset based on dates\n",
        "newsdf.sort_values(by='publish_date', inplace=True, ignore_index=True)\n",
        "newsdf.head()"
      ],
      "execution_count": 51,
      "outputs": [
        {
          "output_type": "execute_result",
          "data": {
            "text/html": [
              "<div>\n",
              "<style scoped>\n",
              "    .dataframe tbody tr th:only-of-type {\n",
              "        vertical-align: middle;\n",
              "    }\n",
              "\n",
              "    .dataframe tbody tr th {\n",
              "        vertical-align: top;\n",
              "    }\n",
              "\n",
              "    .dataframe thead th {\n",
              "        text-align: right;\n",
              "    }\n",
              "</style>\n",
              "<table border=\"1\" class=\"dataframe\">\n",
              "  <thead>\n",
              "    <tr style=\"text-align: right;\">\n",
              "      <th></th>\n",
              "      <th>publish_date</th>\n",
              "      <th>headline_text</th>\n",
              "    </tr>\n",
              "  </thead>\n",
              "  <tbody>\n",
              "    <tr>\n",
              "      <th>0</th>\n",
              "      <td>2001-01-02</td>\n",
              "      <td>Raju Chacha. A noisy effort to spruce up Comme...</td>\n",
              "    </tr>\n",
              "    <tr>\n",
              "      <th>1</th>\n",
              "      <td>2001-01-03</td>\n",
              "      <td>'Devdas': Jinxed?. 10-year-old girl missing. 3...</td>\n",
              "    </tr>\n",
              "    <tr>\n",
              "      <th>2</th>\n",
              "      <td>2001-01-04</td>\n",
              "      <td>Car dealers caught in Bihar sales tax ruling. ...</td>\n",
              "    </tr>\n",
              "    <tr>\n",
              "      <th>3</th>\n",
              "      <td>2001-01-05</td>\n",
              "      <td>Nepal won't allow anti-India activities: Envoy...</td>\n",
              "    </tr>\n",
              "    <tr>\n",
              "      <th>4</th>\n",
              "      <td>2001-01-06</td>\n",
              "      <td>Anti-immigration think-tank berates Clinton re...</td>\n",
              "    </tr>\n",
              "  </tbody>\n",
              "</table>\n",
              "</div>"
            ],
            "text/plain": [
              "  publish_date                                      headline_text\n",
              "0   2001-01-02  Raju Chacha. A noisy effort to spruce up Comme...\n",
              "1   2001-01-03  'Devdas': Jinxed?. 10-year-old girl missing. 3...\n",
              "2   2001-01-04  Car dealers caught in Bihar sales tax ruling. ...\n",
              "3   2001-01-05  Nepal won't allow anti-India activities: Envoy...\n",
              "4   2001-01-06  Anti-immigration think-tank berates Clinton re..."
            ]
          },
          "metadata": {
            "tags": []
          },
          "execution_count": 51
        }
      ]
    },
    {
      "cell_type": "markdown",
      "metadata": {
        "id": "fflvsVa4gCCH"
      },
      "source": [
        "We can calculate the sentiment using TextBlob. Based on the polarity, we determine whether it is a positive text or negative or neutral. For TextBlog, if the polarity is more than 0, it is considered positive, if it is less than 0 then it is considered negative and if it ia=s equal to 0 is considered neutral. Subjectivity quantifies the amount of personal opinion and factual information contained in the text. The higher subjectivity means that the text contains personal opinion rather than factual information."
      ]
    },
    {
      "cell_type": "code",
      "metadata": {
        "colab": {
          "base_uri": "https://localhost:8080/",
          "height": 195
        },
        "id": "IsVNN1V2f0D_",
        "outputId": "32902bc9-2236-4ce7-b8ec-e33227f54fab"
      },
      "source": [
        "polarity = []\n",
        "subjectivity = []\n",
        "for idx, row in newsdf.iterrows():\n",
        "  polarity.append(TextBlob(row['headline_text']).sentiment[0])\n",
        "  subjectivity.append(TextBlob(row['headline_text']).sentiment[1])\n",
        "newsdf['polarity'] = polarity\n",
        "newsdf['subjectivity'] = subjectivity\n",
        "newsdf.head()"
      ],
      "execution_count": 56,
      "outputs": [
        {
          "output_type": "execute_result",
          "data": {
            "text/html": [
              "<div>\n",
              "<style scoped>\n",
              "    .dataframe tbody tr th:only-of-type {\n",
              "        vertical-align: middle;\n",
              "    }\n",
              "\n",
              "    .dataframe tbody tr th {\n",
              "        vertical-align: top;\n",
              "    }\n",
              "\n",
              "    .dataframe thead th {\n",
              "        text-align: right;\n",
              "    }\n",
              "</style>\n",
              "<table border=\"1\" class=\"dataframe\">\n",
              "  <thead>\n",
              "    <tr style=\"text-align: right;\">\n",
              "      <th></th>\n",
              "      <th>publish_date</th>\n",
              "      <th>headline_text</th>\n",
              "      <th>polarity</th>\n",
              "      <th>subjectivity</th>\n",
              "    </tr>\n",
              "  </thead>\n",
              "  <tbody>\n",
              "    <tr>\n",
              "      <th>0</th>\n",
              "      <td>2001-01-02</td>\n",
              "      <td>Raju Chacha. A noisy effort to spruce up Comme...</td>\n",
              "      <td>0.193519</td>\n",
              "      <td>0.293056</td>\n",
              "    </tr>\n",
              "    <tr>\n",
              "      <th>1</th>\n",
              "      <td>2001-01-03</td>\n",
              "      <td>'Devdas': Jinxed?. 10-year-old girl missing. 3...</td>\n",
              "      <td>0.088462</td>\n",
              "      <td>0.407692</td>\n",
              "    </tr>\n",
              "    <tr>\n",
              "      <th>2</th>\n",
              "      <td>2001-01-04</td>\n",
              "      <td>Car dealers caught in Bihar sales tax ruling. ...</td>\n",
              "      <td>0.091426</td>\n",
              "      <td>0.481895</td>\n",
              "    </tr>\n",
              "    <tr>\n",
              "      <th>3</th>\n",
              "      <td>2001-01-05</td>\n",
              "      <td>Nepal won't allow anti-India activities: Envoy...</td>\n",
              "      <td>0.257415</td>\n",
              "      <td>0.465542</td>\n",
              "    </tr>\n",
              "    <tr>\n",
              "      <th>4</th>\n",
              "      <td>2001-01-06</td>\n",
              "      <td>Anti-immigration think-tank berates Clinton re...</td>\n",
              "      <td>0.219481</td>\n",
              "      <td>0.464935</td>\n",
              "    </tr>\n",
              "  </tbody>\n",
              "</table>\n",
              "</div>"
            ],
            "text/plain": [
              "  publish_date  ... subjectivity\n",
              "0   2001-01-02  ...     0.293056\n",
              "1   2001-01-03  ...     0.407692\n",
              "2   2001-01-04  ...     0.481895\n",
              "3   2001-01-05  ...     0.465542\n",
              "4   2001-01-06  ...     0.464935\n",
              "\n",
              "[5 rows x 4 columns]"
            ]
          },
          "metadata": {
            "tags": []
          },
          "execution_count": 56
        }
      ]
    },
    {
      "cell_type": "code",
      "metadata": {
        "colab": {
          "base_uri": "https://localhost:8080/"
        },
        "id": "2Xy7S8k_u31D",
        "outputId": "e47a2d78-a14c-464e-ec35-b655f6585cd9"
      },
      "source": [
        "#finding if any null values are present\n",
        "newsdf.isnull().sum().sum()"
      ],
      "execution_count": 57,
      "outputs": [
        {
          "output_type": "execute_result",
          "data": {
            "text/plain": [
              "0"
            ]
          },
          "metadata": {
            "tags": []
          },
          "execution_count": 57
        }
      ]
    },
    {
      "cell_type": "code",
      "metadata": {
        "id": "DmEqE1m_u7iG"
      },
      "source": [
        "#renameing the publish_date to date so it will help us during joining this dataset with bse_data dataset\n",
        "newsdf.rename(columns={'publish_date': 'date'}, inplace = True)"
      ],
      "execution_count": 58,
      "outputs": []
    },
    {
      "cell_type": "code",
      "metadata": {
        "id": "aMlYo3HCu84k"
      },
      "source": [
        "#selecting required columns\n",
        "newsdf = newsdf.filter(['date', 'polarity', 'subjectivity'], axis=1)"
      ],
      "execution_count": 59,
      "outputs": []
    },
    {
      "cell_type": "code",
      "metadata": {
        "id": "FvsF_QGxvIpY"
      },
      "source": [
        "bse_data = pd.merge(bse_data, newsdf, how='left', on=['date'])\n",
        "bse_data = bse_data.drop([\"polarity_x\", \"subjectivity_x\", \"polarity_y\", \"subjectivity_y\"], axis=1)"
      ],
      "execution_count": 72,
      "outputs": []
    },
    {
      "cell_type": "code",
      "metadata": {
        "colab": {
          "base_uri": "https://localhost:8080/",
          "height": 195
        },
        "id": "kV0ULIgz0WxE",
        "outputId": "1e9c0e57-7438-448c-d209-6f2b564453a5"
      },
      "source": [
        "bse_data.head()"
      ],
      "execution_count": 73,
      "outputs": [
        {
          "output_type": "execute_result",
          "data": {
            "text/html": [
              "<div>\n",
              "<style scoped>\n",
              "    .dataframe tbody tr th:only-of-type {\n",
              "        vertical-align: middle;\n",
              "    }\n",
              "\n",
              "    .dataframe tbody tr th {\n",
              "        vertical-align: top;\n",
              "    }\n",
              "\n",
              "    .dataframe thead th {\n",
              "        text-align: right;\n",
              "    }\n",
              "</style>\n",
              "<table border=\"1\" class=\"dataframe\">\n",
              "  <thead>\n",
              "    <tr style=\"text-align: right;\">\n",
              "      <th></th>\n",
              "      <th>date</th>\n",
              "      <th>open</th>\n",
              "      <th>high</th>\n",
              "      <th>low</th>\n",
              "      <th>close</th>\n",
              "      <th>adjclose</th>\n",
              "      <th>volume</th>\n",
              "      <th>polarity</th>\n",
              "      <th>subjectivity</th>\n",
              "    </tr>\n",
              "  </thead>\n",
              "  <tbody>\n",
              "    <tr>\n",
              "      <th>0</th>\n",
              "      <td>2015-01-02</td>\n",
              "      <td>27521.279297</td>\n",
              "      <td>27937.470703</td>\n",
              "      <td>27519.259766</td>\n",
              "      <td>27887.900391</td>\n",
              "      <td>27887.900391</td>\n",
              "      <td>7400</td>\n",
              "      <td>0.055586</td>\n",
              "      <td>0.455251</td>\n",
              "    </tr>\n",
              "    <tr>\n",
              "      <th>1</th>\n",
              "      <td>2015-01-05</td>\n",
              "      <td>27978.429688</td>\n",
              "      <td>28064.490234</td>\n",
              "      <td>27786.849609</td>\n",
              "      <td>27842.320312</td>\n",
              "      <td>27842.320312</td>\n",
              "      <td>9200</td>\n",
              "      <td>0.100081</td>\n",
              "      <td>0.433132</td>\n",
              "    </tr>\n",
              "    <tr>\n",
              "      <th>2</th>\n",
              "      <td>2015-01-06</td>\n",
              "      <td>27694.230469</td>\n",
              "      <td>27698.929688</td>\n",
              "      <td>26937.060547</td>\n",
              "      <td>26987.460938</td>\n",
              "      <td>26987.460938</td>\n",
              "      <td>14100</td>\n",
              "      <td>0.055802</td>\n",
              "      <td>0.386579</td>\n",
              "    </tr>\n",
              "    <tr>\n",
              "      <th>3</th>\n",
              "      <td>2015-01-07</td>\n",
              "      <td>26983.429688</td>\n",
              "      <td>27051.599609</td>\n",
              "      <td>26776.119141</td>\n",
              "      <td>26908.820312</td>\n",
              "      <td>26908.820312</td>\n",
              "      <td>12200</td>\n",
              "      <td>0.034707</td>\n",
              "      <td>0.386916</td>\n",
              "    </tr>\n",
              "    <tr>\n",
              "      <th>4</th>\n",
              "      <td>2015-01-08</td>\n",
              "      <td>27178.769531</td>\n",
              "      <td>27316.410156</td>\n",
              "      <td>27101.939453</td>\n",
              "      <td>27274.710938</td>\n",
              "      <td>27274.710938</td>\n",
              "      <td>8200</td>\n",
              "      <td>0.060173</td>\n",
              "      <td>0.408416</td>\n",
              "    </tr>\n",
              "  </tbody>\n",
              "</table>\n",
              "</div>"
            ],
            "text/plain": [
              "        date          open          high  ...  volume  polarity  subjectivity\n",
              "0 2015-01-02  27521.279297  27937.470703  ...    7400  0.055586      0.455251\n",
              "1 2015-01-05  27978.429688  28064.490234  ...    9200  0.100081      0.433132\n",
              "2 2015-01-06  27694.230469  27698.929688  ...   14100  0.055802      0.386579\n",
              "3 2015-01-07  26983.429688  27051.599609  ...   12200  0.034707      0.386916\n",
              "4 2015-01-08  27178.769531  27316.410156  ...    8200  0.060173      0.408416\n",
              "\n",
              "[5 rows x 9 columns]"
            ]
          },
          "metadata": {
            "tags": []
          },
          "execution_count": 73
        }
      ]
    },
    {
      "cell_type": "markdown",
      "metadata": {
        "id": "xBFCw3znvRCA"
      },
      "source": [
        "Now that we finished the EDA for the dataset, we are going to prepare it for the ML task\n",
        "\n",
        "---\n",
        "\n"
      ]
    },
    {
      "cell_type": "code",
      "metadata": {
        "colab": {
          "base_uri": "https://localhost:8080/",
          "height": 195
        },
        "id": "FPgo6bo5xO5t",
        "outputId": "cfb9423c-eda0-49dd-9956-a8a924054e2a"
      },
      "source": [
        "bse_data.tail()"
      ],
      "execution_count": 74,
      "outputs": [
        {
          "output_type": "execute_result",
          "data": {
            "text/html": [
              "<div>\n",
              "<style scoped>\n",
              "    .dataframe tbody tr th:only-of-type {\n",
              "        vertical-align: middle;\n",
              "    }\n",
              "\n",
              "    .dataframe tbody tr th {\n",
              "        vertical-align: top;\n",
              "    }\n",
              "\n",
              "    .dataframe thead th {\n",
              "        text-align: right;\n",
              "    }\n",
              "</style>\n",
              "<table border=\"1\" class=\"dataframe\">\n",
              "  <thead>\n",
              "    <tr style=\"text-align: right;\">\n",
              "      <th></th>\n",
              "      <th>date</th>\n",
              "      <th>open</th>\n",
              "      <th>high</th>\n",
              "      <th>low</th>\n",
              "      <th>close</th>\n",
              "      <th>adjclose</th>\n",
              "      <th>volume</th>\n",
              "      <th>polarity</th>\n",
              "      <th>subjectivity</th>\n",
              "    </tr>\n",
              "  </thead>\n",
              "  <tbody>\n",
              "    <tr>\n",
              "      <th>1340</th>\n",
              "      <td>2020-06-23</td>\n",
              "      <td>35015.730469</td>\n",
              "      <td>35482.160156</td>\n",
              "      <td>34843.691406</td>\n",
              "      <td>35430.429688</td>\n",
              "      <td>35430.429688</td>\n",
              "      <td>25200</td>\n",
              "      <td>0.067428</td>\n",
              "      <td>0.370002</td>\n",
              "    </tr>\n",
              "    <tr>\n",
              "      <th>1341</th>\n",
              "      <td>2020-06-24</td>\n",
              "      <td>35679.738281</td>\n",
              "      <td>35706.550781</td>\n",
              "      <td>34794.929688</td>\n",
              "      <td>34868.980469</td>\n",
              "      <td>34868.980469</td>\n",
              "      <td>26600</td>\n",
              "      <td>0.088329</td>\n",
              "      <td>0.387802</td>\n",
              "    </tr>\n",
              "    <tr>\n",
              "      <th>1342</th>\n",
              "      <td>2020-06-25</td>\n",
              "      <td>34525.390625</td>\n",
              "      <td>35081.609375</td>\n",
              "      <td>34499.781250</td>\n",
              "      <td>34842.101562</td>\n",
              "      <td>34842.101562</td>\n",
              "      <td>24600</td>\n",
              "      <td>0.023232</td>\n",
              "      <td>0.401736</td>\n",
              "    </tr>\n",
              "    <tr>\n",
              "      <th>1343</th>\n",
              "      <td>2020-06-26</td>\n",
              "      <td>35144.781250</td>\n",
              "      <td>35254.878906</td>\n",
              "      <td>34910.339844</td>\n",
              "      <td>35171.269531</td>\n",
              "      <td>35171.269531</td>\n",
              "      <td>24800</td>\n",
              "      <td>0.069594</td>\n",
              "      <td>0.381331</td>\n",
              "    </tr>\n",
              "    <tr>\n",
              "      <th>1344</th>\n",
              "      <td>2020-06-29</td>\n",
              "      <td>34926.949219</td>\n",
              "      <td>35032.359375</td>\n",
              "      <td>34662.058594</td>\n",
              "      <td>34961.519531</td>\n",
              "      <td>34961.519531</td>\n",
              "      <td>18300</td>\n",
              "      <td>0.056935</td>\n",
              "      <td>0.387858</td>\n",
              "    </tr>\n",
              "  </tbody>\n",
              "</table>\n",
              "</div>"
            ],
            "text/plain": [
              "           date          open          high  ...  volume  polarity  subjectivity\n",
              "1340 2020-06-23  35015.730469  35482.160156  ...   25200  0.067428      0.370002\n",
              "1341 2020-06-24  35679.738281  35706.550781  ...   26600  0.088329      0.387802\n",
              "1342 2020-06-25  34525.390625  35081.609375  ...   24600  0.023232      0.401736\n",
              "1343 2020-06-26  35144.781250  35254.878906  ...   24800  0.069594      0.381331\n",
              "1344 2020-06-29  34926.949219  35032.359375  ...   18300  0.056935      0.387858\n",
              "\n",
              "[5 rows x 9 columns]"
            ]
          },
          "metadata": {
            "tags": []
          },
          "execution_count": 74
        }
      ]
    },
    {
      "cell_type": "markdown",
      "metadata": {
        "id": "q77mpE8PvtJe"
      },
      "source": [
        "We will be adding new row for 30th June 2020 (price to be predicted of this day) to main dataset to get average values of all the columns for this day\n",
        "We are taking average because we don't know the values of all the columns for tomorrow so to predict we need average for independent variable.\n",
        "We will separate this row later from this main dataset so we can use this as prediction of unseen data for tomorrow and then tally it with actual data from \n",
        "unseenbse_data dataset which we have downloaded too for 30th June 2020 actual values\n",
        "\n",
        "---\n",
        "\n"
      ]
    },
    {
      "cell_type": "code",
      "metadata": {
        "id": "txPP3xw9wWiP"
      },
      "source": [
        "bse_data.loc[len(bse_data)] = ['2020-06-30', bse_data['open'].mean(), bse_data['high'].mean(), bse_data['low'].mean(),\n",
        "                       bse_data['close'].mean(), bse_data['adjclose'].mean(), bse_data['volume'].median(), newsdf['polarity'].mean(), \n",
        "                       newsdf['subjectivity'].mean() ]"
      ],
      "execution_count": 75,
      "outputs": []
    },
    {
      "cell_type": "code",
      "metadata": {
        "colab": {
          "base_uri": "https://localhost:8080/",
          "height": 195
        },
        "id": "gN2WcHAG0wle",
        "outputId": "eb4b9202-18fb-46cb-dcdd-fba16d6e6da8"
      },
      "source": [
        "#converting date from object dtype to datetime dtype\n",
        "bse_data['date'] = pd.to_datetime(bse_data['date'], format=\"%Y-%m-%d\")\n",
        "bse_data.tail()"
      ],
      "execution_count": 76,
      "outputs": [
        {
          "output_type": "execute_result",
          "data": {
            "text/html": [
              "<div>\n",
              "<style scoped>\n",
              "    .dataframe tbody tr th:only-of-type {\n",
              "        vertical-align: middle;\n",
              "    }\n",
              "\n",
              "    .dataframe tbody tr th {\n",
              "        vertical-align: top;\n",
              "    }\n",
              "\n",
              "    .dataframe thead th {\n",
              "        text-align: right;\n",
              "    }\n",
              "</style>\n",
              "<table border=\"1\" class=\"dataframe\">\n",
              "  <thead>\n",
              "    <tr style=\"text-align: right;\">\n",
              "      <th></th>\n",
              "      <th>date</th>\n",
              "      <th>open</th>\n",
              "      <th>high</th>\n",
              "      <th>low</th>\n",
              "      <th>close</th>\n",
              "      <th>adjclose</th>\n",
              "      <th>volume</th>\n",
              "      <th>polarity</th>\n",
              "      <th>subjectivity</th>\n",
              "    </tr>\n",
              "  </thead>\n",
              "  <tbody>\n",
              "    <tr>\n",
              "      <th>1341</th>\n",
              "      <td>2020-06-24</td>\n",
              "      <td>35679.738281</td>\n",
              "      <td>35706.550781</td>\n",
              "      <td>34794.929688</td>\n",
              "      <td>34868.980469</td>\n",
              "      <td>34868.980469</td>\n",
              "      <td>26600.0</td>\n",
              "      <td>0.088329</td>\n",
              "      <td>0.387802</td>\n",
              "    </tr>\n",
              "    <tr>\n",
              "      <th>1342</th>\n",
              "      <td>2020-06-25</td>\n",
              "      <td>34525.390625</td>\n",
              "      <td>35081.609375</td>\n",
              "      <td>34499.781250</td>\n",
              "      <td>34842.101562</td>\n",
              "      <td>34842.101562</td>\n",
              "      <td>24600.0</td>\n",
              "      <td>0.023232</td>\n",
              "      <td>0.401736</td>\n",
              "    </tr>\n",
              "    <tr>\n",
              "      <th>1343</th>\n",
              "      <td>2020-06-26</td>\n",
              "      <td>35144.781250</td>\n",
              "      <td>35254.878906</td>\n",
              "      <td>34910.339844</td>\n",
              "      <td>35171.269531</td>\n",
              "      <td>35171.269531</td>\n",
              "      <td>24800.0</td>\n",
              "      <td>0.069594</td>\n",
              "      <td>0.381331</td>\n",
              "    </tr>\n",
              "    <tr>\n",
              "      <th>1344</th>\n",
              "      <td>2020-06-29</td>\n",
              "      <td>34926.949219</td>\n",
              "      <td>35032.359375</td>\n",
              "      <td>34662.058594</td>\n",
              "      <td>34961.519531</td>\n",
              "      <td>34961.519531</td>\n",
              "      <td>18300.0</td>\n",
              "      <td>0.056935</td>\n",
              "      <td>0.387858</td>\n",
              "    </tr>\n",
              "    <tr>\n",
              "      <th>1345</th>\n",
              "      <td>2020-06-30</td>\n",
              "      <td>32032.534800</td>\n",
              "      <td>32180.642524</td>\n",
              "      <td>31806.772791</td>\n",
              "      <td>31984.237075</td>\n",
              "      <td>31984.237075</td>\n",
              "      <td>12700.0</td>\n",
              "      <td>0.069503</td>\n",
              "      <td>0.403839</td>\n",
              "    </tr>\n",
              "  </tbody>\n",
              "</table>\n",
              "</div>"
            ],
            "text/plain": [
              "           date          open          high  ...   volume  polarity  subjectivity\n",
              "1341 2020-06-24  35679.738281  35706.550781  ...  26600.0  0.088329      0.387802\n",
              "1342 2020-06-25  34525.390625  35081.609375  ...  24600.0  0.023232      0.401736\n",
              "1343 2020-06-26  35144.781250  35254.878906  ...  24800.0  0.069594      0.381331\n",
              "1344 2020-06-29  34926.949219  35032.359375  ...  18300.0  0.056935      0.387858\n",
              "1345 2020-06-30  32032.534800  32180.642524  ...  12700.0  0.069503      0.403839\n",
              "\n",
              "[5 rows x 9 columns]"
            ]
          },
          "metadata": {
            "tags": []
          },
          "execution_count": 76
        }
      ]
    },
    {
      "cell_type": "code",
      "metadata": {
        "id": "in1ktwdl1FCr"
      },
      "source": [
        "bse_data[\"month\"] = bse_data['date'].dt.month\n",
        "bse_data[\"day\"] = bse_data['date'].dt.day\n",
        "bse_data[\"dayofweek\"] = bse_data['date'].dt.dayofweek\n",
        "bse_data[\"week\"] = bse_data['date'].dt.week\n",
        "bse_data['movingavg4weeks'] = round(bse_data['close'].rolling(window=(4*5), min_periods = 1).mean().shift(),2)\n",
        "bse_data['movingavg16weeks'] = round(bse_data['close'].rolling(window=(16*5), min_periods = 1).mean().shift(),2) #add 12 weeks to 4 weeks \n",
        "bse_data['movingavg28weeks'] = round(bse_data['close'].rolling(window=(28*5), min_periods = 1).mean().shift(),2) #add 12 weeks to 16 weeks\n",
        "bse_data['movingavg40weeks'] = round(bse_data['close'].rolling(window=(40*5), min_periods = 1).mean().shift(),2) #add 12 weeks to 28 weeks\n",
        "bse_data['movingavg52weeks'] = round(bse_data['close'].rolling(window=(52*5), min_periods = 1).mean().shift(),2)  #add 12 weeks to 40 weeks\n",
        "bse_data['window10days'] = round(bse_data['close'].rolling(window = 10, min_periods = 1).mean().shift(),2)  \n",
        "bse_data['window50days'] = round(bse_data['close'].rolling(window = 50, min_periods = 1).mean().shift(),2)\n",
        "bse_data['volumeshock'] = round(boolean_shock(10, bse_data, 'volume').reset_index()['shock'], 2)\n",
        "bse_data['closeshock2'] = round(reverseboolean_shock(2, bse_data, 'close').reset_index()['shock'], 2)\n",
        "bse_data['closeshock5'] = round(reverseboolean_shock(5, bse_data, 'close').reset_index()['shock'],2)\n",
        "bse_data['closeshock10'] = round(reverseboolean_shock(10, bse_data, 'close').reset_index()['shock'], 2)\n",
        "bse_data['priceshock'] = round(priceboolean_shock(10, bse_data).reset_index()['shock'], 2)\n",
        "bse_data['reversebooleanshock2'] = round(reverseboolean_shock(2, bse_data, 'close').reset_index()['shock'], 2)\n",
        "bse_data['reversebooleanshock5'] = round(reverseboolean_shock(5, bse_data, 'close').reset_index()['shock'], 2)\n",
        "bse_data['pricereverseshock2'] = round(pricereverseboolean_shock(2, bse_data).reset_index()['shock'], 2)\n",
        "bse_data['polarity'] = round(bse_data['polarity'] , 2)\n",
        "bse_data['subjectivity'] = round(bse_data['subjectivity'] , 2)\n",
        "bse_data['price'] = round((bse_data['high'] + bse_data['low'] + bse_data['close']) / 3 , 2)\n",
        "bse_data['close'] = round(bse_data['close'] , 2)"
      ],
      "execution_count": 77,
      "outputs": []
    },
    {
      "cell_type": "code",
      "metadata": {
        "colab": {
          "base_uri": "https://localhost:8080/"
        },
        "id": "gRpfi7T32P9H",
        "outputId": "cfaf2f9d-6cf1-43e2-caa3-b47889cefa2a"
      },
      "source": [
        "bse_data.columns"
      ],
      "execution_count": 78,
      "outputs": [
        {
          "output_type": "execute_result",
          "data": {
            "text/plain": [
              "Index(['date', 'open', 'high', 'low', 'close', 'adjclose', 'volume',\n",
              "       'polarity', 'subjectivity', 'month', 'day', 'dayofweek', 'week',\n",
              "       'movingavg4weeks', 'movingavg16weeks', 'movingavg28weeks',\n",
              "       'movingavg40weeks', 'movingavg52weeks', 'window10days', 'window50days',\n",
              "       'volumeshock', 'closeshock2', 'closeshock5', 'closeshock10',\n",
              "       'priceshock', 'reversebooleanshock2', 'reversebooleanshock5',\n",
              "       'pricereverseshock2', 'price'],\n",
              "      dtype='object')"
            ]
          },
          "metadata": {
            "tags": []
          },
          "execution_count": 78
        }
      ]
    },
    {
      "cell_type": "code",
      "metadata": {
        "id": "sv_PN57l2ZXo"
      },
      "source": [
        "#fillinf the null columns\n",
        "bse_data.fillna(method = 'bfill', inplace = True)"
      ],
      "execution_count": 79,
      "outputs": []
    },
    {
      "cell_type": "code",
      "metadata": {
        "id": "rXln5Wcv2bNR"
      },
      "source": [
        "#fillinf the null columns\n",
        "bse_data.fillna(method = 'ffill', inplace = True)"
      ],
      "execution_count": 80,
      "outputs": []
    },
    {
      "cell_type": "code",
      "metadata": {
        "colab": {
          "base_uri": "https://localhost:8080/"
        },
        "id": "jQ9IU56i2d1r",
        "outputId": "1dac3553-d404-4595-d6f9-cda3ea04d34a"
      },
      "source": [
        "#finding if any null values are present\n",
        "bse_data.isnull().sum().sum()"
      ],
      "execution_count": 81,
      "outputs": [
        {
          "output_type": "execute_result",
          "data": {
            "text/plain": [
              "0"
            ]
          },
          "metadata": {
            "tags": []
          },
          "execution_count": 81
        }
      ]
    },
    {
      "cell_type": "code",
      "metadata": {
        "id": "8uOxfy8k2ifC"
      },
      "source": [
        "#selecting specific columns\n",
        "bse_data = bse_data.filter(['month', 'day', 'dayofweek', 'week',\n",
        "       'movingavg4weeks', 'movingavg16weeks', 'movingavg28weeks',\n",
        "       'movingavg40weeks', 'movingavg52weeks', 'window10days', 'window50days',\n",
        "       'volumeshock', 'closeshock2', 'closeshock5', 'closeshock10',\n",
        "       'priceshock', 'reversebooleanshock2', 'reversebooleanshock5',\n",
        "       'pricereverseshock2', 'polarity', 'subjectivity', 'price', 'close'], axis=1)"
      ],
      "execution_count": 82,
      "outputs": []
    },
    {
      "cell_type": "code",
      "metadata": {
        "colab": {
          "base_uri": "https://localhost:8080/",
          "height": 215
        },
        "id": "M_LrJD5I2uaF",
        "outputId": "a37c0881-e5fb-4638-d4e1-3e2afd1ffe42"
      },
      "source": [
        "bse_data.tail()"
      ],
      "execution_count": 84,
      "outputs": [
        {
          "output_type": "execute_result",
          "data": {
            "text/html": [
              "<div>\n",
              "<style scoped>\n",
              "    .dataframe tbody tr th:only-of-type {\n",
              "        vertical-align: middle;\n",
              "    }\n",
              "\n",
              "    .dataframe tbody tr th {\n",
              "        vertical-align: top;\n",
              "    }\n",
              "\n",
              "    .dataframe thead th {\n",
              "        text-align: right;\n",
              "    }\n",
              "</style>\n",
              "<table border=\"1\" class=\"dataframe\">\n",
              "  <thead>\n",
              "    <tr style=\"text-align: right;\">\n",
              "      <th></th>\n",
              "      <th>month</th>\n",
              "      <th>day</th>\n",
              "      <th>dayofweek</th>\n",
              "      <th>week</th>\n",
              "      <th>movingavg4weeks</th>\n",
              "      <th>movingavg16weeks</th>\n",
              "      <th>movingavg28weeks</th>\n",
              "      <th>movingavg40weeks</th>\n",
              "      <th>movingavg52weeks</th>\n",
              "      <th>window10days</th>\n",
              "      <th>window50days</th>\n",
              "      <th>volumeshock</th>\n",
              "      <th>closeshock2</th>\n",
              "      <th>closeshock5</th>\n",
              "      <th>closeshock10</th>\n",
              "      <th>priceshock</th>\n",
              "      <th>reversebooleanshock2</th>\n",
              "      <th>reversebooleanshock5</th>\n",
              "      <th>pricereverseshock2</th>\n",
              "      <th>polarity</th>\n",
              "      <th>subjectivity</th>\n",
              "      <th>price</th>\n",
              "      <th>close</th>\n",
              "    </tr>\n",
              "  </thead>\n",
              "  <tbody>\n",
              "    <tr>\n",
              "      <th>1341</th>\n",
              "      <td>6</td>\n",
              "      <td>24</td>\n",
              "      <td>2</td>\n",
              "      <td>26</td>\n",
              "      <td>33762.67</td>\n",
              "      <td>32586.53</td>\n",
              "      <td>36265.58</td>\n",
              "      <td>37002.15</td>\n",
              "      <td>37367.90</td>\n",
              "      <td>34118.98</td>\n",
              "      <td>32303.70</td>\n",
              "      <td>0.0</td>\n",
              "      <td>0.0</td>\n",
              "      <td>0.0</td>\n",
              "      <td>0.0</td>\n",
              "      <td>0</td>\n",
              "      <td>0.0</td>\n",
              "      <td>0.0</td>\n",
              "      <td>0</td>\n",
              "      <td>0.09</td>\n",
              "      <td>0.39</td>\n",
              "      <td>35123.49</td>\n",
              "      <td>34868.98</td>\n",
              "    </tr>\n",
              "    <tr>\n",
              "      <th>1342</th>\n",
              "      <td>6</td>\n",
              "      <td>25</td>\n",
              "      <td>3</td>\n",
              "      <td>26</td>\n",
              "      <td>33925.86</td>\n",
              "      <td>32517.85</td>\n",
              "      <td>36221.64</td>\n",
              "      <td>36989.02</td>\n",
              "      <td>37350.08</td>\n",
              "      <td>34181.17</td>\n",
              "      <td>32377.89</td>\n",
              "      <td>0.0</td>\n",
              "      <td>0.0</td>\n",
              "      <td>0.0</td>\n",
              "      <td>0.0</td>\n",
              "      <td>0</td>\n",
              "      <td>0.0</td>\n",
              "      <td>0.0</td>\n",
              "      <td>0</td>\n",
              "      <td>0.02</td>\n",
              "      <td>0.40</td>\n",
              "      <td>34807.83</td>\n",
              "      <td>34842.10</td>\n",
              "    </tr>\n",
              "    <tr>\n",
              "      <th>1343</th>\n",
              "      <td>6</td>\n",
              "      <td>26</td>\n",
              "      <td>4</td>\n",
              "      <td>26</td>\n",
              "      <td>34057.94</td>\n",
              "      <td>32449.86</td>\n",
              "      <td>36176.72</td>\n",
              "      <td>36975.03</td>\n",
              "      <td>37330.89</td>\n",
              "      <td>34311.54</td>\n",
              "      <td>32460.93</td>\n",
              "      <td>0.0</td>\n",
              "      <td>0.0</td>\n",
              "      <td>0.0</td>\n",
              "      <td>0.0</td>\n",
              "      <td>0</td>\n",
              "      <td>0.0</td>\n",
              "      <td>0.0</td>\n",
              "      <td>0</td>\n",
              "      <td>0.07</td>\n",
              "      <td>0.38</td>\n",
              "      <td>35112.16</td>\n",
              "      <td>35171.27</td>\n",
              "    </tr>\n",
              "    <tr>\n",
              "      <th>1344</th>\n",
              "      <td>6</td>\n",
              "      <td>29</td>\n",
              "      <td>0</td>\n",
              "      <td>27</td>\n",
              "      <td>34195.30</td>\n",
              "      <td>32390.89</td>\n",
              "      <td>36136.56</td>\n",
              "      <td>36963.62</td>\n",
              "      <td>37313.42</td>\n",
              "      <td>34450.58</td>\n",
              "      <td>32556.76</td>\n",
              "      <td>0.0</td>\n",
              "      <td>1.0</td>\n",
              "      <td>1.0</td>\n",
              "      <td>0.0</td>\n",
              "      <td>0</td>\n",
              "      <td>1.0</td>\n",
              "      <td>1.0</td>\n",
              "      <td>1</td>\n",
              "      <td>0.06</td>\n",
              "      <td>0.39</td>\n",
              "      <td>34885.31</td>\n",
              "      <td>34961.52</td>\n",
              "    </tr>\n",
              "    <tr>\n",
              "      <th>1345</th>\n",
              "      <td>6</td>\n",
              "      <td>30</td>\n",
              "      <td>1</td>\n",
              "      <td>27</td>\n",
              "      <td>34278.20</td>\n",
              "      <td>32331.09</td>\n",
              "      <td>36094.84</td>\n",
              "      <td>36953.09</td>\n",
              "      <td>37293.01</td>\n",
              "      <td>34623.85</td>\n",
              "      <td>32643.94</td>\n",
              "      <td>0.0</td>\n",
              "      <td>1.0</td>\n",
              "      <td>1.0</td>\n",
              "      <td>0.0</td>\n",
              "      <td>0</td>\n",
              "      <td>1.0</td>\n",
              "      <td>1.0</td>\n",
              "      <td>0</td>\n",
              "      <td>0.07</td>\n",
              "      <td>0.40</td>\n",
              "      <td>31990.55</td>\n",
              "      <td>31984.24</td>\n",
              "    </tr>\n",
              "  </tbody>\n",
              "</table>\n",
              "</div>"
            ],
            "text/plain": [
              "      month  day  dayofweek  week  ...  polarity  subjectivity     price     close\n",
              "1341      6   24          2    26  ...      0.09          0.39  35123.49  34868.98\n",
              "1342      6   25          3    26  ...      0.02          0.40  34807.83  34842.10\n",
              "1343      6   26          4    26  ...      0.07          0.38  35112.16  35171.27\n",
              "1344      6   29          0    27  ...      0.06          0.39  34885.31  34961.52\n",
              "1345      6   30          1    27  ...      0.07          0.40  31990.55  31984.24\n",
              "\n",
              "[5 rows x 23 columns]"
            ]
          },
          "metadata": {
            "tags": []
          },
          "execution_count": 84
        }
      ]
    },
    {
      "cell_type": "code",
      "metadata": {
        "id": "ZdJasbYG2oJB"
      },
      "source": [
        "#separating the predicted date row from main dataset after getting all the calculated average values\n",
        "main_bsedata = bse_data.iloc[:1345,:].reset_index()  \n",
        "newtestunseen_bsedata = bse_data.iloc[1345:,:].reset_index() "
      ],
      "execution_count": 83,
      "outputs": []
    },
    {
      "cell_type": "code",
      "metadata": {
        "colab": {
          "base_uri": "https://localhost:8080/",
          "height": 215
        },
        "id": "_Xa4ZCgz27W1",
        "outputId": "b822c3a1-5aa6-406f-ac9d-42dfe6aa075c"
      },
      "source": [
        "main_bsedata.tail()"
      ],
      "execution_count": 85,
      "outputs": [
        {
          "output_type": "execute_result",
          "data": {
            "text/html": [
              "<div>\n",
              "<style scoped>\n",
              "    .dataframe tbody tr th:only-of-type {\n",
              "        vertical-align: middle;\n",
              "    }\n",
              "\n",
              "    .dataframe tbody tr th {\n",
              "        vertical-align: top;\n",
              "    }\n",
              "\n",
              "    .dataframe thead th {\n",
              "        text-align: right;\n",
              "    }\n",
              "</style>\n",
              "<table border=\"1\" class=\"dataframe\">\n",
              "  <thead>\n",
              "    <tr style=\"text-align: right;\">\n",
              "      <th></th>\n",
              "      <th>index</th>\n",
              "      <th>month</th>\n",
              "      <th>day</th>\n",
              "      <th>dayofweek</th>\n",
              "      <th>week</th>\n",
              "      <th>movingavg4weeks</th>\n",
              "      <th>movingavg16weeks</th>\n",
              "      <th>movingavg28weeks</th>\n",
              "      <th>movingavg40weeks</th>\n",
              "      <th>movingavg52weeks</th>\n",
              "      <th>window10days</th>\n",
              "      <th>window50days</th>\n",
              "      <th>volumeshock</th>\n",
              "      <th>closeshock2</th>\n",
              "      <th>closeshock5</th>\n",
              "      <th>closeshock10</th>\n",
              "      <th>priceshock</th>\n",
              "      <th>reversebooleanshock2</th>\n",
              "      <th>reversebooleanshock5</th>\n",
              "      <th>pricereverseshock2</th>\n",
              "      <th>polarity</th>\n",
              "      <th>subjectivity</th>\n",
              "      <th>price</th>\n",
              "      <th>close</th>\n",
              "    </tr>\n",
              "  </thead>\n",
              "  <tbody>\n",
              "    <tr>\n",
              "      <th>1340</th>\n",
              "      <td>1340</td>\n",
              "      <td>6</td>\n",
              "      <td>23</td>\n",
              "      <td>1</td>\n",
              "      <td>26</td>\n",
              "      <td>33521.62</td>\n",
              "      <td>32658.27</td>\n",
              "      <td>36304.08</td>\n",
              "      <td>37008.50</td>\n",
              "      <td>37384.51</td>\n",
              "      <td>33971.60</td>\n",
              "      <td>32192.97</td>\n",
              "      <td>0.0</td>\n",
              "      <td>0.0</td>\n",
              "      <td>0.0</td>\n",
              "      <td>0.0</td>\n",
              "      <td>0</td>\n",
              "      <td>0.0</td>\n",
              "      <td>0.0</td>\n",
              "      <td>0</td>\n",
              "      <td>0.07</td>\n",
              "      <td>0.37</td>\n",
              "      <td>35252.09</td>\n",
              "      <td>35430.43</td>\n",
              "    </tr>\n",
              "    <tr>\n",
              "      <th>1341</th>\n",
              "      <td>1341</td>\n",
              "      <td>6</td>\n",
              "      <td>24</td>\n",
              "      <td>2</td>\n",
              "      <td>26</td>\n",
              "      <td>33762.67</td>\n",
              "      <td>32586.53</td>\n",
              "      <td>36265.58</td>\n",
              "      <td>37002.15</td>\n",
              "      <td>37367.90</td>\n",
              "      <td>34118.98</td>\n",
              "      <td>32303.70</td>\n",
              "      <td>0.0</td>\n",
              "      <td>0.0</td>\n",
              "      <td>0.0</td>\n",
              "      <td>0.0</td>\n",
              "      <td>0</td>\n",
              "      <td>0.0</td>\n",
              "      <td>0.0</td>\n",
              "      <td>0</td>\n",
              "      <td>0.09</td>\n",
              "      <td>0.39</td>\n",
              "      <td>35123.49</td>\n",
              "      <td>34868.98</td>\n",
              "    </tr>\n",
              "    <tr>\n",
              "      <th>1342</th>\n",
              "      <td>1342</td>\n",
              "      <td>6</td>\n",
              "      <td>25</td>\n",
              "      <td>3</td>\n",
              "      <td>26</td>\n",
              "      <td>33925.86</td>\n",
              "      <td>32517.85</td>\n",
              "      <td>36221.64</td>\n",
              "      <td>36989.02</td>\n",
              "      <td>37350.08</td>\n",
              "      <td>34181.17</td>\n",
              "      <td>32377.89</td>\n",
              "      <td>0.0</td>\n",
              "      <td>0.0</td>\n",
              "      <td>0.0</td>\n",
              "      <td>0.0</td>\n",
              "      <td>0</td>\n",
              "      <td>0.0</td>\n",
              "      <td>0.0</td>\n",
              "      <td>0</td>\n",
              "      <td>0.02</td>\n",
              "      <td>0.40</td>\n",
              "      <td>34807.83</td>\n",
              "      <td>34842.10</td>\n",
              "    </tr>\n",
              "    <tr>\n",
              "      <th>1343</th>\n",
              "      <td>1343</td>\n",
              "      <td>6</td>\n",
              "      <td>26</td>\n",
              "      <td>4</td>\n",
              "      <td>26</td>\n",
              "      <td>34057.94</td>\n",
              "      <td>32449.86</td>\n",
              "      <td>36176.72</td>\n",
              "      <td>36975.03</td>\n",
              "      <td>37330.89</td>\n",
              "      <td>34311.54</td>\n",
              "      <td>32460.93</td>\n",
              "      <td>0.0</td>\n",
              "      <td>0.0</td>\n",
              "      <td>0.0</td>\n",
              "      <td>0.0</td>\n",
              "      <td>0</td>\n",
              "      <td>0.0</td>\n",
              "      <td>0.0</td>\n",
              "      <td>0</td>\n",
              "      <td>0.07</td>\n",
              "      <td>0.38</td>\n",
              "      <td>35112.16</td>\n",
              "      <td>35171.27</td>\n",
              "    </tr>\n",
              "    <tr>\n",
              "      <th>1344</th>\n",
              "      <td>1344</td>\n",
              "      <td>6</td>\n",
              "      <td>29</td>\n",
              "      <td>0</td>\n",
              "      <td>27</td>\n",
              "      <td>34195.30</td>\n",
              "      <td>32390.89</td>\n",
              "      <td>36136.56</td>\n",
              "      <td>36963.62</td>\n",
              "      <td>37313.42</td>\n",
              "      <td>34450.58</td>\n",
              "      <td>32556.76</td>\n",
              "      <td>0.0</td>\n",
              "      <td>1.0</td>\n",
              "      <td>1.0</td>\n",
              "      <td>0.0</td>\n",
              "      <td>0</td>\n",
              "      <td>1.0</td>\n",
              "      <td>1.0</td>\n",
              "      <td>1</td>\n",
              "      <td>0.06</td>\n",
              "      <td>0.39</td>\n",
              "      <td>34885.31</td>\n",
              "      <td>34961.52</td>\n",
              "    </tr>\n",
              "  </tbody>\n",
              "</table>\n",
              "</div>"
            ],
            "text/plain": [
              "      index  month  day  dayofweek  ...  polarity  subjectivity     price     close\n",
              "1340   1340      6   23          1  ...      0.07          0.37  35252.09  35430.43\n",
              "1341   1341      6   24          2  ...      0.09          0.39  35123.49  34868.98\n",
              "1342   1342      6   25          3  ...      0.02          0.40  34807.83  34842.10\n",
              "1343   1343      6   26          4  ...      0.07          0.38  35112.16  35171.27\n",
              "1344   1344      6   29          0  ...      0.06          0.39  34885.31  34961.52\n",
              "\n",
              "[5 rows x 24 columns]"
            ]
          },
          "metadata": {
            "tags": []
          },
          "execution_count": 85
        }
      ]
    },
    {
      "cell_type": "code",
      "metadata": {
        "colab": {
          "base_uri": "https://localhost:8080/",
          "height": 97
        },
        "id": "Lqf-oeWW29YD",
        "outputId": "186850b7-c1a5-4738-d976-47f3afd0c2f0"
      },
      "source": [
        "newtestunseen_bsedata.head()"
      ],
      "execution_count": 86,
      "outputs": [
        {
          "output_type": "execute_result",
          "data": {
            "text/html": [
              "<div>\n",
              "<style scoped>\n",
              "    .dataframe tbody tr th:only-of-type {\n",
              "        vertical-align: middle;\n",
              "    }\n",
              "\n",
              "    .dataframe tbody tr th {\n",
              "        vertical-align: top;\n",
              "    }\n",
              "\n",
              "    .dataframe thead th {\n",
              "        text-align: right;\n",
              "    }\n",
              "</style>\n",
              "<table border=\"1\" class=\"dataframe\">\n",
              "  <thead>\n",
              "    <tr style=\"text-align: right;\">\n",
              "      <th></th>\n",
              "      <th>index</th>\n",
              "      <th>month</th>\n",
              "      <th>day</th>\n",
              "      <th>dayofweek</th>\n",
              "      <th>week</th>\n",
              "      <th>movingavg4weeks</th>\n",
              "      <th>movingavg16weeks</th>\n",
              "      <th>movingavg28weeks</th>\n",
              "      <th>movingavg40weeks</th>\n",
              "      <th>movingavg52weeks</th>\n",
              "      <th>window10days</th>\n",
              "      <th>window50days</th>\n",
              "      <th>volumeshock</th>\n",
              "      <th>closeshock2</th>\n",
              "      <th>closeshock5</th>\n",
              "      <th>closeshock10</th>\n",
              "      <th>priceshock</th>\n",
              "      <th>reversebooleanshock2</th>\n",
              "      <th>reversebooleanshock5</th>\n",
              "      <th>pricereverseshock2</th>\n",
              "      <th>polarity</th>\n",
              "      <th>subjectivity</th>\n",
              "      <th>price</th>\n",
              "      <th>close</th>\n",
              "    </tr>\n",
              "  </thead>\n",
              "  <tbody>\n",
              "    <tr>\n",
              "      <th>0</th>\n",
              "      <td>1345</td>\n",
              "      <td>6</td>\n",
              "      <td>30</td>\n",
              "      <td>1</td>\n",
              "      <td>27</td>\n",
              "      <td>34278.2</td>\n",
              "      <td>32331.09</td>\n",
              "      <td>36094.84</td>\n",
              "      <td>36953.09</td>\n",
              "      <td>37293.01</td>\n",
              "      <td>34623.85</td>\n",
              "      <td>32643.94</td>\n",
              "      <td>0.0</td>\n",
              "      <td>1.0</td>\n",
              "      <td>1.0</td>\n",
              "      <td>0.0</td>\n",
              "      <td>0</td>\n",
              "      <td>1.0</td>\n",
              "      <td>1.0</td>\n",
              "      <td>0</td>\n",
              "      <td>0.07</td>\n",
              "      <td>0.4</td>\n",
              "      <td>31990.55</td>\n",
              "      <td>31984.24</td>\n",
              "    </tr>\n",
              "  </tbody>\n",
              "</table>\n",
              "</div>"
            ],
            "text/plain": [
              "   index  month  day  dayofweek  ...  polarity  subjectivity     price     close\n",
              "0   1345      6   30          1  ...      0.07           0.4  31990.55  31984.24\n",
              "\n",
              "[1 rows x 24 columns]"
            ]
          },
          "metadata": {
            "tags": []
          },
          "execution_count": 86
        }
      ]
    },
    {
      "cell_type": "markdown",
      "metadata": {
        "id": "hAg3KstL3Gr7"
      },
      "source": [
        "Now, let's train the model and predict the price of tomorrow 30th June 2020\n",
        "\n",
        "---\n",
        "\n"
      ]
    },
    {
      "cell_type": "code",
      "metadata": {
        "id": "qGpc8Aet3CLB"
      },
      "source": [
        "X = main_bsedata.drop(['price','close'], axis = 1)\n",
        "y = main_bsedata[['price','close']]\n",
        "Xnewtestunseen = newtestunseen_bsedata.drop(['price','close'], axis = 1)\n",
        "ynewtestunseen_ans = newtestunseen_bsedata[['price','close']]"
      ],
      "execution_count": 87,
      "outputs": []
    },
    {
      "cell_type": "code",
      "metadata": {
        "colab": {
          "base_uri": "https://localhost:8080/"
        },
        "id": "BHb4XeVx3SjW",
        "outputId": "206977e0-0acd-4542-cfa4-d9a1ac262eba"
      },
      "source": [
        "X.shape, y.shape"
      ],
      "execution_count": 90,
      "outputs": [
        {
          "output_type": "execute_result",
          "data": {
            "text/plain": [
              "((1345, 22), (1345, 2))"
            ]
          },
          "metadata": {
            "tags": []
          },
          "execution_count": 90
        }
      ]
    },
    {
      "cell_type": "code",
      "metadata": {
        "id": "0IrL_Map3Ujd"
      },
      "source": [
        "split = ShuffleSplit(n_splits=10, test_size=0.2, random_state=42)\n",
        "for train_index, test_index in split.split(X, y):\n",
        "  X_train, X_test = X.iloc[train_index], X.iloc[test_index]\n",
        "  y_train, y_test = y.iloc[train_index], y.iloc[test_index]"
      ],
      "execution_count": 91,
      "outputs": []
    },
    {
      "cell_type": "markdown",
      "metadata": {
        "id": "YXQilF0r3lpi"
      },
      "source": [
        "There are two ways to predict values of two columns one is\n",
        "\n",
        "* Direct Multioutput Regression:\n",
        "\n",
        "It involves seperating each target variable as independent regression problem, that is here it presumably assumes the outputs to be independent of each other.\n",
        "\n",
        "* Chained Multioutput Regression:\n",
        "\n",
        "It involves creating a series of regression models from single output regression model, that is the first model in the sequence uses the input and predicts one output then the second model uses the input and the output from the first model to make a prediction and it goes on depending on the number of target variables.\n",
        "\n",
        "In this case Chained Multioutput Regression will be more appropriate option as the stock price ((high+low+close)/3) and closing price are interdependent.\n",
        "\n",
        "---\n",
        "\n"
      ]
    },
    {
      "cell_type": "code",
      "metadata": {
        "id": "beICeSpQ3hLa"
      },
      "source": [
        "rfg = RandomForestRegressor(random_state = 42, n_estimators = 500, criterion='mse', max_depth = 30, min_samples_leaf=2, min_samples_split=5, n_jobs=1)"
      ],
      "execution_count": 92,
      "outputs": []
    },
    {
      "cell_type": "code",
      "metadata": {
        "colab": {
          "base_uri": "https://localhost:8080/"
        },
        "id": "lwXbWsVA39-y",
        "outputId": "db95b4f0-b86d-4d4c-8041-79e98ace9e11"
      },
      "source": [
        "chainedmodel = RegressorChain(rfg)\n",
        "chainedmodel.fit(X_train, y_train)"
      ],
      "execution_count": 93,
      "outputs": [
        {
          "output_type": "execute_result",
          "data": {
            "text/plain": [
              "RegressorChain(base_estimator=RandomForestRegressor(bootstrap=True,\n",
              "                                                    ccp_alpha=0.0,\n",
              "                                                    criterion='mse',\n",
              "                                                    max_depth=30,\n",
              "                                                    max_features='auto',\n",
              "                                                    max_leaf_nodes=None,\n",
              "                                                    max_samples=None,\n",
              "                                                    min_impurity_decrease=0.0,\n",
              "                                                    min_impurity_split=None,\n",
              "                                                    min_samples_leaf=2,\n",
              "                                                    min_samples_split=5,\n",
              "                                                    min_weight_fraction_leaf=0.0,\n",
              "                                                    n_estimators=500, n_jobs=1,\n",
              "                                                    oob_score=False,\n",
              "                                                    random_state=42, verbose=0,\n",
              "                                                    warm_start=False),\n",
              "               cv=None, order=None, random_state=None)"
            ]
          },
          "metadata": {
            "tags": []
          },
          "execution_count": 93
        }
      ]
    },
    {
      "cell_type": "code",
      "metadata": {
        "id": "TclkSwrH4Bwy"
      },
      "source": [
        "pred = chainedmodel.predict(X_test)\n",
        "roundpred = []\n",
        "for x in range(len(pred)):\n",
        "  roundpred.append([round(pred[x][0], 2),round(pred[x][1], 2) ])"
      ],
      "execution_count": 94,
      "outputs": []
    },
    {
      "cell_type": "code",
      "metadata": {
        "colab": {
          "base_uri": "https://localhost:8080/"
        },
        "id": "PZkB8VDJ4GlD",
        "outputId": "207007c5-d901-4ee1-ad28-20700da24709"
      },
      "source": [
        "r2_score(y_test, roundpred) "
      ],
      "execution_count": 95,
      "outputs": [
        {
          "output_type": "execute_result",
          "data": {
            "text/plain": [
              "0.9946337613559171"
            ]
          },
          "metadata": {
            "tags": []
          },
          "execution_count": 95
        }
      ]
    },
    {
      "cell_type": "code",
      "metadata": {
        "colab": {
          "base_uri": "https://localhost:8080/"
        },
        "id": "at0BSQ2w4MVr",
        "outputId": "f818b48e-ce80-4e80-9bb7-7997901f8b16"
      },
      "source": [
        "#evaluating the performance of the model\n",
        "#MAE\n",
        "print('MAE')\n",
        "print(mean_absolute_error(y_test, roundpred), end='\\n')\n",
        "#MSE\n",
        "print('MSE')\n",
        "print(mean_squared_error(y_test, roundpred), end='\\n')\n",
        "#RMSE\n",
        "print('RMSE')\n",
        "print(np.sqrt(mean_squared_error(y_test, roundpred)))"
      ],
      "execution_count": 96,
      "outputs": [
        {
          "output_type": "stream",
          "text": [
            "MAE\n",
            "256.34442379182144\n",
            "MSE\n",
            "130058.0266204461\n",
            "RMSE\n",
            "360.6355870133258\n"
          ],
          "name": "stdout"
        }
      ]
    },
    {
      "cell_type": "code",
      "metadata": {
        "colab": {
          "base_uri": "https://localhost:8080/"
        },
        "id": "hUpjIRlP4SRB",
        "outputId": "b82dde5e-6384-4194-e30d-6efa1992df5b"
      },
      "source": [
        "pred_newtestunseen = chainedmodel.predict(Xnewtestunseen)\n",
        "[(round(pred_newtestunseen[0][0], 2)),(round(pred_newtestunseen[0][1], 2))]"
      ],
      "execution_count": 97,
      "outputs": [
        {
          "output_type": "execute_result",
          "data": {
            "text/plain": [
              "[35080.53, 34989.02]"
            ]
          },
          "metadata": {
            "tags": []
          },
          "execution_count": 97
        }
      ]
    },
    {
      "cell_type": "code",
      "metadata": {
        "colab": {
          "base_uri": "https://localhost:8080/"
        },
        "id": "dXlvWPir4Y93",
        "outputId": "f3c450a4-c05c-4335-8cb3-2575d942a7c1"
      },
      "source": [
        "ynewtestunseen_ans  #used average of high, low, close, volume to calculate price ((high+low+close)/3) and close value\n",
        "[unseenbsedata_price[0] , round(unseenbse_data['close'],2)[0]] #actual price ((high+low+close)/3) calculated earlier and the closing price"
      ],
      "execution_count": 98,
      "outputs": [
        {
          "output_type": "execute_result",
          "data": {
            "text/plain": [
              "[34987.50390625, 34915.8]"
            ]
          },
          "metadata": {
            "tags": []
          },
          "execution_count": 98
        }
      ]
    },
    {
      "cell_type": "markdown",
      "metadata": {
        "id": "9tepYcpA4sOw"
      },
      "source": [
        "Yeey! We can see that the model predicted for 30th June 2020 the price ((high+low+close)/3) i.e the average of high, low, close of BSE index to be 35020.02 and closing price to be 34955.46\n",
        "\n",
        "And the actual price ((high+low+close)/3) i.e the average of high, low, close of BSE index on day 30th June 2020 was 34987.5, and closing price was 34915.8\n",
        "\n",
        "So as seen above our model has done a very good prediction\n",
        "\n",
        "---\n",
        "\n"
      ]
    }
  ]
}